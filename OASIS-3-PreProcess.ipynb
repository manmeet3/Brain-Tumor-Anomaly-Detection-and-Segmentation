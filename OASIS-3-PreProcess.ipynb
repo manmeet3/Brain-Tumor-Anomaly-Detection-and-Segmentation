{
  "nbformat": 4,
  "nbformat_minor": 0,
  "metadata": {
    "colab": {
      "name": "OASIS-3-PreProcess.ipynb",
      "provenance": [],
      "collapsed_sections": []
    },
    "kernelspec": {
      "name": "python3",
      "display_name": "Python 3"
    }
  },
  "cells": [
    {
      "cell_type": "code",
      "metadata": {
        "id": "IFC-QRUKoEzW"
      },
      "source": [
        "import pandas as pd"
      ],
      "execution_count": 6,
      "outputs": []
    },
    {
      "cell_type": "code",
      "metadata": {
        "colab": {
          "base_uri": "https://localhost:8080/"
        },
        "id": "4gjq2A1QTBAB",
        "outputId": "e65595c5-14f9-4115-f1e0-12dffdfc675e"
      },
      "source": [
        "from google.colab import drive\r\n",
        "drive.mount('/content/drive')"
      ],
      "execution_count": 1,
      "outputs": [
        {
          "output_type": "stream",
          "text": [
            "Mounted at /content/drive\n"
          ],
          "name": "stdout"
        }
      ]
    },
    {
      "cell_type": "code",
      "metadata": {
        "colab": {
          "base_uri": "https://localhost:8080/"
        },
        "id": "1yGqq-_NTKjU",
        "outputId": "4956678e-4a82-4fca-a5ee-db9d13bc25af"
      },
      "source": [
        "%cd '/content/drive/My Drive/Masters_Project/Datasets/OASIS3'"
      ],
      "execution_count": 3,
      "outputs": [
        {
          "output_type": "stream",
          "text": [
            "/content/drive/.shortcut-targets-by-id/1bqqm9-0FMOqiqyH_NIQBh-lJ36pWa7aX/Masters_Project/Datasets/OASIS3\n"
          ],
          "name": "stdout"
        }
      ]
    },
    {
      "cell_type": "code",
      "metadata": {
        "id": "74ju-U9NTXLb"
      },
      "source": [
        "#!git clone https://github.com/NrgXnat/oasis-scripts.git"
      ],
      "execution_count": null,
      "outputs": []
    },
    {
      "cell_type": "code",
      "metadata": {
        "colab": {
          "base_uri": "https://localhost:8080/"
        },
        "id": "O0avtwWVWB7Q",
        "outputId": "49778157-829f-457f-9160-05f04bf5e771"
      },
      "source": [
        "!ls"
      ],
      "execution_count": null,
      "outputs": [
        {
          "output_type": "stream",
          "text": [
            " archive\t\t       OAS30001_MR_d0757   pre-processing\n",
            " converted_images\t       OAS30002_MR_d0371  'Usage Instructions.gdoc'\n",
            " converted_images_handpicked   oasis-scripts\n"
          ],
          "name": "stdout"
        }
      ]
    },
    {
      "cell_type": "code",
      "metadata": {
        "colab": {
          "base_uri": "https://localhost:8080/"
        },
        "id": "40woX4gT0bxL",
        "outputId": "a611aeb5-aed1-465f-d0f2-d35761792c14"
      },
      "source": [
        "!pwd"
      ],
      "execution_count": null,
      "outputs": [
        {
          "output_type": "stream",
          "text": [
            "/content/drive/My Drive/Masters_Project/Datasets/OASIS3\n"
          ],
          "name": "stdout"
        }
      ]
    },
    {
      "cell_type": "code",
      "metadata": {
        "colab": {
          "base_uri": "https://localhost:8080/"
        },
        "id": "Ur_wiZD42PSR",
        "outputId": "49272a7e-c2c0-480a-b86b-464ca3799ced"
      },
      "source": [
        "!du -h ./oasis-scripts/download_scans/ --max-depth=1"
      ],
      "execution_count": null,
      "outputs": [
        {
          "output_type": "stream",
          "text": [
            "64G\t./oasis-scripts/download_scans/data\n",
            "64G\t./oasis-scripts/download_scans/\n"
          ],
          "name": "stdout"
        }
      ]
    },
    {
      "cell_type": "code",
      "metadata": {
        "id": "aQSwhNo-eNUC"
      },
      "source": [
        "#Step2: Read in names of all folders downloaded and remove from the csv. Re-run the downloader "
      ],
      "execution_count": null,
      "outputs": []
    },
    {
      "cell_type": "code",
      "metadata": {
        "id": "3kPxagHqtm4r"
      },
      "source": [
        "!ls ./data >> downloaded_mr_data.txt"
      ],
      "execution_count": 10,
      "outputs": []
    },
    {
      "cell_type": "code",
      "metadata": {
        "id": "rpy7R4huwYK7"
      },
      "source": [
        "to_download = pd.read_csv('./download_scans/dl_scan_list_header.csv')\r\n",
        "downloaded = pd.read_csv('./download_scans/downloaded_mr_data_header.txt')"
      ],
      "execution_count": 28,
      "outputs": []
    },
    {
      "cell_type": "code",
      "metadata": {
        "id": "QcIChCJtw-5C"
      },
      "source": [
        "#to_download.to_csv('./download_scans/dl_scan_list.csv', columns=['OAS30001_MR_d0129'], index=None)"
      ],
      "execution_count": 23,
      "outputs": []
    },
    {
      "cell_type": "code",
      "metadata": {
        "id": "KNdUfdbeE6Ig",
        "outputId": "50b9da70-871b-492c-a08a-8e49bfd27c5a",
        "colab": {
          "base_uri": "https://localhost:8080/"
        }
      },
      "source": [
        "print(to_download.head(4))\r\n",
        "print(downloaded.head(4))"
      ],
      "execution_count": 32,
      "outputs": [
        {
          "output_type": "stream",
          "text": [
            "                  MR\n",
            "0  OAS30001_MR_d0129\n",
            "1  OAS30001_MR_d0757\n",
            "2  OAS30001_MR_d2430\n",
            "3  OAS30001_MR_d3132\n",
            "                  MR\n",
            "0  OAS30001_MR_d0129\n",
            "1  OAS30001_MR_d0757\n",
            "2  OAS30001_MR_d2430\n",
            "3  OAS30001_MR_d3132\n"
          ],
          "name": "stdout"
        }
      ]
    },
    {
      "cell_type": "code",
      "metadata": {
        "id": "pADm0c-IGQ5v"
      },
      "source": [
        "lef_files_to_dl = pd.merge(to_download, downloaded, how=\"outer\", indicator=True)"
      ],
      "execution_count": 33,
      "outputs": []
    },
    {
      "cell_type": "code",
      "metadata": {
        "id": "00oy7brPGe1N",
        "outputId": "e00ec76f-9cdf-49f4-ade6-94f6f895bb58",
        "colab": {
          "base_uri": "https://localhost:8080/",
          "height": 173
        }
      },
      "source": [
        "lef_files_to_dl.head(4)"
      ],
      "execution_count": 34,
      "outputs": [
        {
          "output_type": "execute_result",
          "data": {
            "text/html": [
              "<div>\n",
              "<style scoped>\n",
              "    .dataframe tbody tr th:only-of-type {\n",
              "        vertical-align: middle;\n",
              "    }\n",
              "\n",
              "    .dataframe tbody tr th {\n",
              "        vertical-align: top;\n",
              "    }\n",
              "\n",
              "    .dataframe thead th {\n",
              "        text-align: right;\n",
              "    }\n",
              "</style>\n",
              "<table border=\"1\" class=\"dataframe\">\n",
              "  <thead>\n",
              "    <tr style=\"text-align: right;\">\n",
              "      <th></th>\n",
              "      <th>MR</th>\n",
              "      <th>_merge</th>\n",
              "    </tr>\n",
              "  </thead>\n",
              "  <tbody>\n",
              "    <tr>\n",
              "      <th>0</th>\n",
              "      <td>OAS30001_MR_d0129</td>\n",
              "      <td>both</td>\n",
              "    </tr>\n",
              "    <tr>\n",
              "      <th>1</th>\n",
              "      <td>OAS30001_MR_d0757</td>\n",
              "      <td>both</td>\n",
              "    </tr>\n",
              "    <tr>\n",
              "      <th>2</th>\n",
              "      <td>OAS30001_MR_d2430</td>\n",
              "      <td>both</td>\n",
              "    </tr>\n",
              "    <tr>\n",
              "      <th>3</th>\n",
              "      <td>OAS30001_MR_d3132</td>\n",
              "      <td>both</td>\n",
              "    </tr>\n",
              "  </tbody>\n",
              "</table>\n",
              "</div>"
            ],
            "text/plain": [
              "                  MR _merge\n",
              "0  OAS30001_MR_d0129   both\n",
              "1  OAS30001_MR_d0757   both\n",
              "2  OAS30001_MR_d2430   both\n",
              "3  OAS30001_MR_d3132   both"
            ]
          },
          "metadata": {
            "tags": []
          },
          "execution_count": 34
        }
      ]
    },
    {
      "cell_type": "code",
      "metadata": {
        "id": "WMs_eQJlGi9k"
      },
      "source": [
        "lef_files_to_dl = lef_files_to_dl[lef_files_to_dl['_merge'] == 'left_only']"
      ],
      "execution_count": 35,
      "outputs": []
    },
    {
      "cell_type": "code",
      "metadata": {
        "id": "ieoT4EPDGlqt",
        "outputId": "86d81121-8551-4395-d3d0-24ce2b19fec0",
        "colab": {
          "base_uri": "https://localhost:8080/"
        }
      },
      "source": [
        "lef_files_to_dl.shape"
      ],
      "execution_count": 36,
      "outputs": [
        {
          "output_type": "execute_result",
          "data": {
            "text/plain": [
              "(1619, 2)"
            ]
          },
          "metadata": {
            "tags": []
          },
          "execution_count": 36
        }
      ]
    },
    {
      "cell_type": "code",
      "metadata": {
        "id": "akrBcITKGx4I"
      },
      "source": [
        "lef_files_to_dl.to_csv('./download_scans/download.csv', columns=['MR'], index=None)"
      ],
      "execution_count": 39,
      "outputs": []
    },
    {
      "cell_type": "code",
      "metadata": {
        "id": "qsiMeePfk6GL"
      },
      "source": [
        "# Step 2: Download MR scan csv and ADRC clinical data from XNAT (Oasis webpage) and run them through the alignment script (MR visit with clinical visit)"
      ],
      "execution_count": 4,
      "outputs": []
    },
    {
      "cell_type": "code",
      "metadata": {
        "id": "GBMtSo_vlEdn",
        "outputId": "6ef65238-18ec-436a-bd1d-a577afba22c4",
        "colab": {
          "base_uri": "https://localhost:8080/"
        }
      },
      "source": [
        "!ls"
      ],
      "execution_count": 5,
      "outputs": [
        {
          "output_type": "stream",
          "text": [
            " archive\t\t       OAS30001_MR_d0757   pre-processing\n",
            " converted_images\t       OAS30002_MR_d0371  'Usage Instructions.gdoc'\n",
            " converted_images_handpicked   oasis-scripts\n"
          ],
          "name": "stdout"
        }
      ]
    },
    {
      "cell_type": "code",
      "metadata": {
        "id": "RMDsy3czskjV"
      },
      "source": [
        "labels = pd.read_csv('sess_match_output.csv')"
      ],
      "execution_count": 7,
      "outputs": []
    },
    {
      "cell_type": "code",
      "metadata": {
        "id": "F1XyTl8JsoaS",
        "outputId": "2ff08def-6899-4cbd-b46b-c2128207c790",
        "colab": {
          "base_uri": "https://localhost:8080/",
          "height": 513
        }
      },
      "source": [
        "labels.head()"
      ],
      "execution_count": 8,
      "outputs": [
        {
          "output_type": "execute_result",
          "data": {
            "text/html": [
              "<div>\n",
              "<style scoped>\n",
              "    .dataframe tbody tr th:only-of-type {\n",
              "        vertical-align: middle;\n",
              "    }\n",
              "\n",
              "    .dataframe tbody tr th {\n",
              "        vertical-align: top;\n",
              "    }\n",
              "\n",
              "    .dataframe thead th {\n",
              "        text-align: right;\n",
              "    }\n",
              "</style>\n",
              "<table border=\"1\" class=\"dataframe\">\n",
              "  <thead>\n",
              "    <tr style=\"text-align: right;\">\n",
              "      <th></th>\n",
              "      <th>Unnamed: 0</th>\n",
              "      <th>ADRC_ADRCCLINICALDATA ID</th>\n",
              "      <th>Subject</th>\n",
              "      <th>Date</th>\n",
              "      <th>Age</th>\n",
              "      <th>mmse</th>\n",
              "      <th>ageAtEntry</th>\n",
              "      <th>cdr</th>\n",
              "      <th>commun</th>\n",
              "      <th>dx1</th>\n",
              "      <th>dx2</th>\n",
              "      <th>dx3</th>\n",
              "      <th>dx4</th>\n",
              "      <th>dx5</th>\n",
              "      <th>homehobb</th>\n",
              "      <th>judgment</th>\n",
              "      <th>memory</th>\n",
              "      <th>orient</th>\n",
              "      <th>perscare</th>\n",
              "      <th>apoe</th>\n",
              "      <th>sumbox</th>\n",
              "      <th>acsparnt</th>\n",
              "      <th>height</th>\n",
              "      <th>weight</th>\n",
              "      <th>primStudy</th>\n",
              "      <th>acsStudy</th>\n",
              "      <th>Day</th>\n",
              "      <th>MR ID_MR</th>\n",
              "      <th>Subject_MR</th>\n",
              "      <th>Age_MR</th>\n",
              "      <th>Scanner_MR</th>\n",
              "      <th>Scans_MR</th>\n",
              "      <th>FreeSurfers_MR</th>\n",
              "      <th>PUPs_MR</th>\n",
              "      <th>Day_MR</th>\n",
              "    </tr>\n",
              "  </thead>\n",
              "  <tbody>\n",
              "    <tr>\n",
              "      <th>0</th>\n",
              "      <td>2</td>\n",
              "      <td>OAS30001_ClinicalData_d0722</td>\n",
              "      <td>OAS30001</td>\n",
              "      <td>NaN</td>\n",
              "      <td>NaN</td>\n",
              "      <td>30.0</td>\n",
              "      <td>65.149895</td>\n",
              "      <td>0.0</td>\n",
              "      <td>0.0</td>\n",
              "      <td>Cognitively normal</td>\n",
              "      <td>.</td>\n",
              "      <td>.</td>\n",
              "      <td>.</td>\n",
              "      <td>.</td>\n",
              "      <td>0.0</td>\n",
              "      <td>0.0</td>\n",
              "      <td>0.0</td>\n",
              "      <td>0.0</td>\n",
              "      <td>0.0</td>\n",
              "      <td>23.0</td>\n",
              "      <td>0.0</td>\n",
              "      <td>NaN</td>\n",
              "      <td>64.0</td>\n",
              "      <td>162.0</td>\n",
              "      <td>NaN</td>\n",
              "      <td>NaN</td>\n",
              "      <td>722</td>\n",
              "      <td>OAS30001_MR_d0757</td>\n",
              "      <td>OAS30001</td>\n",
              "      <td>67.0</td>\n",
              "      <td>3.0T</td>\n",
              "      <td>bold(2), dwi(1), minIP(1), swi(1), T1w(2), T2s...</td>\n",
              "      <td>1.0</td>\n",
              "      <td>NaN</td>\n",
              "      <td>757.0</td>\n",
              "    </tr>\n",
              "    <tr>\n",
              "      <th>1</th>\n",
              "      <td>13</td>\n",
              "      <td>OAS30002_ClinicalData_d0751</td>\n",
              "      <td>OAS30002</td>\n",
              "      <td>NaN</td>\n",
              "      <td>NaN</td>\n",
              "      <td>29.0</td>\n",
              "      <td>67.206024</td>\n",
              "      <td>0.0</td>\n",
              "      <td>0.0</td>\n",
              "      <td>Cognitively normal</td>\n",
              "      <td>.</td>\n",
              "      <td>.</td>\n",
              "      <td>.</td>\n",
              "      <td>.</td>\n",
              "      <td>0.0</td>\n",
              "      <td>0.0</td>\n",
              "      <td>0.0</td>\n",
              "      <td>0.0</td>\n",
              "      <td>0.0</td>\n",
              "      <td>34.0</td>\n",
              "      <td>0.0</td>\n",
              "      <td>NaN</td>\n",
              "      <td>64.0</td>\n",
              "      <td>145.0</td>\n",
              "      <td>NaN</td>\n",
              "      <td>NaN</td>\n",
              "      <td>751</td>\n",
              "      <td>OAS30002_MR_d0653</td>\n",
              "      <td>OAS30002</td>\n",
              "      <td>68.0</td>\n",
              "      <td>3.0T</td>\n",
              "      <td>bold(2), T1w(2), T2w(2)</td>\n",
              "      <td>1.0</td>\n",
              "      <td>NaN</td>\n",
              "      <td>653.0</td>\n",
              "    </tr>\n",
              "    <tr>\n",
              "      <th>2</th>\n",
              "      <td>17</td>\n",
              "      <td>OAS30002_ClinicalData_d2263</td>\n",
              "      <td>OAS30002</td>\n",
              "      <td>NaN</td>\n",
              "      <td>NaN</td>\n",
              "      <td>30.0</td>\n",
              "      <td>67.206024</td>\n",
              "      <td>0.0</td>\n",
              "      <td>0.0</td>\n",
              "      <td>Cognitively normal</td>\n",
              "      <td>.</td>\n",
              "      <td>.</td>\n",
              "      <td>.</td>\n",
              "      <td>.</td>\n",
              "      <td>0.0</td>\n",
              "      <td>0.0</td>\n",
              "      <td>0.0</td>\n",
              "      <td>0.0</td>\n",
              "      <td>0.0</td>\n",
              "      <td>34.0</td>\n",
              "      <td>0.0</td>\n",
              "      <td>NaN</td>\n",
              "      <td>63.0</td>\n",
              "      <td>151.0</td>\n",
              "      <td>NaN</td>\n",
              "      <td>NaN</td>\n",
              "      <td>2263</td>\n",
              "      <td>OAS30002_MR_d2345</td>\n",
              "      <td>OAS30002</td>\n",
              "      <td>73.0</td>\n",
              "      <td>3.0T</td>\n",
              "      <td>asl(2), bold(2), dwi(2), fieldmap(3), GRE(2), ...</td>\n",
              "      <td>1.0</td>\n",
              "      <td>NaN</td>\n",
              "      <td>2345.0</td>\n",
              "    </tr>\n",
              "    <tr>\n",
              "      <th>3</th>\n",
              "      <td>23</td>\n",
              "      <td>OAS30003_ClinicalData_d2630</td>\n",
              "      <td>OAS30003</td>\n",
              "      <td>NaN</td>\n",
              "      <td>NaN</td>\n",
              "      <td>29.0</td>\n",
              "      <td>58.773440</td>\n",
              "      <td>0.0</td>\n",
              "      <td>0.0</td>\n",
              "      <td>Cognitively normal</td>\n",
              "      <td>.</td>\n",
              "      <td>.</td>\n",
              "      <td>.</td>\n",
              "      <td>.</td>\n",
              "      <td>0.0</td>\n",
              "      <td>0.0</td>\n",
              "      <td>0.0</td>\n",
              "      <td>0.0</td>\n",
              "      <td>0.0</td>\n",
              "      <td>33.0</td>\n",
              "      <td>0.0</td>\n",
              "      <td>NaN</td>\n",
              "      <td>NaN</td>\n",
              "      <td>NaN</td>\n",
              "      <td>NaN</td>\n",
              "      <td>NaN</td>\n",
              "      <td>2630</td>\n",
              "      <td>OAS30003_MR_d2682</td>\n",
              "      <td>OAS30003</td>\n",
              "      <td>66.0</td>\n",
              "      <td>3.0T</td>\n",
              "      <td>angio(5), asl(1), dwi(1), fieldmap(3), FLAIR(1...</td>\n",
              "      <td>1.0</td>\n",
              "      <td>NaN</td>\n",
              "      <td>2682.0</td>\n",
              "    </tr>\n",
              "    <tr>\n",
              "      <th>4</th>\n",
              "      <td>25</td>\n",
              "      <td>OAS30003_ClinicalData_d3288</td>\n",
              "      <td>OAS30003</td>\n",
              "      <td>NaN</td>\n",
              "      <td>NaN</td>\n",
              "      <td>30.0</td>\n",
              "      <td>58.773440</td>\n",
              "      <td>0.0</td>\n",
              "      <td>0.0</td>\n",
              "      <td>Cognitively normal</td>\n",
              "      <td>.</td>\n",
              "      <td>.</td>\n",
              "      <td>.</td>\n",
              "      <td>.</td>\n",
              "      <td>0.0</td>\n",
              "      <td>0.0</td>\n",
              "      <td>0.0</td>\n",
              "      <td>0.0</td>\n",
              "      <td>0.0</td>\n",
              "      <td>33.0</td>\n",
              "      <td>0.0</td>\n",
              "      <td>NaN</td>\n",
              "      <td>65.0</td>\n",
              "      <td>162.0</td>\n",
              "      <td>NaN</td>\n",
              "      <td>NaN</td>\n",
              "      <td>3288</td>\n",
              "      <td>OAS30003_MR_d3320</td>\n",
              "      <td>OAS30003</td>\n",
              "      <td>NaN</td>\n",
              "      <td>NaN</td>\n",
              "      <td>angio(1), T1w(1)</td>\n",
              "      <td>1.0</td>\n",
              "      <td>NaN</td>\n",
              "      <td>3320.0</td>\n",
              "    </tr>\n",
              "  </tbody>\n",
              "</table>\n",
              "</div>"
            ],
            "text/plain": [
              "   Unnamed: 0     ADRC_ADRCCLINICALDATA ID  ... PUPs_MR  Day_MR\n",
              "0           2  OAS30001_ClinicalData_d0722  ...     NaN   757.0\n",
              "1          13  OAS30002_ClinicalData_d0751  ...     NaN   653.0\n",
              "2          17  OAS30002_ClinicalData_d2263  ...     NaN  2345.0\n",
              "3          23  OAS30003_ClinicalData_d2630  ...     NaN  2682.0\n",
              "4          25  OAS30003_ClinicalData_d3288  ...     NaN  3320.0\n",
              "\n",
              "[5 rows x 35 columns]"
            ]
          },
          "metadata": {
            "tags": []
          },
          "execution_count": 8
        }
      ]
    },
    {
      "cell_type": "code",
      "metadata": {
        "id": "qlXEnhmysplj"
      },
      "source": [
        ""
      ],
      "execution_count": null,
      "outputs": []
    }
  ]
}