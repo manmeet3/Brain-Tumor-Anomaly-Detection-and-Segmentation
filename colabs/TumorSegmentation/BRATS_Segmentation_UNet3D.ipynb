{
  "nbformat": 4,
  "nbformat_minor": 0,
  "metadata": {
    "accelerator": "GPU",
    "colab": {
      "name": "BRATS Segmentation UNet3D.ipynb",
      "provenance": [],
      "collapsed_sections": [],
      "toc_visible": true,
      "include_colab_link": true
    },
    "kernelspec": {
      "display_name": "Python 3",
      "name": "python3"
    },
    "language_info": {
      "name": "python"
    },
    "widgets": {
      "application/vnd.jupyter.widget-state+json": {
        "097ecd838ec24a66802d2815c17b75ea": {
          "model_module": "@jupyter-widgets/controls",
          "model_name": "VBoxModel",
          "state": {
            "_view_name": "VBoxView",
            "_dom_classes": [
              "widget-interact"
            ],
            "_model_name": "VBoxModel",
            "_view_module": "@jupyter-widgets/controls",
            "_model_module_version": "1.5.0",
            "_view_count": null,
            "_view_module_version": "1.5.0",
            "box_style": "",
            "layout": "IPY_MODEL_f87b04d9d65d4f589f2525421ce09790",
            "_model_module": "@jupyter-widgets/controls",
            "children": [
              "IPY_MODEL_24305fcf235a4e3ab65062c884f0ce94",
              "IPY_MODEL_c6e6143a188345c0ad9a6540a04f5ac7"
            ]
          }
        },
        "f87b04d9d65d4f589f2525421ce09790": {
          "model_module": "@jupyter-widgets/base",
          "model_name": "LayoutModel",
          "state": {
            "_view_name": "LayoutView",
            "grid_template_rows": null,
            "right": null,
            "justify_content": null,
            "_view_module": "@jupyter-widgets/base",
            "overflow": null,
            "_model_module_version": "1.2.0",
            "_view_count": null,
            "flex_flow": null,
            "width": null,
            "min_width": null,
            "border": null,
            "align_items": null,
            "bottom": null,
            "_model_module": "@jupyter-widgets/base",
            "top": null,
            "grid_column": null,
            "overflow_y": null,
            "overflow_x": null,
            "grid_auto_flow": null,
            "grid_area": null,
            "grid_template_columns": null,
            "flex": null,
            "_model_name": "LayoutModel",
            "justify_items": null,
            "grid_row": null,
            "max_height": null,
            "align_content": null,
            "visibility": null,
            "align_self": null,
            "height": null,
            "min_height": null,
            "padding": null,
            "grid_auto_rows": null,
            "grid_gap": null,
            "max_width": null,
            "order": null,
            "_view_module_version": "1.2.0",
            "grid_template_areas": null,
            "object_position": null,
            "object_fit": null,
            "grid_auto_columns": null,
            "margin": null,
            "display": null,
            "left": null
          }
        },
        "24305fcf235a4e3ab65062c884f0ce94": {
          "model_module": "@jupyter-widgets/controls",
          "model_name": "IntSliderModel",
          "state": {
            "_view_name": "IntSliderView",
            "style": "IPY_MODEL_748d9350b8cd44adae0518701ab1a33b",
            "_dom_classes": [],
            "description": "layer",
            "step": 1,
            "_model_name": "IntSliderModel",
            "orientation": "horizontal",
            "max": 154,
            "_view_module": "@jupyter-widgets/controls",
            "_model_module_version": "1.5.0",
            "value": 154,
            "_view_count": null,
            "disabled": false,
            "_view_module_version": "1.5.0",
            "min": 0,
            "continuous_update": true,
            "readout_format": "d",
            "description_tooltip": null,
            "readout": true,
            "_model_module": "@jupyter-widgets/controls",
            "layout": "IPY_MODEL_5f30ec978f9e4b2091f85314ed2369b9"
          }
        },
        "c6e6143a188345c0ad9a6540a04f5ac7": {
          "model_module": "@jupyter-widgets/output",
          "model_name": "OutputModel",
          "state": {
            "_view_name": "OutputView",
            "msg_id": "",
            "_dom_classes": [],
            "_model_name": "OutputModel",
            "outputs": [
              {
                "output_type": "display_data",
                "metadata": {
                  "tags": []
                },
                "image/png": "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\n",
                "text/plain": "<Figure size 720x360 with 1 Axes>"
              },
              {
                "output_type": "display_data",
                "metadata": {
                  "tags": []
                },
                "text/plain": "154"
              }
            ],
            "_view_module": "@jupyter-widgets/output",
            "_model_module_version": "1.0.0",
            "_view_count": null,
            "_view_module_version": "1.0.0",
            "layout": "IPY_MODEL_6c4876ee5e064b5aad92da9c91758529",
            "_model_module": "@jupyter-widgets/output"
          }
        },
        "748d9350b8cd44adae0518701ab1a33b": {
          "model_module": "@jupyter-widgets/controls",
          "model_name": "SliderStyleModel",
          "state": {
            "_view_name": "StyleView",
            "handle_color": null,
            "_model_name": "SliderStyleModel",
            "description_width": "",
            "_view_module": "@jupyter-widgets/base",
            "_model_module_version": "1.5.0",
            "_view_count": null,
            "_view_module_version": "1.2.0",
            "_model_module": "@jupyter-widgets/controls"
          }
        },
        "5f30ec978f9e4b2091f85314ed2369b9": {
          "model_module": "@jupyter-widgets/base",
          "model_name": "LayoutModel",
          "state": {
            "_view_name": "LayoutView",
            "grid_template_rows": null,
            "right": null,
            "justify_content": null,
            "_view_module": "@jupyter-widgets/base",
            "overflow": null,
            "_model_module_version": "1.2.0",
            "_view_count": null,
            "flex_flow": null,
            "width": null,
            "min_width": null,
            "border": null,
            "align_items": null,
            "bottom": null,
            "_model_module": "@jupyter-widgets/base",
            "top": null,
            "grid_column": null,
            "overflow_y": null,
            "overflow_x": null,
            "grid_auto_flow": null,
            "grid_area": null,
            "grid_template_columns": null,
            "flex": null,
            "_model_name": "LayoutModel",
            "justify_items": null,
            "grid_row": null,
            "max_height": null,
            "align_content": null,
            "visibility": null,
            "align_self": null,
            "height": null,
            "min_height": null,
            "padding": null,
            "grid_auto_rows": null,
            "grid_gap": null,
            "max_width": null,
            "order": null,
            "_view_module_version": "1.2.0",
            "grid_template_areas": null,
            "object_position": null,
            "object_fit": null,
            "grid_auto_columns": null,
            "margin": null,
            "display": null,
            "left": null
          }
        },
        "6c4876ee5e064b5aad92da9c91758529": {
          "model_module": "@jupyter-widgets/base",
          "model_name": "LayoutModel",
          "state": {
            "_view_name": "LayoutView",
            "grid_template_rows": null,
            "right": null,
            "justify_content": null,
            "_view_module": "@jupyter-widgets/base",
            "overflow": null,
            "_model_module_version": "1.2.0",
            "_view_count": null,
            "flex_flow": null,
            "width": null,
            "min_width": null,
            "border": null,
            "align_items": null,
            "bottom": null,
            "_model_module": "@jupyter-widgets/base",
            "top": null,
            "grid_column": null,
            "overflow_y": null,
            "overflow_x": null,
            "grid_auto_flow": null,
            "grid_area": null,
            "grid_template_columns": null,
            "flex": null,
            "_model_name": "LayoutModel",
            "justify_items": null,
            "grid_row": null,
            "max_height": null,
            "align_content": null,
            "visibility": null,
            "align_self": null,
            "height": null,
            "min_height": null,
            "padding": null,
            "grid_auto_rows": null,
            "grid_gap": null,
            "max_width": null,
            "order": null,
            "_view_module_version": "1.2.0",
            "grid_template_areas": null,
            "object_position": null,
            "object_fit": null,
            "grid_auto_columns": null,
            "margin": null,
            "display": null,
            "left": null
          }
        },
        "00a357e3ec7840cda4692b35cf803c04": {
          "model_module": "@jupyter-widgets/controls",
          "model_name": "VBoxModel",
          "state": {
            "_view_name": "VBoxView",
            "_dom_classes": [
              "widget-interact"
            ],
            "_model_name": "VBoxModel",
            "_view_module": "@jupyter-widgets/controls",
            "_model_module_version": "1.5.0",
            "_view_count": null,
            "_view_module_version": "1.5.0",
            "box_style": "",
            "layout": "IPY_MODEL_ff2a8eafc0304ec39b3e7556d524c587",
            "_model_module": "@jupyter-widgets/controls",
            "children": [
              "IPY_MODEL_4767be12a79a4e45b24ff5a8e0248300",
              "IPY_MODEL_dbcf36f9fcd944b3b5ccaf5aecf47cfe",
              "IPY_MODEL_12d9f680f6e04b188b9276597f017c97"
            ]
          }
        },
        "ff2a8eafc0304ec39b3e7556d524c587": {
          "model_module": "@jupyter-widgets/base",
          "model_name": "LayoutModel",
          "state": {
            "_view_name": "LayoutView",
            "grid_template_rows": null,
            "right": null,
            "justify_content": null,
            "_view_module": "@jupyter-widgets/base",
            "overflow": null,
            "_model_module_version": "1.2.0",
            "_view_count": null,
            "flex_flow": null,
            "width": null,
            "min_width": null,
            "border": null,
            "align_items": null,
            "bottom": null,
            "_model_module": "@jupyter-widgets/base",
            "top": null,
            "grid_column": null,
            "overflow_y": null,
            "overflow_x": null,
            "grid_auto_flow": null,
            "grid_area": null,
            "grid_template_columns": null,
            "flex": null,
            "_model_name": "LayoutModel",
            "justify_items": null,
            "grid_row": null,
            "max_height": null,
            "align_content": null,
            "visibility": null,
            "align_self": null,
            "height": null,
            "min_height": null,
            "padding": null,
            "grid_auto_rows": null,
            "grid_gap": null,
            "max_width": null,
            "order": null,
            "_view_module_version": "1.2.0",
            "grid_template_areas": null,
            "object_position": null,
            "object_fit": null,
            "grid_auto_columns": null,
            "margin": null,
            "display": null,
            "left": null
          }
        },
        "4767be12a79a4e45b24ff5a8e0248300": {
          "model_module": "@jupyter-widgets/controls",
          "model_name": "ToggleButtonsModel",
          "state": {
            "_options_labels": [
              "Normal",
              "Edema",
              "Non-enhancing tumor",
              "Enhancing tumor"
            ],
            "_view_name": "ToggleButtonsView",
            "style": "IPY_MODEL_7a18f3cc2cd941c887e8173415bad2d4",
            "_dom_classes": [],
            "description": "Select Class:",
            "_model_name": "ToggleButtonsModel",
            "tooltips": [],
            "index": 0,
            "button_style": "info",
            "_view_module": "@jupyter-widgets/controls",
            "_model_module_version": "1.5.0",
            "_view_count": null,
            "disabled": false,
            "_view_module_version": "1.5.0",
            "icons": [],
            "description_tooltip": null,
            "_model_module": "@jupyter-widgets/controls",
            "layout": "IPY_MODEL_c630d4175739404ab5e5da039b0708b4"
          }
        },
        "dbcf36f9fcd944b3b5ccaf5aecf47cfe": {
          "model_module": "@jupyter-widgets/controls",
          "model_name": "IntSliderModel",
          "state": {
            "_view_name": "IntSliderView",
            "style": "IPY_MODEL_feb20d6e720944f0a2ab33a71b75a916",
            "_dom_classes": [],
            "description": "Select Layer",
            "step": 1,
            "_model_name": "IntSliderModel",
            "orientation": "horizontal",
            "max": 154,
            "_view_module": "@jupyter-widgets/controls",
            "_model_module_version": "1.5.0",
            "value": 73,
            "_view_count": null,
            "disabled": false,
            "_view_module_version": "1.5.0",
            "min": 0,
            "continuous_update": false,
            "readout_format": "d",
            "description_tooltip": null,
            "readout": true,
            "_model_module": "@jupyter-widgets/controls",
            "layout": "IPY_MODEL_ee4a5675b0684a0a85c83b3d7cc63fef"
          }
        },
        "12d9f680f6e04b188b9276597f017c97": {
          "model_module": "@jupyter-widgets/output",
          "model_name": "OutputModel",
          "state": {
            "_view_name": "OutputView",
            "msg_id": "",
            "_dom_classes": [],
            "_model_name": "OutputModel",
            "outputs": [
              {
                "output_type": "stream",
                "metadata": {
                  "tags": []
                },
                "text": "Plotting 73 Layer Label: Normal\n",
                "stream": "stdout"
              },
              {
                "output_type": "display_data",
                "metadata": {
                  "tags": []
                },
                "image/png": "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\n",
                "text/plain": "<Figure size 720x360 with 1 Axes>"
              }
            ],
            "_view_module": "@jupyter-widgets/output",
            "_model_module_version": "1.0.0",
            "_view_count": null,
            "_view_module_version": "1.0.0",
            "layout": "IPY_MODEL_f106ecf2998c406abcb2648c8d5cd4cc",
            "_model_module": "@jupyter-widgets/output"
          }
        },
        "7a18f3cc2cd941c887e8173415bad2d4": {
          "model_module": "@jupyter-widgets/controls",
          "model_name": "ToggleButtonsStyleModel",
          "state": {
            "_view_name": "StyleView",
            "button_width": "",
            "_model_name": "ToggleButtonsStyleModel",
            "description_width": "",
            "_view_module": "@jupyter-widgets/base",
            "_model_module_version": "1.5.0",
            "_view_count": null,
            "font_weight": "",
            "_view_module_version": "1.2.0",
            "_model_module": "@jupyter-widgets/controls"
          }
        },
        "c630d4175739404ab5e5da039b0708b4": {
          "model_module": "@jupyter-widgets/base",
          "model_name": "LayoutModel",
          "state": {
            "_view_name": "LayoutView",
            "grid_template_rows": null,
            "right": null,
            "justify_content": null,
            "_view_module": "@jupyter-widgets/base",
            "overflow": null,
            "_model_module_version": "1.2.0",
            "_view_count": null,
            "flex_flow": null,
            "width": null,
            "min_width": null,
            "border": null,
            "align_items": null,
            "bottom": null,
            "_model_module": "@jupyter-widgets/base",
            "top": null,
            "grid_column": null,
            "overflow_y": null,
            "overflow_x": null,
            "grid_auto_flow": null,
            "grid_area": null,
            "grid_template_columns": null,
            "flex": null,
            "_model_name": "LayoutModel",
            "justify_items": null,
            "grid_row": null,
            "max_height": null,
            "align_content": null,
            "visibility": null,
            "align_self": null,
            "height": null,
            "min_height": null,
            "padding": null,
            "grid_auto_rows": null,
            "grid_gap": null,
            "max_width": null,
            "order": null,
            "_view_module_version": "1.2.0",
            "grid_template_areas": null,
            "object_position": null,
            "object_fit": null,
            "grid_auto_columns": null,
            "margin": null,
            "display": null,
            "left": null
          }
        },
        "feb20d6e720944f0a2ab33a71b75a916": {
          "model_module": "@jupyter-widgets/controls",
          "model_name": "SliderStyleModel",
          "state": {
            "_view_name": "StyleView",
            "handle_color": null,
            "_model_name": "SliderStyleModel",
            "description_width": "",
            "_view_module": "@jupyter-widgets/base",
            "_model_module_version": "1.5.0",
            "_view_count": null,
            "_view_module_version": "1.2.0",
            "_model_module": "@jupyter-widgets/controls"
          }
        },
        "ee4a5675b0684a0a85c83b3d7cc63fef": {
          "model_module": "@jupyter-widgets/base",
          "model_name": "LayoutModel",
          "state": {
            "_view_name": "LayoutView",
            "grid_template_rows": null,
            "right": null,
            "justify_content": null,
            "_view_module": "@jupyter-widgets/base",
            "overflow": null,
            "_model_module_version": "1.2.0",
            "_view_count": null,
            "flex_flow": null,
            "width": null,
            "min_width": null,
            "border": null,
            "align_items": null,
            "bottom": null,
            "_model_module": "@jupyter-widgets/base",
            "top": null,
            "grid_column": null,
            "overflow_y": null,
            "overflow_x": null,
            "grid_auto_flow": null,
            "grid_area": null,
            "grid_template_columns": null,
            "flex": null,
            "_model_name": "LayoutModel",
            "justify_items": null,
            "grid_row": null,
            "max_height": null,
            "align_content": null,
            "visibility": null,
            "align_self": null,
            "height": null,
            "min_height": null,
            "padding": null,
            "grid_auto_rows": null,
            "grid_gap": null,
            "max_width": null,
            "order": null,
            "_view_module_version": "1.2.0",
            "grid_template_areas": null,
            "object_position": null,
            "object_fit": null,
            "grid_auto_columns": null,
            "margin": null,
            "display": null,
            "left": null
          }
        },
        "f106ecf2998c406abcb2648c8d5cd4cc": {
          "model_module": "@jupyter-widgets/base",
          "model_name": "LayoutModel",
          "state": {
            "_view_name": "LayoutView",
            "grid_template_rows": null,
            "right": null,
            "justify_content": null,
            "_view_module": "@jupyter-widgets/base",
            "overflow": null,
            "_model_module_version": "1.2.0",
            "_view_count": null,
            "flex_flow": null,
            "width": null,
            "min_width": null,
            "border": null,
            "align_items": null,
            "bottom": null,
            "_model_module": "@jupyter-widgets/base",
            "top": null,
            "grid_column": null,
            "overflow_y": null,
            "overflow_x": null,
            "grid_auto_flow": null,
            "grid_area": null,
            "grid_template_columns": null,
            "flex": null,
            "_model_name": "LayoutModel",
            "justify_items": null,
            "grid_row": null,
            "max_height": null,
            "align_content": null,
            "visibility": null,
            "align_self": null,
            "height": null,
            "min_height": null,
            "padding": null,
            "grid_auto_rows": null,
            "grid_gap": null,
            "max_width": null,
            "order": null,
            "_view_module_version": "1.2.0",
            "grid_template_areas": null,
            "object_position": null,
            "object_fit": null,
            "grid_auto_columns": null,
            "margin": null,
            "display": null,
            "left": null
          }
        }
      }
    }
  },
  "cells": [
    {
      "cell_type": "markdown",
      "metadata": {
        "id": "view-in-github",
        "colab_type": "text"
      },
      "source": [
        "<a href=\"https://colab.research.google.com/github/manmeet3/Brain-Tumor-Anomaly-Detection-and-Segmentation/blob/master/colabs/TumorSegmentation/BRATS_Segmentation_UNet3D.ipynb\" target=\"_parent\"><img src=\"https://colab.research.google.com/assets/colab-badge.svg\" alt=\"Open In Colab\"/></a>"
      ]
    },
    {
      "cell_type": "code",
      "metadata": {
        "colab": {
          "base_uri": "https://localhost:8080/"
        },
        "id": "DHXYtZbqrogQ",
        "outputId": "c8f78cf0-e5c9-42fd-bef7-c5680e0840b8"
      },
      "source": [
        "!pip install itk"
      ],
      "execution_count": null,
      "outputs": [
        {
          "output_type": "stream",
          "text": [
            "Collecting itk\n",
            "  Downloading https://files.pythonhosted.org/packages/c1/eb/af404ff409960397148efb4e29b2b10b3f16dc5138353e6f390bf210e936/itk-5.2.0.post2-cp37-cp37m-manylinux2014_x86_64.whl\n",
            "Requirement already satisfied: numpy in /usr/local/lib/python3.7/dist-packages (from itk) (1.19.5)\n",
            "Collecting itk-segmentation==5.2.0.post2\n",
            "\u001b[?25l  Downloading https://files.pythonhosted.org/packages/cf/b0/06645d30065492e013dcaacd4b7f3a63f9621bd7ac4b6cb811c5a6dfc590/itk_segmentation-5.2.0.post2-cp37-cp37m-manylinux2014_x86_64.whl (16.6MB)\n",
            "\u001b[K     |████████████████████████████████| 16.6MB 172kB/s \n",
            "\u001b[?25hCollecting itk-registration==5.2.0.post2\n",
            "\u001b[?25l  Downloading https://files.pythonhosted.org/packages/b1/f3/b281ea148b8c5aca1d91de9dc5efb97bc6a02c61a5ea7c74816fae0f3cb1/itk_registration-5.2.0.post2-cp37-cp37m-manylinux2014_x86_64.whl (20.2MB)\n",
            "\u001b[K     |████████████████████████████████| 20.2MB 99kB/s \n",
            "\u001b[?25hCollecting itk-core==5.2.0.post2\n",
            "\u001b[?25l  Downloading https://files.pythonhosted.org/packages/30/03/d06eb3bcfcbce7794fa0950c4a6d7a80248689ad5b5cc515b6a1c1bc7b34/itk_core-5.2.0.post2-cp37-cp37m-manylinux2014_x86_64.whl (70.1MB)\n",
            "\u001b[K     |████████████████████████████████| 70.1MB 40kB/s \n",
            "\u001b[?25hCollecting itk-io==5.2.0.post2\n",
            "\u001b[?25l  Downloading https://files.pythonhosted.org/packages/20/79/3c6b97892cbfa49bd902f00dabd6a308b48795c12017144ca628bea20a7d/itk_io-5.2.0.post2-cp37-cp37m-manylinux2014_x86_64.whl (15.0MB)\n",
            "\u001b[K     |████████████████████████████████| 15.0MB 213kB/s \n",
            "\u001b[?25hCollecting itk-numerics==5.2.0.post2\n",
            "\u001b[?25l  Downloading https://files.pythonhosted.org/packages/d0/b2/ae22d0229ce1990b217ad9b173c6df62efb23461b11b8ae0968f4e950287/itk_numerics-5.2.0.post2-cp37-cp37m-manylinux2014_x86_64.whl (53.6MB)\n",
            "\u001b[K     |████████████████████████████████| 53.6MB 141kB/s \n",
            "\u001b[?25hCollecting itk-filtering==5.2.0.post2\n",
            "\u001b[?25l  Downloading https://files.pythonhosted.org/packages/48/77/0deaf5eed680d50a0d88222fdee6c907bd0148889c90fa75f98a7648b8cf/itk_filtering-5.2.0.post2-cp37-cp37m-manylinux2014_x86_64.whl (94.7MB)\n",
            "\u001b[K     |████████████████████████████████| 94.7MB 113kB/s \n",
            "\u001b[?25hInstalling collected packages: itk-core, itk-numerics, itk-filtering, itk-segmentation, itk-registration, itk-io, itk\n",
            "Successfully installed itk-5.2.0.post2 itk-core-5.2.0.post2 itk-filtering-5.2.0.post2 itk-io-5.2.0.post2 itk-numerics-5.2.0.post2 itk-registration-5.2.0.post2 itk-segmentation-5.2.0.post2\n"
          ],
          "name": "stdout"
        }
      ]
    },
    {
      "cell_type": "code",
      "metadata": {
        "colab": {
          "base_uri": "https://localhost:8080/"
        },
        "id": "r_jQRQ-yC47m",
        "outputId": "2d7bdce5-18cf-4951-e63b-1e4f90584854"
      },
      "source": [
        "from google.colab import drive\n",
        "drive.mount('/content/drive')"
      ],
      "execution_count": null,
      "outputs": [
        {
          "output_type": "stream",
          "text": [
            "Drive already mounted at /content/drive; to attempt to forcibly remount, call drive.mount(\"/content/drive\", force_remount=True).\n"
          ],
          "name": "stdout"
        }
      ]
    },
    {
      "cell_type": "code",
      "metadata": {
        "colab": {
          "base_uri": "https://localhost:8080/"
        },
        "id": "-penzez_r_BT",
        "outputId": "26fe33ce-e708-4d15-dba0-7853c06a9929"
      },
      "source": [
        "!pip install itkwidgets"
      ],
      "execution_count": null,
      "outputs": [
        {
          "output_type": "stream",
          "text": [
            "Collecting itkwidgets\n",
            "\u001b[?25l  Downloading https://files.pythonhosted.org/packages/80/4c/6121a1334b00ead94f38bf8a4875a7f4a4d4b079e6c1ff7eb2dc1d8294be/itkwidgets-0.32.1-py2.py3-none-any.whl (3.4MB)\n",
            "\u001b[K     |████████████████████████████████| 3.4MB 8.0MB/s \n",
            "\u001b[?25hCollecting ipydatawidgets>=4.0.1\n",
            "\u001b[?25l  Downloading https://files.pythonhosted.org/packages/5d/58/9ec5a0e1653ffc762674370c4ebbcb5132b9c0691942a8c9a805a8b80b5e/ipydatawidgets-4.2.0-py2.py3-none-any.whl (275kB)\n",
            "\u001b[K     |████████████████████████████████| 276kB 47.9MB/s \n",
            "\u001b[?25hCollecting zstandard\n",
            "\u001b[?25l  Downloading https://files.pythonhosted.org/packages/5b/56/dc2a85d06e973f2ad96584b0e5b876d063135d449cb040aeaadd22a910f9/zstandard-0.15.2-cp37-cp37m-manylinux2014_x86_64.whl (2.2MB)\n",
            "\u001b[K     |████████████████████████████████| 2.2MB 52.4MB/s \n",
            "\u001b[?25hCollecting ipympl>=0.4.1\n",
            "\u001b[?25l  Downloading https://files.pythonhosted.org/packages/d9/6c/5f4b4764d3009027b4a556aebb35a09d09c09e1996ed701a150172790d98/ipympl-0.7.0-py2.py3-none-any.whl (106kB)\n",
            "\u001b[K     |████████████████████████████████| 112kB 55.6MB/s \n",
            "\u001b[?25hRequirement already satisfied: six in /usr/local/lib/python3.7/dist-packages (from itkwidgets) (1.15.0)\n",
            "Requirement already satisfied: matplotlib in /usr/local/lib/python3.7/dist-packages (from itkwidgets) (3.2.2)\n",
            "Requirement already satisfied: numpy in /usr/local/lib/python3.7/dist-packages (from itkwidgets) (1.19.5)\n",
            "Collecting itk-meshtopolydata>=0.7.1\n",
            "\u001b[?25l  Downloading https://files.pythonhosted.org/packages/c3/df/5f74fb6b95a1d252d9c7082259ff2bcc2acb93e5b14afbf1233e31ec150f/itk_meshtopolydata-0.7.1-cp37-cp37m-manylinux2014_x86_64.whl (861kB)\n",
            "\u001b[K     |████████████████████████████████| 870kB 46.3MB/s \n",
            "\u001b[?25hRequirement already satisfied: colorcet in /usr/local/lib/python3.7/dist-packages (from itkwidgets) (2.0.6)\n",
            "Requirement already satisfied: ipywidgets>=7.5.1 in /usr/local/lib/python3.7/dist-packages (from itkwidgets) (7.6.3)\n",
            "Requirement already satisfied: itk-filtering>=5.2.0.post2 in /usr/local/lib/python3.7/dist-packages (from itkwidgets) (5.2.0.post2)\n",
            "Requirement already satisfied: itk-core>=5.2.0.post2 in /usr/local/lib/python3.7/dist-packages (from itkwidgets) (5.2.0.post2)\n",
            "Collecting traittypes>=0.2.0\n",
            "  Downloading https://files.pythonhosted.org/packages/9c/d1/8d5bd662703cc1764d986f6908a608777305946fa634d34c470cd4a1e729/traittypes-0.2.1-py2.py3-none-any.whl\n",
            "Requirement already satisfied: ipykernel>=4.7 in /usr/local/lib/python3.7/dist-packages (from ipympl>=0.4.1->itkwidgets) (4.10.1)\n",
            "Requirement already satisfied: python-dateutil>=2.1 in /usr/local/lib/python3.7/dist-packages (from matplotlib->itkwidgets) (2.8.1)\n",
            "Requirement already satisfied: pyparsing!=2.0.4,!=2.1.2,!=2.1.6,>=2.0.1 in /usr/local/lib/python3.7/dist-packages (from matplotlib->itkwidgets) (2.4.7)\n",
            "Requirement already satisfied: cycler>=0.10 in /usr/local/lib/python3.7/dist-packages (from matplotlib->itkwidgets) (0.10.0)\n",
            "Requirement already satisfied: kiwisolver>=1.0.1 in /usr/local/lib/python3.7/dist-packages (from matplotlib->itkwidgets) (1.3.1)\n",
            "Requirement already satisfied: param>=1.7.0 in /usr/local/lib/python3.7/dist-packages (from colorcet->itkwidgets) (1.10.1)\n",
            "Requirement already satisfied: pyct>=0.4.4 in /usr/local/lib/python3.7/dist-packages (from colorcet->itkwidgets) (0.4.8)\n",
            "Requirement already satisfied: jupyterlab-widgets>=1.0.0; python_version >= \"3.6\" in /usr/local/lib/python3.7/dist-packages (from ipywidgets>=7.5.1->itkwidgets) (1.0.0)\n",
            "Requirement already satisfied: traitlets>=4.3.1 in /usr/local/lib/python3.7/dist-packages (from ipywidgets>=7.5.1->itkwidgets) (5.0.5)\n",
            "Requirement already satisfied: ipython>=4.0.0; python_version >= \"3.3\" in /usr/local/lib/python3.7/dist-packages (from ipywidgets>=7.5.1->itkwidgets) (5.5.0)\n",
            "Requirement already satisfied: nbformat>=4.2.0 in /usr/local/lib/python3.7/dist-packages (from ipywidgets>=7.5.1->itkwidgets) (5.1.3)\n",
            "Requirement already satisfied: widgetsnbextension~=3.5.0 in /usr/local/lib/python3.7/dist-packages (from ipywidgets>=7.5.1->itkwidgets) (3.5.1)\n",
            "Requirement already satisfied: itk-numerics==5.2.0.post2 in /usr/local/lib/python3.7/dist-packages (from itk-filtering>=5.2.0.post2->itkwidgets) (5.2.0.post2)\n",
            "Requirement already satisfied: jupyter-client in /usr/local/lib/python3.7/dist-packages (from ipykernel>=4.7->ipympl>=0.4.1->itkwidgets) (5.3.5)\n",
            "Requirement already satisfied: tornado>=4.0 in /usr/local/lib/python3.7/dist-packages (from ipykernel>=4.7->ipympl>=0.4.1->itkwidgets) (5.1.1)\n",
            "Requirement already satisfied: ipython-genutils in /usr/local/lib/python3.7/dist-packages (from traitlets>=4.3.1->ipywidgets>=7.5.1->itkwidgets) (0.2.0)\n",
            "Requirement already satisfied: decorator in /usr/local/lib/python3.7/dist-packages (from ipython>=4.0.0; python_version >= \"3.3\"->ipywidgets>=7.5.1->itkwidgets) (4.4.2)\n",
            "Requirement already satisfied: pygments in /usr/local/lib/python3.7/dist-packages (from ipython>=4.0.0; python_version >= \"3.3\"->ipywidgets>=7.5.1->itkwidgets) (2.6.1)\n",
            "Requirement already satisfied: setuptools>=18.5 in /usr/local/lib/python3.7/dist-packages (from ipython>=4.0.0; python_version >= \"3.3\"->ipywidgets>=7.5.1->itkwidgets) (56.1.0)\n",
            "Requirement already satisfied: prompt-toolkit<2.0.0,>=1.0.4 in /usr/local/lib/python3.7/dist-packages (from ipython>=4.0.0; python_version >= \"3.3\"->ipywidgets>=7.5.1->itkwidgets) (1.0.18)\n",
            "Requirement already satisfied: simplegeneric>0.8 in /usr/local/lib/python3.7/dist-packages (from ipython>=4.0.0; python_version >= \"3.3\"->ipywidgets>=7.5.1->itkwidgets) (0.8.1)\n",
            "Requirement already satisfied: pexpect; sys_platform != \"win32\" in /usr/local/lib/python3.7/dist-packages (from ipython>=4.0.0; python_version >= \"3.3\"->ipywidgets>=7.5.1->itkwidgets) (4.8.0)\n",
            "Requirement already satisfied: pickleshare in /usr/local/lib/python3.7/dist-packages (from ipython>=4.0.0; python_version >= \"3.3\"->ipywidgets>=7.5.1->itkwidgets) (0.7.5)\n",
            "Requirement already satisfied: jupyter-core in /usr/local/lib/python3.7/dist-packages (from nbformat>=4.2.0->ipywidgets>=7.5.1->itkwidgets) (4.7.1)\n",
            "Requirement already satisfied: jsonschema!=2.5.0,>=2.4 in /usr/local/lib/python3.7/dist-packages (from nbformat>=4.2.0->ipywidgets>=7.5.1->itkwidgets) (2.6.0)\n",
            "Requirement already satisfied: notebook>=4.4.1 in /usr/local/lib/python3.7/dist-packages (from widgetsnbextension~=3.5.0->ipywidgets>=7.5.1->itkwidgets) (5.3.1)\n",
            "Requirement already satisfied: pyzmq>=13 in /usr/local/lib/python3.7/dist-packages (from jupyter-client->ipykernel>=4.7->ipympl>=0.4.1->itkwidgets) (22.0.3)\n",
            "Requirement already satisfied: wcwidth in /usr/local/lib/python3.7/dist-packages (from prompt-toolkit<2.0.0,>=1.0.4->ipython>=4.0.0; python_version >= \"3.3\"->ipywidgets>=7.5.1->itkwidgets) (0.2.5)\n",
            "Requirement already satisfied: ptyprocess>=0.5 in /usr/local/lib/python3.7/dist-packages (from pexpect; sys_platform != \"win32\"->ipython>=4.0.0; python_version >= \"3.3\"->ipywidgets>=7.5.1->itkwidgets) (0.7.0)\n",
            "Requirement already satisfied: jinja2 in /usr/local/lib/python3.7/dist-packages (from notebook>=4.4.1->widgetsnbextension~=3.5.0->ipywidgets>=7.5.1->itkwidgets) (2.11.3)\n",
            "Requirement already satisfied: terminado>=0.8.1 in /usr/local/lib/python3.7/dist-packages (from notebook>=4.4.1->widgetsnbextension~=3.5.0->ipywidgets>=7.5.1->itkwidgets) (0.9.5)\n",
            "Requirement already satisfied: nbconvert in /usr/local/lib/python3.7/dist-packages (from notebook>=4.4.1->widgetsnbextension~=3.5.0->ipywidgets>=7.5.1->itkwidgets) (5.6.1)\n",
            "Requirement already satisfied: Send2Trash in /usr/local/lib/python3.7/dist-packages (from notebook>=4.4.1->widgetsnbextension~=3.5.0->ipywidgets>=7.5.1->itkwidgets) (1.5.0)\n",
            "Requirement already satisfied: MarkupSafe>=0.23 in /usr/local/lib/python3.7/dist-packages (from jinja2->notebook>=4.4.1->widgetsnbextension~=3.5.0->ipywidgets>=7.5.1->itkwidgets) (2.0.0)\n",
            "Requirement already satisfied: pandocfilters>=1.4.1 in /usr/local/lib/python3.7/dist-packages (from nbconvert->notebook>=4.4.1->widgetsnbextension~=3.5.0->ipywidgets>=7.5.1->itkwidgets) (1.4.3)\n",
            "Requirement already satisfied: entrypoints>=0.2.2 in /usr/local/lib/python3.7/dist-packages (from nbconvert->notebook>=4.4.1->widgetsnbextension~=3.5.0->ipywidgets>=7.5.1->itkwidgets) (0.3)\n",
            "Requirement already satisfied: bleach in /usr/local/lib/python3.7/dist-packages (from nbconvert->notebook>=4.4.1->widgetsnbextension~=3.5.0->ipywidgets>=7.5.1->itkwidgets) (3.3.0)\n",
            "Requirement already satisfied: mistune<2,>=0.8.1 in /usr/local/lib/python3.7/dist-packages (from nbconvert->notebook>=4.4.1->widgetsnbextension~=3.5.0->ipywidgets>=7.5.1->itkwidgets) (0.8.4)\n",
            "Requirement already satisfied: testpath in /usr/local/lib/python3.7/dist-packages (from nbconvert->notebook>=4.4.1->widgetsnbextension~=3.5.0->ipywidgets>=7.5.1->itkwidgets) (0.4.4)\n",
            "Requirement already satisfied: defusedxml in /usr/local/lib/python3.7/dist-packages (from nbconvert->notebook>=4.4.1->widgetsnbextension~=3.5.0->ipywidgets>=7.5.1->itkwidgets) (0.7.1)\n",
            "Requirement already satisfied: webencodings in /usr/local/lib/python3.7/dist-packages (from bleach->nbconvert->notebook>=4.4.1->widgetsnbextension~=3.5.0->ipywidgets>=7.5.1->itkwidgets) (0.5.1)\n",
            "Requirement already satisfied: packaging in /usr/local/lib/python3.7/dist-packages (from bleach->nbconvert->notebook>=4.4.1->widgetsnbextension~=3.5.0->ipywidgets>=7.5.1->itkwidgets) (20.9)\n",
            "Installing collected packages: traittypes, ipydatawidgets, zstandard, ipympl, itk-meshtopolydata, itkwidgets\n",
            "Successfully installed ipydatawidgets-4.2.0 ipympl-0.7.0 itk-meshtopolydata-0.7.1 itkwidgets-0.32.1 traittypes-0.2.1 zstandard-0.15.2\n"
          ],
          "name": "stdout"
        }
      ]
    },
    {
      "cell_type": "code",
      "metadata": {
        "id": "KB78y44UsYU8"
      },
      "source": [
        ""
      ],
      "execution_count": null,
      "outputs": []
    },
    {
      "cell_type": "markdown",
      "metadata": {
        "id": "i4E4gZiFsg9B"
      },
      "source": [
        "# Libraries"
      ]
    },
    {
      "cell_type": "code",
      "metadata": {
        "id": "nUAW4UXmsiRA"
      },
      "source": [
        "import json\n",
        "import numpy as np\n",
        "import pandas as pd\n",
        "import nibabel as nib\n",
        "\n",
        "import torch\n",
        "\n",
        "# For visualization\n",
        "import itk\n",
        "import itkwidgets\n",
        "from ipywidgets import interact, interactive, IntSlider, ToggleButtons\n",
        "import matplotlib.pyplot as plt\n",
        "%matplotlib inline\n",
        "import seaborn as sns\n",
        "sns.set_style('darkgrid')"
      ],
      "execution_count": null,
      "outputs": []
    },
    {
      "cell_type": "code",
      "metadata": {
        "colab": {
          "base_uri": "https://localhost:8080/"
        },
        "id": "CsuuU_ZrsiiX",
        "outputId": "f7d35b51-e1b8-4be3-f6f2-a7e7ac2cbc00"
      },
      "source": [
        "image_folder = \"/content/drive/MyDrive/Masters_Project/Datasets/medicaldecathlon/Task01_BrainTumour/imagesTr/\"\n",
        "img_name = 'BRATS_001.nii.gz'\n",
        "image_obj = nib.load(image_folder + img_name)\n",
        "\n",
        "image_data = image_obj.get_fdata()\n",
        "type(image_data)"
      ],
      "execution_count": null,
      "outputs": [
        {
          "output_type": "execute_result",
          "data": {
            "text/plain": [
              "numpy.ndarray"
            ]
          },
          "metadata": {
            "tags": []
          },
          "execution_count": 6
        }
      ]
    },
    {
      "cell_type": "code",
      "metadata": {
        "colab": {
          "base_uri": "https://localhost:8080/"
        },
        "id": "YE9piYujtdu_",
        "outputId": "b2ea63df-6ff1-40ab-b390-981772d3288f"
      },
      "source": [
        "# Get the image shape\n",
        "\n",
        "height, width, depth, channels = image_data.shape\n",
        "print(f\"The image object has the following dimensions: \\nheight: {height} \\nwidth: {width} \\ndepth: {depth} \\nchannels: {channels}\")"
      ],
      "execution_count": null,
      "outputs": [
        {
          "output_type": "stream",
          "text": [
            "The image object has the following dimensions: \n",
            "height: 240 \n",
            "width: 240 \n",
            "depth: 155 \n",
            "channels: 4\n"
          ],
          "name": "stdout"
        }
      ]
    },
    {
      "cell_type": "code",
      "metadata": {
        "colab": {
          "base_uri": "https://localhost:8080/",
          "height": 265
        },
        "id": "N1xY1D8ZtlMr",
        "outputId": "1b58720c-7452-4d03-d11f-2273c8e41817"
      },
      "source": [
        "# Select random layer number\n",
        "\n",
        "layer = 56           #@param {type:\"slider\", min:0, max:100, step:1}\n",
        "channel =  1    #@param {type:\"slider\", min:0, max:3, step:1}\n",
        "print(f\"Plotting Layer {layer} Channel {channel} of Image\")\n",
        "plt.imshow(image_data[:, :, layer, channel], cmap='gray')\n",
        "plt.axis('off');"
      ],
      "execution_count": null,
      "outputs": [
        {
          "output_type": "stream",
          "text": [
            "Plotting Layer 100 Channel 3 of Image\n"
          ],
          "name": "stdout"
        },
        {
          "output_type": "display_data",
          "data": {
            "image/png": "[encoded data removed]",
            "text/plain": [
              "<Figure size 432x288 with 1 Axes>"
            ]
          },
          "metadata": {
            "tags": []
          }
        }
      ]
    },
    {
      "cell_type": "code",
      "metadata": {
        "colab": {
          "base_uri": "https://localhost:8080/",
          "height": 373,
          "referenced_widgets": [
            "097ecd838ec24a66802d2815c17b75ea",
            "f87b04d9d65d4f589f2525421ce09790",
            "24305fcf235a4e3ab65062c884f0ce94",
            "c6e6143a188345c0ad9a6540a04f5ac7",
            "748d9350b8cd44adae0518701ab1a33b",
            "5f30ec978f9e4b2091f85314ed2369b9",
            "6c4876ee5e064b5aad92da9c91758529"
          ]
        },
        "id": "Sw3i7EFctq4X",
        "outputId": "fab22ad4-0961-406a-b709-7c6e4d696a87"
      },
      "source": [
        "\n",
        "# Define a function to visualize the Brain MRI\n",
        "\n",
        "def explore_3dimage(layer):\n",
        "    plt.figure(figsize=(10, 5))\n",
        "    channel = 3\n",
        "    plt.imshow(image_data[:, :, layer, channel], cmap='gray');\n",
        "    plt.title('Explore Layers of Brain MRI', fontsize=20)\n",
        "    plt.axis('off')\n",
        "    return layer\n",
        "\n",
        "# Run the ipywidgets interact() function to explore the data\n",
        "interact(explore_3dimage, layer=(0, image_data.shape[2] - 1));"
      ],
      "execution_count": null,
      "outputs": [
        {
          "output_type": "display_data",
          "data": {
            "application/vnd.jupyter.widget-view+json": {
              "model_id": "097ecd838ec24a66802d2815c17b75ea",
              "version_minor": 0,
              "version_major": 2
            },
            "text/plain": [
              "interactive(children=(IntSlider(value=77, description='layer', max=154), Output()), _dom_classes=('widget-inte…"
            ]
          },
          "metadata": {
            "tags": []
          }
        }
      ]
    },
    {
      "cell_type": "code",
      "metadata": {
        "id": "B3mewirCt37x"
      },
      "source": [
        ""
      ],
      "execution_count": null,
      "outputs": []
    },
    {
      "cell_type": "markdown",
      "metadata": {
        "id": "mGwvEMXyuANy"
      },
      "source": [
        "# Load file and Extract the labels as a numpy array¶\n"
      ]
    },
    {
      "cell_type": "code",
      "metadata": {
        "colab": {
          "base_uri": "https://localhost:8080/"
        },
        "id": "t-LWSt2xuBn6",
        "outputId": "f6ebee17-51ec-48a9-e6e8-2b47654c3f2a"
      },
      "source": [
        "label_folder = '/content/drive/MyDrive/Masters_Project/Datasets/medicaldecathlon/Task01_BrainTumour/labelsTr/'\n",
        "label = 'BRATS_001.nii.gz'\n",
        "label_obj = nib.load(label_folder+label)\n",
        "\n",
        "label_array = label_obj.get_fdata()\n",
        "type(label_array)"
      ],
      "execution_count": null,
      "outputs": [
        {
          "output_type": "execute_result",
          "data": {
            "text/plain": [
              "numpy.ndarray"
            ]
          },
          "metadata": {
            "tags": []
          },
          "execution_count": 10
        }
      ]
    },
    {
      "cell_type": "code",
      "metadata": {
        "colab": {
          "base_uri": "https://localhost:8080/"
        },
        "id": "BNWfMC_wuHMG",
        "outputId": "57736ac7-b3f7-4f28-fbf5-e4ce9973083f"
      },
      "source": [
        "# Extract the shape of the labels data\n",
        "\n",
        "height, width, depth = label_array.shape\n",
        "print(f\"Dimensions of labels data array: \\nheight: {height} \\nwidth: {width} \\ndepth: {depth}\")\n",
        "print(f'\\nWith the unique values: {np.unique(label_array)}')\n",
        "print(\"\"\"\\nCorresponding to the following label categories: \n",
        "0: for normal \n",
        "1: for edema\n",
        "2: for non-enhancing tumor \n",
        "3: for enhancing tumor\"\"\")"
      ],
      "execution_count": null,
      "outputs": [
        {
          "output_type": "stream",
          "text": [
            "Dimensions of labels data array: \n",
            "height: 240 \n",
            "width: 240 \n",
            "depth: 155\n",
            "\n",
            "With the unique values: [0. 1. 2. 3.]\n",
            "\n",
            "Corresponding to the following label categories: \n",
            "0: for normal \n",
            "1: for edema\n",
            "2: for non-enhancing tumor \n",
            "3: for enhancing tumor\n"
          ],
          "name": "stdout"
        }
      ]
    },
    {
      "cell_type": "code",
      "metadata": {
        "id": "Z3R7Yl8ZuKj1"
      },
      "source": [
        ""
      ],
      "execution_count": null,
      "outputs": []
    },
    {
      "cell_type": "markdown",
      "metadata": {
        "id": "OZrk8bN-uOuR"
      },
      "source": [
        "# Visualize Labeled Data\n"
      ]
    },
    {
      "cell_type": "code",
      "metadata": {
        "colab": {
          "base_uri": "https://localhost:8080/",
          "height": 299
        },
        "id": "0eHcFsLquPaX",
        "outputId": "1fb24d75-cb16-4a95-e971-ef2f9fe7899b"
      },
      "source": [
        "layer = 51      #@param {type:\"slider\", min:0, max:100, step:1}\n",
        "\n",
        "# Define a dictionary of class labels\n",
        "classes_dict = {\n",
        "    'Normal': 0.,\n",
        "    'Edema': 1.,\n",
        "    'Non-enhancing tumor': 2.,\n",
        "    'Enhancing tumor': 3. \n",
        "}\n",
        "\n",
        "fig, ax = plt.subplots(nrows=1, ncols=4, figsize=(50, 30))\n",
        "for i in range(4):\n",
        "    img_label_str = list(classes_dict.keys())[i]\n",
        "    img = label_array[:,:,layer]\n",
        "    mask = np.where(img == classes_dict[img_label_str], 255, 0)\n",
        "    ax[i].imshow(mask)\n",
        "    ax[i].set_title(f\"Layer {layer} for {img_label_str}\", fontsize=45)\n",
        "    ax[i].axis('off')\n",
        "plt.tight_layout()"
      ],
      "execution_count": null,
      "outputs": [
        {
          "output_type": "display_data",
          "data": {
            "image/png": "[encoded data removed]",
            "text/plain": [
              "<Figure size 3600x2160 with 4 Axes>"
            ]
          },
          "metadata": {
            "tags": []
          }
        }
      ]
    },
    {
      "cell_type": "code",
      "metadata": {
        "colab": {
          "base_uri": "https://localhost:8080/",
          "height": 385,
          "referenced_widgets": [
            "00a357e3ec7840cda4692b35cf803c04",
            "ff2a8eafc0304ec39b3e7556d524c587",
            "4767be12a79a4e45b24ff5a8e0248300",
            "dbcf36f9fcd944b3b5ccaf5aecf47cfe",
            "12d9f680f6e04b188b9276597f017c97",
            "7a18f3cc2cd941c887e8173415bad2d4",
            "c630d4175739404ab5e5da039b0708b4",
            "feb20d6e720944f0a2ab33a71b75a916",
            "ee4a5675b0684a0a85c83b3d7cc63fef",
            "f106ecf2998c406abcb2648c8d5cd4cc"
          ]
        },
        "id": "Dp0qksNYuS4z",
        "outputId": "70e437cd-daf5-41cd-8d61-278dee751d3e"
      },
      "source": [
        "# Create button values\n",
        "select_class = ToggleButtons(\n",
        "    options=['Normal','Edema', 'Non-enhancing tumor', 'Enhancing tumor'],\n",
        "    description='Select Class:',\n",
        "    disabled=False,\n",
        "    button_style='info', \n",
        "    \n",
        ")\n",
        "\n",
        "# Create layer slider\n",
        "select_layer = IntSlider(min=0, max=154, description='Select Layer', continuous_update=False)\n",
        "    \n",
        "# Define a function for plotting images\n",
        "def plot_image(seg_class, layer):\n",
        "    print(f\"Plotting {layer} Layer Label: {seg_class}\")\n",
        "    img_label = classes_dict[seg_class]\n",
        "    mask = np.where(label_array[:,:,layer] == img_label, 255, 0)\n",
        "    plt.figure(figsize=(10,5))\n",
        "    plt.imshow(mask, cmap='gray')\n",
        "    plt.axis('off');\n",
        "\n",
        "# Use the interactive() tool to create the visualization\n",
        "interactive(plot_image, seg_class=select_class, layer=select_layer)"
      ],
      "execution_count": null,
      "outputs": [
        {
          "output_type": "display_data",
          "data": {
            "application/vnd.jupyter.widget-view+json": {
              "model_id": "00a357e3ec7840cda4692b35cf803c04",
              "version_minor": 0,
              "version_major": 2
            },
            "text/plain": [
              "interactive(children=(ToggleButtons(button_style='info', description='Select Class:', options=('Normal', 'Edem…"
            ]
          },
          "metadata": {
            "tags": []
          }
        }
      ]
    },
    {
      "cell_type": "code",
      "metadata": {
        "id": "-JDaRh-RubBy"
      },
      "source": [
        ""
      ],
      "execution_count": null,
      "outputs": []
    },
    {
      "cell_type": "markdown",
      "metadata": {
        "id": "MyEIFdIvuoxU"
      },
      "source": [
        "# .nii to Tensor data coverstion"
      ]
    },
    {
      "cell_type": "code",
      "metadata": {
        "id": "eaDn5Q58upud"
      },
      "source": [
        "import cv2\n",
        "import random\n",
        "import numpy as np\n",
        "import pandas as pd\n",
        "import nibabel as nib\n",
        "import matplotlib.pyplot as plt\n",
        "\n",
        "import torch\n",
        "import torch.utils"
      ],
      "execution_count": null,
      "outputs": []
    },
    {
      "cell_type": "code",
      "metadata": {
        "id": "bTbal7tkurd0"
      },
      "source": [
        ""
      ],
      "execution_count": null,
      "outputs": []
    },
    {
      "cell_type": "markdown",
      "metadata": {
        "id": "Id4ccRG4uyGq"
      },
      "source": [
        "# Load file and Extract the data as a numpy array"
      ]
    },
    {
      "cell_type": "code",
      "metadata": {
        "id": "jSwRoqOMuyxT"
      },
      "source": [
        "DATA_DIR = '/content/drive/MyDrive/Masters_Project/Datasets/medicaldecathlon/Task01_BrainTumour/'\n",
        "\n",
        "# This will return numpy array\n",
        "def load_case(image_nifty_file, label_nifty_file):\n",
        "    image = np.array(nib.load(image_nifty_file).get_fdata())\n",
        "    label = np.array(nib.load(label_nifty_file).get_fdata())\n",
        "    return image, label"
      ],
      "execution_count": null,
      "outputs": []
    },
    {
      "cell_type": "markdown",
      "metadata": {
        "id": "2xKr1oHKwHPo"
      },
      "source": [
        "# Data Preprocessing"
      ]
    },
    {
      "cell_type": "code",
      "metadata": {
        "id": "IrMcqHTTvnWa"
      },
      "source": [
        "import numpy as np\n",
        "from keras.utils import to_categorical\n",
        "\n",
        "def get_sub_volume(image, label, \n",
        "                   orig_x = 240, orig_y = 240, orig_z = 155, \n",
        "                   output_x = 160, output_y = 160, output_z = 16,\n",
        "                   num_classes = 4, max_tries = 1000, background_threshold = 0.95):\n",
        "    X = None\n",
        "    y = None\n",
        "    tries = 0\n",
        "\n",
        "    while tries < max_tries:\n",
        "        # randomly sample sub-volume by sampling the corner voxel\n",
        "        start_x = np.random.randint(orig_x - output_x + 1)\n",
        "        start_y = np.random.randint(orig_y - output_y + 1)\n",
        "        start_z = np.random.randint(orig_z - output_z + 1)\n",
        "\n",
        "        # extract relevant area of label\n",
        "        y = label[start_x: start_x + output_x,\n",
        "                  start_y: start_y + output_y,\n",
        "                  start_z: start_z + output_z]\n",
        "\n",
        "        y = to_categorical(y, num_classes)          # (output_x, output_y, output_z, num_classes)\n",
        "\n",
        "        bgrd_ratio = y[:, :, :, 0].sum() / (output_x * output_y * output_z)             # compute the background ratio\n",
        "\n",
        "        tries += 1\n",
        "\n",
        "        if (bgrd_ratio < background_threshold):\n",
        "\n",
        "            X = np.copy(image[start_x: start_x + output_x,\n",
        "                              start_y: start_y + output_y,\n",
        "                              start_z: start_z + output_z, :])\n",
        "            X = np.moveaxis(X, -1, 0)       # (num_channels, x_dim, y_dim, z_dim)\n",
        "            y = np.moveaxis(y, -1, 0)       # (num_classes, x_dim, y_dim, z_dim)\n",
        "            y = y[1:, :, :, :]              # take a subset of y that excludes the background class\n",
        "    \n",
        "            return X, y"
      ],
      "execution_count": null,
      "outputs": []
    },
    {
      "cell_type": "code",
      "metadata": {
        "id": "voOM9ZHowKqv"
      },
      "source": [
        "# Standardization\n",
        "\n",
        "def standardize(image):\n",
        "\n",
        "    standardized_image = np.zeros(image.shape)\n",
        "    # iterate over channels\n",
        "    for c in range(image.shape[0]):\n",
        "        for z in range(image.shape[3]):\n",
        "\n",
        "            image_slice = image[c,:,:,z]                 # get a slice of the image at channel 'c' and z-th dimension 'z'\n",
        "            centered = image_slice - image_slice.mean()\n",
        "            if np.std(centered) != 0:\n",
        "                centered_scaled = image_slice / image_slice.std()\n",
        "                standardized_image[c, :, :, z] = centered_scaled\n",
        "\n",
        "    return standardized_image"
      ],
      "execution_count": null,
      "outputs": []
    },
    {
      "cell_type": "code",
      "metadata": {
        "id": "C3e9GbnFwPZH"
      },
      "source": [
        ""
      ],
      "execution_count": null,
      "outputs": []
    },
    {
      "cell_type": "markdown",
      "metadata": {
        "id": "s7uKgPSywRmL"
      },
      "source": [
        "# Data Conversion"
      ]
    },
    {
      "cell_type": "code",
      "metadata": {
        "id": "Iju-oplwwS5H"
      },
      "source": [
        "def create_dataset(data_dir, patches=100):\n",
        "\n",
        "    idx = random.sample(list(range(1,484)), patches)\n",
        "    images = []\n",
        "    labels = []\n",
        "\n",
        "    for i in idx:\n",
        "\n",
        "        if i<10:\n",
        "            i = 'BRATS_00' + str(i) + '.nii.gz'\n",
        "        elif i>=10 and i<100:\n",
        "            i = 'BRATS_0' + str(i) + '.nii.gz'\n",
        "        elif i>=100:\n",
        "            i = 'BRATS_' + str(i) + '.nii.gz'\n",
        "\n",
        "        image, label = load_case(data_dir + 'imagesTr/' + i,\n",
        "                                 data_dir + 'labelsTr/' + i)\n",
        "\n",
        "        try: \n",
        "            X,y = get_sub_volume(image, label)\n",
        "            X = standardize(X)\n",
        "            images.append(X)\n",
        "            labels.append(y)\n",
        "        except:\n",
        "            continue\n",
        "\n",
        "    return images, labels"
      ],
      "execution_count": null,
      "outputs": []
    },
    {
      "cell_type": "code",
      "metadata": {
        "id": "4UQ7HhrewV2Z"
      },
      "source": [
        ""
      ],
      "execution_count": null,
      "outputs": []
    },
    {
      "cell_type": "markdown",
      "metadata": {
        "id": "nqX0NXQDwanX"
      },
      "source": [
        "# Save converted data"
      ]
    },
    {
      "cell_type": "code",
      "metadata": {
        "id": "7LF7_Ii9wcKP"
      },
      "source": [
        "images,labels = create_dataset(DATA_DIR, patches=200)"
      ],
      "execution_count": null,
      "outputs": []
    },
    {
      "cell_type": "code",
      "metadata": {
        "colab": {
          "base_uri": "https://localhost:8080/"
        },
        "id": "gOlmLsgPweOW",
        "outputId": "8441e57f-7207-48f8-904a-61d35be7f82c"
      },
      "source": [
        "print('Length of data : ', len(images))\n",
        "print('Shape of each image : ', images[0].shape)\n",
        "print('Shape of each label : ', labels[0].shape)"
      ],
      "execution_count": null,
      "outputs": [
        {
          "output_type": "stream",
          "text": [
            "Length of data :  165\n",
            "Shape of each image :  (4, 160, 160, 16)\n",
            "Shape of each label :  (3, 160, 160, 16)\n"
          ],
          "name": "stdout"
        }
      ]
    },
    {
      "cell_type": "code",
      "metadata": {
        "id": "-2wG02jDxZuH"
      },
      "source": [
        "# change datatype as 'FloatTensor'\n",
        "\n",
        "images = torch.FloatTensor(images)\n",
        "labels = torch.FloatTensor(labels)"
      ],
      "execution_count": null,
      "outputs": []
    },
    {
      "cell_type": "code",
      "metadata": {
        "colab": {
          "base_uri": "https://localhost:8080/"
        },
        "id": "_WRGKf-IxZzL",
        "outputId": "02e17f1a-90f1-4154-8519-d05f1ad2f475"
      },
      "source": [
        "print('Length of data : ', len(images))\n",
        "print('Shape of each image : ', images[0].shape)\n",
        "print('Shape of each label : ', labels[0].shape)"
      ],
      "execution_count": null,
      "outputs": [
        {
          "output_type": "stream",
          "text": [
            "Length of data :  165\n",
            "Shape of each image :  torch.Size([4, 160, 160, 16])\n",
            "Shape of each label :  torch.Size([3, 160, 160, 16])\n"
          ],
          "name": "stdout"
        }
      ]
    },
    {
      "cell_type": "code",
      "metadata": {
        "id": "9Ae_a0ZaxZ2g"
      },
      "source": [
        "torch.save(images,'/content/drive/MyDrive/Masters_Project/Datasets/medicaldecathlon/Task01_BrainTumour/TensorData/X.pt')\n",
        "torch.save(labels,'/content/drive/MyDrive/Masters_Project/Datasets/medicaldecathlon/Task01_BrainTumour/TensorData/y.pt')"
      ],
      "execution_count": null,
      "outputs": []
    },
    {
      "cell_type": "code",
      "metadata": {
        "id": "wsf4hyvExZ5o"
      },
      "source": [
        ""
      ],
      "execution_count": null,
      "outputs": []
    },
    {
      "cell_type": "code",
      "metadata": {
        "id": "0ngrgrg70AD0"
      },
      "source": [
        ""
      ],
      "execution_count": null,
      "outputs": []
    },
    {
      "cell_type": "code",
      "metadata": {
        "id": "Dv5PzPko0AGg"
      },
      "source": [
        "import cv2\n",
        "import imageio\n",
        "import numpy as np\n",
        "import matplotlib.pyplot as plt\n",
        "from keras.utils import to_categorical\n",
        "\n",
        "from torch.utils.data import DataLoader, TensorDataset\n",
        "from torch.utils.data.sampler import SubsetRandomSampler \n",
        "\n",
        "\n",
        "# ------ Get Label Image ------#\n",
        "\n",
        "def get_labeled_image(image, label, is_categorical=False):\n",
        "    if not is_categorical:\n",
        "        label = to_categorical(label, num_classes=4).astype(np.uint8)\n",
        "\n",
        "    image = cv2.normalize(image[:, :, :, 0], None, alpha=0, beta=255,\n",
        "                          norm_type=cv2.NORM_MINMAX, dtype=cv2.CV_32F).astype(\n",
        "        np.uint8)\n",
        "\n",
        "    labeled_image = np.zeros_like(label[:, :, :, 1:])\n",
        "\n",
        "    # remove tumor part from image\n",
        "    labeled_image[:, :, :, 0] = image * (label[:, :, :, 0])\n",
        "    labeled_image[:, :, :, 1] = image * (label[:, :, :, 0])\n",
        "    labeled_image[:, :, :, 2] = image * (label[:, :, :, 0])\n",
        "\n",
        "    # color labels\n",
        "    labeled_image += label[:, :, :, 1:] * 255\n",
        "    return labeled_image\n",
        "\n",
        "\n",
        "\n",
        "# ------ DataGenerator ------#\n",
        "\n",
        "def DataGenerator(X, y, batch_size=6, valid_size=0.3):\n",
        "    dataset = TensorDataset(X, y)\n",
        "    len_dataset = len(dataset)\n",
        "\n",
        "    indices = list(range(len_dataset))\n",
        "    np.random.shuffle(indices)\n",
        "    split = int(np.floor(valid_size * len_dataset))\n",
        "    train_idx, valid_idx = indices[split:], indices[:split]\n",
        "\n",
        "    train_sampler = SubsetRandomSampler(train_idx)\n",
        "    valid_sampler = SubsetRandomSampler(valid_idx)\n",
        "\n",
        "    train_loader = DataLoader(dataset, batch_size = batch_size, sampler=train_sampler)\n",
        "    valid_loader = DataLoader(dataset, batch_size = batch_size, sampler=valid_sampler)\n",
        "\n",
        "    return train_loader, valid_loader\n",
        "\n",
        "\n",
        "# ------ For Visualization ------#\n",
        "\n",
        "def plot_image_grid(image):\n",
        "    data_all = []\n",
        "\n",
        "    data_all.append(image)\n",
        "\n",
        "    fig, ax = plt.subplots(3, 6, figsize=[16, 9])\n",
        "\n",
        "    # coronal plane\n",
        "    coronal = np.transpose(data_all, [1, 3, 2, 4, 0])\n",
        "    coronal = np.rot90(coronal, 1)\n",
        "\n",
        "    # transversal plane\n",
        "    transversal = np.transpose(data_all, [2, 1, 3, 4, 0])\n",
        "    transversal = np.rot90(transversal, 2)\n",
        "\n",
        "    # sagittal plane\n",
        "    sagittal = np.transpose(data_all, [2, 3, 1, 4, 0])\n",
        "    sagittal = np.rot90(sagittal, 1)\n",
        "\n",
        "    for i in range(6):\n",
        "        n = np.random.randint(coronal.shape[2])\n",
        "        ax[0][i].imshow(np.squeeze(coronal[:, :, n, :]))\n",
        "        ax[0][i].set_xticks([])\n",
        "        ax[0][i].set_yticks([])\n",
        "        if i == 0:\n",
        "            ax[0][i].set_ylabel('Coronal', fontsize=15)\n",
        "\n",
        "    for i in range(6):\n",
        "        n = np.random.randint(transversal.shape[2])\n",
        "        ax[1][i].imshow(np.squeeze(transversal[:, :, n, :]))\n",
        "        ax[1][i].set_xticks([])\n",
        "        ax[1][i].set_yticks([])\n",
        "        if i == 0:\n",
        "            ax[1][i].set_ylabel('Transversal', fontsize=15)\n",
        "\n",
        "    for i in range(6):\n",
        "        n = np.random.randint(sagittal.shape[2])\n",
        "        ax[2][i].imshow(np.squeeze(sagittal[:, :, n, :]))\n",
        "        ax[2][i].set_xticks([])\n",
        "        ax[2][i].set_yticks([])\n",
        "        if i == 0:\n",
        "            ax[2][i].set_ylabel('Sagittal', fontsize=15)\n",
        "\n",
        "    fig.subplots_adjust(wspace=0, hspace=0)\n",
        "\n",
        "\n",
        "def visualize_data_gif(data_):\n",
        "    images = []\n",
        "    for i in range(data_.shape[0]):\n",
        "        x = data_[min(i, data_.shape[0] - 1), :, :]\n",
        "        y = data_[:, min(i, data_.shape[1] - 1), :]\n",
        "        z = data_[:, :, min(i, data_.shape[2] - 1)]\n",
        "        img = np.concatenate((x, y, z), axis=1)\n",
        "        images.append(img)\n",
        "    imageio.mimsave(\"/tmp/gif.gif\", images, duration=0.01)\n",
        "    return Image(filename=\"/tmp/gif.gif\", format='png')\n",
        "\n",
        "\n",
        "def visualize_patch(X, y):\n",
        "    fig, ax = plt.subplots(1, 2, figsize=[10, 5], squeeze=False)\n",
        "\n",
        "    ax[0][0].imshow(X[:, :, 0], cmap='Greys_r')\n",
        "    ax[0][0].set_yticks([])\n",
        "    ax[0][0].set_xticks([])\n",
        "    ax[0][1].imshow(y[:, :, 0], cmap='Greys_r')\n",
        "    ax[0][1].set_xticks([])\n",
        "    ax[0][1].set_yticks([])\n",
        "\n",
        "    fig.subplots_adjust(wspace=0, hspace=0)"
      ],
      "execution_count": null,
      "outputs": []
    },
    {
      "cell_type": "code",
      "metadata": {
        "id": "GOE_tIOu0AJL"
      },
      "source": [
        ""
      ],
      "execution_count": null,
      "outputs": []
    },
    {
      "cell_type": "code",
      "metadata": {
        "id": "G6JO4Lx40ALx"
      },
      "source": [
        ""
      ],
      "execution_count": null,
      "outputs": []
    },
    {
      "cell_type": "code",
      "metadata": {
        "id": "kKIRhpNX0AOl"
      },
      "source": [
        ""
      ],
      "execution_count": null,
      "outputs": []
    },
    {
      "cell_type": "code",
      "metadata": {
        "id": "gy-TdJhm0AQ3"
      },
      "source": [
        ""
      ],
      "execution_count": null,
      "outputs": []
    },
    {
      "cell_type": "code",
      "metadata": {
        "id": "R8taMiP10ATr"
      },
      "source": [
        ""
      ],
      "execution_count": null,
      "outputs": []
    },
    {
      "cell_type": "markdown",
      "metadata": {
        "id": "mJALWTD4xynV"
      },
      "source": [
        "# Model"
      ]
    },
    {
      "cell_type": "code",
      "metadata": {
        "id": "Y_wIrQtaxzO6"
      },
      "source": [
        "\n",
        "import numpy as np\n",
        "import pandas as pd\n",
        "import nibabel as nib\n",
        "import matplotlib.pyplot as plt\n",
        "\n",
        "import torch\n",
        "import torch.nn.functional as F\n",
        "from torch import nn, optim\n",
        "\n",
        "device = torch.device(\"cuda\" if torch.cuda.is_available() else \"cpu\")"
      ],
      "execution_count": null,
      "outputs": []
    },
    {
      "cell_type": "code",
      "metadata": {
        "id": "aW6vI65sx0Bx"
      },
      "source": [
        "X = torch.load('/content/drive/MyDrive/Masters_Project/Datasets/medicaldecathlon/Task01_BrainTumour/TensorData/X.pt')\n",
        "y = torch.load('/content/drive/MyDrive/Masters_Project/Datasets/medicaldecathlon/Task01_BrainTumour/TensorData/y.pt')\n",
        "\n",
        "train_loader, valid_loader = DataGenerator(X, y, batch_size=8, valid_size=0.3)"
      ],
      "execution_count": null,
      "outputs": []
    },
    {
      "cell_type": "code",
      "metadata": {
        "colab": {
          "base_uri": "https://localhost:8080/"
        },
        "id": "h0Fk6Wtix0tw",
        "outputId": "e7880561-05a6-485b-f1c8-2c361504c169"
      },
      "source": [
        "print(len(train_loader.sampler))\n",
        "print(len(valid_loader.sampler))"
      ],
      "execution_count": null,
      "outputs": [
        {
          "output_type": "stream",
          "text": [
            "116\n",
            "49\n"
          ],
          "name": "stdout"
        }
      ]
    },
    {
      "cell_type": "code",
      "metadata": {
        "id": "ZjnrOlNMx87J"
      },
      "source": [
        ""
      ],
      "execution_count": null,
      "outputs": []
    },
    {
      "cell_type": "code",
      "metadata": {
        "id": "KABZdkrix89-"
      },
      "source": [
        "def conv_block(in_chan, out_chan, final_layer=False):\n",
        "    if not final_layer:\n",
        "        return nn.Sequential(\n",
        "            nn.Conv3d(in_chan, out_chan, kernel_size=3, stride=1, padding=1),\n",
        "            nn.BatchNorm3d(out_chan),\n",
        "            nn.ReLU(inplace=True))\n",
        "    else:\n",
        "        return nn.Sequential(\n",
        "            nn.Conv3d(in_chan, out_chan, kernel_size=3, stride=1, padding=1),\n",
        "            nn.BatchNorm3d(out_chan))"
      ],
      "execution_count": null,
      "outputs": []
    },
    {
      "cell_type": "code",
      "metadata": {
        "id": "U87jNXMMx0wn"
      },
      "source": [
        "class Unet3D(nn.Module):\n",
        "\n",
        "    def __init__(self, in_chan, out_chan, filters):\n",
        "        super(Unet3D, self).__init__()\n",
        "\n",
        "        self.in_chan = in_chan\n",
        "        self.out_chan = out_chan\n",
        "        self.filters = filters\n",
        "\n",
        "        # Encoder\n",
        "        self.conv_1 = conv_block(self.in_chan, self.filters * 1)\n",
        "        self.conv_2 = conv_block(self.filters * 1, self.filters * 2)\n",
        "        self.conv_3 = conv_block(self.filters * 2, self.filters * 4)\n",
        "\n",
        "        self.conv_1_1 = conv_block(filters * 1, filters * 1)\n",
        "        self.conv_2_1 = conv_block(filters * 2, filters * 2)\n",
        "        self.conv_3_1 = conv_block(filters * 4, filters * 4)\n",
        "\n",
        "        self.max_pool = nn.MaxPool3d(kernel_size=2, stride=2)\n",
        "\n",
        "        # Bottel-neck\n",
        "        self.bottel_neck = conv_block(self.filters * 4, self.filters * 8)\n",
        "        self.dropout = nn.Dropout3d(0.3)\n",
        "\n",
        "        # Decoder\n",
        "        self.upsample = nn.Upsample(scale_factor=(2.0, 2.0, 2.0), mode='nearest')\n",
        "        self.dconv_1 = conv_block(self.filters * 12, self.filters * 4)\n",
        "        self.dconv_2 = conv_block(self.filters * 6, self.filters * 2)\n",
        "        self.dconv_3 = conv_block(self.filters * 3, self.filters * 1)\n",
        "\n",
        "        # Output and Conv_block\n",
        "        self.output = conv_block(self.filters * 1, self.out_chan, final_layer=True)\n",
        "\n",
        "    def forward(self, x):\n",
        "\n",
        "        # Down Sampling\n",
        "        conv1 = self.conv_1_1(self.conv_1(x))                                         # (:, 16, :, :, :)\n",
        "        conv2 = self.conv_2_1(self.conv_2(self.max_pool(conv1)))                      # (:, 32, :, :, :)\n",
        "        conv3 = self.conv_3_1(self.conv_3(self.dropout(self.max_pool(conv2))))        # (:, 64, :, :, :)\n",
        "\n",
        "        # Bottel-neck\n",
        "        bottelneck = self.bottel_neck(self.max_pool(conv3))                           # (:, 128, :, :, :)\n",
        "\n",
        "        # Up Sampling\n",
        "        upconv1 = self.upsample(bottelneck)                                           # (:, 128, :, :, :)\n",
        "        upconv1 = torch.cat([upconv1, conv3], dim=1)                                  # (:, 192, :, :, :)\n",
        "        upconv1 = self.dconv_1(upconv1)                                               # (:, 64, :, :, :)\n",
        "\n",
        "        upconv2 = self.upsample(upconv1)                                              # (:, 64, :, :, :)\n",
        "        upconv2 = torch.cat([upconv2, conv2], dim=1)                                  # (:, 96, :, :, :)\n",
        "        upconv2 = self.dconv_2(self.dropout(upconv2))                                 # (:, 32, :, :, :)\n",
        "\n",
        "        upconv3 = self.upsample(upconv2)                                              # (:, 32, :, :, :)\n",
        "        upconv3 = torch.cat([upconv3, conv1], dim=1)                                  # (:, 48, :, :, :)\n",
        "        upconv3 = self.dconv_3(upconv3)                                               # (:, 16, :, :, :)\n",
        "\n",
        "        out = F.logsigmoid(self.output(upconv3))                                      # (:, 3, :, :, :)\n",
        "\n",
        "        return out"
      ],
      "execution_count": null,
      "outputs": []
    },
    {
      "cell_type": "code",
      "metadata": {
        "colab": {
          "base_uri": "https://localhost:8080/"
        },
        "id": "RWDNpDssx0zP",
        "outputId": "389b54f8-4be8-4a04-951f-6e21eeec45e1"
      },
      "source": [
        "model = Unet3D(in_chan=4, out_chan=3, filters=16)\n",
        "model.to(device)"
      ],
      "execution_count": null,
      "outputs": [
        {
          "output_type": "execute_result",
          "data": {
            "text/plain": [
              "Unet3D(\n",
              "  (conv_1): Sequential(\n",
              "    (0): Conv3d(4, 16, kernel_size=(3, 3, 3), stride=(1, 1, 1), padding=(1, 1, 1))\n",
              "    (1): BatchNorm3d(16, eps=1e-05, momentum=0.1, affine=True, track_running_stats=True)\n",
              "    (2): ReLU(inplace=True)\n",
              "  )\n",
              "  (conv_2): Sequential(\n",
              "    (0): Conv3d(16, 32, kernel_size=(3, 3, 3), stride=(1, 1, 1), padding=(1, 1, 1))\n",
              "    (1): BatchNorm3d(32, eps=1e-05, momentum=0.1, affine=True, track_running_stats=True)\n",
              "    (2): ReLU(inplace=True)\n",
              "  )\n",
              "  (conv_3): Sequential(\n",
              "    (0): Conv3d(32, 64, kernel_size=(3, 3, 3), stride=(1, 1, 1), padding=(1, 1, 1))\n",
              "    (1): BatchNorm3d(64, eps=1e-05, momentum=0.1, affine=True, track_running_stats=True)\n",
              "    (2): ReLU(inplace=True)\n",
              "  )\n",
              "  (conv_1_1): Sequential(\n",
              "    (0): Conv3d(16, 16, kernel_size=(3, 3, 3), stride=(1, 1, 1), padding=(1, 1, 1))\n",
              "    (1): BatchNorm3d(16, eps=1e-05, momentum=0.1, affine=True, track_running_stats=True)\n",
              "    (2): ReLU(inplace=True)\n",
              "  )\n",
              "  (conv_2_1): Sequential(\n",
              "    (0): Conv3d(32, 32, kernel_size=(3, 3, 3), stride=(1, 1, 1), padding=(1, 1, 1))\n",
              "    (1): BatchNorm3d(32, eps=1e-05, momentum=0.1, affine=True, track_running_stats=True)\n",
              "    (2): ReLU(inplace=True)\n",
              "  )\n",
              "  (conv_3_1): Sequential(\n",
              "    (0): Conv3d(64, 64, kernel_size=(3, 3, 3), stride=(1, 1, 1), padding=(1, 1, 1))\n",
              "    (1): BatchNorm3d(64, eps=1e-05, momentum=0.1, affine=True, track_running_stats=True)\n",
              "    (2): ReLU(inplace=True)\n",
              "  )\n",
              "  (max_pool): MaxPool3d(kernel_size=2, stride=2, padding=0, dilation=1, ceil_mode=False)\n",
              "  (bottel_neck): Sequential(\n",
              "    (0): Conv3d(64, 128, kernel_size=(3, 3, 3), stride=(1, 1, 1), padding=(1, 1, 1))\n",
              "    (1): BatchNorm3d(128, eps=1e-05, momentum=0.1, affine=True, track_running_stats=True)\n",
              "    (2): ReLU(inplace=True)\n",
              "  )\n",
              "  (dropout): Dropout3d(p=0.3, inplace=False)\n",
              "  (upsample): Upsample(scale_factor=(2.0, 2.0, 2.0), mode=nearest)\n",
              "  (dconv_1): Sequential(\n",
              "    (0): Conv3d(192, 64, kernel_size=(3, 3, 3), stride=(1, 1, 1), padding=(1, 1, 1))\n",
              "    (1): BatchNorm3d(64, eps=1e-05, momentum=0.1, affine=True, track_running_stats=True)\n",
              "    (2): ReLU(inplace=True)\n",
              "  )\n",
              "  (dconv_2): Sequential(\n",
              "    (0): Conv3d(96, 32, kernel_size=(3, 3, 3), stride=(1, 1, 1), padding=(1, 1, 1))\n",
              "    (1): BatchNorm3d(32, eps=1e-05, momentum=0.1, affine=True, track_running_stats=True)\n",
              "    (2): ReLU(inplace=True)\n",
              "  )\n",
              "  (dconv_3): Sequential(\n",
              "    (0): Conv3d(48, 16, kernel_size=(3, 3, 3), stride=(1, 1, 1), padding=(1, 1, 1))\n",
              "    (1): BatchNorm3d(16, eps=1e-05, momentum=0.1, affine=True, track_running_stats=True)\n",
              "    (2): ReLU(inplace=True)\n",
              "  )\n",
              "  (output): Sequential(\n",
              "    (0): Conv3d(16, 3, kernel_size=(3, 3, 3), stride=(1, 1, 1), padding=(1, 1, 1))\n",
              "    (1): BatchNorm3d(3, eps=1e-05, momentum=0.1, affine=True, track_running_stats=True)\n",
              "  )\n",
              ")"
            ]
          },
          "metadata": {
            "tags": []
          },
          "execution_count": 30
        }
      ]
    },
    {
      "cell_type": "code",
      "metadata": {
        "id": "__qXQUM8x01q"
      },
      "source": [
        "def dice_coefficient(y_true, y_pred, axis=(1, 2, 3), epsilon=0.00001):\n",
        "    dice_numerator = (2.0 * torch.sum(y_pred * y_true, axis=axis)) + epsilon\n",
        "    dice_denominator = torch.sum(y_pred, dim=axis) + torch.sum(y_true, dim=axis) + epsilon\n",
        "    dice_coefficient = torch.mean(dice_numerator / dice_denominator)\n",
        "    return dice_coefficient\n",
        "\n",
        "def soft_dice_loss(y_true, y_pred, axis=(1, 2, 3), epsilon=0.00001):\n",
        "    dice_numerator = (2.0 * torch.sum(y_pred * y_true, axis=axis)) + epsilon\n",
        "    dice_denominator = torch.sum(y_pred**2, dim=axis) + torch.sum(y_true**2, dim=axis) + epsilon\n",
        "    dice_loss = 1 - torch.mean(dice_numerator / dice_denominator)\n",
        "    return dice_loss"
      ],
      "execution_count": null,
      "outputs": []
    },
    {
      "cell_type": "code",
      "metadata": {
        "id": "doPS0oD8yJZT"
      },
      "source": [
        "optimizer = optim.Adam(model.parameters(), lr=0.1)"
      ],
      "execution_count": null,
      "outputs": []
    },
    {
      "cell_type": "code",
      "metadata": {
        "id": "xGNz_swqyZEU"
      },
      "source": [
        "epochs = 50\n",
        "hist_train_loss = []\n",
        "hist_val_loss = []\n",
        "\n",
        "hist_train_dice = []\n",
        "hist_val_dice = []\n",
        "\n",
        "valid_loss_min = np.Inf"
      ],
      "execution_count": null,
      "outputs": []
    },
    {
      "cell_type": "code",
      "metadata": {
        "colab": {
          "base_uri": "https://localhost:8080/"
        },
        "id": "gpyjy3RzyZxY",
        "outputId": "9b6a2170-b9bd-402c-d987-af20d4ce5287"
      },
      "source": [
        "for epoch in range(epochs):\n",
        "\n",
        "    train_loss = 0.0\n",
        "    val_loss = 0.0\n",
        "    train_dice = 0.0\n",
        "    val_dice = 0.0\n",
        "\n",
        "    model.train()\n",
        "    for images,labels in train_loader:\n",
        "\n",
        "        images = images.cuda()\n",
        "        labels = labels.cuda()\n",
        "\n",
        "        optimizer.zero_grad()\n",
        "        logps = model(images)\n",
        "        ps = torch.exp(logps)\n",
        "\n",
        "        dice = dice_coefficient(labels, ps)\n",
        "        loss = soft_dice_loss(labels, ps)\n",
        "        loss.backward()\n",
        "        optimizer.step()\n",
        "\n",
        "        train_loss += loss.item()*images.size(0)\n",
        "        train_dice += dice.item()*images.size(0)\n",
        "        \n",
        "    model.eval()\n",
        "    with torch.no_grad():\n",
        "        for images,labels in valid_loader:\n",
        "\n",
        "            images = images.cuda()\n",
        "            labels = labels.cuda()\n",
        "\n",
        "            logps = model(images)\n",
        "            ps = torch.exp(logps)\n",
        "\n",
        "            dice = dice_coefficient(labels, ps)\n",
        "            loss = soft_dice_loss(labels,ps)        \n",
        "            val_loss += loss.item()*images.size(0)\n",
        "            val_dice += dice.item()*images.size(0)\n",
        "    \n",
        "    train_loss = train_loss / len(train_loader.sampler)\n",
        "    val_loss = val_loss / len(valid_loader.sampler)\n",
        "    train_dice = train_dice / len(train_loader.sampler)\n",
        "    val_dice = val_dice / len(valid_loader.sampler)\n",
        "\n",
        "    hist_train_loss.append(train_loss)\n",
        "    hist_val_loss.append(val_loss)\n",
        "    hist_train_dice.append(train_dice)\n",
        "    hist_val_dice.append(val_dice)\n",
        "\n",
        "    print(\"\\nEpoch : {} \\ntraining Loss : {:.6f}, \\tTrain_dice : {:.6f}, \\nValidation Loss : {:.6f}, \\tVal_dice : {:.6f}\".format(epoch + 1, \n",
        "                                                                                                                    train_loss, train_dice,\n",
        "                                                                                                                    val_loss, val_dice))\n",
        "    if val_loss <= valid_loss_min:\n",
        "        print('Validation loss decreased ({:.6f} --> {:.6f}).\\nSaving model ...'.format(valid_loss_min,val_loss))\n",
        "        torch.save(model.state_dict(), 'TumorSegmentation.pt')\n",
        "        valid_loss_min = val_loss"
      ],
      "execution_count": null,
      "outputs": [
        {
          "output_type": "stream",
          "text": [
            "\n",
            "Epoch : 1 \n",
            "training Loss : 0.753534, \tTrain_dice : 0.121496, \n",
            "Validation Loss : 0.950004, \tVal_dice : 0.049807\n",
            "Validation loss decreased (inf --> 0.950004).\n",
            "Saving model ...\n",
            "\n",
            "Epoch : 2 \n",
            "training Loss : 0.517229, \tTrain_dice : 0.253770, \n",
            "Validation Loss : 0.797174, \tVal_dice : 0.160072\n",
            "Validation loss decreased (0.950004 --> 0.797174).\n",
            "Saving model ...\n",
            "\n",
            "Epoch : 3 \n",
            "training Loss : 0.442693, \tTrain_dice : 0.351976, \n",
            "Validation Loss : 0.716915, \tVal_dice : 0.230310\n",
            "Validation loss decreased (0.797174 --> 0.716915).\n",
            "Saving model ...\n",
            "\n",
            "Epoch : 4 \n",
            "training Loss : 0.417432, \tTrain_dice : 0.393308, \n",
            "Validation Loss : 0.486486, \tVal_dice : 0.364050\n",
            "Validation loss decreased (0.716915 --> 0.486486).\n",
            "Saving model ...\n",
            "\n",
            "Epoch : 5 \n",
            "training Loss : 0.419591, \tTrain_dice : 0.397507, \n",
            "Validation Loss : 0.666474, \tVal_dice : 0.247727\n",
            "\n",
            "Epoch : 6 \n",
            "training Loss : 0.422297, \tTrain_dice : 0.399751, \n",
            "Validation Loss : 0.525427, \tVal_dice : 0.343120\n",
            "\n",
            "Epoch : 7 \n",
            "training Loss : 0.406358, \tTrain_dice : 0.410201, \n",
            "Validation Loss : 0.442527, \tVal_dice : 0.378754\n",
            "Validation loss decreased (0.486486 --> 0.442527).\n",
            "Saving model ...\n",
            "\n",
            "Epoch : 8 \n",
            "training Loss : 0.399684, \tTrain_dice : 0.415495, \n",
            "Validation Loss : 0.438222, \tVal_dice : 0.392986\n",
            "Validation loss decreased (0.442527 --> 0.438222).\n",
            "Saving model ...\n",
            "\n",
            "Epoch : 9 \n",
            "training Loss : 0.372118, \tTrain_dice : 0.437107, \n",
            "Validation Loss : 0.408286, \tVal_dice : 0.416539\n",
            "Validation loss decreased (0.438222 --> 0.408286).\n",
            "Saving model ...\n",
            "\n",
            "Epoch : 10 \n",
            "training Loss : 0.349980, \tTrain_dice : 0.466884, \n",
            "Validation Loss : 0.488430, \tVal_dice : 0.326881\n",
            "\n",
            "Epoch : 11 \n",
            "training Loss : 0.319727, \tTrain_dice : 0.484964, \n",
            "Validation Loss : 0.458811, \tVal_dice : 0.388994\n",
            "\n",
            "Epoch : 12 \n",
            "training Loss : 0.295947, \tTrain_dice : 0.498644, \n",
            "Validation Loss : 0.707117, \tVal_dice : 0.204270\n",
            "\n",
            "Epoch : 13 \n",
            "training Loss : 0.293301, \tTrain_dice : 0.509006, \n",
            "Validation Loss : 0.335795, \tVal_dice : 0.487414\n",
            "Validation loss decreased (0.408286 --> 0.335795).\n",
            "Saving model ...\n",
            "\n",
            "Epoch : 14 \n",
            "training Loss : 0.282530, \tTrain_dice : 0.540321, \n",
            "Validation Loss : 0.359621, \tVal_dice : 0.497394\n",
            "\n",
            "Epoch : 15 \n",
            "training Loss : 0.276068, \tTrain_dice : 0.541838, \n",
            "Validation Loss : 0.281110, \tVal_dice : 0.558624\n",
            "Validation loss decreased (0.335795 --> 0.281110).\n",
            "Saving model ...\n",
            "\n",
            "Epoch : 16 \n",
            "training Loss : 0.260175, \tTrain_dice : 0.549636, \n",
            "Validation Loss : 0.452889, \tVal_dice : 0.397869\n",
            "\n",
            "Epoch : 17 \n",
            "training Loss : 0.251388, \tTrain_dice : 0.568486, \n",
            "Validation Loss : 0.365801, \tVal_dice : 0.497087\n",
            "\n",
            "Epoch : 18 \n",
            "training Loss : 0.244667, \tTrain_dice : 0.586910, \n",
            "Validation Loss : 0.267370, \tVal_dice : 0.604358\n",
            "Validation loss decreased (0.281110 --> 0.267370).\n",
            "Saving model ...\n",
            "\n",
            "Epoch : 19 \n",
            "training Loss : 0.231949, \tTrain_dice : 0.603284, \n",
            "Validation Loss : 0.309160, \tVal_dice : 0.547694\n",
            "\n",
            "Epoch : 20 \n",
            "training Loss : 0.246140, \tTrain_dice : 0.590744, \n",
            "Validation Loss : 0.299309, \tVal_dice : 0.561870\n",
            "\n",
            "Epoch : 21 \n",
            "training Loss : 0.247461, \tTrain_dice : 0.597076, \n",
            "Validation Loss : 0.391684, \tVal_dice : 0.459608\n",
            "\n",
            "Epoch : 22 \n",
            "training Loss : 0.235215, \tTrain_dice : 0.618673, \n",
            "Validation Loss : 0.317478, \tVal_dice : 0.533471\n",
            "\n",
            "Epoch : 23 \n",
            "training Loss : 0.233824, \tTrain_dice : 0.612149, \n",
            "Validation Loss : 0.280653, \tVal_dice : 0.585490\n",
            "\n",
            "Epoch : 24 \n",
            "training Loss : 0.232129, \tTrain_dice : 0.613087, \n",
            "Validation Loss : 0.347331, \tVal_dice : 0.546603\n",
            "\n",
            "Epoch : 25 \n",
            "training Loss : 0.222862, \tTrain_dice : 0.624916, \n",
            "Validation Loss : 0.251104, \tVal_dice : 0.590738\n",
            "Validation loss decreased (0.267370 --> 0.251104).\n",
            "Saving model ...\n",
            "\n",
            "Epoch : 26 \n",
            "training Loss : 0.220029, \tTrain_dice : 0.625638, \n",
            "Validation Loss : 0.261427, \tVal_dice : 0.591958\n",
            "\n",
            "Epoch : 27 \n",
            "training Loss : 0.225984, \tTrain_dice : 0.622636, \n",
            "Validation Loss : 0.279535, \tVal_dice : 0.568224\n",
            "\n",
            "Epoch : 28 \n",
            "training Loss : 0.227397, \tTrain_dice : 0.625442, \n",
            "Validation Loss : 0.262350, \tVal_dice : 0.584307\n",
            "\n",
            "Epoch : 29 \n",
            "training Loss : 0.217893, \tTrain_dice : 0.639070, \n",
            "Validation Loss : 0.248539, \tVal_dice : 0.618895\n",
            "Validation loss decreased (0.251104 --> 0.248539).\n",
            "Saving model ...\n",
            "\n",
            "Epoch : 30 \n",
            "training Loss : 0.221375, \tTrain_dice : 0.633850, \n",
            "Validation Loss : 0.265388, \tVal_dice : 0.623507\n",
            "\n",
            "Epoch : 31 \n",
            "training Loss : 0.217877, \tTrain_dice : 0.642804, \n",
            "Validation Loss : 0.256146, \tVal_dice : 0.603948\n",
            "\n",
            "Epoch : 32 \n",
            "training Loss : 0.211461, \tTrain_dice : 0.642096, \n",
            "Validation Loss : 0.247261, \tVal_dice : 0.615316\n",
            "Validation loss decreased (0.248539 --> 0.247261).\n",
            "Saving model ...\n",
            "\n",
            "Epoch : 33 \n",
            "training Loss : 0.220913, \tTrain_dice : 0.640916, \n",
            "Validation Loss : 0.255457, \tVal_dice : 0.599464\n",
            "\n",
            "Epoch : 34 \n",
            "training Loss : 0.222184, \tTrain_dice : 0.631956, \n",
            "Validation Loss : 0.263861, \tVal_dice : 0.613112\n",
            "\n",
            "Epoch : 35 \n",
            "training Loss : 0.215650, \tTrain_dice : 0.645058, \n",
            "Validation Loss : 0.242410, \tVal_dice : 0.619941\n",
            "Validation loss decreased (0.247261 --> 0.242410).\n",
            "Saving model ...\n",
            "\n",
            "Epoch : 36 \n",
            "training Loss : 0.216010, \tTrain_dice : 0.642034, \n",
            "Validation Loss : 0.231925, \tVal_dice : 0.627251\n",
            "Validation loss decreased (0.242410 --> 0.231925).\n",
            "Saving model ...\n",
            "\n",
            "Epoch : 37 \n",
            "training Loss : 0.210108, \tTrain_dice : 0.645472, \n",
            "Validation Loss : 0.263026, \tVal_dice : 0.606634\n",
            "\n",
            "Epoch : 38 \n",
            "training Loss : 0.210235, \tTrain_dice : 0.657059, \n",
            "Validation Loss : 0.234608, \tVal_dice : 0.624689\n",
            "\n",
            "Epoch : 39 \n",
            "training Loss : 0.210108, \tTrain_dice : 0.643871, \n",
            "Validation Loss : 0.227154, \tVal_dice : 0.650684\n",
            "Validation loss decreased (0.231925 --> 0.227154).\n",
            "Saving model ...\n",
            "\n",
            "Epoch : 40 \n",
            "training Loss : 0.207884, \tTrain_dice : 0.658019, \n",
            "Validation Loss : 0.330894, \tVal_dice : 0.568089\n",
            "\n",
            "Epoch : 41 \n",
            "training Loss : 0.221341, \tTrain_dice : 0.642567, \n",
            "Validation Loss : 0.277954, \tVal_dice : 0.587970\n",
            "\n",
            "Epoch : 42 \n",
            "training Loss : 0.212299, \tTrain_dice : 0.657215, \n",
            "Validation Loss : 0.330661, \tVal_dice : 0.554643\n",
            "\n",
            "Epoch : 43 \n",
            "training Loss : 0.230945, \tTrain_dice : 0.638798, \n",
            "Validation Loss : 0.297956, \tVal_dice : 0.583717\n",
            "\n",
            "Epoch : 44 \n",
            "training Loss : 0.219653, \tTrain_dice : 0.641237, \n",
            "Validation Loss : 0.251324, \tVal_dice : 0.617379\n",
            "\n",
            "Epoch : 45 \n",
            "training Loss : 0.206474, \tTrain_dice : 0.655264, \n",
            "Validation Loss : 0.257030, \tVal_dice : 0.625365\n",
            "\n",
            "Epoch : 46 \n",
            "training Loss : 0.203849, \tTrain_dice : 0.665043, \n",
            "Validation Loss : 0.255419, \tVal_dice : 0.638134\n",
            "\n",
            "Epoch : 47 \n",
            "training Loss : 0.212696, \tTrain_dice : 0.652301, \n",
            "Validation Loss : 0.242621, \tVal_dice : 0.644436\n",
            "\n",
            "Epoch : 48 \n",
            "training Loss : 0.205145, \tTrain_dice : 0.657356, \n",
            "Validation Loss : 0.235932, \tVal_dice : 0.637973\n",
            "\n",
            "Epoch : 49 \n",
            "training Loss : 0.203314, \tTrain_dice : 0.663899, \n",
            "Validation Loss : 0.283295, \tVal_dice : 0.589502\n",
            "\n",
            "Epoch : 50 \n",
            "training Loss : 0.204062, \tTrain_dice : 0.656911, \n",
            "Validation Loss : 0.242371, \tVal_dice : 0.592198\n"
          ],
          "name": "stdout"
        }
      ]
    },
    {
      "cell_type": "code",
      "metadata": {
        "id": "BiSblQdnyZ2j",
        "colab": {
          "base_uri": "https://localhost:8080/",
          "height": 279
        },
        "outputId": "22f4a888-288c-4d41-d73b-8fc0180d8eca"
      },
      "source": [
        "import matplotlib.pyplot as plt\n",
        "import numpy as np\n",
        "import pandas as pd\n",
        "\n",
        "plt.plot(hist_train_loss, label='train')\n",
        "plt.plot(hist_val_loss, label='validation')\n",
        "plt.xlabel('epochs')\n",
        "plt.ylabel('soft dice loss')\n",
        "plt.legend()\n",
        "plt.show()"
      ],
      "execution_count": null,
      "outputs": [
        {
          "output_type": "display_data",
          "data": {
            "image/png": "[encoded data removed]",
            "text/plain": [
              "<Figure size 432x288 with 1 Axes>"
            ]
          },
          "metadata": {
            "tags": []
          }
        }
      ]
    },
    {
      "cell_type": "code",
      "metadata": {
        "id": "yewffX3qyZ5V",
        "colab": {
          "base_uri": "https://localhost:8080/",
          "height": 279
        },
        "outputId": "9a01402a-d076-48de-d7a8-310f10ebf08b"
      },
      "source": [
        "plt.plot(hist_train_dice,label='train dice score')\n",
        "plt.plot(hist_val_dice,label='validation dice score')\n",
        "plt.xlabel('epochs')\n",
        "plt.ylabel('dice Coefficient')\n",
        "plt.legend()\n",
        "plt.show()"
      ],
      "execution_count": null,
      "outputs": [
        {
          "output_type": "display_data",
          "data": {
            "image/png": "[encoded data removed]",
            "text/plain": [
              "<Figure size 432x288 with 1 Axes>"
            ]
          },
          "metadata": {
            "tags": []
          }
        }
      ]
    },
    {
      "cell_type": "code",
      "metadata": {
        "id": "uqqkeE3GyZ8N",
        "colab": {
          "base_uri": "https://localhost:8080/"
        },
        "outputId": "0c0eef11-5122-4d59-f56a-87ead924cf0d"
      },
      "source": [
        "pred_y = model(torch.unsqueeze(X[55].cuda(), 0))\n",
        "pred_y = torch.exp(pred_y)\n",
        "pred_y.shape"
      ],
      "execution_count": null,
      "outputs": [
        {
          "output_type": "execute_result",
          "data": {
            "text/plain": [
              "torch.Size([1, 3, 160, 160, 16])"
            ]
          },
          "metadata": {
            "tags": []
          },
          "execution_count": 37
        }
      ]
    },
    {
      "cell_type": "code",
      "metadata": {
        "id": "y2b5--5OyZ-r"
      },
      "source": [
        "pred_y = torch.squeeze(pred_y, 0)\n",
        "pred_y = pred_y.cpu().detach().numpy()"
      ],
      "execution_count": null,
      "outputs": []
    },
    {
      "cell_type": "code",
      "metadata": {
        "id": "iHKVTan3yaBA",
        "colab": {
          "base_uri": "https://localhost:8080/"
        },
        "outputId": "e22989c1-e2e9-4d66-8a63-549ae46a8c12"
      },
      "source": [
        "true_y = y[55]\n",
        "true_y = true_y.numpy()\n",
        "true_y.shape"
      ],
      "execution_count": null,
      "outputs": [
        {
          "output_type": "execute_result",
          "data": {
            "text/plain": [
              "(3, 160, 160, 16)"
            ]
          },
          "metadata": {
            "tags": []
          },
          "execution_count": 39
        }
      ]
    },
    {
      "cell_type": "code",
      "metadata": {
        "colab": {
          "base_uri": "https://localhost:8080/",
          "height": 286
        },
        "id": "Dt21IeIZzrpI",
        "outputId": "e7474fe4-44cd-4727-95b7-13efb2f91fa1"
      },
      "source": [
        "plt.imshow(X[55][0,:,:,12], cmap = 'gray')"
      ],
      "execution_count": null,
      "outputs": [
        {
          "output_type": "execute_result",
          "data": {
            "text/plain": [
              "<matplotlib.image.AxesImage at 0x7faaf85cbf50>"
            ]
          },
          "metadata": {
            "tags": []
          },
          "execution_count": 40
        },
        {
          "output_type": "display_data",
          "data": {
            "image/png": "[encoded data removed]",
            "text/plain": [
              "<Figure size 432x288 with 1 Axes>"
            ]
          },
          "metadata": {
            "tags": []
          }
        }
      ]
    },
    {
      "cell_type": "code",
      "metadata": {
        "colab": {
          "base_uri": "https://localhost:8080/",
          "height": 303
        },
        "id": "CtiKfFMCz56f",
        "outputId": "6c86eb7d-d702-441b-d9c9-611a3d097344"
      },
      "source": [
        "print('Ground truth')\n",
        "plt.imshow(true_y[1,:,:,12],cmap = 'gray')"
      ],
      "execution_count": null,
      "outputs": [
        {
          "output_type": "stream",
          "text": [
            "Ground truth\n"
          ],
          "name": "stdout"
        },
        {
          "output_type": "execute_result",
          "data": {
            "text/plain": [
              "<matplotlib.image.AxesImage at 0x7faaaaab89d0>"
            ]
          },
          "metadata": {
            "tags": []
          },
          "execution_count": 41
        },
        {
          "output_type": "display_data",
          "data": {
            "image/png": "[encoded data removed]",
            "text/plain": [
              "<Figure size 432x288 with 1 Axes>"
            ]
          },
          "metadata": {
            "tags": []
          }
        }
      ]
    },
    {
      "cell_type": "code",
      "metadata": {
        "id": "dnTNiszAz9fR",
        "colab": {
          "base_uri": "https://localhost:8080/",
          "height": 303
        },
        "outputId": "1fcaf5eb-b8ff-443f-b951-972024d09d32"
      },
      "source": [
        "print('Prediction')\n",
        "plt.imshow(pred_y[1,:,:,12],cmap = 'gray')"
      ],
      "execution_count": null,
      "outputs": [
        {
          "output_type": "stream",
          "text": [
            "Prediction\n"
          ],
          "name": "stdout"
        },
        {
          "output_type": "execute_result",
          "data": {
            "text/plain": [
              "<matplotlib.image.AxesImage at 0x7faaaa9ea750>"
            ]
          },
          "metadata": {
            "tags": []
          },
          "execution_count": 42
        },
        {
          "output_type": "display_data",
          "data": {
            "image/png": "[encoded data removed]",
            "text/plain": [
              "<Figure size 432x288 with 1 Axes>"
            ]
          },
          "metadata": {
            "tags": []
          }
        }
      ]
    },
    {
      "cell_type": "code",
      "metadata": {
        "id": "8gkuWWjT0AKd"
      },
      "source": [
        ""
      ],
      "execution_count": null,
      "outputs": []
    }
  ]
}