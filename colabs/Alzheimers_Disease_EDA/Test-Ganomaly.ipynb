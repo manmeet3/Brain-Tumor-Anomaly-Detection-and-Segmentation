{
  "nbformat": 4,
  "nbformat_minor": 0,
  "metadata": {
    "colab": {
      "name": "Test-Ganomaly.ipynb",
      "provenance": []
    },
    "kernelspec": {
      "display_name": "Python 3",
      "language": "python",
      "name": "python3"
    },
    "language_info": {
      "codemirror_mode": {
        "name": "ipython",
        "version": 3
      },
      "file_extension": ".py",
      "mimetype": "text/x-python",
      "name": "python",
      "nbconvert_exporter": "python",
      "pygments_lexer": "ipython3",
      "version": "3.8.8"
    },
    "accelerator": "GPU"
  },
  "cells": [
    {
      "cell_type": "code",
      "metadata": {
        "colab": {
          "base_uri": "https://localhost:8080/"
        },
        "id": "d8h24gZHA22a",
        "outputId": "c0367058-69e4-4227-ce5e-9e72549baa2f"
      },
      "source": [
        "from google.colab import drive\n",
        "drive.mount(\"/content/drive\")"
      ],
      "execution_count": 1,
      "outputs": [
        {
          "output_type": "stream",
          "text": [
            "Mounted at /content/drive\n"
          ],
          "name": "stdout"
        }
      ]
    },
    {
      "cell_type": "markdown",
      "metadata": {
        "id": "s-VtdZSa_tEI"
      },
      "source": [
        "Note: If running with the rtx 3070, run using the latest pytorch image from nvidia webpage\n",
        "\n",
        "Previously used: `docker pull nvcr.io/nvidia/pytorch:21.03-py3`"
      ]
    },
    {
      "cell_type": "code",
      "metadata": {
        "colab": {
          "base_uri": "https://localhost:8080/"
        },
        "id": "cw7NyxqG_tEK",
        "outputId": "078dfb99-0a93-49f9-dc14-52f5d4fd8dac"
      },
      "source": [
        "#%cd /notebook/Masters_Project/ganomaly\n",
        "%cd /content/drive/MyDrive/Masters_Project/Datasets/OASIS3/ganomaly_pytorch/"
      ],
      "execution_count": 2,
      "outputs": [
        {
          "output_type": "stream",
          "text": [
            "/content/drive/MyDrive/Masters_Project/Datasets/OASIS3/ganomaly_pytorch\n"
          ],
          "name": "stdout"
        }
      ]
    },
    {
      "cell_type": "code",
      "metadata": {
        "id": "SwF5Sv0UA22l"
      },
      "source": [
        "#!git clone https://github.com/samet-akcay/ganomaly.git"
      ],
      "execution_count": 3,
      "outputs": []
    },
    {
      "cell_type": "code",
      "metadata": {
        "colab": {
          "base_uri": "https://localhost:8080/",
          "height": 1000
        },
        "id": "mlFEqc_2A22m",
        "outputId": "b7dddcdf-30a9-4d05-cc87-0dbbea57bc47"
      },
      "source": [
        "!pip install -r requirements.txt"
      ],
      "execution_count": 4,
      "outputs": [
        {
          "output_type": "stream",
          "text": [
            "Collecting asn1crypto==0.24.0\n",
            "\u001b[?25l  Downloading https://files.pythonhosted.org/packages/ea/cd/35485615f45f30a510576f1a56d1e0a7ad7bd8ab5ed7cdc600ef7cd06222/asn1crypto-0.24.0-py2.py3-none-any.whl (101kB)\n",
            "\r\u001b[K     |███▎                            | 10kB 21.6MB/s eta 0:00:01\r\u001b[K     |██████▌                         | 20kB 19.1MB/s eta 0:00:01\r\u001b[K     |█████████▊                      | 30kB 15.4MB/s eta 0:00:01\r\u001b[K     |█████████████                   | 40kB 14.1MB/s eta 0:00:01\r\u001b[K     |████████████████▏               | 51kB 9.3MB/s eta 0:00:01\r\u001b[K     |███████████████████▍            | 61kB 9.6MB/s eta 0:00:01\r\u001b[K     |██████████████████████▋         | 71kB 10.2MB/s eta 0:00:01\r\u001b[K     |█████████████████████████▉      | 81kB 11.2MB/s eta 0:00:01\r\u001b[K     |█████████████████████████████   | 92kB 10.4MB/s eta 0:00:01\r\u001b[K     |████████████████████████████████| 102kB 6.3MB/s \n",
            "\u001b[?25hCollecting certifi==2019.6.16\n",
            "\u001b[?25l  Downloading https://files.pythonhosted.org/packages/69/1b/b853c7a9d4f6a6d00749e94eb6f3a041e342a885b87340b79c1ef73e3a78/certifi-2019.6.16-py2.py3-none-any.whl (157kB)\n",
            "\u001b[K     |████████████████████████████████| 163kB 14.5MB/s \n",
            "\u001b[?25hCollecting cffi==1.12.3\n",
            "\u001b[?25l  Downloading https://files.pythonhosted.org/packages/a0/ea/37fe21475c884f88a2ae496cab10e8f84f0cc11137be860af9eb37a3edb9/cffi-1.12.3-cp37-cp37m-manylinux1_x86_64.whl (430kB)\n",
            "\u001b[K     |████████████████████████████████| 440kB 14.9MB/s \n",
            "\u001b[?25hRequirement already satisfied: chardet==3.0.4 in /usr/local/lib/python3.7/dist-packages (from -r requirements.txt (line 4)) (3.0.4)\n",
            "Collecting cryptography==2.7\n",
            "\u001b[?25l  Downloading https://files.pythonhosted.org/packages/97/18/c6557f63a6abde34707196fb2cad1c6dc0dbff25a200d5044922496668a4/cryptography-2.7-cp34-abi3-manylinux1_x86_64.whl (2.3MB)\n",
            "\u001b[K     |████████████████████████████████| 2.3MB 16.3MB/s \n",
            "\u001b[?25hRequirement already satisfied: cycler==0.10.0 in /usr/local/lib/python3.7/dist-packages (from -r requirements.txt (line 6)) (0.10.0)\n",
            "Collecting idna==2.8\n",
            "\u001b[?25l  Downloading https://files.pythonhosted.org/packages/14/2c/cd551d81dbe15200be1cf41cd03869a46fe7226e7450af7a6545bfc474c9/idna-2.8-py2.py3-none-any.whl (58kB)\n",
            "\u001b[K     |████████████████████████████████| 61kB 8.6MB/s \n",
            "\u001b[?25hCollecting joblib==0.13.2\n",
            "\u001b[?25l  Downloading https://files.pythonhosted.org/packages/cd/c1/50a758e8247561e58cb87305b1e90b171b8c767b15b12a1734001f41d356/joblib-0.13.2-py2.py3-none-any.whl (278kB)\n",
            "\u001b[K     |████████████████████████████████| 286kB 53.3MB/s \n",
            "\u001b[?25hCollecting kiwisolver==1.1.0\n",
            "\u001b[?25l  Downloading https://files.pythonhosted.org/packages/93/f8/518fb0bb89860eea6ff1b96483fbd9236d5ee991485d0f3eceff1770f654/kiwisolver-1.1.0-cp37-cp37m-manylinux1_x86_64.whl (90kB)\n",
            "\u001b[K     |████████████████████████████████| 92kB 12.6MB/s \n",
            "\u001b[?25hCollecting matplotlib==3.1.0\n",
            "\u001b[?25l  Downloading https://files.pythonhosted.org/packages/dc/cb/a34046e75c9a4ecaf426ae0d0eada97078c8ce4bbe3250940b1a312a1385/matplotlib-3.1.0-cp37-cp37m-manylinux1_x86_64.whl (13.1MB)\n",
            "\u001b[K     |████████████████████████████████| 13.1MB 25.0MB/s \n",
            "\u001b[?25hCollecting numpy==1.16.4\n",
            "\u001b[?25l  Downloading https://files.pythonhosted.org/packages/fc/d1/45be1144b03b6b1e24f9a924f23f66b4ad030d834ad31fb9e5581bd328af/numpy-1.16.4-cp37-cp37m-manylinux1_x86_64.whl (17.3MB)\n",
            "\u001b[K     |████████████████████████████████| 17.3MB 193kB/s \n",
            "\u001b[?25hCollecting olefile==0.46\n",
            "\u001b[?25l  Downloading https://files.pythonhosted.org/packages/34/81/e1ac43c6b45b4c5f8d9352396a14144bba52c8fec72a80f425f6a4d653ad/olefile-0.46.zip (112kB)\n",
            "\u001b[K     |████████████████████████████████| 112kB 62.8MB/s \n",
            "\u001b[?25hRequirement already satisfied: Pillow>=7.1.0 in /usr/local/lib/python3.7/dist-packages (from -r requirements.txt (line 13)) (7.1.2)\n",
            "Collecting pycparser==2.19\n",
            "\u001b[?25l  Downloading https://files.pythonhosted.org/packages/68/9e/49196946aee219aead1290e00d1e7fdeab8567783e83e1b9ab5585e6206a/pycparser-2.19.tar.gz (158kB)\n",
            "\u001b[K     |████████████████████████████████| 163kB 57.1MB/s \n",
            "\u001b[?25hCollecting pyOpenSSL==19.0.0\n",
            "\u001b[?25l  Downloading https://files.pythonhosted.org/packages/01/c8/ceb170d81bd3941cbeb9940fc6cc2ef2ca4288d0ca8929ea4db5905d904d/pyOpenSSL-19.0.0-py2.py3-none-any.whl (53kB)\n",
            "\u001b[K     |████████████████████████████████| 61kB 9.1MB/s \n",
            "\u001b[?25hCollecting pyparsing==2.4.0\n",
            "\u001b[?25l  Downloading https://files.pythonhosted.org/packages/dd/d9/3ec19e966301a6e25769976999bd7bbe552016f0d32b577dc9d63d2e0c49/pyparsing-2.4.0-py2.py3-none-any.whl (62kB)\n",
            "\u001b[K     |████████████████████████████████| 71kB 10.4MB/s \n",
            "\u001b[?25hCollecting PySocks==1.7.0\n",
            "  Downloading https://files.pythonhosted.org/packages/cd/18/102cc70347486e75235a29a6543f002cf758042189cb063ec25334993e36/PySocks-1.7.0-py3-none-any.whl\n",
            "Collecting python-dateutil==2.8.0\n",
            "\u001b[?25l  Downloading https://files.pythonhosted.org/packages/41/17/c62faccbfbd163c7f57f3844689e3a78bae1f403648a6afb1d0866d87fbb/python_dateutil-2.8.0-py2.py3-none-any.whl (226kB)\n",
            "\u001b[K     |████████████████████████████████| 235kB 59.9MB/s \n",
            "\u001b[?25hCollecting pytz==2019.1\n",
            "\u001b[?25l  Downloading https://files.pythonhosted.org/packages/3d/73/fe30c2daaaa0713420d0382b16fbb761409f532c56bdcc514bf7b6262bb6/pytz-2019.1-py2.py3-none-any.whl (510kB)\n",
            "\u001b[K     |████████████████████████████████| 512kB 51.4MB/s \n",
            "\u001b[?25hCollecting pyzmq==18.0.2\n",
            "\u001b[?25l  Downloading https://files.pythonhosted.org/packages/f7/43/ac5473e08294fd1fc512e54c39b702de1c848391f9b2d073279f5dc7a986/pyzmq-18.0.2-cp37-cp37m-manylinux1_x86_64.whl (1.1MB)\n",
            "\u001b[K     |████████████████████████████████| 1.1MB 43.9MB/s \n",
            "\u001b[?25hCollecting requests==2.22.0\n",
            "\u001b[?25l  Downloading https://files.pythonhosted.org/packages/51/bd/23c926cd341ea6b7dd0b2a00aba99ae0f828be89d72b2190f27c11d4b7fb/requests-2.22.0-py2.py3-none-any.whl (57kB)\n",
            "\u001b[K     |████████████████████████████████| 61kB 9.1MB/s \n",
            "\u001b[?25hCollecting scikit-learn==0.21.2\n",
            "\u001b[?25l  Downloading https://files.pythonhosted.org/packages/21/a4/a48bd4b0d15395362b561df7e7247de87291105eb736a3b2aaffebf437b9/scikit_learn-0.21.2-cp37-cp37m-manylinux1_x86_64.whl (6.7MB)\n",
            "\u001b[K     |████████████████████████████████| 6.7MB 51.0MB/s \n",
            "\u001b[?25hCollecting scipy==1.3.0\n",
            "\u001b[?25l  Downloading https://files.pythonhosted.org/packages/5d/bd/c0feba81fb60e231cf40fc8a322ed5873c90ef7711795508692b1481a4ae/scipy-1.3.0-cp37-cp37m-manylinux1_x86_64.whl (25.2MB)\n",
            "\u001b[K     |████████████████████████████████| 25.2MB 60.7MB/s \n",
            "\u001b[?25hCollecting six==1.12.0\n",
            "  Downloading https://files.pythonhosted.org/packages/73/fb/00a976f728d0d1fecfe898238ce23f502a721c0ac0ecfedb80e0d88c64e9/six-1.12.0-py2.py3-none-any.whl\n",
            "Collecting torch==1.2.0\n",
            "\u001b[?25l  Downloading https://files.pythonhosted.org/packages/05/65/5248be50c55ab7429dd5c11f5e2f9f5865606b80e854ca63139ad1a584f2/torch-1.2.0-cp37-cp37m-manylinux1_x86_64.whl (748.9MB)\n",
            "\u001b[K     |████████████████████████████████| 748.9MB 24kB/s \n",
            "\u001b[?25hCollecting torchfile==0.1.0\n",
            "  Downloading https://files.pythonhosted.org/packages/91/af/5b305f86f2d218091af657ddb53f984ecbd9518ca9fe8ef4103a007252c9/torchfile-0.1.0.tar.gz\n",
            "Collecting torchvision==0.4\n",
            "\u001b[?25l  Downloading https://files.pythonhosted.org/packages/51/83/2d77d040e34bd8f70dcb4770f7eb7d0aa71e07738abf6831be863ade00db/torchvision-0.4.0-cp37-cp37m-manylinux1_x86_64.whl (8.8MB)\n",
            "\u001b[K     |████████████████████████████████| 8.8MB 34.5MB/s \n",
            "\u001b[?25hCollecting tornado==6.0.3\n",
            "\u001b[?25l  Downloading https://files.pythonhosted.org/packages/30/78/2d2823598496127b21423baffaa186b668f73cd91887fcef78b6eade136b/tornado-6.0.3.tar.gz (482kB)\n",
            "\u001b[K     |████████████████████████████████| 491kB 52.9MB/s \n",
            "\u001b[?25hCollecting tqdm==4.33.0\n",
            "\u001b[?25l  Downloading https://files.pythonhosted.org/packages/02/56/60a5b1c2e634d8e4ff89c7bab47645604e19658f448050a21facffd43796/tqdm-4.33.0-py2.py3-none-any.whl (50kB)\n",
            "\u001b[K     |████████████████████████████████| 51kB 6.8MB/s \n",
            "\u001b[?25hCollecting urllib3==1.25.3\n",
            "\u001b[?25l  Downloading https://files.pythonhosted.org/packages/e6/60/247f23a7121ae632d62811ba7f273d0e58972d75e58a94d329d51550a47d/urllib3-1.25.3-py2.py3-none-any.whl (150kB)\n",
            "\u001b[K     |████████████████████████████████| 153kB 60.0MB/s \n",
            "\u001b[?25hCollecting visdom==0.1.8.8\n",
            "\u001b[?25l  Downloading https://files.pythonhosted.org/packages/97/c4/5f5356fd57ae3c269e0e31601ea6487e0622fedc6756a591e4a5fd66cc7a/visdom-0.1.8.8.tar.gz (1.4MB)\n",
            "\u001b[K     |████████████████████████████████| 1.4MB 44.6MB/s \n",
            "\u001b[?25hCollecting websocket-client==0.56.0\n",
            "\u001b[?25l  Downloading https://files.pythonhosted.org/packages/29/19/44753eab1fdb50770ac69605527e8859468f3c0fd7dc5a76dd9c4dbd7906/websocket_client-0.56.0-py2.py3-none-any.whl (200kB)\n",
            "\u001b[K     |████████████████████████████████| 204kB 56.9MB/s \n",
            "\u001b[?25hRequirement already satisfied: setuptools in /usr/local/lib/python3.7/dist-packages (from kiwisolver==1.1.0->-r requirements.txt (line 9)) (54.2.0)\n",
            "Building wheels for collected packages: olefile, pycparser, torchfile, tornado, visdom\n",
            "  Building wheel for olefile (setup.py) ... \u001b[?25l\u001b[?25hdone\n",
            "  Created wheel for olefile: filename=olefile-0.46-py2.py3-none-any.whl size=35416 sha256=c1f5e6bce77e602f4fb5151b2f2c7d5f6f9fd40116b6f2b3d7b86afb09800af7\n",
            "  Stored in directory: /root/.cache/pip/wheels/4b/f4/11/bc4166107c27f07fd7bba707ffcb439619197638a1ac986df3\n",
            "  Building wheel for pycparser (setup.py) ... \u001b[?25l\u001b[?25hdone\n",
            "  Created wheel for pycparser: filename=pycparser-2.19-py2.py3-none-any.whl size=111031 sha256=9d90f0e4cbfd446dbae40e4ffce0cfeea32dcbb96d9b0b6fc90a6bb626444895\n",
            "  Stored in directory: /root/.cache/pip/wheels/f2/9a/90/de94f8556265ddc9d9c8b271b0f63e57b26fb1d67a45564511\n",
            "  Building wheel for torchfile (setup.py) ... \u001b[?25l\u001b[?25hdone\n",
            "  Created wheel for torchfile: filename=torchfile-0.1.0-cp37-none-any.whl size=5713 sha256=8353df0f7f73f9fe3e11ecefaeb70ac3f3e4c030d569093a35f4f39443d6743c\n",
            "  Stored in directory: /root/.cache/pip/wheels/b1/c3/d6/9a1cc8f3a99a0fc1124cae20153f36af59a6e683daca0a0814\n",
            "  Building wheel for tornado (setup.py) ... \u001b[?25l\u001b[?25hdone\n",
            "  Created wheel for tornado: filename=tornado-6.0.3-cp37-cp37m-linux_x86_64.whl size=424127 sha256=7e3db38dd769d2fe3602107e82dd98feb5435c31a33093408aac37572e741807\n",
            "  Stored in directory: /root/.cache/pip/wheels/84/bf/40/2f6ef700f48401ca40e5e3dd7d0e3c0a90e064897b7fe5fc08\n",
            "  Building wheel for visdom (setup.py) ... \u001b[?25l\u001b[?25hdone\n",
            "  Created wheel for visdom: filename=visdom-0.1.8.8-cp37-none-any.whl size=1350604 sha256=cc3a5aa43e73ea2b4be78c46e3f0bfa2e7a8cd042b4c78eca2a9bcea9a1abcd3\n",
            "  Stored in directory: /root/.cache/pip/wheels/ee/87/ce/a5023722374ca73b57fc8d4284ba6f973c01219b3c385a07e0\n",
            "Successfully built olefile pycparser torchfile tornado visdom\n",
            "\u001b[31mERROR: torchtext 0.9.1 has requirement torch==1.8.1, but you'll have torch 1.2.0 which is incompatible.\u001b[0m\n",
            "\u001b[31mERROR: tensorflow 2.4.1 has requirement numpy~=1.19.2, but you'll have numpy 1.16.4 which is incompatible.\u001b[0m\n",
            "\u001b[31mERROR: tensorflow 2.4.1 has requirement six~=1.15.0, but you'll have six 1.12.0 which is incompatible.\u001b[0m\n",
            "\u001b[31mERROR: spacy 2.2.4 has requirement tqdm<5.0.0,>=4.38.0, but you'll have tqdm 4.33.0 which is incompatible.\u001b[0m\n",
            "\u001b[31mERROR: pyarrow 3.0.0 has requirement numpy>=1.16.6, but you'll have numpy 1.16.4 which is incompatible.\u001b[0m\n",
            "\u001b[31mERROR: plotnine 0.6.0 has requirement matplotlib>=3.1.1, but you'll have matplotlib 3.1.0 which is incompatible.\u001b[0m\n",
            "\u001b[31mERROR: mizani 0.6.0 has requirement matplotlib>=3.1.1, but you'll have matplotlib 3.1.0 which is incompatible.\u001b[0m\n",
            "\u001b[31mERROR: librosa 0.8.0 has requirement joblib>=0.14, but you'll have joblib 0.13.2 which is incompatible.\u001b[0m\n",
            "\u001b[31mERROR: google-colab 1.0.0 has requirement requests~=2.23.0, but you'll have requests 2.22.0 which is incompatible.\u001b[0m\n",
            "\u001b[31mERROR: google-colab 1.0.0 has requirement six~=1.15.0, but you'll have six 1.12.0 which is incompatible.\u001b[0m\n",
            "\u001b[31mERROR: google-colab 1.0.0 has requirement tornado~=5.1.0; python_version >= \"3.0\", but you'll have tornado 6.0.3 which is incompatible.\u001b[0m\n",
            "\u001b[31mERROR: google-api-python-client 1.12.8 has requirement six<2dev,>=1.13.0, but you'll have six 1.12.0 which is incompatible.\u001b[0m\n",
            "\u001b[31mERROR: google-api-core 1.26.2 has requirement six>=1.13.0, but you'll have six 1.12.0 which is incompatible.\u001b[0m\n",
            "\u001b[31mERROR: fbprophet 0.7.1 has requirement tqdm>=4.36.1, but you'll have tqdm 4.33.0 which is incompatible.\u001b[0m\n",
            "\u001b[31mERROR: datascience 0.10.6 has requirement folium==0.2.1, but you'll have folium 0.8.3 which is incompatible.\u001b[0m\n",
            "\u001b[31mERROR: astropy 4.2 has requirement numpy>=1.17, but you'll have numpy 1.16.4 which is incompatible.\u001b[0m\n",
            "\u001b[31mERROR: albumentations 0.1.12 has requirement imgaug<0.2.7,>=0.2.5, but you'll have imgaug 0.2.9 which is incompatible.\u001b[0m\n",
            "Installing collected packages: asn1crypto, certifi, pycparser, cffi, six, cryptography, idna, joblib, kiwisolver, pyparsing, numpy, python-dateutil, matplotlib, olefile, pyOpenSSL, PySocks, pytz, pyzmq, urllib3, requests, scipy, scikit-learn, torch, torchfile, torchvision, tornado, tqdm, websocket-client, visdom\n",
            "  Found existing installation: certifi 2020.12.5\n",
            "    Uninstalling certifi-2020.12.5:\n",
            "      Successfully uninstalled certifi-2020.12.5\n",
            "  Found existing installation: pycparser 2.20\n",
            "    Uninstalling pycparser-2.20:\n",
            "      Successfully uninstalled pycparser-2.20\n",
            "  Found existing installation: cffi 1.14.5\n",
            "    Uninstalling cffi-1.14.5:\n",
            "      Successfully uninstalled cffi-1.14.5\n",
            "  Found existing installation: six 1.15.0\n",
            "    Uninstalling six-1.15.0:\n",
            "      Successfully uninstalled six-1.15.0\n",
            "  Found existing installation: idna 2.10\n",
            "    Uninstalling idna-2.10:\n",
            "      Successfully uninstalled idna-2.10\n",
            "  Found existing installation: joblib 1.0.1\n",
            "    Uninstalling joblib-1.0.1:\n",
            "      Successfully uninstalled joblib-1.0.1\n",
            "  Found existing installation: kiwisolver 1.3.1\n",
            "    Uninstalling kiwisolver-1.3.1:\n",
            "      Successfully uninstalled kiwisolver-1.3.1\n",
            "  Found existing installation: pyparsing 2.4.7\n",
            "    Uninstalling pyparsing-2.4.7:\n",
            "      Successfully uninstalled pyparsing-2.4.7\n",
            "  Found existing installation: numpy 1.19.5\n",
            "    Uninstalling numpy-1.19.5:\n",
            "      Successfully uninstalled numpy-1.19.5\n",
            "  Found existing installation: python-dateutil 2.8.1\n",
            "    Uninstalling python-dateutil-2.8.1:\n",
            "      Successfully uninstalled python-dateutil-2.8.1\n",
            "  Found existing installation: matplotlib 3.2.2\n",
            "    Uninstalling matplotlib-3.2.2:\n",
            "      Successfully uninstalled matplotlib-3.2.2\n",
            "  Found existing installation: PySocks 1.7.1\n",
            "    Uninstalling PySocks-1.7.1:\n",
            "      Successfully uninstalled PySocks-1.7.1\n",
            "  Found existing installation: pytz 2018.9\n",
            "    Uninstalling pytz-2018.9:\n",
            "      Successfully uninstalled pytz-2018.9\n",
            "  Found existing installation: pyzmq 22.0.3\n",
            "    Uninstalling pyzmq-22.0.3:\n",
            "      Successfully uninstalled pyzmq-22.0.3\n",
            "  Found existing installation: urllib3 1.24.3\n",
            "    Uninstalling urllib3-1.24.3:\n",
            "      Successfully uninstalled urllib3-1.24.3\n",
            "  Found existing installation: requests 2.23.0\n",
            "    Uninstalling requests-2.23.0:\n",
            "      Successfully uninstalled requests-2.23.0\n",
            "  Found existing installation: scipy 1.4.1\n",
            "    Uninstalling scipy-1.4.1:\n",
            "      Successfully uninstalled scipy-1.4.1\n",
            "  Found existing installation: scikit-learn 0.22.2.post1\n",
            "    Uninstalling scikit-learn-0.22.2.post1:\n",
            "      Successfully uninstalled scikit-learn-0.22.2.post1\n",
            "  Found existing installation: torch 1.8.1+cu101\n",
            "    Uninstalling torch-1.8.1+cu101:\n",
            "      Successfully uninstalled torch-1.8.1+cu101\n",
            "  Found existing installation: torchvision 0.9.1+cu101\n",
            "    Uninstalling torchvision-0.9.1+cu101:\n",
            "      Successfully uninstalled torchvision-0.9.1+cu101\n",
            "  Found existing installation: tornado 5.1.1\n",
            "    Uninstalling tornado-5.1.1:\n",
            "      Successfully uninstalled tornado-5.1.1\n",
            "  Found existing installation: tqdm 4.41.1\n",
            "    Uninstalling tqdm-4.41.1:\n",
            "      Successfully uninstalled tqdm-4.41.1\n",
            "Successfully installed PySocks-1.7.0 asn1crypto-0.24.0 certifi-2019.6.16 cffi-1.12.3 cryptography-2.7 idna-2.8 joblib-0.13.2 kiwisolver-1.1.0 matplotlib-3.1.0 numpy-1.16.4 olefile-0.46 pyOpenSSL-19.0.0 pycparser-2.19 pyparsing-2.4.0 python-dateutil-2.8.0 pytz-2019.1 pyzmq-18.0.2 requests-2.22.0 scikit-learn-0.21.2 scipy-1.3.0 six-1.12.0 torch-1.2.0 torchfile-0.1.0 torchvision-0.4.0 tornado-6.0.3 tqdm-4.33.0 urllib3-1.25.3 visdom-0.1.8.8 websocket-client-0.56.0\n"
          ],
          "name": "stdout"
        },
        {
          "output_type": "display_data",
          "data": {
            "application/vnd.colab-display-data+json": {
              "pip_warning": {
                "packages": [
                  "cffi",
                  "dateutil",
                  "kiwisolver",
                  "matplotlib",
                  "mpl_toolkits",
                  "numpy",
                  "pyparsing",
                  "pytz",
                  "six",
                  "tornado",
                  "zmq"
                ]
              }
            }
          },
          "metadata": {
            "tags": []
          }
        }
      ]
    },
    {
      "cell_type": "code",
      "metadata": {
        "colab": {
          "base_uri": "https://localhost:8080/"
        },
        "id": "ya7pv8pYA22n",
        "outputId": "b7587178-6f73-4c8f-fb17-60fa558b0c1d"
      },
      "source": [
        "!pip install mkl-fft"
      ],
      "execution_count": 5,
      "outputs": [
        {
          "output_type": "stream",
          "text": [
            "Collecting mkl-fft\n",
            "\u001b[?25l  Downloading https://files.pythonhosted.org/packages/f3/3e/fdc76badb389a446ab28df79f243989ec3b5219c033a55d5ac37eda3ce32/mkl_fft-1.3.0-1-cp37-cp37m-manylinux2014_x86_64.whl (240kB)\n",
            "\u001b[K     |████████████████████████████████| 245kB 7.5MB/s \n",
            "\u001b[?25hCollecting dpcpp_cpp_rt\n",
            "\u001b[?25l  Downloading https://files.pythonhosted.org/packages/fd/b3/dfeee3ca5e9a04a3f4051583c2ec94fe4f2e2c09904e4e16b41ff100c212/dpcpp_cpp_rt-2021.2.0-py2.py3-none-manylinux1_x86_64.whl (171.6MB)\n",
            "\u001b[K     |████████████████████████████████| 171.6MB 82kB/s \n",
            "\u001b[?25hRequirement already satisfied: mkl in /usr/local/lib/python3.7/dist-packages (from mkl-fft) (2019.0)\n",
            "Requirement already satisfied: numpy>=1.16 in /usr/local/lib/python3.7/dist-packages (from mkl-fft) (1.16.4)\n",
            "Collecting common-cmplr-lib-rt==2021.*\n",
            "\u001b[?25l  Downloading https://files.pythonhosted.org/packages/af/d3/ac47da09e4e0b94945a6338379a513d8486c2cf078b5c3f60a5401bd47e0/common_cmplr_lib_rt-2021.2.0-py2.py3-none-manylinux1_x86_64.whl (31.6MB)\n",
            "\u001b[K     |████████████████████████████████| 31.6MB 190kB/s \n",
            "\u001b[?25hCollecting opencl-rt==2021.*\n",
            "\u001b[?25l  Downloading https://files.pythonhosted.org/packages/8a/0e/c8a2e4c3b3217368af845910bd699e93b0a85564cdb378c15ed97ac2cc5d/opencl_rt-2021.2.0-py2.py3-none-manylinux1_x86_64.whl (169.0MB)\n",
            "\u001b[K     |████████████████████████████████| 169.0MB 94kB/s \n",
            "\u001b[?25hRequirement already satisfied: intel-openmp==2021.* in /usr/local/lib/python3.7/dist-packages (from dpcpp_cpp_rt->mkl-fft) (2021.2.0)\n",
            "Collecting common-cmplr-lic-rt==2021.*\n",
            "  Downloading https://files.pythonhosted.org/packages/8d/66/5bf5cd09702d949a65c3fe7e5a4f63dec7fa48c77ddb5b11ba391ecbae38/common_cmplr_lic_rt-2021.2.0-py2.py3-none-manylinux1_x86_64.whl\n",
            "Collecting tbb==2021.*\n",
            "\u001b[?25l  Downloading https://files.pythonhosted.org/packages/c6/55/bd1f776ede9b86b918e390119461281fcb8a86e1918f0da467dc5aece4a2/tbb-2021.2.0-py2.py3-none-manylinux1_x86_64.whl (3.9MB)\n",
            "\u001b[K     |████████████████████████████████| 3.9MB 49.7MB/s \n",
            "\u001b[?25hInstalling collected packages: common-cmplr-lib-rt, tbb, common-cmplr-lic-rt, opencl-rt, dpcpp-cpp-rt, mkl-fft\n",
            "Successfully installed common-cmplr-lib-rt-2021.2.0 common-cmplr-lic-rt-2021.2.0 dpcpp-cpp-rt-2021.2.0 mkl-fft-1.3.0 opencl-rt-2021.2.0 tbb-2021.2.0\n"
          ],
          "name": "stdout"
        }
      ]
    },
    {
      "cell_type": "code",
      "metadata": {
        "id": "LiBYORYdsR1U"
      },
      "source": [
        "#!pip install visdom\n",
        "# Run via a bash terminal on the continer: python3 -m visdom.server &"
      ],
      "execution_count": 6,
      "outputs": []
    },
    {
      "cell_type": "code",
      "metadata": {
        "id": "_uh8OFM3A22n"
      },
      "source": [
        "import os\n",
        "import torch\n",
        "import numpy as np\n",
        "import torchvision.datasets as datasets\n",
        "from torchvision.datasets import MNIST\n",
        "from torchvision.datasets import CIFAR10\n",
        "from torchvision.datasets import ImageFolder\n",
        "import torchvision.transforms as transforms\n",
        "\n",
        "from PIL import Image"
      ],
      "execution_count": 7,
      "outputs": []
    },
    {
      "cell_type": "code",
      "metadata": {
        "id": "UEFK5_66_tEV"
      },
      "source": [
        "from options import Options\n",
        "from lib.data import load_data\n",
        "from lib.model import Ganomaly"
      ],
      "execution_count": 8,
      "outputs": []
    },
    {
      "cell_type": "code",
      "metadata": {
        "colab": {
          "base_uri": "https://localhost:8080/"
        },
        "id": "e1DcNKxW_tEW",
        "outputId": "ebe60b7d-1a2b-45ce-d739-12b908d8be9a"
      },
      "source": [
        "import torch\n",
        "\n",
        "torch.cuda.is_available()"
      ],
      "execution_count": 9,
      "outputs": [
        {
          "output_type": "execute_result",
          "data": {
            "text/plain": [
              "True"
            ]
          },
          "metadata": {
            "tags": []
          },
          "execution_count": 9
        }
      ]
    },
    {
      "cell_type": "code",
      "metadata": {
        "colab": {
          "base_uri": "https://localhost:8080/",
          "height": 35
        },
        "id": "UGyNAc7m_tEX",
        "outputId": "8167abd8-d926-4cfa-e3b7-2e579a7686e0"
      },
      "source": [
        "torch.__version__"
      ],
      "execution_count": 10,
      "outputs": [
        {
          "output_type": "execute_result",
          "data": {
            "application/vnd.google.colaboratory.intrinsic+json": {
              "type": "string"
            },
            "text/plain": [
              "'1.2.0'"
            ]
          },
          "metadata": {
            "tags": []
          },
          "execution_count": 10
        }
      ]
    },
    {
      "cell_type": "code",
      "metadata": {
        "id": "Qr2mRDHL_tEY"
      },
      "source": [
        "class Option:\n",
        "    def __init__(self):\n",
        "        # Base\n",
        "        self.dataset = 'cifar10'\n",
        "        self.dataroot = ''\n",
        "        self.batchsize = 64\n",
        "        self.workers = 8\n",
        "        self.droplast = True\n",
        "        self.isize = 32\n",
        "        self.nc = 3\n",
        "        self.nz = 100\n",
        "        self.ngf = 64\n",
        "        self.ndf = 64\n",
        "        self.extralayers = 0\n",
        "        self.device = 'gpu'\n",
        "        self.gpu_ids = '0'\n",
        "        self.ngpu = 1\n",
        "        self.name = 'pytorch_ganomaly'\n",
        "        self.model = 'ganomaly'\n",
        "        self.display_server = \"http://localhost\"\n",
        "        self.display_port = 8097\n",
        "        self.display_id = 0\n",
        "        self.display = False\n",
        "        self.outf = './pyt_ganomaly_output'\n",
        "        self.manualseed = -1\n",
        "        self.abnormal_class = 'car'\n",
        "        self.proportion = 0.1\n",
        "        self.metric = 'roc'\n",
        "\n",
        "        ##\n",
        "        # Train\n",
        "        self.print_freq = 100\n",
        "        self.save_image_freq = 100\n",
        "        self.save_test_images = True\n",
        "        self.load_weights = False\n",
        "        self.resume = ''\n",
        "        self.phase = 'train'\n",
        "        self.iter = 0\n",
        "        self.niter = 15\n",
        "        self.beta1 = 0.5\n",
        "        self.lr = 0.0002\n",
        "        self.w_adv = 1\n",
        "        self.w_con = 50\n",
        "        self.w_enc = 1\n",
        "        self.isTrain = True\n",
        "\n",
        "opt = Option()"
      ],
      "execution_count": 11,
      "outputs": []
    },
    {
      "cell_type": "code",
      "metadata": {
        "id": "5ZuEvH3BA22p"
      },
      "source": [
        "def get_cifar_anomaly_dataset(trn_img, trn_lbl, tst_img, tst_lbl, abn_cls_idx=0, manualseed=-1):\n",
        "    \"\"\"[summary]\n",
        "    Arguments:\n",
        "        trn_img {np.array} -- Training images\n",
        "        trn_lbl {np.array} -- Training labels\n",
        "        tst_img {np.array} -- Test     images\n",
        "        tst_lbl {np.array} -- Test     labels\n",
        "    Keyword Arguments:\n",
        "        abn_cls_idx {int} -- Anomalous class index (default: {0})\n",
        "    Returns:\n",
        "        [np.array] -- New training-test images and labels.\n",
        "    \"\"\"\n",
        "    # Convert train-test labels into numpy array.\n",
        "    trn_lbl = np.array(trn_lbl)\n",
        "    tst_lbl = np.array(tst_lbl)\n",
        "\n",
        "    # --\n",
        "    # Find idx, img, lbl for abnormal and normal on org dataset.\n",
        "    nrm_trn_idx = np.where(trn_lbl != abn_cls_idx)[0]\n",
        "    abn_trn_idx = np.where(trn_lbl == abn_cls_idx)[0]\n",
        "    nrm_trn_img = trn_img[nrm_trn_idx]    # Normal training images\n",
        "    abn_trn_img = trn_img[abn_trn_idx]    # Abnormal training images\n",
        "    nrm_trn_lbl = trn_lbl[nrm_trn_idx]    # Normal training labels\n",
        "    abn_trn_lbl = trn_lbl[abn_trn_idx]    # Abnormal training labels.\n",
        "\n",
        "    nrm_tst_idx = np.where(tst_lbl != abn_cls_idx)[0]\n",
        "    abn_tst_idx = np.where(tst_lbl == abn_cls_idx)[0]\n",
        "    nrm_tst_img = tst_img[nrm_tst_idx]    # Normal training images\n",
        "    abn_tst_img = tst_img[abn_tst_idx]    # Abnormal training images.\n",
        "    nrm_tst_lbl = tst_lbl[nrm_tst_idx]    # Normal training labels\n",
        "    abn_tst_lbl = tst_lbl[abn_tst_idx]    # Abnormal training labels.\n",
        "\n",
        "    # --\n",
        "    # Assign labels to normal (0) and abnormals (1)\n",
        "    nrm_trn_lbl[:] = 0\n",
        "    nrm_tst_lbl[:] = 0\n",
        "    abn_trn_lbl[:] = 1\n",
        "    abn_tst_lbl[:] = 1\n",
        "\n",
        "    # --\n",
        "    if manualseed != -1:\n",
        "        # Random seed.\n",
        "        # Concatenate the original train and test sets.\n",
        "        nrm_img = np.concatenate((nrm_trn_img, nrm_tst_img), axis=0)\n",
        "        nrm_lbl = np.concatenate((nrm_trn_lbl, nrm_tst_lbl), axis=0)\n",
        "        abn_img = np.concatenate((abn_trn_img, abn_tst_img), axis=0)\n",
        "        abn_lbl = np.concatenate((abn_trn_lbl, abn_tst_lbl), axis=0)\n",
        "\n",
        "        # Split the normal data into the new train and tests.\n",
        "        idx = np.arange(len(nrm_lbl))\n",
        "        np.random.seed(manualseed)\n",
        "        np.random.shuffle(idx)\n",
        "\n",
        "        nrm_trn_len = int(len(idx) * 0.80)\n",
        "        nrm_trn_idx = idx[:nrm_trn_len]\n",
        "        nrm_tst_idx = idx[nrm_trn_len:]\n",
        "\n",
        "        nrm_trn_img = nrm_img[nrm_trn_idx]\n",
        "        nrm_trn_lbl = nrm_lbl[nrm_trn_idx]\n",
        "        nrm_tst_img = nrm_img[nrm_tst_idx]\n",
        "        nrm_tst_lbl = nrm_lbl[nrm_tst_idx]\n",
        "\n",
        "    # Create new anomaly dataset based on the following data structure:\n",
        "    # - anomaly dataset\n",
        "    #   . -> train\n",
        "    #        . -> normal\n",
        "    #   . -> test\n",
        "    #        . -> normal\n",
        "    #        . -> abnormal\n",
        "    new_trn_img = np.copy(nrm_trn_img)\n",
        "    new_trn_lbl = np.copy(nrm_trn_lbl)\n",
        "    new_tst_img = np.concatenate((nrm_tst_img, abn_trn_img, abn_tst_img), axis=0)\n",
        "    new_tst_lbl = np.concatenate((nrm_tst_lbl, abn_trn_lbl, abn_tst_lbl), axis=0)\n",
        "\n",
        "    return new_trn_img, new_trn_lbl, new_tst_img, new_tst_lbl\n"
      ],
      "execution_count": 12,
      "outputs": []
    },
    {
      "cell_type": "code",
      "metadata": {
        "colab": {
          "base_uri": "https://localhost:8080/"
        },
        "id": "o1P6y_iNA22q",
        "outputId": "f410f3a0-6e4f-45fb-b6ab-7a2a434fcd9d"
      },
      "source": [
        "splits = ['train', 'test']\n",
        "drop_last_batch = {'train': True, 'test': False}\n",
        "shuffle = {'train': True, 'test': False}\n",
        "\n",
        "transform = transforms.Compose(\n",
        "    [\n",
        "        transforms.Resize(opt.isize),\n",
        "        transforms.ToTensor(),\n",
        "        transforms.Normalize((0.5, 0.5, 0.5), (0.5, 0.5, 0.5))\n",
        "    ]\n",
        ")\n",
        "\n",
        "classes = {\n",
        "    'plane': 0, 'car': 1, 'bird': 2, 'cat': 3, 'deer': 4,\n",
        "    'dog': 5, 'frog': 6, 'horse': 7, 'ship': 8, 'truck': 9\n",
        "}\n",
        "\n",
        "dataset = {}\n",
        "dataset['train'] = CIFAR10(root='./data', train=True, download=True, transform=transform)\n",
        "dataset['test'] = CIFAR10(root='./data', train=False, download=True, transform=transform)\n",
        "\n",
        "dataset['train'].data, dataset['train'].targets, \\\n",
        "dataset['test'].data, dataset['test'].targets = get_cifar_anomaly_dataset(\n",
        "    trn_img=dataset['train'].data,\n",
        "    trn_lbl=dataset['train'].targets,\n",
        "    tst_img=dataset['test'].data,\n",
        "    tst_lbl=dataset['test'].targets,\n",
        "    abn_cls_idx=classes[opt.abnormal_class],\n",
        "    manualseed=opt.manualseed\n",
        ")\n",
        "\n",
        "dataloader = {x: torch.utils.data.DataLoader(dataset=dataset[x],\n",
        "                                             batch_size=opt.batchsize,\n",
        "                                             shuffle=shuffle[x],\n",
        "                                             num_workers=int(opt.workers),\n",
        "                                             drop_last=drop_last_batch[x],\n",
        "                                             worker_init_fn=(None if opt.manualseed == -1\n",
        "                                             else lambda x: np.random.seed(opt.manualseed)))\n",
        "              for x in splits}"
      ],
      "execution_count": 13,
      "outputs": [
        {
          "output_type": "stream",
          "text": [
            "Files already downloaded and verified\n",
            "Files already downloaded and verified\n"
          ],
          "name": "stdout"
        }
      ]
    },
    {
      "cell_type": "code",
      "metadata": {
        "colab": {
          "base_uri": "https://localhost:8080/"
        },
        "id": "B70vfqEZA22r",
        "outputId": "f96e13f2-aa82-4587-ea5c-bc260b83a53e"
      },
      "source": [
        "model = Ganomaly(opt, dataloader)\n",
        "model.train()"
      ],
      "execution_count": 14,
      "outputs": [
        {
          "output_type": "stream",
          "text": [
            "\r  0%|          | 0/703 [00:00<?, ?it/s]"
          ],
          "name": "stderr"
        },
        {
          "output_type": "stream",
          "text": [
            ">> Training model Ganomaly.\n"
          ],
          "name": "stdout"
        },
        {
          "output_type": "stream",
          "text": [
            "                                                 "
          ],
          "name": "stderr"
        },
        {
          "output_type": "stream",
          "text": [
            ">> Training model Ganomaly. Epoch 1/15\n"
          ],
          "name": "stdout"
        },
        {
          "output_type": "stream",
          "text": [
            "  0%|          | 0/703 [00:00<?, ?it/s]"
          ],
          "name": "stderr"
        },
        {
          "output_type": "stream",
          "text": [
            "   Avg Run Time (ms/batch): 4.447 roc: 0.619 max roc: 0.619\n"
          ],
          "name": "stdout"
        },
        {
          "output_type": "stream",
          "text": [
            "                                                 "
          ],
          "name": "stderr"
        },
        {
          "output_type": "stream",
          "text": [
            ">> Training model Ganomaly. Epoch 2/15\n"
          ],
          "name": "stdout"
        },
        {
          "output_type": "stream",
          "text": [
            "  0%|          | 0/703 [00:00<?, ?it/s]"
          ],
          "name": "stderr"
        },
        {
          "output_type": "stream",
          "text": [
            "   Avg Run Time (ms/batch): 3.638 roc: 0.629 max roc: 0.629\n"
          ],
          "name": "stdout"
        },
        {
          "output_type": "stream",
          "text": [
            "                                                 "
          ],
          "name": "stderr"
        },
        {
          "output_type": "stream",
          "text": [
            ">> Training model Ganomaly. Epoch 3/15\n"
          ],
          "name": "stdout"
        },
        {
          "output_type": "stream",
          "text": [
            "  0%|          | 0/703 [00:00<?, ?it/s]"
          ],
          "name": "stderr"
        },
        {
          "output_type": "stream",
          "text": [
            "   Avg Run Time (ms/batch): 3.595 roc: 0.609 max roc: 0.629\n"
          ],
          "name": "stdout"
        },
        {
          "output_type": "stream",
          "text": [
            "                                                 "
          ],
          "name": "stderr"
        },
        {
          "output_type": "stream",
          "text": [
            ">> Training model Ganomaly. Epoch 4/15\n"
          ],
          "name": "stdout"
        },
        {
          "output_type": "stream",
          "text": [
            "  0%|          | 0/703 [00:00<?, ?it/s]"
          ],
          "name": "stderr"
        },
        {
          "output_type": "stream",
          "text": [
            "   Avg Run Time (ms/batch): 3.447 roc: 0.574 max roc: 0.629\n"
          ],
          "name": "stdout"
        },
        {
          "output_type": "stream",
          "text": [
            "                                                 "
          ],
          "name": "stderr"
        },
        {
          "output_type": "stream",
          "text": [
            ">> Training model Ganomaly. Epoch 5/15\n"
          ],
          "name": "stdout"
        },
        {
          "output_type": "stream",
          "text": [
            "  0%|          | 0/703 [00:00<?, ?it/s]"
          ],
          "name": "stderr"
        },
        {
          "output_type": "stream",
          "text": [
            "   Avg Run Time (ms/batch): 3.471 roc: 0.543 max roc: 0.629\n"
          ],
          "name": "stdout"
        },
        {
          "output_type": "stream",
          "text": [
            "                                                 "
          ],
          "name": "stderr"
        },
        {
          "output_type": "stream",
          "text": [
            ">> Training model Ganomaly. Epoch 6/15\n"
          ],
          "name": "stdout"
        },
        {
          "output_type": "stream",
          "text": [
            "  0%|          | 0/703 [00:00<?, ?it/s]"
          ],
          "name": "stderr"
        },
        {
          "output_type": "stream",
          "text": [
            "   Avg Run Time (ms/batch): 3.630 roc: 0.697 max roc: 0.697\n"
          ],
          "name": "stdout"
        },
        {
          "output_type": "stream",
          "text": [
            "                                                 "
          ],
          "name": "stderr"
        },
        {
          "output_type": "stream",
          "text": [
            ">> Training model Ganomaly. Epoch 7/15\n"
          ],
          "name": "stdout"
        },
        {
          "output_type": "stream",
          "text": [
            "  0%|          | 0/703 [00:00<?, ?it/s]"
          ],
          "name": "stderr"
        },
        {
          "output_type": "stream",
          "text": [
            "   Avg Run Time (ms/batch): 3.599 roc: 0.614 max roc: 0.697\n"
          ],
          "name": "stdout"
        },
        {
          "output_type": "stream",
          "text": [
            "                                                 "
          ],
          "name": "stderr"
        },
        {
          "output_type": "stream",
          "text": [
            ">> Training model Ganomaly. Epoch 8/15\n"
          ],
          "name": "stdout"
        },
        {
          "output_type": "stream",
          "text": [
            "  0%|          | 0/703 [00:00<?, ?it/s]"
          ],
          "name": "stderr"
        },
        {
          "output_type": "stream",
          "text": [
            "   Avg Run Time (ms/batch): 3.659 roc: 0.659 max roc: 0.697\n"
          ],
          "name": "stdout"
        },
        {
          "output_type": "stream",
          "text": [
            "                                                 "
          ],
          "name": "stderr"
        },
        {
          "output_type": "stream",
          "text": [
            ">> Training model Ganomaly. Epoch 9/15\n"
          ],
          "name": "stdout"
        },
        {
          "output_type": "stream",
          "text": [
            "  0%|          | 0/703 [00:00<?, ?it/s]"
          ],
          "name": "stderr"
        },
        {
          "output_type": "stream",
          "text": [
            "   Avg Run Time (ms/batch): 3.669 roc: 0.666 max roc: 0.697\n"
          ],
          "name": "stdout"
        },
        {
          "output_type": "stream",
          "text": [
            "                                                 "
          ],
          "name": "stderr"
        },
        {
          "output_type": "stream",
          "text": [
            ">> Training model Ganomaly. Epoch 10/15\n"
          ],
          "name": "stdout"
        },
        {
          "output_type": "stream",
          "text": [
            "  0%|          | 0/703 [00:00<?, ?it/s]"
          ],
          "name": "stderr"
        },
        {
          "output_type": "stream",
          "text": [
            "   Avg Run Time (ms/batch): 3.583 roc: 0.564 max roc: 0.697\n"
          ],
          "name": "stdout"
        },
        {
          "output_type": "stream",
          "text": [
            "                                                 "
          ],
          "name": "stderr"
        },
        {
          "output_type": "stream",
          "text": [
            ">> Training model Ganomaly. Epoch 11/15\n"
          ],
          "name": "stdout"
        },
        {
          "output_type": "stream",
          "text": [
            "  0%|          | 0/703 [00:00<?, ?it/s]"
          ],
          "name": "stderr"
        },
        {
          "output_type": "stream",
          "text": [
            "   Avg Run Time (ms/batch): 3.567 roc: 0.648 max roc: 0.697\n"
          ],
          "name": "stdout"
        },
        {
          "output_type": "stream",
          "text": [
            "                                                 "
          ],
          "name": "stderr"
        },
        {
          "output_type": "stream",
          "text": [
            ">> Training model Ganomaly. Epoch 12/15\n"
          ],
          "name": "stdout"
        },
        {
          "output_type": "stream",
          "text": [
            "  0%|          | 0/703 [00:00<?, ?it/s]"
          ],
          "name": "stderr"
        },
        {
          "output_type": "stream",
          "text": [
            "   Avg Run Time (ms/batch): 3.626 roc: 0.575 max roc: 0.697\n"
          ],
          "name": "stdout"
        },
        {
          "output_type": "stream",
          "text": [
            "                                                 "
          ],
          "name": "stderr"
        },
        {
          "output_type": "stream",
          "text": [
            ">> Training model Ganomaly. Epoch 13/15\n"
          ],
          "name": "stdout"
        },
        {
          "output_type": "stream",
          "text": [
            "  0%|          | 0/703 [00:00<?, ?it/s]"
          ],
          "name": "stderr"
        },
        {
          "output_type": "stream",
          "text": [
            "   Avg Run Time (ms/batch): 3.566 roc: 0.629 max roc: 0.697\n"
          ],
          "name": "stdout"
        },
        {
          "output_type": "stream",
          "text": [
            "                                                 "
          ],
          "name": "stderr"
        },
        {
          "output_type": "stream",
          "text": [
            ">> Training model Ganomaly. Epoch 14/15\n"
          ],
          "name": "stdout"
        },
        {
          "output_type": "stream",
          "text": [
            "  0%|          | 0/703 [00:00<?, ?it/s]"
          ],
          "name": "stderr"
        },
        {
          "output_type": "stream",
          "text": [
            "   Avg Run Time (ms/batch): 3.623 roc: 0.589 max roc: 0.697\n"
          ],
          "name": "stdout"
        },
        {
          "output_type": "stream",
          "text": [
            "                                                 "
          ],
          "name": "stderr"
        },
        {
          "output_type": "stream",
          "text": [
            ">> Training model Ganomaly. Epoch 15/15\n"
          ],
          "name": "stdout"
        },
        {
          "output_type": "stream",
          "text": [
            "\r"
          ],
          "name": "stderr"
        },
        {
          "output_type": "stream",
          "text": [
            "   Avg Run Time (ms/batch): 3.873 roc: 0.612 max roc: 0.697\n",
            ">> Training model Ganomaly.[Done]\n"
          ],
          "name": "stdout"
        }
      ]
    },
    {
      "cell_type": "code",
      "metadata": {
        "colab": {
          "base_uri": "https://localhost:8080/"
        },
        "id": "xMZKZCj8_tEe",
        "outputId": "5daadb58-f28f-417e-e7d0-ff0c9549d3b8"
      },
      "source": [
        "model.test()"
      ],
      "execution_count": 15,
      "outputs": [
        {
          "output_type": "execute_result",
          "data": {
            "text/plain": [
              "OrderedDict([('Avg Run Time (ms/batch)', 4.206349849700928),\n",
              "             ('roc', 0.6117080555555556)])"
            ]
          },
          "metadata": {
            "tags": []
          },
          "execution_count": 15
        }
      ]
    },
    {
      "cell_type": "code",
      "metadata": {
        "colab": {
          "base_uri": "https://localhost:8080/"
        },
        "id": "QIwiWJVf_tEf",
        "outputId": "4098f7d3-fbf9-413f-bb54-47003c3457ab"
      },
      "source": [
        "dir(model)"
      ],
      "execution_count": 16,
      "outputs": [
        {
          "output_type": "execute_result",
          "data": {
            "text/plain": [
              "['__class__',\n",
              " '__delattr__',\n",
              " '__dict__',\n",
              " '__dir__',\n",
              " '__doc__',\n",
              " '__eq__',\n",
              " '__format__',\n",
              " '__ge__',\n",
              " '__getattribute__',\n",
              " '__gt__',\n",
              " '__hash__',\n",
              " '__init__',\n",
              " '__init_subclass__',\n",
              " '__le__',\n",
              " '__lt__',\n",
              " '__module__',\n",
              " '__ne__',\n",
              " '__new__',\n",
              " '__reduce__',\n",
              " '__reduce_ex__',\n",
              " '__repr__',\n",
              " '__setattr__',\n",
              " '__sizeof__',\n",
              " '__str__',\n",
              " '__subclasshook__',\n",
              " '__weakref__',\n",
              " 'an_scores',\n",
              " 'backward_d',\n",
              " 'backward_g',\n",
              " 'dataloader',\n",
              " 'device',\n",
              " 'epoch',\n",
              " 'err_d',\n",
              " 'err_d_fake',\n",
              " 'err_d_real',\n",
              " 'err_g',\n",
              " 'err_g_adv',\n",
              " 'err_g_con',\n",
              " 'err_g_enc',\n",
              " 'fake',\n",
              " 'fake_label',\n",
              " 'feat_fake',\n",
              " 'feat_real',\n",
              " 'fixed_input',\n",
              " 'forward_d',\n",
              " 'forward_g',\n",
              " 'get_current_images',\n",
              " 'get_errors',\n",
              " 'gt',\n",
              " 'gt_labels',\n",
              " 'input',\n",
              " 'l_adv',\n",
              " 'l_bce',\n",
              " 'l_con',\n",
              " 'l_enc',\n",
              " 'label',\n",
              " 'latent_i',\n",
              " 'latent_o',\n",
              " 'name',\n",
              " 'netd',\n",
              " 'netg',\n",
              " 'opt',\n",
              " 'optimize_params',\n",
              " 'optimizer_d',\n",
              " 'optimizer_g',\n",
              " 'pred_fake',\n",
              " 'pred_real',\n",
              " 'real_label',\n",
              " 'reinit_d',\n",
              " 'save_weights',\n",
              " 'seed',\n",
              " 'set_input',\n",
              " 'test',\n",
              " 'times',\n",
              " 'total_steps',\n",
              " 'train',\n",
              " 'train_one_epoch',\n",
              " 'trn_dir',\n",
              " 'tst_dir',\n",
              " 'visualizer']"
            ]
          },
          "metadata": {
            "tags": []
          },
          "execution_count": 16
        }
      ]
    },
    {
      "cell_type": "code",
      "metadata": {
        "colab": {
          "base_uri": "https://localhost:8080/"
        },
        "id": "M4jDS48e_tEg",
        "outputId": "6b343058-3342-4413-f3f4-c308109cbce6"
      },
      "source": [
        "dir(model.netd)"
      ],
      "execution_count": 17,
      "outputs": [
        {
          "output_type": "execute_result",
          "data": {
            "text/plain": [
              "['__call__',\n",
              " '__class__',\n",
              " '__delattr__',\n",
              " '__dict__',\n",
              " '__dir__',\n",
              " '__doc__',\n",
              " '__eq__',\n",
              " '__format__',\n",
              " '__ge__',\n",
              " '__getattr__',\n",
              " '__getattribute__',\n",
              " '__gt__',\n",
              " '__hash__',\n",
              " '__init__',\n",
              " '__init_subclass__',\n",
              " '__le__',\n",
              " '__lt__',\n",
              " '__module__',\n",
              " '__ne__',\n",
              " '__new__',\n",
              " '__reduce__',\n",
              " '__reduce_ex__',\n",
              " '__repr__',\n",
              " '__setattr__',\n",
              " '__setstate__',\n",
              " '__sizeof__',\n",
              " '__str__',\n",
              " '__subclasshook__',\n",
              " '__weakref__',\n",
              " '_apply',\n",
              " '_backend',\n",
              " '_backward_hooks',\n",
              " '_buffers',\n",
              " '_construct',\n",
              " '_forward_hooks',\n",
              " '_forward_pre_hooks',\n",
              " '_get_name',\n",
              " '_load_from_state_dict',\n",
              " '_load_state_dict_pre_hooks',\n",
              " '_modules',\n",
              " '_named_members',\n",
              " '_parameters',\n",
              " '_register_load_state_dict_pre_hook',\n",
              " '_register_state_dict_hook',\n",
              " '_save_to_state_dict',\n",
              " '_slow_forward',\n",
              " '_state_dict_hooks',\n",
              " '_tracing_name',\n",
              " '_version',\n",
              " 'add_module',\n",
              " 'apply',\n",
              " 'buffers',\n",
              " 'children',\n",
              " 'classifier',\n",
              " 'cpu',\n",
              " 'cuda',\n",
              " 'double',\n",
              " 'dump_patches',\n",
              " 'eval',\n",
              " 'extra_repr',\n",
              " 'features',\n",
              " 'float',\n",
              " 'forward',\n",
              " 'half',\n",
              " 'load_state_dict',\n",
              " 'modules',\n",
              " 'named_buffers',\n",
              " 'named_children',\n",
              " 'named_modules',\n",
              " 'named_parameters',\n",
              " 'parameters',\n",
              " 'register_backward_hook',\n",
              " 'register_buffer',\n",
              " 'register_forward_hook',\n",
              " 'register_forward_pre_hook',\n",
              " 'register_parameter',\n",
              " 'requires_grad_',\n",
              " 'share_memory',\n",
              " 'state_dict',\n",
              " 'to',\n",
              " 'train',\n",
              " 'training',\n",
              " 'type',\n",
              " 'zero_grad']"
            ]
          },
          "metadata": {
            "tags": []
          },
          "execution_count": 17
        }
      ]
    },
    {
      "cell_type": "code",
      "metadata": {
        "id": "A-kdpJXb_tEh"
      },
      "source": [
        "#!python3 train.py --dataset cifar10  --niter 15 --abnormal_class car"
      ],
      "execution_count": 18,
      "outputs": []
    },
    {
      "cell_type": "code",
      "metadata": {
        "id": "LQQSHb4oBD-X"
      },
      "source": [
        "# get one sample of an image from the test data set"
      ],
      "execution_count": 19,
      "outputs": []
    },
    {
      "cell_type": "code",
      "metadata": {
        "colab": {
          "base_uri": "https://localhost:8080/"
        },
        "id": "m9MY7d8FE0Pi",
        "outputId": "8beb7a3c-646b-4e44-ef00-6a1ccf40f4b4"
      },
      "source": [
        "!pip install latex\n",
        "!apt install texlive-fonts-recommended texlive-fonts-extra\n",
        "!apt install cm-super\n",
        "!apt-get install dvipng"
      ],
      "execution_count": 33,
      "outputs": [
        {
          "output_type": "stream",
          "text": [
            "Requirement already satisfied: latex in /usr/local/lib/python3.7/dist-packages (0.7.0)\n",
            "Requirement already satisfied: shutilwhich in /usr/local/lib/python3.7/dist-packages (from latex) (1.1.0)\n",
            "Requirement already satisfied: data in /usr/local/lib/python3.7/dist-packages (from latex) (0.4)\n",
            "Requirement already satisfied: future in /usr/local/lib/python3.7/dist-packages (from latex) (0.16.0)\n",
            "Requirement already satisfied: tempdir in /usr/local/lib/python3.7/dist-packages (from latex) (0.7.1)\n",
            "Requirement already satisfied: decorator in /usr/local/lib/python3.7/dist-packages (from data->latex) (4.4.2)\n",
            "Requirement already satisfied: funcsigs in /usr/local/lib/python3.7/dist-packages (from data->latex) (1.0.2)\n",
            "Requirement already satisfied: six in /usr/local/lib/python3.7/dist-packages (from data->latex) (1.12.0)\n",
            "Reading package lists... Done\n",
            "Building dependency tree       \n",
            "Reading state information... Done\n",
            "texlive-fonts-extra is already the newest version (2017.20180305-2).\n",
            "texlive-fonts-recommended is already the newest version (2017.20180305-1).\n",
            "0 upgraded, 0 newly installed, 0 to remove and 31 not upgraded.\n",
            "Reading package lists... Done\n",
            "Building dependency tree       \n",
            "Reading state information... Done\n",
            "cm-super is already the newest version (0.3.4-11).\n",
            "0 upgraded, 0 newly installed, 0 to remove and 31 not upgraded.\n",
            "Reading package lists... Done\n",
            "Building dependency tree       \n",
            "Reading state information... Done\n",
            "The following additional packages will be installed:\n",
            "  ghostscript gsfonts\n",
            "Suggested packages:\n",
            "  ghostscript-x\n",
            "The following NEW packages will be installed:\n",
            "  dvipng ghostscript gsfonts\n",
            "0 upgraded, 3 newly installed, 0 to remove and 31 not upgraded.\n",
            "Need to get 3,250 kB of archives.\n",
            "After this operation, 4,947 kB of additional disk space will be used.\n",
            "Get:1 http://archive.ubuntu.com/ubuntu bionic-updates/main amd64 ghostscript amd64 9.26~dfsg+0-0ubuntu0.18.04.14 [51.3 kB]\n",
            "Get:2 http://archive.ubuntu.com/ubuntu bionic/universe amd64 dvipng amd64 1.15-1 [78.2 kB]\n",
            "Get:3 http://archive.ubuntu.com/ubuntu bionic/main amd64 gsfonts all 1:8.11+urwcyr1.0.7~pre44-4.4 [3,120 kB]\n",
            "Fetched 3,250 kB in 2s (2,071 kB/s)\n",
            "Selecting previously unselected package ghostscript.\n",
            "(Reading database ... 247432 files and directories currently installed.)\n",
            "Preparing to unpack .../ghostscript_9.26~dfsg+0-0ubuntu0.18.04.14_amd64.deb ...\n",
            "Unpacking ghostscript (9.26~dfsg+0-0ubuntu0.18.04.14) ...\n",
            "Selecting previously unselected package dvipng.\n",
            "Preparing to unpack .../dvipng_1.15-1_amd64.deb ...\n",
            "Unpacking dvipng (1.15-1) ...\n",
            "Selecting previously unselected package gsfonts.\n",
            "Preparing to unpack .../gsfonts_1%3a8.11+urwcyr1.0.7~pre44-4.4_all.deb ...\n",
            "Unpacking gsfonts (1:8.11+urwcyr1.0.7~pre44-4.4) ...\n",
            "Setting up gsfonts (1:8.11+urwcyr1.0.7~pre44-4.4) ...\n",
            "Setting up ghostscript (9.26~dfsg+0-0ubuntu0.18.04.14) ...\n",
            "Setting up dvipng (1.15-1) ...\n",
            "Processing triggers for fontconfig (2.12.6-0ubuntu2) ...\n",
            "Processing triggers for man-db (2.8.3-2ubuntu0.1) ...\n"
          ],
          "name": "stdout"
        }
      ]
    },
    {
      "cell_type": "code",
      "metadata": {
        "id": "WL6IntiFSCkD"
      },
      "source": [
        "import torchvision.transforms as transforms\n",
        "import matplotlib.pyplot as plt"
      ],
      "execution_count": 24,
      "outputs": []
    },
    {
      "cell_type": "code",
      "metadata": {
        "colab": {
          "base_uri": "https://localhost:8080/",
          "height": 267
        },
        "id": "cqSUlFi7EuQ4",
        "outputId": "8b5dfecc-d429-416d-bbc9-e6ac95d2d807"
      },
      "source": [
        "import torch\n",
        "import torchvision\n",
        "import torchvision.transforms as transforms\n",
        "\n",
        "import matplotlib.pyplot as plt\n",
        "import numpy as np\n",
        "\n",
        "# functions to show an image\n",
        "\n",
        "\n",
        "def imshow(img):\n",
        "    img = img / 2 + 0.5     # unnormalize\n",
        "    npimg = img.numpy()\n",
        "    plt.imshow(np.transpose(npimg, (1, 2, 0)))\n",
        "    plt.show()\n",
        "\n",
        "\n",
        "# get some random training images\n",
        "dataiter = iter(dataloader['test'])\n",
        "images, labels = dataiter.next()\n",
        "\n",
        "# show images\n",
        "imshow(torchvision.utils.make_grid(images))"
      ],
      "execution_count": 62,
      "outputs": [
        {
          "output_type": "display_data",
          "data": {
            "image/png": "[encoded data removed]",
            "text/plain": [
              "<Figure size 432x288 with 1 Axes>"
            ]
          },
          "metadata": {
            "tags": [],
            "needs_background": "light"
          }
        }
      ]
    },
    {
      "cell_type": "markdown",
      "metadata": {
        "id": "l5xsneu64Ypk"
      },
      "source": [
        "Run discriminator on images batch"
      ]
    },
    {
      "cell_type": "code",
      "metadata": {
        "colab": {
          "base_uri": "https://localhost:8080/"
        },
        "id": "Y_2NUakH4YFE",
        "outputId": "aa2d0c64-7fad-4722-fe48-7cf4c68c96a6"
      },
      "source": [
        "# This enumerator is from the model generator test function https://github.com/samet-akcay/ganomaly/blob/master/lib/model.py line 208\n",
        "for i, data in enumerate(dataloader['test'], 0):\n",
        "  print(i)\n",
        "  print(len(data))\n",
        "  break"
      ],
      "execution_count": 76,
      "outputs": [
        {
          "output_type": "stream",
          "text": [
            "0\n",
            "2\n"
          ],
          "name": "stdout"
        }
      ]
    },
    {
      "cell_type": "code",
      "metadata": {
        "colab": {
          "base_uri": "https://localhost:8080/"
        },
        "id": "XHNRnj155WQg",
        "outputId": "1553f430-8b69-423f-d83f-d36b117a8635"
      },
      "source": [
        "len(dataloader['test'])"
      ],
      "execution_count": 77,
      "outputs": [
        {
          "output_type": "execute_result",
          "data": {
            "text/plain": [
              "235"
            ]
          },
          "metadata": {
            "tags": []
          },
          "execution_count": 77
        }
      ]
    },
    {
      "cell_type": "code",
      "metadata": {
        "colab": {
          "base_uri": "https://localhost:8080/",
          "height": 231
        },
        "id": "nO1TAMxe6ESG",
        "outputId": "7618017c-1668-452a-a343-905830f2c7f9"
      },
      "source": [
        "import time\n",
        "\n",
        "device = \"cuda:0\"\n",
        "an_scores = torch.zeros(size=(len(dataloader['test'].dataset),), dtype=torch.float32, device=device)\n",
        "gt_labels = torch.zeros(size=(len(dataloader['test'].dataset),), dtype=torch.long,    device=device)\n",
        "latent_i  = torch.zeros(size=(len(dataloader['test'].dataset), opt.nz), dtype=torch.float32, device=device)\n",
        "latent_o  = torch.zeros(size=(len(dataloader['test'].dataset), opt.nz), dtype=torch.float32, device=device)\n",
        "\n",
        "# print(\"   Testing model %s.\" % name)\n",
        "times = []\n",
        "total_steps = 0\n",
        "epoch_iter = 0\n",
        "for i, data in enumerate(dataloader['test'], 0):\n",
        "    total_steps += opt.batchsize\n",
        "    epoch_iter += opt.batchsize\n",
        "    time_i = time.time()\n",
        "    model.set_input(data)\n",
        "    fake, latent_i, latent_o = model.netg(model.input)\n",
        "\n",
        "    error = torch.mean(torch.pow((latent_i-latent_o), 2), dim=1)\n",
        "    time_o = time.time()\n",
        "\n",
        "    an_scores[i*opt.batchsize : i*opt.batchsize+error.size(0)] = error.reshape(error.size(0))\n",
        "    gt_labels[i*opt.batchsize : i*opt.batchsize+error.size(0)] = gt.reshape(error.size(0))\n",
        "    latent_i [i*opt.batchsize : i*opt.batchsize+error.size(0), :] = latent_i.reshape(error.size(0), opt.nz)\n",
        "    latent_o [i*opt.batchsize : i*opt.batchsize+error.size(0), :] = latent_o.reshape(error.size(0), opt.nz)\n",
        "\n",
        "    times.append(time_o - time_i)\n",
        "\n",
        "    # Save test images.\n",
        "    if opt.save_test_images:\n",
        "        dst = os.path.join(opt.outf, opt.name, 'test', 'images')\n",
        "        if not os.path.isdir(dst):\n",
        "            os.makedirs(dst)\n",
        "        real, fake, _ = get_current_images()\n",
        "        vutils.save_image(real, '%s/real_%03d.eps' % (dst, i+1), normalize=True)\n",
        "        vutils.save_image(fake, '%s/fake_%03d.eps' % (dst, i+1), normalize=True)\n",
        "\n",
        "# Measure inference time.\n",
        "times = np.array(times)\n",
        "times = np.mean(times[:100] * 1000)\n",
        "\n",
        "# Scale error vector between [0, 1]\n",
        "an_scores = (an_scores - torch.min(an_scores)) / (torch.max(an_scores) - torch.min(an_scores))\n",
        "# auc, eer = roc(gt_labels, an_scores)\n",
        "auc = evaluate(gt_labels, an_scores, metric=opt.metric)\n",
        "performance = OrderedDict([('Avg Run Time (ms/batch)', times), (opt.metric, auc)])\n",
        "\n",
        "if opt.display_id > 0 and opt.phase == 'test':\n",
        "    counter_ratio = float(epoch_iter) / len(dataloader['test'].dataset)"
      ],
      "execution_count": 83,
      "outputs": [
        {
          "output_type": "error",
          "ename": "NameError",
          "evalue": "ignored",
          "traceback": [
            "\u001b[0;31m---------------------------------------------------------------------------\u001b[0m",
            "\u001b[0;31mNameError\u001b[0m                                 Traceback (most recent call last)",
            "\u001b[0;32m<ipython-input-83-6b4643a79b43>\u001b[0m in \u001b[0;36m<module>\u001b[0;34m()\u001b[0m\n\u001b[1;32m     22\u001b[0m \u001b[0;34m\u001b[0m\u001b[0m\n\u001b[1;32m     23\u001b[0m     \u001b[0man_scores\u001b[0m\u001b[0;34m[\u001b[0m\u001b[0mi\u001b[0m\u001b[0;34m*\u001b[0m\u001b[0mopt\u001b[0m\u001b[0;34m.\u001b[0m\u001b[0mbatchsize\u001b[0m \u001b[0;34m:\u001b[0m \u001b[0mi\u001b[0m\u001b[0;34m*\u001b[0m\u001b[0mopt\u001b[0m\u001b[0;34m.\u001b[0m\u001b[0mbatchsize\u001b[0m\u001b[0;34m+\u001b[0m\u001b[0merror\u001b[0m\u001b[0;34m.\u001b[0m\u001b[0msize\u001b[0m\u001b[0;34m(\u001b[0m\u001b[0;36m0\u001b[0m\u001b[0;34m)\u001b[0m\u001b[0;34m]\u001b[0m \u001b[0;34m=\u001b[0m \u001b[0merror\u001b[0m\u001b[0;34m.\u001b[0m\u001b[0mreshape\u001b[0m\u001b[0;34m(\u001b[0m\u001b[0merror\u001b[0m\u001b[0;34m.\u001b[0m\u001b[0msize\u001b[0m\u001b[0;34m(\u001b[0m\u001b[0;36m0\u001b[0m\u001b[0;34m)\u001b[0m\u001b[0;34m)\u001b[0m\u001b[0;34m\u001b[0m\u001b[0;34m\u001b[0m\u001b[0m\n\u001b[0;32m---> 24\u001b[0;31m     \u001b[0mgt_labels\u001b[0m\u001b[0;34m[\u001b[0m\u001b[0mi\u001b[0m\u001b[0;34m*\u001b[0m\u001b[0mopt\u001b[0m\u001b[0;34m.\u001b[0m\u001b[0mbatchsize\u001b[0m \u001b[0;34m:\u001b[0m \u001b[0mi\u001b[0m\u001b[0;34m*\u001b[0m\u001b[0mopt\u001b[0m\u001b[0;34m.\u001b[0m\u001b[0mbatchsize\u001b[0m\u001b[0;34m+\u001b[0m\u001b[0merror\u001b[0m\u001b[0;34m.\u001b[0m\u001b[0msize\u001b[0m\u001b[0;34m(\u001b[0m\u001b[0;36m0\u001b[0m\u001b[0;34m)\u001b[0m\u001b[0;34m]\u001b[0m \u001b[0;34m=\u001b[0m \u001b[0mgt\u001b[0m\u001b[0;34m.\u001b[0m\u001b[0mreshape\u001b[0m\u001b[0;34m(\u001b[0m\u001b[0merror\u001b[0m\u001b[0;34m.\u001b[0m\u001b[0msize\u001b[0m\u001b[0;34m(\u001b[0m\u001b[0;36m0\u001b[0m\u001b[0;34m)\u001b[0m\u001b[0;34m)\u001b[0m\u001b[0;34m\u001b[0m\u001b[0;34m\u001b[0m\u001b[0m\n\u001b[0m\u001b[1;32m     25\u001b[0m     \u001b[0mlatent_i\u001b[0m \u001b[0;34m[\u001b[0m\u001b[0mi\u001b[0m\u001b[0;34m*\u001b[0m\u001b[0mopt\u001b[0m\u001b[0;34m.\u001b[0m\u001b[0mbatchsize\u001b[0m \u001b[0;34m:\u001b[0m \u001b[0mi\u001b[0m\u001b[0;34m*\u001b[0m\u001b[0mopt\u001b[0m\u001b[0;34m.\u001b[0m\u001b[0mbatchsize\u001b[0m\u001b[0;34m+\u001b[0m\u001b[0merror\u001b[0m\u001b[0;34m.\u001b[0m\u001b[0msize\u001b[0m\u001b[0;34m(\u001b[0m\u001b[0;36m0\u001b[0m\u001b[0;34m)\u001b[0m\u001b[0;34m,\u001b[0m \u001b[0;34m:\u001b[0m\u001b[0;34m]\u001b[0m \u001b[0;34m=\u001b[0m \u001b[0mlatent_i\u001b[0m\u001b[0;34m.\u001b[0m\u001b[0mreshape\u001b[0m\u001b[0;34m(\u001b[0m\u001b[0merror\u001b[0m\u001b[0;34m.\u001b[0m\u001b[0msize\u001b[0m\u001b[0;34m(\u001b[0m\u001b[0;36m0\u001b[0m\u001b[0;34m)\u001b[0m\u001b[0;34m,\u001b[0m \u001b[0mopt\u001b[0m\u001b[0;34m.\u001b[0m\u001b[0mnz\u001b[0m\u001b[0;34m)\u001b[0m\u001b[0;34m\u001b[0m\u001b[0;34m\u001b[0m\u001b[0m\n\u001b[1;32m     26\u001b[0m     \u001b[0mlatent_o\u001b[0m \u001b[0;34m[\u001b[0m\u001b[0mi\u001b[0m\u001b[0;34m*\u001b[0m\u001b[0mopt\u001b[0m\u001b[0;34m.\u001b[0m\u001b[0mbatchsize\u001b[0m \u001b[0;34m:\u001b[0m \u001b[0mi\u001b[0m\u001b[0;34m*\u001b[0m\u001b[0mopt\u001b[0m\u001b[0;34m.\u001b[0m\u001b[0mbatchsize\u001b[0m\u001b[0;34m+\u001b[0m\u001b[0merror\u001b[0m\u001b[0;34m.\u001b[0m\u001b[0msize\u001b[0m\u001b[0;34m(\u001b[0m\u001b[0;36m0\u001b[0m\u001b[0;34m)\u001b[0m\u001b[0;34m,\u001b[0m \u001b[0;34m:\u001b[0m\u001b[0;34m]\u001b[0m \u001b[0;34m=\u001b[0m \u001b[0mlatent_o\u001b[0m\u001b[0;34m.\u001b[0m\u001b[0mreshape\u001b[0m\u001b[0;34m(\u001b[0m\u001b[0merror\u001b[0m\u001b[0;34m.\u001b[0m\u001b[0msize\u001b[0m\u001b[0;34m(\u001b[0m\u001b[0;36m0\u001b[0m\u001b[0;34m)\u001b[0m\u001b[0;34m,\u001b[0m \u001b[0mopt\u001b[0m\u001b[0;34m.\u001b[0m\u001b[0mnz\u001b[0m\u001b[0;34m)\u001b[0m\u001b[0;34m\u001b[0m\u001b[0;34m\u001b[0m\u001b[0m\n",
            "\u001b[0;31mNameError\u001b[0m: name 'gt' is not defined"
          ]
        }
      ]
    },
    {
      "cell_type": "code",
      "metadata": {
        "id": "LZJ8e5sg8ykN"
      },
      "source": [
        ""
      ],
      "execution_count": null,
      "outputs": []
    }
  ]
}