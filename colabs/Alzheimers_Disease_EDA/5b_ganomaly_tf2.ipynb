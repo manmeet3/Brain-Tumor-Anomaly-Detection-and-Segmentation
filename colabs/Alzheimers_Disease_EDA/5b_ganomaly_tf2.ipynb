{
 "cells": [
  {
   "cell_type": "markdown",
   "metadata": {
    "id": "view-in-github"
   },
   "source": [
    "<a href=\"https://colab.research.google.com/github/manmeet3/Masters_Project/blob/master/wip_colabs/5-ganomaly_tf2.ipynb\" target=\"_parent\"><img src=\"https://colab.research.google.com/assets/colab-badge.svg\" alt=\"Open In Colab\"/></a>"
   ]
  },
  {
   "cell_type": "code",
   "execution_count": 1,
   "metadata": {
    "id": "KXkoVEkWronw"
   },
   "outputs": [],
   "source": [
    "# https://www.groundai.com/project/ganomaly-semi-supervised-anomaly-detection-via-adversarial-training/1"
   ]
  },
  {
   "cell_type": "markdown",
   "metadata": {
    "id": "iGwuLlM7rs7o"
   },
   "source": [
    "https://github.com/chychen/tf2-ganomaly"
   ]
  },
  {
   "cell_type": "code",
   "execution_count": 2,
   "metadata": {
    "colab": {
     "base_uri": "https://localhost:8080/"
    },
    "id": "P1LytNWdqguQ",
    "outputId": "0be83e5d-8985-452f-8bbd-a8979d62bd69"
   },
   "outputs": [
    {
     "name": "stdout",
     "output_type": "stream",
     "text": [
      "Mounted at /content/drive\n"
     ]
    }
   ],
   "source": [
    "from google.colab import drive\n",
    "drive.mount(\"/content/drive\", force_remount=True)"
   ]
  },
  {
   "cell_type": "code",
   "execution_count": 3,
   "metadata": {
    "colab": {
     "base_uri": "https://localhost:8080/"
    },
    "id": "E4odjevGqhkd",
    "outputId": "767887c1-8625-42b8-f687-36b0079d0f61"
   },
   "outputs": [
    {
     "name": "stdout",
     "output_type": "stream",
     "text": [
      "/content/drive/.shortcut-targets-by-id/1bqqm9-0FMOqiqyH_NIQBh-lJ36pWa7aX/Masters_Project/Datasets/OASIS3\n"
     ]
    }
   ],
   "source": [
    "%cd /content/drive/MyDrive/Masters_Project/Datasets/OASIS3/"
   ]
  },
  {
   "cell_type": "code",
   "execution_count": 4,
   "metadata": {
    "id": "pFf-uzo_q7iL"
   },
   "outputs": [],
   "source": [
    "# %cd ganomaly_tf2\n",
    "# !wget https://raw.githubusercontent.com/chychen/tf2-ganomaly/master/metrics.py\n",
    "# !wget https://raw.githubusercontent.com/chychen/tf2-ganomaly/master/model.py\n",
    "# !wget https://raw.githubusercontent.com/chychen/tf2-ganomaly/master/train.py"
   ]
  },
  {
   "cell_type": "code",
   "execution_count": 5,
   "metadata": {
    "colab": {
     "base_uri": "https://localhost:8080/"
    },
    "id": "AATRtv9srdvp",
    "outputId": "b8667090-7237-422c-d5bc-88cc22ae97d5"
   },
   "outputs": [
    {
     "name": "stdout",
     "output_type": "stream",
     "text": [
      "2.4.1\n"
     ]
    }
   ],
   "source": [
    "%matplotlib inline\n",
    "import tensorflow as tf\n",
    "from tensorflow.keras import layers\n",
    "print(tf.__version__)\n",
    "import os\n",
    "import time\n",
    "import numpy as np\n",
    "import cv2\n",
    "import glob\n",
    "import matplotlib.pyplot as plt\n",
    "from IPython.display import clear_output\n",
    "from ganomaly_tf2.model import GANomaly\n",
    "from absl import logging\n",
    "logging.set_verbosity(logging.INFO)\n",
    "logging.set_stderrthreshold(logging.INFO)\n",
    "\n",
    "from typing import Any, Callable, Optional, Tuple\n",
    "from PIL import Image\n",
    "from sklearn.model_selection import train_test_split"
   ]
  },
  {
   "cell_type": "code",
   "execution_count": 6,
   "metadata": {
    "id": "ueHQqtypr8kH"
   },
   "outputs": [],
   "source": [
    "def batch_resize(imgs, size: tuple):\n",
    "    img_out = np.empty((imgs.shape[0],) + size)\n",
    "    for i in range(imgs.shape[0]):\n",
    "        img_out[i] = cv2.resize(imgs[i], size, interpolation=cv2.INTER_CUBIC)\n",
    "    return img_out"
   ]
  },
  {
   "cell_type": "code",
   "execution_count": 7,
   "metadata": {
    "id": "gjZwaE0KsCyO"
   },
   "outputs": [],
   "source": [
    "class Option:\n",
    "    def __init__(self):\n",
    "        self.anomaly = 1 # the anomaly digit\n",
    "        self.shuffle_buffer_size = 10000\n",
    "        self.batch_size = 8\n",
    "        self.isize = 256 # input size\n",
    "        self.ckpt_dir = \"ckpt\"\n",
    "        self.nz = 100 # latent dims\n",
    "        self.nc = 1 # input channels\n",
    "        self.ndf = 64 # number of discriminator's filters\n",
    "        self.ngf = 64 # number of generator's filters\n",
    "        self.extralayers = 0\n",
    "        self.niter = 15 # number of training epochs\n",
    "        self.lr = 2e-4 \n",
    "        self.w_adv = 1. # Adversarial loss weight\n",
    "        self.w_con = 50. # Reconstruction loss weight\n",
    "        self.w_enc = 1. # Encoder loss weight.\n",
    "        self.beta1 = 0.5\n",
    "        self.encdims = None\n",
    "            \n",
    "opt = Option()"
   ]
  },
  {
   "cell_type": "code",
   "execution_count": 8,
   "metadata": {
    "colab": {
     "base_uri": "https://localhost:8080/"
    },
    "id": "WkAMiBZKytN2",
    "outputId": "911596f2-21f8-4053-e7fa-c63061f16a6e"
   },
   "outputs": [
    {
     "name": "stdout",
     "output_type": "stream",
     "text": [
      "Downloading data from https://storage.googleapis.com/tensorflow/tf-keras-datasets/mnist.npz\n",
      "11493376/11490434 [==============================] - 0s 0us/step\n"
     ]
    }
   ],
   "source": [
    "data_train, data_test = tf.keras.datasets.mnist.load_data()\n",
    "# (x_train, y_train), (x_test, y_test) = tf.keras.datasets.mnist.load_data()"
   ]
  },
  {
   "cell_type": "code",
   "execution_count": 9,
   "metadata": {
    "id": "otGVmqKZ72_o"
   },
   "outputs": [],
   "source": [
    "def read_data(path, normal=True):\n",
    "    data: Any = []\n",
    "    labels = []\n",
    "    \n",
    "    for file_path in glob.glob(path):\n",
    "        with open (file_path, 'rb') as f:\n",
    "            # image needs to be a PIL image\n",
    "            img = Image.open(f)\n",
    "            # Resize all images 176, 256, 3 -> 256, 256, 0\n",
    "            dsize = (256, 256)\n",
    "            resized = img.resize(dsize)\n",
    "            data.append(resized)\n",
    "            labels.append(1 if normal else 0) \n",
    "    data = np.vstack(data).reshape(-1, 256, 256)\n",
    "    data = data.transpose((0, 1, 2))  # convert to HWC\n",
    "    return (data, labels)"
   ]
  },
  {
   "cell_type": "code",
   "execution_count": 10,
   "metadata": {
    "colab": {
     "base_uri": "https://localhost:8080/"
    },
    "id": "gwounWgO1nR9",
    "outputId": "f43cebfd-e699-4b7c-ac09-db8177adb80a"
   },
   "outputs": [
    {
     "name": "stdout",
     "output_type": "stream",
     "text": [
      "===== Loading Data =====\n",
      "ad_jpg_folder: /content/drive/MyDrive/Masters_Project/Datasets/OASIS3/t1w_ad_jpgs/140/\n",
      "non_ad_jpg_folder: /content/drive/MyDrive/Masters_Project/Datasets/OASIS3/t1w_non_ad_jpgs/140/\n"
     ]
    }
   ],
   "source": [
    "train_image_number = 140 # Image slice from MRI scans to use for training data\n",
    "#root_dir = '/content/drive/MyDrive/Masters_Project/Datasets/OASIS3/'\n",
    "root = '/content/drive/MyDrive/Masters_Project/Datasets/OASIS3/'\n",
    "non_ad_jpg_folder = 't1w_non_ad_jpgs/' + str(train_image_number) + '/'\n",
    "ad_jpg_folder = 't1w_ad_jpgs/' + str(train_image_number) + '/'\n",
    "\n",
    "\n",
    "ad_jpg_folder = os.path.join(root, ad_jpg_folder)\n",
    "non_ad_jpg_folder = os.path.join(root, non_ad_jpg_folder)\n",
    "    \n",
    "print(\"=\"*5 + \" Loading Data \" + \"=\"*5)\n",
    "print(f\"ad_jpg_folder: {ad_jpg_folder}\")\n",
    "print(f\"non_ad_jpg_folder: {non_ad_jpg_folder}\")\n",
    "\n",
    "non_ad_data: Any = []\n",
    "non_ad_targets = []\n",
    "\n",
    "ad_data: Any = []\n",
    "ad_targets = []\n",
    "\n",
    "# Read data and label into a numpy array\n",
    "non_ad_data, non_ad_targets = read_data(ad_jpg_folder+'**.jpg', normal=True)\n",
    "ad_data, ad_targets = read_data(non_ad_jpg_folder+'**.jpg', normal=False)\n",
    "\n",
    "# shuffle the datasets and bucket them as test and train\n",
    "# (non_ad_data, non_ad_targets) = shuffle_associated_arrays(non_ad_data, non_ad_targets)\n",
    "# (ad_data, ad_targets) = shuffle_associated_arrays(ad_data, ad_targets)\n",
    "\n",
    "all_data = np.concatenate((non_ad_data, ad_data), axis=0)\n",
    "all_targets = non_ad_targets + ad_targets\n",
    "\n",
    "x_train, x_test, y_train, y_test =\\\n",
    "  train_test_split(all_data, all_targets, test_size=0.1, random_state=42)"
   ]
  },
  {
   "cell_type": "code",
   "execution_count": 11,
   "metadata": {
    "colab": {
     "base_uri": "https://localhost:8080/"
    },
    "id": "jilyDAnIDad0",
    "outputId": "3829e806-b256-4315-c93e-462c80a143ba"
   },
   "outputs": [
    {
     "data": {
      "text/plain": [
       "(1165, 256, 256)"
      ]
     },
     "execution_count": 11,
     "metadata": {
      "tags": []
     },
     "output_type": "execute_result"
    }
   ],
   "source": [
    "x_train.shape"
   ]
  },
  {
   "cell_type": "code",
   "execution_count": 12,
   "metadata": {
    "id": "p-x5XcnOW7t_"
   },
   "outputs": [],
   "source": [
    "x_train = x_train.astype(np.float32)\n",
    "x_test = x_test.astype(np.float32)\n",
    "\n",
    "y_train = np.array(y_train, dtype=np.intc)\n",
    "y_test = np.array(y_test, dtype=np.intc)"
   ]
  },
  {
   "cell_type": "code",
   "execution_count": 13,
   "metadata": {
    "colab": {
     "base_uri": "https://localhost:8080/"
    },
    "id": "YnuODPLIXho3",
    "outputId": "5c6c7450-af50-4c4e-a914-4241ca9be023"
   },
   "outputs": [
    {
     "name": "stdout",
     "output_type": "stream",
     "text": [
      "(1165, 256, 256, 1) (1165, 256, 256, 1)\n"
     ]
    }
   ],
   "source": [
    "x_train = batch_resize(x_train, (256, 256))[..., None]\n",
    "x_test = batch_resize(x_test, (256, 256))[..., None]\n",
    "# normalization\n",
    "mean = x_train.mean()\n",
    "stddev = x_train.std()\n",
    "x_train = (x_train-mean)/stddev\n",
    "x_test = (x_test-mean)/stddev\n",
    "print(x_train.shape, x_train.shape)\n",
    "# define abnoraml data and normal\n",
    "# training data only contains normal\n",
    "x_train = x_train[y_train!=opt.anomaly]\n",
    "y_train = y_train[y_train!=opt.anomaly]\n",
    "y_test = (y_test==opt.anomaly).astype(np.float32)\n",
    "# tf.data.Dataset\n",
    "train_dataset = tf.data.Dataset.from_tensor_slices((x_train, y_train))\n",
    "test_dataset = tf.data.Dataset.from_tensor_slices((x_test, y_test))\n",
    "train_dataset = train_dataset.shuffle(opt.shuffle_buffer_size).batch(opt.batch_size, drop_remainder=True)\n",
    "test_dataset = test_dataset.batch(opt.batch_size, drop_remainder=False)"
   ]
  },
  {
   "cell_type": "code",
   "execution_count": 14,
   "metadata": {
    "colab": {
     "base_uri": "https://localhost:8080/"
    },
    "id": "ZW7nfXrVYKE2",
    "outputId": "65e59027-aa75-4b08-ba5c-15fbeb4a61ea"
   },
   "outputs": [
    {
     "data": {
      "text/plain": [
       "<BatchDataset shapes: ((8, 256, 256, 1), (8,)), types: (tf.float64, tf.int32)>"
      ]
     },
     "execution_count": 14,
     "metadata": {
      "tags": []
     },
     "output_type": "execute_result"
    }
   ],
   "source": [
    "train_dataset"
   ]
  },
  {
   "cell_type": "code",
   "execution_count": 15,
   "metadata": {
    "colab": {
     "base_uri": "https://localhost:8080/"
    },
    "id": "6Y5E8hGtYzr9",
    "outputId": "cc991796-bc18-4991-ed02-5b7943b5b852"
   },
   "outputs": [
    {
     "data": {
      "text/plain": [
       "<BatchDataset shapes: ((None, 256, 256, 1), (None,)), types: (tf.float64, tf.float32)>"
      ]
     },
     "execution_count": 15,
     "metadata": {
      "tags": []
     },
     "output_type": "execute_result"
    }
   ],
   "source": [
    "test_dataset"
   ]
  },
  {
   "cell_type": "code",
   "execution_count": 16,
   "metadata": {
    "id": "fW1GpM5-Y3St"
   },
   "outputs": [],
   "source": [
    "ganomaly = GANomaly(opt, train_dataset, valid_dataset=None, test_dataset=test_dataset)"
   ]
  },
  {
   "cell_type": "code",
   "execution_count": 17,
   "metadata": {
    "colab": {
     "base_uri": "https://localhost:8080/",
     "height": 1000,
     "referenced_widgets": [
      "36097759d5fe48a4bae16693998fb32d",
      "e4f26c23851e42cebe68c589d0de3510",
      "1910a96820974ae3ae79d67ddd3c2013",
      "ddc3e68b8b34441f90fb198a75f94538",
      "501e2afe11ae46baa105dd122ac6c5f2",
      "280c47f2021a43b99716ab42d6cb9516",
      "7474349bec82496f8924b8665e30a132",
      "a01a683f8c9e4118a2e4d49186b039fc",
      "8ed689901c6d4a35af5a60302ece0c5d",
      "ca221ca10daa4013859ff5a7e3a0dfd6",
      "a02967e20583458c8b0b40e5e54bb737",
      "2e439a8d81e646c1a48bb8338fa493a2",
      "5769563c8d374d51b9fd60208dae374b",
      "1244118191a142dab08985b2c6c75201",
      "d006931d0cfe497ca33d68664a9a6e3f",
      "a79037e7cd9845a08e8b129585b6abc9",
      "150ce6b297664fd8baa516b3d443a365",
      "2158eda8ec7a4e6c9e483993ca97caee",
      "da1f9c61970f4b129ccea5c8a4777491",
      "ec85df09de6b4f07aff25baa0edb7898",
      "f87c65c5cac6436295edc1fb28164343",
      "80c1d110481846f2965b64fa2d398f45",
      "e8cbfa87d9624c2ea0eadc979dba8d03",
      "c99159db49854ed5802ab9326d4a1595",
      "7f84eab073e4480bbd7755e221b9ad66",
      "c62ecf189785484c8b77afbd04c2c335",
      "ff75246630f643deac14462a5c0c5c0e",
      "38c3fd8e13c241a0bd64288f39f312ce",
      "841317c58c0547e5a89c2b51ea2a5f80",
      "1fc9f21f74c7454da4f708b813c22d83",
      "901e30a503b447b58bf2142b1ab55aa2",
      "0176b605fb8844d4b8ea406f2c2d4e5f",
      "ff40749351a54b9d9269a855048d368f",
      "90da68063ae74ccba0343fecf17f265d",
      "b7712c540cc74c6f92003a276879f805",
      "1699d69583e94f23bc73588022230fd0",
      "a3ab3498b5aa49beaf496c55d0b20fd7",
      "06323591efbf4849afc07d62cb7dc6e7",
      "022ed4d838cd40d0aa3d3b7f6eb9e8ff",
      "a294c333c8de45b0b22a289b1ec89387",
      "7d35bc07bbf84b3d9d32739828ad09db",
      "76badf66b24741de8d61e4fd337b4515",
      "b08b83af950d4d57ba57d91d48690e00",
      "4b82bb901e11466e85d7762f873c1914",
      "f73052e5ef7f43ec9bca0007bcce08a9",
      "80785941b9a04fd79a86ddead41cb4de",
      "0d4357fa442541629f7975ed410f40b3",
      "7ab84b96934f4165a31f73a1f5124d48",
      "6be3d7784c424967a7eeed5d72ee2f91",
      "f094527b5d664ed692eae7fd8e7306ce",
      "c8ccf69bd2d7433db36be1d9a5a9145b",
      "a71fa931945742c4be5ef08dda2df2a7",
      "426c52651cc34ecdb923239ce0c80230",
      "725231d9f9b745df9444e1458149e537",
      "de25e220a35c4ed59e7a2189af4a4b79",
      "6af32f808ba34be1a603765aacb69ff9",
      "adb269862635467293b74db9ac78db64",
      "749debc33e74474d82f7653fbf1ef7e7",
      "c1e25118ede84503a845294d9835e203",
      "29db4cadaa7e44c1a5db52cc6a7f5a45",
      "230cf43badae497c92298622c35db6f5",
      "c94e43af10cd476b8aae26acc00ac64d",
      "ea60cb6e85a849b6b7f85e1eef40a1db",
      "4da3a2411c3041ee83467f3ab0b1068d",
      "672be3433c4f486d853dd6d148bbf707",
      "dffed6e40c694a8abb41d3b88f2186a5",
      "d78c671c3f2a4c0aa78fbe2029055089",
      "f8b5818e816f4d78920715455f23e981",
      "6f19cdf1d08344f2a58e4d787bf0e2d9",
      "f2624990017f485698aef5cfcc7b0a1f",
      "18f0becb23314fde8cc8486572c31ee2",
      "677dc593811648868102c49981681ed7",
      "882b64c49987442f806e0c057edd9a5a",
      "b9d8ec25612444fe96535c196e6154e5",
      "32c75bcfa6c74016974d6e0dff95a483",
      "776644631f7d45f59535ee818ce8baef",
      "40699eed361e41eda7b166be31126de9",
      "2cac03e82a1945afb968f12632f47f94",
      "7edc80c398644235ab09c556c52f2c9e",
      "44e713a0530344c1a8f6112e61dad917",
      "9740290fe8f048af85b497aca4b21ed9",
      "188f42ac2ac24a17b8aa3d664f3fb427",
      "f3dc17abceef457db6512839fccef0a8",
      "b7b10ec7197149d9bf403300ee805618",
      "85c982e48c27436e90ec52c8828b81f0",
      "d75d8d57e7ee4ce78ad69efb17e20aa5",
      "29c9419e7a7b43c1b7cf76cc9cf89536",
      "024032781b234249994fe751e52d6881",
      "2ace6833902b4a49ae349c1bbdbd542f",
      "3a417d0a022d483098c4d47a69e59941",
      "49e681be3e72420485461ebd86f0b65d",
      "8085f7c0cdd045f0878977c9371a3edd",
      "c06fe3e805d84642abefd541e6c38abb",
      "187b676342bd45a794926766b5e70e03",
      "80d869cd6bec4409a647f1df1ef67710",
      "bc28837ceee34929ada4617bfd70b345",
      "7254d7fa8cb24ea8951cabffa2f50d25",
      "1d95cc2df8d34f38aee0a0f90b24ca89",
      "d55772f1c20748b2a2d4205a057fe3ec",
      "109f85b721204347a660fec002d34b1d",
      "84ac2d41dfd24ff0a9a76e5eedad62b4",
      "471e4d61a048433ba09df13dcf722e31",
      "d4e8838eced84081a101def90b7c9d7f",
      "45a7a13a56894fe5abb83d3d27d60c8c",
      "1b9afaf70c514c81bb242b37af0ae178",
      "b303a34bf22a4b7db9e06b722e795c21",
      "fa76c3b32a3c4431ac6f5b8e64d91cec",
      "a08dfc43f05b4efdb9252de4ec5f4baf",
      "7f113cc198b14df6bc6a4b586b3eb4f5",
      "dd44208fb0a147f68177ab5bbd4326e1",
      "4b8743be0a96404da54b2353da6627fb",
      "7c0be1261b034455bd15766faf29b905",
      "e6b6199b15714d539d2d4b49939e5d0e",
      "612977aa07e4440b95ecb82fd994efb2",
      "6f0c532b60f44f86a33578ef21055956",
      "1065d37763f64e09bc098c435831c6a6",
      "c635191e9b9341538bae325d73242245",
      "e3944b22cb6f480c807bcd02c87e321c",
      "71c6867c03de4f8184e1d52fc3725552",
      "ebbeb199f24344e1b0ed733b0e01b923"
     ]
    },
    "id": "fbKwFAYCY9Zc",
    "outputId": "86f8a1ef-f351-4a41-8210-8910fb48c674"
   },
   "outputs": [
    {
     "data": {
      "application/vnd.jupyter.widget-view+json": {
       "model_id": "36097759d5fe48a4bae16693998fb32d",
       "version_major": 2,
       "version_minor": 0
      },
      "text/plain": [
       "HBox(children=(FloatProgress(value=0.0, max=107.0), HTML(value='')))"
      ]
     },
     "metadata": {
      "tags": []
     },
     "output_type": "display_data"
    },
    {
     "name": "stderr",
     "output_type": "stream",
     "text": [
      "INFO:absl:re-init D, cost: 0.1660 secs\n",
      "INFO:absl:epoch: 0, G_losses: 53.3708, D_losses: 6.8582, samples/sec: 9.2585\n"
     ]
    },
    {
     "name": "stdout",
     "output_type": "stream",
     "text": [
      "\r",
      "Saving to: ckpt/best\n"
     ]
    },
    {
     "name": "stderr",
     "output_type": "stream",
     "text": [
      "WARNING:absl:Found untraced functions such as conv_bn__act_layer_call_fn, conv_bn__act_layer_call_and_return_conditional_losses, conv2d_6_layer_call_fn, conv2d_6_layer_call_and_return_conditional_losses, conv_bn__act_6_layer_call_fn while saving (showing 5 of 260). These functions will not be directly callable after loading.\n",
      "WARNING:absl:Found untraced functions such as conv_bn__act_layer_call_fn, conv_bn__act_layer_call_and_return_conditional_losses, conv2d_6_layer_call_fn, conv2d_6_layer_call_and_return_conditional_losses, conv_bn__act_6_layer_call_fn while saving (showing 5 of 260). These functions will not be directly callable after loading.\n"
     ]
    },
    {
     "name": "stdout",
     "output_type": "stream",
     "text": [
      "INFO:tensorflow:Assets written to: ckpt/bestgen/assets\n"
     ]
    },
    {
     "name": "stderr",
     "output_type": "stream",
     "text": [
      "INFO:tensorflow:Assets written to: ckpt/bestgen/assets\n",
      "WARNING:absl:Found untraced functions such as conv_bn__act_19_layer_call_fn, conv_bn__act_19_layer_call_and_return_conditional_losses, conv2d_20_layer_call_fn, conv2d_20_layer_call_and_return_conditional_losses, conv2d_14_layer_call_fn while saving (showing 5 of 95). These functions will not be directly callable after loading.\n",
      "WARNING:absl:Found untraced functions such as conv_bn__act_19_layer_call_fn, conv_bn__act_19_layer_call_and_return_conditional_losses, conv2d_20_layer_call_fn, conv2d_20_layer_call_and_return_conditional_losses, conv2d_14_layer_call_fn while saving (showing 5 of 95). These functions will not be directly callable after loading.\n"
     ]
    },
    {
     "name": "stdout",
     "output_type": "stream",
     "text": [
      "INFO:tensorflow:Assets written to: ckpt/bestdisc/assets\n"
     ]
    },
    {
     "name": "stderr",
     "output_type": "stream",
     "text": [
      "INFO:tensorflow:Assets written to: ckpt/bestdisc/assets\n",
      "INFO:absl:*** \t Testing:   roc_auc: 0.4523   average_precision: 0.2458 ***\n"
     ]
    },
    {
     "data": {
      "application/vnd.jupyter.widget-view+json": {
       "model_id": "8ed689901c6d4a35af5a60302ece0c5d",
       "version_major": 2,
       "version_minor": 0
      },
      "text/plain": [
       "HBox(children=(FloatProgress(value=0.0, max=107.0), HTML(value='')))"
      ]
     },
     "metadata": {
      "tags": []
     },
     "output_type": "display_data"
    },
    {
     "name": "stderr",
     "output_type": "stream",
     "text": [
      "INFO:absl:epoch: 1, G_losses: 20.1367, D_losses: 7.6246, samples/sec: 14.6664\n"
     ]
    },
    {
     "name": "stdout",
     "output_type": "stream",
     "text": [
      "\r",
      "Saving to: ckpt/best\n"
     ]
    },
    {
     "name": "stderr",
     "output_type": "stream",
     "text": [
      "WARNING:absl:Found untraced functions such as conv_bn__act_layer_call_fn, conv_bn__act_layer_call_and_return_conditional_losses, conv2d_6_layer_call_fn, conv2d_6_layer_call_and_return_conditional_losses, conv_bn__act_6_layer_call_fn while saving (showing 5 of 260). These functions will not be directly callable after loading.\n",
      "WARNING:absl:Found untraced functions such as conv_bn__act_layer_call_fn, conv_bn__act_layer_call_and_return_conditional_losses, conv2d_6_layer_call_fn, conv2d_6_layer_call_and_return_conditional_losses, conv_bn__act_6_layer_call_fn while saving (showing 5 of 260). These functions will not be directly callable after loading.\n"
     ]
    },
    {
     "name": "stdout",
     "output_type": "stream",
     "text": [
      "INFO:tensorflow:Assets written to: ckpt/bestgen/assets\n"
     ]
    },
    {
     "name": "stderr",
     "output_type": "stream",
     "text": [
      "INFO:tensorflow:Assets written to: ckpt/bestgen/assets\n",
      "WARNING:absl:Found untraced functions such as conv_bn__act_19_layer_call_fn, conv_bn__act_19_layer_call_and_return_conditional_losses, conv2d_20_layer_call_fn, conv2d_20_layer_call_and_return_conditional_losses, conv2d_14_layer_call_fn while saving (showing 5 of 95). These functions will not be directly callable after loading.\n",
      "WARNING:absl:Found untraced functions such as conv_bn__act_19_layer_call_fn, conv_bn__act_19_layer_call_and_return_conditional_losses, conv2d_20_layer_call_fn, conv2d_20_layer_call_and_return_conditional_losses, conv2d_14_layer_call_fn while saving (showing 5 of 95). These functions will not be directly callable after loading.\n"
     ]
    },
    {
     "name": "stdout",
     "output_type": "stream",
     "text": [
      "INFO:tensorflow:Assets written to: ckpt/bestdisc/assets\n"
     ]
    },
    {
     "name": "stderr",
     "output_type": "stream",
     "text": [
      "INFO:tensorflow:Assets written to: ckpt/bestdisc/assets\n",
      "INFO:absl:*** \t Testing:   roc_auc: 0.4890   average_precision: 0.2858 ***\n"
     ]
    },
    {
     "data": {
      "application/vnd.jupyter.widget-view+json": {
       "model_id": "150ce6b297664fd8baa516b3d443a365",
       "version_major": 2,
       "version_minor": 0
      },
      "text/plain": [
       "HBox(children=(FloatProgress(value=0.0, max=107.0), HTML(value='')))"
      ]
     },
     "metadata": {
      "tags": []
     },
     "output_type": "display_data"
    },
    {
     "name": "stderr",
     "output_type": "stream",
     "text": [
      "INFO:absl:epoch: 2, G_losses: 19.6690, D_losses: 7.6246, samples/sec: 14.7477\n"
     ]
    },
    {
     "name": "stdout",
     "output_type": "stream",
     "text": [
      "\r",
      "Saving to: ckpt/best\n"
     ]
    },
    {
     "name": "stderr",
     "output_type": "stream",
     "text": [
      "WARNING:absl:Found untraced functions such as conv_bn__act_layer_call_fn, conv_bn__act_layer_call_and_return_conditional_losses, conv2d_6_layer_call_fn, conv2d_6_layer_call_and_return_conditional_losses, conv_bn__act_6_layer_call_fn while saving (showing 5 of 260). These functions will not be directly callable after loading.\n",
      "WARNING:absl:Found untraced functions such as conv_bn__act_layer_call_fn, conv_bn__act_layer_call_and_return_conditional_losses, conv2d_6_layer_call_fn, conv2d_6_layer_call_and_return_conditional_losses, conv_bn__act_6_layer_call_fn while saving (showing 5 of 260). These functions will not be directly callable after loading.\n"
     ]
    },
    {
     "name": "stdout",
     "output_type": "stream",
     "text": [
      "INFO:tensorflow:Assets written to: ckpt/bestgen/assets\n"
     ]
    },
    {
     "name": "stderr",
     "output_type": "stream",
     "text": [
      "INFO:tensorflow:Assets written to: ckpt/bestgen/assets\n",
      "WARNING:absl:Found untraced functions such as conv_bn__act_19_layer_call_fn, conv_bn__act_19_layer_call_and_return_conditional_losses, conv2d_20_layer_call_fn, conv2d_20_layer_call_and_return_conditional_losses, conv2d_14_layer_call_fn while saving (showing 5 of 95). These functions will not be directly callable after loading.\n",
      "WARNING:absl:Found untraced functions such as conv_bn__act_19_layer_call_fn, conv_bn__act_19_layer_call_and_return_conditional_losses, conv2d_20_layer_call_fn, conv2d_20_layer_call_and_return_conditional_losses, conv2d_14_layer_call_fn while saving (showing 5 of 95). These functions will not be directly callable after loading.\n"
     ]
    },
    {
     "name": "stdout",
     "output_type": "stream",
     "text": [
      "INFO:tensorflow:Assets written to: ckpt/bestdisc/assets\n"
     ]
    },
    {
     "name": "stderr",
     "output_type": "stream",
     "text": [
      "INFO:tensorflow:Assets written to: ckpt/bestdisc/assets\n",
      "INFO:absl:*** \t Testing:   roc_auc: 0.5008   average_precision: 0.3054 ***\n"
     ]
    },
    {
     "data": {
      "application/vnd.jupyter.widget-view+json": {
       "model_id": "7f84eab073e4480bbd7755e221b9ad66",
       "version_major": 2,
       "version_minor": 0
      },
      "text/plain": [
       "HBox(children=(FloatProgress(value=0.0, max=107.0), HTML(value='')))"
      ]
     },
     "metadata": {
      "tags": []
     },
     "output_type": "display_data"
    },
    {
     "name": "stderr",
     "output_type": "stream",
     "text": [
      "INFO:absl:epoch: 3, G_losses: 19.5648, D_losses: 7.6246, samples/sec: 14.6725\n"
     ]
    },
    {
     "name": "stdout",
     "output_type": "stream",
     "text": [
      "\r",
      "Saving to: ckpt/best\n"
     ]
    },
    {
     "name": "stderr",
     "output_type": "stream",
     "text": [
      "WARNING:absl:Found untraced functions such as conv_bn__act_layer_call_fn, conv_bn__act_layer_call_and_return_conditional_losses, conv2d_6_layer_call_fn, conv2d_6_layer_call_and_return_conditional_losses, conv_bn__act_6_layer_call_fn while saving (showing 5 of 260). These functions will not be directly callable after loading.\n",
      "WARNING:absl:Found untraced functions such as conv_bn__act_layer_call_fn, conv_bn__act_layer_call_and_return_conditional_losses, conv2d_6_layer_call_fn, conv2d_6_layer_call_and_return_conditional_losses, conv_bn__act_6_layer_call_fn while saving (showing 5 of 260). These functions will not be directly callable after loading.\n"
     ]
    },
    {
     "name": "stdout",
     "output_type": "stream",
     "text": [
      "INFO:tensorflow:Assets written to: ckpt/bestgen/assets\n"
     ]
    },
    {
     "name": "stderr",
     "output_type": "stream",
     "text": [
      "INFO:tensorflow:Assets written to: ckpt/bestgen/assets\n",
      "WARNING:absl:Found untraced functions such as conv_bn__act_19_layer_call_fn, conv_bn__act_19_layer_call_and_return_conditional_losses, conv2d_20_layer_call_fn, conv2d_20_layer_call_and_return_conditional_losses, conv2d_14_layer_call_fn while saving (showing 5 of 95). These functions will not be directly callable after loading.\n",
      "WARNING:absl:Found untraced functions such as conv_bn__act_19_layer_call_fn, conv_bn__act_19_layer_call_and_return_conditional_losses, conv2d_20_layer_call_fn, conv2d_20_layer_call_and_return_conditional_losses, conv2d_14_layer_call_fn while saving (showing 5 of 95). These functions will not be directly callable after loading.\n"
     ]
    },
    {
     "name": "stdout",
     "output_type": "stream",
     "text": [
      "INFO:tensorflow:Assets written to: ckpt/bestdisc/assets\n"
     ]
    },
    {
     "name": "stderr",
     "output_type": "stream",
     "text": [
      "INFO:tensorflow:Assets written to: ckpt/bestdisc/assets\n",
      "INFO:absl:*** \t Testing:   roc_auc: 0.5179   average_precision: 0.2682 ***\n"
     ]
    },
    {
     "data": {
      "application/vnd.jupyter.widget-view+json": {
       "model_id": "ff40749351a54b9d9269a855048d368f",
       "version_major": 2,
       "version_minor": 0
      },
      "text/plain": [
       "HBox(children=(FloatProgress(value=0.0, max=107.0), HTML(value='')))"
      ]
     },
     "metadata": {
      "tags": []
     },
     "output_type": "display_data"
    },
    {
     "name": "stderr",
     "output_type": "stream",
     "text": [
      "INFO:absl:epoch: 4, G_losses: 19.5144, D_losses: 7.6246, samples/sec: 14.6259\n"
     ]
    },
    {
     "name": "stdout",
     "output_type": "stream",
     "text": [
      "\r",
      "Saving to: ckpt/best\n"
     ]
    },
    {
     "name": "stderr",
     "output_type": "stream",
     "text": [
      "WARNING:absl:Found untraced functions such as conv_bn__act_layer_call_fn, conv_bn__act_layer_call_and_return_conditional_losses, conv2d_6_layer_call_fn, conv2d_6_layer_call_and_return_conditional_losses, conv_bn__act_6_layer_call_fn while saving (showing 5 of 260). These functions will not be directly callable after loading.\n",
      "WARNING:absl:Found untraced functions such as conv_bn__act_layer_call_fn, conv_bn__act_layer_call_and_return_conditional_losses, conv2d_6_layer_call_fn, conv2d_6_layer_call_and_return_conditional_losses, conv_bn__act_6_layer_call_fn while saving (showing 5 of 260). These functions will not be directly callable after loading.\n"
     ]
    },
    {
     "name": "stdout",
     "output_type": "stream",
     "text": [
      "INFO:tensorflow:Assets written to: ckpt/bestgen/assets\n"
     ]
    },
    {
     "name": "stderr",
     "output_type": "stream",
     "text": [
      "INFO:tensorflow:Assets written to: ckpt/bestgen/assets\n",
      "WARNING:absl:Found untraced functions such as conv_bn__act_19_layer_call_fn, conv_bn__act_19_layer_call_and_return_conditional_losses, conv2d_20_layer_call_fn, conv2d_20_layer_call_and_return_conditional_losses, conv2d_14_layer_call_fn while saving (showing 5 of 95). These functions will not be directly callable after loading.\n",
      "WARNING:absl:Found untraced functions such as conv_bn__act_19_layer_call_fn, conv_bn__act_19_layer_call_and_return_conditional_losses, conv2d_20_layer_call_fn, conv2d_20_layer_call_and_return_conditional_losses, conv2d_14_layer_call_fn while saving (showing 5 of 95). These functions will not be directly callable after loading.\n"
     ]
    },
    {
     "name": "stdout",
     "output_type": "stream",
     "text": [
      "INFO:tensorflow:Assets written to: ckpt/bestdisc/assets\n"
     ]
    },
    {
     "name": "stderr",
     "output_type": "stream",
     "text": [
      "INFO:tensorflow:Assets written to: ckpt/bestdisc/assets\n",
      "INFO:absl:*** \t Testing:   roc_auc: 0.5317   average_precision: 0.2742 ***\n"
     ]
    },
    {
     "data": {
      "application/vnd.jupyter.widget-view+json": {
       "model_id": "7d35bc07bbf84b3d9d32739828ad09db",
       "version_major": 2,
       "version_minor": 0
      },
      "text/plain": [
       "HBox(children=(FloatProgress(value=0.0, max=107.0), HTML(value='')))"
      ]
     },
     "metadata": {
      "tags": []
     },
     "output_type": "display_data"
    },
    {
     "name": "stderr",
     "output_type": "stream",
     "text": [
      "INFO:absl:epoch: 5, G_losses: 19.4007, D_losses: 7.6246, samples/sec: 14.6569\n"
     ]
    },
    {
     "name": "stdout",
     "output_type": "stream",
     "text": [
      "\r"
     ]
    },
    {
     "name": "stderr",
     "output_type": "stream",
     "text": [
      "INFO:absl:\t Testing:   roc_auc: 0.5011   average_precision: 0.2632\n"
     ]
    },
    {
     "data": {
      "application/vnd.jupyter.widget-view+json": {
       "model_id": "6be3d7784c424967a7eeed5d72ee2f91",
       "version_major": 2,
       "version_minor": 0
      },
      "text/plain": [
       "HBox(children=(FloatProgress(value=0.0, max=107.0), HTML(value='')))"
      ]
     },
     "metadata": {
      "tags": []
     },
     "output_type": "display_data"
    },
    {
     "name": "stderr",
     "output_type": "stream",
     "text": [
      "INFO:absl:epoch: 6, G_losses: 19.4104, D_losses: 7.6246, samples/sec: 14.5635\n"
     ]
    },
    {
     "name": "stdout",
     "output_type": "stream",
     "text": [
      "\r"
     ]
    },
    {
     "name": "stderr",
     "output_type": "stream",
     "text": [
      "INFO:absl:\t Testing:   roc_auc: 0.4875   average_precision: 0.2613\n"
     ]
    },
    {
     "data": {
      "application/vnd.jupyter.widget-view+json": {
       "model_id": "adb269862635467293b74db9ac78db64",
       "version_major": 2,
       "version_minor": 0
      },
      "text/plain": [
       "HBox(children=(FloatProgress(value=0.0, max=107.0), HTML(value='')))"
      ]
     },
     "metadata": {
      "tags": []
     },
     "output_type": "display_data"
    },
    {
     "name": "stderr",
     "output_type": "stream",
     "text": [
      "INFO:absl:epoch: 7, G_losses: 19.3690, D_losses: 7.6246, samples/sec: 14.4129\n"
     ]
    },
    {
     "name": "stdout",
     "output_type": "stream",
     "text": [
      "\r"
     ]
    },
    {
     "name": "stderr",
     "output_type": "stream",
     "text": [
      "INFO:absl:\t Testing:   roc_auc: 0.5131   average_precision: 0.2683\n"
     ]
    },
    {
     "data": {
      "application/vnd.jupyter.widget-view+json": {
       "model_id": "672be3433c4f486d853dd6d148bbf707",
       "version_major": 2,
       "version_minor": 0
      },
      "text/plain": [
       "HBox(children=(FloatProgress(value=0.0, max=107.0), HTML(value='')))"
      ]
     },
     "metadata": {
      "tags": []
     },
     "output_type": "display_data"
    },
    {
     "name": "stderr",
     "output_type": "stream",
     "text": [
      "INFO:absl:epoch: 8, G_losses: 19.5678, D_losses: 7.6246, samples/sec: 14.3475\n"
     ]
    },
    {
     "name": "stdout",
     "output_type": "stream",
     "text": [
      "\r"
     ]
    },
    {
     "name": "stderr",
     "output_type": "stream",
     "text": [
      "INFO:absl:\t Testing:   roc_auc: 0.4358   average_precision: 0.2638\n"
     ]
    },
    {
     "data": {
      "application/vnd.jupyter.widget-view+json": {
       "model_id": "882b64c49987442f806e0c057edd9a5a",
       "version_major": 2,
       "version_minor": 0
      },
      "text/plain": [
       "HBox(children=(FloatProgress(value=0.0, max=107.0), HTML(value='')))"
      ]
     },
     "metadata": {
      "tags": []
     },
     "output_type": "display_data"
    },
    {
     "name": "stderr",
     "output_type": "stream",
     "text": [
      "INFO:absl:epoch: 9, G_losses: 18.2753, D_losses: 7.6246, samples/sec: 14.1586\n"
     ]
    },
    {
     "name": "stdout",
     "output_type": "stream",
     "text": [
      "\r"
     ]
    },
    {
     "name": "stderr",
     "output_type": "stream",
     "text": [
      "INFO:absl:\t Testing:   roc_auc: 0.5095   average_precision: 0.2781\n"
     ]
    },
    {
     "data": {
      "application/vnd.jupyter.widget-view+json": {
       "model_id": "9740290fe8f048af85b497aca4b21ed9",
       "version_major": 2,
       "version_minor": 0
      },
      "text/plain": [
       "HBox(children=(FloatProgress(value=0.0, max=107.0), HTML(value='')))"
      ]
     },
     "metadata": {
      "tags": []
     },
     "output_type": "display_data"
    },
    {
     "name": "stderr",
     "output_type": "stream",
     "text": [
      "INFO:absl:epoch: 10, G_losses: 17.6316, D_losses: 7.6246, samples/sec: 14.2081\n"
     ]
    },
    {
     "name": "stdout",
     "output_type": "stream",
     "text": [
      "\r"
     ]
    },
    {
     "name": "stderr",
     "output_type": "stream",
     "text": [
      "INFO:absl:\t Testing:   roc_auc: 0.3904   average_precision: 0.2547\n"
     ]
    },
    {
     "data": {
      "application/vnd.jupyter.widget-view+json": {
       "model_id": "2ace6833902b4a49ae349c1bbdbd542f",
       "version_major": 2,
       "version_minor": 0
      },
      "text/plain": [
       "HBox(children=(FloatProgress(value=0.0, max=107.0), HTML(value='')))"
      ]
     },
     "metadata": {
      "tags": []
     },
     "output_type": "display_data"
    },
    {
     "name": "stderr",
     "output_type": "stream",
     "text": [
      "INFO:absl:epoch: 11, G_losses: 17.0114, D_losses: 7.6246, samples/sec: 14.1974\n"
     ]
    },
    {
     "name": "stdout",
     "output_type": "stream",
     "text": [
      "\r"
     ]
    },
    {
     "name": "stderr",
     "output_type": "stream",
     "text": [
      "INFO:absl:\t Testing:   roc_auc: 0.4490   average_precision: 0.2539\n"
     ]
    },
    {
     "data": {
      "application/vnd.jupyter.widget-view+json": {
       "model_id": "7254d7fa8cb24ea8951cabffa2f50d25",
       "version_major": 2,
       "version_minor": 0
      },
      "text/plain": [
       "HBox(children=(FloatProgress(value=0.0, max=107.0), HTML(value='')))"
      ]
     },
     "metadata": {
      "tags": []
     },
     "output_type": "display_data"
    },
    {
     "name": "stderr",
     "output_type": "stream",
     "text": [
      "INFO:absl:epoch: 12, G_losses: 16.6037, D_losses: 7.6246, samples/sec: 14.1965\n"
     ]
    },
    {
     "name": "stdout",
     "output_type": "stream",
     "text": [
      "\r"
     ]
    },
    {
     "name": "stderr",
     "output_type": "stream",
     "text": [
      "INFO:absl:\t Testing:   roc_auc: 0.4099   average_precision: 0.2405\n"
     ]
    },
    {
     "data": {
      "application/vnd.jupyter.widget-view+json": {
       "model_id": "1b9afaf70c514c81bb242b37af0ae178",
       "version_major": 2,
       "version_minor": 0
      },
      "text/plain": [
       "HBox(children=(FloatProgress(value=0.0, max=107.0), HTML(value='')))"
      ]
     },
     "metadata": {
      "tags": []
     },
     "output_type": "display_data"
    },
    {
     "name": "stderr",
     "output_type": "stream",
     "text": [
      "INFO:absl:epoch: 13, G_losses: 16.4741, D_losses: 7.6246, samples/sec: 14.2529\n"
     ]
    },
    {
     "name": "stdout",
     "output_type": "stream",
     "text": [
      "\r"
     ]
    },
    {
     "name": "stderr",
     "output_type": "stream",
     "text": [
      "INFO:absl:\t Testing:   roc_auc: 0.5044   average_precision: 0.2695\n"
     ]
    },
    {
     "data": {
      "application/vnd.jupyter.widget-view+json": {
       "model_id": "e6b6199b15714d539d2d4b49939e5d0e",
       "version_major": 2,
       "version_minor": 0
      },
      "text/plain": [
       "HBox(children=(FloatProgress(value=0.0, max=107.0), HTML(value='')))"
      ]
     },
     "metadata": {
      "tags": []
     },
     "output_type": "display_data"
    },
    {
     "name": "stderr",
     "output_type": "stream",
     "text": [
      "INFO:absl:epoch: 14, G_losses: 16.0169, D_losses: 7.6246, samples/sec: 14.2729\n"
     ]
    },
    {
     "name": "stdout",
     "output_type": "stream",
     "text": [
      "\r"
     ]
    },
    {
     "name": "stderr",
     "output_type": "stream",
     "text": [
      "INFO:absl:\t Testing:   roc_auc: 0.3871   average_precision: 0.2207\n"
     ]
    }
   ],
   "source": [
    "ganomaly.fit(opt.niter)"
   ]
  },
  {
   "cell_type": "code",
   "execution_count": 18,
   "metadata": {
    "colab": {
     "base_uri": "https://localhost:8080/",
     "height": 590
    },
    "id": "z4XxkWJ_aY76",
    "outputId": "93b6f50d-7e50-45c3-ea61-c70c11984f83"
   },
   "outputs": [
    {
     "name": "stdout",
     "output_type": "stream",
     "text": [
      "Loading from: ckpt/best\n"
     ]
    },
    {
     "data": {
      "image/png": "[encoded data removed]",
      "text/plain": [
       "<Figure size 432x288 with 1 Axes>"
      ]
     },
     "metadata": {
      "needs_background": "light",
      "tags": []
     },
     "output_type": "display_data"
    },
    {
     "data": {
      "image/png": "[encoded data removed]",
      "text/plain": [
       "<Figure size 432x288 with 1 Axes>"
      ]
     },
     "metadata": {
      "needs_background": "light",
      "tags": []
     },
     "output_type": "display_data"
    }
   ],
   "source": [
    "ganomaly.evaluate_best(test_dataset)"
   ]
  },
  {
   "cell_type": "code",
   "execution_count": 19,
   "metadata": {
    "colab": {
     "base_uri": "https://localhost:8080/"
    },
    "id": "aZc1lU5WbaE5",
    "outputId": "549a4467-5570-4769-f110-6d387af828c7"
   },
   "outputs": [
    {
     "data": {
      "text/plain": [
       "['D',\n",
       " 'D_init_w_path',\n",
       " 'G',\n",
       " '__class__',\n",
       " '__delattr__',\n",
       " '__dict__',\n",
       " '__dir__',\n",
       " '__doc__',\n",
       " '__eq__',\n",
       " '__format__',\n",
       " '__ge__',\n",
       " '__getattribute__',\n",
       " '__gt__',\n",
       " '__hash__',\n",
       " '__init__',\n",
       " '__init_subclass__',\n",
       " '__le__',\n",
       " '__lt__',\n",
       " '__module__',\n",
       " '__ne__',\n",
       " '__new__',\n",
       " '__reduce__',\n",
       " '__reduce_ex__',\n",
       " '__repr__',\n",
       " '__setattr__',\n",
       " '__sizeof__',\n",
       " '__str__',\n",
       " '__subclasshook__',\n",
       " '__weakref__',\n",
       " '_evaluate',\n",
       " '_get_num_element',\n",
       " '_train_step_autograph',\n",
       " 'best_state',\n",
       " 'best_state_key',\n",
       " 'best_state_policy',\n",
       " 'd_loss',\n",
       " 'd_optimizer',\n",
       " 'err_d_fake',\n",
       " 'err_d_real',\n",
       " 'err_g_adv',\n",
       " 'err_g_con',\n",
       " 'err_g_enc',\n",
       " 'evaluate',\n",
       " 'evaluate_best',\n",
       " 'fake_label',\n",
       " 'feat_fake',\n",
       " 'feat_real',\n",
       " 'fit',\n",
       " 'g_loss',\n",
       " 'g_optimizer',\n",
       " 'gen_img',\n",
       " 'input',\n",
       " 'l_adv',\n",
       " 'l_bce',\n",
       " 'l_con',\n",
       " 'l_enc',\n",
       " 'latent_i',\n",
       " 'latent_o',\n",
       " 'load',\n",
       " 'load_best',\n",
       " 'num_ele_train',\n",
       " 'opt',\n",
       " 'pred_fake',\n",
       " 'pred_real',\n",
       " 'real_label',\n",
       " 'save',\n",
       " 'save_best',\n",
       " 'save_path',\n",
       " 'test_dataset',\n",
       " 'train_dataset',\n",
       " 'train_step',\n",
       " 'valid_dataset',\n",
       " 'validate_step']"
      ]
     },
     "execution_count": 19,
     "metadata": {
      "tags": []
     },
     "output_type": "execute_result"
    }
   ],
   "source": [
    "dir(ganomaly)"
   ]
  },
  {
   "cell_type": "code",
   "execution_count": 20,
   "metadata": {
    "colab": {
     "base_uri": "https://localhost:8080/"
    },
    "id": "G9OUU-lcb71Q",
    "outputId": "50a79c66-9471-492c-8f51-2f3cb5ea7b7b"
   },
   "outputs": [
    {
     "name": "stdout",
     "output_type": "stream",
     "text": [
      " cifar-10-batches-py\t  ganomaly_pytorch    t1w_ad_jpgs\n",
      " cifar-10-python.tar.gz   ganomaly_tf2\t      t1w_non_ad_jpgs\n",
      " ckpt\t\t\t  oasis-scripts       t1w_non_ad_patients\n",
      " downloaded_data\t  pre_rec_curve.png  'Usage Instructions.gdoc'\n",
      " fa20\t\t\t  roc_auc.png\n"
     ]
    }
   ],
   "source": [
    "!ls"
   ]
  },
  {
   "cell_type": "code",
   "execution_count": null,
   "metadata": {
    "id": "WzQ-0GQQcCil"
   },
   "outputs": [],
   "source": [
    "#!mkdir -p ./ganomaly_tf2/output"
   ]
  },
  {
   "cell_type": "code",
   "execution_count": 21,
   "metadata": {
    "colab": {
     "base_uri": "https://localhost:8080/"
    },
    "id": "03C0hLxUb47j",
    "outputId": "dcf3208f-6a8f-48b1-bd78-3d632d248053"
   },
   "outputs": [
    {
     "name": "stdout",
     "output_type": "stream",
     "text": [
      "Saving to: ./save_model/\n"
     ]
    },
    {
     "name": "stderr",
     "output_type": "stream",
     "text": [
      "WARNING:absl:Found untraced functions such as conv_bn__act_layer_call_fn, conv_bn__act_layer_call_and_return_conditional_losses, conv2d_6_layer_call_fn, conv2d_6_layer_call_and_return_conditional_losses, conv_bn__act_6_layer_call_fn while saving (showing 5 of 260). These functions will not be directly callable after loading.\n",
      "WARNING:absl:Found untraced functions such as conv_bn__act_layer_call_fn, conv_bn__act_layer_call_and_return_conditional_losses, conv2d_6_layer_call_fn, conv2d_6_layer_call_and_return_conditional_losses, conv_bn__act_6_layer_call_fn while saving (showing 5 of 260). These functions will not be directly callable after loading.\n"
     ]
    },
    {
     "name": "stdout",
     "output_type": "stream",
     "text": [
      "INFO:tensorflow:Assets written to: ./save_model/gen/assets\n"
     ]
    },
    {
     "name": "stderr",
     "output_type": "stream",
     "text": [
      "INFO:tensorflow:Assets written to: ./save_model/gen/assets\n",
      "WARNING:absl:Found untraced functions such as conv_bn__act_19_layer_call_fn, conv_bn__act_19_layer_call_and_return_conditional_losses, conv2d_20_layer_call_fn, conv2d_20_layer_call_and_return_conditional_losses, conv2d_14_layer_call_fn while saving (showing 5 of 95). These functions will not be directly callable after loading.\n",
      "WARNING:absl:Found untraced functions such as conv_bn__act_19_layer_call_fn, conv_bn__act_19_layer_call_and_return_conditional_losses, conv2d_20_layer_call_fn, conv2d_20_layer_call_and_return_conditional_losses, conv2d_14_layer_call_fn while saving (showing 5 of 95). These functions will not be directly callable after loading.\n"
     ]
    },
    {
     "name": "stdout",
     "output_type": "stream",
     "text": [
      "INFO:tensorflow:Assets written to: ./save_model/disc/assets\n"
     ]
    },
    {
     "name": "stderr",
     "output_type": "stream",
     "text": [
      "INFO:tensorflow:Assets written to: ./save_model/disc/assets\n"
     ]
    }
   ],
   "source": [
    "ganomaly.save('./save_model/')"
   ]
  },
  {
   "cell_type": "code",
   "execution_count": 22,
   "metadata": {
    "id": "oQcGLoOocFy6"
   },
   "outputs": [],
   "source": [
    "%mkdir -p saved_model"
   ]
  },
  {
   "cell_type": "code",
   "execution_count": 23,
   "metadata": {
    "colab": {
     "base_uri": "https://localhost:8080/"
    },
    "id": "qAC_wEiUc1ZI",
    "outputId": "3e0596a4-a432-4874-ec7a-1dc6c911454f"
   },
   "outputs": [
    {
     "name": "stdout",
     "output_type": "stream",
     "text": [
      " cifar-10-batches-py\t  ganomaly_tf2\t      t1w_ad_jpgs\n",
      " cifar-10-python.tar.gz   oasis-scripts       t1w_non_ad_jpgs\n",
      " ckpt\t\t\t  pre_rec_curve.png   t1w_non_ad_patients\n",
      " downloaded_data\t  roc_auc.png\t     'Usage Instructions.gdoc'\n",
      " fa20\t\t\t  saved_model\n",
      " ganomaly_pytorch\t  save_model\n"
     ]
    }
   ],
   "source": [
    "!ls"
   ]
  },
  {
   "cell_type": "code",
   "execution_count": 27,
   "metadata": {
    "colab": {
     "base_uri": "https://localhost:8080/"
    },
    "id": "-yMnlf0YJ4N3",
    "outputId": "e8c39d65-6c60-4268-81fa-020186d59ad2"
   },
   "outputs": [
    {
     "name": "stdout",
     "output_type": "stream",
     "text": [
      "Saving to: ckpt/best\n"
     ]
    },
    {
     "name": "stderr",
     "output_type": "stream",
     "text": [
      "WARNING:absl:Found untraced functions such as conv_bn__act_layer_call_fn, conv_bn__act_layer_call_and_return_conditional_losses, conv2d_6_layer_call_fn, conv2d_6_layer_call_and_return_conditional_losses, conv_bn__act_6_layer_call_fn while saving (showing 5 of 260). These functions will not be directly callable after loading.\n",
      "WARNING:absl:Found untraced functions such as conv_bn__act_layer_call_fn, conv_bn__act_layer_call_and_return_conditional_losses, conv2d_6_layer_call_fn, conv2d_6_layer_call_and_return_conditional_losses, conv_bn__act_6_layer_call_fn while saving (showing 5 of 260). These functions will not be directly callable after loading.\n"
     ]
    },
    {
     "name": "stdout",
     "output_type": "stream",
     "text": [
      "INFO:tensorflow:Assets written to: ckpt/bestgen/assets\n"
     ]
    },
    {
     "name": "stderr",
     "output_type": "stream",
     "text": [
      "INFO:tensorflow:Assets written to: ckpt/bestgen/assets\n",
      "WARNING:absl:Found untraced functions such as conv_bn__act_19_layer_call_fn, conv_bn__act_19_layer_call_and_return_conditional_losses, conv2d_20_layer_call_fn, conv2d_20_layer_call_and_return_conditional_losses, conv2d_14_layer_call_fn while saving (showing 5 of 95). These functions will not be directly callable after loading.\n",
      "WARNING:absl:Found untraced functions such as conv_bn__act_19_layer_call_fn, conv_bn__act_19_layer_call_and_return_conditional_losses, conv2d_20_layer_call_fn, conv2d_20_layer_call_and_return_conditional_losses, conv2d_14_layer_call_fn while saving (showing 5 of 95). These functions will not be directly callable after loading.\n"
     ]
    },
    {
     "name": "stdout",
     "output_type": "stream",
     "text": [
      "INFO:tensorflow:Assets written to: ckpt/bestdisc/assets\n"
     ]
    },
    {
     "name": "stderr",
     "output_type": "stream",
     "text": [
      "INFO:tensorflow:Assets written to: ckpt/bestdisc/assets\n"
     ]
    }
   ],
   "source": [
    "ganomaly.save_best()"
   ]
  },
  {
   "cell_type": "code",
   "execution_count": 29,
   "metadata": {
    "colab": {
     "base_uri": "https://localhost:8080/"
    },
    "id": "NOAzlICDJ_yt",
    "outputId": "b3b28141-aad2-42ca-f7b2-77a590710b51"
   },
   "outputs": [
    {
     "name": "stdout",
     "output_type": "stream",
     "text": [
      "\u001b[0m\u001b[01;34massets\u001b[0m/  saved_model.pb  \u001b[01;34mvariables\u001b[0m/\n"
     ]
    }
   ],
   "source": [
    "%ls ckpt/bestdisc/"
   ]
  },
  {
   "cell_type": "code",
   "execution_count": 30,
   "metadata": {
    "colab": {
     "base_uri": "https://localhost:8080/"
    },
    "id": "mGJjScytKa_O",
    "outputId": "92492944-489e-47d2-b597-56d8900dd639"
   },
   "outputs": [
    {
     "name": "stdout",
     "output_type": "stream",
     "text": [
      " cifar-10-batches-py\t  ganomaly_tf2\t      t1w_ad_jpgs\n",
      " cifar-10-python.tar.gz   oasis-scripts       t1w_non_ad_jpgs\n",
      " ckpt\t\t\t  pre_rec_curve.png   t1w_non_ad_patients\n",
      " downloaded_data\t  roc_auc.png\t     'Usage Instructions.gdoc'\n",
      " fa20\t\t\t  saved_model\n",
      " ganomaly_pytorch\t  save_model\n"
     ]
    }
   ],
   "source": [
    "!ls"
   ]
  },
  {
   "cell_type": "code",
   "execution_count": 31,
   "metadata": {
    "colab": {
     "base_uri": "https://localhost:8080/"
    },
    "id": "dqOozJ3zTiIn",
    "outputId": "12500f15-8a59-4ac5-9033-f2bdd6275895"
   },
   "outputs": [
    {
     "data": {
      "text/plain": [
       "<BatchDataset shapes: ((None, 256, 256, 1), (None,)), types: (tf.float64, tf.float32)>"
      ]
     },
     "execution_count": 31,
     "metadata": {
      "tags": []
     },
     "output_type": "execute_result"
    }
   ],
   "source": [
    "test_dataset"
   ]
  },
  {
   "cell_type": "code",
   "execution_count": 32,
   "metadata": {
    "colab": {
     "base_uri": "https://localhost:8080/"
    },
    "id": "C1SWmsELTj_1",
    "outputId": "821478b9-3b64-4227-eb32-1d2700396ca3"
   },
   "outputs": [
    {
     "name": "stdout",
     "output_type": "stream",
     "text": [
      "WARNING:tensorflow:No training configuration found in save file, so the model was *not* compiled. Compile it manually.\n"
     ]
    },
    {
     "name": "stderr",
     "output_type": "stream",
     "text": [
      "WARNING:tensorflow:No training configuration found in save file, so the model was *not* compiled. Compile it manually.\n"
     ]
    }
   ],
   "source": [
    "D = tf.keras.models.load_model('save_model/disc')"
   ]
  },
  {
   "cell_type": "code",
   "execution_count": 35,
   "metadata": {
    "colab": {
     "base_uri": "https://localhost:8080/"
    },
    "id": "cm7ZLwI6WFBg",
    "outputId": "2fe6b665-5551-4870-c337-fe835039b77a"
   },
   "outputs": [
    {
     "data": {
      "text/plain": [
       "(256, 256, 1)"
      ]
     },
     "execution_count": 35,
     "metadata": {
      "tags": []
     },
     "output_type": "execute_result"
    }
   ],
   "source": [
    "x_test[0].shape"
   ]
  },
  {
   "cell_type": "code",
   "execution_count": 40,
   "metadata": {
    "colab": {
     "base_uri": "https://localhost:8080/"
    },
    "id": "kDIaMmtcWwE7",
    "outputId": "87602761-8ed5-4d47-9b92-808fefe1f856"
   },
   "outputs": [
    {
     "data": {
      "text/plain": [
       "0.0"
      ]
     },
     "execution_count": 40,
     "metadata": {
      "tags": []
     },
     "output_type": "execute_result"
    }
   ],
   "source": [
    "y_test[0]"
   ]
  },
  {
   "cell_type": "code",
   "execution_count": 43,
   "metadata": {
    "colab": {
     "base_uri": "https://localhost:8080/"
    },
    "id": "12K_QS3QW0z0",
    "outputId": "cc98e468-9c5c-4a1f-82a8-825c41fb0e61"
   },
   "outputs": [
    {
     "data": {
      "text/plain": [
       "(array([[[[0.000000e+00]]],\n",
       " \n",
       " \n",
       "        [[[0.000000e+00]]],\n",
       " \n",
       " \n",
       "        [[[0.000000e+00]]],\n",
       " \n",
       " \n",
       "        [[[0.000000e+00]]],\n",
       " \n",
       " \n",
       "        [[[0.000000e+00]]],\n",
       " \n",
       " \n",
       "        [[[0.000000e+00]]],\n",
       " \n",
       " \n",
       "        [[[1.905391e-31]]],\n",
       " \n",
       " \n",
       "        [[[0.000000e+00]]],\n",
       " \n",
       " \n",
       "        [[[0.000000e+00]]],\n",
       " \n",
       " \n",
       "        [[[0.000000e+00]]],\n",
       " \n",
       " \n",
       "        [[[0.000000e+00]]],\n",
       " \n",
       " \n",
       "        [[[0.000000e+00]]],\n",
       " \n",
       " \n",
       "        [[[0.000000e+00]]],\n",
       " \n",
       " \n",
       "        [[[0.000000e+00]]],\n",
       " \n",
       " \n",
       "        [[[0.000000e+00]]],\n",
       " \n",
       " \n",
       "        [[[0.000000e+00]]],\n",
       " \n",
       " \n",
       "        [[[0.000000e+00]]],\n",
       " \n",
       " \n",
       "        [[[0.000000e+00]]],\n",
       " \n",
       " \n",
       "        [[[0.000000e+00]]],\n",
       " \n",
       " \n",
       "        [[[0.000000e+00]]],\n",
       " \n",
       " \n",
       "        [[[0.000000e+00]]],\n",
       " \n",
       " \n",
       "        [[[0.000000e+00]]],\n",
       " \n",
       " \n",
       "        [[[0.000000e+00]]],\n",
       " \n",
       " \n",
       "        [[[0.000000e+00]]],\n",
       " \n",
       " \n",
       "        [[[0.000000e+00]]],\n",
       " \n",
       " \n",
       "        [[[0.000000e+00]]],\n",
       " \n",
       " \n",
       "        [[[0.000000e+00]]],\n",
       " \n",
       " \n",
       "        [[[0.000000e+00]]],\n",
       " \n",
       " \n",
       "        [[[0.000000e+00]]],\n",
       " \n",
       " \n",
       "        [[[0.000000e+00]]],\n",
       " \n",
       " \n",
       "        [[[0.000000e+00]]],\n",
       " \n",
       " \n",
       "        [[[0.000000e+00]]],\n",
       " \n",
       " \n",
       "        [[[0.000000e+00]]],\n",
       " \n",
       " \n",
       "        [[[0.000000e+00]]],\n",
       " \n",
       " \n",
       "        [[[0.000000e+00]]],\n",
       " \n",
       " \n",
       "        [[[0.000000e+00]]],\n",
       " \n",
       " \n",
       "        [[[0.000000e+00]]],\n",
       " \n",
       " \n",
       "        [[[0.000000e+00]]],\n",
       " \n",
       " \n",
       "        [[[0.000000e+00]]],\n",
       " \n",
       " \n",
       "        [[[0.000000e+00]]],\n",
       " \n",
       " \n",
       "        [[[0.000000e+00]]],\n",
       " \n",
       " \n",
       "        [[[0.000000e+00]]],\n",
       " \n",
       " \n",
       "        [[[0.000000e+00]]],\n",
       " \n",
       " \n",
       "        [[[0.000000e+00]]],\n",
       " \n",
       " \n",
       "        [[[0.000000e+00]]],\n",
       " \n",
       " \n",
       "        [[[0.000000e+00]]],\n",
       " \n",
       " \n",
       "        [[[0.000000e+00]]],\n",
       " \n",
       " \n",
       "        [[[0.000000e+00]]],\n",
       " \n",
       " \n",
       "        [[[0.000000e+00]]],\n",
       " \n",
       " \n",
       "        [[[0.000000e+00]]],\n",
       " \n",
       " \n",
       "        [[[0.000000e+00]]],\n",
       " \n",
       " \n",
       "        [[[0.000000e+00]]],\n",
       " \n",
       " \n",
       "        [[[0.000000e+00]]],\n",
       " \n",
       " \n",
       "        [[[0.000000e+00]]],\n",
       " \n",
       " \n",
       "        [[[0.000000e+00]]],\n",
       " \n",
       " \n",
       "        [[[0.000000e+00]]],\n",
       " \n",
       " \n",
       "        [[[0.000000e+00]]],\n",
       " \n",
       " \n",
       "        [[[0.000000e+00]]],\n",
       " \n",
       " \n",
       "        [[[0.000000e+00]]],\n",
       " \n",
       " \n",
       "        [[[0.000000e+00]]],\n",
       " \n",
       " \n",
       "        [[[0.000000e+00]]],\n",
       " \n",
       " \n",
       "        [[[0.000000e+00]]],\n",
       " \n",
       " \n",
       "        [[[0.000000e+00]]],\n",
       " \n",
       " \n",
       "        [[[0.000000e+00]]],\n",
       " \n",
       " \n",
       "        [[[0.000000e+00]]],\n",
       " \n",
       " \n",
       "        [[[0.000000e+00]]],\n",
       " \n",
       " \n",
       "        [[[0.000000e+00]]],\n",
       " \n",
       " \n",
       "        [[[0.000000e+00]]],\n",
       " \n",
       " \n",
       "        [[[0.000000e+00]]],\n",
       " \n",
       " \n",
       "        [[[0.000000e+00]]],\n",
       " \n",
       " \n",
       "        [[[0.000000e+00]]],\n",
       " \n",
       " \n",
       "        [[[0.000000e+00]]],\n",
       " \n",
       " \n",
       "        [[[0.000000e+00]]],\n",
       " \n",
       " \n",
       "        [[[0.000000e+00]]],\n",
       " \n",
       " \n",
       "        [[[0.000000e+00]]],\n",
       " \n",
       " \n",
       "        [[[0.000000e+00]]],\n",
       " \n",
       " \n",
       "        [[[0.000000e+00]]],\n",
       " \n",
       " \n",
       "        [[[0.000000e+00]]],\n",
       " \n",
       " \n",
       "        [[[0.000000e+00]]],\n",
       " \n",
       " \n",
       "        [[[0.000000e+00]]],\n",
       " \n",
       " \n",
       "        [[[0.000000e+00]]],\n",
       " \n",
       " \n",
       "        [[[0.000000e+00]]],\n",
       " \n",
       " \n",
       "        [[[0.000000e+00]]],\n",
       " \n",
       " \n",
       "        [[[0.000000e+00]]],\n",
       " \n",
       " \n",
       "        [[[0.000000e+00]]],\n",
       " \n",
       " \n",
       "        [[[0.000000e+00]]],\n",
       " \n",
       " \n",
       "        [[[0.000000e+00]]],\n",
       " \n",
       " \n",
       "        [[[0.000000e+00]]],\n",
       " \n",
       " \n",
       "        [[[0.000000e+00]]],\n",
       " \n",
       " \n",
       "        [[[0.000000e+00]]],\n",
       " \n",
       " \n",
       "        [[[0.000000e+00]]],\n",
       " \n",
       " \n",
       "        [[[0.000000e+00]]],\n",
       " \n",
       " \n",
       "        [[[0.000000e+00]]],\n",
       " \n",
       " \n",
       "        [[[0.000000e+00]]],\n",
       " \n",
       " \n",
       "        [[[0.000000e+00]]],\n",
       " \n",
       " \n",
       "        [[[0.000000e+00]]],\n",
       " \n",
       " \n",
       "        [[[0.000000e+00]]],\n",
       " \n",
       " \n",
       "        [[[0.000000e+00]]],\n",
       " \n",
       " \n",
       "        [[[0.000000e+00]]],\n",
       " \n",
       " \n",
       "        [[[0.000000e+00]]],\n",
       " \n",
       " \n",
       "        [[[0.000000e+00]]],\n",
       " \n",
       " \n",
       "        [[[0.000000e+00]]],\n",
       " \n",
       " \n",
       "        [[[0.000000e+00]]],\n",
       " \n",
       " \n",
       "        [[[0.000000e+00]]],\n",
       " \n",
       " \n",
       "        [[[0.000000e+00]]],\n",
       " \n",
       " \n",
       "        [[[0.000000e+00]]],\n",
       " \n",
       " \n",
       "        [[[0.000000e+00]]],\n",
       " \n",
       " \n",
       "        [[[0.000000e+00]]],\n",
       " \n",
       " \n",
       "        [[[0.000000e+00]]],\n",
       " \n",
       " \n",
       "        [[[0.000000e+00]]],\n",
       " \n",
       " \n",
       "        [[[0.000000e+00]]],\n",
       " \n",
       " \n",
       "        [[[0.000000e+00]]],\n",
       " \n",
       " \n",
       "        [[[0.000000e+00]]],\n",
       " \n",
       " \n",
       "        [[[0.000000e+00]]],\n",
       " \n",
       " \n",
       "        [[[0.000000e+00]]],\n",
       " \n",
       " \n",
       "        [[[0.000000e+00]]],\n",
       " \n",
       " \n",
       "        [[[0.000000e+00]]],\n",
       " \n",
       " \n",
       "        [[[0.000000e+00]]],\n",
       " \n",
       " \n",
       "        [[[0.000000e+00]]],\n",
       " \n",
       " \n",
       "        [[[0.000000e+00]]],\n",
       " \n",
       " \n",
       "        [[[0.000000e+00]]],\n",
       " \n",
       " \n",
       "        [[[0.000000e+00]]],\n",
       " \n",
       " \n",
       "        [[[0.000000e+00]]],\n",
       " \n",
       " \n",
       "        [[[0.000000e+00]]],\n",
       " \n",
       " \n",
       "        [[[0.000000e+00]]],\n",
       " \n",
       " \n",
       "        [[[0.000000e+00]]],\n",
       " \n",
       " \n",
       "        [[[0.000000e+00]]],\n",
       " \n",
       " \n",
       "        [[[0.000000e+00]]],\n",
       " \n",
       " \n",
       "        [[[0.000000e+00]]],\n",
       " \n",
       " \n",
       "        [[[0.000000e+00]]]], dtype=float32),\n",
       " array([[[[ 7.05131388e+00,  2.53767467e+00, -9.89699781e-01, ...,\n",
       "            1.82971811e+00,  7.15729189e+00, -1.11926031e+00],\n",
       "          [ 8.58188343e+00,  2.11796427e+00, -6.35825276e-01, ...,\n",
       "            2.24462962e+00,  7.92603540e+00, -1.56978452e+00],\n",
       "          [ 7.53969145e+00,  1.64059794e+00, -1.18012559e+00, ...,\n",
       "            1.68037951e+00,  7.13159418e+00, -1.06600356e+00],\n",
       "          [ 1.07934122e+01,  1.86994982e+00, -7.33325183e-01, ...,\n",
       "            5.12016964e+00,  1.04451447e+01, -1.85628021e+00]],\n",
       " \n",
       "         [[ 7.85676622e+00,  5.27269745e+00, -3.59369248e-01, ...,\n",
       "           -7.06319232e-03,  7.61472940e+00, -7.88416564e-01],\n",
       "          [ 7.76481628e+00,  4.21755743e+00, -4.24464762e-01, ...,\n",
       "            3.00102139e+00,  6.26675224e+00, -1.01829958e+00],\n",
       "          [ 6.77362061e+00,  4.59215593e+00, -5.07370770e-01, ...,\n",
       "            7.28154778e-01,  3.91349459e+00, -4.09266680e-01],\n",
       "          [ 1.04647179e+01,  6.68239498e+00, -5.99968493e-01, ...,\n",
       "            2.33579969e+00,  1.17102089e+01, -1.62315106e+00]],\n",
       " \n",
       "         [[ 7.93938589e+00,  2.62920570e+00, -7.22055435e-01, ...,\n",
       "            4.06920624e+00,  7.61366129e+00, -8.55748773e-01],\n",
       "          [ 7.19745970e+00,  1.97355998e+00, -1.93896294e-01, ...,\n",
       "            4.52765608e+00,  5.67093134e+00, -9.99844968e-01],\n",
       "          [ 6.26918030e+00,  1.32989764e+00, -7.63810277e-01, ...,\n",
       "            3.89745712e+00,  4.16805029e+00, -3.28293890e-01],\n",
       "          [ 1.06934633e+01,  4.02033281e+00, -3.84362310e-01, ...,\n",
       "            4.91754150e+00,  1.01334286e+01, -1.51761043e+00]],\n",
       " \n",
       "         [[ 6.06858921e+00,  4.08810282e+00, -7.06542194e-01, ...,\n",
       "           -2.96128988e-01,  7.47833633e+00, -1.00980520e+00],\n",
       "          [ 7.14068556e+00,  1.65728652e+00, -7.66612053e-01, ...,\n",
       "            2.33504796e+00,  6.18838358e+00, -1.20897567e+00],\n",
       "          [ 5.81264448e+00,  2.47397470e+00, -8.17032635e-01, ...,\n",
       "           -5.94026335e-02,  3.98087192e+00, -7.94759333e-01],\n",
       "          [ 9.18857288e+00,  4.41026640e+00, -5.89791417e-01, ...,\n",
       "            6.34710371e-01,  1.07231579e+01, -1.61258531e+00]]],\n",
       " \n",
       " \n",
       "        [[[ 5.68365574e+00,  2.08042479e+00, -6.93746507e-01, ...,\n",
       "            1.58241057e+00,  6.09119081e+00, -9.63654697e-01],\n",
       "          [ 5.38275623e+00,  1.01485837e+00, -2.87400305e-01, ...,\n",
       "            1.96417809e+00,  4.65697193e+00, -9.42168653e-01],\n",
       "          [ 4.65659809e+00,  1.30224228e+00, -8.91508877e-01, ...,\n",
       "            8.73836815e-01,  4.20705700e+00, -5.28975904e-01],\n",
       "          [ 9.50195599e+00,  1.86310840e+00, -6.78174019e-01, ...,\n",
       "            4.48624516e+00,  9.35792160e+00, -1.60833573e+00]],\n",
       " \n",
       "         [[ 6.65032387e+00,  4.11729145e+00, -3.65795135e-01, ...,\n",
       "            5.81874609e-01,  7.05435419e+00, -7.67894924e-01],\n",
       "          [ 5.34829235e+00,  2.41557527e+00, -3.35809708e-01, ...,\n",
       "            2.73281765e+00,  4.26953220e+00, -7.95224845e-01],\n",
       "          [ 5.30787468e+00,  2.74883175e+00, -5.36737621e-01, ...,\n",
       "            7.69728839e-01,  2.40410423e+00, -1.67422518e-01],\n",
       "          [ 1.07236176e+01,  6.16695976e+00, -5.93208015e-01, ...,\n",
       "            2.68512583e+00,  1.17909470e+01, -1.61213529e+00]],\n",
       " \n",
       "         [[ 7.52202892e+00,  2.67915797e+00, -6.45821452e-01, ...,\n",
       "            3.54926682e+00,  7.34413671e+00, -8.63087952e-01],\n",
       "          [ 6.29841089e+00,  1.80192292e+00, -1.47631109e-01, ...,\n",
       "            3.77990079e+00,  4.95742369e+00, -9.01903629e-01],\n",
       "          [ 5.92884541e+00,  1.48689687e+00, -8.22595716e-01, ...,\n",
       "            3.19391584e+00,  3.56420875e+00, -2.28042200e-01],\n",
       "          [ 1.16734352e+01,  4.78829765e+00, -4.78730887e-01, ...,\n",
       "            4.71752834e+00,  1.15265093e+01, -1.68784297e+00]],\n",
       " \n",
       "         [[ 5.72816944e+00,  3.81560516e+00, -6.32793844e-01, ...,\n",
       "           -2.47405723e-01,  7.22680521e+00, -9.66275215e-01],\n",
       "          [ 6.08202457e+00,  1.33826411e+00, -6.20762467e-01, ...,\n",
       "            2.24710822e+00,  5.06859684e+00, -1.01651061e+00],\n",
       "          [ 5.00575972e+00,  2.42972350e+00, -7.32899964e-01, ...,\n",
       "           -1.20761886e-01,  2.93786907e+00, -6.01025820e-01],\n",
       "          [ 9.24083519e+00,  4.81048059e+00, -5.78970850e-01, ...,\n",
       "            4.09007043e-01,  1.09767170e+01, -1.59754968e+00]]],\n",
       " \n",
       " \n",
       "        [[[ 6.58328342e+00,  2.42896605e+00, -8.90166402e-01, ...,\n",
       "            1.64663148e+00,  6.80565166e+00, -1.07514322e+00],\n",
       "          [ 7.66797495e+00,  1.70932710e+00, -5.49330771e-01, ...,\n",
       "            2.35442424e+00,  7.00410891e+00, -1.36147022e+00],\n",
       "          [ 6.57340145e+00,  1.58107400e+00, -1.02237689e+00, ...,\n",
       "            1.47375810e+00,  6.12043619e+00, -9.07450020e-01],\n",
       "          [ 9.98424435e+00,  1.84036267e+00, -6.97735906e-01, ...,\n",
       "            4.65049410e+00,  9.77086353e+00, -1.70441937e+00]],\n",
       " \n",
       "         [[ 7.31365061e+00,  4.84393644e+00, -3.50984544e-01, ...,\n",
       "            7.50171617e-02,  7.33563805e+00, -7.69741893e-01],\n",
       "          [ 6.82046556e+00,  3.75129056e+00, -3.84626627e-01, ...,\n",
       "            2.67941856e+00,  5.54514027e+00, -9.28392053e-01],\n",
       "          [ 6.64805698e+00,  3.62007093e+00, -6.79747224e-01, ...,\n",
       "            1.28773654e+00,  3.77061009e+00, -3.27508152e-01],\n",
       "          [ 1.14831915e+01,  6.42425537e+00, -6.44335270e-01, ...,\n",
       "            3.28703928e+00,  1.23825979e+01, -1.74356163e+00]],\n",
       " \n",
       "         [[ 7.25764132e+00,  2.54108334e+00, -6.33284509e-01, ...,\n",
       "            3.57520890e+00,  7.01995802e+00, -7.87852407e-01],\n",
       "          [ 6.54712820e+00,  1.75041115e+00, -2.14280948e-01, ...,\n",
       "            4.21543837e+00,  5.14403343e+00, -8.88796926e-01],\n",
       "          [ 6.53899717e+00,  1.83182085e+00, -7.77942061e-01, ...,\n",
       "            3.33979058e+00,  3.90769529e+00, -3.15477103e-01],\n",
       "          [ 1.18825741e+01,  5.07272625e+00, -4.78434145e-01, ...,\n",
       "            4.57541990e+00,  1.18885174e+01, -1.74296820e+00]],\n",
       " \n",
       "         [[ 5.54593611e+00,  3.56920981e+00, -6.66541636e-01, ...,\n",
       "           -2.49330744e-01,  6.84971952e+00, -9.33054864e-01],\n",
       "          [ 6.55106735e+00,  1.55610192e+00, -6.87741339e-01, ...,\n",
       "            2.02063513e+00,  5.56433392e+00, -1.08954227e+00],\n",
       "          [ 5.70063782e+00,  2.50219655e+00, -7.82545745e-01, ...,\n",
       "           -5.96803240e-02,  3.73362374e+00, -7.51493633e-01],\n",
       "          [ 9.14327335e+00,  4.57976246e+00, -5.77088594e-01, ...,\n",
       "            5.42590797e-01,  1.07440290e+01, -1.57831836e+00]]],\n",
       " \n",
       " \n",
       "        ...,\n",
       " \n",
       " \n",
       "        [[[ 3.73574448e+00,  1.45999014e+00, -4.54153508e-01, ...,\n",
       "            7.66384900e-01,  4.28645039e+00, -6.63264215e-01],\n",
       "          [ 3.38744020e+00,  4.40248728e-01, -2.15279207e-01, ...,\n",
       "            1.49793565e+00,  2.79138494e+00, -5.41351318e-01],\n",
       "          [ 3.79366446e+00,  1.20385838e+00, -8.11869919e-01, ...,\n",
       "            6.38730347e-01,  3.25753522e+00, -3.84372085e-01],\n",
       "          [ 9.05932713e+00,  1.85494328e+00, -6.64921939e-01, ...,\n",
       "            4.17515945e+00,  9.03087807e+00, -1.54026532e+00]],\n",
       " \n",
       "         [[ 3.62345576e+00,  2.52701735e+00, -1.99513406e-01, ...,\n",
       "            5.85962869e-02,  3.97561431e+00, -3.89236897e-01],\n",
       "          [ 3.37149239e+00,  1.64381599e+00, -2.62417197e-01, ...,\n",
       "            1.62071443e+00,  2.69490933e+00, -4.72743273e-01],\n",
       "          [ 4.58669710e+00,  2.44594479e+00, -4.42279488e-01, ...,\n",
       "            4.70903009e-01,  1.78715324e+00, -1.12305164e-01],\n",
       "          [ 9.79807281e+00,  5.88527822e+00, -5.34620702e-01, ...,\n",
       "            2.15028763e+00,  1.09404192e+01, -1.45995653e+00]],\n",
       " \n",
       "         [[ 4.16289854e+00,  1.31829762e+00, -3.49929094e-01, ...,\n",
       "            2.24761271e+00,  3.56943870e+00, -4.52309281e-01],\n",
       "          [ 3.64831805e+00,  1.27456307e+00, -1.00811280e-01, ...,\n",
       "            1.82109988e+00,  2.94879532e+00, -5.19435227e-01],\n",
       "          [ 4.48972416e+00,  1.14058781e+00, -7.10943103e-01, ...,\n",
       "            2.31675792e+00,  2.64582968e+00, -1.23993218e-01],\n",
       "          [ 1.00095034e+01,  4.12959003e+00, -4.44840252e-01, ...,\n",
       "            4.01222229e+00,  9.87861347e+00, -1.40557182e+00]],\n",
       " \n",
       "         [[ 3.78899121e+00,  2.22411060e+00, -4.01134968e-01, ...,\n",
       "           -8.55255947e-02,  4.80427504e+00, -6.62554443e-01],\n",
       "          [ 3.36428356e+00,  8.41727257e-01, -2.70778537e-01, ...,\n",
       "            1.17583656e+00,  2.56443286e+00, -5.37011981e-01],\n",
       "          [ 3.09892225e+00,  1.87304676e+00, -5.60721040e-01, ...,\n",
       "           -1.82097420e-01,  1.29732752e+00, -2.85515219e-01],\n",
       "          [ 7.89204550e+00,  4.30555010e+00, -5.10838211e-01, ...,\n",
       "            8.32763985e-02,  9.62318420e+00, -1.36152160e+00]]],\n",
       " \n",
       " \n",
       "        [[[ 5.16318607e+00,  1.79980099e+00, -6.11105621e-01, ...,\n",
       "            1.56307876e+00,  5.58455849e+00, -8.68566036e-01],\n",
       "          [ 4.54242420e+00,  5.80570102e-01, -2.01713637e-01, ...,\n",
       "            2.11321044e+00,  3.77779627e+00, -7.58266151e-01],\n",
       "          [ 3.69087481e+00,  1.09439015e+00, -7.84381509e-01, ...,\n",
       "            7.97181070e-01,  3.09394765e+00, -3.49519879e-01],\n",
       "          [ 8.75933933e+00,  1.84815145e+00, -6.34889424e-01, ...,\n",
       "            4.05104685e+00,  8.73185825e+00, -1.49113798e+00]],\n",
       " \n",
       "         [[ 5.88740492e+00,  3.68383551e+00, -3.42463672e-01, ...,\n",
       "            4.73345369e-01,  6.34278297e+00, -6.90192759e-01],\n",
       "          [ 4.75229168e+00,  2.03546691e+00, -3.30965102e-01, ...,\n",
       "            2.55074430e+00,  3.89409494e+00, -7.27680624e-01],\n",
       "          [ 4.86382294e+00,  2.33599424e+00, -5.09426534e-01, ...,\n",
       "            8.13177705e-01,  2.03747129e+00, -1.36833087e-01],\n",
       "          [ 1.02138176e+01,  5.77600050e+00, -5.48976541e-01, ...,\n",
       "            2.59737897e+00,  1.11814356e+01, -1.51498163e+00]],\n",
       " \n",
       "         [[ 6.43795872e+00,  2.37539458e+00, -5.38672030e-01, ...,\n",
       "            2.90755701e+00,  6.16408587e+00, -7.41012275e-01],\n",
       "          [ 5.31333351e+00,  1.68739390e+00, -1.21900059e-01, ...,\n",
       "            2.90186095e+00,  4.21197271e+00, -7.83927381e-01],\n",
       "          [ 5.23516369e+00,  1.36441445e+00, -8.09927464e-01, ...,\n",
       "            2.62606192e+00,  3.11626363e+00, -1.77295893e-01],\n",
       "          [ 1.11055708e+01,  4.55625486e+00, -4.94907349e-01, ...,\n",
       "            4.39331436e+00,  1.10306158e+01, -1.60272050e+00]],\n",
       " \n",
       "         [[ 4.98825645e+00,  3.23071599e+00, -5.22023141e-01, ...,\n",
       "           -1.83518246e-01,  6.31115198e+00, -8.47358882e-01],\n",
       "          [ 4.79060030e+00,  1.14046228e+00, -4.10323143e-01, ...,\n",
       "            1.84868336e+00,  3.89620328e+00, -7.94580519e-01],\n",
       "          [ 3.74236083e+00,  2.22013807e+00, -6.01780593e-01, ...,\n",
       "           -1.84498295e-01,  1.66118157e+00, -3.59952748e-01],\n",
       "          [ 8.58193588e+00,  4.76245594e+00, -5.44372857e-01, ...,\n",
       "            1.61319360e-01,  1.04335690e+01, -1.47904682e+00]]],\n",
       " \n",
       " \n",
       "        [[[ 5.62110281e+00,  1.97060323e+00, -6.66085422e-01, ...,\n",
       "            1.69897032e+00,  6.03688097e+00, -9.50948834e-01],\n",
       "          [ 5.01201630e+00,  6.64170146e-01, -2.42308602e-01, ...,\n",
       "            2.24644041e+00,  4.17459679e+00, -8.31385553e-01],\n",
       "          [ 4.31200314e+00,  1.22750735e+00, -8.60810697e-01, ...,\n",
       "            1.03894305e+00,  3.71518135e+00, -4.35353756e-01],\n",
       "          [ 9.45173645e+00,  1.93035913e+00, -6.50473475e-01, ...,\n",
       "            4.43766117e+00,  9.30641651e+00, -1.60706222e+00]],\n",
       " \n",
       "         [[ 6.56982660e+00,  4.05375385e+00, -3.78375262e-01, ...,\n",
       "            5.85642219e-01,  7.07511520e+00, -7.72741735e-01],\n",
       "          [ 5.41675901e+00,  2.18950939e+00, -4.16815668e-01, ...,\n",
       "            2.97959113e+00,  4.29285717e+00, -7.83307433e-01],\n",
       "          [ 6.24404907e+00,  2.69760871e+00, -6.50451660e-01, ...,\n",
       "            1.49421334e+00,  3.23699999e+00, -2.65566826e-01],\n",
       "          [ 1.16722612e+01,  6.20261478e+00, -6.00969672e-01, ...,\n",
       "            3.43076873e+00,  1.24487362e+01, -1.75777912e+00]],\n",
       " \n",
       "         [[ 6.87629843e+00,  2.66900134e+00, -5.59016883e-01, ...,\n",
       "            2.93387103e+00,  6.74111509e+00, -8.13959777e-01],\n",
       "          [ 5.71316051e+00,  1.92950571e+00, -1.59152672e-01, ...,\n",
       "            2.95052338e+00,  4.37802982e+00, -8.02437127e-01],\n",
       "          [ 6.60669041e+00,  2.15868449e+00, -9.24863458e-01, ...,\n",
       "            2.84986997e+00,  4.33503485e+00, -3.21883976e-01],\n",
       "          [ 1.26555481e+01,  5.20992184e+00, -5.49444020e-01, ...,\n",
       "            5.01531506e+00,  1.25766106e+01, -1.87927234e+00]],\n",
       " \n",
       "         [[ 5.20078802e+00,  3.37880158e+00, -5.44219971e-01, ...,\n",
       "           -1.92010120e-01,  6.63174391e+00, -8.84500027e-01],\n",
       "          [ 5.00308228e+00,  1.18004143e+00, -4.41769332e-01, ...,\n",
       "            1.91663849e+00,  3.93084097e+00, -8.08007419e-01],\n",
       "          [ 4.37837315e+00,  2.70288038e+00, -6.37667120e-01, ...,\n",
       "           -2.19958887e-01,  2.27972770e+00, -4.39721107e-01],\n",
       "          [ 9.31653690e+00,  5.06273317e+00, -5.98771691e-01, ...,\n",
       "            4.40319657e-01,  1.11694908e+01, -1.61249244e+00]]]],\n",
       "       dtype=float32))"
      ]
     },
     "execution_count": 43,
     "metadata": {
      "tags": []
     },
     "output_type": "execute_result"
    }
   ],
   "source": [
    "D.predict(test_dataset)"
   ]
  },
  {
   "cell_type": "code",
   "execution_count": null,
   "metadata": {
    "id": "-njx8vlrXCV6"
   },
   "outputs": [],
   "source": []
  }
 ],
 "metadata": {
  "accelerator": "GPU",
  "colab": {
   "collapsed_sections": [],
   "name": "5-ganomaly_tf2.ipynb",
   "provenance": []
  },
  "kernelspec": {
   "display_name": "Python 3",
   "language": "python",
   "name": "python3"
  },
  "language_info": {
   "codemirror_mode": {
    "name": "ipython",
    "version": 3
   },
   "file_extension": ".py",
   "mimetype": "text/x-python",
   "name": "python",
   "nbconvert_exporter": "python",
   "pygments_lexer": "ipython3",
   "version": "3.7.1"
  },
  "widgets": {
   "application/vnd.jupyter.widget-state+json": {
    "0176b605fb8844d4b8ea406f2c2d4e5f": {
     "model_module": "@jupyter-widgets/base",
     "model_name": "LayoutModel",
     "state": {
      "_model_module": "@jupyter-widgets/base",
      "_model_module_version": "1.2.0",
      "_model_name": "LayoutModel",
      "_view_count": null,
      "_view_module": "@jupyter-widgets/base",
      "_view_module_version": "1.2.0",
      "_view_name": "LayoutView",
      "align_content": null,
      "align_items": null,
      "align_self": null,
      "border": null,
      "bottom": null,
      "display": null,
      "flex": null,
      "flex_flow": null,
      "grid_area": null,
      "grid_auto_columns": null,
      "grid_auto_flow": null,
      "grid_auto_rows": null,
      "grid_column": null,
      "grid_gap": null,
      "grid_row": null,
      "grid_template_areas": null,
      "grid_template_columns": null,
      "grid_template_rows": null,
      "height": null,
      "justify_content": null,
      "justify_items": null,
      "left": null,
      "margin": null,
      "max_height": null,
      "max_width": null,
      "min_height": null,
      "min_width": null,
      "object_fit": null,
      "object_position": null,
      "order": null,
      "overflow": null,
      "overflow_x": null,
      "overflow_y": null,
      "padding": null,
      "right": null,
      "top": null,
      "visibility": null,
      "width": null
     }
    },
    "022ed4d838cd40d0aa3d3b7f6eb9e8ff": {
     "model_module": "@jupyter-widgets/controls",
     "model_name": "DescriptionStyleModel",
     "state": {
      "_model_module": "@jupyter-widgets/controls",
      "_model_module_version": "1.5.0",
      "_model_name": "DescriptionStyleModel",
      "_view_count": null,
      "_view_module": "@jupyter-widgets/base",
      "_view_module_version": "1.2.0",
      "_view_name": "StyleView",
      "description_width": ""
     }
    },
    "024032781b234249994fe751e52d6881": {
     "model_module": "@jupyter-widgets/base",
     "model_name": "LayoutModel",
     "state": {
      "_model_module": "@jupyter-widgets/base",
      "_model_module_version": "1.2.0",
      "_model_name": "LayoutModel",
      "_view_count": null,
      "_view_module": "@jupyter-widgets/base",
      "_view_module_version": "1.2.0",
      "_view_name": "LayoutView",
      "align_content": null,
      "align_items": null,
      "align_self": null,
      "border": null,
      "bottom": null,
      "display": null,
      "flex": null,
      "flex_flow": null,
      "grid_area": null,
      "grid_auto_columns": null,
      "grid_auto_flow": null,
      "grid_auto_rows": null,
      "grid_column": null,
      "grid_gap": null,
      "grid_row": null,
      "grid_template_areas": null,
      "grid_template_columns": null,
      "grid_template_rows": null,
      "height": null,
      "justify_content": null,
      "justify_items": null,
      "left": null,
      "margin": null,
      "max_height": null,
      "max_width": null,
      "min_height": null,
      "min_width": null,
      "object_fit": null,
      "object_position": null,
      "order": null,
      "overflow": null,
      "overflow_x": null,
      "overflow_y": null,
      "padding": null,
      "right": null,
      "top": null,
      "visibility": null,
      "width": null
     }
    },
    "06323591efbf4849afc07d62cb7dc6e7": {
     "model_module": "@jupyter-widgets/base",
     "model_name": "LayoutModel",
     "state": {
      "_model_module": "@jupyter-widgets/base",
      "_model_module_version": "1.2.0",
      "_model_name": "LayoutModel",
      "_view_count": null,
      "_view_module": "@jupyter-widgets/base",
      "_view_module_version": "1.2.0",
      "_view_name": "LayoutView",
      "align_content": null,
      "align_items": null,
      "align_self": null,
      "border": null,
      "bottom": null,
      "display": null,
      "flex": null,
      "flex_flow": null,
      "grid_area": null,
      "grid_auto_columns": null,
      "grid_auto_flow": null,
      "grid_auto_rows": null,
      "grid_column": null,
      "grid_gap": null,
      "grid_row": null,
      "grid_template_areas": null,
      "grid_template_columns": null,
      "grid_template_rows": null,
      "height": null,
      "justify_content": null,
      "justify_items": null,
      "left": null,
      "margin": null,
      "max_height": null,
      "max_width": null,
      "min_height": null,
      "min_width": null,
      "object_fit": null,
      "object_position": null,
      "order": null,
      "overflow": null,
      "overflow_x": null,
      "overflow_y": null,
      "padding": null,
      "right": null,
      "top": null,
      "visibility": null,
      "width": null
     }
    },
    "0d4357fa442541629f7975ed410f40b3": {
     "model_module": "@jupyter-widgets/controls",
     "model_name": "DescriptionStyleModel",
     "state": {
      "_model_module": "@jupyter-widgets/controls",
      "_model_module_version": "1.5.0",
      "_model_name": "DescriptionStyleModel",
      "_view_count": null,
      "_view_module": "@jupyter-widgets/base",
      "_view_module_version": "1.2.0",
      "_view_name": "StyleView",
      "description_width": ""
     }
    },
    "1065d37763f64e09bc098c435831c6a6": {
     "model_module": "@jupyter-widgets/controls",
     "model_name": "HTMLModel",
     "state": {
      "_dom_classes": [],
      "_model_module": "@jupyter-widgets/controls",
      "_model_module_version": "1.5.0",
      "_model_name": "HTMLModel",
      "_view_count": null,
      "_view_module": "@jupyter-widgets/controls",
      "_view_module_version": "1.5.0",
      "_view_name": "HTMLView",
      "description": "",
      "description_tooltip": null,
      "layout": "IPY_MODEL_ebbeb199f24344e1b0ed733b0e01b923",
      "placeholder": "​",
      "style": "IPY_MODEL_71c6867c03de4f8184e1d52fc3725552",
      "value": " 107/107 [00:59&lt;00:00,  1.80it/s]"
     }
    },
    "109f85b721204347a660fec002d34b1d": {
     "model_module": "@jupyter-widgets/controls",
     "model_name": "HTMLModel",
     "state": {
      "_dom_classes": [],
      "_model_module": "@jupyter-widgets/controls",
      "_model_module_version": "1.5.0",
      "_model_name": "HTMLModel",
      "_view_count": null,
      "_view_module": "@jupyter-widgets/controls",
      "_view_module_version": "1.5.0",
      "_view_name": "HTMLView",
      "description": "",
      "description_tooltip": null,
      "layout": "IPY_MODEL_45a7a13a56894fe5abb83d3d27d60c8c",
      "placeholder": "​",
      "style": "IPY_MODEL_d4e8838eced84081a101def90b7c9d7f",
      "value": " 107/107 [00:59&lt;00:00,  1.80it/s]"
     }
    },
    "1244118191a142dab08985b2c6c75201": {
     "model_module": "@jupyter-widgets/base",
     "model_name": "LayoutModel",
     "state": {
      "_model_module": "@jupyter-widgets/base",
      "_model_module_version": "1.2.0",
      "_model_name": "LayoutModel",
      "_view_count": null,
      "_view_module": "@jupyter-widgets/base",
      "_view_module_version": "1.2.0",
      "_view_name": "LayoutView",
      "align_content": null,
      "align_items": null,
      "align_self": null,
      "border": null,
      "bottom": null,
      "display": null,
      "flex": null,
      "flex_flow": null,
      "grid_area": null,
      "grid_auto_columns": null,
      "grid_auto_flow": null,
      "grid_auto_rows": null,
      "grid_column": null,
      "grid_gap": null,
      "grid_row": null,
      "grid_template_areas": null,
      "grid_template_columns": null,
      "grid_template_rows": null,
      "height": null,
      "justify_content": null,
      "justify_items": null,
      "left": null,
      "margin": null,
      "max_height": null,
      "max_width": null,
      "min_height": null,
      "min_width": null,
      "object_fit": null,
      "object_position": null,
      "order": null,
      "overflow": null,
      "overflow_x": null,
      "overflow_y": null,
      "padding": null,
      "right": null,
      "top": null,
      "visibility": null,
      "width": null
     }
    },
    "150ce6b297664fd8baa516b3d443a365": {
     "model_module": "@jupyter-widgets/controls",
     "model_name": "HBoxModel",
     "state": {
      "_dom_classes": [],
      "_model_module": "@jupyter-widgets/controls",
      "_model_module_version": "1.5.0",
      "_model_name": "HBoxModel",
      "_view_count": null,
      "_view_module": "@jupyter-widgets/controls",
      "_view_module_version": "1.5.0",
      "_view_name": "HBoxView",
      "box_style": "",
      "children": [
       "IPY_MODEL_da1f9c61970f4b129ccea5c8a4777491",
       "IPY_MODEL_ec85df09de6b4f07aff25baa0edb7898"
      ],
      "layout": "IPY_MODEL_2158eda8ec7a4e6c9e483993ca97caee"
     }
    },
    "1699d69583e94f23bc73588022230fd0": {
     "model_module": "@jupyter-widgets/controls",
     "model_name": "HTMLModel",
     "state": {
      "_dom_classes": [],
      "_model_module": "@jupyter-widgets/controls",
      "_model_module_version": "1.5.0",
      "_model_name": "HTMLModel",
      "_view_count": null,
      "_view_module": "@jupyter-widgets/controls",
      "_view_module_version": "1.5.0",
      "_view_name": "HTMLView",
      "description": "",
      "description_tooltip": null,
      "layout": "IPY_MODEL_a294c333c8de45b0b22a289b1ec89387",
      "placeholder": "​",
      "style": "IPY_MODEL_022ed4d838cd40d0aa3d3b7f6eb9e8ff",
      "value": " 107/107 [00:57&lt;00:00,  1.85it/s]"
     }
    },
    "187b676342bd45a794926766b5e70e03": {
     "model_module": "@jupyter-widgets/base",
     "model_name": "LayoutModel",
     "state": {
      "_model_module": "@jupyter-widgets/base",
      "_model_module_version": "1.2.0",
      "_model_name": "LayoutModel",
      "_view_count": null,
      "_view_module": "@jupyter-widgets/base",
      "_view_module_version": "1.2.0",
      "_view_name": "LayoutView",
      "align_content": null,
      "align_items": null,
      "align_self": null,
      "border": null,
      "bottom": null,
      "display": null,
      "flex": null,
      "flex_flow": null,
      "grid_area": null,
      "grid_auto_columns": null,
      "grid_auto_flow": null,
      "grid_auto_rows": null,
      "grid_column": null,
      "grid_gap": null,
      "grid_row": null,
      "grid_template_areas": null,
      "grid_template_columns": null,
      "grid_template_rows": null,
      "height": null,
      "justify_content": null,
      "justify_items": null,
      "left": null,
      "margin": null,
      "max_height": null,
      "max_width": null,
      "min_height": null,
      "min_width": null,
      "object_fit": null,
      "object_position": null,
      "order": null,
      "overflow": null,
      "overflow_x": null,
      "overflow_y": null,
      "padding": null,
      "right": null,
      "top": null,
      "visibility": null,
      "width": null
     }
    },
    "188f42ac2ac24a17b8aa3d664f3fb427": {
     "model_module": "@jupyter-widgets/base",
     "model_name": "LayoutModel",
     "state": {
      "_model_module": "@jupyter-widgets/base",
      "_model_module_version": "1.2.0",
      "_model_name": "LayoutModel",
      "_view_count": null,
      "_view_module": "@jupyter-widgets/base",
      "_view_module_version": "1.2.0",
      "_view_name": "LayoutView",
      "align_content": null,
      "align_items": null,
      "align_self": null,
      "border": null,
      "bottom": null,
      "display": null,
      "flex": null,
      "flex_flow": null,
      "grid_area": null,
      "grid_auto_columns": null,
      "grid_auto_flow": null,
      "grid_auto_rows": null,
      "grid_column": null,
      "grid_gap": null,
      "grid_row": null,
      "grid_template_areas": null,
      "grid_template_columns": null,
      "grid_template_rows": null,
      "height": null,
      "justify_content": null,
      "justify_items": null,
      "left": null,
      "margin": null,
      "max_height": null,
      "max_width": null,
      "min_height": null,
      "min_width": null,
      "object_fit": null,
      "object_position": null,
      "order": null,
      "overflow": null,
      "overflow_x": null,
      "overflow_y": null,
      "padding": null,
      "right": null,
      "top": null,
      "visibility": null,
      "width": null
     }
    },
    "18f0becb23314fde8cc8486572c31ee2": {
     "model_module": "@jupyter-widgets/controls",
     "model_name": "DescriptionStyleModel",
     "state": {
      "_model_module": "@jupyter-widgets/controls",
      "_model_module_version": "1.5.0",
      "_model_name": "DescriptionStyleModel",
      "_view_count": null,
      "_view_module": "@jupyter-widgets/base",
      "_view_module_version": "1.2.0",
      "_view_name": "StyleView",
      "description_width": ""
     }
    },
    "1910a96820974ae3ae79d67ddd3c2013": {
     "model_module": "@jupyter-widgets/controls",
     "model_name": "FloatProgressModel",
     "state": {
      "_dom_classes": [],
      "_model_module": "@jupyter-widgets/controls",
      "_model_module_version": "1.5.0",
      "_model_name": "FloatProgressModel",
      "_view_count": null,
      "_view_module": "@jupyter-widgets/controls",
      "_view_module_version": "1.5.0",
      "_view_name": "ProgressView",
      "bar_style": "",
      "description": "100%",
      "description_tooltip": null,
      "layout": "IPY_MODEL_280c47f2021a43b99716ab42d6cb9516",
      "max": 107,
      "min": 0,
      "orientation": "horizontal",
      "style": "IPY_MODEL_501e2afe11ae46baa105dd122ac6c5f2",
      "value": 107
     }
    },
    "1b9afaf70c514c81bb242b37af0ae178": {
     "model_module": "@jupyter-widgets/controls",
     "model_name": "HBoxModel",
     "state": {
      "_dom_classes": [],
      "_model_module": "@jupyter-widgets/controls",
      "_model_module_version": "1.5.0",
      "_model_name": "HBoxModel",
      "_view_count": null,
      "_view_module": "@jupyter-widgets/controls",
      "_view_module_version": "1.5.0",
      "_view_name": "HBoxView",
      "box_style": "",
      "children": [
       "IPY_MODEL_fa76c3b32a3c4431ac6f5b8e64d91cec",
       "IPY_MODEL_a08dfc43f05b4efdb9252de4ec5f4baf"
      ],
      "layout": "IPY_MODEL_b303a34bf22a4b7db9e06b722e795c21"
     }
    },
    "1d95cc2df8d34f38aee0a0f90b24ca89": {
     "model_module": "@jupyter-widgets/base",
     "model_name": "LayoutModel",
     "state": {
      "_model_module": "@jupyter-widgets/base",
      "_model_module_version": "1.2.0",
      "_model_name": "LayoutModel",
      "_view_count": null,
      "_view_module": "@jupyter-widgets/base",
      "_view_module_version": "1.2.0",
      "_view_name": "LayoutView",
      "align_content": null,
      "align_items": null,
      "align_self": null,
      "border": null,
      "bottom": null,
      "display": null,
      "flex": null,
      "flex_flow": null,
      "grid_area": null,
      "grid_auto_columns": null,
      "grid_auto_flow": null,
      "grid_auto_rows": null,
      "grid_column": null,
      "grid_gap": null,
      "grid_row": null,
      "grid_template_areas": null,
      "grid_template_columns": null,
      "grid_template_rows": null,
      "height": null,
      "justify_content": null,
      "justify_items": null,
      "left": null,
      "margin": null,
      "max_height": null,
      "max_width": null,
      "min_height": null,
      "min_width": null,
      "object_fit": null,
      "object_position": null,
      "order": null,
      "overflow": null,
      "overflow_x": null,
      "overflow_y": null,
      "padding": null,
      "right": null,
      "top": null,
      "visibility": null,
      "width": null
     }
    },
    "1fc9f21f74c7454da4f708b813c22d83": {
     "model_module": "@jupyter-widgets/base",
     "model_name": "LayoutModel",
     "state": {
      "_model_module": "@jupyter-widgets/base",
      "_model_module_version": "1.2.0",
      "_model_name": "LayoutModel",
      "_view_count": null,
      "_view_module": "@jupyter-widgets/base",
      "_view_module_version": "1.2.0",
      "_view_name": "LayoutView",
      "align_content": null,
      "align_items": null,
      "align_self": null,
      "border": null,
      "bottom": null,
      "display": null,
      "flex": null,
      "flex_flow": null,
      "grid_area": null,
      "grid_auto_columns": null,
      "grid_auto_flow": null,
      "grid_auto_rows": null,
      "grid_column": null,
      "grid_gap": null,
      "grid_row": null,
      "grid_template_areas": null,
      "grid_template_columns": null,
      "grid_template_rows": null,
      "height": null,
      "justify_content": null,
      "justify_items": null,
      "left": null,
      "margin": null,
      "max_height": null,
      "max_width": null,
      "min_height": null,
      "min_width": null,
      "object_fit": null,
      "object_position": null,
      "order": null,
      "overflow": null,
      "overflow_x": null,
      "overflow_y": null,
      "padding": null,
      "right": null,
      "top": null,
      "visibility": null,
      "width": null
     }
    },
    "2158eda8ec7a4e6c9e483993ca97caee": {
     "model_module": "@jupyter-widgets/base",
     "model_name": "LayoutModel",
     "state": {
      "_model_module": "@jupyter-widgets/base",
      "_model_module_version": "1.2.0",
      "_model_name": "LayoutModel",
      "_view_count": null,
      "_view_module": "@jupyter-widgets/base",
      "_view_module_version": "1.2.0",
      "_view_name": "LayoutView",
      "align_content": null,
      "align_items": null,
      "align_self": null,
      "border": null,
      "bottom": null,
      "display": null,
      "flex": null,
      "flex_flow": null,
      "grid_area": null,
      "grid_auto_columns": null,
      "grid_auto_flow": null,
      "grid_auto_rows": null,
      "grid_column": null,
      "grid_gap": null,
      "grid_row": null,
      "grid_template_areas": null,
      "grid_template_columns": null,
      "grid_template_rows": null,
      "height": null,
      "justify_content": null,
      "justify_items": null,
      "left": null,
      "margin": null,
      "max_height": null,
      "max_width": null,
      "min_height": null,
      "min_width": null,
      "object_fit": null,
      "object_position": null,
      "order": null,
      "overflow": null,
      "overflow_x": null,
      "overflow_y": null,
      "padding": null,
      "right": null,
      "top": null,
      "visibility": null,
      "width": null
     }
    },
    "230cf43badae497c92298622c35db6f5": {
     "model_module": "@jupyter-widgets/controls",
     "model_name": "ProgressStyleModel",
     "state": {
      "_model_module": "@jupyter-widgets/controls",
      "_model_module_version": "1.5.0",
      "_model_name": "ProgressStyleModel",
      "_view_count": null,
      "_view_module": "@jupyter-widgets/base",
      "_view_module_version": "1.2.0",
      "_view_name": "StyleView",
      "bar_color": null,
      "description_width": "initial"
     }
    },
    "280c47f2021a43b99716ab42d6cb9516": {
     "model_module": "@jupyter-widgets/base",
     "model_name": "LayoutModel",
     "state": {
      "_model_module": "@jupyter-widgets/base",
      "_model_module_version": "1.2.0",
      "_model_name": "LayoutModel",
      "_view_count": null,
      "_view_module": "@jupyter-widgets/base",
      "_view_module_version": "1.2.0",
      "_view_name": "LayoutView",
      "align_content": null,
      "align_items": null,
      "align_self": null,
      "border": null,
      "bottom": null,
      "display": null,
      "flex": null,
      "flex_flow": null,
      "grid_area": null,
      "grid_auto_columns": null,
      "grid_auto_flow": null,
      "grid_auto_rows": null,
      "grid_column": null,
      "grid_gap": null,
      "grid_row": null,
      "grid_template_areas": null,
      "grid_template_columns": null,
      "grid_template_rows": null,
      "height": null,
      "justify_content": null,
      "justify_items": null,
      "left": null,
      "margin": null,
      "max_height": null,
      "max_width": null,
      "min_height": null,
      "min_width": null,
      "object_fit": null,
      "object_position": null,
      "order": null,
      "overflow": null,
      "overflow_x": null,
      "overflow_y": null,
      "padding": null,
      "right": null,
      "top": null,
      "visibility": null,
      "width": null
     }
    },
    "29c9419e7a7b43c1b7cf76cc9cf89536": {
     "model_module": "@jupyter-widgets/controls",
     "model_name": "DescriptionStyleModel",
     "state": {
      "_model_module": "@jupyter-widgets/controls",
      "_model_module_version": "1.5.0",
      "_model_name": "DescriptionStyleModel",
      "_view_count": null,
      "_view_module": "@jupyter-widgets/base",
      "_view_module_version": "1.2.0",
      "_view_name": "StyleView",
      "description_width": ""
     }
    },
    "29db4cadaa7e44c1a5db52cc6a7f5a45": {
     "model_module": "@jupyter-widgets/controls",
     "model_name": "HTMLModel",
     "state": {
      "_dom_classes": [],
      "_model_module": "@jupyter-widgets/controls",
      "_model_module_version": "1.5.0",
      "_model_name": "HTMLModel",
      "_view_count": null,
      "_view_module": "@jupyter-widgets/controls",
      "_view_module_version": "1.5.0",
      "_view_name": "HTMLView",
      "description": "",
      "description_tooltip": null,
      "layout": "IPY_MODEL_4da3a2411c3041ee83467f3ab0b1068d",
      "placeholder": "​",
      "style": "IPY_MODEL_ea60cb6e85a849b6b7f85e1eef40a1db",
      "value": " 107/107 [00:58&lt;00:00,  1.82it/s]"
     }
    },
    "2ace6833902b4a49ae349c1bbdbd542f": {
     "model_module": "@jupyter-widgets/controls",
     "model_name": "HBoxModel",
     "state": {
      "_dom_classes": [],
      "_model_module": "@jupyter-widgets/controls",
      "_model_module_version": "1.5.0",
      "_model_name": "HBoxModel",
      "_view_count": null,
      "_view_module": "@jupyter-widgets/controls",
      "_view_module_version": "1.5.0",
      "_view_name": "HBoxView",
      "box_style": "",
      "children": [
       "IPY_MODEL_49e681be3e72420485461ebd86f0b65d",
       "IPY_MODEL_8085f7c0cdd045f0878977c9371a3edd"
      ],
      "layout": "IPY_MODEL_3a417d0a022d483098c4d47a69e59941"
     }
    },
    "2cac03e82a1945afb968f12632f47f94": {
     "model_module": "@jupyter-widgets/base",
     "model_name": "LayoutModel",
     "state": {
      "_model_module": "@jupyter-widgets/base",
      "_model_module_version": "1.2.0",
      "_model_name": "LayoutModel",
      "_view_count": null,
      "_view_module": "@jupyter-widgets/base",
      "_view_module_version": "1.2.0",
      "_view_name": "LayoutView",
      "align_content": null,
      "align_items": null,
      "align_self": null,
      "border": null,
      "bottom": null,
      "display": null,
      "flex": null,
      "flex_flow": null,
      "grid_area": null,
      "grid_auto_columns": null,
      "grid_auto_flow": null,
      "grid_auto_rows": null,
      "grid_column": null,
      "grid_gap": null,
      "grid_row": null,
      "grid_template_areas": null,
      "grid_template_columns": null,
      "grid_template_rows": null,
      "height": null,
      "justify_content": null,
      "justify_items": null,
      "left": null,
      "margin": null,
      "max_height": null,
      "max_width": null,
      "min_height": null,
      "min_width": null,
      "object_fit": null,
      "object_position": null,
      "order": null,
      "overflow": null,
      "overflow_x": null,
      "overflow_y": null,
      "padding": null,
      "right": null,
      "top": null,
      "visibility": null,
      "width": null
     }
    },
    "2e439a8d81e646c1a48bb8338fa493a2": {
     "model_module": "@jupyter-widgets/controls",
     "model_name": "HTMLModel",
     "state": {
      "_dom_classes": [],
      "_model_module": "@jupyter-widgets/controls",
      "_model_module_version": "1.5.0",
      "_model_name": "HTMLModel",
      "_view_count": null,
      "_view_module": "@jupyter-widgets/controls",
      "_view_module_version": "1.5.0",
      "_view_name": "HTMLView",
      "description": "",
      "description_tooltip": null,
      "layout": "IPY_MODEL_a79037e7cd9845a08e8b129585b6abc9",
      "placeholder": "​",
      "style": "IPY_MODEL_d006931d0cfe497ca33d68664a9a6e3f",
      "value": " 107/107 [00:57&lt;00:00,  1.86it/s]"
     }
    },
    "32c75bcfa6c74016974d6e0dff95a483": {
     "model_module": "@jupyter-widgets/controls",
     "model_name": "FloatProgressModel",
     "state": {
      "_dom_classes": [],
      "_model_module": "@jupyter-widgets/controls",
      "_model_module_version": "1.5.0",
      "_model_name": "FloatProgressModel",
      "_view_count": null,
      "_view_module": "@jupyter-widgets/controls",
      "_view_module_version": "1.5.0",
      "_view_name": "ProgressView",
      "bar_style": "",
      "description": "100%",
      "description_tooltip": null,
      "layout": "IPY_MODEL_2cac03e82a1945afb968f12632f47f94",
      "max": 107,
      "min": 0,
      "orientation": "horizontal",
      "style": "IPY_MODEL_40699eed361e41eda7b166be31126de9",
      "value": 107
     }
    },
    "36097759d5fe48a4bae16693998fb32d": {
     "model_module": "@jupyter-widgets/controls",
     "model_name": "HBoxModel",
     "state": {
      "_dom_classes": [],
      "_model_module": "@jupyter-widgets/controls",
      "_model_module_version": "1.5.0",
      "_model_name": "HBoxModel",
      "_view_count": null,
      "_view_module": "@jupyter-widgets/controls",
      "_view_module_version": "1.5.0",
      "_view_name": "HBoxView",
      "box_style": "",
      "children": [
       "IPY_MODEL_1910a96820974ae3ae79d67ddd3c2013",
       "IPY_MODEL_ddc3e68b8b34441f90fb198a75f94538"
      ],
      "layout": "IPY_MODEL_e4f26c23851e42cebe68c589d0de3510"
     }
    },
    "38c3fd8e13c241a0bd64288f39f312ce": {
     "model_module": "@jupyter-widgets/controls",
     "model_name": "HTMLModel",
     "state": {
      "_dom_classes": [],
      "_model_module": "@jupyter-widgets/controls",
      "_model_module_version": "1.5.0",
      "_model_name": "HTMLModel",
      "_view_count": null,
      "_view_module": "@jupyter-widgets/controls",
      "_view_module_version": "1.5.0",
      "_view_name": "HTMLView",
      "description": "",
      "description_tooltip": null,
      "layout": "IPY_MODEL_0176b605fb8844d4b8ea406f2c2d4e5f",
      "placeholder": "​",
      "style": "IPY_MODEL_901e30a503b447b58bf2142b1ab55aa2",
      "value": " 107/107 [00:57&lt;00:00,  1.86it/s]"
     }
    },
    "3a417d0a022d483098c4d47a69e59941": {
     "model_module": "@jupyter-widgets/base",
     "model_name": "LayoutModel",
     "state": {
      "_model_module": "@jupyter-widgets/base",
      "_model_module_version": "1.2.0",
      "_model_name": "LayoutModel",
      "_view_count": null,
      "_view_module": "@jupyter-widgets/base",
      "_view_module_version": "1.2.0",
      "_view_name": "LayoutView",
      "align_content": null,
      "align_items": null,
      "align_self": null,
      "border": null,
      "bottom": null,
      "display": null,
      "flex": null,
      "flex_flow": null,
      "grid_area": null,
      "grid_auto_columns": null,
      "grid_auto_flow": null,
      "grid_auto_rows": null,
      "grid_column": null,
      "grid_gap": null,
      "grid_row": null,
      "grid_template_areas": null,
      "grid_template_columns": null,
      "grid_template_rows": null,
      "height": null,
      "justify_content": null,
      "justify_items": null,
      "left": null,
      "margin": null,
      "max_height": null,
      "max_width": null,
      "min_height": null,
      "min_width": null,
      "object_fit": null,
      "object_position": null,
      "order": null,
      "overflow": null,
      "overflow_x": null,
      "overflow_y": null,
      "padding": null,
      "right": null,
      "top": null,
      "visibility": null,
      "width": null
     }
    },
    "40699eed361e41eda7b166be31126de9": {
     "model_module": "@jupyter-widgets/controls",
     "model_name": "ProgressStyleModel",
     "state": {
      "_model_module": "@jupyter-widgets/controls",
      "_model_module_version": "1.5.0",
      "_model_name": "ProgressStyleModel",
      "_view_count": null,
      "_view_module": "@jupyter-widgets/base",
      "_view_module_version": "1.2.0",
      "_view_name": "StyleView",
      "bar_color": null,
      "description_width": "initial"
     }
    },
    "426c52651cc34ecdb923239ce0c80230": {
     "model_module": "@jupyter-widgets/controls",
     "model_name": "ProgressStyleModel",
     "state": {
      "_model_module": "@jupyter-widgets/controls",
      "_model_module_version": "1.5.0",
      "_model_name": "ProgressStyleModel",
      "_view_count": null,
      "_view_module": "@jupyter-widgets/base",
      "_view_module_version": "1.2.0",
      "_view_name": "StyleView",
      "bar_color": null,
      "description_width": "initial"
     }
    },
    "44e713a0530344c1a8f6112e61dad917": {
     "model_module": "@jupyter-widgets/base",
     "model_name": "LayoutModel",
     "state": {
      "_model_module": "@jupyter-widgets/base",
      "_model_module_version": "1.2.0",
      "_model_name": "LayoutModel",
      "_view_count": null,
      "_view_module": "@jupyter-widgets/base",
      "_view_module_version": "1.2.0",
      "_view_name": "LayoutView",
      "align_content": null,
      "align_items": null,
      "align_self": null,
      "border": null,
      "bottom": null,
      "display": null,
      "flex": null,
      "flex_flow": null,
      "grid_area": null,
      "grid_auto_columns": null,
      "grid_auto_flow": null,
      "grid_auto_rows": null,
      "grid_column": null,
      "grid_gap": null,
      "grid_row": null,
      "grid_template_areas": null,
      "grid_template_columns": null,
      "grid_template_rows": null,
      "height": null,
      "justify_content": null,
      "justify_items": null,
      "left": null,
      "margin": null,
      "max_height": null,
      "max_width": null,
      "min_height": null,
      "min_width": null,
      "object_fit": null,
      "object_position": null,
      "order": null,
      "overflow": null,
      "overflow_x": null,
      "overflow_y": null,
      "padding": null,
      "right": null,
      "top": null,
      "visibility": null,
      "width": null
     }
    },
    "45a7a13a56894fe5abb83d3d27d60c8c": {
     "model_module": "@jupyter-widgets/base",
     "model_name": "LayoutModel",
     "state": {
      "_model_module": "@jupyter-widgets/base",
      "_model_module_version": "1.2.0",
      "_model_name": "LayoutModel",
      "_view_count": null,
      "_view_module": "@jupyter-widgets/base",
      "_view_module_version": "1.2.0",
      "_view_name": "LayoutView",
      "align_content": null,
      "align_items": null,
      "align_self": null,
      "border": null,
      "bottom": null,
      "display": null,
      "flex": null,
      "flex_flow": null,
      "grid_area": null,
      "grid_auto_columns": null,
      "grid_auto_flow": null,
      "grid_auto_rows": null,
      "grid_column": null,
      "grid_gap": null,
      "grid_row": null,
      "grid_template_areas": null,
      "grid_template_columns": null,
      "grid_template_rows": null,
      "height": null,
      "justify_content": null,
      "justify_items": null,
      "left": null,
      "margin": null,
      "max_height": null,
      "max_width": null,
      "min_height": null,
      "min_width": null,
      "object_fit": null,
      "object_position": null,
      "order": null,
      "overflow": null,
      "overflow_x": null,
      "overflow_y": null,
      "padding": null,
      "right": null,
      "top": null,
      "visibility": null,
      "width": null
     }
    },
    "471e4d61a048433ba09df13dcf722e31": {
     "model_module": "@jupyter-widgets/base",
     "model_name": "LayoutModel",
     "state": {
      "_model_module": "@jupyter-widgets/base",
      "_model_module_version": "1.2.0",
      "_model_name": "LayoutModel",
      "_view_count": null,
      "_view_module": "@jupyter-widgets/base",
      "_view_module_version": "1.2.0",
      "_view_name": "LayoutView",
      "align_content": null,
      "align_items": null,
      "align_self": null,
      "border": null,
      "bottom": null,
      "display": null,
      "flex": null,
      "flex_flow": null,
      "grid_area": null,
      "grid_auto_columns": null,
      "grid_auto_flow": null,
      "grid_auto_rows": null,
      "grid_column": null,
      "grid_gap": null,
      "grid_row": null,
      "grid_template_areas": null,
      "grid_template_columns": null,
      "grid_template_rows": null,
      "height": null,
      "justify_content": null,
      "justify_items": null,
      "left": null,
      "margin": null,
      "max_height": null,
      "max_width": null,
      "min_height": null,
      "min_width": null,
      "object_fit": null,
      "object_position": null,
      "order": null,
      "overflow": null,
      "overflow_x": null,
      "overflow_y": null,
      "padding": null,
      "right": null,
      "top": null,
      "visibility": null,
      "width": null
     }
    },
    "49e681be3e72420485461ebd86f0b65d": {
     "model_module": "@jupyter-widgets/controls",
     "model_name": "FloatProgressModel",
     "state": {
      "_dom_classes": [],
      "_model_module": "@jupyter-widgets/controls",
      "_model_module_version": "1.5.0",
      "_model_name": "FloatProgressModel",
      "_view_count": null,
      "_view_module": "@jupyter-widgets/controls",
      "_view_module_version": "1.5.0",
      "_view_name": "ProgressView",
      "bar_style": "",
      "description": "100%",
      "description_tooltip": null,
      "layout": "IPY_MODEL_187b676342bd45a794926766b5e70e03",
      "max": 107,
      "min": 0,
      "orientation": "horizontal",
      "style": "IPY_MODEL_c06fe3e805d84642abefd541e6c38abb",
      "value": 107
     }
    },
    "4b82bb901e11466e85d7762f873c1914": {
     "model_module": "@jupyter-widgets/controls",
     "model_name": "HTMLModel",
     "state": {
      "_dom_classes": [],
      "_model_module": "@jupyter-widgets/controls",
      "_model_module_version": "1.5.0",
      "_model_name": "HTMLModel",
      "_view_count": null,
      "_view_module": "@jupyter-widgets/controls",
      "_view_module_version": "1.5.0",
      "_view_name": "HTMLView",
      "description": "",
      "description_tooltip": null,
      "layout": "IPY_MODEL_7ab84b96934f4165a31f73a1f5124d48",
      "placeholder": "​",
      "style": "IPY_MODEL_0d4357fa442541629f7975ed410f40b3",
      "value": " 107/107 [00:57&lt;00:00,  1.85it/s]"
     }
    },
    "4b8743be0a96404da54b2353da6627fb": {
     "model_module": "@jupyter-widgets/controls",
     "model_name": "DescriptionStyleModel",
     "state": {
      "_model_module": "@jupyter-widgets/controls",
      "_model_module_version": "1.5.0",
      "_model_name": "DescriptionStyleModel",
      "_view_count": null,
      "_view_module": "@jupyter-widgets/base",
      "_view_module_version": "1.2.0",
      "_view_name": "StyleView",
      "description_width": ""
     }
    },
    "4da3a2411c3041ee83467f3ab0b1068d": {
     "model_module": "@jupyter-widgets/base",
     "model_name": "LayoutModel",
     "state": {
      "_model_module": "@jupyter-widgets/base",
      "_model_module_version": "1.2.0",
      "_model_name": "LayoutModel",
      "_view_count": null,
      "_view_module": "@jupyter-widgets/base",
      "_view_module_version": "1.2.0",
      "_view_name": "LayoutView",
      "align_content": null,
      "align_items": null,
      "align_self": null,
      "border": null,
      "bottom": null,
      "display": null,
      "flex": null,
      "flex_flow": null,
      "grid_area": null,
      "grid_auto_columns": null,
      "grid_auto_flow": null,
      "grid_auto_rows": null,
      "grid_column": null,
      "grid_gap": null,
      "grid_row": null,
      "grid_template_areas": null,
      "grid_template_columns": null,
      "grid_template_rows": null,
      "height": null,
      "justify_content": null,
      "justify_items": null,
      "left": null,
      "margin": null,
      "max_height": null,
      "max_width": null,
      "min_height": null,
      "min_width": null,
      "object_fit": null,
      "object_position": null,
      "order": null,
      "overflow": null,
      "overflow_x": null,
      "overflow_y": null,
      "padding": null,
      "right": null,
      "top": null,
      "visibility": null,
      "width": null
     }
    },
    "501e2afe11ae46baa105dd122ac6c5f2": {
     "model_module": "@jupyter-widgets/controls",
     "model_name": "ProgressStyleModel",
     "state": {
      "_model_module": "@jupyter-widgets/controls",
      "_model_module_version": "1.5.0",
      "_model_name": "ProgressStyleModel",
      "_view_count": null,
      "_view_module": "@jupyter-widgets/base",
      "_view_module_version": "1.2.0",
      "_view_name": "StyleView",
      "bar_color": null,
      "description_width": "initial"
     }
    },
    "5769563c8d374d51b9fd60208dae374b": {
     "model_module": "@jupyter-widgets/controls",
     "model_name": "ProgressStyleModel",
     "state": {
      "_model_module": "@jupyter-widgets/controls",
      "_model_module_version": "1.5.0",
      "_model_name": "ProgressStyleModel",
      "_view_count": null,
      "_view_module": "@jupyter-widgets/base",
      "_view_module_version": "1.2.0",
      "_view_name": "StyleView",
      "bar_color": null,
      "description_width": "initial"
     }
    },
    "612977aa07e4440b95ecb82fd994efb2": {
     "model_module": "@jupyter-widgets/base",
     "model_name": "LayoutModel",
     "state": {
      "_model_module": "@jupyter-widgets/base",
      "_model_module_version": "1.2.0",
      "_model_name": "LayoutModel",
      "_view_count": null,
      "_view_module": "@jupyter-widgets/base",
      "_view_module_version": "1.2.0",
      "_view_name": "LayoutView",
      "align_content": null,
      "align_items": null,
      "align_self": null,
      "border": null,
      "bottom": null,
      "display": null,
      "flex": null,
      "flex_flow": null,
      "grid_area": null,
      "grid_auto_columns": null,
      "grid_auto_flow": null,
      "grid_auto_rows": null,
      "grid_column": null,
      "grid_gap": null,
      "grid_row": null,
      "grid_template_areas": null,
      "grid_template_columns": null,
      "grid_template_rows": null,
      "height": null,
      "justify_content": null,
      "justify_items": null,
      "left": null,
      "margin": null,
      "max_height": null,
      "max_width": null,
      "min_height": null,
      "min_width": null,
      "object_fit": null,
      "object_position": null,
      "order": null,
      "overflow": null,
      "overflow_x": null,
      "overflow_y": null,
      "padding": null,
      "right": null,
      "top": null,
      "visibility": null,
      "width": null
     }
    },
    "672be3433c4f486d853dd6d148bbf707": {
     "model_module": "@jupyter-widgets/controls",
     "model_name": "HBoxModel",
     "state": {
      "_dom_classes": [],
      "_model_module": "@jupyter-widgets/controls",
      "_model_module_version": "1.5.0",
      "_model_name": "HBoxModel",
      "_view_count": null,
      "_view_module": "@jupyter-widgets/controls",
      "_view_module_version": "1.5.0",
      "_view_name": "HBoxView",
      "box_style": "",
      "children": [
       "IPY_MODEL_d78c671c3f2a4c0aa78fbe2029055089",
       "IPY_MODEL_f8b5818e816f4d78920715455f23e981"
      ],
      "layout": "IPY_MODEL_dffed6e40c694a8abb41d3b88f2186a5"
     }
    },
    "677dc593811648868102c49981681ed7": {
     "model_module": "@jupyter-widgets/base",
     "model_name": "LayoutModel",
     "state": {
      "_model_module": "@jupyter-widgets/base",
      "_model_module_version": "1.2.0",
      "_model_name": "LayoutModel",
      "_view_count": null,
      "_view_module": "@jupyter-widgets/base",
      "_view_module_version": "1.2.0",
      "_view_name": "LayoutView",
      "align_content": null,
      "align_items": null,
      "align_self": null,
      "border": null,
      "bottom": null,
      "display": null,
      "flex": null,
      "flex_flow": null,
      "grid_area": null,
      "grid_auto_columns": null,
      "grid_auto_flow": null,
      "grid_auto_rows": null,
      "grid_column": null,
      "grid_gap": null,
      "grid_row": null,
      "grid_template_areas": null,
      "grid_template_columns": null,
      "grid_template_rows": null,
      "height": null,
      "justify_content": null,
      "justify_items": null,
      "left": null,
      "margin": null,
      "max_height": null,
      "max_width": null,
      "min_height": null,
      "min_width": null,
      "object_fit": null,
      "object_position": null,
      "order": null,
      "overflow": null,
      "overflow_x": null,
      "overflow_y": null,
      "padding": null,
      "right": null,
      "top": null,
      "visibility": null,
      "width": null
     }
    },
    "6af32f808ba34be1a603765aacb69ff9": {
     "model_module": "@jupyter-widgets/base",
     "model_name": "LayoutModel",
     "state": {
      "_model_module": "@jupyter-widgets/base",
      "_model_module_version": "1.2.0",
      "_model_name": "LayoutModel",
      "_view_count": null,
      "_view_module": "@jupyter-widgets/base",
      "_view_module_version": "1.2.0",
      "_view_name": "LayoutView",
      "align_content": null,
      "align_items": null,
      "align_self": null,
      "border": null,
      "bottom": null,
      "display": null,
      "flex": null,
      "flex_flow": null,
      "grid_area": null,
      "grid_auto_columns": null,
      "grid_auto_flow": null,
      "grid_auto_rows": null,
      "grid_column": null,
      "grid_gap": null,
      "grid_row": null,
      "grid_template_areas": null,
      "grid_template_columns": null,
      "grid_template_rows": null,
      "height": null,
      "justify_content": null,
      "justify_items": null,
      "left": null,
      "margin": null,
      "max_height": null,
      "max_width": null,
      "min_height": null,
      "min_width": null,
      "object_fit": null,
      "object_position": null,
      "order": null,
      "overflow": null,
      "overflow_x": null,
      "overflow_y": null,
      "padding": null,
      "right": null,
      "top": null,
      "visibility": null,
      "width": null
     }
    },
    "6be3d7784c424967a7eeed5d72ee2f91": {
     "model_module": "@jupyter-widgets/controls",
     "model_name": "HBoxModel",
     "state": {
      "_dom_classes": [],
      "_model_module": "@jupyter-widgets/controls",
      "_model_module_version": "1.5.0",
      "_model_name": "HBoxModel",
      "_view_count": null,
      "_view_module": "@jupyter-widgets/controls",
      "_view_module_version": "1.5.0",
      "_view_name": "HBoxView",
      "box_style": "",
      "children": [
       "IPY_MODEL_c8ccf69bd2d7433db36be1d9a5a9145b",
       "IPY_MODEL_a71fa931945742c4be5ef08dda2df2a7"
      ],
      "layout": "IPY_MODEL_f094527b5d664ed692eae7fd8e7306ce"
     }
    },
    "6f0c532b60f44f86a33578ef21055956": {
     "model_module": "@jupyter-widgets/controls",
     "model_name": "FloatProgressModel",
     "state": {
      "_dom_classes": [],
      "_model_module": "@jupyter-widgets/controls",
      "_model_module_version": "1.5.0",
      "_model_name": "FloatProgressModel",
      "_view_count": null,
      "_view_module": "@jupyter-widgets/controls",
      "_view_module_version": "1.5.0",
      "_view_name": "ProgressView",
      "bar_style": "",
      "description": "100%",
      "description_tooltip": null,
      "layout": "IPY_MODEL_e3944b22cb6f480c807bcd02c87e321c",
      "max": 107,
      "min": 0,
      "orientation": "horizontal",
      "style": "IPY_MODEL_c635191e9b9341538bae325d73242245",
      "value": 107
     }
    },
    "6f19cdf1d08344f2a58e4d787bf0e2d9": {
     "model_module": "@jupyter-widgets/controls",
     "model_name": "ProgressStyleModel",
     "state": {
      "_model_module": "@jupyter-widgets/controls",
      "_model_module_version": "1.5.0",
      "_model_name": "ProgressStyleModel",
      "_view_count": null,
      "_view_module": "@jupyter-widgets/base",
      "_view_module_version": "1.2.0",
      "_view_name": "StyleView",
      "bar_color": null,
      "description_width": "initial"
     }
    },
    "71c6867c03de4f8184e1d52fc3725552": {
     "model_module": "@jupyter-widgets/controls",
     "model_name": "DescriptionStyleModel",
     "state": {
      "_model_module": "@jupyter-widgets/controls",
      "_model_module_version": "1.5.0",
      "_model_name": "DescriptionStyleModel",
      "_view_count": null,
      "_view_module": "@jupyter-widgets/base",
      "_view_module_version": "1.2.0",
      "_view_name": "StyleView",
      "description_width": ""
     }
    },
    "725231d9f9b745df9444e1458149e537": {
     "model_module": "@jupyter-widgets/base",
     "model_name": "LayoutModel",
     "state": {
      "_model_module": "@jupyter-widgets/base",
      "_model_module_version": "1.2.0",
      "_model_name": "LayoutModel",
      "_view_count": null,
      "_view_module": "@jupyter-widgets/base",
      "_view_module_version": "1.2.0",
      "_view_name": "LayoutView",
      "align_content": null,
      "align_items": null,
      "align_self": null,
      "border": null,
      "bottom": null,
      "display": null,
      "flex": null,
      "flex_flow": null,
      "grid_area": null,
      "grid_auto_columns": null,
      "grid_auto_flow": null,
      "grid_auto_rows": null,
      "grid_column": null,
      "grid_gap": null,
      "grid_row": null,
      "grid_template_areas": null,
      "grid_template_columns": null,
      "grid_template_rows": null,
      "height": null,
      "justify_content": null,
      "justify_items": null,
      "left": null,
      "margin": null,
      "max_height": null,
      "max_width": null,
      "min_height": null,
      "min_width": null,
      "object_fit": null,
      "object_position": null,
      "order": null,
      "overflow": null,
      "overflow_x": null,
      "overflow_y": null,
      "padding": null,
      "right": null,
      "top": null,
      "visibility": null,
      "width": null
     }
    },
    "7254d7fa8cb24ea8951cabffa2f50d25": {
     "model_module": "@jupyter-widgets/controls",
     "model_name": "HBoxModel",
     "state": {
      "_dom_classes": [],
      "_model_module": "@jupyter-widgets/controls",
      "_model_module_version": "1.5.0",
      "_model_name": "HBoxModel",
      "_view_count": null,
      "_view_module": "@jupyter-widgets/controls",
      "_view_module_version": "1.5.0",
      "_view_name": "HBoxView",
      "box_style": "",
      "children": [
       "IPY_MODEL_d55772f1c20748b2a2d4205a057fe3ec",
       "IPY_MODEL_109f85b721204347a660fec002d34b1d"
      ],
      "layout": "IPY_MODEL_1d95cc2df8d34f38aee0a0f90b24ca89"
     }
    },
    "7474349bec82496f8924b8665e30a132": {
     "model_module": "@jupyter-widgets/controls",
     "model_name": "DescriptionStyleModel",
     "state": {
      "_model_module": "@jupyter-widgets/controls",
      "_model_module_version": "1.5.0",
      "_model_name": "DescriptionStyleModel",
      "_view_count": null,
      "_view_module": "@jupyter-widgets/base",
      "_view_module_version": "1.2.0",
      "_view_name": "StyleView",
      "description_width": ""
     }
    },
    "749debc33e74474d82f7653fbf1ef7e7": {
     "model_module": "@jupyter-widgets/base",
     "model_name": "LayoutModel",
     "state": {
      "_model_module": "@jupyter-widgets/base",
      "_model_module_version": "1.2.0",
      "_model_name": "LayoutModel",
      "_view_count": null,
      "_view_module": "@jupyter-widgets/base",
      "_view_module_version": "1.2.0",
      "_view_name": "LayoutView",
      "align_content": null,
      "align_items": null,
      "align_self": null,
      "border": null,
      "bottom": null,
      "display": null,
      "flex": null,
      "flex_flow": null,
      "grid_area": null,
      "grid_auto_columns": null,
      "grid_auto_flow": null,
      "grid_auto_rows": null,
      "grid_column": null,
      "grid_gap": null,
      "grid_row": null,
      "grid_template_areas": null,
      "grid_template_columns": null,
      "grid_template_rows": null,
      "height": null,
      "justify_content": null,
      "justify_items": null,
      "left": null,
      "margin": null,
      "max_height": null,
      "max_width": null,
      "min_height": null,
      "min_width": null,
      "object_fit": null,
      "object_position": null,
      "order": null,
      "overflow": null,
      "overflow_x": null,
      "overflow_y": null,
      "padding": null,
      "right": null,
      "top": null,
      "visibility": null,
      "width": null
     }
    },
    "76badf66b24741de8d61e4fd337b4515": {
     "model_module": "@jupyter-widgets/base",
     "model_name": "LayoutModel",
     "state": {
      "_model_module": "@jupyter-widgets/base",
      "_model_module_version": "1.2.0",
      "_model_name": "LayoutModel",
      "_view_count": null,
      "_view_module": "@jupyter-widgets/base",
      "_view_module_version": "1.2.0",
      "_view_name": "LayoutView",
      "align_content": null,
      "align_items": null,
      "align_self": null,
      "border": null,
      "bottom": null,
      "display": null,
      "flex": null,
      "flex_flow": null,
      "grid_area": null,
      "grid_auto_columns": null,
      "grid_auto_flow": null,
      "grid_auto_rows": null,
      "grid_column": null,
      "grid_gap": null,
      "grid_row": null,
      "grid_template_areas": null,
      "grid_template_columns": null,
      "grid_template_rows": null,
      "height": null,
      "justify_content": null,
      "justify_items": null,
      "left": null,
      "margin": null,
      "max_height": null,
      "max_width": null,
      "min_height": null,
      "min_width": null,
      "object_fit": null,
      "object_position": null,
      "order": null,
      "overflow": null,
      "overflow_x": null,
      "overflow_y": null,
      "padding": null,
      "right": null,
      "top": null,
      "visibility": null,
      "width": null
     }
    },
    "776644631f7d45f59535ee818ce8baef": {
     "model_module": "@jupyter-widgets/controls",
     "model_name": "HTMLModel",
     "state": {
      "_dom_classes": [],
      "_model_module": "@jupyter-widgets/controls",
      "_model_module_version": "1.5.0",
      "_model_name": "HTMLModel",
      "_view_count": null,
      "_view_module": "@jupyter-widgets/controls",
      "_view_module_version": "1.5.0",
      "_view_name": "HTMLView",
      "description": "",
      "description_tooltip": null,
      "layout": "IPY_MODEL_44e713a0530344c1a8f6112e61dad917",
      "placeholder": "​",
      "style": "IPY_MODEL_7edc80c398644235ab09c556c52f2c9e",
      "value": " 107/107 [00:59&lt;00:00,  1.80it/s]"
     }
    },
    "7ab84b96934f4165a31f73a1f5124d48": {
     "model_module": "@jupyter-widgets/base",
     "model_name": "LayoutModel",
     "state": {
      "_model_module": "@jupyter-widgets/base",
      "_model_module_version": "1.2.0",
      "_model_name": "LayoutModel",
      "_view_count": null,
      "_view_module": "@jupyter-widgets/base",
      "_view_module_version": "1.2.0",
      "_view_name": "LayoutView",
      "align_content": null,
      "align_items": null,
      "align_self": null,
      "border": null,
      "bottom": null,
      "display": null,
      "flex": null,
      "flex_flow": null,
      "grid_area": null,
      "grid_auto_columns": null,
      "grid_auto_flow": null,
      "grid_auto_rows": null,
      "grid_column": null,
      "grid_gap": null,
      "grid_row": null,
      "grid_template_areas": null,
      "grid_template_columns": null,
      "grid_template_rows": null,
      "height": null,
      "justify_content": null,
      "justify_items": null,
      "left": null,
      "margin": null,
      "max_height": null,
      "max_width": null,
      "min_height": null,
      "min_width": null,
      "object_fit": null,
      "object_position": null,
      "order": null,
      "overflow": null,
      "overflow_x": null,
      "overflow_y": null,
      "padding": null,
      "right": null,
      "top": null,
      "visibility": null,
      "width": null
     }
    },
    "7c0be1261b034455bd15766faf29b905": {
     "model_module": "@jupyter-widgets/base",
     "model_name": "LayoutModel",
     "state": {
      "_model_module": "@jupyter-widgets/base",
      "_model_module_version": "1.2.0",
      "_model_name": "LayoutModel",
      "_view_count": null,
      "_view_module": "@jupyter-widgets/base",
      "_view_module_version": "1.2.0",
      "_view_name": "LayoutView",
      "align_content": null,
      "align_items": null,
      "align_self": null,
      "border": null,
      "bottom": null,
      "display": null,
      "flex": null,
      "flex_flow": null,
      "grid_area": null,
      "grid_auto_columns": null,
      "grid_auto_flow": null,
      "grid_auto_rows": null,
      "grid_column": null,
      "grid_gap": null,
      "grid_row": null,
      "grid_template_areas": null,
      "grid_template_columns": null,
      "grid_template_rows": null,
      "height": null,
      "justify_content": null,
      "justify_items": null,
      "left": null,
      "margin": null,
      "max_height": null,
      "max_width": null,
      "min_height": null,
      "min_width": null,
      "object_fit": null,
      "object_position": null,
      "order": null,
      "overflow": null,
      "overflow_x": null,
      "overflow_y": null,
      "padding": null,
      "right": null,
      "top": null,
      "visibility": null,
      "width": null
     }
    },
    "7d35bc07bbf84b3d9d32739828ad09db": {
     "model_module": "@jupyter-widgets/controls",
     "model_name": "HBoxModel",
     "state": {
      "_dom_classes": [],
      "_model_module": "@jupyter-widgets/controls",
      "_model_module_version": "1.5.0",
      "_model_name": "HBoxModel",
      "_view_count": null,
      "_view_module": "@jupyter-widgets/controls",
      "_view_module_version": "1.5.0",
      "_view_name": "HBoxView",
      "box_style": "",
      "children": [
       "IPY_MODEL_b08b83af950d4d57ba57d91d48690e00",
       "IPY_MODEL_4b82bb901e11466e85d7762f873c1914"
      ],
      "layout": "IPY_MODEL_76badf66b24741de8d61e4fd337b4515"
     }
    },
    "7edc80c398644235ab09c556c52f2c9e": {
     "model_module": "@jupyter-widgets/controls",
     "model_name": "DescriptionStyleModel",
     "state": {
      "_model_module": "@jupyter-widgets/controls",
      "_model_module_version": "1.5.0",
      "_model_name": "DescriptionStyleModel",
      "_view_count": null,
      "_view_module": "@jupyter-widgets/base",
      "_view_module_version": "1.2.0",
      "_view_name": "StyleView",
      "description_width": ""
     }
    },
    "7f113cc198b14df6bc6a4b586b3eb4f5": {
     "model_module": "@jupyter-widgets/controls",
     "model_name": "ProgressStyleModel",
     "state": {
      "_model_module": "@jupyter-widgets/controls",
      "_model_module_version": "1.5.0",
      "_model_name": "ProgressStyleModel",
      "_view_count": null,
      "_view_module": "@jupyter-widgets/base",
      "_view_module_version": "1.2.0",
      "_view_name": "StyleView",
      "bar_color": null,
      "description_width": "initial"
     }
    },
    "7f84eab073e4480bbd7755e221b9ad66": {
     "model_module": "@jupyter-widgets/controls",
     "model_name": "HBoxModel",
     "state": {
      "_dom_classes": [],
      "_model_module": "@jupyter-widgets/controls",
      "_model_module_version": "1.5.0",
      "_model_name": "HBoxModel",
      "_view_count": null,
      "_view_module": "@jupyter-widgets/controls",
      "_view_module_version": "1.5.0",
      "_view_name": "HBoxView",
      "box_style": "",
      "children": [
       "IPY_MODEL_ff75246630f643deac14462a5c0c5c0e",
       "IPY_MODEL_38c3fd8e13c241a0bd64288f39f312ce"
      ],
      "layout": "IPY_MODEL_c62ecf189785484c8b77afbd04c2c335"
     }
    },
    "80785941b9a04fd79a86ddead41cb4de": {
     "model_module": "@jupyter-widgets/base",
     "model_name": "LayoutModel",
     "state": {
      "_model_module": "@jupyter-widgets/base",
      "_model_module_version": "1.2.0",
      "_model_name": "LayoutModel",
      "_view_count": null,
      "_view_module": "@jupyter-widgets/base",
      "_view_module_version": "1.2.0",
      "_view_name": "LayoutView",
      "align_content": null,
      "align_items": null,
      "align_self": null,
      "border": null,
      "bottom": null,
      "display": null,
      "flex": null,
      "flex_flow": null,
      "grid_area": null,
      "grid_auto_columns": null,
      "grid_auto_flow": null,
      "grid_auto_rows": null,
      "grid_column": null,
      "grid_gap": null,
      "grid_row": null,
      "grid_template_areas": null,
      "grid_template_columns": null,
      "grid_template_rows": null,
      "height": null,
      "justify_content": null,
      "justify_items": null,
      "left": null,
      "margin": null,
      "max_height": null,
      "max_width": null,
      "min_height": null,
      "min_width": null,
      "object_fit": null,
      "object_position": null,
      "order": null,
      "overflow": null,
      "overflow_x": null,
      "overflow_y": null,
      "padding": null,
      "right": null,
      "top": null,
      "visibility": null,
      "width": null
     }
    },
    "8085f7c0cdd045f0878977c9371a3edd": {
     "model_module": "@jupyter-widgets/controls",
     "model_name": "HTMLModel",
     "state": {
      "_dom_classes": [],
      "_model_module": "@jupyter-widgets/controls",
      "_model_module_version": "1.5.0",
      "_model_name": "HTMLModel",
      "_view_count": null,
      "_view_module": "@jupyter-widgets/controls",
      "_view_module_version": "1.5.0",
      "_view_name": "HTMLView",
      "description": "",
      "description_tooltip": null,
      "layout": "IPY_MODEL_bc28837ceee34929ada4617bfd70b345",
      "placeholder": "​",
      "style": "IPY_MODEL_80d869cd6bec4409a647f1df1ef67710",
      "value": " 107/107 [00:59&lt;00:00,  1.79it/s]"
     }
    },
    "80c1d110481846f2965b64fa2d398f45": {
     "model_module": "@jupyter-widgets/base",
     "model_name": "LayoutModel",
     "state": {
      "_model_module": "@jupyter-widgets/base",
      "_model_module_version": "1.2.0",
      "_model_name": "LayoutModel",
      "_view_count": null,
      "_view_module": "@jupyter-widgets/base",
      "_view_module_version": "1.2.0",
      "_view_name": "LayoutView",
      "align_content": null,
      "align_items": null,
      "align_self": null,
      "border": null,
      "bottom": null,
      "display": null,
      "flex": null,
      "flex_flow": null,
      "grid_area": null,
      "grid_auto_columns": null,
      "grid_auto_flow": null,
      "grid_auto_rows": null,
      "grid_column": null,
      "grid_gap": null,
      "grid_row": null,
      "grid_template_areas": null,
      "grid_template_columns": null,
      "grid_template_rows": null,
      "height": null,
      "justify_content": null,
      "justify_items": null,
      "left": null,
      "margin": null,
      "max_height": null,
      "max_width": null,
      "min_height": null,
      "min_width": null,
      "object_fit": null,
      "object_position": null,
      "order": null,
      "overflow": null,
      "overflow_x": null,
      "overflow_y": null,
      "padding": null,
      "right": null,
      "top": null,
      "visibility": null,
      "width": null
     }
    },
    "80d869cd6bec4409a647f1df1ef67710": {
     "model_module": "@jupyter-widgets/controls",
     "model_name": "DescriptionStyleModel",
     "state": {
      "_model_module": "@jupyter-widgets/controls",
      "_model_module_version": "1.5.0",
      "_model_name": "DescriptionStyleModel",
      "_view_count": null,
      "_view_module": "@jupyter-widgets/base",
      "_view_module_version": "1.2.0",
      "_view_name": "StyleView",
      "description_width": ""
     }
    },
    "841317c58c0547e5a89c2b51ea2a5f80": {
     "model_module": "@jupyter-widgets/controls",
     "model_name": "ProgressStyleModel",
     "state": {
      "_model_module": "@jupyter-widgets/controls",
      "_model_module_version": "1.5.0",
      "_model_name": "ProgressStyleModel",
      "_view_count": null,
      "_view_module": "@jupyter-widgets/base",
      "_view_module_version": "1.2.0",
      "_view_name": "StyleView",
      "bar_color": null,
      "description_width": "initial"
     }
    },
    "84ac2d41dfd24ff0a9a76e5eedad62b4": {
     "model_module": "@jupyter-widgets/controls",
     "model_name": "ProgressStyleModel",
     "state": {
      "_model_module": "@jupyter-widgets/controls",
      "_model_module_version": "1.5.0",
      "_model_name": "ProgressStyleModel",
      "_view_count": null,
      "_view_module": "@jupyter-widgets/base",
      "_view_module_version": "1.2.0",
      "_view_name": "StyleView",
      "bar_color": null,
      "description_width": "initial"
     }
    },
    "85c982e48c27436e90ec52c8828b81f0": {
     "model_module": "@jupyter-widgets/controls",
     "model_name": "ProgressStyleModel",
     "state": {
      "_model_module": "@jupyter-widgets/controls",
      "_model_module_version": "1.5.0",
      "_model_name": "ProgressStyleModel",
      "_view_count": null,
      "_view_module": "@jupyter-widgets/base",
      "_view_module_version": "1.2.0",
      "_view_name": "StyleView",
      "bar_color": null,
      "description_width": "initial"
     }
    },
    "882b64c49987442f806e0c057edd9a5a": {
     "model_module": "@jupyter-widgets/controls",
     "model_name": "HBoxModel",
     "state": {
      "_dom_classes": [],
      "_model_module": "@jupyter-widgets/controls",
      "_model_module_version": "1.5.0",
      "_model_name": "HBoxModel",
      "_view_count": null,
      "_view_module": "@jupyter-widgets/controls",
      "_view_module_version": "1.5.0",
      "_view_name": "HBoxView",
      "box_style": "",
      "children": [
       "IPY_MODEL_32c75bcfa6c74016974d6e0dff95a483",
       "IPY_MODEL_776644631f7d45f59535ee818ce8baef"
      ],
      "layout": "IPY_MODEL_b9d8ec25612444fe96535c196e6154e5"
     }
    },
    "8ed689901c6d4a35af5a60302ece0c5d": {
     "model_module": "@jupyter-widgets/controls",
     "model_name": "HBoxModel",
     "state": {
      "_dom_classes": [],
      "_model_module": "@jupyter-widgets/controls",
      "_model_module_version": "1.5.0",
      "_model_name": "HBoxModel",
      "_view_count": null,
      "_view_module": "@jupyter-widgets/controls",
      "_view_module_version": "1.5.0",
      "_view_name": "HBoxView",
      "box_style": "",
      "children": [
       "IPY_MODEL_a02967e20583458c8b0b40e5e54bb737",
       "IPY_MODEL_2e439a8d81e646c1a48bb8338fa493a2"
      ],
      "layout": "IPY_MODEL_ca221ca10daa4013859ff5a7e3a0dfd6"
     }
    },
    "901e30a503b447b58bf2142b1ab55aa2": {
     "model_module": "@jupyter-widgets/controls",
     "model_name": "DescriptionStyleModel",
     "state": {
      "_model_module": "@jupyter-widgets/controls",
      "_model_module_version": "1.5.0",
      "_model_name": "DescriptionStyleModel",
      "_view_count": null,
      "_view_module": "@jupyter-widgets/base",
      "_view_module_version": "1.2.0",
      "_view_name": "StyleView",
      "description_width": ""
     }
    },
    "90da68063ae74ccba0343fecf17f265d": {
     "model_module": "@jupyter-widgets/base",
     "model_name": "LayoutModel",
     "state": {
      "_model_module": "@jupyter-widgets/base",
      "_model_module_version": "1.2.0",
      "_model_name": "LayoutModel",
      "_view_count": null,
      "_view_module": "@jupyter-widgets/base",
      "_view_module_version": "1.2.0",
      "_view_name": "LayoutView",
      "align_content": null,
      "align_items": null,
      "align_self": null,
      "border": null,
      "bottom": null,
      "display": null,
      "flex": null,
      "flex_flow": null,
      "grid_area": null,
      "grid_auto_columns": null,
      "grid_auto_flow": null,
      "grid_auto_rows": null,
      "grid_column": null,
      "grid_gap": null,
      "grid_row": null,
      "grid_template_areas": null,
      "grid_template_columns": null,
      "grid_template_rows": null,
      "height": null,
      "justify_content": null,
      "justify_items": null,
      "left": null,
      "margin": null,
      "max_height": null,
      "max_width": null,
      "min_height": null,
      "min_width": null,
      "object_fit": null,
      "object_position": null,
      "order": null,
      "overflow": null,
      "overflow_x": null,
      "overflow_y": null,
      "padding": null,
      "right": null,
      "top": null,
      "visibility": null,
      "width": null
     }
    },
    "9740290fe8f048af85b497aca4b21ed9": {
     "model_module": "@jupyter-widgets/controls",
     "model_name": "HBoxModel",
     "state": {
      "_dom_classes": [],
      "_model_module": "@jupyter-widgets/controls",
      "_model_module_version": "1.5.0",
      "_model_name": "HBoxModel",
      "_view_count": null,
      "_view_module": "@jupyter-widgets/controls",
      "_view_module_version": "1.5.0",
      "_view_name": "HBoxView",
      "box_style": "",
      "children": [
       "IPY_MODEL_f3dc17abceef457db6512839fccef0a8",
       "IPY_MODEL_b7b10ec7197149d9bf403300ee805618"
      ],
      "layout": "IPY_MODEL_188f42ac2ac24a17b8aa3d664f3fb427"
     }
    },
    "a01a683f8c9e4118a2e4d49186b039fc": {
     "model_module": "@jupyter-widgets/base",
     "model_name": "LayoutModel",
     "state": {
      "_model_module": "@jupyter-widgets/base",
      "_model_module_version": "1.2.0",
      "_model_name": "LayoutModel",
      "_view_count": null,
      "_view_module": "@jupyter-widgets/base",
      "_view_module_version": "1.2.0",
      "_view_name": "LayoutView",
      "align_content": null,
      "align_items": null,
      "align_self": null,
      "border": null,
      "bottom": null,
      "display": null,
      "flex": null,
      "flex_flow": null,
      "grid_area": null,
      "grid_auto_columns": null,
      "grid_auto_flow": null,
      "grid_auto_rows": null,
      "grid_column": null,
      "grid_gap": null,
      "grid_row": null,
      "grid_template_areas": null,
      "grid_template_columns": null,
      "grid_template_rows": null,
      "height": null,
      "justify_content": null,
      "justify_items": null,
      "left": null,
      "margin": null,
      "max_height": null,
      "max_width": null,
      "min_height": null,
      "min_width": null,
      "object_fit": null,
      "object_position": null,
      "order": null,
      "overflow": null,
      "overflow_x": null,
      "overflow_y": null,
      "padding": null,
      "right": null,
      "top": null,
      "visibility": null,
      "width": null
     }
    },
    "a02967e20583458c8b0b40e5e54bb737": {
     "model_module": "@jupyter-widgets/controls",
     "model_name": "FloatProgressModel",
     "state": {
      "_dom_classes": [],
      "_model_module": "@jupyter-widgets/controls",
      "_model_module_version": "1.5.0",
      "_model_name": "FloatProgressModel",
      "_view_count": null,
      "_view_module": "@jupyter-widgets/controls",
      "_view_module_version": "1.5.0",
      "_view_name": "ProgressView",
      "bar_style": "",
      "description": "100%",
      "description_tooltip": null,
      "layout": "IPY_MODEL_1244118191a142dab08985b2c6c75201",
      "max": 107,
      "min": 0,
      "orientation": "horizontal",
      "style": "IPY_MODEL_5769563c8d374d51b9fd60208dae374b",
      "value": 107
     }
    },
    "a08dfc43f05b4efdb9252de4ec5f4baf": {
     "model_module": "@jupyter-widgets/controls",
     "model_name": "HTMLModel",
     "state": {
      "_dom_classes": [],
      "_model_module": "@jupyter-widgets/controls",
      "_model_module_version": "1.5.0",
      "_model_name": "HTMLModel",
      "_view_count": null,
      "_view_module": "@jupyter-widgets/controls",
      "_view_module_version": "1.5.0",
      "_view_name": "HTMLView",
      "description": "",
      "description_tooltip": null,
      "layout": "IPY_MODEL_7c0be1261b034455bd15766faf29b905",
      "placeholder": "​",
      "style": "IPY_MODEL_4b8743be0a96404da54b2353da6627fb",
      "value": " 107/107 [00:59&lt;00:00,  1.81it/s]"
     }
    },
    "a294c333c8de45b0b22a289b1ec89387": {
     "model_module": "@jupyter-widgets/base",
     "model_name": "LayoutModel",
     "state": {
      "_model_module": "@jupyter-widgets/base",
      "_model_module_version": "1.2.0",
      "_model_name": "LayoutModel",
      "_view_count": null,
      "_view_module": "@jupyter-widgets/base",
      "_view_module_version": "1.2.0",
      "_view_name": "LayoutView",
      "align_content": null,
      "align_items": null,
      "align_self": null,
      "border": null,
      "bottom": null,
      "display": null,
      "flex": null,
      "flex_flow": null,
      "grid_area": null,
      "grid_auto_columns": null,
      "grid_auto_flow": null,
      "grid_auto_rows": null,
      "grid_column": null,
      "grid_gap": null,
      "grid_row": null,
      "grid_template_areas": null,
      "grid_template_columns": null,
      "grid_template_rows": null,
      "height": null,
      "justify_content": null,
      "justify_items": null,
      "left": null,
      "margin": null,
      "max_height": null,
      "max_width": null,
      "min_height": null,
      "min_width": null,
      "object_fit": null,
      "object_position": null,
      "order": null,
      "overflow": null,
      "overflow_x": null,
      "overflow_y": null,
      "padding": null,
      "right": null,
      "top": null,
      "visibility": null,
      "width": null
     }
    },
    "a3ab3498b5aa49beaf496c55d0b20fd7": {
     "model_module": "@jupyter-widgets/controls",
     "model_name": "ProgressStyleModel",
     "state": {
      "_model_module": "@jupyter-widgets/controls",
      "_model_module_version": "1.5.0",
      "_model_name": "ProgressStyleModel",
      "_view_count": null,
      "_view_module": "@jupyter-widgets/base",
      "_view_module_version": "1.2.0",
      "_view_name": "StyleView",
      "bar_color": null,
      "description_width": "initial"
     }
    },
    "a71fa931945742c4be5ef08dda2df2a7": {
     "model_module": "@jupyter-widgets/controls",
     "model_name": "HTMLModel",
     "state": {
      "_dom_classes": [],
      "_model_module": "@jupyter-widgets/controls",
      "_model_module_version": "1.5.0",
      "_model_name": "HTMLModel",
      "_view_count": null,
      "_view_module": "@jupyter-widgets/controls",
      "_view_module_version": "1.5.0",
      "_view_name": "HTMLView",
      "description": "",
      "description_tooltip": null,
      "layout": "IPY_MODEL_6af32f808ba34be1a603765aacb69ff9",
      "placeholder": "​",
      "style": "IPY_MODEL_de25e220a35c4ed59e7a2189af4a4b79",
      "value": " 107/107 [00:58&lt;00:00,  1.82it/s]"
     }
    },
    "a79037e7cd9845a08e8b129585b6abc9": {
     "model_module": "@jupyter-widgets/base",
     "model_name": "LayoutModel",
     "state": {
      "_model_module": "@jupyter-widgets/base",
      "_model_module_version": "1.2.0",
      "_model_name": "LayoutModel",
      "_view_count": null,
      "_view_module": "@jupyter-widgets/base",
      "_view_module_version": "1.2.0",
      "_view_name": "LayoutView",
      "align_content": null,
      "align_items": null,
      "align_self": null,
      "border": null,
      "bottom": null,
      "display": null,
      "flex": null,
      "flex_flow": null,
      "grid_area": null,
      "grid_auto_columns": null,
      "grid_auto_flow": null,
      "grid_auto_rows": null,
      "grid_column": null,
      "grid_gap": null,
      "grid_row": null,
      "grid_template_areas": null,
      "grid_template_columns": null,
      "grid_template_rows": null,
      "height": null,
      "justify_content": null,
      "justify_items": null,
      "left": null,
      "margin": null,
      "max_height": null,
      "max_width": null,
      "min_height": null,
      "min_width": null,
      "object_fit": null,
      "object_position": null,
      "order": null,
      "overflow": null,
      "overflow_x": null,
      "overflow_y": null,
      "padding": null,
      "right": null,
      "top": null,
      "visibility": null,
      "width": null
     }
    },
    "adb269862635467293b74db9ac78db64": {
     "model_module": "@jupyter-widgets/controls",
     "model_name": "HBoxModel",
     "state": {
      "_dom_classes": [],
      "_model_module": "@jupyter-widgets/controls",
      "_model_module_version": "1.5.0",
      "_model_name": "HBoxModel",
      "_view_count": null,
      "_view_module": "@jupyter-widgets/controls",
      "_view_module_version": "1.5.0",
      "_view_name": "HBoxView",
      "box_style": "",
      "children": [
       "IPY_MODEL_c1e25118ede84503a845294d9835e203",
       "IPY_MODEL_29db4cadaa7e44c1a5db52cc6a7f5a45"
      ],
      "layout": "IPY_MODEL_749debc33e74474d82f7653fbf1ef7e7"
     }
    },
    "b08b83af950d4d57ba57d91d48690e00": {
     "model_module": "@jupyter-widgets/controls",
     "model_name": "FloatProgressModel",
     "state": {
      "_dom_classes": [],
      "_model_module": "@jupyter-widgets/controls",
      "_model_module_version": "1.5.0",
      "_model_name": "FloatProgressModel",
      "_view_count": null,
      "_view_module": "@jupyter-widgets/controls",
      "_view_module_version": "1.5.0",
      "_view_name": "ProgressView",
      "bar_style": "",
      "description": "100%",
      "description_tooltip": null,
      "layout": "IPY_MODEL_80785941b9a04fd79a86ddead41cb4de",
      "max": 107,
      "min": 0,
      "orientation": "horizontal",
      "style": "IPY_MODEL_f73052e5ef7f43ec9bca0007bcce08a9",
      "value": 107
     }
    },
    "b303a34bf22a4b7db9e06b722e795c21": {
     "model_module": "@jupyter-widgets/base",
     "model_name": "LayoutModel",
     "state": {
      "_model_module": "@jupyter-widgets/base",
      "_model_module_version": "1.2.0",
      "_model_name": "LayoutModel",
      "_view_count": null,
      "_view_module": "@jupyter-widgets/base",
      "_view_module_version": "1.2.0",
      "_view_name": "LayoutView",
      "align_content": null,
      "align_items": null,
      "align_self": null,
      "border": null,
      "bottom": null,
      "display": null,
      "flex": null,
      "flex_flow": null,
      "grid_area": null,
      "grid_auto_columns": null,
      "grid_auto_flow": null,
      "grid_auto_rows": null,
      "grid_column": null,
      "grid_gap": null,
      "grid_row": null,
      "grid_template_areas": null,
      "grid_template_columns": null,
      "grid_template_rows": null,
      "height": null,
      "justify_content": null,
      "justify_items": null,
      "left": null,
      "margin": null,
      "max_height": null,
      "max_width": null,
      "min_height": null,
      "min_width": null,
      "object_fit": null,
      "object_position": null,
      "order": null,
      "overflow": null,
      "overflow_x": null,
      "overflow_y": null,
      "padding": null,
      "right": null,
      "top": null,
      "visibility": null,
      "width": null
     }
    },
    "b7712c540cc74c6f92003a276879f805": {
     "model_module": "@jupyter-widgets/controls",
     "model_name": "FloatProgressModel",
     "state": {
      "_dom_classes": [],
      "_model_module": "@jupyter-widgets/controls",
      "_model_module_version": "1.5.0",
      "_model_name": "FloatProgressModel",
      "_view_count": null,
      "_view_module": "@jupyter-widgets/controls",
      "_view_module_version": "1.5.0",
      "_view_name": "ProgressView",
      "bar_style": "",
      "description": "100%",
      "description_tooltip": null,
      "layout": "IPY_MODEL_06323591efbf4849afc07d62cb7dc6e7",
      "max": 107,
      "min": 0,
      "orientation": "horizontal",
      "style": "IPY_MODEL_a3ab3498b5aa49beaf496c55d0b20fd7",
      "value": 107
     }
    },
    "b7b10ec7197149d9bf403300ee805618": {
     "model_module": "@jupyter-widgets/controls",
     "model_name": "HTMLModel",
     "state": {
      "_dom_classes": [],
      "_model_module": "@jupyter-widgets/controls",
      "_model_module_version": "1.5.0",
      "_model_name": "HTMLModel",
      "_view_count": null,
      "_view_module": "@jupyter-widgets/controls",
      "_view_module_version": "1.5.0",
      "_view_name": "HTMLView",
      "description": "",
      "description_tooltip": null,
      "layout": "IPY_MODEL_024032781b234249994fe751e52d6881",
      "placeholder": "​",
      "style": "IPY_MODEL_29c9419e7a7b43c1b7cf76cc9cf89536",
      "value": " 107/107 [00:59&lt;00:00,  1.79it/s]"
     }
    },
    "b9d8ec25612444fe96535c196e6154e5": {
     "model_module": "@jupyter-widgets/base",
     "model_name": "LayoutModel",
     "state": {
      "_model_module": "@jupyter-widgets/base",
      "_model_module_version": "1.2.0",
      "_model_name": "LayoutModel",
      "_view_count": null,
      "_view_module": "@jupyter-widgets/base",
      "_view_module_version": "1.2.0",
      "_view_name": "LayoutView",
      "align_content": null,
      "align_items": null,
      "align_self": null,
      "border": null,
      "bottom": null,
      "display": null,
      "flex": null,
      "flex_flow": null,
      "grid_area": null,
      "grid_auto_columns": null,
      "grid_auto_flow": null,
      "grid_auto_rows": null,
      "grid_column": null,
      "grid_gap": null,
      "grid_row": null,
      "grid_template_areas": null,
      "grid_template_columns": null,
      "grid_template_rows": null,
      "height": null,
      "justify_content": null,
      "justify_items": null,
      "left": null,
      "margin": null,
      "max_height": null,
      "max_width": null,
      "min_height": null,
      "min_width": null,
      "object_fit": null,
      "object_position": null,
      "order": null,
      "overflow": null,
      "overflow_x": null,
      "overflow_y": null,
      "padding": null,
      "right": null,
      "top": null,
      "visibility": null,
      "width": null
     }
    },
    "bc28837ceee34929ada4617bfd70b345": {
     "model_module": "@jupyter-widgets/base",
     "model_name": "LayoutModel",
     "state": {
      "_model_module": "@jupyter-widgets/base",
      "_model_module_version": "1.2.0",
      "_model_name": "LayoutModel",
      "_view_count": null,
      "_view_module": "@jupyter-widgets/base",
      "_view_module_version": "1.2.0",
      "_view_name": "LayoutView",
      "align_content": null,
      "align_items": null,
      "align_self": null,
      "border": null,
      "bottom": null,
      "display": null,
      "flex": null,
      "flex_flow": null,
      "grid_area": null,
      "grid_auto_columns": null,
      "grid_auto_flow": null,
      "grid_auto_rows": null,
      "grid_column": null,
      "grid_gap": null,
      "grid_row": null,
      "grid_template_areas": null,
      "grid_template_columns": null,
      "grid_template_rows": null,
      "height": null,
      "justify_content": null,
      "justify_items": null,
      "left": null,
      "margin": null,
      "max_height": null,
      "max_width": null,
      "min_height": null,
      "min_width": null,
      "object_fit": null,
      "object_position": null,
      "order": null,
      "overflow": null,
      "overflow_x": null,
      "overflow_y": null,
      "padding": null,
      "right": null,
      "top": null,
      "visibility": null,
      "width": null
     }
    },
    "c06fe3e805d84642abefd541e6c38abb": {
     "model_module": "@jupyter-widgets/controls",
     "model_name": "ProgressStyleModel",
     "state": {
      "_model_module": "@jupyter-widgets/controls",
      "_model_module_version": "1.5.0",
      "_model_name": "ProgressStyleModel",
      "_view_count": null,
      "_view_module": "@jupyter-widgets/base",
      "_view_module_version": "1.2.0",
      "_view_name": "StyleView",
      "bar_color": null,
      "description_width": "initial"
     }
    },
    "c1e25118ede84503a845294d9835e203": {
     "model_module": "@jupyter-widgets/controls",
     "model_name": "FloatProgressModel",
     "state": {
      "_dom_classes": [],
      "_model_module": "@jupyter-widgets/controls",
      "_model_module_version": "1.5.0",
      "_model_name": "FloatProgressModel",
      "_view_count": null,
      "_view_module": "@jupyter-widgets/controls",
      "_view_module_version": "1.5.0",
      "_view_name": "ProgressView",
      "bar_style": "",
      "description": "100%",
      "description_tooltip": null,
      "layout": "IPY_MODEL_c94e43af10cd476b8aae26acc00ac64d",
      "max": 107,
      "min": 0,
      "orientation": "horizontal",
      "style": "IPY_MODEL_230cf43badae497c92298622c35db6f5",
      "value": 107
     }
    },
    "c62ecf189785484c8b77afbd04c2c335": {
     "model_module": "@jupyter-widgets/base",
     "model_name": "LayoutModel",
     "state": {
      "_model_module": "@jupyter-widgets/base",
      "_model_module_version": "1.2.0",
      "_model_name": "LayoutModel",
      "_view_count": null,
      "_view_module": "@jupyter-widgets/base",
      "_view_module_version": "1.2.0",
      "_view_name": "LayoutView",
      "align_content": null,
      "align_items": null,
      "align_self": null,
      "border": null,
      "bottom": null,
      "display": null,
      "flex": null,
      "flex_flow": null,
      "grid_area": null,
      "grid_auto_columns": null,
      "grid_auto_flow": null,
      "grid_auto_rows": null,
      "grid_column": null,
      "grid_gap": null,
      "grid_row": null,
      "grid_template_areas": null,
      "grid_template_columns": null,
      "grid_template_rows": null,
      "height": null,
      "justify_content": null,
      "justify_items": null,
      "left": null,
      "margin": null,
      "max_height": null,
      "max_width": null,
      "min_height": null,
      "min_width": null,
      "object_fit": null,
      "object_position": null,
      "order": null,
      "overflow": null,
      "overflow_x": null,
      "overflow_y": null,
      "padding": null,
      "right": null,
      "top": null,
      "visibility": null,
      "width": null
     }
    },
    "c635191e9b9341538bae325d73242245": {
     "model_module": "@jupyter-widgets/controls",
     "model_name": "ProgressStyleModel",
     "state": {
      "_model_module": "@jupyter-widgets/controls",
      "_model_module_version": "1.5.0",
      "_model_name": "ProgressStyleModel",
      "_view_count": null,
      "_view_module": "@jupyter-widgets/base",
      "_view_module_version": "1.2.0",
      "_view_name": "StyleView",
      "bar_color": null,
      "description_width": "initial"
     }
    },
    "c8ccf69bd2d7433db36be1d9a5a9145b": {
     "model_module": "@jupyter-widgets/controls",
     "model_name": "FloatProgressModel",
     "state": {
      "_dom_classes": [],
      "_model_module": "@jupyter-widgets/controls",
      "_model_module_version": "1.5.0",
      "_model_name": "FloatProgressModel",
      "_view_count": null,
      "_view_module": "@jupyter-widgets/controls",
      "_view_module_version": "1.5.0",
      "_view_name": "ProgressView",
      "bar_style": "",
      "description": "100%",
      "description_tooltip": null,
      "layout": "IPY_MODEL_725231d9f9b745df9444e1458149e537",
      "max": 107,
      "min": 0,
      "orientation": "horizontal",
      "style": "IPY_MODEL_426c52651cc34ecdb923239ce0c80230",
      "value": 107
     }
    },
    "c94e43af10cd476b8aae26acc00ac64d": {
     "model_module": "@jupyter-widgets/base",
     "model_name": "LayoutModel",
     "state": {
      "_model_module": "@jupyter-widgets/base",
      "_model_module_version": "1.2.0",
      "_model_name": "LayoutModel",
      "_view_count": null,
      "_view_module": "@jupyter-widgets/base",
      "_view_module_version": "1.2.0",
      "_view_name": "LayoutView",
      "align_content": null,
      "align_items": null,
      "align_self": null,
      "border": null,
      "bottom": null,
      "display": null,
      "flex": null,
      "flex_flow": null,
      "grid_area": null,
      "grid_auto_columns": null,
      "grid_auto_flow": null,
      "grid_auto_rows": null,
      "grid_column": null,
      "grid_gap": null,
      "grid_row": null,
      "grid_template_areas": null,
      "grid_template_columns": null,
      "grid_template_rows": null,
      "height": null,
      "justify_content": null,
      "justify_items": null,
      "left": null,
      "margin": null,
      "max_height": null,
      "max_width": null,
      "min_height": null,
      "min_width": null,
      "object_fit": null,
      "object_position": null,
      "order": null,
      "overflow": null,
      "overflow_x": null,
      "overflow_y": null,
      "padding": null,
      "right": null,
      "top": null,
      "visibility": null,
      "width": null
     }
    },
    "c99159db49854ed5802ab9326d4a1595": {
     "model_module": "@jupyter-widgets/base",
     "model_name": "LayoutModel",
     "state": {
      "_model_module": "@jupyter-widgets/base",
      "_model_module_version": "1.2.0",
      "_model_name": "LayoutModel",
      "_view_count": null,
      "_view_module": "@jupyter-widgets/base",
      "_view_module_version": "1.2.0",
      "_view_name": "LayoutView",
      "align_content": null,
      "align_items": null,
      "align_self": null,
      "border": null,
      "bottom": null,
      "display": null,
      "flex": null,
      "flex_flow": null,
      "grid_area": null,
      "grid_auto_columns": null,
      "grid_auto_flow": null,
      "grid_auto_rows": null,
      "grid_column": null,
      "grid_gap": null,
      "grid_row": null,
      "grid_template_areas": null,
      "grid_template_columns": null,
      "grid_template_rows": null,
      "height": null,
      "justify_content": null,
      "justify_items": null,
      "left": null,
      "margin": null,
      "max_height": null,
      "max_width": null,
      "min_height": null,
      "min_width": null,
      "object_fit": null,
      "object_position": null,
      "order": null,
      "overflow": null,
      "overflow_x": null,
      "overflow_y": null,
      "padding": null,
      "right": null,
      "top": null,
      "visibility": null,
      "width": null
     }
    },
    "ca221ca10daa4013859ff5a7e3a0dfd6": {
     "model_module": "@jupyter-widgets/base",
     "model_name": "LayoutModel",
     "state": {
      "_model_module": "@jupyter-widgets/base",
      "_model_module_version": "1.2.0",
      "_model_name": "LayoutModel",
      "_view_count": null,
      "_view_module": "@jupyter-widgets/base",
      "_view_module_version": "1.2.0",
      "_view_name": "LayoutView",
      "align_content": null,
      "align_items": null,
      "align_self": null,
      "border": null,
      "bottom": null,
      "display": null,
      "flex": null,
      "flex_flow": null,
      "grid_area": null,
      "grid_auto_columns": null,
      "grid_auto_flow": null,
      "grid_auto_rows": null,
      "grid_column": null,
      "grid_gap": null,
      "grid_row": null,
      "grid_template_areas": null,
      "grid_template_columns": null,
      "grid_template_rows": null,
      "height": null,
      "justify_content": null,
      "justify_items": null,
      "left": null,
      "margin": null,
      "max_height": null,
      "max_width": null,
      "min_height": null,
      "min_width": null,
      "object_fit": null,
      "object_position": null,
      "order": null,
      "overflow": null,
      "overflow_x": null,
      "overflow_y": null,
      "padding": null,
      "right": null,
      "top": null,
      "visibility": null,
      "width": null
     }
    },
    "d006931d0cfe497ca33d68664a9a6e3f": {
     "model_module": "@jupyter-widgets/controls",
     "model_name": "DescriptionStyleModel",
     "state": {
      "_model_module": "@jupyter-widgets/controls",
      "_model_module_version": "1.5.0",
      "_model_name": "DescriptionStyleModel",
      "_view_count": null,
      "_view_module": "@jupyter-widgets/base",
      "_view_module_version": "1.2.0",
      "_view_name": "StyleView",
      "description_width": ""
     }
    },
    "d4e8838eced84081a101def90b7c9d7f": {
     "model_module": "@jupyter-widgets/controls",
     "model_name": "DescriptionStyleModel",
     "state": {
      "_model_module": "@jupyter-widgets/controls",
      "_model_module_version": "1.5.0",
      "_model_name": "DescriptionStyleModel",
      "_view_count": null,
      "_view_module": "@jupyter-widgets/base",
      "_view_module_version": "1.2.0",
      "_view_name": "StyleView",
      "description_width": ""
     }
    },
    "d55772f1c20748b2a2d4205a057fe3ec": {
     "model_module": "@jupyter-widgets/controls",
     "model_name": "FloatProgressModel",
     "state": {
      "_dom_classes": [],
      "_model_module": "@jupyter-widgets/controls",
      "_model_module_version": "1.5.0",
      "_model_name": "FloatProgressModel",
      "_view_count": null,
      "_view_module": "@jupyter-widgets/controls",
      "_view_module_version": "1.5.0",
      "_view_name": "ProgressView",
      "bar_style": "",
      "description": "100%",
      "description_tooltip": null,
      "layout": "IPY_MODEL_471e4d61a048433ba09df13dcf722e31",
      "max": 107,
      "min": 0,
      "orientation": "horizontal",
      "style": "IPY_MODEL_84ac2d41dfd24ff0a9a76e5eedad62b4",
      "value": 107
     }
    },
    "d75d8d57e7ee4ce78ad69efb17e20aa5": {
     "model_module": "@jupyter-widgets/base",
     "model_name": "LayoutModel",
     "state": {
      "_model_module": "@jupyter-widgets/base",
      "_model_module_version": "1.2.0",
      "_model_name": "LayoutModel",
      "_view_count": null,
      "_view_module": "@jupyter-widgets/base",
      "_view_module_version": "1.2.0",
      "_view_name": "LayoutView",
      "align_content": null,
      "align_items": null,
      "align_self": null,
      "border": null,
      "bottom": null,
      "display": null,
      "flex": null,
      "flex_flow": null,
      "grid_area": null,
      "grid_auto_columns": null,
      "grid_auto_flow": null,
      "grid_auto_rows": null,
      "grid_column": null,
      "grid_gap": null,
      "grid_row": null,
      "grid_template_areas": null,
      "grid_template_columns": null,
      "grid_template_rows": null,
      "height": null,
      "justify_content": null,
      "justify_items": null,
      "left": null,
      "margin": null,
      "max_height": null,
      "max_width": null,
      "min_height": null,
      "min_width": null,
      "object_fit": null,
      "object_position": null,
      "order": null,
      "overflow": null,
      "overflow_x": null,
      "overflow_y": null,
      "padding": null,
      "right": null,
      "top": null,
      "visibility": null,
      "width": null
     }
    },
    "d78c671c3f2a4c0aa78fbe2029055089": {
     "model_module": "@jupyter-widgets/controls",
     "model_name": "FloatProgressModel",
     "state": {
      "_dom_classes": [],
      "_model_module": "@jupyter-widgets/controls",
      "_model_module_version": "1.5.0",
      "_model_name": "FloatProgressModel",
      "_view_count": null,
      "_view_module": "@jupyter-widgets/controls",
      "_view_module_version": "1.5.0",
      "_view_name": "ProgressView",
      "bar_style": "",
      "description": "100%",
      "description_tooltip": null,
      "layout": "IPY_MODEL_f2624990017f485698aef5cfcc7b0a1f",
      "max": 107,
      "min": 0,
      "orientation": "horizontal",
      "style": "IPY_MODEL_6f19cdf1d08344f2a58e4d787bf0e2d9",
      "value": 107
     }
    },
    "da1f9c61970f4b129ccea5c8a4777491": {
     "model_module": "@jupyter-widgets/controls",
     "model_name": "FloatProgressModel",
     "state": {
      "_dom_classes": [],
      "_model_module": "@jupyter-widgets/controls",
      "_model_module_version": "1.5.0",
      "_model_name": "FloatProgressModel",
      "_view_count": null,
      "_view_module": "@jupyter-widgets/controls",
      "_view_module_version": "1.5.0",
      "_view_name": "ProgressView",
      "bar_style": "",
      "description": "100%",
      "description_tooltip": null,
      "layout": "IPY_MODEL_80c1d110481846f2965b64fa2d398f45",
      "max": 107,
      "min": 0,
      "orientation": "horizontal",
      "style": "IPY_MODEL_f87c65c5cac6436295edc1fb28164343",
      "value": 107
     }
    },
    "dd44208fb0a147f68177ab5bbd4326e1": {
     "model_module": "@jupyter-widgets/base",
     "model_name": "LayoutModel",
     "state": {
      "_model_module": "@jupyter-widgets/base",
      "_model_module_version": "1.2.0",
      "_model_name": "LayoutModel",
      "_view_count": null,
      "_view_module": "@jupyter-widgets/base",
      "_view_module_version": "1.2.0",
      "_view_name": "LayoutView",
      "align_content": null,
      "align_items": null,
      "align_self": null,
      "border": null,
      "bottom": null,
      "display": null,
      "flex": null,
      "flex_flow": null,
      "grid_area": null,
      "grid_auto_columns": null,
      "grid_auto_flow": null,
      "grid_auto_rows": null,
      "grid_column": null,
      "grid_gap": null,
      "grid_row": null,
      "grid_template_areas": null,
      "grid_template_columns": null,
      "grid_template_rows": null,
      "height": null,
      "justify_content": null,
      "justify_items": null,
      "left": null,
      "margin": null,
      "max_height": null,
      "max_width": null,
      "min_height": null,
      "min_width": null,
      "object_fit": null,
      "object_position": null,
      "order": null,
      "overflow": null,
      "overflow_x": null,
      "overflow_y": null,
      "padding": null,
      "right": null,
      "top": null,
      "visibility": null,
      "width": null
     }
    },
    "ddc3e68b8b34441f90fb198a75f94538": {
     "model_module": "@jupyter-widgets/controls",
     "model_name": "HTMLModel",
     "state": {
      "_dom_classes": [],
      "_model_module": "@jupyter-widgets/controls",
      "_model_module_version": "1.5.0",
      "_model_name": "HTMLModel",
      "_view_count": null,
      "_view_module": "@jupyter-widgets/controls",
      "_view_module_version": "1.5.0",
      "_view_name": "HTMLView",
      "description": "",
      "description_tooltip": null,
      "layout": "IPY_MODEL_a01a683f8c9e4118a2e4d49186b039fc",
      "placeholder": "​",
      "style": "IPY_MODEL_7474349bec82496f8924b8665e30a132",
      "value": " 107/107 [01:31&lt;00:00,  1.90it/s]"
     }
    },
    "de25e220a35c4ed59e7a2189af4a4b79": {
     "model_module": "@jupyter-widgets/controls",
     "model_name": "DescriptionStyleModel",
     "state": {
      "_model_module": "@jupyter-widgets/controls",
      "_model_module_version": "1.5.0",
      "_model_name": "DescriptionStyleModel",
      "_view_count": null,
      "_view_module": "@jupyter-widgets/base",
      "_view_module_version": "1.2.0",
      "_view_name": "StyleView",
      "description_width": ""
     }
    },
    "dffed6e40c694a8abb41d3b88f2186a5": {
     "model_module": "@jupyter-widgets/base",
     "model_name": "LayoutModel",
     "state": {
      "_model_module": "@jupyter-widgets/base",
      "_model_module_version": "1.2.0",
      "_model_name": "LayoutModel",
      "_view_count": null,
      "_view_module": "@jupyter-widgets/base",
      "_view_module_version": "1.2.0",
      "_view_name": "LayoutView",
      "align_content": null,
      "align_items": null,
      "align_self": null,
      "border": null,
      "bottom": null,
      "display": null,
      "flex": null,
      "flex_flow": null,
      "grid_area": null,
      "grid_auto_columns": null,
      "grid_auto_flow": null,
      "grid_auto_rows": null,
      "grid_column": null,
      "grid_gap": null,
      "grid_row": null,
      "grid_template_areas": null,
      "grid_template_columns": null,
      "grid_template_rows": null,
      "height": null,
      "justify_content": null,
      "justify_items": null,
      "left": null,
      "margin": null,
      "max_height": null,
      "max_width": null,
      "min_height": null,
      "min_width": null,
      "object_fit": null,
      "object_position": null,
      "order": null,
      "overflow": null,
      "overflow_x": null,
      "overflow_y": null,
      "padding": null,
      "right": null,
      "top": null,
      "visibility": null,
      "width": null
     }
    },
    "e3944b22cb6f480c807bcd02c87e321c": {
     "model_module": "@jupyter-widgets/base",
     "model_name": "LayoutModel",
     "state": {
      "_model_module": "@jupyter-widgets/base",
      "_model_module_version": "1.2.0",
      "_model_name": "LayoutModel",
      "_view_count": null,
      "_view_module": "@jupyter-widgets/base",
      "_view_module_version": "1.2.0",
      "_view_name": "LayoutView",
      "align_content": null,
      "align_items": null,
      "align_self": null,
      "border": null,
      "bottom": null,
      "display": null,
      "flex": null,
      "flex_flow": null,
      "grid_area": null,
      "grid_auto_columns": null,
      "grid_auto_flow": null,
      "grid_auto_rows": null,
      "grid_column": null,
      "grid_gap": null,
      "grid_row": null,
      "grid_template_areas": null,
      "grid_template_columns": null,
      "grid_template_rows": null,
      "height": null,
      "justify_content": null,
      "justify_items": null,
      "left": null,
      "margin": null,
      "max_height": null,
      "max_width": null,
      "min_height": null,
      "min_width": null,
      "object_fit": null,
      "object_position": null,
      "order": null,
      "overflow": null,
      "overflow_x": null,
      "overflow_y": null,
      "padding": null,
      "right": null,
      "top": null,
      "visibility": null,
      "width": null
     }
    },
    "e4f26c23851e42cebe68c589d0de3510": {
     "model_module": "@jupyter-widgets/base",
     "model_name": "LayoutModel",
     "state": {
      "_model_module": "@jupyter-widgets/base",
      "_model_module_version": "1.2.0",
      "_model_name": "LayoutModel",
      "_view_count": null,
      "_view_module": "@jupyter-widgets/base",
      "_view_module_version": "1.2.0",
      "_view_name": "LayoutView",
      "align_content": null,
      "align_items": null,
      "align_self": null,
      "border": null,
      "bottom": null,
      "display": null,
      "flex": null,
      "flex_flow": null,
      "grid_area": null,
      "grid_auto_columns": null,
      "grid_auto_flow": null,
      "grid_auto_rows": null,
      "grid_column": null,
      "grid_gap": null,
      "grid_row": null,
      "grid_template_areas": null,
      "grid_template_columns": null,
      "grid_template_rows": null,
      "height": null,
      "justify_content": null,
      "justify_items": null,
      "left": null,
      "margin": null,
      "max_height": null,
      "max_width": null,
      "min_height": null,
      "min_width": null,
      "object_fit": null,
      "object_position": null,
      "order": null,
      "overflow": null,
      "overflow_x": null,
      "overflow_y": null,
      "padding": null,
      "right": null,
      "top": null,
      "visibility": null,
      "width": null
     }
    },
    "e6b6199b15714d539d2d4b49939e5d0e": {
     "model_module": "@jupyter-widgets/controls",
     "model_name": "HBoxModel",
     "state": {
      "_dom_classes": [],
      "_model_module": "@jupyter-widgets/controls",
      "_model_module_version": "1.5.0",
      "_model_name": "HBoxModel",
      "_view_count": null,
      "_view_module": "@jupyter-widgets/controls",
      "_view_module_version": "1.5.0",
      "_view_name": "HBoxView",
      "box_style": "",
      "children": [
       "IPY_MODEL_6f0c532b60f44f86a33578ef21055956",
       "IPY_MODEL_1065d37763f64e09bc098c435831c6a6"
      ],
      "layout": "IPY_MODEL_612977aa07e4440b95ecb82fd994efb2"
     }
    },
    "e8cbfa87d9624c2ea0eadc979dba8d03": {
     "model_module": "@jupyter-widgets/controls",
     "model_name": "DescriptionStyleModel",
     "state": {
      "_model_module": "@jupyter-widgets/controls",
      "_model_module_version": "1.5.0",
      "_model_name": "DescriptionStyleModel",
      "_view_count": null,
      "_view_module": "@jupyter-widgets/base",
      "_view_module_version": "1.2.0",
      "_view_name": "StyleView",
      "description_width": ""
     }
    },
    "ea60cb6e85a849b6b7f85e1eef40a1db": {
     "model_module": "@jupyter-widgets/controls",
     "model_name": "DescriptionStyleModel",
     "state": {
      "_model_module": "@jupyter-widgets/controls",
      "_model_module_version": "1.5.0",
      "_model_name": "DescriptionStyleModel",
      "_view_count": null,
      "_view_module": "@jupyter-widgets/base",
      "_view_module_version": "1.2.0",
      "_view_name": "StyleView",
      "description_width": ""
     }
    },
    "ebbeb199f24344e1b0ed733b0e01b923": {
     "model_module": "@jupyter-widgets/base",
     "model_name": "LayoutModel",
     "state": {
      "_model_module": "@jupyter-widgets/base",
      "_model_module_version": "1.2.0",
      "_model_name": "LayoutModel",
      "_view_count": null,
      "_view_module": "@jupyter-widgets/base",
      "_view_module_version": "1.2.0",
      "_view_name": "LayoutView",
      "align_content": null,
      "align_items": null,
      "align_self": null,
      "border": null,
      "bottom": null,
      "display": null,
      "flex": null,
      "flex_flow": null,
      "grid_area": null,
      "grid_auto_columns": null,
      "grid_auto_flow": null,
      "grid_auto_rows": null,
      "grid_column": null,
      "grid_gap": null,
      "grid_row": null,
      "grid_template_areas": null,
      "grid_template_columns": null,
      "grid_template_rows": null,
      "height": null,
      "justify_content": null,
      "justify_items": null,
      "left": null,
      "margin": null,
      "max_height": null,
      "max_width": null,
      "min_height": null,
      "min_width": null,
      "object_fit": null,
      "object_position": null,
      "order": null,
      "overflow": null,
      "overflow_x": null,
      "overflow_y": null,
      "padding": null,
      "right": null,
      "top": null,
      "visibility": null,
      "width": null
     }
    },
    "ec85df09de6b4f07aff25baa0edb7898": {
     "model_module": "@jupyter-widgets/controls",
     "model_name": "HTMLModel",
     "state": {
      "_dom_classes": [],
      "_model_module": "@jupyter-widgets/controls",
      "_model_module_version": "1.5.0",
      "_model_name": "HTMLModel",
      "_view_count": null,
      "_view_module": "@jupyter-widgets/controls",
      "_view_module_version": "1.5.0",
      "_view_name": "HTMLView",
      "description": "",
      "description_tooltip": null,
      "layout": "IPY_MODEL_c99159db49854ed5802ab9326d4a1595",
      "placeholder": "​",
      "style": "IPY_MODEL_e8cbfa87d9624c2ea0eadc979dba8d03",
      "value": " 107/107 [00:57&lt;00:00,  1.86it/s]"
     }
    },
    "f094527b5d664ed692eae7fd8e7306ce": {
     "model_module": "@jupyter-widgets/base",
     "model_name": "LayoutModel",
     "state": {
      "_model_module": "@jupyter-widgets/base",
      "_model_module_version": "1.2.0",
      "_model_name": "LayoutModel",
      "_view_count": null,
      "_view_module": "@jupyter-widgets/base",
      "_view_module_version": "1.2.0",
      "_view_name": "LayoutView",
      "align_content": null,
      "align_items": null,
      "align_self": null,
      "border": null,
      "bottom": null,
      "display": null,
      "flex": null,
      "flex_flow": null,
      "grid_area": null,
      "grid_auto_columns": null,
      "grid_auto_flow": null,
      "grid_auto_rows": null,
      "grid_column": null,
      "grid_gap": null,
      "grid_row": null,
      "grid_template_areas": null,
      "grid_template_columns": null,
      "grid_template_rows": null,
      "height": null,
      "justify_content": null,
      "justify_items": null,
      "left": null,
      "margin": null,
      "max_height": null,
      "max_width": null,
      "min_height": null,
      "min_width": null,
      "object_fit": null,
      "object_position": null,
      "order": null,
      "overflow": null,
      "overflow_x": null,
      "overflow_y": null,
      "padding": null,
      "right": null,
      "top": null,
      "visibility": null,
      "width": null
     }
    },
    "f2624990017f485698aef5cfcc7b0a1f": {
     "model_module": "@jupyter-widgets/base",
     "model_name": "LayoutModel",
     "state": {
      "_model_module": "@jupyter-widgets/base",
      "_model_module_version": "1.2.0",
      "_model_name": "LayoutModel",
      "_view_count": null,
      "_view_module": "@jupyter-widgets/base",
      "_view_module_version": "1.2.0",
      "_view_name": "LayoutView",
      "align_content": null,
      "align_items": null,
      "align_self": null,
      "border": null,
      "bottom": null,
      "display": null,
      "flex": null,
      "flex_flow": null,
      "grid_area": null,
      "grid_auto_columns": null,
      "grid_auto_flow": null,
      "grid_auto_rows": null,
      "grid_column": null,
      "grid_gap": null,
      "grid_row": null,
      "grid_template_areas": null,
      "grid_template_columns": null,
      "grid_template_rows": null,
      "height": null,
      "justify_content": null,
      "justify_items": null,
      "left": null,
      "margin": null,
      "max_height": null,
      "max_width": null,
      "min_height": null,
      "min_width": null,
      "object_fit": null,
      "object_position": null,
      "order": null,
      "overflow": null,
      "overflow_x": null,
      "overflow_y": null,
      "padding": null,
      "right": null,
      "top": null,
      "visibility": null,
      "width": null
     }
    },
    "f3dc17abceef457db6512839fccef0a8": {
     "model_module": "@jupyter-widgets/controls",
     "model_name": "FloatProgressModel",
     "state": {
      "_dom_classes": [],
      "_model_module": "@jupyter-widgets/controls",
      "_model_module_version": "1.5.0",
      "_model_name": "FloatProgressModel",
      "_view_count": null,
      "_view_module": "@jupyter-widgets/controls",
      "_view_module_version": "1.5.0",
      "_view_name": "ProgressView",
      "bar_style": "",
      "description": "100%",
      "description_tooltip": null,
      "layout": "IPY_MODEL_d75d8d57e7ee4ce78ad69efb17e20aa5",
      "max": 107,
      "min": 0,
      "orientation": "horizontal",
      "style": "IPY_MODEL_85c982e48c27436e90ec52c8828b81f0",
      "value": 107
     }
    },
    "f73052e5ef7f43ec9bca0007bcce08a9": {
     "model_module": "@jupyter-widgets/controls",
     "model_name": "ProgressStyleModel",
     "state": {
      "_model_module": "@jupyter-widgets/controls",
      "_model_module_version": "1.5.0",
      "_model_name": "ProgressStyleModel",
      "_view_count": null,
      "_view_module": "@jupyter-widgets/base",
      "_view_module_version": "1.2.0",
      "_view_name": "StyleView",
      "bar_color": null,
      "description_width": "initial"
     }
    },
    "f87c65c5cac6436295edc1fb28164343": {
     "model_module": "@jupyter-widgets/controls",
     "model_name": "ProgressStyleModel",
     "state": {
      "_model_module": "@jupyter-widgets/controls",
      "_model_module_version": "1.5.0",
      "_model_name": "ProgressStyleModel",
      "_view_count": null,
      "_view_module": "@jupyter-widgets/base",
      "_view_module_version": "1.2.0",
      "_view_name": "StyleView",
      "bar_color": null,
      "description_width": "initial"
     }
    },
    "f8b5818e816f4d78920715455f23e981": {
     "model_module": "@jupyter-widgets/controls",
     "model_name": "HTMLModel",
     "state": {
      "_dom_classes": [],
      "_model_module": "@jupyter-widgets/controls",
      "_model_module_version": "1.5.0",
      "_model_name": "HTMLModel",
      "_view_count": null,
      "_view_module": "@jupyter-widgets/controls",
      "_view_module_version": "1.5.0",
      "_view_name": "HTMLView",
      "description": "",
      "description_tooltip": null,
      "layout": "IPY_MODEL_677dc593811648868102c49981681ed7",
      "placeholder": "​",
      "style": "IPY_MODEL_18f0becb23314fde8cc8486572c31ee2",
      "value": " 107/107 [00:59&lt;00:00,  1.82it/s]"
     }
    },
    "fa76c3b32a3c4431ac6f5b8e64d91cec": {
     "model_module": "@jupyter-widgets/controls",
     "model_name": "FloatProgressModel",
     "state": {
      "_dom_classes": [],
      "_model_module": "@jupyter-widgets/controls",
      "_model_module_version": "1.5.0",
      "_model_name": "FloatProgressModel",
      "_view_count": null,
      "_view_module": "@jupyter-widgets/controls",
      "_view_module_version": "1.5.0",
      "_view_name": "ProgressView",
      "bar_style": "",
      "description": "100%",
      "description_tooltip": null,
      "layout": "IPY_MODEL_dd44208fb0a147f68177ab5bbd4326e1",
      "max": 107,
      "min": 0,
      "orientation": "horizontal",
      "style": "IPY_MODEL_7f113cc198b14df6bc6a4b586b3eb4f5",
      "value": 107
     }
    },
    "ff40749351a54b9d9269a855048d368f": {
     "model_module": "@jupyter-widgets/controls",
     "model_name": "HBoxModel",
     "state": {
      "_dom_classes": [],
      "_model_module": "@jupyter-widgets/controls",
      "_model_module_version": "1.5.0",
      "_model_name": "HBoxModel",
      "_view_count": null,
      "_view_module": "@jupyter-widgets/controls",
      "_view_module_version": "1.5.0",
      "_view_name": "HBoxView",
      "box_style": "",
      "children": [
       "IPY_MODEL_b7712c540cc74c6f92003a276879f805",
       "IPY_MODEL_1699d69583e94f23bc73588022230fd0"
      ],
      "layout": "IPY_MODEL_90da68063ae74ccba0343fecf17f265d"
     }
    },
    "ff75246630f643deac14462a5c0c5c0e": {
     "model_module": "@jupyter-widgets/controls",
     "model_name": "FloatProgressModel",
     "state": {
      "_dom_classes": [],
      "_model_module": "@jupyter-widgets/controls",
      "_model_module_version": "1.5.0",
      "_model_name": "FloatProgressModel",
      "_view_count": null,
      "_view_module": "@jupyter-widgets/controls",
      "_view_module_version": "1.5.0",
      "_view_name": "ProgressView",
      "bar_style": "",
      "description": "100%",
      "description_tooltip": null,
      "layout": "IPY_MODEL_1fc9f21f74c7454da4f708b813c22d83",
      "max": 107,
      "min": 0,
      "orientation": "horizontal",
      "style": "IPY_MODEL_841317c58c0547e5a89c2b51ea2a5f80",
      "value": 107
     }
    }
   }
  }
 },
 "nbformat": 4,
 "nbformat_minor": 1
}
