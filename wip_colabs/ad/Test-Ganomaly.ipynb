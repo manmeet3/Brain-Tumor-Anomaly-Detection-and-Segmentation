{
 "cells": [
  {
   "cell_type": "code",
   "execution_count": 18,
   "metadata": {
    "colab": {
     "base_uri": "https://localhost:8080/"
    },
    "id": "d8h24gZHA22a",
    "outputId": "24b50215-faac-404f-f4ad-0c12e0bcec9c"
   },
   "outputs": [
    {
     "name": "stdout",
     "output_type": "stream",
     "text": [
      "LICENSE      __pycache__  lib\t      pyt_ganomaly_output\n",
      "README.md    data\t  options.py  requirements.txt\n",
      "__init__.py  experiments  out_backup  train.py\n",
      "/notebook/Masters_Project/ganomaly\n"
     ]
    }
   ],
   "source": [
    "!ls\n",
    "!pwd"
   ]
  },
  {
   "cell_type": "markdown",
   "metadata": {},
   "source": [
    "Note: If running with the rtx 3070, run using the latest pytorch image from nvidia webpage\n",
    "\n",
    "Previously used: `docker pull nvcr.io/nvidia/pytorch:21.03-py3`"
   ]
  },
  {
   "cell_type": "code",
   "execution_count": 1,
   "metadata": {},
   "outputs": [
    {
     "name": "stdout",
     "output_type": "stream",
     "text": [
      "/notebook/Masters_Project/ganomaly\n"
     ]
    }
   ],
   "source": [
    "%cd /notebook/Masters_Project/ganomaly"
   ]
  },
  {
   "cell_type": "code",
   "execution_count": 20,
   "metadata": {
    "colab": {
     "base_uri": "https://localhost:8080/"
    },
    "id": "SwF5Sv0UA22l",
    "outputId": "047d7e04-d3b4-4bf4-904f-5779d1656206"
   },
   "outputs": [],
   "source": [
    "#!git clone https://github.com/samet-akcay/ganomaly.git"
   ]
  },
  {
   "cell_type": "code",
   "execution_count": 21,
   "metadata": {
    "colab": {
     "base_uri": "https://localhost:8080/",
     "height": 1000
    },
    "id": "mlFEqc_2A22m",
    "outputId": "8545ed7c-b4de-4b00-f41e-795ee04bd3ff"
   },
   "outputs": [],
   "source": [
    "#!pip install -r requirements.txt"
   ]
  },
  {
   "cell_type": "code",
   "execution_count": 22,
   "metadata": {
    "colab": {
     "base_uri": "https://localhost:8080/",
     "height": 566
    },
    "id": "ya7pv8pYA22n",
    "outputId": "8e43aa9b-396a-46b4-99f9-8a2fdff84ded"
   },
   "outputs": [],
   "source": [
    "#!pip install mkl-fft"
   ]
  },
  {
   "cell_type": "code",
   "execution_count": 3,
   "metadata": {
    "colab": {
     "base_uri": "https://localhost:8080/",
     "height": 243
    },
    "id": "LiBYORYdsR1U",
    "outputId": "1a09a84d-7b3e-42ae-949d-883b7bd84150"
   },
   "outputs": [
    {
     "name": "stdout",
     "output_type": "stream",
     "text": [
      "Requirement already satisfied: visdom in /opt/conda/lib/python3.8/site-packages (0.1.8.9)\n",
      "Requirement already satisfied: scipy in /opt/conda/lib/python3.8/site-packages (from visdom) (1.6.1)\n",
      "Requirement already satisfied: jsonpatch in /opt/conda/lib/python3.8/site-packages (from visdom) (1.32)\n",
      "Requirement already satisfied: numpy>=1.8 in /opt/conda/lib/python3.8/site-packages (from visdom) (1.19.2)\n",
      "Requirement already satisfied: pillow-simd in /opt/conda/lib/python3.8/site-packages (from visdom) (7.0.0.post3)\n",
      "Requirement already satisfied: websocket-client in /opt/conda/lib/python3.8/site-packages (from visdom) (0.58.0)\n",
      "Requirement already satisfied: six in /opt/conda/lib/python3.8/site-packages (from visdom) (1.15.0)\n",
      "Requirement already satisfied: pyzmq in /opt/conda/lib/python3.8/site-packages (from visdom) (22.0.3)\n",
      "Requirement already satisfied: requests in /opt/conda/lib/python3.8/site-packages (from visdom) (2.24.0)\n",
      "Requirement already satisfied: tornado in /opt/conda/lib/python3.8/site-packages (from visdom) (6.1)\n",
      "Requirement already satisfied: torchfile in /opt/conda/lib/python3.8/site-packages (from visdom) (0.1.0)\n",
      "Requirement already satisfied: jsonpointer>=1.9 in /opt/conda/lib/python3.8/site-packages (from jsonpatch->visdom) (2.1)\n",
      "Requirement already satisfied: chardet<4,>=3.0.2 in /opt/conda/lib/python3.8/site-packages (from requests->visdom) (3.0.4)\n",
      "Requirement already satisfied: urllib3!=1.25.0,!=1.25.1,<1.26,>=1.21.1 in /opt/conda/lib/python3.8/site-packages (from requests->visdom) (1.25.11)\n",
      "Requirement already satisfied: certifi>=2017.4.17 in /opt/conda/lib/python3.8/site-packages (from requests->visdom) (2020.12.5)\n",
      "Requirement already satisfied: idna<3,>=2.5 in /opt/conda/lib/python3.8/site-packages (from requests->visdom) (2.10)\n"
     ]
    }
   ],
   "source": [
    "!pip install visdom\n",
    "# Run via a bash terminal on the continer: python3 -m visdom.server &"
   ]
  },
  {
   "cell_type": "code",
   "execution_count": 4,
   "metadata": {
    "id": "_uh8OFM3A22n"
   },
   "outputs": [],
   "source": [
    "import os\n",
    "import torch\n",
    "import numpy as np\n",
    "import torchvision.datasets as datasets\n",
    "from torchvision.datasets import MNIST\n",
    "from torchvision.datasets import CIFAR10\n",
    "from torchvision.datasets import ImageFolder\n",
    "import torchvision.transforms as transforms\n",
    "\n",
    "from PIL import Image"
   ]
  },
  {
   "cell_type": "code",
   "execution_count": 5,
   "metadata": {},
   "outputs": [],
   "source": [
    "from options import Options\n",
    "from lib.data import load_data\n",
    "from lib.model import Ganomaly"
   ]
  },
  {
   "cell_type": "code",
   "execution_count": 6,
   "metadata": {},
   "outputs": [
    {
     "data": {
      "text/plain": [
       "True"
      ]
     },
     "execution_count": 6,
     "metadata": {},
     "output_type": "execute_result"
    }
   ],
   "source": [
    "import torch\n",
    "\n",
    "torch.cuda.is_available()"
   ]
  },
  {
   "cell_type": "code",
   "execution_count": 7,
   "metadata": {},
   "outputs": [
    {
     "data": {
      "text/plain": [
       "'1.9.0a0+df837d0'"
      ]
     },
     "execution_count": 7,
     "metadata": {},
     "output_type": "execute_result"
    }
   ],
   "source": [
    "torch.__version__"
   ]
  },
  {
   "cell_type": "code",
   "execution_count": 8,
   "metadata": {},
   "outputs": [],
   "source": [
    "class Option:\n",
    "    def __init__(self):\n",
    "        # Base\n",
    "        self.dataset = 'cifar10'\n",
    "        self.dataroot = ''\n",
    "        self.batchsize = 64\n",
    "        self.workers = 8\n",
    "        self.droplast = True\n",
    "        self.isize = 32\n",
    "        self.nc = 3\n",
    "        self.nz = 100\n",
    "        self.ngf = 64\n",
    "        self.ndf = 64\n",
    "        self.extralayers = 0\n",
    "        self.device = 'gpu'\n",
    "        self.gpu_ids = '0'\n",
    "        self.ngpu = 1\n",
    "        self.name = 'pytorch_ganomaly'\n",
    "        self.model = 'ganomaly'\n",
    "        self.display_server = \"http://localhost\"\n",
    "        self.display_port = 8097\n",
    "        self.display_id = 0\n",
    "        self.display = True\n",
    "        self.outf = './pyt_ganomaly_output'\n",
    "        self.manualseed = -1\n",
    "        self.abnormal_class = 'car'\n",
    "        self.proportion = 0.1\n",
    "        self.metric = 'roc'\n",
    "\n",
    "        ##\n",
    "        # Train\n",
    "        self.print_freq = 100\n",
    "        self.save_image_freq = 100\n",
    "        self.save_test_images = True\n",
    "        self.load_weights = False\n",
    "        self.resume = ''\n",
    "        self.phase = 'train'\n",
    "        self.iter = 0\n",
    "        self.niter = 15\n",
    "        self.beta1 = 0.5\n",
    "        self.lr = 0.0002\n",
    "        self.w_adv = 1\n",
    "        self.w_con = 50\n",
    "        self.w_enc = 1\n",
    "        self.isTrain = True\n",
    "\n",
    "opt = Option()"
   ]
  },
  {
   "cell_type": "code",
   "execution_count": 9,
   "metadata": {
    "id": "5ZuEvH3BA22p"
   },
   "outputs": [],
   "source": [
    "def get_cifar_anomaly_dataset(trn_img, trn_lbl, tst_img, tst_lbl, abn_cls_idx=0, manualseed=-1):\n",
    "    \"\"\"[summary]\n",
    "    Arguments:\n",
    "        trn_img {np.array} -- Training images\n",
    "        trn_lbl {np.array} -- Training labels\n",
    "        tst_img {np.array} -- Test     images\n",
    "        tst_lbl {np.array} -- Test     labels\n",
    "    Keyword Arguments:\n",
    "        abn_cls_idx {int} -- Anomalous class index (default: {0})\n",
    "    Returns:\n",
    "        [np.array] -- New training-test images and labels.\n",
    "    \"\"\"\n",
    "    # Convert train-test labels into numpy array.\n",
    "    trn_lbl = np.array(trn_lbl)\n",
    "    tst_lbl = np.array(tst_lbl)\n",
    "\n",
    "    # --\n",
    "    # Find idx, img, lbl for abnormal and normal on org dataset.\n",
    "    nrm_trn_idx = np.where(trn_lbl != abn_cls_idx)[0]\n",
    "    abn_trn_idx = np.where(trn_lbl == abn_cls_idx)[0]\n",
    "    nrm_trn_img = trn_img[nrm_trn_idx]    # Normal training images\n",
    "    abn_trn_img = trn_img[abn_trn_idx]    # Abnormal training images\n",
    "    nrm_trn_lbl = trn_lbl[nrm_trn_idx]    # Normal training labels\n",
    "    abn_trn_lbl = trn_lbl[abn_trn_idx]    # Abnormal training labels.\n",
    "\n",
    "    nrm_tst_idx = np.where(tst_lbl != abn_cls_idx)[0]\n",
    "    abn_tst_idx = np.where(tst_lbl == abn_cls_idx)[0]\n",
    "    nrm_tst_img = tst_img[nrm_tst_idx]    # Normal training images\n",
    "    abn_tst_img = tst_img[abn_tst_idx]    # Abnormal training images.\n",
    "    nrm_tst_lbl = tst_lbl[nrm_tst_idx]    # Normal training labels\n",
    "    abn_tst_lbl = tst_lbl[abn_tst_idx]    # Abnormal training labels.\n",
    "\n",
    "    # --\n",
    "    # Assign labels to normal (0) and abnormals (1)\n",
    "    nrm_trn_lbl[:] = 0\n",
    "    nrm_tst_lbl[:] = 0\n",
    "    abn_trn_lbl[:] = 1\n",
    "    abn_tst_lbl[:] = 1\n",
    "\n",
    "    # --\n",
    "    if manualseed != -1:\n",
    "        # Random seed.\n",
    "        # Concatenate the original train and test sets.\n",
    "        nrm_img = np.concatenate((nrm_trn_img, nrm_tst_img), axis=0)\n",
    "        nrm_lbl = np.concatenate((nrm_trn_lbl, nrm_tst_lbl), axis=0)\n",
    "        abn_img = np.concatenate((abn_trn_img, abn_tst_img), axis=0)\n",
    "        abn_lbl = np.concatenate((abn_trn_lbl, abn_tst_lbl), axis=0)\n",
    "\n",
    "        # Split the normal data into the new train and tests.\n",
    "        idx = np.arange(len(nrm_lbl))\n",
    "        np.random.seed(manualseed)\n",
    "        np.random.shuffle(idx)\n",
    "\n",
    "        nrm_trn_len = int(len(idx) * 0.80)\n",
    "        nrm_trn_idx = idx[:nrm_trn_len]\n",
    "        nrm_tst_idx = idx[nrm_trn_len:]\n",
    "\n",
    "        nrm_trn_img = nrm_img[nrm_trn_idx]\n",
    "        nrm_trn_lbl = nrm_lbl[nrm_trn_idx]\n",
    "        nrm_tst_img = nrm_img[nrm_tst_idx]\n",
    "        nrm_tst_lbl = nrm_lbl[nrm_tst_idx]\n",
    "\n",
    "    # Create new anomaly dataset based on the following data structure:\n",
    "    # - anomaly dataset\n",
    "    #   . -> train\n",
    "    #        . -> normal\n",
    "    #   . -> test\n",
    "    #        . -> normal\n",
    "    #        . -> abnormal\n",
    "    new_trn_img = np.copy(nrm_trn_img)\n",
    "    new_trn_lbl = np.copy(nrm_trn_lbl)\n",
    "    new_tst_img = np.concatenate((nrm_tst_img, abn_trn_img, abn_tst_img), axis=0)\n",
    "    new_tst_lbl = np.concatenate((nrm_tst_lbl, abn_trn_lbl, abn_tst_lbl), axis=0)\n",
    "\n",
    "    return new_trn_img, new_trn_lbl, new_tst_img, new_tst_lbl\n"
   ]
  },
  {
   "cell_type": "code",
   "execution_count": 10,
   "metadata": {
    "colab": {
     "base_uri": "https://localhost:8080/"
    },
    "id": "o1P6y_iNA22q",
    "outputId": "0b175576-4221-4870-b707-ccd9ec3a7640"
   },
   "outputs": [
    {
     "name": "stdout",
     "output_type": "stream",
     "text": [
      "Files already downloaded and verified\n",
      "Files already downloaded and verified\n"
     ]
    }
   ],
   "source": [
    "splits = ['train', 'test']\n",
    "drop_last_batch = {'train': True, 'test': False}\n",
    "shuffle = {'train': True, 'test': False}\n",
    "\n",
    "transform = transforms.Compose(\n",
    "    [\n",
    "        transforms.Resize(opt.isize),\n",
    "        transforms.ToTensor(),\n",
    "        transforms.Normalize((0.5, 0.5, 0.5), (0.5, 0.5, 0.5))\n",
    "    ]\n",
    ")\n",
    "\n",
    "classes = {\n",
    "    'plane': 0, 'car': 1, 'bird': 2, 'cat': 3, 'deer': 4,\n",
    "    'dog': 5, 'frog': 6, 'horse': 7, 'ship': 8, 'truck': 9\n",
    "}\n",
    "\n",
    "dataset = {}\n",
    "dataset['train'] = CIFAR10(root='./data', train=True, download=True, transform=transform)\n",
    "dataset['test'] = CIFAR10(root='./data', train=False, download=True, transform=transform)\n",
    "\n",
    "dataset['train'].data, dataset['train'].targets, \\\n",
    "dataset['test'].data, dataset['test'].targets = get_cifar_anomaly_dataset(\n",
    "    trn_img=dataset['train'].data,\n",
    "    trn_lbl=dataset['train'].targets,\n",
    "    tst_img=dataset['test'].data,\n",
    "    tst_lbl=dataset['test'].targets,\n",
    "    abn_cls_idx=classes[opt.abnormal_class],\n",
    "    manualseed=opt.manualseed\n",
    ")\n",
    "\n",
    "dataloader = {x: torch.utils.data.DataLoader(dataset=dataset[x],\n",
    "                                             batch_size=opt.batchsize,\n",
    "                                             shuffle=shuffle[x],\n",
    "                                             num_workers=int(opt.workers),\n",
    "                                             drop_last=drop_last_batch[x],\n",
    "                                             worker_init_fn=(None if opt.manualseed == -1\n",
    "                                             else lambda x: np.random.seed(opt.manualseed)))\n",
    "              for x in splits}"
   ]
  },
  {
   "cell_type": "code",
   "execution_count": 11,
   "metadata": {
    "colab": {
     "base_uri": "https://localhost:8080/"
    },
    "id": "B70vfqEZA22r",
    "outputId": "aa12c737-66d6-4b28-bb5a-9455ba8f57a8"
   },
   "outputs": [
    {
     "name": "stderr",
     "output_type": "stream",
     "text": [
      "Setting up a new session...\n",
      "  0%|          | 0/703 [00:00<?, ?it/s]"
     ]
    },
    {
     "name": "stdout",
     "output_type": "stream",
     "text": [
      ">> Training model Ganomaly.\n"
     ]
    },
    {
     "name": "stderr",
     "output_type": "stream",
     "text": [
      "                                                 "
     ]
    },
    {
     "name": "stdout",
     "output_type": "stream",
     "text": [
      ">> Training model Ganomaly. Epoch 1/15\n"
     ]
    },
    {
     "name": "stderr",
     "output_type": "stream",
     "text": [
      "  0%|          | 0/703 [00:00<?, ?it/s]"
     ]
    },
    {
     "name": "stdout",
     "output_type": "stream",
     "text": [
      "   Avg Run Time (ms/batch): 1.738 roc: 0.596 max roc: 0.596\n"
     ]
    },
    {
     "name": "stderr",
     "output_type": "stream",
     "text": [
      "                                                 "
     ]
    },
    {
     "name": "stdout",
     "output_type": "stream",
     "text": [
      ">> Training model Ganomaly. Epoch 2/15\n"
     ]
    },
    {
     "name": "stderr",
     "output_type": "stream",
     "text": [
      "  0%|          | 0/703 [00:00<?, ?it/s]"
     ]
    },
    {
     "name": "stdout",
     "output_type": "stream",
     "text": [
      "   Avg Run Time (ms/batch): 1.740 roc: 0.621 max roc: 0.621\n"
     ]
    },
    {
     "name": "stderr",
     "output_type": "stream",
     "text": [
      "                                                 "
     ]
    },
    {
     "name": "stdout",
     "output_type": "stream",
     "text": [
      ">> Training model Ganomaly. Epoch 3/15\n"
     ]
    },
    {
     "name": "stderr",
     "output_type": "stream",
     "text": [
      "  0%|          | 0/703 [00:00<?, ?it/s]"
     ]
    },
    {
     "name": "stdout",
     "output_type": "stream",
     "text": [
      "   Avg Run Time (ms/batch): 1.717 roc: 0.649 max roc: 0.649\n"
     ]
    },
    {
     "name": "stderr",
     "output_type": "stream",
     "text": [
      "                                                 "
     ]
    },
    {
     "name": "stdout",
     "output_type": "stream",
     "text": [
      ">> Training model Ganomaly. Epoch 4/15\n"
     ]
    },
    {
     "name": "stderr",
     "output_type": "stream",
     "text": [
      "  0%|          | 0/703 [00:00<?, ?it/s]"
     ]
    },
    {
     "name": "stdout",
     "output_type": "stream",
     "text": [
      "   Avg Run Time (ms/batch): 1.627 roc: 0.628 max roc: 0.649\n"
     ]
    },
    {
     "name": "stderr",
     "output_type": "stream",
     "text": [
      "                                                 "
     ]
    },
    {
     "name": "stdout",
     "output_type": "stream",
     "text": [
      ">> Training model Ganomaly. Epoch 5/15\n"
     ]
    },
    {
     "name": "stderr",
     "output_type": "stream",
     "text": [
      "  0%|          | 0/703 [00:00<?, ?it/s]"
     ]
    },
    {
     "name": "stdout",
     "output_type": "stream",
     "text": [
      "   Avg Run Time (ms/batch): 1.679 roc: 0.646 max roc: 0.649\n"
     ]
    },
    {
     "name": "stderr",
     "output_type": "stream",
     "text": [
      "                                                 "
     ]
    },
    {
     "name": "stdout",
     "output_type": "stream",
     "text": [
      ">> Training model Ganomaly. Epoch 6/15\n"
     ]
    },
    {
     "name": "stderr",
     "output_type": "stream",
     "text": [
      "  0%|          | 0/703 [00:00<?, ?it/s]"
     ]
    },
    {
     "name": "stdout",
     "output_type": "stream",
     "text": [
      "   Avg Run Time (ms/batch): 1.787 roc: 0.608 max roc: 0.649\n"
     ]
    },
    {
     "name": "stderr",
     "output_type": "stream",
     "text": [
      " 91%|█████████▏| 642/703 [00:11<00:01, 47.85it/s]"
     ]
    },
    {
     "name": "stdout",
     "output_type": "stream",
     "text": [
      "   Reloading net d\n"
     ]
    },
    {
     "name": "stderr",
     "output_type": "stream",
     "text": [
      "                                                 "
     ]
    },
    {
     "name": "stdout",
     "output_type": "stream",
     "text": [
      ">> Training model Ganomaly. Epoch 7/15\n"
     ]
    },
    {
     "name": "stderr",
     "output_type": "stream",
     "text": [
      "  0%|          | 0/703 [00:00<?, ?it/s]"
     ]
    },
    {
     "name": "stdout",
     "output_type": "stream",
     "text": [
      "   Avg Run Time (ms/batch): 1.891 roc: 0.580 max roc: 0.649\n"
     ]
    },
    {
     "name": "stderr",
     "output_type": "stream",
     "text": [
      "                                                 "
     ]
    },
    {
     "name": "stdout",
     "output_type": "stream",
     "text": [
      ">> Training model Ganomaly. Epoch 8/15\n"
     ]
    },
    {
     "name": "stderr",
     "output_type": "stream",
     "text": [
      "  0%|          | 0/703 [00:00<?, ?it/s]"
     ]
    },
    {
     "name": "stdout",
     "output_type": "stream",
     "text": [
      "   Avg Run Time (ms/batch): 1.822 roc: 0.572 max roc: 0.649\n"
     ]
    },
    {
     "name": "stderr",
     "output_type": "stream",
     "text": [
      "                                                 "
     ]
    },
    {
     "name": "stdout",
     "output_type": "stream",
     "text": [
      ">> Training model Ganomaly. Epoch 9/15\n"
     ]
    },
    {
     "name": "stderr",
     "output_type": "stream",
     "text": [
      "  0%|          | 0/703 [00:00<?, ?it/s]"
     ]
    },
    {
     "name": "stdout",
     "output_type": "stream",
     "text": [
      "   Avg Run Time (ms/batch): 1.769 roc: 0.677 max roc: 0.677\n"
     ]
    },
    {
     "name": "stderr",
     "output_type": "stream",
     "text": [
      "                                                 "
     ]
    },
    {
     "name": "stdout",
     "output_type": "stream",
     "text": [
      ">> Training model Ganomaly. Epoch 10/15\n"
     ]
    },
    {
     "name": "stderr",
     "output_type": "stream",
     "text": [
      "  0%|          | 0/703 [00:00<?, ?it/s]"
     ]
    },
    {
     "name": "stdout",
     "output_type": "stream",
     "text": [
      "   Avg Run Time (ms/batch): 1.862 roc: 0.651 max roc: 0.677\n"
     ]
    },
    {
     "name": "stderr",
     "output_type": "stream",
     "text": [
      "                                                 "
     ]
    },
    {
     "name": "stdout",
     "output_type": "stream",
     "text": [
      ">> Training model Ganomaly. Epoch 11/15\n"
     ]
    },
    {
     "name": "stderr",
     "output_type": "stream",
     "text": [
      "  0%|          | 0/703 [00:00<?, ?it/s]"
     ]
    },
    {
     "name": "stdout",
     "output_type": "stream",
     "text": [
      "   Avg Run Time (ms/batch): 1.925 roc: 0.563 max roc: 0.677\n"
     ]
    },
    {
     "name": "stderr",
     "output_type": "stream",
     "text": [
      "                                                 "
     ]
    },
    {
     "name": "stdout",
     "output_type": "stream",
     "text": [
      ">> Training model Ganomaly. Epoch 12/15\n"
     ]
    },
    {
     "name": "stderr",
     "output_type": "stream",
     "text": [
      "  0%|          | 0/703 [00:00<?, ?it/s]"
     ]
    },
    {
     "name": "stdout",
     "output_type": "stream",
     "text": [
      "   Avg Run Time (ms/batch): 1.707 roc: 0.600 max roc: 0.677\n"
     ]
    },
    {
     "name": "stderr",
     "output_type": "stream",
     "text": [
      "                                                 "
     ]
    },
    {
     "name": "stdout",
     "output_type": "stream",
     "text": [
      ">> Training model Ganomaly. Epoch 13/15\n"
     ]
    },
    {
     "name": "stderr",
     "output_type": "stream",
     "text": [
      "  0%|          | 0/703 [00:00<?, ?it/s]"
     ]
    },
    {
     "name": "stdout",
     "output_type": "stream",
     "text": [
      "   Avg Run Time (ms/batch): 1.717 roc: 0.606 max roc: 0.677\n"
     ]
    },
    {
     "name": "stderr",
     "output_type": "stream",
     "text": [
      "                                                 "
     ]
    },
    {
     "name": "stdout",
     "output_type": "stream",
     "text": [
      ">> Training model Ganomaly. Epoch 14/15\n"
     ]
    },
    {
     "name": "stderr",
     "output_type": "stream",
     "text": [
      "  0%|          | 0/703 [00:00<?, ?it/s]"
     ]
    },
    {
     "name": "stdout",
     "output_type": "stream",
     "text": [
      "   Avg Run Time (ms/batch): 1.726 roc: 0.614 max roc: 0.677\n"
     ]
    },
    {
     "name": "stderr",
     "output_type": "stream",
     "text": [
      "                                                 "
     ]
    },
    {
     "name": "stdout",
     "output_type": "stream",
     "text": [
      ">> Training model Ganomaly. Epoch 15/15\n"
     ]
    },
    {
     "name": "stderr",
     "output_type": "stream",
     "text": [
      "\r"
     ]
    },
    {
     "name": "stdout",
     "output_type": "stream",
     "text": [
      "   Avg Run Time (ms/batch): 1.843 roc: 0.620 max roc: 0.677\n",
      ">> Training model Ganomaly.[Done]\n"
     ]
    }
   ],
   "source": [
    "model = Ganomaly(opt, dataloader)\n",
    "model.train()"
   ]
  },
  {
   "cell_type": "code",
   "execution_count": 12,
   "metadata": {},
   "outputs": [
    {
     "data": {
      "text/plain": [
       "OrderedDict([('Avg Run Time (ms/batch)', 1.7304277420043945),\n",
       "             ('roc', 0.6199634537037035)])"
      ]
     },
     "execution_count": 12,
     "metadata": {},
     "output_type": "execute_result"
    }
   ],
   "source": [
    "model.test()"
   ]
  },
  {
   "cell_type": "code",
   "execution_count": 13,
   "metadata": {},
   "outputs": [
    {
     "data": {
      "text/plain": [
       "['__class__',\n",
       " '__delattr__',\n",
       " '__dict__',\n",
       " '__dir__',\n",
       " '__doc__',\n",
       " '__eq__',\n",
       " '__format__',\n",
       " '__ge__',\n",
       " '__getattribute__',\n",
       " '__gt__',\n",
       " '__hash__',\n",
       " '__init__',\n",
       " '__init_subclass__',\n",
       " '__le__',\n",
       " '__lt__',\n",
       " '__module__',\n",
       " '__ne__',\n",
       " '__new__',\n",
       " '__reduce__',\n",
       " '__reduce_ex__',\n",
       " '__repr__',\n",
       " '__setattr__',\n",
       " '__sizeof__',\n",
       " '__str__',\n",
       " '__subclasshook__',\n",
       " '__weakref__',\n",
       " 'an_scores',\n",
       " 'backward_d',\n",
       " 'backward_g',\n",
       " 'dataloader',\n",
       " 'device',\n",
       " 'epoch',\n",
       " 'err_d',\n",
       " 'err_d_fake',\n",
       " 'err_d_real',\n",
       " 'err_g',\n",
       " 'err_g_adv',\n",
       " 'err_g_con',\n",
       " 'err_g_enc',\n",
       " 'fake',\n",
       " 'fake_label',\n",
       " 'feat_fake',\n",
       " 'feat_real',\n",
       " 'fixed_input',\n",
       " 'forward_d',\n",
       " 'forward_g',\n",
       " 'get_current_images',\n",
       " 'get_errors',\n",
       " 'gt',\n",
       " 'gt_labels',\n",
       " 'input',\n",
       " 'l_adv',\n",
       " 'l_bce',\n",
       " 'l_con',\n",
       " 'l_enc',\n",
       " 'label',\n",
       " 'latent_i',\n",
       " 'latent_o',\n",
       " 'name',\n",
       " 'netd',\n",
       " 'netg',\n",
       " 'opt',\n",
       " 'optimize_params',\n",
       " 'optimizer_d',\n",
       " 'optimizer_g',\n",
       " 'pred_fake',\n",
       " 'pred_real',\n",
       " 'real_label',\n",
       " 'reinit_d',\n",
       " 'save_weights',\n",
       " 'seed',\n",
       " 'set_input',\n",
       " 'test',\n",
       " 'times',\n",
       " 'total_steps',\n",
       " 'train',\n",
       " 'train_one_epoch',\n",
       " 'trn_dir',\n",
       " 'tst_dir',\n",
       " 'visualizer']"
      ]
     },
     "execution_count": 13,
     "metadata": {},
     "output_type": "execute_result"
    }
   ],
   "source": [
    "dir(model)"
   ]
  },
  {
   "cell_type": "code",
   "execution_count": 14,
   "metadata": {},
   "outputs": [
    {
     "data": {
      "text/plain": [
       "['T_destination',\n",
       " '__annotations__',\n",
       " '__call__',\n",
       " '__class__',\n",
       " '__delattr__',\n",
       " '__dict__',\n",
       " '__dir__',\n",
       " '__doc__',\n",
       " '__eq__',\n",
       " '__format__',\n",
       " '__ge__',\n",
       " '__getattr__',\n",
       " '__getattribute__',\n",
       " '__gt__',\n",
       " '__hash__',\n",
       " '__init__',\n",
       " '__init_subclass__',\n",
       " '__le__',\n",
       " '__lt__',\n",
       " '__module__',\n",
       " '__ne__',\n",
       " '__new__',\n",
       " '__reduce__',\n",
       " '__reduce_ex__',\n",
       " '__repr__',\n",
       " '__setattr__',\n",
       " '__setstate__',\n",
       " '__sizeof__',\n",
       " '__str__',\n",
       " '__subclasshook__',\n",
       " '__weakref__',\n",
       " '_apply',\n",
       " '_backward_hooks',\n",
       " '_buffers',\n",
       " '_call_impl',\n",
       " '_forward_hooks',\n",
       " '_forward_pre_hooks',\n",
       " '_get_backward_hooks',\n",
       " '_get_name',\n",
       " '_is_full_backward_hook',\n",
       " '_load_from_state_dict',\n",
       " '_load_state_dict_pre_hooks',\n",
       " '_maybe_warn_non_full_backward_hook',\n",
       " '_modules',\n",
       " '_named_members',\n",
       " '_non_persistent_buffers_set',\n",
       " '_parameters',\n",
       " '_register_load_state_dict_pre_hook',\n",
       " '_register_state_dict_hook',\n",
       " '_replicate_for_data_parallel',\n",
       " '_save_to_state_dict',\n",
       " '_slow_forward',\n",
       " '_state_dict_hooks',\n",
       " '_version',\n",
       " 'add_module',\n",
       " 'apply',\n",
       " 'bfloat16',\n",
       " 'buffers',\n",
       " 'children',\n",
       " 'classifier',\n",
       " 'cpu',\n",
       " 'cuda',\n",
       " 'double',\n",
       " 'dump_patches',\n",
       " 'eval',\n",
       " 'extra_repr',\n",
       " 'features',\n",
       " 'float',\n",
       " 'forward',\n",
       " 'half',\n",
       " 'load_state_dict',\n",
       " 'modules',\n",
       " 'named_buffers',\n",
       " 'named_children',\n",
       " 'named_modules',\n",
       " 'named_parameters',\n",
       " 'parameters',\n",
       " 'register_backward_hook',\n",
       " 'register_buffer',\n",
       " 'register_forward_hook',\n",
       " 'register_forward_pre_hook',\n",
       " 'register_full_backward_hook',\n",
       " 'register_parameter',\n",
       " 'requires_grad_',\n",
       " 'share_memory',\n",
       " 'state_dict',\n",
       " 'to',\n",
       " 'train',\n",
       " 'training',\n",
       " 'type',\n",
       " 'xpu',\n",
       " 'zero_grad']"
      ]
     },
     "execution_count": 14,
     "metadata": {},
     "output_type": "execute_result"
    }
   ],
   "source": [
    "dir(model.netd)"
   ]
  },
  {
   "cell_type": "code",
   "execution_count": 15,
   "metadata": {},
   "outputs": [
    {
     "ename": "TypeError",
     "evalue": "plot_performance() missing 3 required positional arguments: 'epoch', 'counter_ratio', and 'performance'",
     "output_type": "error",
     "traceback": [
      "\u001b[0;31m---------------------------------------------------------------------------\u001b[0m",
      "\u001b[0;31mTypeError\u001b[0m                                 Traceback (most recent call last)",
      "\u001b[0;32m<ipython-input-15-238a2b479476>\u001b[0m in \u001b[0;36m<module>\u001b[0;34m\u001b[0m\n\u001b[0;32m----> 1\u001b[0;31m \u001b[0mmodel\u001b[0m\u001b[0;34m.\u001b[0m\u001b[0mvisualizer\u001b[0m\u001b[0;34m.\u001b[0m\u001b[0mplot_performance\u001b[0m\u001b[0;34m(\u001b[0m\u001b[0;34m)\u001b[0m\u001b[0;34m\u001b[0m\u001b[0;34m\u001b[0m\u001b[0m\n\u001b[0m",
      "\u001b[0;31mTypeError\u001b[0m: plot_performance() missing 3 required positional arguments: 'epoch', 'counter_ratio', and 'performance'"
     ]
    }
   ],
   "source": [
    "model.visualizer.plot_performance()"
   ]
  },
  {
   "cell_type": "code",
   "execution_count": null,
   "metadata": {},
   "outputs": [],
   "source": [
    "#!python3 train.py --dataset cifar10  --niter 15 --abnormal_class car"
   ]
  }
 ],
 "metadata": {
  "colab": {
   "name": "Test-Ganomaly.ipynb",
   "provenance": []
  },
  "kernelspec": {
   "display_name": "Python 3",
   "language": "python",
   "name": "python3"
  },
  "language_info": {
   "codemirror_mode": {
    "name": "ipython",
    "version": 3
   },
   "file_extension": ".py",
   "mimetype": "text/x-python",
   "name": "python",
   "nbconvert_exporter": "python",
   "pygments_lexer": "ipython3",
   "version": "3.8.8"
  }
 },
 "nbformat": 4,
 "nbformat_minor": 1
}
