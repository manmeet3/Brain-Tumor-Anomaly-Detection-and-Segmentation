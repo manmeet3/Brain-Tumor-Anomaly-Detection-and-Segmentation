{
 "cells": [
  {
   "cell_type": "code",
   "execution_count": 2,
   "metadata": {
    "colab": {
     "base_uri": "https://localhost:8080/"
    },
    "id": "tvU5vMeB3tL8",
    "outputId": "028ffc3d-2dd6-4493-a446-40f67bd2256e"
   },
   "outputs": [
    {
     "name": "stdout",
     "output_type": "stream",
     "text": [
      "Drive already mounted at /content/drive; to attempt to forcibly remount, call drive.mount(\"/content/drive\", force_remount=True).\n"
     ]
    }
   ],
   "source": [
    "#from google.colab import drive\n",
    "#drive.mount(\"/content/drive\")"
   ]
  },
  {
   "cell_type": "code",
   "execution_count": 3,
   "metadata": {
    "colab": {
     "base_uri": "https://localhost:8080/"
    },
    "id": "hPD5t7AP35Ba",
    "outputId": "a6aa2084-3345-4d3b-d51f-86a21440b641"
   },
   "outputs": [
    {
     "name": "stdout",
     "output_type": "stream",
     "text": [
      "/content/drive/.shortcut-targets-by-id/1bqqm9-0FMOqiqyH_NIQBh-lJ36pWa7aX/Masters_Project/Datasets/OASIS3\n"
     ]
    }
   ],
   "source": [
    "#%cd /content/drive/MyDrive/Masters_Project/Datasets/OASIS3/"
   ]
  },
  {
   "cell_type": "code",
   "execution_count": 1,
   "metadata": {
    "colab": {
     "base_uri": "https://localhost:8080/"
    },
    "id": "JZu16iC63UUK",
    "outputId": "c6fba1f1-c59f-4836-bbfc-901cbf4ec665"
   },
   "outputs": [
    {
     "name": "stdout",
     "output_type": "stream",
     "text": [
      "1-oasis3-t1w-cdr-split.ipynb\t3-Save_ad-jpg-slices.ipynb  Test-Ganomaly.ipynb\r\n",
      "2-Save_non-ad-jpg-slices.ipynb\t4-load_oasis3_data.ipynb    ganomaly\r\n"
     ]
    }
   ],
   "source": [
    "!ls"
   ]
  },
  {
   "cell_type": "code",
   "execution_count": 2,
   "metadata": {
    "colab": {
     "base_uri": "https://localhost:8080/"
    },
    "id": "dXxoGdws3UUV",
    "outputId": "c1929b34-b558-47af-f272-c571d57545ab"
   },
   "outputs": [
    {
     "name": "stdout",
     "output_type": "stream",
     "text": [
      "Requirement already satisfied: asn1crypto==0.24.0 in /usr/lib/python3/dist-packages (from -r ./ganomaly/requirements.txt (line 1)) (0.24.0)\n",
      "Collecting certifi==2019.6.16\n",
      "  Downloading certifi-2019.6.16-py2.py3-none-any.whl (157 kB)\n",
      "\u001b[K     |████████████████████████████████| 157 kB 3.4 MB/s eta 0:00:01\n",
      "\u001b[?25hCollecting cffi==1.12.3\n",
      "  Downloading cffi-1.12.3-cp36-cp36m-manylinux1_x86_64.whl (430 kB)\n",
      "\u001b[K     |████████████████████████████████| 430 kB 18.7 MB/s eta 0:00:01\n",
      "\u001b[?25hRequirement already satisfied: chardet==3.0.4 in /usr/local/lib/python3.6/dist-packages (from -r ./ganomaly/requirements.txt (line 4)) (3.0.4)\n",
      "Collecting cryptography==2.7\n",
      "  Downloading cryptography-2.7-cp34-abi3-manylinux1_x86_64.whl (2.3 MB)\n",
      "\u001b[K     |████████████████████████████████| 2.3 MB 6.1 MB/s eta 0:00:01\n",
      "\u001b[?25hRequirement already satisfied: cycler==0.10.0 in /usr/local/lib/python3.6/dist-packages (from -r ./ganomaly/requirements.txt (line 6)) (0.10.0)\n",
      "Collecting idna==2.8\n",
      "  Downloading idna-2.8-py2.py3-none-any.whl (58 kB)\n",
      "\u001b[K     |████████████████████████████████| 58 kB 4.5 MB/s eta 0:00:01\n",
      "\u001b[?25hCollecting joblib==0.13.2\n",
      "  Downloading joblib-0.13.2-py2.py3-none-any.whl (278 kB)\n",
      "\u001b[K     |████████████████████████████████| 278 kB 9.7 MB/s eta 0:00:01\n",
      "\u001b[?25hCollecting kiwisolver==1.1.0\n",
      "  Downloading kiwisolver-1.1.0-cp36-cp36m-manylinux1_x86_64.whl (90 kB)\n",
      "\u001b[K     |████████████████████████████████| 90 kB 9.4 MB/s  eta 0:00:01\n",
      "\u001b[?25hCollecting matplotlib==3.1.0\n",
      "  Downloading matplotlib-3.1.0-cp36-cp36m-manylinux1_x86_64.whl (13.1 MB)\n",
      "\u001b[K     |████████████████████████████████| 13.1 MB 12.1 MB/s eta 0:00:01\n",
      "\u001b[?25hCollecting numpy==1.16.4\n",
      "  Downloading numpy-1.16.4-cp36-cp36m-manylinux1_x86_64.whl (17.3 MB)\n",
      "\u001b[K     |████████████████████████████████| 17.3 MB 9.2 MB/s eta 0:00:01\n",
      "\u001b[?25hCollecting olefile==0.46\n",
      "  Downloading olefile-0.46.zip (112 kB)\n",
      "\u001b[K     |████████████████████████████████| 112 kB 9.4 MB/s eta 0:00:01\n",
      "\u001b[?25hRequirement already satisfied: Pillow>=7.1.0 in /usr/local/lib/python3.6/dist-packages (from -r ./ganomaly/requirements.txt (line 13)) (8.0.1)\n",
      "Collecting pycparser==2.19\n",
      "  Downloading pycparser-2.19.tar.gz (158 kB)\n",
      "\u001b[K     |████████████████████████████████| 158 kB 10.9 MB/s eta 0:00:01\n",
      "\u001b[?25hCollecting pyOpenSSL==19.0.0\n",
      "  Downloading pyOpenSSL-19.0.0-py2.py3-none-any.whl (53 kB)\n",
      "\u001b[K     |████████████████████████████████| 53 kB 3.4 MB/s  eta 0:00:01\n",
      "\u001b[?25hCollecting pyparsing==2.4.0\n",
      "  Downloading pyparsing-2.4.0-py2.py3-none-any.whl (62 kB)\n",
      "\u001b[K     |████████████████████████████████| 62 kB 1.8 MB/s  eta 0:00:01\n",
      "\u001b[?25hCollecting PySocks==1.7.0\n",
      "  Downloading PySocks-1.7.0-py3-none-any.whl (16 kB)\n",
      "Collecting python-dateutil==2.8.0\n",
      "  Downloading python_dateutil-2.8.0-py2.py3-none-any.whl (226 kB)\n",
      "\u001b[K     |████████████████████████████████| 226 kB 7.3 MB/s eta 0:00:01\n",
      "\u001b[?25hCollecting pytz==2019.1\n",
      "  Downloading pytz-2019.1-py2.py3-none-any.whl (510 kB)\n",
      "\u001b[K     |████████████████████████████████| 510 kB 4.3 MB/s eta 0:00:01\n",
      "\u001b[?25hCollecting pyzmq==18.0.2\n",
      "  Downloading pyzmq-18.0.2-cp36-cp36m-manylinux1_x86_64.whl (1.1 MB)\n",
      "\u001b[K     |████████████████████████████████| 1.1 MB 8.1 MB/s eta 0:00:01\n",
      "\u001b[?25hCollecting requests==2.22.0\n",
      "  Downloading requests-2.22.0-py2.py3-none-any.whl (57 kB)\n",
      "\u001b[K     |████████████████████████████████| 57 kB 3.4 MB/s eta 0:00:01\n",
      "\u001b[?25hCollecting scikit-learn==0.21.2\n",
      "  Downloading scikit_learn-0.21.2-cp36-cp36m-manylinux1_x86_64.whl (6.7 MB)\n",
      "\u001b[K     |████████████████████████████████| 6.7 MB 5.1 MB/s eta 0:00:01\n",
      "\u001b[?25hCollecting scipy==1.3.0\n",
      "  Downloading scipy-1.3.0-cp36-cp36m-manylinux1_x86_64.whl (25.2 MB)\n",
      "\u001b[K     |████████████████████████████████| 25.2 MB 1.3 MB/s eta 0:00:01\n",
      "\u001b[?25hCollecting six==1.12.0\n",
      "  Downloading six-1.12.0-py2.py3-none-any.whl (10 kB)\n",
      "Collecting torch==1.2.0\n",
      "  Downloading torch-1.2.0-cp36-cp36m-manylinux1_x86_64.whl (748.8 MB)\n",
      "\u001b[K     |████████████████████████████████| 748.8 MB 26 kB/s  eta 0:00:013     |████████████████████▋           | 482.5 MB 7.6 MB/s eta 0:00:36     |█████████████████████████▋      | 599.5 MB 12.6 MB/s eta 0:00:12\n",
      "\u001b[?25hCollecting torchfile==0.1.0\n",
      "  Downloading torchfile-0.1.0.tar.gz (5.2 kB)\n",
      "Collecting torchvision==0.4\n",
      "  Downloading torchvision-0.4.0-cp36-cp36m-manylinux1_x86_64.whl (8.8 MB)\n",
      "\u001b[K     |████████████████████████████████| 8.8 MB 6.4 MB/s eta 0:00:01\n",
      "\u001b[?25hCollecting tornado==6.0.3\n",
      "  Downloading tornado-6.0.3.tar.gz (482 kB)\n",
      "\u001b[K     |████████████████████████████████| 482 kB 7.5 MB/s eta 0:00:01\n",
      "\u001b[?25hCollecting tqdm==4.33.0\n",
      "  Downloading tqdm-4.33.0-py2.py3-none-any.whl (50 kB)\n",
      "\u001b[K     |████████████████████████████████| 50 kB 5.3 MB/s eta 0:00:01\n",
      "\u001b[?25hCollecting urllib3==1.25.3\n",
      "  Downloading urllib3-1.25.3-py2.py3-none-any.whl (150 kB)\n",
      "\u001b[K     |████████████████████████████████| 150 kB 5.7 MB/s eta 0:00:01\n",
      "\u001b[?25hCollecting visdom==0.1.8.8\n",
      "  Downloading visdom-0.1.8.8.tar.gz (1.4 MB)\n",
      "\u001b[K     |████████████████████████████████| 1.4 MB 9.3 MB/s eta 0:00:01\n",
      "\u001b[?25hCollecting websocket-client==0.56.0\n",
      "  Downloading websocket_client-0.56.0-py2.py3-none-any.whl (200 kB)\n",
      "\u001b[K     |████████████████████████████████| 200 kB 11.6 MB/s eta 0:00:01\n",
      "\u001b[?25hRequirement already satisfied: setuptools in /usr/local/lib/python3.6/dist-packages (from kiwisolver==1.1.0->-r ./ganomaly/requirements.txt (line 9)) (51.0.0)\n",
      "Building wheels for collected packages: olefile, pycparser, torchfile, tornado, visdom\n",
      "  Building wheel for olefile (setup.py) ... \u001b[?25ldone\n",
      "\u001b[?25h  Created wheel for olefile: filename=olefile-0.46-py2.py3-none-any.whl size=35416 sha256=4913ae229c2c7d08095e077d1dc3785e527b5eca4006af657b31632abd22edcc\n",
      "  Stored in directory: /root/.cache/pip/wheels/bc/9d/f9/4f5e50f497a2ed398d9786244df90cee57583e92bff76bfc2b\n",
      "  Building wheel for pycparser (setup.py) ... \u001b[?25ldone\n",
      "\u001b[?25h  Created wheel for pycparser: filename=pycparser-2.19-py2.py3-none-any.whl size=111030 sha256=45da773d45dffd98b962c2e7a8d2d77fff64effd88c938b54bd8c8cc5d1b31f4\n",
      "  Stored in directory: /root/.cache/pip/wheels/c6/6b/83/2608afaa57ecfb0a66ac89191a8d9bad71c62ca55ee499c2d0\n",
      "  Building wheel for torchfile (setup.py) ... \u001b[?25ldone\n",
      "\u001b[?25h  Created wheel for torchfile: filename=torchfile-0.1.0-py3-none-any.whl size=5712 sha256=67609162baddda0d87f64ea2c16a39c3a1fd54364c6b82e7f343b6bcd7ca72ab\n",
      "  Stored in directory: /root/.cache/pip/wheels/55/79/ec/084a3a2e348d72852cc0c13c559c923c13ca54db86e699b681\n",
      "  Building wheel for tornado (setup.py) ... \u001b[?25ldone\n",
      "\u001b[?25h  Created wheel for tornado: filename=tornado-6.0.3-cp36-cp36m-linux_x86_64.whl size=423190 sha256=4a77a5e7202f09f59d68d9abb4b63bba0f379e286ef48f6018e3230d9c9ba7b9\n",
      "  Stored in directory: /root/.cache/pip/wheels/b2/92/5c/3bfc125cdf46ab0487727e574f513f9568e9b7974b15237abf\n",
      "  Building wheel for visdom (setup.py) ... \u001b[?25ldone\n",
      "\u001b[?25h  Created wheel for visdom: filename=visdom-0.1.8.8-py3-none-any.whl size=1350602 sha256=e555c5e5086f7fa94df255ab4fe75efe92c6f75095a7aeb8fa254975ac584047\n",
      "  Stored in directory: /root/.cache/pip/wheels/d7/a7/f0/f674fe15e667c8344f2c8ce67581467cd35a77a17620daa475\n",
      "Successfully built olefile pycparser torchfile tornado visdom\n",
      "Installing collected packages: certifi, pycparser, cffi, six, cryptography, idna, joblib, kiwisolver, pyparsing, numpy, python-dateutil, matplotlib, olefile, pyOpenSSL, PySocks, pytz, pyzmq, urllib3, requests, scipy, scikit-learn, torch, torchfile, torchvision, tornado, tqdm, websocket-client, visdom\n",
      "  Attempting uninstall: certifi\n",
      "    Found existing installation: certifi 2020.12.5\n",
      "    Uninstalling certifi-2020.12.5:\n",
      "      Successfully uninstalled certifi-2020.12.5\n",
      "  Attempting uninstall: pycparser\n",
      "    Found existing installation: pycparser 2.20\n",
      "    Uninstalling pycparser-2.20:\n",
      "      Successfully uninstalled pycparser-2.20\n",
      "  Attempting uninstall: cffi\n",
      "    Found existing installation: cffi 1.14.4\n",
      "    Uninstalling cffi-1.14.4:\n",
      "      Successfully uninstalled cffi-1.14.4\n",
      "  Attempting uninstall: six\n",
      "    Found existing installation: six 1.15.0\n",
      "    Uninstalling six-1.15.0:\n",
      "      Successfully uninstalled six-1.15.0\n",
      "  Attempting uninstall: cryptography\n",
      "    Found existing installation: cryptography 2.1.4\n",
      "    Uninstalling cryptography-2.1.4:\n",
      "      Successfully uninstalled cryptography-2.1.4\n",
      "  Attempting uninstall: idna\n",
      "    Found existing installation: idna 2.6\n",
      "    Uninstalling idna-2.6:\n",
      "      Successfully uninstalled idna-2.6\n"
     ]
    },
    {
     "name": "stdout",
     "output_type": "stream",
     "text": [
      "  Attempting uninstall: kiwisolver\n",
      "    Found existing installation: kiwisolver 1.3.1\n",
      "    Uninstalling kiwisolver-1.3.1:\n",
      "      Successfully uninstalled kiwisolver-1.3.1\n",
      "  Attempting uninstall: pyparsing\n",
      "    Found existing installation: pyparsing 2.4.7\n",
      "    Uninstalling pyparsing-2.4.7:\n",
      "      Successfully uninstalled pyparsing-2.4.7\n",
      "  Attempting uninstall: numpy\n",
      "    Found existing installation: numpy 1.19.4\n",
      "    Uninstalling numpy-1.19.4:\n",
      "      Successfully uninstalled numpy-1.19.4\n",
      "  Attempting uninstall: python-dateutil\n",
      "    Found existing installation: python-dateutil 2.8.1\n",
      "    Uninstalling python-dateutil-2.8.1:\n",
      "      Successfully uninstalled python-dateutil-2.8.1\n",
      "  Attempting uninstall: matplotlib\n",
      "    Found existing installation: matplotlib 3.3.3\n",
      "    Uninstalling matplotlib-3.3.3:\n",
      "      Successfully uninstalled matplotlib-3.3.3\n",
      "  Attempting uninstall: pyzmq\n",
      "    Found existing installation: pyzmq 20.0.0\n",
      "    Uninstalling pyzmq-20.0.0:\n",
      "      Successfully uninstalled pyzmq-20.0.0\n",
      "  Attempting uninstall: urllib3\n",
      "    Found existing installation: urllib3 1.26.2\n",
      "    Uninstalling urllib3-1.26.2:\n",
      "      Successfully uninstalled urllib3-1.26.2\n",
      "  Attempting uninstall: requests\n",
      "    Found existing installation: requests 2.25.0\n",
      "    Uninstalling requests-2.25.0:\n",
      "      Successfully uninstalled requests-2.25.0\n",
      "  Attempting uninstall: tornado\n",
      "    Found existing installation: tornado 6.1\n",
      "    Uninstalling tornado-6.1:\n",
      "      Successfully uninstalled tornado-6.1\n",
      "\u001b[31mERROR: After October 2020 you may experience errors when installing or updating packages. This is because pip will change the way that it resolves dependency conflicts.\n",
      "\n",
      "We recommend you use --use-feature=2020-resolver to test your packages with the new resolver before it becomes the default.\n",
      "\n",
      "tf-nightly-gpu 2.5.0.dev20201210 requires numpy~=1.19.2, but you'll have numpy 1.16.4 which is incompatible.\n",
      "tf-nightly-gpu 2.5.0.dev20201210 requires six~=1.15.0, but you'll have six 1.12.0 which is incompatible.\n",
      "nbclient 0.5.1 requires nbformat>=5.0, but you'll have nbformat 4.4.0 which is incompatible.\u001b[0m\n",
      "Successfully installed PySocks-1.7.0 certifi-2019.6.16 cffi-1.12.3 cryptography-2.7 idna-2.8 joblib-0.13.2 kiwisolver-1.1.0 matplotlib-3.1.0 numpy-1.16.4 olefile-0.46 pyOpenSSL-19.0.0 pycparser-2.19 pyparsing-2.4.0 python-dateutil-2.8.0 pytz-2019.1 pyzmq-18.0.2 requests-2.22.0 scikit-learn-0.21.2 scipy-1.3.0 six-1.12.0 torch-1.2.0 torchfile-0.1.0 torchvision-0.4.0 tornado-6.0.3 tqdm-4.33.0 urllib3-1.25.3 visdom-0.1.8.8 websocket-client-0.56.0\n",
      "\u001b[33mWARNING: You are using pip version 20.2.4; however, version 21.0.1 is available.\n",
      "You should consider upgrading via the '/usr/bin/python3 -m pip install --upgrade pip' command.\u001b[0m\n"
     ]
    }
   ],
   "source": [
    "!pip install -r ./ganomaly/requirements.txt"
   ]
  },
  {
   "cell_type": "code",
   "execution_count": 3,
   "metadata": {
    "colab": {
     "base_uri": "https://localhost:8080/"
    },
    "id": "LJXouR6y3UUW",
    "outputId": "b969a65b-86d2-4050-dabe-7d220dfd23a1"
   },
   "outputs": [
    {
     "name": "stdout",
     "output_type": "stream",
     "text": [
      "Collecting mkl-fft\n",
      "  Downloading mkl_fft-1.0.6-cp36-cp36m-manylinux1_x86_64.whl (232 kB)\n",
      "\u001b[K     |████████████████████████████████| 232 kB 4.1 MB/s eta 0:00:01\n",
      "\u001b[?25hCollecting intel-numpy\n",
      "  Downloading intel_numpy-1.15.1-cp36-cp36m-manylinux1_x86_64.whl (6.1 MB)\n",
      "\u001b[K     |████████████████████████████████| 6.1 MB 4.7 MB/s eta 0:00:01\n",
      "\u001b[?25hCollecting tbb4py\n",
      "  Downloading tbb4py-2021.1.1-py36-none-manylinux1_x86_64.whl (425 kB)\n",
      "\u001b[K     |████████████████████████████████| 425 kB 5.7 MB/s eta 0:00:01\n",
      "\u001b[?25hCollecting mkl-random\n",
      "  Downloading mkl_random-1.0.1.1-cp36-cp36m-manylinux1_x86_64.whl (396 kB)\n",
      "\u001b[K     |████████████████████████████████| 396 kB 8.4 MB/s eta 0:00:01\n",
      "\u001b[?25hCollecting mkl\n",
      "  Downloading mkl-2021.1.1-py2.py3-none-manylinux1_x86_64.whl (737.3 MB)\n",
      "\u001b[K     |████████████████████████████████| 737.3 MB 5.3 kB/s  eta 0:00:01    |████▌                           | 102.4 MB 6.7 MB/s eta 0:01:35     |██████████████████████████▍     | 608.3 MB 13.6 MB/s eta 0:00:10     |███████████████████████████▊    | 638.7 MB 7.6 MB/s eta 0:00:14\n",
      "\u001b[?25hCollecting icc-rt\n",
      "  Downloading icc_rt-2020.0.133-py2.py3-none-manylinux1_x86_64.whl (11.2 MB)\n",
      "\u001b[K     |████████████████████████████████| 11.2 MB 12.1 MB/s eta 0:00:01\n",
      "\u001b[?25hCollecting tbb==2021.1.1\n",
      "  Downloading tbb-2021.1.1-py2.py3-none-manylinux1_x86_64.whl (3.6 MB)\n",
      "\u001b[K     |████████████████████████████████| 3.6 MB 5.9 MB/s eta 0:00:01\n",
      "\u001b[?25hCollecting intel-openmp==2021.*\n",
      "  Downloading intel_openmp-2021.1.2-py2.py3-none-manylinux1_x86_64.whl (1.9 MB)\n",
      "\u001b[K     |████████████████████████████████| 1.9 MB 5.8 MB/s eta 0:00:01\n",
      "\u001b[?25hInstalling collected packages: tbb, tbb4py, mkl-random, intel-openmp, mkl, icc-rt, intel-numpy, mkl-fft\n",
      "\u001b[31mERROR: After October 2020 you may experience errors when installing or updating packages. This is because pip will change the way that it resolves dependency conflicts.\n",
      "\n",
      "We recommend you use --use-feature=2020-resolver to test your packages with the new resolver before it becomes the default.\n",
      "\n",
      "icc-rt 2020.0.133 requires intel-openmp==2020.*, but you'll have intel-openmp 2021.1.2 which is incompatible.\u001b[0m\n",
      "Successfully installed icc-rt-2020.0.133 intel-numpy-1.15.1 intel-openmp-2021.1.2 mkl-2021.1.1 mkl-fft-1.0.6 mkl-random-1.0.1.1 tbb-2021.1.1 tbb4py-2021.1.1\n",
      "\u001b[33mWARNING: You are using pip version 20.2.4; however, version 21.0.1 is available.\n",
      "You should consider upgrading via the '/usr/bin/python3 -m pip install --upgrade pip' command.\u001b[0m\n"
     ]
    }
   ],
   "source": [
    "!pip install mkl-fft"
   ]
  },
  {
   "cell_type": "code",
   "execution_count": 4,
   "metadata": {
    "colab": {
     "base_uri": "https://localhost:8080/"
    },
    "id": "ooHk9Hpm5aww",
    "outputId": "ef3b5fb8-82ae-4589-f2b0-6a11284bb978"
   },
   "outputs": [
    {
     "name": "stdout",
     "output_type": "stream",
     "text": [
      "Requirement already satisfied: Pillow in /usr/local/lib/python3.6/dist-packages (8.0.1)\n",
      "\u001b[33mWARNING: You are using pip version 20.2.4; however, version 21.0.1 is available.\n",
      "You should consider upgrading via the '/usr/bin/python3 -m pip install --upgrade pip' command.\u001b[0m\n"
     ]
    }
   ],
   "source": [
    "!pip install Pillow"
   ]
  },
  {
   "cell_type": "markdown",
   "metadata": {
    "id": "vWYyHTRj9Pi6"
   },
   "source": [
    "# imports"
   ]
  },
  {
   "cell_type": "code",
   "execution_count": 9,
   "metadata": {
    "id": "rPv2uxvO3UUW"
   },
   "outputs": [],
   "source": [
    "import os\n",
    "import glob\n",
    "import torch\n",
    "import numpy as np\n",
    "import torchvision.datasets as datasets\n",
    "from torchvision.datasets import ImageFolder\n",
    "import torchvision.transforms as transforms\n"
   ]
  },
  {
   "cell_type": "code",
   "execution_count": 10,
   "metadata": {
    "id": "p32iwcxN3UUW"
   },
   "outputs": [],
   "source": [
    "from PIL import Image\n",
    "#import cv2\n",
    "import os.path\n",
    "import numpy as np\n",
    "import pickle\n",
    "from typing import Any, Callable, Optional, Tuple\n",
    "\n",
    "from torchvision.datasets import VisionDataset\n",
    "from torchvision.datasets.utils import check_integrity, download_and_extract_archive"
   ]
  },
  {
   "cell_type": "code",
   "execution_count": 11,
   "metadata": {
    "colab": {
     "base_uri": "https://localhost:8080/"
    },
    "id": "YxCZS52C3UUW",
    "outputId": "b9290677-cf07-45c5-9c89-e439a05203a7"
   },
   "outputs": [
    {
     "name": "stdout",
     "output_type": "stream",
     "text": [
      "1.2.0\n"
     ]
    }
   ],
   "source": [
    "print(torch.__version__)"
   ]
  },
  {
   "cell_type": "code",
   "execution_count": 12,
   "metadata": {
    "colab": {
     "base_uri": "https://localhost:8080/",
     "height": 35
    },
    "id": "oJArWMRm3UUX",
    "outputId": "8aea24eb-d09f-4eec-da30-77b42bf0d633"
   },
   "outputs": [
    {
     "data": {
      "text/plain": [
       "'0.4.0'"
      ]
     },
     "execution_count": 12,
     "metadata": {},
     "output_type": "execute_result"
    }
   ],
   "source": [
    "import torchvision\n",
    "torchvision.__version__"
   ]
  },
  {
   "cell_type": "markdown",
   "metadata": {
    "id": "xTPtCs-A9RDh"
   },
   "source": [
    "# Create Oasis3 data class"
   ]
  },
  {
   "cell_type": "code",
   "execution_count": 13,
   "metadata": {
    "id": "FXkVpUwV4Xnn"
   },
   "outputs": [],
   "source": [
    "transform = transforms.Compose(\n",
    "    [\n",
    "        transforms.Resize(256),\n",
    "        transforms.ToTensor(),\n",
    "        transforms.Normalize((0.5, 0.5, 0.5), (0.5, 0.5, 0.5))\n",
    "    ]\n",
    ")"
   ]
  },
  {
   "cell_type": "code",
   "execution_count": 19,
   "metadata": {
    "id": "mNw2JbDA3UUY"
   },
   "outputs": [],
   "source": [
    "train_image_number = 140 # Image slice from MRI scans to use for training data\n",
    "\n",
    "base_folder = '/pyt_oasis3'\n",
    "non_ad_jpg_folder = '/tmp/data/t1w_non_ad_jpgs/' + str(train_image_number) + '/'\n",
    "ad_jpg_folder = '/tmp/data/t1w_ad_jpgs/'\n",
    "\n",
    "class Oasis3_train_normal(VisionDataset):\n",
    "    def __init__(self,\n",
    "            root: str,\n",
    "            train: bool = True, # Train or test dataset\n",
    "            transform: Optional[Callable] = None,\n",
    "            target_transform: Optional[Callable] = None) -> None:\n",
    "        super(Oasis3_train_normal, self).__init__(root, transform=transform, target_transform=target_transform)\n",
    "        self.train = train # Train or test set\n",
    "        \n",
    "        self.data = []\n",
    "        self.targets = []\n",
    "        \n",
    "        for file_path in glob.glob(non_ad_jpg_folder+'**.jpg'):\n",
    "            with open (file_path, 'rb') as f:\n",
    "                # image needs to be a PIL image\n",
    "                img = Image.open(f)\n",
    "                # Resize all images 176, 256, 3 -> 256, 256, 0\n",
    "                dsize = (256, 256)\n",
    "                resized = img.resize(dsize)\n",
    "                self.data.append(resized)\n",
    "                self.targets.extend(str(0)) # based on the jpg_folder in for loop\n",
    "        self.data = np.vstack(self.data).reshape(-1, 256, 256)\n",
    "        #self.data = self.data.transpose((0, 2, 3, 1))  # convert to HWC\n",
    "        self.data = self.data.transpose((0, 1, 2))  # convert to HWC\n",
    "\n",
    "    def __getitem__(self, index: int) -> Tuple[Any, Any]:\n",
    "        img, target = self.data[index], self.targets[index]\n",
    "        \n",
    "        img = Image.fromarray(img)\n",
    "        \n",
    "        if self.transform is not None:\n",
    "            img = self.transform(img)\n",
    "\n",
    "        if self.target_transform is not None:\n",
    "            target = self.target_transform(target)\n",
    "\n",
    "        return (img, target)"
   ]
  },
  {
   "cell_type": "code",
   "execution_count": 20,
   "metadata": {
    "colab": {
     "base_uri": "https://localhost:8080/"
    },
    "id": "t53epg7x3UUY",
    "outputId": "54828b44-3893-4d62-8acc-da06d52e1b03"
   },
   "outputs": [],
   "source": [
    "# Issue is i need to make the data transformable inside __getitem__\n",
    "a=Oasis3_train_normal(base_folder, False, transform=transform)"
   ]
  },
  {
   "cell_type": "code",
   "execution_count": 16,
   "metadata": {
    "colab": {
     "base_uri": "https://localhost:8080/"
    },
    "id": "Bpqwrxpo3UUZ",
    "outputId": "bbcf4a05-9ed6-4536-99c1-1967c37e5d29"
   },
   "outputs": [
    {
     "data": {
      "text/plain": [
       "(256, 256)"
      ]
     },
     "execution_count": 16,
     "metadata": {},
     "output_type": "execute_result"
    }
   ],
   "source": [
    "# OpenCV ---\n",
    "# Original: (176, 256, 3)\n",
    "# Re-shaped up: (3, 256, 256)\n",
    "# After transform: (3, 256, 256)\n",
    "# PIL ---\n",
    "# Shape : (256, 256)\n",
    "a.data[0].shape"
   ]
  },
  {
   "cell_type": "code",
   "execution_count": 21,
   "metadata": {
    "id": "_JzUbocMHkcD"
   },
   "outputs": [
    {
     "ename": "RuntimeError",
     "evalue": "output with shape [1, 256, 256] doesn't match the broadcast shape [3, 256, 256]",
     "output_type": "error",
     "traceback": [
      "\u001b[0;31m---------------------------------------------------------------------------\u001b[0m",
      "\u001b[0;31mRuntimeError\u001b[0m                              Traceback (most recent call last)",
      "\u001b[0;32m<ipython-input-21-310f93d4a308>\u001b[0m in \u001b[0;36m<module>\u001b[0;34m\u001b[0m\n\u001b[1;32m      1\u001b[0m \u001b[0;31m# The class should be index into which invokes the __getitem__ call\u001b[0m\u001b[0;34m\u001b[0m\u001b[0;34m\u001b[0m\u001b[0;34m\u001b[0m\u001b[0m\n\u001b[0;32m----> 2\u001b[0;31m \u001b[0ma\u001b[0m\u001b[0;34m[\u001b[0m\u001b[0;36m0\u001b[0m\u001b[0;34m]\u001b[0m\u001b[0;34m.\u001b[0m\u001b[0mshape\u001b[0m\u001b[0;34m\u001b[0m\u001b[0;34m\u001b[0m\u001b[0m\n\u001b[0m",
      "\u001b[0;32m<ipython-input-19-c44f81622940>\u001b[0m in \u001b[0;36m__getitem__\u001b[0;34m(self, index)\u001b[0m\n\u001b[1;32m     36\u001b[0m \u001b[0;34m\u001b[0m\u001b[0m\n\u001b[1;32m     37\u001b[0m         \u001b[0;32mif\u001b[0m \u001b[0mself\u001b[0m\u001b[0;34m.\u001b[0m\u001b[0mtransform\u001b[0m \u001b[0;32mis\u001b[0m \u001b[0;32mnot\u001b[0m \u001b[0;32mNone\u001b[0m\u001b[0;34m:\u001b[0m\u001b[0;34m\u001b[0m\u001b[0;34m\u001b[0m\u001b[0m\n\u001b[0;32m---> 38\u001b[0;31m             \u001b[0mimg\u001b[0m \u001b[0;34m=\u001b[0m \u001b[0mself\u001b[0m\u001b[0;34m.\u001b[0m\u001b[0mtransform\u001b[0m\u001b[0;34m(\u001b[0m\u001b[0mimg\u001b[0m\u001b[0;34m)\u001b[0m\u001b[0;34m\u001b[0m\u001b[0;34m\u001b[0m\u001b[0m\n\u001b[0m\u001b[1;32m     39\u001b[0m \u001b[0;34m\u001b[0m\u001b[0m\n\u001b[1;32m     40\u001b[0m         \u001b[0;32mif\u001b[0m \u001b[0mself\u001b[0m\u001b[0;34m.\u001b[0m\u001b[0mtarget_transform\u001b[0m \u001b[0;32mis\u001b[0m \u001b[0;32mnot\u001b[0m \u001b[0;32mNone\u001b[0m\u001b[0;34m:\u001b[0m\u001b[0;34m\u001b[0m\u001b[0;34m\u001b[0m\u001b[0m\n",
      "\u001b[0;32m/usr/local/lib/python3.6/dist-packages/torchvision/transforms/transforms.py\u001b[0m in \u001b[0;36m__call__\u001b[0;34m(self, img)\u001b[0m\n\u001b[1;32m     59\u001b[0m     \u001b[0;32mdef\u001b[0m \u001b[0m__call__\u001b[0m\u001b[0;34m(\u001b[0m\u001b[0mself\u001b[0m\u001b[0;34m,\u001b[0m \u001b[0mimg\u001b[0m\u001b[0;34m)\u001b[0m\u001b[0;34m:\u001b[0m\u001b[0;34m\u001b[0m\u001b[0;34m\u001b[0m\u001b[0m\n\u001b[1;32m     60\u001b[0m         \u001b[0;32mfor\u001b[0m \u001b[0mt\u001b[0m \u001b[0;32min\u001b[0m \u001b[0mself\u001b[0m\u001b[0;34m.\u001b[0m\u001b[0mtransforms\u001b[0m\u001b[0;34m:\u001b[0m\u001b[0;34m\u001b[0m\u001b[0;34m\u001b[0m\u001b[0m\n\u001b[0;32m---> 61\u001b[0;31m             \u001b[0mimg\u001b[0m \u001b[0;34m=\u001b[0m \u001b[0mt\u001b[0m\u001b[0;34m(\u001b[0m\u001b[0mimg\u001b[0m\u001b[0;34m)\u001b[0m\u001b[0;34m\u001b[0m\u001b[0;34m\u001b[0m\u001b[0m\n\u001b[0m\u001b[1;32m     62\u001b[0m         \u001b[0;32mreturn\u001b[0m \u001b[0mimg\u001b[0m\u001b[0;34m\u001b[0m\u001b[0;34m\u001b[0m\u001b[0m\n\u001b[1;32m     63\u001b[0m \u001b[0;34m\u001b[0m\u001b[0m\n",
      "\u001b[0;32m/usr/local/lib/python3.6/dist-packages/torchvision/transforms/transforms.py\u001b[0m in \u001b[0;36m__call__\u001b[0;34m(self, tensor)\u001b[0m\n\u001b[1;32m    164\u001b[0m             \u001b[0mTensor\u001b[0m\u001b[0;34m:\u001b[0m \u001b[0mNormalized\u001b[0m \u001b[0mTensor\u001b[0m \u001b[0mimage\u001b[0m\u001b[0;34m.\u001b[0m\u001b[0;34m\u001b[0m\u001b[0;34m\u001b[0m\u001b[0m\n\u001b[1;32m    165\u001b[0m         \"\"\"\n\u001b[0;32m--> 166\u001b[0;31m         \u001b[0;32mreturn\u001b[0m \u001b[0mF\u001b[0m\u001b[0;34m.\u001b[0m\u001b[0mnormalize\u001b[0m\u001b[0;34m(\u001b[0m\u001b[0mtensor\u001b[0m\u001b[0;34m,\u001b[0m \u001b[0mself\u001b[0m\u001b[0;34m.\u001b[0m\u001b[0mmean\u001b[0m\u001b[0;34m,\u001b[0m \u001b[0mself\u001b[0m\u001b[0;34m.\u001b[0m\u001b[0mstd\u001b[0m\u001b[0;34m,\u001b[0m \u001b[0mself\u001b[0m\u001b[0;34m.\u001b[0m\u001b[0minplace\u001b[0m\u001b[0;34m)\u001b[0m\u001b[0;34m\u001b[0m\u001b[0;34m\u001b[0m\u001b[0m\n\u001b[0m\u001b[1;32m    167\u001b[0m \u001b[0;34m\u001b[0m\u001b[0m\n\u001b[1;32m    168\u001b[0m     \u001b[0;32mdef\u001b[0m \u001b[0m__repr__\u001b[0m\u001b[0;34m(\u001b[0m\u001b[0mself\u001b[0m\u001b[0;34m)\u001b[0m\u001b[0;34m:\u001b[0m\u001b[0;34m\u001b[0m\u001b[0;34m\u001b[0m\u001b[0m\n",
      "\u001b[0;32m/usr/local/lib/python3.6/dist-packages/torchvision/transforms/functional.py\u001b[0m in \u001b[0;36mnormalize\u001b[0;34m(tensor, mean, std, inplace)\u001b[0m\n\u001b[1;32m    215\u001b[0m     \u001b[0mmean\u001b[0m \u001b[0;34m=\u001b[0m \u001b[0mtorch\u001b[0m\u001b[0;34m.\u001b[0m\u001b[0mas_tensor\u001b[0m\u001b[0;34m(\u001b[0m\u001b[0mmean\u001b[0m\u001b[0;34m,\u001b[0m \u001b[0mdtype\u001b[0m\u001b[0;34m=\u001b[0m\u001b[0mdtype\u001b[0m\u001b[0;34m,\u001b[0m \u001b[0mdevice\u001b[0m\u001b[0;34m=\u001b[0m\u001b[0mtensor\u001b[0m\u001b[0;34m.\u001b[0m\u001b[0mdevice\u001b[0m\u001b[0;34m)\u001b[0m\u001b[0;34m\u001b[0m\u001b[0;34m\u001b[0m\u001b[0m\n\u001b[1;32m    216\u001b[0m     \u001b[0mstd\u001b[0m \u001b[0;34m=\u001b[0m \u001b[0mtorch\u001b[0m\u001b[0;34m.\u001b[0m\u001b[0mas_tensor\u001b[0m\u001b[0;34m(\u001b[0m\u001b[0mstd\u001b[0m\u001b[0;34m,\u001b[0m \u001b[0mdtype\u001b[0m\u001b[0;34m=\u001b[0m\u001b[0mdtype\u001b[0m\u001b[0;34m,\u001b[0m \u001b[0mdevice\u001b[0m\u001b[0;34m=\u001b[0m\u001b[0mtensor\u001b[0m\u001b[0;34m.\u001b[0m\u001b[0mdevice\u001b[0m\u001b[0;34m)\u001b[0m\u001b[0;34m\u001b[0m\u001b[0;34m\u001b[0m\u001b[0m\n\u001b[0;32m--> 217\u001b[0;31m     \u001b[0mtensor\u001b[0m\u001b[0;34m.\u001b[0m\u001b[0msub_\u001b[0m\u001b[0;34m(\u001b[0m\u001b[0mmean\u001b[0m\u001b[0;34m[\u001b[0m\u001b[0;34m:\u001b[0m\u001b[0;34m,\u001b[0m \u001b[0;32mNone\u001b[0m\u001b[0;34m,\u001b[0m \u001b[0;32mNone\u001b[0m\u001b[0;34m]\u001b[0m\u001b[0;34m)\u001b[0m\u001b[0;34m.\u001b[0m\u001b[0mdiv_\u001b[0m\u001b[0;34m(\u001b[0m\u001b[0mstd\u001b[0m\u001b[0;34m[\u001b[0m\u001b[0;34m:\u001b[0m\u001b[0;34m,\u001b[0m \u001b[0;32mNone\u001b[0m\u001b[0;34m,\u001b[0m \u001b[0;32mNone\u001b[0m\u001b[0;34m]\u001b[0m\u001b[0;34m)\u001b[0m\u001b[0;34m\u001b[0m\u001b[0;34m\u001b[0m\u001b[0m\n\u001b[0m\u001b[1;32m    218\u001b[0m     \u001b[0;32mreturn\u001b[0m \u001b[0mtensor\u001b[0m\u001b[0;34m\u001b[0m\u001b[0;34m\u001b[0m\u001b[0m\n\u001b[1;32m    219\u001b[0m \u001b[0;34m\u001b[0m\u001b[0m\n",
      "\u001b[0;31mRuntimeError\u001b[0m: output with shape [1, 256, 256] doesn't match the broadcast shape [3, 256, 256]"
     ]
    }
   ],
   "source": [
    "# The class should be index into which invokes the __getitem__ call\n",
    "a[0].shape"
   ]
  },
  {
   "cell_type": "markdown",
   "metadata": {},
   "source": []
  },
  {
   "cell_type": "markdown",
   "metadata": {
    "id": "58QWe9bXF7jF"
   },
   "source": [
    "# PIL image reading"
   ]
  },
  {
   "cell_type": "code",
   "execution_count": 96,
   "metadata": {
    "id": "zcx_VdcEF9KT"
   },
   "outputs": [],
   "source": [
    "data = []\n",
    "with open ('./t1w_non_ad_jpgs/140/OAS30074_ses-d0049_run-01_T1w.jpg', 'rb') as f:\n",
    "  img = Image.open(f)\n",
    "  dsize = (256, 256)\n",
    "  resized = img.resize(dsize)\n",
    "  data.append(resized)"
   ]
  },
  {
   "cell_type": "code",
   "execution_count": 102,
   "metadata": {
    "colab": {
     "base_uri": "https://localhost:8080/"
    },
    "id": "8xGTRd0PGkjM",
    "outputId": "c662e657-cb36-4109-b1ad-4e624eee9a91"
   },
   "outputs": [
    {
     "data": {
      "text/plain": [
       "(256, 256)"
      ]
     },
     "execution_count": 102,
     "metadata": {
      "tags": []
     },
     "output_type": "execute_result"
    }
   ],
   "source": [
    "data[0].size"
   ]
  },
  {
   "cell_type": "markdown",
   "metadata": {
    "id": "nYzuih0i9MT7"
   },
   "source": [
    "# CIFAR data representation testing"
   ]
  },
  {
   "cell_type": "code",
   "execution_count": 55,
   "metadata": {
    "id": "jhBpO-ZNtOGk"
   },
   "outputs": [],
   "source": [
    "from torchvision.datasets import CIFAR10"
   ]
  },
  {
   "cell_type": "code",
   "execution_count": 57,
   "metadata": {
    "colab": {
     "base_uri": "https://localhost:8080/"
    },
    "id": "lZa6L_x-68g9",
    "outputId": "2146a331-0e68-4dc4-8342-e326bc6e9718"
   },
   "outputs": [
    {
     "name": "stderr",
     "output_type": "stream",
     "text": [
      "\n",
      "\n",
      "0it [00:00, ?it/s]\u001b[A\u001b[A\n",
      "\n",
      "  0%|          | 0/170498071 [00:00<?, ?it/s]\u001b[A\u001b[A"
     ]
    },
    {
     "name": "stdout",
     "output_type": "stream",
     "text": [
      "Downloading https://www.cs.toronto.edu/~kriz/cifar-10-python.tar.gz to ./cifar-10-python.tar.gz\n"
     ]
    },
    {
     "name": "stderr",
     "output_type": "stream",
     "text": [
      "\n",
      "\n",
      "  0%|          | 57344/170498071 [00:00<05:29, 516692.23it/s]\u001b[A\u001b[A\n",
      "\n",
      "  0%|          | 286720/170498071 [00:00<04:14, 668180.87it/s]\u001b[A\u001b[A\n",
      "\n",
      "  1%|          | 1171456/170498071 [00:00<03:03, 922090.63it/s]\u001b[A\u001b[A\n",
      "\n",
      "  2%|▏         | 4022272/170498071 [00:00<02:08, 1299237.00it/s]\u001b[A\u001b[A\n",
      "\n",
      "  5%|▌         | 9019392/170498071 [00:00<01:28, 1834651.66it/s]\u001b[A\u001b[A\n",
      "\n",
      "  8%|▊         | 14475264/170498071 [00:00<01:00, 2580404.68it/s]\u001b[A\u001b[A\n",
      "\n",
      " 12%|█▏        | 20045824/170498071 [00:00<00:41, 3608584.65it/s]\u001b[A\u001b[A\n",
      "\n",
      " 15%|█▌        | 25583616/170498071 [00:01<00:28, 5003845.87it/s]\u001b[A\u001b[A\n",
      "\n",
      " 18%|█▊        | 31039488/170498071 [00:01<00:20, 6855204.30it/s]\u001b[A\u001b[A\n",
      "\n",
      " 21%|██▏       | 36577280/170498071 [00:01<00:14, 9258802.64it/s]\u001b[A\u001b[A\n",
      "\n",
      " 25%|██▍       | 42213376/170498071 [00:01<00:10, 12285662.64it/s]\u001b[A\u001b[A\n",
      "\n",
      " 28%|██▊       | 47898624/170498071 [00:01<00:07, 15961697.38it/s]\u001b[A\u001b[A\n",
      "\n",
      " 32%|███▏      | 53747712/170498071 [00:01<00:05, 20414458.50it/s]\u001b[A\u001b[A\n",
      "\n",
      " 35%|███▍      | 58990592/170498071 [00:01<00:04, 24991985.35it/s]\u001b[A\u001b[A\n",
      "\n",
      " 38%|███▊      | 64495616/170498071 [00:01<00:03, 29816226.17it/s]\u001b[A\u001b[A\n",
      "\n",
      " 41%|████      | 69779456/170498071 [00:01<00:02, 33732690.98it/s]\u001b[A\u001b[A\n",
      "\n",
      " 44%|████▍     | 74981376/170498071 [00:01<00:02, 37700815.26it/s]\u001b[A\u001b[A\n",
      "\n",
      " 47%|████▋     | 80289792/170498071 [00:02<00:02, 41170334.67it/s]\u001b[A\u001b[A\n",
      "\n",
      " 50%|█████     | 85483520/170498071 [00:02<00:01, 42963568.95it/s]\u001b[A\u001b[A\n",
      "\n",
      " 53%|█████▎    | 90587136/170498071 [00:02<00:01, 45100862.91it/s]\u001b[A\u001b[A\n",
      "\n",
      " 56%|█████▌    | 95666176/170498071 [00:02<00:01, 46570440.88it/s]\u001b[A\u001b[A\n",
      "\n",
      " 59%|█████▉    | 100737024/170498071 [00:02<00:01, 47164111.67it/s]\u001b[A\u001b[A\n",
      "\n",
      " 62%|██████▏   | 105848832/170498071 [00:02<00:01, 48284204.58it/s]\u001b[A\u001b[A\n",
      "\n",
      " 65%|██████▌   | 110886912/170498071 [00:02<00:01, 47685488.77it/s]\u001b[A\u001b[A\n",
      "\n",
      " 68%|██████▊   | 116465664/170498071 [00:02<00:01, 49812668.24it/s]\u001b[A\u001b[A\n",
      "\n",
      " 71%|███████▏  | 121708544/170498071 [00:02<00:00, 50560552.43it/s]\u001b[A\u001b[A\n",
      "\n",
      " 74%|███████▍  | 126861312/170498071 [00:03<00:00, 48223643.68it/s]\u001b[A\u001b[A\n",
      "\n",
      " 77%|███████▋  | 131776512/170498071 [00:03<00:00, 47728640.71it/s]\u001b[A\u001b[A\n",
      "\n",
      " 80%|████████  | 136847360/170498071 [00:03<00:00, 48445136.79it/s]\u001b[A\u001b[A\n",
      "\n",
      " 83%|████████▎ | 141746176/170498071 [00:03<00:00, 47290638.55it/s]\u001b[A\u001b[A\n",
      "\n",
      " 86%|████████▌ | 146513920/170498071 [00:03<00:00, 47299263.32it/s]\u001b[A\u001b[A\n",
      "\n",
      " 89%|████████▉ | 151592960/170498071 [00:03<00:00, 47931424.15it/s]\u001b[A\u001b[A\n",
      "\n",
      " 92%|█████████▏| 157032448/170498071 [00:03<00:00, 49672322.44it/s]\u001b[A\u001b[A\n",
      "\n",
      " 95%|█████████▌| 162078720/170498071 [00:03<00:00, 49655872.69it/s]\u001b[A\u001b[A\n",
      "\n",
      " 98%|█████████▊| 167534592/170498071 [00:03<00:00, 50997876.39it/s]\u001b[A\u001b[A\n",
      "\n",
      "170500096it [00:03, 43509063.26it/s]                               \u001b[A\u001b[A"
     ]
    },
    {
     "name": "stdout",
     "output_type": "stream",
     "text": [
      "Extracting ./cifar-10-python.tar.gz to ./\n"
     ]
    }
   ],
   "source": [
    "transform = transforms.Compose(\n",
    "    [\n",
    "        transforms.Resize(32),\n",
    "        transforms.ToTensor(),\n",
    "        transforms.Normalize((0.5, 0.5, 0.5), (0.5, 0.5, 0.5))\n",
    "    ]\n",
    ")\n",
    "\n",
    "dataset = {}\n",
    "dataset['train'] = CIFAR10(root='./', train=True, download=True, transform=transform)"
   ]
  },
  {
   "cell_type": "code",
   "execution_count": 59,
   "metadata": {
    "colab": {
     "base_uri": "https://localhost:8080/"
    },
    "id": "YPNTVQ_m7FYa",
    "outputId": "4f3489a9-4877-4227-b853-df3f48ffd880"
   },
   "outputs": [
    {
     "data": {
      "text/plain": [
       "torchvision.datasets.cifar.CIFAR10"
      ]
     },
     "execution_count": 59,
     "metadata": {
      "tags": []
     },
     "output_type": "execute_result"
    }
   ],
   "source": [
    "type(dataset['train'])"
   ]
  },
  {
   "cell_type": "code",
   "execution_count": 65,
   "metadata": {
    "id": "79cSYdn27Sma"
   },
   "outputs": [],
   "source": [
    "elt = dataset['train'][0]"
   ]
  },
  {
   "cell_type": "code",
   "execution_count": 71,
   "metadata": {
    "colab": {
     "base_uri": "https://localhost:8080/"
    },
    "id": "RsiAtOru8AsB",
    "outputId": "9726ce63-ddd1-4465-d705-aae3daddfa50"
   },
   "outputs": [
    {
     "data": {
      "text/plain": [
       "tuple"
      ]
     },
     "execution_count": 71,
     "metadata": {
      "tags": []
     },
     "output_type": "execute_result"
    }
   ],
   "source": [
    "type(elt)"
   ]
  },
  {
   "cell_type": "code",
   "execution_count": 76,
   "metadata": {
    "colab": {
     "base_uri": "https://localhost:8080/"
    },
    "id": "OQ6I_k9k8mBz",
    "outputId": "809c5396-5730-4c9d-a9c9-8ad82388420b"
   },
   "outputs": [
    {
     "data": {
      "text/plain": [
       "torch.Size([3, 32, 32])"
      ]
     },
     "execution_count": 76,
     "metadata": {
      "tags": []
     },
     "output_type": "execute_result"
    }
   ],
   "source": [
    "elt[0].shape"
   ]
  },
  {
   "cell_type": "code",
   "execution_count": null,
   "metadata": {
    "id": "-sVkd4v-8m3h"
   },
   "outputs": [],
   "source": []
  }
 ],
 "metadata": {
  "colab": {
   "name": "4-load_oasis3_data.ipynb",
   "provenance": []
  },
  "kernelspec": {
   "display_name": "Python 3",
   "language": "python",
   "name": "python3"
  },
  "language_info": {
   "codemirror_mode": {
    "name": "ipython",
    "version": 3
   },
   "file_extension": ".py",
   "mimetype": "text/x-python",
   "name": "python",
   "nbconvert_exporter": "python",
   "pygments_lexer": "ipython3",
   "version": "3.6.9"
  }
 },
 "nbformat": 4,
 "nbformat_minor": 1
}
