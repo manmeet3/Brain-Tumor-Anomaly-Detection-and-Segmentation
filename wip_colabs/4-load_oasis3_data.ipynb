{
  "nbformat": 4,
  "nbformat_minor": 0,
  "metadata": {
    "kernelspec": {
      "display_name": "Python 3",
      "language": "python",
      "name": "python3"
    },
    "language_info": {
      "codemirror_mode": {
        "name": "ipython",
        "version": 3
      },
      "file_extension": ".py",
      "mimetype": "text/x-python",
      "name": "python",
      "nbconvert_exporter": "python",
      "pygments_lexer": "ipython3",
      "version": "3.6.9"
    },
    "colab": {
      "name": "4-load_oasis3_data.ipynb",
      "provenance": []
    }
  },
  "cells": [
    {
      "cell_type": "code",
      "metadata": {
        "id": "tvU5vMeB3tL8",
        "outputId": "028ffc3d-2dd6-4493-a446-40f67bd2256e",
        "colab": {
          "base_uri": "https://localhost:8080/"
        }
      },
      "source": [
        "from google.colab import drive\r\n",
        "drive.mount(\"/content/drive\")"
      ],
      "execution_count": 2,
      "outputs": [
        {
          "output_type": "stream",
          "text": [
            "Drive already mounted at /content/drive; to attempt to forcibly remount, call drive.mount(\"/content/drive\", force_remount=True).\n"
          ],
          "name": "stdout"
        }
      ]
    },
    {
      "cell_type": "code",
      "metadata": {
        "id": "hPD5t7AP35Ba",
        "outputId": "a6aa2084-3345-4d3b-d51f-86a21440b641",
        "colab": {
          "base_uri": "https://localhost:8080/"
        }
      },
      "source": [
        "%cd /content/drive/MyDrive/Masters_Project/Datasets/OASIS3/"
      ],
      "execution_count": 3,
      "outputs": [
        {
          "output_type": "stream",
          "text": [
            "/content/drive/.shortcut-targets-by-id/1bqqm9-0FMOqiqyH_NIQBh-lJ36pWa7aX/Masters_Project/Datasets/OASIS3\n"
          ],
          "name": "stdout"
        }
      ]
    },
    {
      "cell_type": "code",
      "metadata": {
        "id": "JZu16iC63UUK",
        "outputId": "c6fba1f1-c59f-4836-bbfc-901cbf4ec665",
        "colab": {
          "base_uri": "https://localhost:8080/"
        }
      },
      "source": [
        "!ls"
      ],
      "execution_count": 4,
      "outputs": [
        {
          "output_type": "stream",
          "text": [
            " data\t\t   oasis-scripts\t'Usage Instructions.gdoc'\n",
            " downloaded_data   t1w_non_ad_jpgs\n",
            " fa20\t\t   t1w_non_ad_patients\n"
          ],
          "name": "stdout"
        }
      ]
    },
    {
      "cell_type": "code",
      "metadata": {
        "id": "dXxoGdws3UUV",
        "outputId": "c1929b34-b558-47af-f272-c571d57545ab",
        "colab": {
          "base_uri": "https://localhost:8080/"
        }
      },
      "source": [
        "!pip install -r ../../Code/ganomaly/requirements.txt"
      ],
      "execution_count": 5,
      "outputs": [
        {
          "output_type": "stream",
          "text": [
            "Requirement already satisfied: asn1crypto==0.24.0 in /usr/local/lib/python3.6/dist-packages (from -r ../../Code/ganomaly/requirements.txt (line 1)) (0.24.0)\n",
            "Requirement already satisfied: certifi==2019.6.16 in /usr/local/lib/python3.6/dist-packages (from -r ../../Code/ganomaly/requirements.txt (line 2)) (2019.6.16)\n",
            "Requirement already satisfied: cffi==1.12.3 in /usr/local/lib/python3.6/dist-packages (from -r ../../Code/ganomaly/requirements.txt (line 3)) (1.12.3)\n",
            "Requirement already satisfied: chardet==3.0.4 in /usr/local/lib/python3.6/dist-packages (from -r ../../Code/ganomaly/requirements.txt (line 4)) (3.0.4)\n",
            "Requirement already satisfied: cryptography==2.7 in /usr/local/lib/python3.6/dist-packages (from -r ../../Code/ganomaly/requirements.txt (line 5)) (2.7)\n",
            "Requirement already satisfied: cycler==0.10.0 in /usr/local/lib/python3.6/dist-packages (from -r ../../Code/ganomaly/requirements.txt (line 6)) (0.10.0)\n",
            "Requirement already satisfied: idna==2.8 in /usr/local/lib/python3.6/dist-packages (from -r ../../Code/ganomaly/requirements.txt (line 7)) (2.8)\n",
            "Requirement already satisfied: joblib==0.13.2 in /usr/local/lib/python3.6/dist-packages (from -r ../../Code/ganomaly/requirements.txt (line 8)) (0.13.2)\n",
            "Requirement already satisfied: kiwisolver==1.1.0 in /usr/local/lib/python3.6/dist-packages (from -r ../../Code/ganomaly/requirements.txt (line 9)) (1.1.0)\n",
            "Requirement already satisfied: matplotlib==3.1.0 in /usr/local/lib/python3.6/dist-packages (from -r ../../Code/ganomaly/requirements.txt (line 10)) (3.1.0)\n",
            "Requirement already satisfied: numpy==1.16.4 in /usr/local/lib/python3.6/dist-packages (from -r ../../Code/ganomaly/requirements.txt (line 11)) (1.16.4)\n",
            "Requirement already satisfied: olefile==0.46 in /usr/local/lib/python3.6/dist-packages (from -r ../../Code/ganomaly/requirements.txt (line 12)) (0.46)\n",
            "Requirement already satisfied: Pillow>=7.1.0 in /usr/local/lib/python3.6/dist-packages (from -r ../../Code/ganomaly/requirements.txt (line 13)) (8.1.0)\n",
            "Requirement already satisfied: pycparser==2.19 in /usr/local/lib/python3.6/dist-packages (from -r ../../Code/ganomaly/requirements.txt (line 14)) (2.19)\n",
            "Requirement already satisfied: pyOpenSSL==19.0.0 in /usr/local/lib/python3.6/dist-packages (from -r ../../Code/ganomaly/requirements.txt (line 15)) (19.0.0)\n",
            "Requirement already satisfied: pyparsing==2.4.0 in /usr/local/lib/python3.6/dist-packages (from -r ../../Code/ganomaly/requirements.txt (line 16)) (2.4.0)\n",
            "Requirement already satisfied: PySocks==1.7.0 in /usr/local/lib/python3.6/dist-packages (from -r ../../Code/ganomaly/requirements.txt (line 17)) (1.7.0)\n",
            "Requirement already satisfied: python-dateutil==2.8.0 in /usr/local/lib/python3.6/dist-packages (from -r ../../Code/ganomaly/requirements.txt (line 18)) (2.8.0)\n",
            "Requirement already satisfied: pytz==2019.1 in /usr/local/lib/python3.6/dist-packages (from -r ../../Code/ganomaly/requirements.txt (line 19)) (2019.1)\n",
            "Requirement already satisfied: pyzmq==18.0.2 in /usr/local/lib/python3.6/dist-packages (from -r ../../Code/ganomaly/requirements.txt (line 20)) (18.0.2)\n",
            "Requirement already satisfied: requests==2.22.0 in /usr/local/lib/python3.6/dist-packages (from -r ../../Code/ganomaly/requirements.txt (line 21)) (2.22.0)\n",
            "Requirement already satisfied: scikit-learn==0.21.2 in /usr/local/lib/python3.6/dist-packages (from -r ../../Code/ganomaly/requirements.txt (line 22)) (0.21.2)\n",
            "Requirement already satisfied: scipy==1.3.0 in /usr/local/lib/python3.6/dist-packages (from -r ../../Code/ganomaly/requirements.txt (line 23)) (1.3.0)\n",
            "Requirement already satisfied: six==1.12.0 in /usr/local/lib/python3.6/dist-packages (from -r ../../Code/ganomaly/requirements.txt (line 24)) (1.12.0)\n",
            "Requirement already satisfied: torch==1.2.0 in /usr/local/lib/python3.6/dist-packages (from -r ../../Code/ganomaly/requirements.txt (line 25)) (1.2.0)\n",
            "Requirement already satisfied: torchfile==0.1.0 in /usr/local/lib/python3.6/dist-packages (from -r ../../Code/ganomaly/requirements.txt (line 26)) (0.1.0)\n",
            "Requirement already satisfied: torchvision==0.4 in /usr/local/lib/python3.6/dist-packages (from -r ../../Code/ganomaly/requirements.txt (line 27)) (0.4.0)\n",
            "Requirement already satisfied: tornado==6.0.3 in /usr/local/lib/python3.6/dist-packages (from -r ../../Code/ganomaly/requirements.txt (line 28)) (6.0.3)\n",
            "Requirement already satisfied: tqdm==4.33.0 in /usr/local/lib/python3.6/dist-packages (from -r ../../Code/ganomaly/requirements.txt (line 29)) (4.33.0)\n",
            "Requirement already satisfied: urllib3==1.25.3 in /usr/local/lib/python3.6/dist-packages (from -r ../../Code/ganomaly/requirements.txt (line 30)) (1.25.3)\n",
            "Requirement already satisfied: visdom==0.1.8.8 in /usr/local/lib/python3.6/dist-packages (from -r ../../Code/ganomaly/requirements.txt (line 31)) (0.1.8.8)\n",
            "Requirement already satisfied: websocket-client==0.56.0 in /usr/local/lib/python3.6/dist-packages (from -r ../../Code/ganomaly/requirements.txt (line 32)) (0.56.0)\n",
            "Requirement already satisfied: setuptools in /usr/local/lib/python3.6/dist-packages (from kiwisolver==1.1.0->-r ../../Code/ganomaly/requirements.txt (line 9)) (53.0.0)\n"
          ],
          "name": "stdout"
        }
      ]
    },
    {
      "cell_type": "code",
      "metadata": {
        "id": "LJXouR6y3UUW",
        "outputId": "b969a65b-86d2-4050-dabe-7d220dfd23a1",
        "colab": {
          "base_uri": "https://localhost:8080/"
        }
      },
      "source": [
        "!pip install mkl-fft"
      ],
      "execution_count": 6,
      "outputs": [
        {
          "output_type": "stream",
          "text": [
            "Requirement already satisfied: mkl-fft in /usr/local/lib/python3.6/dist-packages (1.0.6)\n",
            "Requirement already satisfied: intel-numpy in /usr/local/lib/python3.6/dist-packages (from mkl-fft) (1.15.1)\n",
            "Requirement already satisfied: mkl-random in /usr/local/lib/python3.6/dist-packages (from intel-numpy->mkl-fft) (1.0.1.1)\n",
            "Requirement already satisfied: icc-rt in /usr/local/lib/python3.6/dist-packages (from intel-numpy->mkl-fft) (2020.0.133)\n",
            "Requirement already satisfied: mkl in /usr/local/lib/python3.6/dist-packages (from intel-numpy->mkl-fft) (2019.0)\n",
            "Requirement already satisfied: tbb4py in /usr/local/lib/python3.6/dist-packages (from intel-numpy->mkl-fft) (2019.0)\n",
            "Requirement already satisfied: intel-openmp==2020.* in /usr/local/lib/python3.6/dist-packages (from icc-rt->intel-numpy->mkl-fft) (2020.0.133)\n",
            "Requirement already satisfied: tbb==2019.* in /usr/local/lib/python3.6/dist-packages (from tbb4py->intel-numpy->mkl-fft) (2019.0)\n"
          ],
          "name": "stdout"
        }
      ]
    },
    {
      "cell_type": "code",
      "metadata": {
        "id": "ooHk9Hpm5aww",
        "outputId": "ef3b5fb8-82ae-4589-f2b0-6a11284bb978",
        "colab": {
          "base_uri": "https://localhost:8080/"
        }
      },
      "source": [
        "!pip install Pillow"
      ],
      "execution_count": 7,
      "outputs": [
        {
          "output_type": "stream",
          "text": [
            "Requirement already satisfied: Pillow in /usr/local/lib/python3.6/dist-packages (8.1.0)\n"
          ],
          "name": "stdout"
        }
      ]
    },
    {
      "cell_type": "markdown",
      "metadata": {
        "id": "vWYyHTRj9Pi6"
      },
      "source": [
        "# imports"
      ]
    },
    {
      "cell_type": "code",
      "metadata": {
        "id": "rPv2uxvO3UUW"
      },
      "source": [
        "import os\n",
        "import glob\n",
        "import torch\n",
        "import numpy as np\n",
        "import torchvision.datasets as datasets\n",
        "from torchvision.datasets import ImageFolder\n",
        "import torchvision.transforms as transforms\n"
      ],
      "execution_count": 8,
      "outputs": []
    },
    {
      "cell_type": "code",
      "metadata": {
        "id": "p32iwcxN3UUW"
      },
      "source": [
        "from PIL import Image\n",
        "#import cv2\n",
        "import os.path\n",
        "import numpy as np\n",
        "import pickle\n",
        "from typing import Any, Callable, Optional, Tuple\n",
        "\n",
        "from torchvision.datasets import VisionDataset\n",
        "from torchvision.datasets.utils import check_integrity, download_and_extract_archive"
      ],
      "execution_count": 9,
      "outputs": []
    },
    {
      "cell_type": "code",
      "metadata": {
        "id": "YxCZS52C3UUW",
        "outputId": "b9290677-cf07-45c5-9c89-e439a05203a7",
        "colab": {
          "base_uri": "https://localhost:8080/"
        }
      },
      "source": [
        "print(torch.__version__)"
      ],
      "execution_count": 10,
      "outputs": [
        {
          "output_type": "stream",
          "text": [
            "1.2.0\n"
          ],
          "name": "stdout"
        }
      ]
    },
    {
      "cell_type": "code",
      "metadata": {
        "id": "oJArWMRm3UUX",
        "outputId": "8aea24eb-d09f-4eec-da30-77b42bf0d633",
        "colab": {
          "base_uri": "https://localhost:8080/",
          "height": 35
        }
      },
      "source": [
        "import torchvision\n",
        "torchvision.__version__"
      ],
      "execution_count": 11,
      "outputs": [
        {
          "output_type": "execute_result",
          "data": {
            "application/vnd.google.colaboratory.intrinsic+json": {
              "type": "string"
            },
            "text/plain": [
              "'0.4.0'"
            ]
          },
          "metadata": {
            "tags": []
          },
          "execution_count": 11
        }
      ]
    },
    {
      "cell_type": "markdown",
      "metadata": {
        "id": "xTPtCs-A9RDh"
      },
      "source": [
        "# Create Oasis3 data class"
      ]
    },
    {
      "cell_type": "code",
      "metadata": {
        "id": "FXkVpUwV4Xnn"
      },
      "source": [
        "transform = transforms.Compose(\r\n",
        "    [\r\n",
        "        transforms.Resize(256),\r\n",
        "        transforms.ToTensor(),\r\n",
        "        transforms.Normalize((0.5, 0.5, 0.5), (0.5, 0.5, 0.5))\r\n",
        "    ]\r\n",
        ")"
      ],
      "execution_count": 77,
      "outputs": []
    },
    {
      "cell_type": "code",
      "metadata": {
        "id": "mNw2JbDA3UUY"
      },
      "source": [
        "train_image_number = 140 # Image slice from MRI scans to use for training data\n",
        "\n",
        "base_folder = '/pyt_oasis3'\n",
        "non_ad_jpg_folder = './t1w_non_ad_jpgs/' + str(train_image_number) + '/'\n",
        "#ad_jpg_folder = './'\n",
        "\n",
        "class Oasis3_train_normal(VisionDataset):\n",
        "    def __init__(self,\n",
        "            root: str,\n",
        "            train: bool = True, # Train or test dataset\n",
        "            transform: Optional[Callable] = None,\n",
        "            target_transform: Optional[Callable] = None) -> None:\n",
        "        super(Oasis3_train_normal, self).__init__(root, transform=transform, target_transform=target_transform)\n",
        "        self.train = train # Train or test set\n",
        "        \n",
        "        self.data = []\n",
        "        self.targets = []\n",
        "        \n",
        "        for file_path in glob.glob(non_ad_jpg_folder+'**.jpg'):\n",
        "            with open (file_path, 'rb') as f:\n",
        "                # image needs to be a PIL image\n",
        "                img = Image.open(f)\n",
        "                # Resize all images 176, 256, 3 -> 256, 256, 0\n",
        "                dsize = (256, 256)\n",
        "                resized = img.resize(dsize)\n",
        "                self.data.append(resized)\n",
        "                self.targets.extend(str(0)) # based on the jpg_folder in for loop\n",
        "                break\n",
        "        self.data = np.vstack(self.data).reshape(-1, 256, 256)\n",
        "        #self.data = self.data.transpose((0, 2, 3, 1))  # convert to HWC\n",
        "        self.data = self.data.transpose((0, 1, 2))  # convert to HWC\n",
        "    def __getitem__(self, index: int) -> Tuple[Any, Any]:\n",
        "        img, target = self.data[index], self.targets[index]\n",
        "        if self.transform is not None:\n",
        "            img = self.transform(img)\n",
        "\n",
        "        if self.target_transform is not None:\n",
        "            target = self.target_transform(target)\n",
        "\n",
        "        return img, target"
      ],
      "execution_count": 104,
      "outputs": []
    },
    {
      "cell_type": "code",
      "metadata": {
        "id": "t53epg7x3UUY",
        "outputId": "54828b44-3893-4d62-8acc-da06d52e1b03",
        "colab": {
          "base_uri": "https://localhost:8080/"
        }
      },
      "source": [
        "a=Oasis3_train_normal(base_folder, False, transform=transform)"
      ],
      "execution_count": 105,
      "outputs": [
        {
          "output_type": "stream",
          "text": [
            "./t1w_non_ad_jpgs/140/OAS30074_ses-d0049_run-01_T1w.jpg\n"
          ],
          "name": "stdout"
        }
      ]
    },
    {
      "cell_type": "code",
      "metadata": {
        "id": "Bpqwrxpo3UUZ",
        "outputId": "bbcf4a05-9ed6-4536-99c1-1967c37e5d29",
        "colab": {
          "base_uri": "https://localhost:8080/"
        }
      },
      "source": [
        "# OpenCV ---\r\n",
        "# Original: (176, 256, 3)\r\n",
        "# Re-shaped up: (3, 256, 256)\r\n",
        "# After transform: (3, 256, 256)\r\n",
        "# PIL ---\r\n",
        "# Shape : (256, 256)\r\n",
        "a.data[0].shape"
      ],
      "execution_count": 106,
      "outputs": [
        {
          "output_type": "execute_result",
          "data": {
            "text/plain": [
              "(256, 256)"
            ]
          },
          "metadata": {
            "tags": []
          },
          "execution_count": 106
        }
      ]
    },
    {
      "cell_type": "code",
      "metadata": {
        "id": "_JzUbocMHkcD"
      },
      "source": [
        ""
      ],
      "execution_count": null,
      "outputs": []
    },
    {
      "cell_type": "markdown",
      "metadata": {
        "id": "58QWe9bXF7jF"
      },
      "source": [
        "# PIL image reading"
      ]
    },
    {
      "cell_type": "code",
      "metadata": {
        "id": "zcx_VdcEF9KT"
      },
      "source": [
        "data = []\r\n",
        "with open ('./t1w_non_ad_jpgs/140/OAS30074_ses-d0049_run-01_T1w.jpg', 'rb') as f:\r\n",
        "  img = Image.open(f)\r\n",
        "  dsize = (256, 256)\r\n",
        "  resized = img.resize(dsize)\r\n",
        "  data.append(resized)"
      ],
      "execution_count": 96,
      "outputs": []
    },
    {
      "cell_type": "code",
      "metadata": {
        "id": "8xGTRd0PGkjM",
        "outputId": "c662e657-cb36-4109-b1ad-4e624eee9a91",
        "colab": {
          "base_uri": "https://localhost:8080/"
        }
      },
      "source": [
        "data[0].size"
      ],
      "execution_count": 102,
      "outputs": [
        {
          "output_type": "execute_result",
          "data": {
            "text/plain": [
              "(256, 256)"
            ]
          },
          "metadata": {
            "tags": []
          },
          "execution_count": 102
        }
      ]
    },
    {
      "cell_type": "markdown",
      "metadata": {
        "id": "nYzuih0i9MT7"
      },
      "source": [
        "# CIFAR data representation testing"
      ]
    },
    {
      "cell_type": "code",
      "metadata": {
        "id": "jhBpO-ZNtOGk"
      },
      "source": [
        "from torchvision.datasets import CIFAR10"
      ],
      "execution_count": 55,
      "outputs": []
    },
    {
      "cell_type": "code",
      "metadata": {
        "id": "lZa6L_x-68g9",
        "outputId": "2146a331-0e68-4dc4-8342-e326bc6e9718",
        "colab": {
          "base_uri": "https://localhost:8080/"
        }
      },
      "source": [
        "transform = transforms.Compose(\r\n",
        "    [\r\n",
        "        transforms.Resize(32),\r\n",
        "        transforms.ToTensor(),\r\n",
        "        transforms.Normalize((0.5, 0.5, 0.5), (0.5, 0.5, 0.5))\r\n",
        "    ]\r\n",
        ")\r\n",
        "\r\n",
        "dataset = {}\r\n",
        "dataset['train'] = CIFAR10(root='./', train=True, download=True, transform=transform)"
      ],
      "execution_count": 57,
      "outputs": [
        {
          "output_type": "stream",
          "text": [
            "\n",
            "\n",
            "0it [00:00, ?it/s]\u001b[A\u001b[A\n",
            "\n",
            "  0%|          | 0/170498071 [00:00<?, ?it/s]\u001b[A\u001b[A"
          ],
          "name": "stderr"
        },
        {
          "output_type": "stream",
          "text": [
            "Downloading https://www.cs.toronto.edu/~kriz/cifar-10-python.tar.gz to ./cifar-10-python.tar.gz\n"
          ],
          "name": "stdout"
        },
        {
          "output_type": "stream",
          "text": [
            "\n",
            "\n",
            "  0%|          | 57344/170498071 [00:00<05:29, 516692.23it/s]\u001b[A\u001b[A\n",
            "\n",
            "  0%|          | 286720/170498071 [00:00<04:14, 668180.87it/s]\u001b[A\u001b[A\n",
            "\n",
            "  1%|          | 1171456/170498071 [00:00<03:03, 922090.63it/s]\u001b[A\u001b[A\n",
            "\n",
            "  2%|▏         | 4022272/170498071 [00:00<02:08, 1299237.00it/s]\u001b[A\u001b[A\n",
            "\n",
            "  5%|▌         | 9019392/170498071 [00:00<01:28, 1834651.66it/s]\u001b[A\u001b[A\n",
            "\n",
            "  8%|▊         | 14475264/170498071 [00:00<01:00, 2580404.68it/s]\u001b[A\u001b[A\n",
            "\n",
            " 12%|█▏        | 20045824/170498071 [00:00<00:41, 3608584.65it/s]\u001b[A\u001b[A\n",
            "\n",
            " 15%|█▌        | 25583616/170498071 [00:01<00:28, 5003845.87it/s]\u001b[A\u001b[A\n",
            "\n",
            " 18%|█▊        | 31039488/170498071 [00:01<00:20, 6855204.30it/s]\u001b[A\u001b[A\n",
            "\n",
            " 21%|██▏       | 36577280/170498071 [00:01<00:14, 9258802.64it/s]\u001b[A\u001b[A\n",
            "\n",
            " 25%|██▍       | 42213376/170498071 [00:01<00:10, 12285662.64it/s]\u001b[A\u001b[A\n",
            "\n",
            " 28%|██▊       | 47898624/170498071 [00:01<00:07, 15961697.38it/s]\u001b[A\u001b[A\n",
            "\n",
            " 32%|███▏      | 53747712/170498071 [00:01<00:05, 20414458.50it/s]\u001b[A\u001b[A\n",
            "\n",
            " 35%|███▍      | 58990592/170498071 [00:01<00:04, 24991985.35it/s]\u001b[A\u001b[A\n",
            "\n",
            " 38%|███▊      | 64495616/170498071 [00:01<00:03, 29816226.17it/s]\u001b[A\u001b[A\n",
            "\n",
            " 41%|████      | 69779456/170498071 [00:01<00:02, 33732690.98it/s]\u001b[A\u001b[A\n",
            "\n",
            " 44%|████▍     | 74981376/170498071 [00:01<00:02, 37700815.26it/s]\u001b[A\u001b[A\n",
            "\n",
            " 47%|████▋     | 80289792/170498071 [00:02<00:02, 41170334.67it/s]\u001b[A\u001b[A\n",
            "\n",
            " 50%|█████     | 85483520/170498071 [00:02<00:01, 42963568.95it/s]\u001b[A\u001b[A\n",
            "\n",
            " 53%|█████▎    | 90587136/170498071 [00:02<00:01, 45100862.91it/s]\u001b[A\u001b[A\n",
            "\n",
            " 56%|█████▌    | 95666176/170498071 [00:02<00:01, 46570440.88it/s]\u001b[A\u001b[A\n",
            "\n",
            " 59%|█████▉    | 100737024/170498071 [00:02<00:01, 47164111.67it/s]\u001b[A\u001b[A\n",
            "\n",
            " 62%|██████▏   | 105848832/170498071 [00:02<00:01, 48284204.58it/s]\u001b[A\u001b[A\n",
            "\n",
            " 65%|██████▌   | 110886912/170498071 [00:02<00:01, 47685488.77it/s]\u001b[A\u001b[A\n",
            "\n",
            " 68%|██████▊   | 116465664/170498071 [00:02<00:01, 49812668.24it/s]\u001b[A\u001b[A\n",
            "\n",
            " 71%|███████▏  | 121708544/170498071 [00:02<00:00, 50560552.43it/s]\u001b[A\u001b[A\n",
            "\n",
            " 74%|███████▍  | 126861312/170498071 [00:03<00:00, 48223643.68it/s]\u001b[A\u001b[A\n",
            "\n",
            " 77%|███████▋  | 131776512/170498071 [00:03<00:00, 47728640.71it/s]\u001b[A\u001b[A\n",
            "\n",
            " 80%|████████  | 136847360/170498071 [00:03<00:00, 48445136.79it/s]\u001b[A\u001b[A\n",
            "\n",
            " 83%|████████▎ | 141746176/170498071 [00:03<00:00, 47290638.55it/s]\u001b[A\u001b[A\n",
            "\n",
            " 86%|████████▌ | 146513920/170498071 [00:03<00:00, 47299263.32it/s]\u001b[A\u001b[A\n",
            "\n",
            " 89%|████████▉ | 151592960/170498071 [00:03<00:00, 47931424.15it/s]\u001b[A\u001b[A\n",
            "\n",
            " 92%|█████████▏| 157032448/170498071 [00:03<00:00, 49672322.44it/s]\u001b[A\u001b[A\n",
            "\n",
            " 95%|█████████▌| 162078720/170498071 [00:03<00:00, 49655872.69it/s]\u001b[A\u001b[A\n",
            "\n",
            " 98%|█████████▊| 167534592/170498071 [00:03<00:00, 50997876.39it/s]\u001b[A\u001b[A\n",
            "\n",
            "170500096it [00:03, 43509063.26it/s]                               \u001b[A\u001b[A"
          ],
          "name": "stderr"
        },
        {
          "output_type": "stream",
          "text": [
            "Extracting ./cifar-10-python.tar.gz to ./\n"
          ],
          "name": "stdout"
        }
      ]
    },
    {
      "cell_type": "code",
      "metadata": {
        "id": "YPNTVQ_m7FYa",
        "outputId": "4f3489a9-4877-4227-b853-df3f48ffd880",
        "colab": {
          "base_uri": "https://localhost:8080/"
        }
      },
      "source": [
        "type(dataset['train'])"
      ],
      "execution_count": 59,
      "outputs": [
        {
          "output_type": "execute_result",
          "data": {
            "text/plain": [
              "torchvision.datasets.cifar.CIFAR10"
            ]
          },
          "metadata": {
            "tags": []
          },
          "execution_count": 59
        }
      ]
    },
    {
      "cell_type": "code",
      "metadata": {
        "id": "79cSYdn27Sma"
      },
      "source": [
        "elt = dataset['train'][0]"
      ],
      "execution_count": 65,
      "outputs": []
    },
    {
      "cell_type": "code",
      "metadata": {
        "id": "RsiAtOru8AsB",
        "outputId": "9726ce63-ddd1-4465-d705-aae3daddfa50",
        "colab": {
          "base_uri": "https://localhost:8080/"
        }
      },
      "source": [
        "type(elt)"
      ],
      "execution_count": 71,
      "outputs": [
        {
          "output_type": "execute_result",
          "data": {
            "text/plain": [
              "tuple"
            ]
          },
          "metadata": {
            "tags": []
          },
          "execution_count": 71
        }
      ]
    },
    {
      "cell_type": "code",
      "metadata": {
        "id": "OQ6I_k9k8mBz",
        "outputId": "809c5396-5730-4c9d-a9c9-8ad82388420b",
        "colab": {
          "base_uri": "https://localhost:8080/"
        }
      },
      "source": [
        "elt[0].shape"
      ],
      "execution_count": 76,
      "outputs": [
        {
          "output_type": "execute_result",
          "data": {
            "text/plain": [
              "torch.Size([3, 32, 32])"
            ]
          },
          "metadata": {
            "tags": []
          },
          "execution_count": 76
        }
      ]
    },
    {
      "cell_type": "code",
      "metadata": {
        "id": "-sVkd4v-8m3h"
      },
      "source": [
        ""
      ],
      "execution_count": null,
      "outputs": []
    }
  ]
}