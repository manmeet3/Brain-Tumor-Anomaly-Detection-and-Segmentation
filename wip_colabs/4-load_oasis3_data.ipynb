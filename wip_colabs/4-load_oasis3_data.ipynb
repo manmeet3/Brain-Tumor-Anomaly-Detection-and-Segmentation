{
  "nbformat": 4,
  "nbformat_minor": 0,
  "metadata": {
    "colab": {
      "name": "4-load_oasis3_data.ipynb",
      "provenance": []
    },
    "kernelspec": {
      "display_name": "Python 3",
      "language": "python",
      "name": "python3"
    },
    "language_info": {
      "codemirror_mode": {
        "name": "ipython",
        "version": 3
      },
      "file_extension": ".py",
      "mimetype": "text/x-python",
      "name": "python",
      "nbconvert_exporter": "python",
      "pygments_lexer": "ipython3",
      "version": "3.6.9"
    }
  },
  "cells": [
    {
      "cell_type": "code",
      "metadata": {
        "colab": {
          "base_uri": "https://localhost:8080/"
        },
        "id": "tvU5vMeB3tL8",
        "outputId": "06a0b824-a438-44d1-d61b-728577a6dbd7"
      },
      "source": [
        "from google.colab import drive\n",
        "drive.mount(\"/content/drive\", force_remount=True)"
      ],
      "execution_count": 1,
      "outputs": [
        {
          "output_type": "stream",
          "text": [
            "Mounted at /content/drive\n"
          ],
          "name": "stdout"
        }
      ]
    },
    {
      "cell_type": "code",
      "metadata": {
        "colab": {
          "base_uri": "https://localhost:8080/"
        },
        "id": "hPD5t7AP35Ba",
        "outputId": "ac6c5ac3-6ffc-43c9-a80d-f0d6c4b75780"
      },
      "source": [
        "%cd /content/drive/MyDrive/Masters_Project/Datasets/OASIS3/"
      ],
      "execution_count": 2,
      "outputs": [
        {
          "output_type": "stream",
          "text": [
            "/content/drive/.shortcut-targets-by-id/1bqqm9-0FMOqiqyH_NIQBh-lJ36pWa7aX/Masters_Project/Datasets/OASIS3\n"
          ],
          "name": "stdout"
        }
      ]
    },
    {
      "cell_type": "code",
      "metadata": {
        "colab": {
          "base_uri": "https://localhost:8080/"
        },
        "id": "JZu16iC63UUK",
        "outputId": "0d8d8faf-97ca-4cf4-9b07-fa5ac765babb"
      },
      "source": [
        "!ls"
      ],
      "execution_count": 28,
      "outputs": [
        {
          "output_type": "stream",
          "text": [
            " cifar-10-batches-py\t  downloaded_data   t1w_non_ad_jpgs\n",
            " cifar-10-python.tar.gz   fa20\t\t    t1w_non_ad_patients\n",
            " data\t\t\t  oasis-scripts    'Usage Instructions.gdoc'\n"
          ],
          "name": "stdout"
        }
      ]
    },
    {
      "cell_type": "code",
      "metadata": {
        "colab": {
          "base_uri": "https://localhost:8080/"
        },
        "id": "dXxoGdws3UUV",
        "outputId": "7f3f13af-bdd0-4d91-ef4c-860981797e70"
      },
      "source": [
        "!pip install -r ../../Code/ganomaly/requirements.txt\r\n",
        "#!pip install -r ./ganomaly/requirements.txt"
      ],
      "execution_count": 4,
      "outputs": [
        {
          "output_type": "stream",
          "text": [
            "Requirement already satisfied: asn1crypto==0.24.0 in /usr/local/lib/python3.7/dist-packages (from -r ../../Code/ganomaly/requirements.txt (line 1)) (0.24.0)\n",
            "Requirement already satisfied: certifi==2019.6.16 in /usr/local/lib/python3.7/dist-packages (from -r ../../Code/ganomaly/requirements.txt (line 2)) (2019.6.16)\n",
            "Requirement already satisfied: cffi==1.12.3 in /usr/local/lib/python3.7/dist-packages (from -r ../../Code/ganomaly/requirements.txt (line 3)) (1.12.3)\n",
            "Requirement already satisfied: chardet==3.0.4 in /usr/local/lib/python3.7/dist-packages (from -r ../../Code/ganomaly/requirements.txt (line 4)) (3.0.4)\n",
            "Requirement already satisfied: cryptography==2.7 in /usr/local/lib/python3.7/dist-packages (from -r ../../Code/ganomaly/requirements.txt (line 5)) (2.7)\n",
            "Requirement already satisfied: cycler==0.10.0 in /usr/local/lib/python3.7/dist-packages (from -r ../../Code/ganomaly/requirements.txt (line 6)) (0.10.0)\n",
            "Requirement already satisfied: idna==2.8 in /usr/local/lib/python3.7/dist-packages (from -r ../../Code/ganomaly/requirements.txt (line 7)) (2.8)\n",
            "Requirement already satisfied: joblib==0.13.2 in /usr/local/lib/python3.7/dist-packages (from -r ../../Code/ganomaly/requirements.txt (line 8)) (0.13.2)\n",
            "Requirement already satisfied: kiwisolver==1.1.0 in /usr/local/lib/python3.7/dist-packages (from -r ../../Code/ganomaly/requirements.txt (line 9)) (1.1.0)\n",
            "Requirement already satisfied: matplotlib==3.1.0 in /usr/local/lib/python3.7/dist-packages (from -r ../../Code/ganomaly/requirements.txt (line 10)) (3.1.0)\n",
            "Requirement already satisfied: numpy==1.16.4 in /usr/local/lib/python3.7/dist-packages (from -r ../../Code/ganomaly/requirements.txt (line 11)) (1.16.4)\n",
            "Requirement already satisfied: olefile==0.46 in /usr/local/lib/python3.7/dist-packages (from -r ../../Code/ganomaly/requirements.txt (line 12)) (0.46)\n",
            "Requirement already satisfied: Pillow>=7.1.0 in /usr/local/lib/python3.7/dist-packages (from -r ../../Code/ganomaly/requirements.txt (line 13)) (8.1.0)\n",
            "Requirement already satisfied: pycparser==2.19 in /usr/local/lib/python3.7/dist-packages (from -r ../../Code/ganomaly/requirements.txt (line 14)) (2.19)\n",
            "Requirement already satisfied: pyOpenSSL==19.0.0 in /usr/local/lib/python3.7/dist-packages (from -r ../../Code/ganomaly/requirements.txt (line 15)) (19.0.0)\n",
            "Requirement already satisfied: pyparsing==2.4.0 in /usr/local/lib/python3.7/dist-packages (from -r ../../Code/ganomaly/requirements.txt (line 16)) (2.4.0)\n",
            "Requirement already satisfied: PySocks==1.7.0 in /usr/local/lib/python3.7/dist-packages (from -r ../../Code/ganomaly/requirements.txt (line 17)) (1.7.0)\n",
            "Requirement already satisfied: python-dateutil==2.8.0 in /usr/local/lib/python3.7/dist-packages (from -r ../../Code/ganomaly/requirements.txt (line 18)) (2.8.0)\n",
            "Requirement already satisfied: pytz==2019.1 in /usr/local/lib/python3.7/dist-packages (from -r ../../Code/ganomaly/requirements.txt (line 19)) (2019.1)\n",
            "Requirement already satisfied: pyzmq==18.0.2 in /usr/local/lib/python3.7/dist-packages (from -r ../../Code/ganomaly/requirements.txt (line 20)) (18.0.2)\n",
            "Requirement already satisfied: requests==2.22.0 in /usr/local/lib/python3.7/dist-packages (from -r ../../Code/ganomaly/requirements.txt (line 21)) (2.22.0)\n",
            "Requirement already satisfied: scikit-learn==0.21.2 in /usr/local/lib/python3.7/dist-packages (from -r ../../Code/ganomaly/requirements.txt (line 22)) (0.21.2)\n",
            "Requirement already satisfied: scipy==1.3.0 in /usr/local/lib/python3.7/dist-packages (from -r ../../Code/ganomaly/requirements.txt (line 23)) (1.3.0)\n",
            "Requirement already satisfied: six==1.12.0 in /usr/local/lib/python3.7/dist-packages (from -r ../../Code/ganomaly/requirements.txt (line 24)) (1.12.0)\n",
            "Requirement already satisfied: torch==1.2.0 in /usr/local/lib/python3.7/dist-packages (from -r ../../Code/ganomaly/requirements.txt (line 25)) (1.2.0)\n",
            "Requirement already satisfied: torchfile==0.1.0 in /usr/local/lib/python3.7/dist-packages (from -r ../../Code/ganomaly/requirements.txt (line 26)) (0.1.0)\n",
            "Requirement already satisfied: torchvision==0.4 in /usr/local/lib/python3.7/dist-packages (from -r ../../Code/ganomaly/requirements.txt (line 27)) (0.4.0)\n",
            "Requirement already satisfied: tornado==6.0.3 in /usr/local/lib/python3.7/dist-packages (from -r ../../Code/ganomaly/requirements.txt (line 28)) (6.0.3)\n",
            "Requirement already satisfied: tqdm==4.33.0 in /usr/local/lib/python3.7/dist-packages (from -r ../../Code/ganomaly/requirements.txt (line 29)) (4.33.0)\n",
            "Requirement already satisfied: urllib3==1.25.3 in /usr/local/lib/python3.7/dist-packages (from -r ../../Code/ganomaly/requirements.txt (line 30)) (1.25.3)\n",
            "Requirement already satisfied: visdom==0.1.8.8 in /usr/local/lib/python3.7/dist-packages (from -r ../../Code/ganomaly/requirements.txt (line 31)) (0.1.8.8)\n",
            "Requirement already satisfied: websocket-client==0.56.0 in /usr/local/lib/python3.7/dist-packages (from -r ../../Code/ganomaly/requirements.txt (line 32)) (0.56.0)\n",
            "Requirement already satisfied: setuptools in /usr/local/lib/python3.7/dist-packages (from kiwisolver==1.1.0->-r ../../Code/ganomaly/requirements.txt (line 9)) (53.0.0)\n"
          ],
          "name": "stdout"
        }
      ]
    },
    {
      "cell_type": "code",
      "metadata": {
        "colab": {
          "base_uri": "https://localhost:8080/",
          "height": 756
        },
        "id": "LJXouR6y3UUW",
        "outputId": "4b24f873-c330-4850-8b53-066e64f8402d"
      },
      "source": [
        "!pip install mkl-fft"
      ],
      "execution_count": 5,
      "outputs": [
        {
          "output_type": "stream",
          "text": [
            "Collecting mkl-fft\n",
            "  Using cached https://files.pythonhosted.org/packages/e1/de/fe883f978594e49075fe57161a4d0327687f57f47152ebe505fb8e6f276c/mkl_fft-1.2.0-10-cp37-cp37m-manylinux2014_x86_64.whl\n",
            "Requirement already satisfied: mkl in /usr/local/lib/python3.7/dist-packages (from mkl-fft) (2019.0)\n",
            "Collecting dpcpp_cpp_rt\n",
            "  Using cached https://files.pythonhosted.org/packages/65/08/f6efbd186b59eb84b132cfc30effa0597e60489589ce9fc2d3e3035f75e5/dpcpp_cpp_rt-2021.1.2-py2.py3-none-manylinux1_x86_64.whl\n",
            "Collecting numpy==1.19.5\n",
            "\u001b[?25l  Downloading https://files.pythonhosted.org/packages/08/d6/a6aaa29fea945bc6c61d11f6e0697b325ff7446de5ffd62c2fa02f627048/numpy-1.19.5-cp37-cp37m-manylinux2010_x86_64.whl (14.8MB)\n",
            "\u001b[K     |████████████████████████████████| 14.8MB 533kB/s \n",
            "\u001b[?25hRequirement already satisfied: intel-openmp in /usr/local/lib/python3.7/dist-packages (from mkl->mkl-fft) (2021.1.2)\n",
            "Collecting opencl-rt==2021.*\n",
            "\u001b[?25l  Downloading https://files.pythonhosted.org/packages/0b/5a/063f0dd6c928c10b0653649e651107ee3c62ed407fcc4403a9ce8456918d/opencl_rt-2021.1.2-py2.py3-none-manylinux1_x86_64.whl (153.4MB)\n",
            "\u001b[K     |████████████████████████████████| 153.4MB 79kB/s \n",
            "\u001b[?25hCollecting common-cmplr-lib-rt==2021.*\n",
            "\u001b[?25l  Downloading https://files.pythonhosted.org/packages/17/ea/29dcbb84b5b92594c75a09896e627127b1be15ce966ba806e535dcb9aac6/common_cmplr_lib_rt-2021.1.2-py2.py3-none-manylinux1_x86_64.whl (30.6MB)\n",
            "\u001b[K     |████████████████████████████████| 30.6MB 1.5MB/s \n",
            "\u001b[?25hCollecting common-cmplr-lic-rt==2021.*\n",
            "  Downloading https://files.pythonhosted.org/packages/d4/cf/83f5f31a18fc14666fc158a5be72f86b49461e4c2d8a45b6aa68c250adbf/common_cmplr_lic_rt-2021.1.2-py2.py3-none-manylinux1_x86_64.whl\n",
            "Collecting tbb==2021.*\n",
            "\u001b[?25l  Downloading https://files.pythonhosted.org/packages/75/32/e61365e17c06472af757b8c81de139cfbcaa66eec21360ebc3fb946dc839/tbb-2021.1.1-py2.py3-none-manylinux1_x86_64.whl (3.6MB)\n",
            "\u001b[K     |████████████████████████████████| 3.6MB 33.0MB/s \n",
            "\u001b[31mERROR: umap-learn 0.5.1 has requirement scikit-learn>=0.22, but you'll have scikit-learn 0.21.2 which is incompatible.\u001b[0m\n",
            "\u001b[31mERROR: tensorflow 2.4.1 has requirement six~=1.15.0, but you'll have six 1.12.0 which is incompatible.\u001b[0m\n",
            "\u001b[31mERROR: spacy 2.2.4 has requirement tqdm<5.0.0,>=4.38.0, but you'll have tqdm 4.33.0 which is incompatible.\u001b[0m\n",
            "\u001b[31mERROR: plotnine 0.6.0 has requirement matplotlib>=3.1.1, but you'll have matplotlib 3.1.0 which is incompatible.\u001b[0m\n",
            "\u001b[31mERROR: mizani 0.6.0 has requirement matplotlib>=3.1.1, but you'll have matplotlib 3.1.0 which is incompatible.\u001b[0m\n",
            "\u001b[31mERROR: librosa 0.8.0 has requirement joblib>=0.14, but you'll have joblib 0.13.2 which is incompatible.\u001b[0m\n",
            "\u001b[31mERROR: google-colab 1.0.0 has requirement requests~=2.23.0, but you'll have requests 2.22.0 which is incompatible.\u001b[0m\n",
            "\u001b[31mERROR: google-colab 1.0.0 has requirement six~=1.15.0, but you'll have six 1.12.0 which is incompatible.\u001b[0m\n",
            "\u001b[31mERROR: google-colab 1.0.0 has requirement tornado~=5.1.0; python_version >= \"3.0\", but you'll have tornado 6.0.3 which is incompatible.\u001b[0m\n",
            "\u001b[31mERROR: fbprophet 0.7.1 has requirement tqdm>=4.36.1, but you'll have tqdm 4.33.0 which is incompatible.\u001b[0m\n",
            "\u001b[31mERROR: datascience 0.10.6 has requirement folium==0.2.1, but you'll have folium 0.8.3 which is incompatible.\u001b[0m\n",
            "\u001b[31mERROR: albumentations 0.1.12 has requirement imgaug<0.2.7,>=0.2.5, but you'll have imgaug 0.2.9 which is incompatible.\u001b[0m\n",
            "\u001b[?25hInstalling collected packages: common-cmplr-lic-rt, tbb, opencl-rt, common-cmplr-lib-rt, dpcpp-cpp-rt, numpy, mkl-fft\n",
            "  Found existing installation: numpy 1.16.4\n",
            "    Uninstalling numpy-1.16.4:\n",
            "      Successfully uninstalled numpy-1.16.4\n",
            "Successfully installed common-cmplr-lib-rt-2021.1.2 common-cmplr-lic-rt-2021.1.2 dpcpp-cpp-rt-2021.1.2 mkl-fft-1.2.0 numpy-1.19.5 opencl-rt-2021.1.2 tbb-2021.1.1\n"
          ],
          "name": "stdout"
        },
        {
          "output_type": "display_data",
          "data": {
            "application/vnd.colab-display-data+json": {
              "pip_warning": {
                "packages": [
                  "numpy"
                ]
              }
            }
          },
          "metadata": {
            "tags": []
          }
        }
      ]
    },
    {
      "cell_type": "code",
      "metadata": {
        "colab": {
          "base_uri": "https://localhost:8080/"
        },
        "id": "ooHk9Hpm5aww",
        "outputId": "b07535ed-71e4-4520-f3d1-97e93a680150"
      },
      "source": [
        "!pip install Pillow"
      ],
      "execution_count": 6,
      "outputs": [
        {
          "output_type": "stream",
          "text": [
            "Requirement already satisfied: Pillow in /usr/local/lib/python3.7/dist-packages (8.1.0)\n"
          ],
          "name": "stdout"
        }
      ]
    },
    {
      "cell_type": "markdown",
      "metadata": {
        "id": "vWYyHTRj9Pi6"
      },
      "source": [
        "# imports"
      ]
    },
    {
      "cell_type": "code",
      "metadata": {
        "id": "rPv2uxvO3UUW"
      },
      "source": [
        "import os\n",
        "import glob\n",
        "import torch\n",
        "import numpy as np\n",
        "import torchvision.datasets as datasets\n",
        "from torchvision.datasets import ImageFolder\n",
        "import torchvision.transforms as transforms\n"
      ],
      "execution_count": 7,
      "outputs": []
    },
    {
      "cell_type": "code",
      "metadata": {
        "id": "p32iwcxN3UUW"
      },
      "source": [
        "from PIL import Image\n",
        "#import cv2\n",
        "import os.path\n",
        "import numpy as np\n",
        "import pickle\n",
        "from typing import Any, Callable, Optional, Tuple\n",
        "\n",
        "from torchvision.datasets import VisionDataset\n",
        "from torchvision.datasets.utils import check_integrity, download_and_extract_archive"
      ],
      "execution_count": 8,
      "outputs": []
    },
    {
      "cell_type": "code",
      "metadata": {
        "colab": {
          "base_uri": "https://localhost:8080/"
        },
        "id": "YxCZS52C3UUW",
        "outputId": "2524cd77-aa1b-4c98-c933-d4f533fdfdfa"
      },
      "source": [
        "print(torch.__version__)"
      ],
      "execution_count": 9,
      "outputs": [
        {
          "output_type": "stream",
          "text": [
            "1.2.0\n"
          ],
          "name": "stdout"
        }
      ]
    },
    {
      "cell_type": "code",
      "metadata": {
        "colab": {
          "base_uri": "https://localhost:8080/",
          "height": 35
        },
        "id": "oJArWMRm3UUX",
        "outputId": "db3310ab-017f-435c-d588-832378614e95"
      },
      "source": [
        "import torchvision\n",
        "torchvision.__version__"
      ],
      "execution_count": 10,
      "outputs": [
        {
          "output_type": "execute_result",
          "data": {
            "application/vnd.google.colaboratory.intrinsic+json": {
              "type": "string"
            },
            "text/plain": [
              "'0.4.0'"
            ]
          },
          "metadata": {
            "tags": []
          },
          "execution_count": 10
        }
      ]
    },
    {
      "cell_type": "markdown",
      "metadata": {
        "id": "xTPtCs-A9RDh"
      },
      "source": [
        "# Create Oasis3 data class"
      ]
    },
    {
      "cell_type": "code",
      "metadata": {
        "id": "FXkVpUwV4Xnn"
      },
      "source": [
        "transform = transforms.Compose(\n",
        "    [\n",
        "        transforms.Resize(256),\n",
        "        transforms.ToTensor(),\n",
        "        transforms.Normalize([0.5], [0.5])# https://github.com/yunjey/pytorch-tutorial/issues/161\n",
        "        \n",
        "    ]\n",
        ")"
      ],
      "execution_count": 22,
      "outputs": []
    },
    {
      "cell_type": "code",
      "metadata": {
        "id": "mNw2JbDA3UUY"
      },
      "source": [
        "train_image_number = 140 # Image slice from MRI scans to use for training data\n",
        "\n",
        "base_folder = '/pyt_oasis3'\n",
        "non_ad_jpg_folder = './t1w_non_ad_jpgs/' + str(train_image_number) + '/'\n",
        "ad_jpg_folder = './data/t1w_ad_jpgs/'\n",
        "\n",
        "class Oasis3_train_normal(VisionDataset):\n",
        "    def __init__(self,\n",
        "            root: str,\n",
        "            train: bool = True, # Train or test dataset\n",
        "            transform: Optional[Callable] = None,\n",
        "            target_transform: Optional[Callable] = None) -> None:\n",
        "        super(Oasis3_train_normal, self).__init__(root, transform=transform, target_transform=target_transform)\n",
        "        self.train = train # Train or test set\n",
        "        \n",
        "        self.data = []\n",
        "        self.targets = []\n",
        "        \n",
        "        for file_path in glob.glob(non_ad_jpg_folder+'**.jpg'):\n",
        "            with open (file_path, 'rb') as f:\n",
        "                # image needs to be a PIL image\n",
        "                img = Image.open(f)\n",
        "                # Resize all images 176, 256, 3 -> 256, 256, 0\n",
        "                dsize = (256, 256)\n",
        "                resized = img.resize(dsize)\n",
        "                self.data.append(resized)\n",
        "                self.targets.extend(str(0)) # based on the jpg_folder in for loop\n",
        "        self.data = np.vstack(self.data).reshape(-1, 256, 256)\n",
        "        #self.data = self.data.transpose((0, 2, 3, 1))  # convert to HWC\n",
        "        self.data = self.data.transpose((0, 1, 2))  # convert to HWC\n",
        "\n",
        "    def __getitem__(self, index: int) -> Tuple[Any, Any]:\n",
        "        img, target = self.data[index], self.targets[index]\n",
        "        \n",
        "        img = Image.fromarray(img)\n",
        "        \n",
        "        if self.transform is not None:\n",
        "            img = self.transform(img)\n",
        "\n",
        "        if self.target_transform is not None:\n",
        "            target = self.target_transform(target)\n",
        "\n",
        "        return (img, target)"
      ],
      "execution_count": 23,
      "outputs": []
    },
    {
      "cell_type": "code",
      "metadata": {
        "id": "t53epg7x3UUY"
      },
      "source": [
        "# Issue is i need to make the data transformable inside __getitem__\n",
        "a=Oasis3_train_normal(base_folder, False, transform=transform)"
      ],
      "execution_count": 24,
      "outputs": []
    },
    {
      "cell_type": "code",
      "metadata": {
        "colab": {
          "base_uri": "https://localhost:8080/"
        },
        "id": "Bpqwrxpo3UUZ",
        "outputId": "f47ec824-86b5-428f-f292-71f796257ebc"
      },
      "source": [
        "# Shape : (256, 256)\n",
        "a.data[0].shape"
      ],
      "execution_count": 25,
      "outputs": [
        {
          "output_type": "execute_result",
          "data": {
            "text/plain": [
              "(256, 256)"
            ]
          },
          "metadata": {
            "tags": []
          },
          "execution_count": 25
        }
      ]
    },
    {
      "cell_type": "code",
      "metadata": {
        "id": "_JzUbocMHkcD",
        "colab": {
          "base_uri": "https://localhost:8080/"
        },
        "outputId": "8d17fb6d-c659-4ac6-ec72-02f7bcda7819"
      },
      "source": [
        "# The class should be index into which invokes the __getitem__ call\n",
        "print(a[0][0])\n",
        "print(a[0][1])"
      ],
      "execution_count": 26,
      "outputs": [
        {
          "output_type": "stream",
          "text": [
            "tensor([[[-0.9922, -0.9608, -0.9922,  ..., -0.9686, -0.9843, -1.0000],\n",
            "         [-0.9843, -0.9608, -0.9922,  ..., -0.9686, -0.9686, -1.0000],\n",
            "         [-0.9843, -0.9686, -0.9922,  ..., -0.9686, -0.9451, -1.0000],\n",
            "         ...,\n",
            "         [-0.9451, -0.9765, -0.9686,  ..., -0.9843, -0.9765, -1.0000],\n",
            "         [-0.9529, -0.9843, -0.9686,  ..., -0.9686, -0.9686, -1.0000],\n",
            "         [-0.9608, -0.9922, -0.9686,  ..., -0.9608, -0.9686, -1.0000]]])\n",
            "0\n"
          ],
          "name": "stdout"
        }
      ]
    }
  ]
}