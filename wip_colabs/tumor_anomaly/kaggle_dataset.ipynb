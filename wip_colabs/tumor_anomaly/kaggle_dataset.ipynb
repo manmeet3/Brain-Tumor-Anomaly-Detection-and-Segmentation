{
  "nbformat": 4,
  "nbformat_minor": 0,
  "metadata": {
    "accelerator": "GPU",
    "colab": {
      "name": "5-ganomaly_tf2.ipynb",
      "provenance": [],
      "collapsed_sections": [],
      "include_colab_link": true
    },
    "kernelspec": {
      "display_name": "Python 3",
      "language": "python",
      "name": "python3"
    },
    "language_info": {
      "codemirror_mode": {
        "name": "ipython",
        "version": 3
      },
      "file_extension": ".py",
      "mimetype": "text/x-python",
      "name": "python",
      "nbconvert_exporter": "python",
      "pygments_lexer": "ipython3",
      "version": "3.7.1"
    },
    "widgets": {
      "application/vnd.jupyter.widget-state+json": {
        "3fc3c8063d1940b3b253f0b52d8c6b82": {
          "model_module": "@jupyter-widgets/controls",
          "model_name": "HBoxModel",
          "state": {
            "_view_name": "HBoxView",
            "_dom_classes": [],
            "_model_name": "HBoxModel",
            "_view_module": "@jupyter-widgets/controls",
            "_model_module_version": "1.5.0",
            "_view_count": null,
            "_view_module_version": "1.5.0",
            "box_style": "",
            "layout": "IPY_MODEL_8fab6657068c46b1bc7a06809af6d0af",
            "_model_module": "@jupyter-widgets/controls",
            "children": [
              "IPY_MODEL_13fbe7bc124f43768b448e0fcf0c6c0b",
              "IPY_MODEL_c31c9e29fb2d4341a5806c3ed1fdb6a7"
            ]
          }
        },
        "8fab6657068c46b1bc7a06809af6d0af": {
          "model_module": "@jupyter-widgets/base",
          "model_name": "LayoutModel",
          "state": {
            "_view_name": "LayoutView",
            "grid_template_rows": null,
            "right": null,
            "justify_content": null,
            "_view_module": "@jupyter-widgets/base",
            "overflow": null,
            "_model_module_version": "1.2.0",
            "_view_count": null,
            "flex_flow": null,
            "width": null,
            "min_width": null,
            "border": null,
            "align_items": null,
            "bottom": null,
            "_model_module": "@jupyter-widgets/base",
            "top": null,
            "grid_column": null,
            "overflow_y": null,
            "overflow_x": null,
            "grid_auto_flow": null,
            "grid_area": null,
            "grid_template_columns": null,
            "flex": null,
            "_model_name": "LayoutModel",
            "justify_items": null,
            "grid_row": null,
            "max_height": null,
            "align_content": null,
            "visibility": null,
            "align_self": null,
            "height": null,
            "min_height": null,
            "padding": null,
            "grid_auto_rows": null,
            "grid_gap": null,
            "max_width": null,
            "order": null,
            "_view_module_version": "1.2.0",
            "grid_template_areas": null,
            "object_position": null,
            "object_fit": null,
            "grid_auto_columns": null,
            "margin": null,
            "display": null,
            "left": null
          }
        },
        "13fbe7bc124f43768b448e0fcf0c6c0b": {
          "model_module": "@jupyter-widgets/controls",
          "model_name": "FloatProgressModel",
          "state": {
            "_view_name": "ProgressView",
            "style": "IPY_MODEL_9cc28a365fcf46438f5da923a3149c89",
            "_dom_classes": [],
            "description": "100%",
            "_model_name": "FloatProgressModel",
            "bar_style": "",
            "max": 9,
            "_view_module": "@jupyter-widgets/controls",
            "_model_module_version": "1.5.0",
            "value": 9,
            "_view_count": null,
            "_view_module_version": "1.5.0",
            "orientation": "horizontal",
            "min": 0,
            "description_tooltip": null,
            "_model_module": "@jupyter-widgets/controls",
            "layout": "IPY_MODEL_692c6eaadcf744c08ae4e04fa355c291"
          }
        },
        "c31c9e29fb2d4341a5806c3ed1fdb6a7": {
          "model_module": "@jupyter-widgets/controls",
          "model_name": "HTMLModel",
          "state": {
            "_view_name": "HTMLView",
            "style": "IPY_MODEL_648c3b0cd8134f01af6660dd4c2748f8",
            "_dom_classes": [],
            "description": "",
            "_model_name": "HTMLModel",
            "placeholder": "​",
            "_view_module": "@jupyter-widgets/controls",
            "_model_module_version": "1.5.0",
            "value": " 9/9 [00:21&lt;00:00,  1.31s/it]",
            "_view_count": null,
            "_view_module_version": "1.5.0",
            "description_tooltip": null,
            "_model_module": "@jupyter-widgets/controls",
            "layout": "IPY_MODEL_efd74c23c4a8471e88ca3fbb0dcf2abb"
          }
        },
        "9cc28a365fcf46438f5da923a3149c89": {
          "model_module": "@jupyter-widgets/controls",
          "model_name": "ProgressStyleModel",
          "state": {
            "_view_name": "StyleView",
            "_model_name": "ProgressStyleModel",
            "description_width": "initial",
            "_view_module": "@jupyter-widgets/base",
            "_model_module_version": "1.5.0",
            "_view_count": null,
            "_view_module_version": "1.2.0",
            "bar_color": null,
            "_model_module": "@jupyter-widgets/controls"
          }
        },
        "692c6eaadcf744c08ae4e04fa355c291": {
          "model_module": "@jupyter-widgets/base",
          "model_name": "LayoutModel",
          "state": {
            "_view_name": "LayoutView",
            "grid_template_rows": null,
            "right": null,
            "justify_content": null,
            "_view_module": "@jupyter-widgets/base",
            "overflow": null,
            "_model_module_version": "1.2.0",
            "_view_count": null,
            "flex_flow": null,
            "width": null,
            "min_width": null,
            "border": null,
            "align_items": null,
            "bottom": null,
            "_model_module": "@jupyter-widgets/base",
            "top": null,
            "grid_column": null,
            "overflow_y": null,
            "overflow_x": null,
            "grid_auto_flow": null,
            "grid_area": null,
            "grid_template_columns": null,
            "flex": null,
            "_model_name": "LayoutModel",
            "justify_items": null,
            "grid_row": null,
            "max_height": null,
            "align_content": null,
            "visibility": null,
            "align_self": null,
            "height": null,
            "min_height": null,
            "padding": null,
            "grid_auto_rows": null,
            "grid_gap": null,
            "max_width": null,
            "order": null,
            "_view_module_version": "1.2.0",
            "grid_template_areas": null,
            "object_position": null,
            "object_fit": null,
            "grid_auto_columns": null,
            "margin": null,
            "display": null,
            "left": null
          }
        },
        "648c3b0cd8134f01af6660dd4c2748f8": {
          "model_module": "@jupyter-widgets/controls",
          "model_name": "DescriptionStyleModel",
          "state": {
            "_view_name": "StyleView",
            "_model_name": "DescriptionStyleModel",
            "description_width": "",
            "_view_module": "@jupyter-widgets/base",
            "_model_module_version": "1.5.0",
            "_view_count": null,
            "_view_module_version": "1.2.0",
            "_model_module": "@jupyter-widgets/controls"
          }
        },
        "efd74c23c4a8471e88ca3fbb0dcf2abb": {
          "model_module": "@jupyter-widgets/base",
          "model_name": "LayoutModel",
          "state": {
            "_view_name": "LayoutView",
            "grid_template_rows": null,
            "right": null,
            "justify_content": null,
            "_view_module": "@jupyter-widgets/base",
            "overflow": null,
            "_model_module_version": "1.2.0",
            "_view_count": null,
            "flex_flow": null,
            "width": null,
            "min_width": null,
            "border": null,
            "align_items": null,
            "bottom": null,
            "_model_module": "@jupyter-widgets/base",
            "top": null,
            "grid_column": null,
            "overflow_y": null,
            "overflow_x": null,
            "grid_auto_flow": null,
            "grid_area": null,
            "grid_template_columns": null,
            "flex": null,
            "_model_name": "LayoutModel",
            "justify_items": null,
            "grid_row": null,
            "max_height": null,
            "align_content": null,
            "visibility": null,
            "align_self": null,
            "height": null,
            "min_height": null,
            "padding": null,
            "grid_auto_rows": null,
            "grid_gap": null,
            "max_width": null,
            "order": null,
            "_view_module_version": "1.2.0",
            "grid_template_areas": null,
            "object_position": null,
            "object_fit": null,
            "grid_auto_columns": null,
            "margin": null,
            "display": null,
            "left": null
          }
        },
        "6d0c6376deae4f9ca8d14e8c9d0d977e": {
          "model_module": "@jupyter-widgets/controls",
          "model_name": "HBoxModel",
          "state": {
            "_view_name": "HBoxView",
            "_dom_classes": [],
            "_model_name": "HBoxModel",
            "_view_module": "@jupyter-widgets/controls",
            "_model_module_version": "1.5.0",
            "_view_count": null,
            "_view_module_version": "1.5.0",
            "box_style": "",
            "layout": "IPY_MODEL_f80539eb5c3244a4965b64806d3c4beb",
            "_model_module": "@jupyter-widgets/controls",
            "children": [
              "IPY_MODEL_380b9b73d9224c1c910e95e60585ce3d",
              "IPY_MODEL_ac85d1d4530242b49cbf7a1bd01df76b"
            ]
          }
        },
        "f80539eb5c3244a4965b64806d3c4beb": {
          "model_module": "@jupyter-widgets/base",
          "model_name": "LayoutModel",
          "state": {
            "_view_name": "LayoutView",
            "grid_template_rows": null,
            "right": null,
            "justify_content": null,
            "_view_module": "@jupyter-widgets/base",
            "overflow": null,
            "_model_module_version": "1.2.0",
            "_view_count": null,
            "flex_flow": null,
            "width": null,
            "min_width": null,
            "border": null,
            "align_items": null,
            "bottom": null,
            "_model_module": "@jupyter-widgets/base",
            "top": null,
            "grid_column": null,
            "overflow_y": null,
            "overflow_x": null,
            "grid_auto_flow": null,
            "grid_area": null,
            "grid_template_columns": null,
            "flex": null,
            "_model_name": "LayoutModel",
            "justify_items": null,
            "grid_row": null,
            "max_height": null,
            "align_content": null,
            "visibility": null,
            "align_self": null,
            "height": null,
            "min_height": null,
            "padding": null,
            "grid_auto_rows": null,
            "grid_gap": null,
            "max_width": null,
            "order": null,
            "_view_module_version": "1.2.0",
            "grid_template_areas": null,
            "object_position": null,
            "object_fit": null,
            "grid_auto_columns": null,
            "margin": null,
            "display": null,
            "left": null
          }
        },
        "380b9b73d9224c1c910e95e60585ce3d": {
          "model_module": "@jupyter-widgets/controls",
          "model_name": "FloatProgressModel",
          "state": {
            "_view_name": "ProgressView",
            "style": "IPY_MODEL_23ac9f57010c4a01a0b657500c091cb4",
            "_dom_classes": [],
            "description": "100%",
            "_model_name": "FloatProgressModel",
            "bar_style": "",
            "max": 9,
            "_view_module": "@jupyter-widgets/controls",
            "_model_module_version": "1.5.0",
            "value": 9,
            "_view_count": null,
            "_view_module_version": "1.5.0",
            "orientation": "horizontal",
            "min": 0,
            "description_tooltip": null,
            "_model_module": "@jupyter-widgets/controls",
            "layout": "IPY_MODEL_31831ad9bb7d4132aaf0bbe1c4f0987d"
          }
        },
        "ac85d1d4530242b49cbf7a1bd01df76b": {
          "model_module": "@jupyter-widgets/controls",
          "model_name": "HTMLModel",
          "state": {
            "_view_name": "HTMLView",
            "style": "IPY_MODEL_f9ebb4e81c3441e9972516b8044d91ef",
            "_dom_classes": [],
            "description": "",
            "_model_name": "HTMLModel",
            "placeholder": "​",
            "_view_module": "@jupyter-widgets/controls",
            "_model_module_version": "1.5.0",
            "value": " 9/9 [00:02&lt;00:00,  4.49it/s]",
            "_view_count": null,
            "_view_module_version": "1.5.0",
            "description_tooltip": null,
            "_model_module": "@jupyter-widgets/controls",
            "layout": "IPY_MODEL_5b9a24c65b1a4961b0c3a1997f9067ac"
          }
        },
        "23ac9f57010c4a01a0b657500c091cb4": {
          "model_module": "@jupyter-widgets/controls",
          "model_name": "ProgressStyleModel",
          "state": {
            "_view_name": "StyleView",
            "_model_name": "ProgressStyleModel",
            "description_width": "initial",
            "_view_module": "@jupyter-widgets/base",
            "_model_module_version": "1.5.0",
            "_view_count": null,
            "_view_module_version": "1.2.0",
            "bar_color": null,
            "_model_module": "@jupyter-widgets/controls"
          }
        },
        "31831ad9bb7d4132aaf0bbe1c4f0987d": {
          "model_module": "@jupyter-widgets/base",
          "model_name": "LayoutModel",
          "state": {
            "_view_name": "LayoutView",
            "grid_template_rows": null,
            "right": null,
            "justify_content": null,
            "_view_module": "@jupyter-widgets/base",
            "overflow": null,
            "_model_module_version": "1.2.0",
            "_view_count": null,
            "flex_flow": null,
            "width": null,
            "min_width": null,
            "border": null,
            "align_items": null,
            "bottom": null,
            "_model_module": "@jupyter-widgets/base",
            "top": null,
            "grid_column": null,
            "overflow_y": null,
            "overflow_x": null,
            "grid_auto_flow": null,
            "grid_area": null,
            "grid_template_columns": null,
            "flex": null,
            "_model_name": "LayoutModel",
            "justify_items": null,
            "grid_row": null,
            "max_height": null,
            "align_content": null,
            "visibility": null,
            "align_self": null,
            "height": null,
            "min_height": null,
            "padding": null,
            "grid_auto_rows": null,
            "grid_gap": null,
            "max_width": null,
            "order": null,
            "_view_module_version": "1.2.0",
            "grid_template_areas": null,
            "object_position": null,
            "object_fit": null,
            "grid_auto_columns": null,
            "margin": null,
            "display": null,
            "left": null
          }
        },
        "f9ebb4e81c3441e9972516b8044d91ef": {
          "model_module": "@jupyter-widgets/controls",
          "model_name": "DescriptionStyleModel",
          "state": {
            "_view_name": "StyleView",
            "_model_name": "DescriptionStyleModel",
            "description_width": "",
            "_view_module": "@jupyter-widgets/base",
            "_model_module_version": "1.5.0",
            "_view_count": null,
            "_view_module_version": "1.2.0",
            "_model_module": "@jupyter-widgets/controls"
          }
        },
        "5b9a24c65b1a4961b0c3a1997f9067ac": {
          "model_module": "@jupyter-widgets/base",
          "model_name": "LayoutModel",
          "state": {
            "_view_name": "LayoutView",
            "grid_template_rows": null,
            "right": null,
            "justify_content": null,
            "_view_module": "@jupyter-widgets/base",
            "overflow": null,
            "_model_module_version": "1.2.0",
            "_view_count": null,
            "flex_flow": null,
            "width": null,
            "min_width": null,
            "border": null,
            "align_items": null,
            "bottom": null,
            "_model_module": "@jupyter-widgets/base",
            "top": null,
            "grid_column": null,
            "overflow_y": null,
            "overflow_x": null,
            "grid_auto_flow": null,
            "grid_area": null,
            "grid_template_columns": null,
            "flex": null,
            "_model_name": "LayoutModel",
            "justify_items": null,
            "grid_row": null,
            "max_height": null,
            "align_content": null,
            "visibility": null,
            "align_self": null,
            "height": null,
            "min_height": null,
            "padding": null,
            "grid_auto_rows": null,
            "grid_gap": null,
            "max_width": null,
            "order": null,
            "_view_module_version": "1.2.0",
            "grid_template_areas": null,
            "object_position": null,
            "object_fit": null,
            "grid_auto_columns": null,
            "margin": null,
            "display": null,
            "left": null
          }
        },
        "495d33ed2e6d404399f1be0bf69756bb": {
          "model_module": "@jupyter-widgets/controls",
          "model_name": "HBoxModel",
          "state": {
            "_view_name": "HBoxView",
            "_dom_classes": [],
            "_model_name": "HBoxModel",
            "_view_module": "@jupyter-widgets/controls",
            "_model_module_version": "1.5.0",
            "_view_count": null,
            "_view_module_version": "1.5.0",
            "box_style": "",
            "layout": "IPY_MODEL_314b64c794d44328a843dffa92c7d433",
            "_model_module": "@jupyter-widgets/controls",
            "children": [
              "IPY_MODEL_cd66e23483514cbdaef78eb642bd45a3",
              "IPY_MODEL_411e53086583493184ef86457fa3dd93"
            ]
          }
        },
        "314b64c794d44328a843dffa92c7d433": {
          "model_module": "@jupyter-widgets/base",
          "model_name": "LayoutModel",
          "state": {
            "_view_name": "LayoutView",
            "grid_template_rows": null,
            "right": null,
            "justify_content": null,
            "_view_module": "@jupyter-widgets/base",
            "overflow": null,
            "_model_module_version": "1.2.0",
            "_view_count": null,
            "flex_flow": null,
            "width": null,
            "min_width": null,
            "border": null,
            "align_items": null,
            "bottom": null,
            "_model_module": "@jupyter-widgets/base",
            "top": null,
            "grid_column": null,
            "overflow_y": null,
            "overflow_x": null,
            "grid_auto_flow": null,
            "grid_area": null,
            "grid_template_columns": null,
            "flex": null,
            "_model_name": "LayoutModel",
            "justify_items": null,
            "grid_row": null,
            "max_height": null,
            "align_content": null,
            "visibility": null,
            "align_self": null,
            "height": null,
            "min_height": null,
            "padding": null,
            "grid_auto_rows": null,
            "grid_gap": null,
            "max_width": null,
            "order": null,
            "_view_module_version": "1.2.0",
            "grid_template_areas": null,
            "object_position": null,
            "object_fit": null,
            "grid_auto_columns": null,
            "margin": null,
            "display": null,
            "left": null
          }
        },
        "cd66e23483514cbdaef78eb642bd45a3": {
          "model_module": "@jupyter-widgets/controls",
          "model_name": "FloatProgressModel",
          "state": {
            "_view_name": "ProgressView",
            "style": "IPY_MODEL_332789b93b6047ab8656ee2322a3c138",
            "_dom_classes": [],
            "description": "100%",
            "_model_name": "FloatProgressModel",
            "bar_style": "",
            "max": 9,
            "_view_module": "@jupyter-widgets/controls",
            "_model_module_version": "1.5.0",
            "value": 9,
            "_view_count": null,
            "_view_module_version": "1.5.0",
            "orientation": "horizontal",
            "min": 0,
            "description_tooltip": null,
            "_model_module": "@jupyter-widgets/controls",
            "layout": "IPY_MODEL_9a7faf1132d14f019a99426608cde4d5"
          }
        },
        "411e53086583493184ef86457fa3dd93": {
          "model_module": "@jupyter-widgets/controls",
          "model_name": "HTMLModel",
          "state": {
            "_view_name": "HTMLView",
            "style": "IPY_MODEL_6058be2d2c86492c91fc27ce8c325a60",
            "_dom_classes": [],
            "description": "",
            "_model_name": "HTMLModel",
            "placeholder": "​",
            "_view_module": "@jupyter-widgets/controls",
            "_model_module_version": "1.5.0",
            "value": " 9/9 [00:01&lt;00:00,  5.39it/s]",
            "_view_count": null,
            "_view_module_version": "1.5.0",
            "description_tooltip": null,
            "_model_module": "@jupyter-widgets/controls",
            "layout": "IPY_MODEL_c4e622dcbb324ad7be910d63454285f1"
          }
        },
        "332789b93b6047ab8656ee2322a3c138": {
          "model_module": "@jupyter-widgets/controls",
          "model_name": "ProgressStyleModel",
          "state": {
            "_view_name": "StyleView",
            "_model_name": "ProgressStyleModel",
            "description_width": "initial",
            "_view_module": "@jupyter-widgets/base",
            "_model_module_version": "1.5.0",
            "_view_count": null,
            "_view_module_version": "1.2.0",
            "bar_color": null,
            "_model_module": "@jupyter-widgets/controls"
          }
        },
        "9a7faf1132d14f019a99426608cde4d5": {
          "model_module": "@jupyter-widgets/base",
          "model_name": "LayoutModel",
          "state": {
            "_view_name": "LayoutView",
            "grid_template_rows": null,
            "right": null,
            "justify_content": null,
            "_view_module": "@jupyter-widgets/base",
            "overflow": null,
            "_model_module_version": "1.2.0",
            "_view_count": null,
            "flex_flow": null,
            "width": null,
            "min_width": null,
            "border": null,
            "align_items": null,
            "bottom": null,
            "_model_module": "@jupyter-widgets/base",
            "top": null,
            "grid_column": null,
            "overflow_y": null,
            "overflow_x": null,
            "grid_auto_flow": null,
            "grid_area": null,
            "grid_template_columns": null,
            "flex": null,
            "_model_name": "LayoutModel",
            "justify_items": null,
            "grid_row": null,
            "max_height": null,
            "align_content": null,
            "visibility": null,
            "align_self": null,
            "height": null,
            "min_height": null,
            "padding": null,
            "grid_auto_rows": null,
            "grid_gap": null,
            "max_width": null,
            "order": null,
            "_view_module_version": "1.2.0",
            "grid_template_areas": null,
            "object_position": null,
            "object_fit": null,
            "grid_auto_columns": null,
            "margin": null,
            "display": null,
            "left": null
          }
        },
        "6058be2d2c86492c91fc27ce8c325a60": {
          "model_module": "@jupyter-widgets/controls",
          "model_name": "DescriptionStyleModel",
          "state": {
            "_view_name": "StyleView",
            "_model_name": "DescriptionStyleModel",
            "description_width": "",
            "_view_module": "@jupyter-widgets/base",
            "_model_module_version": "1.5.0",
            "_view_count": null,
            "_view_module_version": "1.2.0",
            "_model_module": "@jupyter-widgets/controls"
          }
        },
        "c4e622dcbb324ad7be910d63454285f1": {
          "model_module": "@jupyter-widgets/base",
          "model_name": "LayoutModel",
          "state": {
            "_view_name": "LayoutView",
            "grid_template_rows": null,
            "right": null,
            "justify_content": null,
            "_view_module": "@jupyter-widgets/base",
            "overflow": null,
            "_model_module_version": "1.2.0",
            "_view_count": null,
            "flex_flow": null,
            "width": null,
            "min_width": null,
            "border": null,
            "align_items": null,
            "bottom": null,
            "_model_module": "@jupyter-widgets/base",
            "top": null,
            "grid_column": null,
            "overflow_y": null,
            "overflow_x": null,
            "grid_auto_flow": null,
            "grid_area": null,
            "grid_template_columns": null,
            "flex": null,
            "_model_name": "LayoutModel",
            "justify_items": null,
            "grid_row": null,
            "max_height": null,
            "align_content": null,
            "visibility": null,
            "align_self": null,
            "height": null,
            "min_height": null,
            "padding": null,
            "grid_auto_rows": null,
            "grid_gap": null,
            "max_width": null,
            "order": null,
            "_view_module_version": "1.2.0",
            "grid_template_areas": null,
            "object_position": null,
            "object_fit": null,
            "grid_auto_columns": null,
            "margin": null,
            "display": null,
            "left": null
          }
        },
        "4bf7dfff78f34701837fb432d0b559ed": {
          "model_module": "@jupyter-widgets/controls",
          "model_name": "HBoxModel",
          "state": {
            "_view_name": "HBoxView",
            "_dom_classes": [],
            "_model_name": "HBoxModel",
            "_view_module": "@jupyter-widgets/controls",
            "_model_module_version": "1.5.0",
            "_view_count": null,
            "_view_module_version": "1.5.0",
            "box_style": "",
            "layout": "IPY_MODEL_b6848eeed20342ec98201e050bc87a02",
            "_model_module": "@jupyter-widgets/controls",
            "children": [
              "IPY_MODEL_8dbdf41a41dd43ad9cdb6bb7ffed95a4",
              "IPY_MODEL_df28e3d5957d46d78979209bec25998d"
            ]
          }
        },
        "b6848eeed20342ec98201e050bc87a02": {
          "model_module": "@jupyter-widgets/base",
          "model_name": "LayoutModel",
          "state": {
            "_view_name": "LayoutView",
            "grid_template_rows": null,
            "right": null,
            "justify_content": null,
            "_view_module": "@jupyter-widgets/base",
            "overflow": null,
            "_model_module_version": "1.2.0",
            "_view_count": null,
            "flex_flow": null,
            "width": null,
            "min_width": null,
            "border": null,
            "align_items": null,
            "bottom": null,
            "_model_module": "@jupyter-widgets/base",
            "top": null,
            "grid_column": null,
            "overflow_y": null,
            "overflow_x": null,
            "grid_auto_flow": null,
            "grid_area": null,
            "grid_template_columns": null,
            "flex": null,
            "_model_name": "LayoutModel",
            "justify_items": null,
            "grid_row": null,
            "max_height": null,
            "align_content": null,
            "visibility": null,
            "align_self": null,
            "height": null,
            "min_height": null,
            "padding": null,
            "grid_auto_rows": null,
            "grid_gap": null,
            "max_width": null,
            "order": null,
            "_view_module_version": "1.2.0",
            "grid_template_areas": null,
            "object_position": null,
            "object_fit": null,
            "grid_auto_columns": null,
            "margin": null,
            "display": null,
            "left": null
          }
        },
        "8dbdf41a41dd43ad9cdb6bb7ffed95a4": {
          "model_module": "@jupyter-widgets/controls",
          "model_name": "FloatProgressModel",
          "state": {
            "_view_name": "ProgressView",
            "style": "IPY_MODEL_321635abc97846d7863809df527042d2",
            "_dom_classes": [],
            "description": "100%",
            "_model_name": "FloatProgressModel",
            "bar_style": "",
            "max": 9,
            "_view_module": "@jupyter-widgets/controls",
            "_model_module_version": "1.5.0",
            "value": 9,
            "_view_count": null,
            "_view_module_version": "1.5.0",
            "orientation": "horizontal",
            "min": 0,
            "description_tooltip": null,
            "_model_module": "@jupyter-widgets/controls",
            "layout": "IPY_MODEL_6ddf04a3ce46406eb931430c5a60643f"
          }
        },
        "df28e3d5957d46d78979209bec25998d": {
          "model_module": "@jupyter-widgets/controls",
          "model_name": "HTMLModel",
          "state": {
            "_view_name": "HTMLView",
            "style": "IPY_MODEL_24a6d36130834f6a92d48a6140ec409b",
            "_dom_classes": [],
            "description": "",
            "_model_name": "HTMLModel",
            "placeholder": "​",
            "_view_module": "@jupyter-widgets/controls",
            "_model_module_version": "1.5.0",
            "value": " 9/9 [00:01&lt;00:00,  5.40it/s]",
            "_view_count": null,
            "_view_module_version": "1.5.0",
            "description_tooltip": null,
            "_model_module": "@jupyter-widgets/controls",
            "layout": "IPY_MODEL_dbdef2199b6a46ce9f03dd75fdb94aba"
          }
        },
        "321635abc97846d7863809df527042d2": {
          "model_module": "@jupyter-widgets/controls",
          "model_name": "ProgressStyleModel",
          "state": {
            "_view_name": "StyleView",
            "_model_name": "ProgressStyleModel",
            "description_width": "initial",
            "_view_module": "@jupyter-widgets/base",
            "_model_module_version": "1.5.0",
            "_view_count": null,
            "_view_module_version": "1.2.0",
            "bar_color": null,
            "_model_module": "@jupyter-widgets/controls"
          }
        },
        "6ddf04a3ce46406eb931430c5a60643f": {
          "model_module": "@jupyter-widgets/base",
          "model_name": "LayoutModel",
          "state": {
            "_view_name": "LayoutView",
            "grid_template_rows": null,
            "right": null,
            "justify_content": null,
            "_view_module": "@jupyter-widgets/base",
            "overflow": null,
            "_model_module_version": "1.2.0",
            "_view_count": null,
            "flex_flow": null,
            "width": null,
            "min_width": null,
            "border": null,
            "align_items": null,
            "bottom": null,
            "_model_module": "@jupyter-widgets/base",
            "top": null,
            "grid_column": null,
            "overflow_y": null,
            "overflow_x": null,
            "grid_auto_flow": null,
            "grid_area": null,
            "grid_template_columns": null,
            "flex": null,
            "_model_name": "LayoutModel",
            "justify_items": null,
            "grid_row": null,
            "max_height": null,
            "align_content": null,
            "visibility": null,
            "align_self": null,
            "height": null,
            "min_height": null,
            "padding": null,
            "grid_auto_rows": null,
            "grid_gap": null,
            "max_width": null,
            "order": null,
            "_view_module_version": "1.2.0",
            "grid_template_areas": null,
            "object_position": null,
            "object_fit": null,
            "grid_auto_columns": null,
            "margin": null,
            "display": null,
            "left": null
          }
        },
        "24a6d36130834f6a92d48a6140ec409b": {
          "model_module": "@jupyter-widgets/controls",
          "model_name": "DescriptionStyleModel",
          "state": {
            "_view_name": "StyleView",
            "_model_name": "DescriptionStyleModel",
            "description_width": "",
            "_view_module": "@jupyter-widgets/base",
            "_model_module_version": "1.5.0",
            "_view_count": null,
            "_view_module_version": "1.2.0",
            "_model_module": "@jupyter-widgets/controls"
          }
        },
        "dbdef2199b6a46ce9f03dd75fdb94aba": {
          "model_module": "@jupyter-widgets/base",
          "model_name": "LayoutModel",
          "state": {
            "_view_name": "LayoutView",
            "grid_template_rows": null,
            "right": null,
            "justify_content": null,
            "_view_module": "@jupyter-widgets/base",
            "overflow": null,
            "_model_module_version": "1.2.0",
            "_view_count": null,
            "flex_flow": null,
            "width": null,
            "min_width": null,
            "border": null,
            "align_items": null,
            "bottom": null,
            "_model_module": "@jupyter-widgets/base",
            "top": null,
            "grid_column": null,
            "overflow_y": null,
            "overflow_x": null,
            "grid_auto_flow": null,
            "grid_area": null,
            "grid_template_columns": null,
            "flex": null,
            "_model_name": "LayoutModel",
            "justify_items": null,
            "grid_row": null,
            "max_height": null,
            "align_content": null,
            "visibility": null,
            "align_self": null,
            "height": null,
            "min_height": null,
            "padding": null,
            "grid_auto_rows": null,
            "grid_gap": null,
            "max_width": null,
            "order": null,
            "_view_module_version": "1.2.0",
            "grid_template_areas": null,
            "object_position": null,
            "object_fit": null,
            "grid_auto_columns": null,
            "margin": null,
            "display": null,
            "left": null
          }
        },
        "59de67ec9a814c5dbbc16228ace6904e": {
          "model_module": "@jupyter-widgets/controls",
          "model_name": "HBoxModel",
          "state": {
            "_view_name": "HBoxView",
            "_dom_classes": [],
            "_model_name": "HBoxModel",
            "_view_module": "@jupyter-widgets/controls",
            "_model_module_version": "1.5.0",
            "_view_count": null,
            "_view_module_version": "1.5.0",
            "box_style": "",
            "layout": "IPY_MODEL_8eea71f6cc5d42c180f95226aafe4717",
            "_model_module": "@jupyter-widgets/controls",
            "children": [
              "IPY_MODEL_bdc80ac42f9b414e9daf70132db0caf8",
              "IPY_MODEL_de811302175045a286fdf5adc78d5ddb"
            ]
          }
        },
        "8eea71f6cc5d42c180f95226aafe4717": {
          "model_module": "@jupyter-widgets/base",
          "model_name": "LayoutModel",
          "state": {
            "_view_name": "LayoutView",
            "grid_template_rows": null,
            "right": null,
            "justify_content": null,
            "_view_module": "@jupyter-widgets/base",
            "overflow": null,
            "_model_module_version": "1.2.0",
            "_view_count": null,
            "flex_flow": null,
            "width": null,
            "min_width": null,
            "border": null,
            "align_items": null,
            "bottom": null,
            "_model_module": "@jupyter-widgets/base",
            "top": null,
            "grid_column": null,
            "overflow_y": null,
            "overflow_x": null,
            "grid_auto_flow": null,
            "grid_area": null,
            "grid_template_columns": null,
            "flex": null,
            "_model_name": "LayoutModel",
            "justify_items": null,
            "grid_row": null,
            "max_height": null,
            "align_content": null,
            "visibility": null,
            "align_self": null,
            "height": null,
            "min_height": null,
            "padding": null,
            "grid_auto_rows": null,
            "grid_gap": null,
            "max_width": null,
            "order": null,
            "_view_module_version": "1.2.0",
            "grid_template_areas": null,
            "object_position": null,
            "object_fit": null,
            "grid_auto_columns": null,
            "margin": null,
            "display": null,
            "left": null
          }
        },
        "bdc80ac42f9b414e9daf70132db0caf8": {
          "model_module": "@jupyter-widgets/controls",
          "model_name": "FloatProgressModel",
          "state": {
            "_view_name": "ProgressView",
            "style": "IPY_MODEL_94cfc99f8600420dbf663299740bb839",
            "_dom_classes": [],
            "description": "100%",
            "_model_name": "FloatProgressModel",
            "bar_style": "",
            "max": 9,
            "_view_module": "@jupyter-widgets/controls",
            "_model_module_version": "1.5.0",
            "value": 9,
            "_view_count": null,
            "_view_module_version": "1.5.0",
            "orientation": "horizontal",
            "min": 0,
            "description_tooltip": null,
            "_model_module": "@jupyter-widgets/controls",
            "layout": "IPY_MODEL_38707df72dfe421ea217d5b53fd18c7e"
          }
        },
        "de811302175045a286fdf5adc78d5ddb": {
          "model_module": "@jupyter-widgets/controls",
          "model_name": "HTMLModel",
          "state": {
            "_view_name": "HTMLView",
            "style": "IPY_MODEL_c2fd33d2946348c5bfb744571fad84a8",
            "_dom_classes": [],
            "description": "",
            "_model_name": "HTMLModel",
            "placeholder": "​",
            "_view_module": "@jupyter-widgets/controls",
            "_model_module_version": "1.5.0",
            "value": " 9/9 [00:01&lt;00:00,  5.42it/s]",
            "_view_count": null,
            "_view_module_version": "1.5.0",
            "description_tooltip": null,
            "_model_module": "@jupyter-widgets/controls",
            "layout": "IPY_MODEL_f5f99597cf7f4a338f5c6afcd485c693"
          }
        },
        "94cfc99f8600420dbf663299740bb839": {
          "model_module": "@jupyter-widgets/controls",
          "model_name": "ProgressStyleModel",
          "state": {
            "_view_name": "StyleView",
            "_model_name": "ProgressStyleModel",
            "description_width": "initial",
            "_view_module": "@jupyter-widgets/base",
            "_model_module_version": "1.5.0",
            "_view_count": null,
            "_view_module_version": "1.2.0",
            "bar_color": null,
            "_model_module": "@jupyter-widgets/controls"
          }
        },
        "38707df72dfe421ea217d5b53fd18c7e": {
          "model_module": "@jupyter-widgets/base",
          "model_name": "LayoutModel",
          "state": {
            "_view_name": "LayoutView",
            "grid_template_rows": null,
            "right": null,
            "justify_content": null,
            "_view_module": "@jupyter-widgets/base",
            "overflow": null,
            "_model_module_version": "1.2.0",
            "_view_count": null,
            "flex_flow": null,
            "width": null,
            "min_width": null,
            "border": null,
            "align_items": null,
            "bottom": null,
            "_model_module": "@jupyter-widgets/base",
            "top": null,
            "grid_column": null,
            "overflow_y": null,
            "overflow_x": null,
            "grid_auto_flow": null,
            "grid_area": null,
            "grid_template_columns": null,
            "flex": null,
            "_model_name": "LayoutModel",
            "justify_items": null,
            "grid_row": null,
            "max_height": null,
            "align_content": null,
            "visibility": null,
            "align_self": null,
            "height": null,
            "min_height": null,
            "padding": null,
            "grid_auto_rows": null,
            "grid_gap": null,
            "max_width": null,
            "order": null,
            "_view_module_version": "1.2.0",
            "grid_template_areas": null,
            "object_position": null,
            "object_fit": null,
            "grid_auto_columns": null,
            "margin": null,
            "display": null,
            "left": null
          }
        },
        "c2fd33d2946348c5bfb744571fad84a8": {
          "model_module": "@jupyter-widgets/controls",
          "model_name": "DescriptionStyleModel",
          "state": {
            "_view_name": "StyleView",
            "_model_name": "DescriptionStyleModel",
            "description_width": "",
            "_view_module": "@jupyter-widgets/base",
            "_model_module_version": "1.5.0",
            "_view_count": null,
            "_view_module_version": "1.2.0",
            "_model_module": "@jupyter-widgets/controls"
          }
        },
        "f5f99597cf7f4a338f5c6afcd485c693": {
          "model_module": "@jupyter-widgets/base",
          "model_name": "LayoutModel",
          "state": {
            "_view_name": "LayoutView",
            "grid_template_rows": null,
            "right": null,
            "justify_content": null,
            "_view_module": "@jupyter-widgets/base",
            "overflow": null,
            "_model_module_version": "1.2.0",
            "_view_count": null,
            "flex_flow": null,
            "width": null,
            "min_width": null,
            "border": null,
            "align_items": null,
            "bottom": null,
            "_model_module": "@jupyter-widgets/base",
            "top": null,
            "grid_column": null,
            "overflow_y": null,
            "overflow_x": null,
            "grid_auto_flow": null,
            "grid_area": null,
            "grid_template_columns": null,
            "flex": null,
            "_model_name": "LayoutModel",
            "justify_items": null,
            "grid_row": null,
            "max_height": null,
            "align_content": null,
            "visibility": null,
            "align_self": null,
            "height": null,
            "min_height": null,
            "padding": null,
            "grid_auto_rows": null,
            "grid_gap": null,
            "max_width": null,
            "order": null,
            "_view_module_version": "1.2.0",
            "grid_template_areas": null,
            "object_position": null,
            "object_fit": null,
            "grid_auto_columns": null,
            "margin": null,
            "display": null,
            "left": null
          }
        },
        "00d2d0e8d0504f4bacc42822170688bc": {
          "model_module": "@jupyter-widgets/controls",
          "model_name": "HBoxModel",
          "state": {
            "_view_name": "HBoxView",
            "_dom_classes": [],
            "_model_name": "HBoxModel",
            "_view_module": "@jupyter-widgets/controls",
            "_model_module_version": "1.5.0",
            "_view_count": null,
            "_view_module_version": "1.5.0",
            "box_style": "",
            "layout": "IPY_MODEL_be5cf750c0e94bccaf90a7311606cffd",
            "_model_module": "@jupyter-widgets/controls",
            "children": [
              "IPY_MODEL_38970bcba88046608bc92787cc6fc9e7",
              "IPY_MODEL_dd5c9fff460445f7b8dc95733996c204"
            ]
          }
        },
        "be5cf750c0e94bccaf90a7311606cffd": {
          "model_module": "@jupyter-widgets/base",
          "model_name": "LayoutModel",
          "state": {
            "_view_name": "LayoutView",
            "grid_template_rows": null,
            "right": null,
            "justify_content": null,
            "_view_module": "@jupyter-widgets/base",
            "overflow": null,
            "_model_module_version": "1.2.0",
            "_view_count": null,
            "flex_flow": null,
            "width": null,
            "min_width": null,
            "border": null,
            "align_items": null,
            "bottom": null,
            "_model_module": "@jupyter-widgets/base",
            "top": null,
            "grid_column": null,
            "overflow_y": null,
            "overflow_x": null,
            "grid_auto_flow": null,
            "grid_area": null,
            "grid_template_columns": null,
            "flex": null,
            "_model_name": "LayoutModel",
            "justify_items": null,
            "grid_row": null,
            "max_height": null,
            "align_content": null,
            "visibility": null,
            "align_self": null,
            "height": null,
            "min_height": null,
            "padding": null,
            "grid_auto_rows": null,
            "grid_gap": null,
            "max_width": null,
            "order": null,
            "_view_module_version": "1.2.0",
            "grid_template_areas": null,
            "object_position": null,
            "object_fit": null,
            "grid_auto_columns": null,
            "margin": null,
            "display": null,
            "left": null
          }
        },
        "38970bcba88046608bc92787cc6fc9e7": {
          "model_module": "@jupyter-widgets/controls",
          "model_name": "FloatProgressModel",
          "state": {
            "_view_name": "ProgressView",
            "style": "IPY_MODEL_c26f72b8ca69439baff71e478ebc7cd8",
            "_dom_classes": [],
            "description": "100%",
            "_model_name": "FloatProgressModel",
            "bar_style": "",
            "max": 9,
            "_view_module": "@jupyter-widgets/controls",
            "_model_module_version": "1.5.0",
            "value": 9,
            "_view_count": null,
            "_view_module_version": "1.5.0",
            "orientation": "horizontal",
            "min": 0,
            "description_tooltip": null,
            "_model_module": "@jupyter-widgets/controls",
            "layout": "IPY_MODEL_1c1fb0ff4aec4db894d61b4ddc6a5143"
          }
        },
        "dd5c9fff460445f7b8dc95733996c204": {
          "model_module": "@jupyter-widgets/controls",
          "model_name": "HTMLModel",
          "state": {
            "_view_name": "HTMLView",
            "style": "IPY_MODEL_145f4b26890a416ca114829ccb5913bb",
            "_dom_classes": [],
            "description": "",
            "_model_name": "HTMLModel",
            "placeholder": "​",
            "_view_module": "@jupyter-widgets/controls",
            "_model_module_version": "1.5.0",
            "value": " 9/9 [00:01&lt;00:00,  5.32it/s]",
            "_view_count": null,
            "_view_module_version": "1.5.0",
            "description_tooltip": null,
            "_model_module": "@jupyter-widgets/controls",
            "layout": "IPY_MODEL_b3c7d50548024bb0a9f3436a479d16b4"
          }
        },
        "c26f72b8ca69439baff71e478ebc7cd8": {
          "model_module": "@jupyter-widgets/controls",
          "model_name": "ProgressStyleModel",
          "state": {
            "_view_name": "StyleView",
            "_model_name": "ProgressStyleModel",
            "description_width": "initial",
            "_view_module": "@jupyter-widgets/base",
            "_model_module_version": "1.5.0",
            "_view_count": null,
            "_view_module_version": "1.2.0",
            "bar_color": null,
            "_model_module": "@jupyter-widgets/controls"
          }
        },
        "1c1fb0ff4aec4db894d61b4ddc6a5143": {
          "model_module": "@jupyter-widgets/base",
          "model_name": "LayoutModel",
          "state": {
            "_view_name": "LayoutView",
            "grid_template_rows": null,
            "right": null,
            "justify_content": null,
            "_view_module": "@jupyter-widgets/base",
            "overflow": null,
            "_model_module_version": "1.2.0",
            "_view_count": null,
            "flex_flow": null,
            "width": null,
            "min_width": null,
            "border": null,
            "align_items": null,
            "bottom": null,
            "_model_module": "@jupyter-widgets/base",
            "top": null,
            "grid_column": null,
            "overflow_y": null,
            "overflow_x": null,
            "grid_auto_flow": null,
            "grid_area": null,
            "grid_template_columns": null,
            "flex": null,
            "_model_name": "LayoutModel",
            "justify_items": null,
            "grid_row": null,
            "max_height": null,
            "align_content": null,
            "visibility": null,
            "align_self": null,
            "height": null,
            "min_height": null,
            "padding": null,
            "grid_auto_rows": null,
            "grid_gap": null,
            "max_width": null,
            "order": null,
            "_view_module_version": "1.2.0",
            "grid_template_areas": null,
            "object_position": null,
            "object_fit": null,
            "grid_auto_columns": null,
            "margin": null,
            "display": null,
            "left": null
          }
        },
        "145f4b26890a416ca114829ccb5913bb": {
          "model_module": "@jupyter-widgets/controls",
          "model_name": "DescriptionStyleModel",
          "state": {
            "_view_name": "StyleView",
            "_model_name": "DescriptionStyleModel",
            "description_width": "",
            "_view_module": "@jupyter-widgets/base",
            "_model_module_version": "1.5.0",
            "_view_count": null,
            "_view_module_version": "1.2.0",
            "_model_module": "@jupyter-widgets/controls"
          }
        },
        "b3c7d50548024bb0a9f3436a479d16b4": {
          "model_module": "@jupyter-widgets/base",
          "model_name": "LayoutModel",
          "state": {
            "_view_name": "LayoutView",
            "grid_template_rows": null,
            "right": null,
            "justify_content": null,
            "_view_module": "@jupyter-widgets/base",
            "overflow": null,
            "_model_module_version": "1.2.0",
            "_view_count": null,
            "flex_flow": null,
            "width": null,
            "min_width": null,
            "border": null,
            "align_items": null,
            "bottom": null,
            "_model_module": "@jupyter-widgets/base",
            "top": null,
            "grid_column": null,
            "overflow_y": null,
            "overflow_x": null,
            "grid_auto_flow": null,
            "grid_area": null,
            "grid_template_columns": null,
            "flex": null,
            "_model_name": "LayoutModel",
            "justify_items": null,
            "grid_row": null,
            "max_height": null,
            "align_content": null,
            "visibility": null,
            "align_self": null,
            "height": null,
            "min_height": null,
            "padding": null,
            "grid_auto_rows": null,
            "grid_gap": null,
            "max_width": null,
            "order": null,
            "_view_module_version": "1.2.0",
            "grid_template_areas": null,
            "object_position": null,
            "object_fit": null,
            "grid_auto_columns": null,
            "margin": null,
            "display": null,
            "left": null
          }
        },
        "10c682298c264f61b580e48cc8bb1b94": {
          "model_module": "@jupyter-widgets/controls",
          "model_name": "HBoxModel",
          "state": {
            "_view_name": "HBoxView",
            "_dom_classes": [],
            "_model_name": "HBoxModel",
            "_view_module": "@jupyter-widgets/controls",
            "_model_module_version": "1.5.0",
            "_view_count": null,
            "_view_module_version": "1.5.0",
            "box_style": "",
            "layout": "IPY_MODEL_7a5ece9499874dba961f70a7a26a6b22",
            "_model_module": "@jupyter-widgets/controls",
            "children": [
              "IPY_MODEL_89a006e1385648bebbf0e1a67db48dcb",
              "IPY_MODEL_2a35333f3ec249e786281a80521015d9"
            ]
          }
        },
        "7a5ece9499874dba961f70a7a26a6b22": {
          "model_module": "@jupyter-widgets/base",
          "model_name": "LayoutModel",
          "state": {
            "_view_name": "LayoutView",
            "grid_template_rows": null,
            "right": null,
            "justify_content": null,
            "_view_module": "@jupyter-widgets/base",
            "overflow": null,
            "_model_module_version": "1.2.0",
            "_view_count": null,
            "flex_flow": null,
            "width": null,
            "min_width": null,
            "border": null,
            "align_items": null,
            "bottom": null,
            "_model_module": "@jupyter-widgets/base",
            "top": null,
            "grid_column": null,
            "overflow_y": null,
            "overflow_x": null,
            "grid_auto_flow": null,
            "grid_area": null,
            "grid_template_columns": null,
            "flex": null,
            "_model_name": "LayoutModel",
            "justify_items": null,
            "grid_row": null,
            "max_height": null,
            "align_content": null,
            "visibility": null,
            "align_self": null,
            "height": null,
            "min_height": null,
            "padding": null,
            "grid_auto_rows": null,
            "grid_gap": null,
            "max_width": null,
            "order": null,
            "_view_module_version": "1.2.0",
            "grid_template_areas": null,
            "object_position": null,
            "object_fit": null,
            "grid_auto_columns": null,
            "margin": null,
            "display": null,
            "left": null
          }
        },
        "89a006e1385648bebbf0e1a67db48dcb": {
          "model_module": "@jupyter-widgets/controls",
          "model_name": "FloatProgressModel",
          "state": {
            "_view_name": "ProgressView",
            "style": "IPY_MODEL_a3ce631a79234b7c8b637d8599b2dfda",
            "_dom_classes": [],
            "description": "100%",
            "_model_name": "FloatProgressModel",
            "bar_style": "",
            "max": 9,
            "_view_module": "@jupyter-widgets/controls",
            "_model_module_version": "1.5.0",
            "value": 9,
            "_view_count": null,
            "_view_module_version": "1.5.0",
            "orientation": "horizontal",
            "min": 0,
            "description_tooltip": null,
            "_model_module": "@jupyter-widgets/controls",
            "layout": "IPY_MODEL_71510461b55d489d9ef38cf44af60d78"
          }
        },
        "2a35333f3ec249e786281a80521015d9": {
          "model_module": "@jupyter-widgets/controls",
          "model_name": "HTMLModel",
          "state": {
            "_view_name": "HTMLView",
            "style": "IPY_MODEL_69fe7c3f750b4a2794c24c5ee1b4f214",
            "_dom_classes": [],
            "description": "",
            "_model_name": "HTMLModel",
            "placeholder": "​",
            "_view_module": "@jupyter-widgets/controls",
            "_model_module_version": "1.5.0",
            "value": " 9/9 [00:03&lt;00:00,  3.36it/s]",
            "_view_count": null,
            "_view_module_version": "1.5.0",
            "description_tooltip": null,
            "_model_module": "@jupyter-widgets/controls",
            "layout": "IPY_MODEL_8fe3be8dd0844c37bf3f452c8eec51fa"
          }
        },
        "a3ce631a79234b7c8b637d8599b2dfda": {
          "model_module": "@jupyter-widgets/controls",
          "model_name": "ProgressStyleModel",
          "state": {
            "_view_name": "StyleView",
            "_model_name": "ProgressStyleModel",
            "description_width": "initial",
            "_view_module": "@jupyter-widgets/base",
            "_model_module_version": "1.5.0",
            "_view_count": null,
            "_view_module_version": "1.2.0",
            "bar_color": null,
            "_model_module": "@jupyter-widgets/controls"
          }
        },
        "71510461b55d489d9ef38cf44af60d78": {
          "model_module": "@jupyter-widgets/base",
          "model_name": "LayoutModel",
          "state": {
            "_view_name": "LayoutView",
            "grid_template_rows": null,
            "right": null,
            "justify_content": null,
            "_view_module": "@jupyter-widgets/base",
            "overflow": null,
            "_model_module_version": "1.2.0",
            "_view_count": null,
            "flex_flow": null,
            "width": null,
            "min_width": null,
            "border": null,
            "align_items": null,
            "bottom": null,
            "_model_module": "@jupyter-widgets/base",
            "top": null,
            "grid_column": null,
            "overflow_y": null,
            "overflow_x": null,
            "grid_auto_flow": null,
            "grid_area": null,
            "grid_template_columns": null,
            "flex": null,
            "_model_name": "LayoutModel",
            "justify_items": null,
            "grid_row": null,
            "max_height": null,
            "align_content": null,
            "visibility": null,
            "align_self": null,
            "height": null,
            "min_height": null,
            "padding": null,
            "grid_auto_rows": null,
            "grid_gap": null,
            "max_width": null,
            "order": null,
            "_view_module_version": "1.2.0",
            "grid_template_areas": null,
            "object_position": null,
            "object_fit": null,
            "grid_auto_columns": null,
            "margin": null,
            "display": null,
            "left": null
          }
        },
        "69fe7c3f750b4a2794c24c5ee1b4f214": {
          "model_module": "@jupyter-widgets/controls",
          "model_name": "DescriptionStyleModel",
          "state": {
            "_view_name": "StyleView",
            "_model_name": "DescriptionStyleModel",
            "description_width": "",
            "_view_module": "@jupyter-widgets/base",
            "_model_module_version": "1.5.0",
            "_view_count": null,
            "_view_module_version": "1.2.0",
            "_model_module": "@jupyter-widgets/controls"
          }
        },
        "8fe3be8dd0844c37bf3f452c8eec51fa": {
          "model_module": "@jupyter-widgets/base",
          "model_name": "LayoutModel",
          "state": {
            "_view_name": "LayoutView",
            "grid_template_rows": null,
            "right": null,
            "justify_content": null,
            "_view_module": "@jupyter-widgets/base",
            "overflow": null,
            "_model_module_version": "1.2.0",
            "_view_count": null,
            "flex_flow": null,
            "width": null,
            "min_width": null,
            "border": null,
            "align_items": null,
            "bottom": null,
            "_model_module": "@jupyter-widgets/base",
            "top": null,
            "grid_column": null,
            "overflow_y": null,
            "overflow_x": null,
            "grid_auto_flow": null,
            "grid_area": null,
            "grid_template_columns": null,
            "flex": null,
            "_model_name": "LayoutModel",
            "justify_items": null,
            "grid_row": null,
            "max_height": null,
            "align_content": null,
            "visibility": null,
            "align_self": null,
            "height": null,
            "min_height": null,
            "padding": null,
            "grid_auto_rows": null,
            "grid_gap": null,
            "max_width": null,
            "order": null,
            "_view_module_version": "1.2.0",
            "grid_template_areas": null,
            "object_position": null,
            "object_fit": null,
            "grid_auto_columns": null,
            "margin": null,
            "display": null,
            "left": null
          }
        },
        "59213f8b1e3c4ca3b169e7fe35720e37": {
          "model_module": "@jupyter-widgets/controls",
          "model_name": "HBoxModel",
          "state": {
            "_view_name": "HBoxView",
            "_dom_classes": [],
            "_model_name": "HBoxModel",
            "_view_module": "@jupyter-widgets/controls",
            "_model_module_version": "1.5.0",
            "_view_count": null,
            "_view_module_version": "1.5.0",
            "box_style": "",
            "layout": "IPY_MODEL_ef34d00ab3de4d70a0bbc9b0e32c4d55",
            "_model_module": "@jupyter-widgets/controls",
            "children": [
              "IPY_MODEL_0b4bfeb37d984122bd7ac0bef21ff7a9",
              "IPY_MODEL_cb50789674ac4540af17d8935366cffb"
            ]
          }
        },
        "ef34d00ab3de4d70a0bbc9b0e32c4d55": {
          "model_module": "@jupyter-widgets/base",
          "model_name": "LayoutModel",
          "state": {
            "_view_name": "LayoutView",
            "grid_template_rows": null,
            "right": null,
            "justify_content": null,
            "_view_module": "@jupyter-widgets/base",
            "overflow": null,
            "_model_module_version": "1.2.0",
            "_view_count": null,
            "flex_flow": null,
            "width": null,
            "min_width": null,
            "border": null,
            "align_items": null,
            "bottom": null,
            "_model_module": "@jupyter-widgets/base",
            "top": null,
            "grid_column": null,
            "overflow_y": null,
            "overflow_x": null,
            "grid_auto_flow": null,
            "grid_area": null,
            "grid_template_columns": null,
            "flex": null,
            "_model_name": "LayoutModel",
            "justify_items": null,
            "grid_row": null,
            "max_height": null,
            "align_content": null,
            "visibility": null,
            "align_self": null,
            "height": null,
            "min_height": null,
            "padding": null,
            "grid_auto_rows": null,
            "grid_gap": null,
            "max_width": null,
            "order": null,
            "_view_module_version": "1.2.0",
            "grid_template_areas": null,
            "object_position": null,
            "object_fit": null,
            "grid_auto_columns": null,
            "margin": null,
            "display": null,
            "left": null
          }
        },
        "0b4bfeb37d984122bd7ac0bef21ff7a9": {
          "model_module": "@jupyter-widgets/controls",
          "model_name": "FloatProgressModel",
          "state": {
            "_view_name": "ProgressView",
            "style": "IPY_MODEL_27e909f8374b4d56b16ac886db4dbefe",
            "_dom_classes": [],
            "description": "100%",
            "_model_name": "FloatProgressModel",
            "bar_style": "",
            "max": 9,
            "_view_module": "@jupyter-widgets/controls",
            "_model_module_version": "1.5.0",
            "value": 9,
            "_view_count": null,
            "_view_module_version": "1.5.0",
            "orientation": "horizontal",
            "min": 0,
            "description_tooltip": null,
            "_model_module": "@jupyter-widgets/controls",
            "layout": "IPY_MODEL_aaec39239ff04180bce52c9db01ab6ce"
          }
        },
        "cb50789674ac4540af17d8935366cffb": {
          "model_module": "@jupyter-widgets/controls",
          "model_name": "HTMLModel",
          "state": {
            "_view_name": "HTMLView",
            "style": "IPY_MODEL_e63de00fe1324666856dff585bb1b29b",
            "_dom_classes": [],
            "description": "",
            "_model_name": "HTMLModel",
            "placeholder": "​",
            "_view_module": "@jupyter-widgets/controls",
            "_model_module_version": "1.5.0",
            "value": " 9/9 [00:01&lt;00:00,  5.30it/s]",
            "_view_count": null,
            "_view_module_version": "1.5.0",
            "description_tooltip": null,
            "_model_module": "@jupyter-widgets/controls",
            "layout": "IPY_MODEL_2a4d077131814086b895d29a1eab9290"
          }
        },
        "27e909f8374b4d56b16ac886db4dbefe": {
          "model_module": "@jupyter-widgets/controls",
          "model_name": "ProgressStyleModel",
          "state": {
            "_view_name": "StyleView",
            "_model_name": "ProgressStyleModel",
            "description_width": "initial",
            "_view_module": "@jupyter-widgets/base",
            "_model_module_version": "1.5.0",
            "_view_count": null,
            "_view_module_version": "1.2.0",
            "bar_color": null,
            "_model_module": "@jupyter-widgets/controls"
          }
        },
        "aaec39239ff04180bce52c9db01ab6ce": {
          "model_module": "@jupyter-widgets/base",
          "model_name": "LayoutModel",
          "state": {
            "_view_name": "LayoutView",
            "grid_template_rows": null,
            "right": null,
            "justify_content": null,
            "_view_module": "@jupyter-widgets/base",
            "overflow": null,
            "_model_module_version": "1.2.0",
            "_view_count": null,
            "flex_flow": null,
            "width": null,
            "min_width": null,
            "border": null,
            "align_items": null,
            "bottom": null,
            "_model_module": "@jupyter-widgets/base",
            "top": null,
            "grid_column": null,
            "overflow_y": null,
            "overflow_x": null,
            "grid_auto_flow": null,
            "grid_area": null,
            "grid_template_columns": null,
            "flex": null,
            "_model_name": "LayoutModel",
            "justify_items": null,
            "grid_row": null,
            "max_height": null,
            "align_content": null,
            "visibility": null,
            "align_self": null,
            "height": null,
            "min_height": null,
            "padding": null,
            "grid_auto_rows": null,
            "grid_gap": null,
            "max_width": null,
            "order": null,
            "_view_module_version": "1.2.0",
            "grid_template_areas": null,
            "object_position": null,
            "object_fit": null,
            "grid_auto_columns": null,
            "margin": null,
            "display": null,
            "left": null
          }
        },
        "e63de00fe1324666856dff585bb1b29b": {
          "model_module": "@jupyter-widgets/controls",
          "model_name": "DescriptionStyleModel",
          "state": {
            "_view_name": "StyleView",
            "_model_name": "DescriptionStyleModel",
            "description_width": "",
            "_view_module": "@jupyter-widgets/base",
            "_model_module_version": "1.5.0",
            "_view_count": null,
            "_view_module_version": "1.2.0",
            "_model_module": "@jupyter-widgets/controls"
          }
        },
        "2a4d077131814086b895d29a1eab9290": {
          "model_module": "@jupyter-widgets/base",
          "model_name": "LayoutModel",
          "state": {
            "_view_name": "LayoutView",
            "grid_template_rows": null,
            "right": null,
            "justify_content": null,
            "_view_module": "@jupyter-widgets/base",
            "overflow": null,
            "_model_module_version": "1.2.0",
            "_view_count": null,
            "flex_flow": null,
            "width": null,
            "min_width": null,
            "border": null,
            "align_items": null,
            "bottom": null,
            "_model_module": "@jupyter-widgets/base",
            "top": null,
            "grid_column": null,
            "overflow_y": null,
            "overflow_x": null,
            "grid_auto_flow": null,
            "grid_area": null,
            "grid_template_columns": null,
            "flex": null,
            "_model_name": "LayoutModel",
            "justify_items": null,
            "grid_row": null,
            "max_height": null,
            "align_content": null,
            "visibility": null,
            "align_self": null,
            "height": null,
            "min_height": null,
            "padding": null,
            "grid_auto_rows": null,
            "grid_gap": null,
            "max_width": null,
            "order": null,
            "_view_module_version": "1.2.0",
            "grid_template_areas": null,
            "object_position": null,
            "object_fit": null,
            "grid_auto_columns": null,
            "margin": null,
            "display": null,
            "left": null
          }
        },
        "66a01fd7a4d94fdc8a94bec5a64616aa": {
          "model_module": "@jupyter-widgets/controls",
          "model_name": "HBoxModel",
          "state": {
            "_view_name": "HBoxView",
            "_dom_classes": [],
            "_model_name": "HBoxModel",
            "_view_module": "@jupyter-widgets/controls",
            "_model_module_version": "1.5.0",
            "_view_count": null,
            "_view_module_version": "1.5.0",
            "box_style": "",
            "layout": "IPY_MODEL_bb7716eea8f743538d604b543315c725",
            "_model_module": "@jupyter-widgets/controls",
            "children": [
              "IPY_MODEL_5821c7f5590d4f55ae7503c35dad3a80",
              "IPY_MODEL_d366202bc22c457195a4c93967938a8a"
            ]
          }
        },
        "bb7716eea8f743538d604b543315c725": {
          "model_module": "@jupyter-widgets/base",
          "model_name": "LayoutModel",
          "state": {
            "_view_name": "LayoutView",
            "grid_template_rows": null,
            "right": null,
            "justify_content": null,
            "_view_module": "@jupyter-widgets/base",
            "overflow": null,
            "_model_module_version": "1.2.0",
            "_view_count": null,
            "flex_flow": null,
            "width": null,
            "min_width": null,
            "border": null,
            "align_items": null,
            "bottom": null,
            "_model_module": "@jupyter-widgets/base",
            "top": null,
            "grid_column": null,
            "overflow_y": null,
            "overflow_x": null,
            "grid_auto_flow": null,
            "grid_area": null,
            "grid_template_columns": null,
            "flex": null,
            "_model_name": "LayoutModel",
            "justify_items": null,
            "grid_row": null,
            "max_height": null,
            "align_content": null,
            "visibility": null,
            "align_self": null,
            "height": null,
            "min_height": null,
            "padding": null,
            "grid_auto_rows": null,
            "grid_gap": null,
            "max_width": null,
            "order": null,
            "_view_module_version": "1.2.0",
            "grid_template_areas": null,
            "object_position": null,
            "object_fit": null,
            "grid_auto_columns": null,
            "margin": null,
            "display": null,
            "left": null
          }
        },
        "5821c7f5590d4f55ae7503c35dad3a80": {
          "model_module": "@jupyter-widgets/controls",
          "model_name": "FloatProgressModel",
          "state": {
            "_view_name": "ProgressView",
            "style": "IPY_MODEL_dda2af3530574c9c8b0993ea150a2838",
            "_dom_classes": [],
            "description": "100%",
            "_model_name": "FloatProgressModel",
            "bar_style": "",
            "max": 9,
            "_view_module": "@jupyter-widgets/controls",
            "_model_module_version": "1.5.0",
            "value": 9,
            "_view_count": null,
            "_view_module_version": "1.5.0",
            "orientation": "horizontal",
            "min": 0,
            "description_tooltip": null,
            "_model_module": "@jupyter-widgets/controls",
            "layout": "IPY_MODEL_34178e0e66b444ee9153630a75b6956b"
          }
        },
        "d366202bc22c457195a4c93967938a8a": {
          "model_module": "@jupyter-widgets/controls",
          "model_name": "HTMLModel",
          "state": {
            "_view_name": "HTMLView",
            "style": "IPY_MODEL_ee9e79ca026043dcaf61d4f78b973afa",
            "_dom_classes": [],
            "description": "",
            "_model_name": "HTMLModel",
            "placeholder": "​",
            "_view_module": "@jupyter-widgets/controls",
            "_model_module_version": "1.5.0",
            "value": " 9/9 [00:01&lt;00:00,  5.39it/s]",
            "_view_count": null,
            "_view_module_version": "1.5.0",
            "description_tooltip": null,
            "_model_module": "@jupyter-widgets/controls",
            "layout": "IPY_MODEL_fe6f761192134076a7a4389d98c5b54c"
          }
        },
        "dda2af3530574c9c8b0993ea150a2838": {
          "model_module": "@jupyter-widgets/controls",
          "model_name": "ProgressStyleModel",
          "state": {
            "_view_name": "StyleView",
            "_model_name": "ProgressStyleModel",
            "description_width": "initial",
            "_view_module": "@jupyter-widgets/base",
            "_model_module_version": "1.5.0",
            "_view_count": null,
            "_view_module_version": "1.2.0",
            "bar_color": null,
            "_model_module": "@jupyter-widgets/controls"
          }
        },
        "34178e0e66b444ee9153630a75b6956b": {
          "model_module": "@jupyter-widgets/base",
          "model_name": "LayoutModel",
          "state": {
            "_view_name": "LayoutView",
            "grid_template_rows": null,
            "right": null,
            "justify_content": null,
            "_view_module": "@jupyter-widgets/base",
            "overflow": null,
            "_model_module_version": "1.2.0",
            "_view_count": null,
            "flex_flow": null,
            "width": null,
            "min_width": null,
            "border": null,
            "align_items": null,
            "bottom": null,
            "_model_module": "@jupyter-widgets/base",
            "top": null,
            "grid_column": null,
            "overflow_y": null,
            "overflow_x": null,
            "grid_auto_flow": null,
            "grid_area": null,
            "grid_template_columns": null,
            "flex": null,
            "_model_name": "LayoutModel",
            "justify_items": null,
            "grid_row": null,
            "max_height": null,
            "align_content": null,
            "visibility": null,
            "align_self": null,
            "height": null,
            "min_height": null,
            "padding": null,
            "grid_auto_rows": null,
            "grid_gap": null,
            "max_width": null,
            "order": null,
            "_view_module_version": "1.2.0",
            "grid_template_areas": null,
            "object_position": null,
            "object_fit": null,
            "grid_auto_columns": null,
            "margin": null,
            "display": null,
            "left": null
          }
        },
        "ee9e79ca026043dcaf61d4f78b973afa": {
          "model_module": "@jupyter-widgets/controls",
          "model_name": "DescriptionStyleModel",
          "state": {
            "_view_name": "StyleView",
            "_model_name": "DescriptionStyleModel",
            "description_width": "",
            "_view_module": "@jupyter-widgets/base",
            "_model_module_version": "1.5.0",
            "_view_count": null,
            "_view_module_version": "1.2.0",
            "_model_module": "@jupyter-widgets/controls"
          }
        },
        "fe6f761192134076a7a4389d98c5b54c": {
          "model_module": "@jupyter-widgets/base",
          "model_name": "LayoutModel",
          "state": {
            "_view_name": "LayoutView",
            "grid_template_rows": null,
            "right": null,
            "justify_content": null,
            "_view_module": "@jupyter-widgets/base",
            "overflow": null,
            "_model_module_version": "1.2.0",
            "_view_count": null,
            "flex_flow": null,
            "width": null,
            "min_width": null,
            "border": null,
            "align_items": null,
            "bottom": null,
            "_model_module": "@jupyter-widgets/base",
            "top": null,
            "grid_column": null,
            "overflow_y": null,
            "overflow_x": null,
            "grid_auto_flow": null,
            "grid_area": null,
            "grid_template_columns": null,
            "flex": null,
            "_model_name": "LayoutModel",
            "justify_items": null,
            "grid_row": null,
            "max_height": null,
            "align_content": null,
            "visibility": null,
            "align_self": null,
            "height": null,
            "min_height": null,
            "padding": null,
            "grid_auto_rows": null,
            "grid_gap": null,
            "max_width": null,
            "order": null,
            "_view_module_version": "1.2.0",
            "grid_template_areas": null,
            "object_position": null,
            "object_fit": null,
            "grid_auto_columns": null,
            "margin": null,
            "display": null,
            "left": null
          }
        },
        "e19c2cca10ca4bcaa7402e0c012bc4c3": {
          "model_module": "@jupyter-widgets/controls",
          "model_name": "HBoxModel",
          "state": {
            "_view_name": "HBoxView",
            "_dom_classes": [],
            "_model_name": "HBoxModel",
            "_view_module": "@jupyter-widgets/controls",
            "_model_module_version": "1.5.0",
            "_view_count": null,
            "_view_module_version": "1.5.0",
            "box_style": "",
            "layout": "IPY_MODEL_5238f80196ec4f2c8eaaf22818309356",
            "_model_module": "@jupyter-widgets/controls",
            "children": [
              "IPY_MODEL_f6bdb06a9ed8481e9ffffca6f52f0e6d",
              "IPY_MODEL_b71c2a22248a41909655b695e36837d0"
            ]
          }
        },
        "5238f80196ec4f2c8eaaf22818309356": {
          "model_module": "@jupyter-widgets/base",
          "model_name": "LayoutModel",
          "state": {
            "_view_name": "LayoutView",
            "grid_template_rows": null,
            "right": null,
            "justify_content": null,
            "_view_module": "@jupyter-widgets/base",
            "overflow": null,
            "_model_module_version": "1.2.0",
            "_view_count": null,
            "flex_flow": null,
            "width": null,
            "min_width": null,
            "border": null,
            "align_items": null,
            "bottom": null,
            "_model_module": "@jupyter-widgets/base",
            "top": null,
            "grid_column": null,
            "overflow_y": null,
            "overflow_x": null,
            "grid_auto_flow": null,
            "grid_area": null,
            "grid_template_columns": null,
            "flex": null,
            "_model_name": "LayoutModel",
            "justify_items": null,
            "grid_row": null,
            "max_height": null,
            "align_content": null,
            "visibility": null,
            "align_self": null,
            "height": null,
            "min_height": null,
            "padding": null,
            "grid_auto_rows": null,
            "grid_gap": null,
            "max_width": null,
            "order": null,
            "_view_module_version": "1.2.0",
            "grid_template_areas": null,
            "object_position": null,
            "object_fit": null,
            "grid_auto_columns": null,
            "margin": null,
            "display": null,
            "left": null
          }
        },
        "f6bdb06a9ed8481e9ffffca6f52f0e6d": {
          "model_module": "@jupyter-widgets/controls",
          "model_name": "FloatProgressModel",
          "state": {
            "_view_name": "ProgressView",
            "style": "IPY_MODEL_69f2467d4e2f4820b12afcfabf8d2d72",
            "_dom_classes": [],
            "description": "100%",
            "_model_name": "FloatProgressModel",
            "bar_style": "",
            "max": 9,
            "_view_module": "@jupyter-widgets/controls",
            "_model_module_version": "1.5.0",
            "value": 9,
            "_view_count": null,
            "_view_module_version": "1.5.0",
            "orientation": "horizontal",
            "min": 0,
            "description_tooltip": null,
            "_model_module": "@jupyter-widgets/controls",
            "layout": "IPY_MODEL_69678fea122345d9a91432014b68a507"
          }
        },
        "b71c2a22248a41909655b695e36837d0": {
          "model_module": "@jupyter-widgets/controls",
          "model_name": "HTMLModel",
          "state": {
            "_view_name": "HTMLView",
            "style": "IPY_MODEL_60af0b924f4b4dc4b6ced1964dee4de2",
            "_dom_classes": [],
            "description": "",
            "_model_name": "HTMLModel",
            "placeholder": "​",
            "_view_module": "@jupyter-widgets/controls",
            "_model_module_version": "1.5.0",
            "value": " 9/9 [00:01&lt;00:00,  5.40it/s]",
            "_view_count": null,
            "_view_module_version": "1.5.0",
            "description_tooltip": null,
            "_model_module": "@jupyter-widgets/controls",
            "layout": "IPY_MODEL_8a6dc5288b1f4439a51712a54cf2ae13"
          }
        },
        "69f2467d4e2f4820b12afcfabf8d2d72": {
          "model_module": "@jupyter-widgets/controls",
          "model_name": "ProgressStyleModel",
          "state": {
            "_view_name": "StyleView",
            "_model_name": "ProgressStyleModel",
            "description_width": "initial",
            "_view_module": "@jupyter-widgets/base",
            "_model_module_version": "1.5.0",
            "_view_count": null,
            "_view_module_version": "1.2.0",
            "bar_color": null,
            "_model_module": "@jupyter-widgets/controls"
          }
        },
        "69678fea122345d9a91432014b68a507": {
          "model_module": "@jupyter-widgets/base",
          "model_name": "LayoutModel",
          "state": {
            "_view_name": "LayoutView",
            "grid_template_rows": null,
            "right": null,
            "justify_content": null,
            "_view_module": "@jupyter-widgets/base",
            "overflow": null,
            "_model_module_version": "1.2.0",
            "_view_count": null,
            "flex_flow": null,
            "width": null,
            "min_width": null,
            "border": null,
            "align_items": null,
            "bottom": null,
            "_model_module": "@jupyter-widgets/base",
            "top": null,
            "grid_column": null,
            "overflow_y": null,
            "overflow_x": null,
            "grid_auto_flow": null,
            "grid_area": null,
            "grid_template_columns": null,
            "flex": null,
            "_model_name": "LayoutModel",
            "justify_items": null,
            "grid_row": null,
            "max_height": null,
            "align_content": null,
            "visibility": null,
            "align_self": null,
            "height": null,
            "min_height": null,
            "padding": null,
            "grid_auto_rows": null,
            "grid_gap": null,
            "max_width": null,
            "order": null,
            "_view_module_version": "1.2.0",
            "grid_template_areas": null,
            "object_position": null,
            "object_fit": null,
            "grid_auto_columns": null,
            "margin": null,
            "display": null,
            "left": null
          }
        },
        "60af0b924f4b4dc4b6ced1964dee4de2": {
          "model_module": "@jupyter-widgets/controls",
          "model_name": "DescriptionStyleModel",
          "state": {
            "_view_name": "StyleView",
            "_model_name": "DescriptionStyleModel",
            "description_width": "",
            "_view_module": "@jupyter-widgets/base",
            "_model_module_version": "1.5.0",
            "_view_count": null,
            "_view_module_version": "1.2.0",
            "_model_module": "@jupyter-widgets/controls"
          }
        },
        "8a6dc5288b1f4439a51712a54cf2ae13": {
          "model_module": "@jupyter-widgets/base",
          "model_name": "LayoutModel",
          "state": {
            "_view_name": "LayoutView",
            "grid_template_rows": null,
            "right": null,
            "justify_content": null,
            "_view_module": "@jupyter-widgets/base",
            "overflow": null,
            "_model_module_version": "1.2.0",
            "_view_count": null,
            "flex_flow": null,
            "width": null,
            "min_width": null,
            "border": null,
            "align_items": null,
            "bottom": null,
            "_model_module": "@jupyter-widgets/base",
            "top": null,
            "grid_column": null,
            "overflow_y": null,
            "overflow_x": null,
            "grid_auto_flow": null,
            "grid_area": null,
            "grid_template_columns": null,
            "flex": null,
            "_model_name": "LayoutModel",
            "justify_items": null,
            "grid_row": null,
            "max_height": null,
            "align_content": null,
            "visibility": null,
            "align_self": null,
            "height": null,
            "min_height": null,
            "padding": null,
            "grid_auto_rows": null,
            "grid_gap": null,
            "max_width": null,
            "order": null,
            "_view_module_version": "1.2.0",
            "grid_template_areas": null,
            "object_position": null,
            "object_fit": null,
            "grid_auto_columns": null,
            "margin": null,
            "display": null,
            "left": null
          }
        },
        "9eeea7b15bbe43f7aa4a644d9407ef99": {
          "model_module": "@jupyter-widgets/controls",
          "model_name": "HBoxModel",
          "state": {
            "_view_name": "HBoxView",
            "_dom_classes": [],
            "_model_name": "HBoxModel",
            "_view_module": "@jupyter-widgets/controls",
            "_model_module_version": "1.5.0",
            "_view_count": null,
            "_view_module_version": "1.5.0",
            "box_style": "",
            "layout": "IPY_MODEL_c2dbc7d500564a12be44533a69a57409",
            "_model_module": "@jupyter-widgets/controls",
            "children": [
              "IPY_MODEL_b5f947050d2d43d89c379c4836468d61",
              "IPY_MODEL_932e0b06edaf4de69eeaa866b0d79ea1"
            ]
          }
        },
        "c2dbc7d500564a12be44533a69a57409": {
          "model_module": "@jupyter-widgets/base",
          "model_name": "LayoutModel",
          "state": {
            "_view_name": "LayoutView",
            "grid_template_rows": null,
            "right": null,
            "justify_content": null,
            "_view_module": "@jupyter-widgets/base",
            "overflow": null,
            "_model_module_version": "1.2.0",
            "_view_count": null,
            "flex_flow": null,
            "width": null,
            "min_width": null,
            "border": null,
            "align_items": null,
            "bottom": null,
            "_model_module": "@jupyter-widgets/base",
            "top": null,
            "grid_column": null,
            "overflow_y": null,
            "overflow_x": null,
            "grid_auto_flow": null,
            "grid_area": null,
            "grid_template_columns": null,
            "flex": null,
            "_model_name": "LayoutModel",
            "justify_items": null,
            "grid_row": null,
            "max_height": null,
            "align_content": null,
            "visibility": null,
            "align_self": null,
            "height": null,
            "min_height": null,
            "padding": null,
            "grid_auto_rows": null,
            "grid_gap": null,
            "max_width": null,
            "order": null,
            "_view_module_version": "1.2.0",
            "grid_template_areas": null,
            "object_position": null,
            "object_fit": null,
            "grid_auto_columns": null,
            "margin": null,
            "display": null,
            "left": null
          }
        },
        "b5f947050d2d43d89c379c4836468d61": {
          "model_module": "@jupyter-widgets/controls",
          "model_name": "FloatProgressModel",
          "state": {
            "_view_name": "ProgressView",
            "style": "IPY_MODEL_8d90ab35c82c4ae8931080468004a3b6",
            "_dom_classes": [],
            "description": "100%",
            "_model_name": "FloatProgressModel",
            "bar_style": "",
            "max": 9,
            "_view_module": "@jupyter-widgets/controls",
            "_model_module_version": "1.5.0",
            "value": 9,
            "_view_count": null,
            "_view_module_version": "1.5.0",
            "orientation": "horizontal",
            "min": 0,
            "description_tooltip": null,
            "_model_module": "@jupyter-widgets/controls",
            "layout": "IPY_MODEL_ce84d00a3d914f21941aca8ed2435482"
          }
        },
        "932e0b06edaf4de69eeaa866b0d79ea1": {
          "model_module": "@jupyter-widgets/controls",
          "model_name": "HTMLModel",
          "state": {
            "_view_name": "HTMLView",
            "style": "IPY_MODEL_9afba4f375d3477dafa6a750f1cb95b9",
            "_dom_classes": [],
            "description": "",
            "_model_name": "HTMLModel",
            "placeholder": "​",
            "_view_module": "@jupyter-widgets/controls",
            "_model_module_version": "1.5.0",
            "value": " 9/9 [00:01&lt;00:00,  5.49it/s]",
            "_view_count": null,
            "_view_module_version": "1.5.0",
            "description_tooltip": null,
            "_model_module": "@jupyter-widgets/controls",
            "layout": "IPY_MODEL_835d71869f42435aab8d61ec377752c8"
          }
        },
        "8d90ab35c82c4ae8931080468004a3b6": {
          "model_module": "@jupyter-widgets/controls",
          "model_name": "ProgressStyleModel",
          "state": {
            "_view_name": "StyleView",
            "_model_name": "ProgressStyleModel",
            "description_width": "initial",
            "_view_module": "@jupyter-widgets/base",
            "_model_module_version": "1.5.0",
            "_view_count": null,
            "_view_module_version": "1.2.0",
            "bar_color": null,
            "_model_module": "@jupyter-widgets/controls"
          }
        },
        "ce84d00a3d914f21941aca8ed2435482": {
          "model_module": "@jupyter-widgets/base",
          "model_name": "LayoutModel",
          "state": {
            "_view_name": "LayoutView",
            "grid_template_rows": null,
            "right": null,
            "justify_content": null,
            "_view_module": "@jupyter-widgets/base",
            "overflow": null,
            "_model_module_version": "1.2.0",
            "_view_count": null,
            "flex_flow": null,
            "width": null,
            "min_width": null,
            "border": null,
            "align_items": null,
            "bottom": null,
            "_model_module": "@jupyter-widgets/base",
            "top": null,
            "grid_column": null,
            "overflow_y": null,
            "overflow_x": null,
            "grid_auto_flow": null,
            "grid_area": null,
            "grid_template_columns": null,
            "flex": null,
            "_model_name": "LayoutModel",
            "justify_items": null,
            "grid_row": null,
            "max_height": null,
            "align_content": null,
            "visibility": null,
            "align_self": null,
            "height": null,
            "min_height": null,
            "padding": null,
            "grid_auto_rows": null,
            "grid_gap": null,
            "max_width": null,
            "order": null,
            "_view_module_version": "1.2.0",
            "grid_template_areas": null,
            "object_position": null,
            "object_fit": null,
            "grid_auto_columns": null,
            "margin": null,
            "display": null,
            "left": null
          }
        },
        "9afba4f375d3477dafa6a750f1cb95b9": {
          "model_module": "@jupyter-widgets/controls",
          "model_name": "DescriptionStyleModel",
          "state": {
            "_view_name": "StyleView",
            "_model_name": "DescriptionStyleModel",
            "description_width": "",
            "_view_module": "@jupyter-widgets/base",
            "_model_module_version": "1.5.0",
            "_view_count": null,
            "_view_module_version": "1.2.0",
            "_model_module": "@jupyter-widgets/controls"
          }
        },
        "835d71869f42435aab8d61ec377752c8": {
          "model_module": "@jupyter-widgets/base",
          "model_name": "LayoutModel",
          "state": {
            "_view_name": "LayoutView",
            "grid_template_rows": null,
            "right": null,
            "justify_content": null,
            "_view_module": "@jupyter-widgets/base",
            "overflow": null,
            "_model_module_version": "1.2.0",
            "_view_count": null,
            "flex_flow": null,
            "width": null,
            "min_width": null,
            "border": null,
            "align_items": null,
            "bottom": null,
            "_model_module": "@jupyter-widgets/base",
            "top": null,
            "grid_column": null,
            "overflow_y": null,
            "overflow_x": null,
            "grid_auto_flow": null,
            "grid_area": null,
            "grid_template_columns": null,
            "flex": null,
            "_model_name": "LayoutModel",
            "justify_items": null,
            "grid_row": null,
            "max_height": null,
            "align_content": null,
            "visibility": null,
            "align_self": null,
            "height": null,
            "min_height": null,
            "padding": null,
            "grid_auto_rows": null,
            "grid_gap": null,
            "max_width": null,
            "order": null,
            "_view_module_version": "1.2.0",
            "grid_template_areas": null,
            "object_position": null,
            "object_fit": null,
            "grid_auto_columns": null,
            "margin": null,
            "display": null,
            "left": null
          }
        },
        "9f146827f1174fd89033b787b23e4cc7": {
          "model_module": "@jupyter-widgets/controls",
          "model_name": "HBoxModel",
          "state": {
            "_view_name": "HBoxView",
            "_dom_classes": [],
            "_model_name": "HBoxModel",
            "_view_module": "@jupyter-widgets/controls",
            "_model_module_version": "1.5.0",
            "_view_count": null,
            "_view_module_version": "1.5.0",
            "box_style": "",
            "layout": "IPY_MODEL_82974822b39c4611a9369db7b9ebfc0c",
            "_model_module": "@jupyter-widgets/controls",
            "children": [
              "IPY_MODEL_7ebdd61c29c2467f8e793369d371eb95",
              "IPY_MODEL_b30e408e4184416f91979181fa63a882"
            ]
          }
        },
        "82974822b39c4611a9369db7b9ebfc0c": {
          "model_module": "@jupyter-widgets/base",
          "model_name": "LayoutModel",
          "state": {
            "_view_name": "LayoutView",
            "grid_template_rows": null,
            "right": null,
            "justify_content": null,
            "_view_module": "@jupyter-widgets/base",
            "overflow": null,
            "_model_module_version": "1.2.0",
            "_view_count": null,
            "flex_flow": null,
            "width": null,
            "min_width": null,
            "border": null,
            "align_items": null,
            "bottom": null,
            "_model_module": "@jupyter-widgets/base",
            "top": null,
            "grid_column": null,
            "overflow_y": null,
            "overflow_x": null,
            "grid_auto_flow": null,
            "grid_area": null,
            "grid_template_columns": null,
            "flex": null,
            "_model_name": "LayoutModel",
            "justify_items": null,
            "grid_row": null,
            "max_height": null,
            "align_content": null,
            "visibility": null,
            "align_self": null,
            "height": null,
            "min_height": null,
            "padding": null,
            "grid_auto_rows": null,
            "grid_gap": null,
            "max_width": null,
            "order": null,
            "_view_module_version": "1.2.0",
            "grid_template_areas": null,
            "object_position": null,
            "object_fit": null,
            "grid_auto_columns": null,
            "margin": null,
            "display": null,
            "left": null
          }
        },
        "7ebdd61c29c2467f8e793369d371eb95": {
          "model_module": "@jupyter-widgets/controls",
          "model_name": "FloatProgressModel",
          "state": {
            "_view_name": "ProgressView",
            "style": "IPY_MODEL_9f979eec86964713832f6091595b4f38",
            "_dom_classes": [],
            "description": "100%",
            "_model_name": "FloatProgressModel",
            "bar_style": "",
            "max": 9,
            "_view_module": "@jupyter-widgets/controls",
            "_model_module_version": "1.5.0",
            "value": 9,
            "_view_count": null,
            "_view_module_version": "1.5.0",
            "orientation": "horizontal",
            "min": 0,
            "description_tooltip": null,
            "_model_module": "@jupyter-widgets/controls",
            "layout": "IPY_MODEL_2aa165a584b0445bb50c6949dbd8dff4"
          }
        },
        "b30e408e4184416f91979181fa63a882": {
          "model_module": "@jupyter-widgets/controls",
          "model_name": "HTMLModel",
          "state": {
            "_view_name": "HTMLView",
            "style": "IPY_MODEL_5fc68d3ad13742838294a267afa741a5",
            "_dom_classes": [],
            "description": "",
            "_model_name": "HTMLModel",
            "placeholder": "​",
            "_view_module": "@jupyter-widgets/controls",
            "_model_module_version": "1.5.0",
            "value": " 9/9 [00:01&lt;00:00,  5.40it/s]",
            "_view_count": null,
            "_view_module_version": "1.5.0",
            "description_tooltip": null,
            "_model_module": "@jupyter-widgets/controls",
            "layout": "IPY_MODEL_aa2f13d2aa0e4e36a4ae128fa77f014c"
          }
        },
        "9f979eec86964713832f6091595b4f38": {
          "model_module": "@jupyter-widgets/controls",
          "model_name": "ProgressStyleModel",
          "state": {
            "_view_name": "StyleView",
            "_model_name": "ProgressStyleModel",
            "description_width": "initial",
            "_view_module": "@jupyter-widgets/base",
            "_model_module_version": "1.5.0",
            "_view_count": null,
            "_view_module_version": "1.2.0",
            "bar_color": null,
            "_model_module": "@jupyter-widgets/controls"
          }
        },
        "2aa165a584b0445bb50c6949dbd8dff4": {
          "model_module": "@jupyter-widgets/base",
          "model_name": "LayoutModel",
          "state": {
            "_view_name": "LayoutView",
            "grid_template_rows": null,
            "right": null,
            "justify_content": null,
            "_view_module": "@jupyter-widgets/base",
            "overflow": null,
            "_model_module_version": "1.2.0",
            "_view_count": null,
            "flex_flow": null,
            "width": null,
            "min_width": null,
            "border": null,
            "align_items": null,
            "bottom": null,
            "_model_module": "@jupyter-widgets/base",
            "top": null,
            "grid_column": null,
            "overflow_y": null,
            "overflow_x": null,
            "grid_auto_flow": null,
            "grid_area": null,
            "grid_template_columns": null,
            "flex": null,
            "_model_name": "LayoutModel",
            "justify_items": null,
            "grid_row": null,
            "max_height": null,
            "align_content": null,
            "visibility": null,
            "align_self": null,
            "height": null,
            "min_height": null,
            "padding": null,
            "grid_auto_rows": null,
            "grid_gap": null,
            "max_width": null,
            "order": null,
            "_view_module_version": "1.2.0",
            "grid_template_areas": null,
            "object_position": null,
            "object_fit": null,
            "grid_auto_columns": null,
            "margin": null,
            "display": null,
            "left": null
          }
        },
        "5fc68d3ad13742838294a267afa741a5": {
          "model_module": "@jupyter-widgets/controls",
          "model_name": "DescriptionStyleModel",
          "state": {
            "_view_name": "StyleView",
            "_model_name": "DescriptionStyleModel",
            "description_width": "",
            "_view_module": "@jupyter-widgets/base",
            "_model_module_version": "1.5.0",
            "_view_count": null,
            "_view_module_version": "1.2.0",
            "_model_module": "@jupyter-widgets/controls"
          }
        },
        "aa2f13d2aa0e4e36a4ae128fa77f014c": {
          "model_module": "@jupyter-widgets/base",
          "model_name": "LayoutModel",
          "state": {
            "_view_name": "LayoutView",
            "grid_template_rows": null,
            "right": null,
            "justify_content": null,
            "_view_module": "@jupyter-widgets/base",
            "overflow": null,
            "_model_module_version": "1.2.0",
            "_view_count": null,
            "flex_flow": null,
            "width": null,
            "min_width": null,
            "border": null,
            "align_items": null,
            "bottom": null,
            "_model_module": "@jupyter-widgets/base",
            "top": null,
            "grid_column": null,
            "overflow_y": null,
            "overflow_x": null,
            "grid_auto_flow": null,
            "grid_area": null,
            "grid_template_columns": null,
            "flex": null,
            "_model_name": "LayoutModel",
            "justify_items": null,
            "grid_row": null,
            "max_height": null,
            "align_content": null,
            "visibility": null,
            "align_self": null,
            "height": null,
            "min_height": null,
            "padding": null,
            "grid_auto_rows": null,
            "grid_gap": null,
            "max_width": null,
            "order": null,
            "_view_module_version": "1.2.0",
            "grid_template_areas": null,
            "object_position": null,
            "object_fit": null,
            "grid_auto_columns": null,
            "margin": null,
            "display": null,
            "left": null
          }
        },
        "3bdfd235029543398d7dae8993b56fa4": {
          "model_module": "@jupyter-widgets/controls",
          "model_name": "HBoxModel",
          "state": {
            "_view_name": "HBoxView",
            "_dom_classes": [],
            "_model_name": "HBoxModel",
            "_view_module": "@jupyter-widgets/controls",
            "_model_module_version": "1.5.0",
            "_view_count": null,
            "_view_module_version": "1.5.0",
            "box_style": "",
            "layout": "IPY_MODEL_98fc1ade936342338444dac6446d9a6a",
            "_model_module": "@jupyter-widgets/controls",
            "children": [
              "IPY_MODEL_297484b1ca9e4e7d8be086be51e8f603",
              "IPY_MODEL_d2b6d185058f4e3485fd481fed3aa4a5"
            ]
          }
        },
        "98fc1ade936342338444dac6446d9a6a": {
          "model_module": "@jupyter-widgets/base",
          "model_name": "LayoutModel",
          "state": {
            "_view_name": "LayoutView",
            "grid_template_rows": null,
            "right": null,
            "justify_content": null,
            "_view_module": "@jupyter-widgets/base",
            "overflow": null,
            "_model_module_version": "1.2.0",
            "_view_count": null,
            "flex_flow": null,
            "width": null,
            "min_width": null,
            "border": null,
            "align_items": null,
            "bottom": null,
            "_model_module": "@jupyter-widgets/base",
            "top": null,
            "grid_column": null,
            "overflow_y": null,
            "overflow_x": null,
            "grid_auto_flow": null,
            "grid_area": null,
            "grid_template_columns": null,
            "flex": null,
            "_model_name": "LayoutModel",
            "justify_items": null,
            "grid_row": null,
            "max_height": null,
            "align_content": null,
            "visibility": null,
            "align_self": null,
            "height": null,
            "min_height": null,
            "padding": null,
            "grid_auto_rows": null,
            "grid_gap": null,
            "max_width": null,
            "order": null,
            "_view_module_version": "1.2.0",
            "grid_template_areas": null,
            "object_position": null,
            "object_fit": null,
            "grid_auto_columns": null,
            "margin": null,
            "display": null,
            "left": null
          }
        },
        "297484b1ca9e4e7d8be086be51e8f603": {
          "model_module": "@jupyter-widgets/controls",
          "model_name": "FloatProgressModel",
          "state": {
            "_view_name": "ProgressView",
            "style": "IPY_MODEL_4916b5105f0a4e8aa637ee03be97a227",
            "_dom_classes": [],
            "description": "100%",
            "_model_name": "FloatProgressModel",
            "bar_style": "",
            "max": 9,
            "_view_module": "@jupyter-widgets/controls",
            "_model_module_version": "1.5.0",
            "value": 9,
            "_view_count": null,
            "_view_module_version": "1.5.0",
            "orientation": "horizontal",
            "min": 0,
            "description_tooltip": null,
            "_model_module": "@jupyter-widgets/controls",
            "layout": "IPY_MODEL_12dc266ce452420c8ea247c93dfe1cb8"
          }
        },
        "d2b6d185058f4e3485fd481fed3aa4a5": {
          "model_module": "@jupyter-widgets/controls",
          "model_name": "HTMLModel",
          "state": {
            "_view_name": "HTMLView",
            "style": "IPY_MODEL_843bbe0e77a64bb59bd32b1742797954",
            "_dom_classes": [],
            "description": "",
            "_model_name": "HTMLModel",
            "placeholder": "​",
            "_view_module": "@jupyter-widgets/controls",
            "_model_module_version": "1.5.0",
            "value": " 9/9 [00:01&lt;00:00,  5.38it/s]",
            "_view_count": null,
            "_view_module_version": "1.5.0",
            "description_tooltip": null,
            "_model_module": "@jupyter-widgets/controls",
            "layout": "IPY_MODEL_778eadd0cef449c58fe12f057acf873a"
          }
        },
        "4916b5105f0a4e8aa637ee03be97a227": {
          "model_module": "@jupyter-widgets/controls",
          "model_name": "ProgressStyleModel",
          "state": {
            "_view_name": "StyleView",
            "_model_name": "ProgressStyleModel",
            "description_width": "initial",
            "_view_module": "@jupyter-widgets/base",
            "_model_module_version": "1.5.0",
            "_view_count": null,
            "_view_module_version": "1.2.0",
            "bar_color": null,
            "_model_module": "@jupyter-widgets/controls"
          }
        },
        "12dc266ce452420c8ea247c93dfe1cb8": {
          "model_module": "@jupyter-widgets/base",
          "model_name": "LayoutModel",
          "state": {
            "_view_name": "LayoutView",
            "grid_template_rows": null,
            "right": null,
            "justify_content": null,
            "_view_module": "@jupyter-widgets/base",
            "overflow": null,
            "_model_module_version": "1.2.0",
            "_view_count": null,
            "flex_flow": null,
            "width": null,
            "min_width": null,
            "border": null,
            "align_items": null,
            "bottom": null,
            "_model_module": "@jupyter-widgets/base",
            "top": null,
            "grid_column": null,
            "overflow_y": null,
            "overflow_x": null,
            "grid_auto_flow": null,
            "grid_area": null,
            "grid_template_columns": null,
            "flex": null,
            "_model_name": "LayoutModel",
            "justify_items": null,
            "grid_row": null,
            "max_height": null,
            "align_content": null,
            "visibility": null,
            "align_self": null,
            "height": null,
            "min_height": null,
            "padding": null,
            "grid_auto_rows": null,
            "grid_gap": null,
            "max_width": null,
            "order": null,
            "_view_module_version": "1.2.0",
            "grid_template_areas": null,
            "object_position": null,
            "object_fit": null,
            "grid_auto_columns": null,
            "margin": null,
            "display": null,
            "left": null
          }
        },
        "843bbe0e77a64bb59bd32b1742797954": {
          "model_module": "@jupyter-widgets/controls",
          "model_name": "DescriptionStyleModel",
          "state": {
            "_view_name": "StyleView",
            "_model_name": "DescriptionStyleModel",
            "description_width": "",
            "_view_module": "@jupyter-widgets/base",
            "_model_module_version": "1.5.0",
            "_view_count": null,
            "_view_module_version": "1.2.0",
            "_model_module": "@jupyter-widgets/controls"
          }
        },
        "778eadd0cef449c58fe12f057acf873a": {
          "model_module": "@jupyter-widgets/base",
          "model_name": "LayoutModel",
          "state": {
            "_view_name": "LayoutView",
            "grid_template_rows": null,
            "right": null,
            "justify_content": null,
            "_view_module": "@jupyter-widgets/base",
            "overflow": null,
            "_model_module_version": "1.2.0",
            "_view_count": null,
            "flex_flow": null,
            "width": null,
            "min_width": null,
            "border": null,
            "align_items": null,
            "bottom": null,
            "_model_module": "@jupyter-widgets/base",
            "top": null,
            "grid_column": null,
            "overflow_y": null,
            "overflow_x": null,
            "grid_auto_flow": null,
            "grid_area": null,
            "grid_template_columns": null,
            "flex": null,
            "_model_name": "LayoutModel",
            "justify_items": null,
            "grid_row": null,
            "max_height": null,
            "align_content": null,
            "visibility": null,
            "align_self": null,
            "height": null,
            "min_height": null,
            "padding": null,
            "grid_auto_rows": null,
            "grid_gap": null,
            "max_width": null,
            "order": null,
            "_view_module_version": "1.2.0",
            "grid_template_areas": null,
            "object_position": null,
            "object_fit": null,
            "grid_auto_columns": null,
            "margin": null,
            "display": null,
            "left": null
          }
        },
        "12d24afac2c7416d87006e65102dca50": {
          "model_module": "@jupyter-widgets/controls",
          "model_name": "HBoxModel",
          "state": {
            "_view_name": "HBoxView",
            "_dom_classes": [],
            "_model_name": "HBoxModel",
            "_view_module": "@jupyter-widgets/controls",
            "_model_module_version": "1.5.0",
            "_view_count": null,
            "_view_module_version": "1.5.0",
            "box_style": "",
            "layout": "IPY_MODEL_15bd2a723a5b40f68a60b1496bc602e0",
            "_model_module": "@jupyter-widgets/controls",
            "children": [
              "IPY_MODEL_06700a3041a54ea592c6cbad96e7a191",
              "IPY_MODEL_f92f7010ee3d4108bb59dca32249dbc0"
            ]
          }
        },
        "15bd2a723a5b40f68a60b1496bc602e0": {
          "model_module": "@jupyter-widgets/base",
          "model_name": "LayoutModel",
          "state": {
            "_view_name": "LayoutView",
            "grid_template_rows": null,
            "right": null,
            "justify_content": null,
            "_view_module": "@jupyter-widgets/base",
            "overflow": null,
            "_model_module_version": "1.2.0",
            "_view_count": null,
            "flex_flow": null,
            "width": null,
            "min_width": null,
            "border": null,
            "align_items": null,
            "bottom": null,
            "_model_module": "@jupyter-widgets/base",
            "top": null,
            "grid_column": null,
            "overflow_y": null,
            "overflow_x": null,
            "grid_auto_flow": null,
            "grid_area": null,
            "grid_template_columns": null,
            "flex": null,
            "_model_name": "LayoutModel",
            "justify_items": null,
            "grid_row": null,
            "max_height": null,
            "align_content": null,
            "visibility": null,
            "align_self": null,
            "height": null,
            "min_height": null,
            "padding": null,
            "grid_auto_rows": null,
            "grid_gap": null,
            "max_width": null,
            "order": null,
            "_view_module_version": "1.2.0",
            "grid_template_areas": null,
            "object_position": null,
            "object_fit": null,
            "grid_auto_columns": null,
            "margin": null,
            "display": null,
            "left": null
          }
        },
        "06700a3041a54ea592c6cbad96e7a191": {
          "model_module": "@jupyter-widgets/controls",
          "model_name": "FloatProgressModel",
          "state": {
            "_view_name": "ProgressView",
            "style": "IPY_MODEL_4aae6652ef9c41fa876f257f897abba7",
            "_dom_classes": [],
            "description": "100%",
            "_model_name": "FloatProgressModel",
            "bar_style": "",
            "max": 9,
            "_view_module": "@jupyter-widgets/controls",
            "_model_module_version": "1.5.0",
            "value": 9,
            "_view_count": null,
            "_view_module_version": "1.5.0",
            "orientation": "horizontal",
            "min": 0,
            "description_tooltip": null,
            "_model_module": "@jupyter-widgets/controls",
            "layout": "IPY_MODEL_1684a480abd14dd695922cbe024d7b8e"
          }
        },
        "f92f7010ee3d4108bb59dca32249dbc0": {
          "model_module": "@jupyter-widgets/controls",
          "model_name": "HTMLModel",
          "state": {
            "_view_name": "HTMLView",
            "style": "IPY_MODEL_19eaca451a644bab83f3e38c3e2d6845",
            "_dom_classes": [],
            "description": "",
            "_model_name": "HTMLModel",
            "placeholder": "​",
            "_view_module": "@jupyter-widgets/controls",
            "_model_module_version": "1.5.0",
            "value": " 9/9 [00:01&lt;00:00,  5.37it/s]",
            "_view_count": null,
            "_view_module_version": "1.5.0",
            "description_tooltip": null,
            "_model_module": "@jupyter-widgets/controls",
            "layout": "IPY_MODEL_c1bf9a0273394648b04db6fd887d982b"
          }
        },
        "4aae6652ef9c41fa876f257f897abba7": {
          "model_module": "@jupyter-widgets/controls",
          "model_name": "ProgressStyleModel",
          "state": {
            "_view_name": "StyleView",
            "_model_name": "ProgressStyleModel",
            "description_width": "initial",
            "_view_module": "@jupyter-widgets/base",
            "_model_module_version": "1.5.0",
            "_view_count": null,
            "_view_module_version": "1.2.0",
            "bar_color": null,
            "_model_module": "@jupyter-widgets/controls"
          }
        },
        "1684a480abd14dd695922cbe024d7b8e": {
          "model_module": "@jupyter-widgets/base",
          "model_name": "LayoutModel",
          "state": {
            "_view_name": "LayoutView",
            "grid_template_rows": null,
            "right": null,
            "justify_content": null,
            "_view_module": "@jupyter-widgets/base",
            "overflow": null,
            "_model_module_version": "1.2.0",
            "_view_count": null,
            "flex_flow": null,
            "width": null,
            "min_width": null,
            "border": null,
            "align_items": null,
            "bottom": null,
            "_model_module": "@jupyter-widgets/base",
            "top": null,
            "grid_column": null,
            "overflow_y": null,
            "overflow_x": null,
            "grid_auto_flow": null,
            "grid_area": null,
            "grid_template_columns": null,
            "flex": null,
            "_model_name": "LayoutModel",
            "justify_items": null,
            "grid_row": null,
            "max_height": null,
            "align_content": null,
            "visibility": null,
            "align_self": null,
            "height": null,
            "min_height": null,
            "padding": null,
            "grid_auto_rows": null,
            "grid_gap": null,
            "max_width": null,
            "order": null,
            "_view_module_version": "1.2.0",
            "grid_template_areas": null,
            "object_position": null,
            "object_fit": null,
            "grid_auto_columns": null,
            "margin": null,
            "display": null,
            "left": null
          }
        },
        "19eaca451a644bab83f3e38c3e2d6845": {
          "model_module": "@jupyter-widgets/controls",
          "model_name": "DescriptionStyleModel",
          "state": {
            "_view_name": "StyleView",
            "_model_name": "DescriptionStyleModel",
            "description_width": "",
            "_view_module": "@jupyter-widgets/base",
            "_model_module_version": "1.5.0",
            "_view_count": null,
            "_view_module_version": "1.2.0",
            "_model_module": "@jupyter-widgets/controls"
          }
        },
        "c1bf9a0273394648b04db6fd887d982b": {
          "model_module": "@jupyter-widgets/base",
          "model_name": "LayoutModel",
          "state": {
            "_view_name": "LayoutView",
            "grid_template_rows": null,
            "right": null,
            "justify_content": null,
            "_view_module": "@jupyter-widgets/base",
            "overflow": null,
            "_model_module_version": "1.2.0",
            "_view_count": null,
            "flex_flow": null,
            "width": null,
            "min_width": null,
            "border": null,
            "align_items": null,
            "bottom": null,
            "_model_module": "@jupyter-widgets/base",
            "top": null,
            "grid_column": null,
            "overflow_y": null,
            "overflow_x": null,
            "grid_auto_flow": null,
            "grid_area": null,
            "grid_template_columns": null,
            "flex": null,
            "_model_name": "LayoutModel",
            "justify_items": null,
            "grid_row": null,
            "max_height": null,
            "align_content": null,
            "visibility": null,
            "align_self": null,
            "height": null,
            "min_height": null,
            "padding": null,
            "grid_auto_rows": null,
            "grid_gap": null,
            "max_width": null,
            "order": null,
            "_view_module_version": "1.2.0",
            "grid_template_areas": null,
            "object_position": null,
            "object_fit": null,
            "grid_auto_columns": null,
            "margin": null,
            "display": null,
            "left": null
          }
        },
        "a2ed3e1a0dd244379380753d671eab32": {
          "model_module": "@jupyter-widgets/controls",
          "model_name": "HBoxModel",
          "state": {
            "_view_name": "HBoxView",
            "_dom_classes": [],
            "_model_name": "HBoxModel",
            "_view_module": "@jupyter-widgets/controls",
            "_model_module_version": "1.5.0",
            "_view_count": null,
            "_view_module_version": "1.5.0",
            "box_style": "",
            "layout": "IPY_MODEL_11d52c4e5f084a419e6c23ada7d37b52",
            "_model_module": "@jupyter-widgets/controls",
            "children": [
              "IPY_MODEL_8afd0a978e444837b0294accdfeb60ff",
              "IPY_MODEL_e21f1b05eeb549c58eb65834d0393da1"
            ]
          }
        },
        "11d52c4e5f084a419e6c23ada7d37b52": {
          "model_module": "@jupyter-widgets/base",
          "model_name": "LayoutModel",
          "state": {
            "_view_name": "LayoutView",
            "grid_template_rows": null,
            "right": null,
            "justify_content": null,
            "_view_module": "@jupyter-widgets/base",
            "overflow": null,
            "_model_module_version": "1.2.0",
            "_view_count": null,
            "flex_flow": null,
            "width": null,
            "min_width": null,
            "border": null,
            "align_items": null,
            "bottom": null,
            "_model_module": "@jupyter-widgets/base",
            "top": null,
            "grid_column": null,
            "overflow_y": null,
            "overflow_x": null,
            "grid_auto_flow": null,
            "grid_area": null,
            "grid_template_columns": null,
            "flex": null,
            "_model_name": "LayoutModel",
            "justify_items": null,
            "grid_row": null,
            "max_height": null,
            "align_content": null,
            "visibility": null,
            "align_self": null,
            "height": null,
            "min_height": null,
            "padding": null,
            "grid_auto_rows": null,
            "grid_gap": null,
            "max_width": null,
            "order": null,
            "_view_module_version": "1.2.0",
            "grid_template_areas": null,
            "object_position": null,
            "object_fit": null,
            "grid_auto_columns": null,
            "margin": null,
            "display": null,
            "left": null
          }
        },
        "8afd0a978e444837b0294accdfeb60ff": {
          "model_module": "@jupyter-widgets/controls",
          "model_name": "FloatProgressModel",
          "state": {
            "_view_name": "ProgressView",
            "style": "IPY_MODEL_c797aa8b8ff74f10b4cd55c597a010f2",
            "_dom_classes": [],
            "description": "100%",
            "_model_name": "FloatProgressModel",
            "bar_style": "",
            "max": 9,
            "_view_module": "@jupyter-widgets/controls",
            "_model_module_version": "1.5.0",
            "value": 9,
            "_view_count": null,
            "_view_module_version": "1.5.0",
            "orientation": "horizontal",
            "min": 0,
            "description_tooltip": null,
            "_model_module": "@jupyter-widgets/controls",
            "layout": "IPY_MODEL_b13d549d33a14739b8a82a4df797522c"
          }
        },
        "e21f1b05eeb549c58eb65834d0393da1": {
          "model_module": "@jupyter-widgets/controls",
          "model_name": "HTMLModel",
          "state": {
            "_view_name": "HTMLView",
            "style": "IPY_MODEL_02247c7032f8484c9ec8f5c5d8bbb575",
            "_dom_classes": [],
            "description": "",
            "_model_name": "HTMLModel",
            "placeholder": "​",
            "_view_module": "@jupyter-widgets/controls",
            "_model_module_version": "1.5.0",
            "value": " 9/9 [00:01&lt;00:00,  5.33it/s]",
            "_view_count": null,
            "_view_module_version": "1.5.0",
            "description_tooltip": null,
            "_model_module": "@jupyter-widgets/controls",
            "layout": "IPY_MODEL_519839c1958f40738ca2cb5f26d946c4"
          }
        },
        "c797aa8b8ff74f10b4cd55c597a010f2": {
          "model_module": "@jupyter-widgets/controls",
          "model_name": "ProgressStyleModel",
          "state": {
            "_view_name": "StyleView",
            "_model_name": "ProgressStyleModel",
            "description_width": "initial",
            "_view_module": "@jupyter-widgets/base",
            "_model_module_version": "1.5.0",
            "_view_count": null,
            "_view_module_version": "1.2.0",
            "bar_color": null,
            "_model_module": "@jupyter-widgets/controls"
          }
        },
        "b13d549d33a14739b8a82a4df797522c": {
          "model_module": "@jupyter-widgets/base",
          "model_name": "LayoutModel",
          "state": {
            "_view_name": "LayoutView",
            "grid_template_rows": null,
            "right": null,
            "justify_content": null,
            "_view_module": "@jupyter-widgets/base",
            "overflow": null,
            "_model_module_version": "1.2.0",
            "_view_count": null,
            "flex_flow": null,
            "width": null,
            "min_width": null,
            "border": null,
            "align_items": null,
            "bottom": null,
            "_model_module": "@jupyter-widgets/base",
            "top": null,
            "grid_column": null,
            "overflow_y": null,
            "overflow_x": null,
            "grid_auto_flow": null,
            "grid_area": null,
            "grid_template_columns": null,
            "flex": null,
            "_model_name": "LayoutModel",
            "justify_items": null,
            "grid_row": null,
            "max_height": null,
            "align_content": null,
            "visibility": null,
            "align_self": null,
            "height": null,
            "min_height": null,
            "padding": null,
            "grid_auto_rows": null,
            "grid_gap": null,
            "max_width": null,
            "order": null,
            "_view_module_version": "1.2.0",
            "grid_template_areas": null,
            "object_position": null,
            "object_fit": null,
            "grid_auto_columns": null,
            "margin": null,
            "display": null,
            "left": null
          }
        },
        "02247c7032f8484c9ec8f5c5d8bbb575": {
          "model_module": "@jupyter-widgets/controls",
          "model_name": "DescriptionStyleModel",
          "state": {
            "_view_name": "StyleView",
            "_model_name": "DescriptionStyleModel",
            "description_width": "",
            "_view_module": "@jupyter-widgets/base",
            "_model_module_version": "1.5.0",
            "_view_count": null,
            "_view_module_version": "1.2.0",
            "_model_module": "@jupyter-widgets/controls"
          }
        },
        "519839c1958f40738ca2cb5f26d946c4": {
          "model_module": "@jupyter-widgets/base",
          "model_name": "LayoutModel",
          "state": {
            "_view_name": "LayoutView",
            "grid_template_rows": null,
            "right": null,
            "justify_content": null,
            "_view_module": "@jupyter-widgets/base",
            "overflow": null,
            "_model_module_version": "1.2.0",
            "_view_count": null,
            "flex_flow": null,
            "width": null,
            "min_width": null,
            "border": null,
            "align_items": null,
            "bottom": null,
            "_model_module": "@jupyter-widgets/base",
            "top": null,
            "grid_column": null,
            "overflow_y": null,
            "overflow_x": null,
            "grid_auto_flow": null,
            "grid_area": null,
            "grid_template_columns": null,
            "flex": null,
            "_model_name": "LayoutModel",
            "justify_items": null,
            "grid_row": null,
            "max_height": null,
            "align_content": null,
            "visibility": null,
            "align_self": null,
            "height": null,
            "min_height": null,
            "padding": null,
            "grid_auto_rows": null,
            "grid_gap": null,
            "max_width": null,
            "order": null,
            "_view_module_version": "1.2.0",
            "grid_template_areas": null,
            "object_position": null,
            "object_fit": null,
            "grid_auto_columns": null,
            "margin": null,
            "display": null,
            "left": null
          }
        }
      }
    }
  },
  "cells": [
    {
      "cell_type": "markdown",
      "metadata": {
        "id": "view-in-github",
        "colab_type": "text"
      },
      "source": [
        "<a href=\"https://colab.research.google.com/github/manmeet3/Masters_Project/blob/master/wip_colabs/tumor_anomaly/kaggle_dataset.ipynb\" target=\"_parent\"><img src=\"https://colab.research.google.com/assets/colab-badge.svg\" alt=\"Open In Colab\"/></a>"
      ]
    },
    {
      "cell_type": "code",
      "metadata": {
        "id": "KXkoVEkWronw"
      },
      "source": [
        "# https://www.groundai.com/project/ganomaly-semi-supervised-anomaly-detection-via-adversarial-training/1"
      ],
      "execution_count": null,
      "outputs": []
    },
    {
      "cell_type": "markdown",
      "metadata": {
        "id": "iGwuLlM7rs7o"
      },
      "source": [
        "https://github.com/chychen/tf2-ganomaly"
      ]
    },
    {
      "cell_type": "code",
      "metadata": {
        "colab": {
          "base_uri": "https://localhost:8080/"
        },
        "id": "P1LytNWdqguQ",
        "outputId": "70f6f79a-d6fa-4d38-ce0f-afa0089d23e5"
      },
      "source": [
        "from google.colab import drive\n",
        "drive.mount(\"/content/drive\", force_remount=True)"
      ],
      "execution_count": 1,
      "outputs": [
        {
          "output_type": "stream",
          "text": [
            "Mounted at /content/drive\n"
          ],
          "name": "stdout"
        }
      ]
    },
    {
      "cell_type": "code",
      "metadata": {
        "colab": {
          "base_uri": "https://localhost:8080/"
        },
        "id": "E4odjevGqhkd",
        "outputId": "63fda94b-299e-4046-c28f-2ba8c78274fe"
      },
      "source": [
        "%cd /content/drive/MyDrive/Masters_Project/Datasets/new1/kaggle_tumor_detection/"
      ],
      "execution_count": 2,
      "outputs": [
        {
          "output_type": "stream",
          "text": [
            "/content/drive/MyDrive/Masters_Project/Datasets/new1/kaggle_tumor_detection\n"
          ],
          "name": "stdout"
        }
      ]
    },
    {
      "cell_type": "code",
      "metadata": {
        "id": "pFf-uzo_q7iL"
      },
      "source": [
        "# %cd ganomaly_tf2\n",
        "# !wget https://raw.githubusercontent.com/chychen/tf2-ganomaly/master/metrics.py\n",
        "# !wget https://raw.githubusercontent.com/chychen/tf2-ganomaly/master/model.py\n",
        "# !wget https://raw.githubusercontent.com/chychen/tf2-ganomaly/master/train.py"
      ],
      "execution_count": null,
      "outputs": []
    },
    {
      "cell_type": "code",
      "metadata": {
        "colab": {
          "base_uri": "https://localhost:8080/"
        },
        "id": "AATRtv9srdvp",
        "outputId": "8b90bf29-9154-4557-abef-a47eaf99742f"
      },
      "source": [
        "%matplotlib inline\n",
        "import tensorflow as tf\n",
        "from tensorflow.keras import layers\n",
        "print(tf.__version__)\n",
        "import os\n",
        "import time\n",
        "import numpy as np\n",
        "import cv2\n",
        "import glob\n",
        "import matplotlib.pyplot as plt\n",
        "from IPython.display import clear_output\n",
        "from ganomaly_tf2.model import GANomaly\n",
        "from absl import logging\n",
        "logging.set_verbosity(logging.INFO)\n",
        "logging.set_stderrthreshold(logging.INFO)\n",
        "\n",
        "from typing import Any, Callable, Optional, Tuple\n",
        "from PIL import Image\n",
        "from sklearn.model_selection import train_test_split"
      ],
      "execution_count": 3,
      "outputs": [
        {
          "output_type": "stream",
          "text": [
            "2.4.1\n"
          ],
          "name": "stdout"
        }
      ]
    },
    {
      "cell_type": "code",
      "metadata": {
        "id": "ueHQqtypr8kH"
      },
      "source": [
        "def batch_resize(imgs, size: tuple):\n",
        "    img_out = np.empty((imgs.shape[0],) + size)\n",
        "    for i in range(imgs.shape[0]):\n",
        "        img_out[i] = cv2.resize(imgs[i], size, interpolation=cv2.INTER_CUBIC)\n",
        "    return img_out"
      ],
      "execution_count": 4,
      "outputs": []
    },
    {
      "cell_type": "code",
      "metadata": {
        "id": "gjZwaE0KsCyO"
      },
      "source": [
        "class Option:\n",
        "    def __init__(self):\n",
        "        self.anomaly = 1 # the anomaly digit\n",
        "        self.shuffle_buffer_size = 10000\n",
        "        self.batch_size = 8\n",
        "        self.isize = 256 # input size\n",
        "        self.ckpt_dir = \"ckpt\"\n",
        "        self.nz = 100 # latent dims\n",
        "        self.nc = 1 # input channels\n",
        "        self.ndf = 64 # number of discriminator's filters\n",
        "        self.ngf = 64 # number of generator's filters\n",
        "        self.extralayers = 0\n",
        "        self.niter = 15 # number of training epochs\n",
        "        self.lr = 2e-4 \n",
        "        self.w_adv = 1. # Adversarial loss weight\n",
        "        self.w_con = 50. # Reconstruction loss weight\n",
        "        self.w_enc = 1. # Encoder loss weight.\n",
        "        self.beta1 = 0.5\n",
        "        self.encdims = None\n",
        "            \n",
        "opt = Option()"
      ],
      "execution_count": 5,
      "outputs": []
    },
    {
      "cell_type": "code",
      "metadata": {
        "colab": {
          "base_uri": "https://localhost:8080/"
        },
        "id": "WkAMiBZKytN2",
        "outputId": "911596f2-21f8-4053-e7fa-c63061f16a6e"
      },
      "source": [
        "data_train, data_test = tf.keras.datasets.mnist.load_data()\n",
        "# (x_train, y_train), (x_test, y_test) = tf.keras.datasets.mnist.load_data()"
      ],
      "execution_count": null,
      "outputs": [
        {
          "output_type": "stream",
          "text": [
            "Downloading data from https://storage.googleapis.com/tensorflow/tf-keras-datasets/mnist.npz\n",
            "11493376/11490434 [==============================] - 0s 0us/step\n"
          ],
          "name": "stdout"
        }
      ]
    },
    {
      "cell_type": "code",
      "metadata": {
        "id": "otGVmqKZ72_o"
      },
      "source": [
        "def read_data(path, normal=True):\n",
        "    data: Any = []\n",
        "    labels = []\n",
        "    \n",
        "    for file_path in glob.glob(path):\n",
        "        with open (file_path, 'rb') as f:\n",
        "            # image needs to be a PIL image\n",
        "            img = Image.open(f).convert('L')\n",
        "            # image size\n",
        "            # width, height = img.size\n",
        "            # mode = img.mode\n",
        "            # print(f\"w: {width} h: {height} mode: {mode}\")\n",
        "            # Resize all images 176, 256, 3 -> 256, 256, 0\n",
        "            dsize = (256, 256)\n",
        "            resized = img.resize(dsize)\n",
        "            # After resize\n",
        "            # width, height = resized.size\n",
        "            # mode = resized.mode\n",
        "            # print(f\"RESIZED: w: {width} h: {height} mode: {mode}\")\n",
        "            data.append(resized)\n",
        "            labels.append(1 if normal else 0) \n",
        "            \n",
        "    data = np.vstack(data).reshape(-1, 256, 256)\n",
        "    data = data.transpose((0, 1, 2))  # convert to HWC\n",
        "    return (data, labels)"
      ],
      "execution_count": 15,
      "outputs": []
    },
    {
      "cell_type": "code",
      "metadata": {
        "colab": {
          "base_uri": "https://localhost:8080/"
        },
        "id": "gwounWgO1nR9",
        "outputId": "e2d058be-e998-4ec8-ceb2-0bc685505625"
      },
      "source": [
        "train_image_number = 140 # Image slice from MRI scans to use for training data\n",
        "#root_dir = '/content/drive/MyDrive/Masters_Project/Datasets/OASIS3/'\n",
        "root = '/content/drive/MyDrive/Masters_Project/Datasets/new1/kaggle_tumor_detection/'\n",
        "normal_folder = 'no/'\n",
        "tumor_folder = 'yes/'\n",
        "\n",
        "normal_jpg_folder = os.path.join(root, normal_folder)\n",
        "tumor_jpg_folder = os.path.join(root, tumor_folder)\n",
        "    \n",
        "print(\"=\"*5 + \" Loading Data \" + \"=\"*5)\n",
        "print(f\"tumor_jpg_folder: {tumor_jpg_folder}\")\n",
        "print(f\"normal_jpg_folder: {normal_jpg_folder}\")\n",
        "\n",
        "non_ad_data: Any = []\n",
        "non_ad_targets = []\n",
        "\n",
        "ad_data: Any = []\n",
        "ad_targets = []\n",
        "\n",
        "# Read data and label into a numpy array\n",
        "non_ad_data, non_ad_targets = read_data(normal_jpg_folder+'**.jpg', normal=True)\n",
        "ad_data, ad_targets = read_data(tumor_jpg_folder+'**.jpg', normal=False)\n",
        "\n",
        "# shuffle the datasets and bucket them as test and train\n",
        "# (non_ad_data, non_ad_targets) = shuffle_associated_arrays(non_ad_data, non_ad_targets)\n",
        "# (ad_data, ad_targets) = shuffle_associated_arrays(ad_data, ad_targets)\n",
        "\n",
        "all_data = np.concatenate((non_ad_data, ad_data), axis=0)\n",
        "all_targets = non_ad_targets + ad_targets\n",
        "\n",
        "x_train, x_test, y_train, y_test =\\\n",
        "  train_test_split(all_data, all_targets, test_size=0.1, random_state=42)"
      ],
      "execution_count": 16,
      "outputs": [
        {
          "output_type": "stream",
          "text": [
            "===== Loading Data =====\n",
            "tumor_jpg_folder: /content/drive/MyDrive/Masters_Project/Datasets/new1/kaggle_tumor_detection/yes/\n",
            "normal_jpg_folder: /content/drive/MyDrive/Masters_Project/Datasets/new1/kaggle_tumor_detection/no/\n"
          ],
          "name": "stdout"
        }
      ]
    },
    {
      "cell_type": "code",
      "metadata": {
        "id": "p-x5XcnOW7t_"
      },
      "source": [
        "x_train = x_train.astype(np.float32)\n",
        "x_test = x_test.astype(np.float32)\n",
        "\n",
        "y_train = np.array(y_train, dtype=np.intc)\n",
        "y_test = np.array(y_test, dtype=np.intc)"
      ],
      "execution_count": 18,
      "outputs": []
    },
    {
      "cell_type": "code",
      "metadata": {
        "colab": {
          "base_uri": "https://localhost:8080/"
        },
        "id": "jilyDAnIDad0",
        "outputId": "d880b5fc-fdce-40a7-b278-a78195d24b4b"
      },
      "source": [
        "print(x_train.shape)\n",
        "print(x_test.shape)"
      ],
      "execution_count": 21,
      "outputs": [
        {
          "output_type": "stream",
          "text": [
            "(153, 256, 256)\n",
            "(18, 256, 256)\n"
          ],
          "name": "stdout"
        }
      ]
    },
    {
      "cell_type": "code",
      "metadata": {
        "colab": {
          "base_uri": "https://localhost:8080/"
        },
        "id": "YnuODPLIXho3",
        "outputId": "f09df441-8caf-48c4-e87f-a71e76c6df7a"
      },
      "source": [
        "x_train = batch_resize(x_train, (256, 256))[..., None]\n",
        "x_test = batch_resize(x_test, (256, 256))[..., None]\n",
        "# normalization\n",
        "mean = x_train.mean()\n",
        "stddev = x_train.std()\n",
        "x_train = (x_train-mean)/stddev\n",
        "x_test = (x_test-mean)/stddev\n",
        "print(x_train.shape, x_train.shape)\n",
        "# define abnoraml data and normal\n",
        "# training data only contains normal\n",
        "x_train = x_train[y_train!=opt.anomaly]\n",
        "y_train = y_train[y_train!=opt.anomaly]\n",
        "y_test = (y_test==opt.anomaly).astype(np.float32)\n",
        "# tf.data.Dataset\n",
        "train_dataset = tf.data.Dataset.from_tensor_slices((x_train, y_train))\n",
        "test_dataset = tf.data.Dataset.from_tensor_slices((x_test, y_test))\n",
        "train_dataset = train_dataset.shuffle(opt.shuffle_buffer_size).batch(opt.batch_size, drop_remainder=True)\n",
        "test_dataset = test_dataset.batch(opt.batch_size, drop_remainder=False)"
      ],
      "execution_count": 22,
      "outputs": [
        {
          "output_type": "stream",
          "text": [
            "(153, 256, 256, 1) (153, 256, 256, 1)\n"
          ],
          "name": "stdout"
        }
      ]
    },
    {
      "cell_type": "code",
      "metadata": {
        "colab": {
          "base_uri": "https://localhost:8080/"
        },
        "id": "ZW7nfXrVYKE2",
        "outputId": "e7ed3d24-2e13-4973-d223-6269396d8a29"
      },
      "source": [
        "train_dataset"
      ],
      "execution_count": 23,
      "outputs": [
        {
          "output_type": "execute_result",
          "data": {
            "text/plain": [
              "<BatchDataset shapes: ((8, 256, 256, 1), (8,)), types: (tf.float64, tf.int32)>"
            ]
          },
          "metadata": {
            "tags": []
          },
          "execution_count": 23
        }
      ]
    },
    {
      "cell_type": "code",
      "metadata": {
        "colab": {
          "base_uri": "https://localhost:8080/"
        },
        "id": "6Y5E8hGtYzr9",
        "outputId": "3ab9e6df-6e40-4068-92ae-967a33d242a3"
      },
      "source": [
        "test_dataset"
      ],
      "execution_count": 24,
      "outputs": [
        {
          "output_type": "execute_result",
          "data": {
            "text/plain": [
              "<BatchDataset shapes: ((None, 256, 256, 1), (None,)), types: (tf.float64, tf.float32)>"
            ]
          },
          "metadata": {
            "tags": []
          },
          "execution_count": 24
        }
      ]
    },
    {
      "cell_type": "code",
      "metadata": {
        "id": "fW1GpM5-Y3St"
      },
      "source": [
        "ganomaly = GANomaly(opt, train_dataset, valid_dataset=None, test_dataset=test_dataset)"
      ],
      "execution_count": 25,
      "outputs": []
    },
    {
      "cell_type": "code",
      "metadata": {
        "colab": {
          "base_uri": "https://localhost:8080/",
          "height": 1000,
          "referenced_widgets": [
            "3fc3c8063d1940b3b253f0b52d8c6b82",
            "8fab6657068c46b1bc7a06809af6d0af",
            "13fbe7bc124f43768b448e0fcf0c6c0b",
            "c31c9e29fb2d4341a5806c3ed1fdb6a7",
            "9cc28a365fcf46438f5da923a3149c89",
            "692c6eaadcf744c08ae4e04fa355c291",
            "648c3b0cd8134f01af6660dd4c2748f8",
            "efd74c23c4a8471e88ca3fbb0dcf2abb",
            "6d0c6376deae4f9ca8d14e8c9d0d977e",
            "f80539eb5c3244a4965b64806d3c4beb",
            "380b9b73d9224c1c910e95e60585ce3d",
            "ac85d1d4530242b49cbf7a1bd01df76b",
            "23ac9f57010c4a01a0b657500c091cb4",
            "31831ad9bb7d4132aaf0bbe1c4f0987d",
            "f9ebb4e81c3441e9972516b8044d91ef",
            "5b9a24c65b1a4961b0c3a1997f9067ac",
            "495d33ed2e6d404399f1be0bf69756bb",
            "314b64c794d44328a843dffa92c7d433",
            "cd66e23483514cbdaef78eb642bd45a3",
            "411e53086583493184ef86457fa3dd93",
            "332789b93b6047ab8656ee2322a3c138",
            "9a7faf1132d14f019a99426608cde4d5",
            "6058be2d2c86492c91fc27ce8c325a60",
            "c4e622dcbb324ad7be910d63454285f1",
            "4bf7dfff78f34701837fb432d0b559ed",
            "b6848eeed20342ec98201e050bc87a02",
            "8dbdf41a41dd43ad9cdb6bb7ffed95a4",
            "df28e3d5957d46d78979209bec25998d",
            "321635abc97846d7863809df527042d2",
            "6ddf04a3ce46406eb931430c5a60643f",
            "24a6d36130834f6a92d48a6140ec409b",
            "dbdef2199b6a46ce9f03dd75fdb94aba",
            "59de67ec9a814c5dbbc16228ace6904e",
            "8eea71f6cc5d42c180f95226aafe4717",
            "bdc80ac42f9b414e9daf70132db0caf8",
            "de811302175045a286fdf5adc78d5ddb",
            "94cfc99f8600420dbf663299740bb839",
            "38707df72dfe421ea217d5b53fd18c7e",
            "c2fd33d2946348c5bfb744571fad84a8",
            "f5f99597cf7f4a338f5c6afcd485c693",
            "00d2d0e8d0504f4bacc42822170688bc",
            "be5cf750c0e94bccaf90a7311606cffd",
            "38970bcba88046608bc92787cc6fc9e7",
            "dd5c9fff460445f7b8dc95733996c204",
            "c26f72b8ca69439baff71e478ebc7cd8",
            "1c1fb0ff4aec4db894d61b4ddc6a5143",
            "145f4b26890a416ca114829ccb5913bb",
            "b3c7d50548024bb0a9f3436a479d16b4",
            "10c682298c264f61b580e48cc8bb1b94",
            "7a5ece9499874dba961f70a7a26a6b22",
            "89a006e1385648bebbf0e1a67db48dcb",
            "2a35333f3ec249e786281a80521015d9",
            "a3ce631a79234b7c8b637d8599b2dfda",
            "71510461b55d489d9ef38cf44af60d78",
            "69fe7c3f750b4a2794c24c5ee1b4f214",
            "8fe3be8dd0844c37bf3f452c8eec51fa",
            "59213f8b1e3c4ca3b169e7fe35720e37",
            "ef34d00ab3de4d70a0bbc9b0e32c4d55",
            "0b4bfeb37d984122bd7ac0bef21ff7a9",
            "cb50789674ac4540af17d8935366cffb",
            "27e909f8374b4d56b16ac886db4dbefe",
            "aaec39239ff04180bce52c9db01ab6ce",
            "e63de00fe1324666856dff585bb1b29b",
            "2a4d077131814086b895d29a1eab9290",
            "66a01fd7a4d94fdc8a94bec5a64616aa",
            "bb7716eea8f743538d604b543315c725",
            "5821c7f5590d4f55ae7503c35dad3a80",
            "d366202bc22c457195a4c93967938a8a",
            "dda2af3530574c9c8b0993ea150a2838",
            "34178e0e66b444ee9153630a75b6956b",
            "ee9e79ca026043dcaf61d4f78b973afa",
            "fe6f761192134076a7a4389d98c5b54c",
            "e19c2cca10ca4bcaa7402e0c012bc4c3",
            "5238f80196ec4f2c8eaaf22818309356",
            "f6bdb06a9ed8481e9ffffca6f52f0e6d",
            "b71c2a22248a41909655b695e36837d0",
            "69f2467d4e2f4820b12afcfabf8d2d72",
            "69678fea122345d9a91432014b68a507",
            "60af0b924f4b4dc4b6ced1964dee4de2",
            "8a6dc5288b1f4439a51712a54cf2ae13",
            "9eeea7b15bbe43f7aa4a644d9407ef99",
            "c2dbc7d500564a12be44533a69a57409",
            "b5f947050d2d43d89c379c4836468d61",
            "932e0b06edaf4de69eeaa866b0d79ea1",
            "8d90ab35c82c4ae8931080468004a3b6",
            "ce84d00a3d914f21941aca8ed2435482",
            "9afba4f375d3477dafa6a750f1cb95b9",
            "835d71869f42435aab8d61ec377752c8",
            "9f146827f1174fd89033b787b23e4cc7",
            "82974822b39c4611a9369db7b9ebfc0c",
            "7ebdd61c29c2467f8e793369d371eb95",
            "b30e408e4184416f91979181fa63a882",
            "9f979eec86964713832f6091595b4f38",
            "2aa165a584b0445bb50c6949dbd8dff4",
            "5fc68d3ad13742838294a267afa741a5",
            "aa2f13d2aa0e4e36a4ae128fa77f014c",
            "3bdfd235029543398d7dae8993b56fa4",
            "98fc1ade936342338444dac6446d9a6a",
            "297484b1ca9e4e7d8be086be51e8f603",
            "d2b6d185058f4e3485fd481fed3aa4a5",
            "4916b5105f0a4e8aa637ee03be97a227",
            "12dc266ce452420c8ea247c93dfe1cb8",
            "843bbe0e77a64bb59bd32b1742797954",
            "778eadd0cef449c58fe12f057acf873a",
            "12d24afac2c7416d87006e65102dca50",
            "15bd2a723a5b40f68a60b1496bc602e0",
            "06700a3041a54ea592c6cbad96e7a191",
            "f92f7010ee3d4108bb59dca32249dbc0",
            "4aae6652ef9c41fa876f257f897abba7",
            "1684a480abd14dd695922cbe024d7b8e",
            "19eaca451a644bab83f3e38c3e2d6845",
            "c1bf9a0273394648b04db6fd887d982b",
            "a2ed3e1a0dd244379380753d671eab32",
            "11d52c4e5f084a419e6c23ada7d37b52",
            "8afd0a978e444837b0294accdfeb60ff",
            "e21f1b05eeb549c58eb65834d0393da1",
            "c797aa8b8ff74f10b4cd55c597a010f2",
            "b13d549d33a14739b8a82a4df797522c",
            "02247c7032f8484c9ec8f5c5d8bbb575",
            "519839c1958f40738ca2cb5f26d946c4"
          ]
        },
        "id": "fbKwFAYCY9Zc",
        "outputId": "edcdea19-e611-4bcf-c0ad-8de42c1029e3"
      },
      "source": [
        "ganomaly.fit(opt.niter)"
      ],
      "execution_count": 26,
      "outputs": [
        {
          "output_type": "display_data",
          "data": {
            "application/vnd.jupyter.widget-view+json": {
              "model_id": "3fc3c8063d1940b3b253f0b52d8c6b82",
              "version_minor": 0,
              "version_major": 2
            },
            "text/plain": [
              "HBox(children=(FloatProgress(value=0.0, max=9.0), HTML(value='')))"
            ]
          },
          "metadata": {
            "tags": []
          }
        },
        {
          "output_type": "stream",
          "text": [
            "INFO:absl:epoch: 0, G_losses: 42.2330, D_losses: 3.5373, samples/sec: 3.0175\n"
          ],
          "name": "stderr"
        },
        {
          "output_type": "stream",
          "text": [
            "\rSaving to: ckpt/best\n"
          ],
          "name": "stdout"
        },
        {
          "output_type": "stream",
          "text": [
            "WARNING:absl:Found untraced functions such as conv_bn__act_layer_call_fn, conv_bn__act_layer_call_and_return_conditional_losses, conv2d_6_layer_call_fn, conv2d_6_layer_call_and_return_conditional_losses, conv_bn__act_6_layer_call_fn while saving (showing 5 of 260). These functions will not be directly callable after loading.\n",
            "WARNING:absl:Found untraced functions such as conv_bn__act_layer_call_fn, conv_bn__act_layer_call_and_return_conditional_losses, conv2d_6_layer_call_fn, conv2d_6_layer_call_and_return_conditional_losses, conv_bn__act_6_layer_call_fn while saving (showing 5 of 260). These functions will not be directly callable after loading.\n"
          ],
          "name": "stderr"
        },
        {
          "output_type": "stream",
          "text": [
            "INFO:tensorflow:Assets written to: ckpt/bestgen/assets\n"
          ],
          "name": "stdout"
        },
        {
          "output_type": "stream",
          "text": [
            "INFO:tensorflow:Assets written to: ckpt/bestgen/assets\n",
            "WARNING:absl:Found untraced functions such as conv_bn__act_19_layer_call_fn, conv_bn__act_19_layer_call_and_return_conditional_losses, conv2d_20_layer_call_fn, conv2d_20_layer_call_and_return_conditional_losses, conv2d_14_layer_call_fn while saving (showing 5 of 95). These functions will not be directly callable after loading.\n",
            "WARNING:absl:Found untraced functions such as conv_bn__act_19_layer_call_fn, conv_bn__act_19_layer_call_and_return_conditional_losses, conv2d_20_layer_call_fn, conv2d_20_layer_call_and_return_conditional_losses, conv2d_14_layer_call_fn while saving (showing 5 of 95). These functions will not be directly callable after loading.\n"
          ],
          "name": "stderr"
        },
        {
          "output_type": "stream",
          "text": [
            "INFO:tensorflow:Assets written to: ckpt/bestdisc/assets\n"
          ],
          "name": "stdout"
        },
        {
          "output_type": "stream",
          "text": [
            "INFO:tensorflow:Assets written to: ckpt/bestdisc/assets\n",
            "INFO:absl:*** \t Testing:   roc_auc: 0.3704   average_precision: 0.4886 ***\n"
          ],
          "name": "stderr"
        },
        {
          "output_type": "display_data",
          "data": {
            "application/vnd.jupyter.widget-view+json": {
              "model_id": "6d0c6376deae4f9ca8d14e8c9d0d977e",
              "version_minor": 0,
              "version_major": 2
            },
            "text/plain": [
              "HBox(children=(FloatProgress(value=0.0, max=9.0), HTML(value='')))"
            ]
          },
          "metadata": {
            "tags": []
          }
        },
        {
          "output_type": "stream",
          "text": [
            "INFO:absl:re-init D, cost: 0.6688 secs\n",
            "INFO:absl:epoch: 1, G_losses: 43.0809, D_losses: 3.7911, samples/sec: 26.0540\n"
          ],
          "name": "stderr"
        },
        {
          "output_type": "stream",
          "text": [
            "\rSaving to: ckpt/best\n"
          ],
          "name": "stdout"
        },
        {
          "output_type": "stream",
          "text": [
            "WARNING:absl:Found untraced functions such as conv_bn__act_layer_call_fn, conv_bn__act_layer_call_and_return_conditional_losses, conv2d_6_layer_call_fn, conv2d_6_layer_call_and_return_conditional_losses, conv_bn__act_6_layer_call_fn while saving (showing 5 of 260). These functions will not be directly callable after loading.\n",
            "WARNING:absl:Found untraced functions such as conv_bn__act_layer_call_fn, conv_bn__act_layer_call_and_return_conditional_losses, conv2d_6_layer_call_fn, conv2d_6_layer_call_and_return_conditional_losses, conv_bn__act_6_layer_call_fn while saving (showing 5 of 260). These functions will not be directly callable after loading.\n"
          ],
          "name": "stderr"
        },
        {
          "output_type": "stream",
          "text": [
            "INFO:tensorflow:Assets written to: ckpt/bestgen/assets\n"
          ],
          "name": "stdout"
        },
        {
          "output_type": "stream",
          "text": [
            "INFO:tensorflow:Assets written to: ckpt/bestgen/assets\n",
            "WARNING:absl:Found untraced functions such as conv_bn__act_19_layer_call_fn, conv_bn__act_19_layer_call_and_return_conditional_losses, conv2d_20_layer_call_fn, conv2d_20_layer_call_and_return_conditional_losses, conv2d_14_layer_call_fn while saving (showing 5 of 95). These functions will not be directly callable after loading.\n",
            "WARNING:absl:Found untraced functions such as conv_bn__act_19_layer_call_fn, conv_bn__act_19_layer_call_and_return_conditional_losses, conv2d_20_layer_call_fn, conv2d_20_layer_call_and_return_conditional_losses, conv2d_14_layer_call_fn while saving (showing 5 of 95). These functions will not be directly callable after loading.\n"
          ],
          "name": "stderr"
        },
        {
          "output_type": "stream",
          "text": [
            "INFO:tensorflow:Assets written to: ckpt/bestdisc/assets\n"
          ],
          "name": "stdout"
        },
        {
          "output_type": "stream",
          "text": [
            "INFO:tensorflow:Assets written to: ckpt/bestdisc/assets\n",
            "INFO:absl:*** \t Testing:   roc_auc: 0.5926   average_precision: 0.6835 ***\n"
          ],
          "name": "stderr"
        },
        {
          "output_type": "display_data",
          "data": {
            "application/vnd.jupyter.widget-view+json": {
              "model_id": "495d33ed2e6d404399f1be0bf69756bb",
              "version_minor": 0,
              "version_major": 2
            },
            "text/plain": [
              "HBox(children=(FloatProgress(value=0.0, max=9.0), HTML(value='')))"
            ]
          },
          "metadata": {
            "tags": []
          }
        },
        {
          "output_type": "stream",
          "text": [
            "INFO:absl:epoch: 2, G_losses: 55.3424, D_losses: 2.2669, samples/sec: 36.9208\n",
            "INFO:absl:\t Testing:   roc_auc: 0.5679   average_precision: 0.6602\n"
          ],
          "name": "stderr"
        },
        {
          "output_type": "stream",
          "text": [
            "\r"
          ],
          "name": "stdout"
        },
        {
          "output_type": "display_data",
          "data": {
            "application/vnd.jupyter.widget-view+json": {
              "model_id": "4bf7dfff78f34701837fb432d0b559ed",
              "version_minor": 0,
              "version_major": 2
            },
            "text/plain": [
              "HBox(children=(FloatProgress(value=0.0, max=9.0), HTML(value='')))"
            ]
          },
          "metadata": {
            "tags": []
          }
        },
        {
          "output_type": "stream",
          "text": [
            "INFO:absl:epoch: 3, G_losses: 138.5282, D_losses: 2.5713, samples/sec: 37.5404\n"
          ],
          "name": "stderr"
        },
        {
          "output_type": "stream",
          "text": [
            "\rSaving to: ckpt/best\n"
          ],
          "name": "stdout"
        },
        {
          "output_type": "stream",
          "text": [
            "WARNING:absl:Found untraced functions such as conv_bn__act_layer_call_fn, conv_bn__act_layer_call_and_return_conditional_losses, conv2d_6_layer_call_fn, conv2d_6_layer_call_and_return_conditional_losses, conv_bn__act_6_layer_call_fn while saving (showing 5 of 260). These functions will not be directly callable after loading.\n",
            "WARNING:absl:Found untraced functions such as conv_bn__act_layer_call_fn, conv_bn__act_layer_call_and_return_conditional_losses, conv2d_6_layer_call_fn, conv2d_6_layer_call_and_return_conditional_losses, conv_bn__act_6_layer_call_fn while saving (showing 5 of 260). These functions will not be directly callable after loading.\n"
          ],
          "name": "stderr"
        },
        {
          "output_type": "stream",
          "text": [
            "INFO:tensorflow:Assets written to: ckpt/bestgen/assets\n"
          ],
          "name": "stdout"
        },
        {
          "output_type": "stream",
          "text": [
            "INFO:tensorflow:Assets written to: ckpt/bestgen/assets\n",
            "WARNING:absl:Found untraced functions such as conv_bn__act_19_layer_call_fn, conv_bn__act_19_layer_call_and_return_conditional_losses, conv2d_20_layer_call_fn, conv2d_20_layer_call_and_return_conditional_losses, conv2d_14_layer_call_fn while saving (showing 5 of 95). These functions will not be directly callable after loading.\n",
            "WARNING:absl:Found untraced functions such as conv_bn__act_19_layer_call_fn, conv_bn__act_19_layer_call_and_return_conditional_losses, conv2d_20_layer_call_fn, conv2d_20_layer_call_and_return_conditional_losses, conv2d_14_layer_call_fn while saving (showing 5 of 95). These functions will not be directly callable after loading.\n"
          ],
          "name": "stderr"
        },
        {
          "output_type": "stream",
          "text": [
            "INFO:tensorflow:Assets written to: ckpt/bestdisc/assets\n"
          ],
          "name": "stdout"
        },
        {
          "output_type": "stream",
          "text": [
            "INFO:tensorflow:Assets written to: ckpt/bestdisc/assets\n",
            "INFO:absl:*** \t Testing:   roc_auc: 0.6914   average_precision: 0.7728 ***\n"
          ],
          "name": "stderr"
        },
        {
          "output_type": "display_data",
          "data": {
            "application/vnd.jupyter.widget-view+json": {
              "model_id": "59de67ec9a814c5dbbc16228ace6904e",
              "version_minor": 0,
              "version_major": 2
            },
            "text/plain": [
              "HBox(children=(FloatProgress(value=0.0, max=9.0), HTML(value='')))"
            ]
          },
          "metadata": {
            "tags": []
          }
        },
        {
          "output_type": "stream",
          "text": [
            "INFO:absl:epoch: 4, G_losses: 55.8752, D_losses: 7.7125, samples/sec: 37.5018\n",
            "INFO:absl:\t Testing:   roc_auc: 0.5185   average_precision: 0.5250\n"
          ],
          "name": "stderr"
        },
        {
          "output_type": "stream",
          "text": [
            "\r"
          ],
          "name": "stdout"
        },
        {
          "output_type": "display_data",
          "data": {
            "application/vnd.jupyter.widget-view+json": {
              "model_id": "00d2d0e8d0504f4bacc42822170688bc",
              "version_minor": 0,
              "version_major": 2
            },
            "text/plain": [
              "HBox(children=(FloatProgress(value=0.0, max=9.0), HTML(value='')))"
            ]
          },
          "metadata": {
            "tags": []
          }
        },
        {
          "output_type": "stream",
          "text": [
            "INFO:absl:epoch: 5, G_losses: 40.7449, D_losses: 7.4492, samples/sec: 37.0771\n"
          ],
          "name": "stderr"
        },
        {
          "output_type": "stream",
          "text": [
            "\rSaving to: ckpt/best\n"
          ],
          "name": "stdout"
        },
        {
          "output_type": "stream",
          "text": [
            "WARNING:absl:Found untraced functions such as conv_bn__act_layer_call_fn, conv_bn__act_layer_call_and_return_conditional_losses, conv2d_6_layer_call_fn, conv2d_6_layer_call_and_return_conditional_losses, conv_bn__act_6_layer_call_fn while saving (showing 5 of 260). These functions will not be directly callable after loading.\n",
            "WARNING:absl:Found untraced functions such as conv_bn__act_layer_call_fn, conv_bn__act_layer_call_and_return_conditional_losses, conv2d_6_layer_call_fn, conv2d_6_layer_call_and_return_conditional_losses, conv_bn__act_6_layer_call_fn while saving (showing 5 of 260). These functions will not be directly callable after loading.\n"
          ],
          "name": "stderr"
        },
        {
          "output_type": "stream",
          "text": [
            "INFO:tensorflow:Assets written to: ckpt/bestgen/assets\n"
          ],
          "name": "stdout"
        },
        {
          "output_type": "stream",
          "text": [
            "INFO:tensorflow:Assets written to: ckpt/bestgen/assets\n",
            "WARNING:absl:Found untraced functions such as conv_bn__act_19_layer_call_fn, conv_bn__act_19_layer_call_and_return_conditional_losses, conv2d_20_layer_call_fn, conv2d_20_layer_call_and_return_conditional_losses, conv2d_14_layer_call_fn while saving (showing 5 of 95). These functions will not be directly callable after loading.\n",
            "WARNING:absl:Found untraced functions such as conv_bn__act_19_layer_call_fn, conv_bn__act_19_layer_call_and_return_conditional_losses, conv2d_20_layer_call_fn, conv2d_20_layer_call_and_return_conditional_losses, conv2d_14_layer_call_fn while saving (showing 5 of 95). These functions will not be directly callable after loading.\n"
          ],
          "name": "stderr"
        },
        {
          "output_type": "stream",
          "text": [
            "INFO:tensorflow:Assets written to: ckpt/bestdisc/assets\n"
          ],
          "name": "stdout"
        },
        {
          "output_type": "stream",
          "text": [
            "INFO:tensorflow:Assets written to: ckpt/bestdisc/assets\n",
            "INFO:absl:*** \t Testing:   roc_auc: 0.7531   average_precision: 0.7608 ***\n"
          ],
          "name": "stderr"
        },
        {
          "output_type": "display_data",
          "data": {
            "application/vnd.jupyter.widget-view+json": {
              "model_id": "10c682298c264f61b580e48cc8bb1b94",
              "version_minor": 0,
              "version_major": 2
            },
            "text/plain": [
              "HBox(children=(FloatProgress(value=0.0, max=9.0), HTML(value='')))"
            ]
          },
          "metadata": {
            "tags": []
          }
        },
        {
          "output_type": "stream",
          "text": [
            "INFO:absl:re-init D, cost: 1.9107 secs\n",
            "INFO:absl:epoch: 6, G_losses: 39.0123, D_losses: 1.8814, samples/sec: 17.6635\n",
            "INFO:absl:\t Testing:   roc_auc: 0.4444   average_precision: 0.6046\n"
          ],
          "name": "stderr"
        },
        {
          "output_type": "stream",
          "text": [
            "\r"
          ],
          "name": "stdout"
        },
        {
          "output_type": "display_data",
          "data": {
            "application/vnd.jupyter.widget-view+json": {
              "model_id": "59213f8b1e3c4ca3b169e7fe35720e37",
              "version_minor": 0,
              "version_major": 2
            },
            "text/plain": [
              "HBox(children=(FloatProgress(value=0.0, max=9.0), HTML(value='')))"
            ]
          },
          "metadata": {
            "tags": []
          }
        },
        {
          "output_type": "stream",
          "text": [
            "INFO:absl:re-init D, cost: 0.1286 secs\n",
            "INFO:absl:epoch: 7, G_losses: 36.2087, D_losses: 4.7737, samples/sec: 35.0670\n"
          ],
          "name": "stderr"
        },
        {
          "output_type": "stream",
          "text": [
            "\rSaving to: ckpt/best\n"
          ],
          "name": "stdout"
        },
        {
          "output_type": "stream",
          "text": [
            "WARNING:absl:Found untraced functions such as conv_bn__act_layer_call_fn, conv_bn__act_layer_call_and_return_conditional_losses, conv2d_6_layer_call_fn, conv2d_6_layer_call_and_return_conditional_losses, conv_bn__act_6_layer_call_fn while saving (showing 5 of 260). These functions will not be directly callable after loading.\n",
            "WARNING:absl:Found untraced functions such as conv_bn__act_layer_call_fn, conv_bn__act_layer_call_and_return_conditional_losses, conv2d_6_layer_call_fn, conv2d_6_layer_call_and_return_conditional_losses, conv_bn__act_6_layer_call_fn while saving (showing 5 of 260). These functions will not be directly callable after loading.\n"
          ],
          "name": "stderr"
        },
        {
          "output_type": "stream",
          "text": [
            "INFO:tensorflow:Assets written to: ckpt/bestgen/assets\n"
          ],
          "name": "stdout"
        },
        {
          "output_type": "stream",
          "text": [
            "INFO:tensorflow:Assets written to: ckpt/bestgen/assets\n",
            "WARNING:absl:Found untraced functions such as conv_bn__act_19_layer_call_fn, conv_bn__act_19_layer_call_and_return_conditional_losses, conv2d_20_layer_call_fn, conv2d_20_layer_call_and_return_conditional_losses, conv2d_14_layer_call_fn while saving (showing 5 of 95). These functions will not be directly callable after loading.\n",
            "WARNING:absl:Found untraced functions such as conv_bn__act_19_layer_call_fn, conv_bn__act_19_layer_call_and_return_conditional_losses, conv2d_20_layer_call_fn, conv2d_20_layer_call_and_return_conditional_losses, conv2d_14_layer_call_fn while saving (showing 5 of 95). These functions will not be directly callable after loading.\n"
          ],
          "name": "stderr"
        },
        {
          "output_type": "stream",
          "text": [
            "INFO:tensorflow:Assets written to: ckpt/bestdisc/assets\n"
          ],
          "name": "stdout"
        },
        {
          "output_type": "stream",
          "text": [
            "INFO:tensorflow:Assets written to: ckpt/bestdisc/assets\n",
            "INFO:absl:*** \t Testing:   roc_auc: 0.7531   average_precision: 0.7608 ***\n"
          ],
          "name": "stderr"
        },
        {
          "output_type": "display_data",
          "data": {
            "application/vnd.jupyter.widget-view+json": {
              "model_id": "66a01fd7a4d94fdc8a94bec5a64616aa",
              "version_minor": 0,
              "version_major": 2
            },
            "text/plain": [
              "HBox(children=(FloatProgress(value=0.0, max=9.0), HTML(value='')))"
            ]
          },
          "metadata": {
            "tags": []
          }
        },
        {
          "output_type": "stream",
          "text": [
            "INFO:absl:epoch: 8, G_losses: 65.9988, D_losses: 7.4587, samples/sec: 36.9783\n",
            "INFO:absl:\t Testing:   roc_auc: 0.3580   average_precision: 0.4428\n"
          ],
          "name": "stderr"
        },
        {
          "output_type": "stream",
          "text": [
            "\r"
          ],
          "name": "stdout"
        },
        {
          "output_type": "display_data",
          "data": {
            "application/vnd.jupyter.widget-view+json": {
              "model_id": "e19c2cca10ca4bcaa7402e0c012bc4c3",
              "version_minor": 0,
              "version_major": 2
            },
            "text/plain": [
              "HBox(children=(FloatProgress(value=0.0, max=9.0), HTML(value='')))"
            ]
          },
          "metadata": {
            "tags": []
          }
        },
        {
          "output_type": "stream",
          "text": [
            "INFO:absl:epoch: 9, G_losses: 86.4810, D_losses: 7.7125, samples/sec: 37.4776\n",
            "INFO:absl:\t Testing:   roc_auc: 0.3457   average_precision: 0.4562\n"
          ],
          "name": "stderr"
        },
        {
          "output_type": "stream",
          "text": [
            "\r"
          ],
          "name": "stdout"
        },
        {
          "output_type": "display_data",
          "data": {
            "application/vnd.jupyter.widget-view+json": {
              "model_id": "9eeea7b15bbe43f7aa4a644d9407ef99",
              "version_minor": 0,
              "version_major": 2
            },
            "text/plain": [
              "HBox(children=(FloatProgress(value=0.0, max=9.0), HTML(value='')))"
            ]
          },
          "metadata": {
            "tags": []
          }
        },
        {
          "output_type": "stream",
          "text": [
            "INFO:absl:epoch: 10, G_losses: 79.9992, D_losses: 7.7125, samples/sec: 38.0323\n",
            "INFO:absl:\t Testing:   roc_auc: 0.3457   average_precision: 0.4335\n"
          ],
          "name": "stderr"
        },
        {
          "output_type": "stream",
          "text": [
            "\r"
          ],
          "name": "stdout"
        },
        {
          "output_type": "display_data",
          "data": {
            "application/vnd.jupyter.widget-view+json": {
              "model_id": "9f146827f1174fd89033b787b23e4cc7",
              "version_minor": 0,
              "version_major": 2
            },
            "text/plain": [
              "HBox(children=(FloatProgress(value=0.0, max=9.0), HTML(value='')))"
            ]
          },
          "metadata": {
            "tags": []
          }
        },
        {
          "output_type": "stream",
          "text": [
            "INFO:absl:epoch: 11, G_losses: 55.5483, D_losses: 7.7125, samples/sec: 37.8049\n",
            "INFO:absl:\t Testing:   roc_auc: 0.3457   average_precision: 0.4335\n"
          ],
          "name": "stderr"
        },
        {
          "output_type": "stream",
          "text": [
            "\r"
          ],
          "name": "stdout"
        },
        {
          "output_type": "display_data",
          "data": {
            "application/vnd.jupyter.widget-view+json": {
              "model_id": "3bdfd235029543398d7dae8993b56fa4",
              "version_minor": 0,
              "version_major": 2
            },
            "text/plain": [
              "HBox(children=(FloatProgress(value=0.0, max=9.0), HTML(value='')))"
            ]
          },
          "metadata": {
            "tags": []
          }
        },
        {
          "output_type": "stream",
          "text": [
            "INFO:absl:epoch: 12, G_losses: 52.8530, D_losses: 7.7125, samples/sec: 36.9053\n",
            "INFO:absl:\t Testing:   roc_auc: 0.4074   average_precision: 0.4502\n"
          ],
          "name": "stderr"
        },
        {
          "output_type": "stream",
          "text": [
            "\r"
          ],
          "name": "stdout"
        },
        {
          "output_type": "display_data",
          "data": {
            "application/vnd.jupyter.widget-view+json": {
              "model_id": "12d24afac2c7416d87006e65102dca50",
              "version_minor": 0,
              "version_major": 2
            },
            "text/plain": [
              "HBox(children=(FloatProgress(value=0.0, max=9.0), HTML(value='')))"
            ]
          },
          "metadata": {
            "tags": []
          }
        },
        {
          "output_type": "stream",
          "text": [
            "INFO:absl:epoch: 13, G_losses: 46.7167, D_losses: 7.7125, samples/sec: 37.4187\n",
            "INFO:absl:\t Testing:   roc_auc: 0.3951   average_precision: 0.4663\n"
          ],
          "name": "stderr"
        },
        {
          "output_type": "stream",
          "text": [
            "\r"
          ],
          "name": "stdout"
        },
        {
          "output_type": "display_data",
          "data": {
            "application/vnd.jupyter.widget-view+json": {
              "model_id": "a2ed3e1a0dd244379380753d671eab32",
              "version_minor": 0,
              "version_major": 2
            },
            "text/plain": [
              "HBox(children=(FloatProgress(value=0.0, max=9.0), HTML(value='')))"
            ]
          },
          "metadata": {
            "tags": []
          }
        },
        {
          "output_type": "stream",
          "text": [
            "INFO:absl:epoch: 14, G_losses: 45.3215, D_losses: 7.7125, samples/sec: 36.5602\n",
            "INFO:absl:\t Testing:   roc_auc: 0.5062   average_precision: 0.5863\n"
          ],
          "name": "stderr"
        },
        {
          "output_type": "stream",
          "text": [
            "\r"
          ],
          "name": "stdout"
        }
      ]
    },
    {
      "cell_type": "code",
      "metadata": {
        "colab": {
          "base_uri": "https://localhost:8080/",
          "height": 590
        },
        "id": "z4XxkWJ_aY76",
        "outputId": "93b6f50d-7e50-45c3-ea61-c70c11984f83"
      },
      "source": [
        "ganomaly.evaluate_best(test_dataset)"
      ],
      "execution_count": null,
      "outputs": [
        {
          "output_type": "stream",
          "text": [
            "Loading from: ckpt/best\n"
          ],
          "name": "stdout"
        },
        {
          "output_type": "display_data",
          "data": {
            "image/png": "[encoded data removed]",
            "text/plain": [
              "<Figure size 432x288 with 1 Axes>"
            ]
          },
          "metadata": {
            "tags": [],
            "needs_background": "light"
          }
        },
        {
          "output_type": "display_data",
          "data": {
            "image/png": "[encoded data removed]",
            "text/plain": [
              "<Figure size 432x288 with 1 Axes>"
            ]
          },
          "metadata": {
            "tags": [],
            "needs_background": "light"
          }
        }
      ]
    },
    {
      "cell_type": "code",
      "metadata": {
        "id": "WzQ-0GQQcCil"
      },
      "source": [
        "#!mkdir -p ./ganomaly_tf2/output"
      ],
      "execution_count": null,
      "outputs": []
    },
    {
      "cell_type": "code",
      "metadata": {
        "id": "oQcGLoOocFy6"
      },
      "source": [
        "%mkdir -p saved_model"
      ],
      "execution_count": null,
      "outputs": []
    },
    {
      "cell_type": "code",
      "metadata": {
        "colab": {
          "base_uri": "https://localhost:8080/"
        },
        "id": "03C0hLxUb47j",
        "outputId": "4065f7df-3c7d-4543-85ec-d913dc4fa54a"
      },
      "source": [
        "ganomaly.save('./output/')"
      ],
      "execution_count": 27,
      "outputs": [
        {
          "output_type": "stream",
          "text": [
            "Saving to: ./output/\n"
          ],
          "name": "stdout"
        },
        {
          "output_type": "stream",
          "text": [
            "WARNING:absl:Found untraced functions such as conv_bn__act_layer_call_fn, conv_bn__act_layer_call_and_return_conditional_losses, conv2d_6_layer_call_fn, conv2d_6_layer_call_and_return_conditional_losses, conv_bn__act_6_layer_call_fn while saving (showing 5 of 260). These functions will not be directly callable after loading.\n",
            "WARNING:absl:Found untraced functions such as conv_bn__act_layer_call_fn, conv_bn__act_layer_call_and_return_conditional_losses, conv2d_6_layer_call_fn, conv2d_6_layer_call_and_return_conditional_losses, conv_bn__act_6_layer_call_fn while saving (showing 5 of 260). These functions will not be directly callable after loading.\n"
          ],
          "name": "stderr"
        },
        {
          "output_type": "stream",
          "text": [
            "INFO:tensorflow:Assets written to: ./output/gen/assets\n"
          ],
          "name": "stdout"
        },
        {
          "output_type": "stream",
          "text": [
            "INFO:tensorflow:Assets written to: ./output/gen/assets\n",
            "WARNING:absl:Found untraced functions such as conv_bn__act_19_layer_call_fn, conv_bn__act_19_layer_call_and_return_conditional_losses, conv2d_20_layer_call_fn, conv2d_20_layer_call_and_return_conditional_losses, conv2d_14_layer_call_fn while saving (showing 5 of 95). These functions will not be directly callable after loading.\n",
            "WARNING:absl:Found untraced functions such as conv_bn__act_19_layer_call_fn, conv_bn__act_19_layer_call_and_return_conditional_losses, conv2d_20_layer_call_fn, conv2d_20_layer_call_and_return_conditional_losses, conv2d_14_layer_call_fn while saving (showing 5 of 95). These functions will not be directly callable after loading.\n"
          ],
          "name": "stderr"
        },
        {
          "output_type": "stream",
          "text": [
            "INFO:tensorflow:Assets written to: ./output/disc/assets\n"
          ],
          "name": "stdout"
        },
        {
          "output_type": "stream",
          "text": [
            "INFO:tensorflow:Assets written to: ./output/disc/assets\n"
          ],
          "name": "stderr"
        }
      ]
    },
    {
      "cell_type": "code",
      "metadata": {
        "colab": {
          "base_uri": "https://localhost:8080/"
        },
        "id": "C1SWmsELTj_1",
        "outputId": "821478b9-3b64-4227-eb32-1d2700396ca3"
      },
      "source": [
        "# Change to be latest saved folder\n",
        "D = tf.keras.models.load_model('save_model/disc')"
      ],
      "execution_count": null,
      "outputs": [
        {
          "output_type": "stream",
          "text": [
            "WARNING:tensorflow:No training configuration found in save file, so the model was *not* compiled. Compile it manually.\n"
          ],
          "name": "stdout"
        },
        {
          "output_type": "stream",
          "text": [
            "WARNING:tensorflow:No training configuration found in save file, so the model was *not* compiled. Compile it manually.\n"
          ],
          "name": "stderr"
        }
      ]
    },
    {
      "cell_type": "code",
      "metadata": {
        "colab": {
          "base_uri": "https://localhost:8080/"
        },
        "id": "cm7ZLwI6WFBg",
        "outputId": "2fe6b665-5551-4870-c337-fe835039b77a"
      },
      "source": [
        "x_test[0].shape"
      ],
      "execution_count": null,
      "outputs": [
        {
          "output_type": "execute_result",
          "data": {
            "text/plain": [
              "(256, 256, 1)"
            ]
          },
          "metadata": {
            "tags": []
          },
          "execution_count": 35
        }
      ]
    },
    {
      "cell_type": "code",
      "metadata": {
        "colab": {
          "base_uri": "https://localhost:8080/"
        },
        "id": "kDIaMmtcWwE7",
        "outputId": "87602761-8ed5-4d47-9b92-808fefe1f856"
      },
      "source": [
        "y_test[0]"
      ],
      "execution_count": null,
      "outputs": [
        {
          "output_type": "execute_result",
          "data": {
            "text/plain": [
              "0.0"
            ]
          },
          "metadata": {
            "tags": []
          },
          "execution_count": 40
        }
      ]
    },
    {
      "cell_type": "code",
      "metadata": {
        "colab": {
          "base_uri": "https://localhost:8080/"
        },
        "id": "12K_QS3QW0z0",
        "outputId": "cc98e468-9c5c-4a1f-82a8-825c41fb0e61"
      },
      "source": [
        "D.predict(test_dataset)"
      ],
      "execution_count": null,
      "outputs": [
        {
          "output_type": "execute_result",
          "data": {
            "text/plain": [
              "(array([[[[0.000000e+00]]],\n",
              " \n",
              " \n",
              "        [[[0.000000e+00]]],\n",
              " \n",
              " \n",
              "        [[[0.000000e+00]]],\n",
              " \n",
              " \n",
              "        [[[0.000000e+00]]],\n",
              " \n",
              " \n",
              "        [[[0.000000e+00]]],\n",
              " \n",
              " \n",
              "        [[[0.000000e+00]]],\n",
              " \n",
              " \n",
              "        [[[1.905391e-31]]],\n",
              " \n",
              " \n",
              "        [[[0.000000e+00]]],\n",
              " \n",
              " \n",
              "        [[[0.000000e+00]]],\n",
              " \n",
              " \n",
              "        [[[0.000000e+00]]],\n",
              " \n",
              " \n",
              "        [[[0.000000e+00]]],\n",
              " \n",
              " \n",
              "        [[[0.000000e+00]]],\n",
              " \n",
              " \n",
              "        [[[0.000000e+00]]],\n",
              " \n",
              " \n",
              "        [[[0.000000e+00]]],\n",
              " \n",
              " \n",
              "        [[[0.000000e+00]]],\n",
              " \n",
              " \n",
              "        [[[0.000000e+00]]],\n",
              " \n",
              " \n",
              "        [[[0.000000e+00]]],\n",
              " \n",
              " \n",
              "        [[[0.000000e+00]]],\n",
              " \n",
              " \n",
              "        [[[0.000000e+00]]],\n",
              " \n",
              " \n",
              "        [[[0.000000e+00]]],\n",
              " \n",
              " \n",
              "        [[[0.000000e+00]]],\n",
              " \n",
              " \n",
              "        [[[0.000000e+00]]],\n",
              " \n",
              " \n",
              "        [[[0.000000e+00]]],\n",
              " \n",
              " \n",
              "        [[[0.000000e+00]]],\n",
              " \n",
              " \n",
              "        [[[0.000000e+00]]],\n",
              " \n",
              " \n",
              "        [[[0.000000e+00]]],\n",
              " \n",
              " \n",
              "        [[[0.000000e+00]]],\n",
              " \n",
              " \n",
              "        [[[0.000000e+00]]],\n",
              " \n",
              " \n",
              "        [[[0.000000e+00]]],\n",
              " \n",
              " \n",
              "        [[[0.000000e+00]]],\n",
              " \n",
              " \n",
              "        [[[0.000000e+00]]],\n",
              " \n",
              " \n",
              "        [[[0.000000e+00]]],\n",
              " \n",
              " \n",
              "        [[[0.000000e+00]]],\n",
              " \n",
              " \n",
              "        [[[0.000000e+00]]],\n",
              " \n",
              " \n",
              "        [[[0.000000e+00]]],\n",
              " \n",
              " \n",
              "        [[[0.000000e+00]]],\n",
              " \n",
              " \n",
              "        [[[0.000000e+00]]],\n",
              " \n",
              " \n",
              "        [[[0.000000e+00]]],\n",
              " \n",
              " \n",
              "        [[[0.000000e+00]]],\n",
              " \n",
              " \n",
              "        [[[0.000000e+00]]],\n",
              " \n",
              " \n",
              "        [[[0.000000e+00]]],\n",
              " \n",
              " \n",
              "        [[[0.000000e+00]]],\n",
              " \n",
              " \n",
              "        [[[0.000000e+00]]],\n",
              " \n",
              " \n",
              "        [[[0.000000e+00]]],\n",
              " \n",
              " \n",
              "        [[[0.000000e+00]]],\n",
              " \n",
              " \n",
              "        [[[0.000000e+00]]],\n",
              " \n",
              " \n",
              "        [[[0.000000e+00]]],\n",
              " \n",
              " \n",
              "        [[[0.000000e+00]]],\n",
              " \n",
              " \n",
              "        [[[0.000000e+00]]],\n",
              " \n",
              " \n",
              "        [[[0.000000e+00]]],\n",
              " \n",
              " \n",
              "        [[[0.000000e+00]]],\n",
              " \n",
              " \n",
              "        [[[0.000000e+00]]],\n",
              " \n",
              " \n",
              "        [[[0.000000e+00]]],\n",
              " \n",
              " \n",
              "        [[[0.000000e+00]]],\n",
              " \n",
              " \n",
              "        [[[0.000000e+00]]],\n",
              " \n",
              " \n",
              "        [[[0.000000e+00]]],\n",
              " \n",
              " \n",
              "        [[[0.000000e+00]]],\n",
              " \n",
              " \n",
              "        [[[0.000000e+00]]],\n",
              " \n",
              " \n",
              "        [[[0.000000e+00]]],\n",
              " \n",
              " \n",
              "        [[[0.000000e+00]]],\n",
              " \n",
              " \n",
              "        [[[0.000000e+00]]],\n",
              " \n",
              " \n",
              "        [[[0.000000e+00]]],\n",
              " \n",
              " \n",
              "        [[[0.000000e+00]]],\n",
              " \n",
              " \n",
              "        [[[0.000000e+00]]],\n",
              " \n",
              " \n",
              "        [[[0.000000e+00]]],\n",
              " \n",
              " \n",
              "        [[[0.000000e+00]]],\n",
              " \n",
              " \n",
              "        [[[0.000000e+00]]],\n",
              " \n",
              " \n",
              "        [[[0.000000e+00]]],\n",
              " \n",
              " \n",
              "        [[[0.000000e+00]]],\n",
              " \n",
              " \n",
              "        [[[0.000000e+00]]],\n",
              " \n",
              " \n",
              "        [[[0.000000e+00]]],\n",
              " \n",
              " \n",
              "        [[[0.000000e+00]]],\n",
              " \n",
              " \n",
              "        [[[0.000000e+00]]],\n",
              " \n",
              " \n",
              "        [[[0.000000e+00]]],\n",
              " \n",
              " \n",
              "        [[[0.000000e+00]]],\n",
              " \n",
              " \n",
              "        [[[0.000000e+00]]],\n",
              " \n",
              " \n",
              "        [[[0.000000e+00]]],\n",
              " \n",
              " \n",
              "        [[[0.000000e+00]]],\n",
              " \n",
              " \n",
              "        [[[0.000000e+00]]],\n",
              " \n",
              " \n",
              "        [[[0.000000e+00]]],\n",
              " \n",
              " \n",
              "        [[[0.000000e+00]]],\n",
              " \n",
              " \n",
              "        [[[0.000000e+00]]],\n",
              " \n",
              " \n",
              "        [[[0.000000e+00]]],\n",
              " \n",
              " \n",
              "        [[[0.000000e+00]]],\n",
              " \n",
              " \n",
              "        [[[0.000000e+00]]],\n",
              " \n",
              " \n",
              "        [[[0.000000e+00]]],\n",
              " \n",
              " \n",
              "        [[[0.000000e+00]]],\n",
              " \n",
              " \n",
              "        [[[0.000000e+00]]],\n",
              " \n",
              " \n",
              "        [[[0.000000e+00]]],\n",
              " \n",
              " \n",
              "        [[[0.000000e+00]]],\n",
              " \n",
              " \n",
              "        [[[0.000000e+00]]],\n",
              " \n",
              " \n",
              "        [[[0.000000e+00]]],\n",
              " \n",
              " \n",
              "        [[[0.000000e+00]]],\n",
              " \n",
              " \n",
              "        [[[0.000000e+00]]],\n",
              " \n",
              " \n",
              "        [[[0.000000e+00]]],\n",
              " \n",
              " \n",
              "        [[[0.000000e+00]]],\n",
              " \n",
              " \n",
              "        [[[0.000000e+00]]],\n",
              " \n",
              " \n",
              "        [[[0.000000e+00]]],\n",
              " \n",
              " \n",
              "        [[[0.000000e+00]]],\n",
              " \n",
              " \n",
              "        [[[0.000000e+00]]],\n",
              " \n",
              " \n",
              "        [[[0.000000e+00]]],\n",
              " \n",
              " \n",
              "        [[[0.000000e+00]]],\n",
              " \n",
              " \n",
              "        [[[0.000000e+00]]],\n",
              " \n",
              " \n",
              "        [[[0.000000e+00]]],\n",
              " \n",
              " \n",
              "        [[[0.000000e+00]]],\n",
              " \n",
              " \n",
              "        [[[0.000000e+00]]],\n",
              " \n",
              " \n",
              "        [[[0.000000e+00]]],\n",
              " \n",
              " \n",
              "        [[[0.000000e+00]]],\n",
              " \n",
              " \n",
              "        [[[0.000000e+00]]],\n",
              " \n",
              " \n",
              "        [[[0.000000e+00]]],\n",
              " \n",
              " \n",
              "        [[[0.000000e+00]]],\n",
              " \n",
              " \n",
              "        [[[0.000000e+00]]],\n",
              " \n",
              " \n",
              "        [[[0.000000e+00]]],\n",
              " \n",
              " \n",
              "        [[[0.000000e+00]]],\n",
              " \n",
              " \n",
              "        [[[0.000000e+00]]],\n",
              " \n",
              " \n",
              "        [[[0.000000e+00]]],\n",
              " \n",
              " \n",
              "        [[[0.000000e+00]]],\n",
              " \n",
              " \n",
              "        [[[0.000000e+00]]],\n",
              " \n",
              " \n",
              "        [[[0.000000e+00]]],\n",
              " \n",
              " \n",
              "        [[[0.000000e+00]]],\n",
              " \n",
              " \n",
              "        [[[0.000000e+00]]],\n",
              " \n",
              " \n",
              "        [[[0.000000e+00]]],\n",
              " \n",
              " \n",
              "        [[[0.000000e+00]]],\n",
              " \n",
              " \n",
              "        [[[0.000000e+00]]],\n",
              " \n",
              " \n",
              "        [[[0.000000e+00]]],\n",
              " \n",
              " \n",
              "        [[[0.000000e+00]]],\n",
              " \n",
              " \n",
              "        [[[0.000000e+00]]],\n",
              " \n",
              " \n",
              "        [[[0.000000e+00]]],\n",
              " \n",
              " \n",
              "        [[[0.000000e+00]]],\n",
              " \n",
              " \n",
              "        [[[0.000000e+00]]]], dtype=float32),\n",
              " array([[[[ 7.05131388e+00,  2.53767467e+00, -9.89699781e-01, ...,\n",
              "            1.82971811e+00,  7.15729189e+00, -1.11926031e+00],\n",
              "          [ 8.58188343e+00,  2.11796427e+00, -6.35825276e-01, ...,\n",
              "            2.24462962e+00,  7.92603540e+00, -1.56978452e+00],\n",
              "          [ 7.53969145e+00,  1.64059794e+00, -1.18012559e+00, ...,\n",
              "            1.68037951e+00,  7.13159418e+00, -1.06600356e+00],\n",
              "          [ 1.07934122e+01,  1.86994982e+00, -7.33325183e-01, ...,\n",
              "            5.12016964e+00,  1.04451447e+01, -1.85628021e+00]],\n",
              " \n",
              "         [[ 7.85676622e+00,  5.27269745e+00, -3.59369248e-01, ...,\n",
              "           -7.06319232e-03,  7.61472940e+00, -7.88416564e-01],\n",
              "          [ 7.76481628e+00,  4.21755743e+00, -4.24464762e-01, ...,\n",
              "            3.00102139e+00,  6.26675224e+00, -1.01829958e+00],\n",
              "          [ 6.77362061e+00,  4.59215593e+00, -5.07370770e-01, ...,\n",
              "            7.28154778e-01,  3.91349459e+00, -4.09266680e-01],\n",
              "          [ 1.04647179e+01,  6.68239498e+00, -5.99968493e-01, ...,\n",
              "            2.33579969e+00,  1.17102089e+01, -1.62315106e+00]],\n",
              " \n",
              "         [[ 7.93938589e+00,  2.62920570e+00, -7.22055435e-01, ...,\n",
              "            4.06920624e+00,  7.61366129e+00, -8.55748773e-01],\n",
              "          [ 7.19745970e+00,  1.97355998e+00, -1.93896294e-01, ...,\n",
              "            4.52765608e+00,  5.67093134e+00, -9.99844968e-01],\n",
              "          [ 6.26918030e+00,  1.32989764e+00, -7.63810277e-01, ...,\n",
              "            3.89745712e+00,  4.16805029e+00, -3.28293890e-01],\n",
              "          [ 1.06934633e+01,  4.02033281e+00, -3.84362310e-01, ...,\n",
              "            4.91754150e+00,  1.01334286e+01, -1.51761043e+00]],\n",
              " \n",
              "         [[ 6.06858921e+00,  4.08810282e+00, -7.06542194e-01, ...,\n",
              "           -2.96128988e-01,  7.47833633e+00, -1.00980520e+00],\n",
              "          [ 7.14068556e+00,  1.65728652e+00, -7.66612053e-01, ...,\n",
              "            2.33504796e+00,  6.18838358e+00, -1.20897567e+00],\n",
              "          [ 5.81264448e+00,  2.47397470e+00, -8.17032635e-01, ...,\n",
              "           -5.94026335e-02,  3.98087192e+00, -7.94759333e-01],\n",
              "          [ 9.18857288e+00,  4.41026640e+00, -5.89791417e-01, ...,\n",
              "            6.34710371e-01,  1.07231579e+01, -1.61258531e+00]]],\n",
              " \n",
              " \n",
              "        [[[ 5.68365574e+00,  2.08042479e+00, -6.93746507e-01, ...,\n",
              "            1.58241057e+00,  6.09119081e+00, -9.63654697e-01],\n",
              "          [ 5.38275623e+00,  1.01485837e+00, -2.87400305e-01, ...,\n",
              "            1.96417809e+00,  4.65697193e+00, -9.42168653e-01],\n",
              "          [ 4.65659809e+00,  1.30224228e+00, -8.91508877e-01, ...,\n",
              "            8.73836815e-01,  4.20705700e+00, -5.28975904e-01],\n",
              "          [ 9.50195599e+00,  1.86310840e+00, -6.78174019e-01, ...,\n",
              "            4.48624516e+00,  9.35792160e+00, -1.60833573e+00]],\n",
              " \n",
              "         [[ 6.65032387e+00,  4.11729145e+00, -3.65795135e-01, ...,\n",
              "            5.81874609e-01,  7.05435419e+00, -7.67894924e-01],\n",
              "          [ 5.34829235e+00,  2.41557527e+00, -3.35809708e-01, ...,\n",
              "            2.73281765e+00,  4.26953220e+00, -7.95224845e-01],\n",
              "          [ 5.30787468e+00,  2.74883175e+00, -5.36737621e-01, ...,\n",
              "            7.69728839e-01,  2.40410423e+00, -1.67422518e-01],\n",
              "          [ 1.07236176e+01,  6.16695976e+00, -5.93208015e-01, ...,\n",
              "            2.68512583e+00,  1.17909470e+01, -1.61213529e+00]],\n",
              " \n",
              "         [[ 7.52202892e+00,  2.67915797e+00, -6.45821452e-01, ...,\n",
              "            3.54926682e+00,  7.34413671e+00, -8.63087952e-01],\n",
              "          [ 6.29841089e+00,  1.80192292e+00, -1.47631109e-01, ...,\n",
              "            3.77990079e+00,  4.95742369e+00, -9.01903629e-01],\n",
              "          [ 5.92884541e+00,  1.48689687e+00, -8.22595716e-01, ...,\n",
              "            3.19391584e+00,  3.56420875e+00, -2.28042200e-01],\n",
              "          [ 1.16734352e+01,  4.78829765e+00, -4.78730887e-01, ...,\n",
              "            4.71752834e+00,  1.15265093e+01, -1.68784297e+00]],\n",
              " \n",
              "         [[ 5.72816944e+00,  3.81560516e+00, -6.32793844e-01, ...,\n",
              "           -2.47405723e-01,  7.22680521e+00, -9.66275215e-01],\n",
              "          [ 6.08202457e+00,  1.33826411e+00, -6.20762467e-01, ...,\n",
              "            2.24710822e+00,  5.06859684e+00, -1.01651061e+00],\n",
              "          [ 5.00575972e+00,  2.42972350e+00, -7.32899964e-01, ...,\n",
              "           -1.20761886e-01,  2.93786907e+00, -6.01025820e-01],\n",
              "          [ 9.24083519e+00,  4.81048059e+00, -5.78970850e-01, ...,\n",
              "            4.09007043e-01,  1.09767170e+01, -1.59754968e+00]]],\n",
              " \n",
              " \n",
              "        [[[ 6.58328342e+00,  2.42896605e+00, -8.90166402e-01, ...,\n",
              "            1.64663148e+00,  6.80565166e+00, -1.07514322e+00],\n",
              "          [ 7.66797495e+00,  1.70932710e+00, -5.49330771e-01, ...,\n",
              "            2.35442424e+00,  7.00410891e+00, -1.36147022e+00],\n",
              "          [ 6.57340145e+00,  1.58107400e+00, -1.02237689e+00, ...,\n",
              "            1.47375810e+00,  6.12043619e+00, -9.07450020e-01],\n",
              "          [ 9.98424435e+00,  1.84036267e+00, -6.97735906e-01, ...,\n",
              "            4.65049410e+00,  9.77086353e+00, -1.70441937e+00]],\n",
              " \n",
              "         [[ 7.31365061e+00,  4.84393644e+00, -3.50984544e-01, ...,\n",
              "            7.50171617e-02,  7.33563805e+00, -7.69741893e-01],\n",
              "          [ 6.82046556e+00,  3.75129056e+00, -3.84626627e-01, ...,\n",
              "            2.67941856e+00,  5.54514027e+00, -9.28392053e-01],\n",
              "          [ 6.64805698e+00,  3.62007093e+00, -6.79747224e-01, ...,\n",
              "            1.28773654e+00,  3.77061009e+00, -3.27508152e-01],\n",
              "          [ 1.14831915e+01,  6.42425537e+00, -6.44335270e-01, ...,\n",
              "            3.28703928e+00,  1.23825979e+01, -1.74356163e+00]],\n",
              " \n",
              "         [[ 7.25764132e+00,  2.54108334e+00, -6.33284509e-01, ...,\n",
              "            3.57520890e+00,  7.01995802e+00, -7.87852407e-01],\n",
              "          [ 6.54712820e+00,  1.75041115e+00, -2.14280948e-01, ...,\n",
              "            4.21543837e+00,  5.14403343e+00, -8.88796926e-01],\n",
              "          [ 6.53899717e+00,  1.83182085e+00, -7.77942061e-01, ...,\n",
              "            3.33979058e+00,  3.90769529e+00, -3.15477103e-01],\n",
              "          [ 1.18825741e+01,  5.07272625e+00, -4.78434145e-01, ...,\n",
              "            4.57541990e+00,  1.18885174e+01, -1.74296820e+00]],\n",
              " \n",
              "         [[ 5.54593611e+00,  3.56920981e+00, -6.66541636e-01, ...,\n",
              "           -2.49330744e-01,  6.84971952e+00, -9.33054864e-01],\n",
              "          [ 6.55106735e+00,  1.55610192e+00, -6.87741339e-01, ...,\n",
              "            2.02063513e+00,  5.56433392e+00, -1.08954227e+00],\n",
              "          [ 5.70063782e+00,  2.50219655e+00, -7.82545745e-01, ...,\n",
              "           -5.96803240e-02,  3.73362374e+00, -7.51493633e-01],\n",
              "          [ 9.14327335e+00,  4.57976246e+00, -5.77088594e-01, ...,\n",
              "            5.42590797e-01,  1.07440290e+01, -1.57831836e+00]]],\n",
              " \n",
              " \n",
              "        ...,\n",
              " \n",
              " \n",
              "        [[[ 3.73574448e+00,  1.45999014e+00, -4.54153508e-01, ...,\n",
              "            7.66384900e-01,  4.28645039e+00, -6.63264215e-01],\n",
              "          [ 3.38744020e+00,  4.40248728e-01, -2.15279207e-01, ...,\n",
              "            1.49793565e+00,  2.79138494e+00, -5.41351318e-01],\n",
              "          [ 3.79366446e+00,  1.20385838e+00, -8.11869919e-01, ...,\n",
              "            6.38730347e-01,  3.25753522e+00, -3.84372085e-01],\n",
              "          [ 9.05932713e+00,  1.85494328e+00, -6.64921939e-01, ...,\n",
              "            4.17515945e+00,  9.03087807e+00, -1.54026532e+00]],\n",
              " \n",
              "         [[ 3.62345576e+00,  2.52701735e+00, -1.99513406e-01, ...,\n",
              "            5.85962869e-02,  3.97561431e+00, -3.89236897e-01],\n",
              "          [ 3.37149239e+00,  1.64381599e+00, -2.62417197e-01, ...,\n",
              "            1.62071443e+00,  2.69490933e+00, -4.72743273e-01],\n",
              "          [ 4.58669710e+00,  2.44594479e+00, -4.42279488e-01, ...,\n",
              "            4.70903009e-01,  1.78715324e+00, -1.12305164e-01],\n",
              "          [ 9.79807281e+00,  5.88527822e+00, -5.34620702e-01, ...,\n",
              "            2.15028763e+00,  1.09404192e+01, -1.45995653e+00]],\n",
              " \n",
              "         [[ 4.16289854e+00,  1.31829762e+00, -3.49929094e-01, ...,\n",
              "            2.24761271e+00,  3.56943870e+00, -4.52309281e-01],\n",
              "          [ 3.64831805e+00,  1.27456307e+00, -1.00811280e-01, ...,\n",
              "            1.82109988e+00,  2.94879532e+00, -5.19435227e-01],\n",
              "          [ 4.48972416e+00,  1.14058781e+00, -7.10943103e-01, ...,\n",
              "            2.31675792e+00,  2.64582968e+00, -1.23993218e-01],\n",
              "          [ 1.00095034e+01,  4.12959003e+00, -4.44840252e-01, ...,\n",
              "            4.01222229e+00,  9.87861347e+00, -1.40557182e+00]],\n",
              " \n",
              "         [[ 3.78899121e+00,  2.22411060e+00, -4.01134968e-01, ...,\n",
              "           -8.55255947e-02,  4.80427504e+00, -6.62554443e-01],\n",
              "          [ 3.36428356e+00,  8.41727257e-01, -2.70778537e-01, ...,\n",
              "            1.17583656e+00,  2.56443286e+00, -5.37011981e-01],\n",
              "          [ 3.09892225e+00,  1.87304676e+00, -5.60721040e-01, ...,\n",
              "           -1.82097420e-01,  1.29732752e+00, -2.85515219e-01],\n",
              "          [ 7.89204550e+00,  4.30555010e+00, -5.10838211e-01, ...,\n",
              "            8.32763985e-02,  9.62318420e+00, -1.36152160e+00]]],\n",
              " \n",
              " \n",
              "        [[[ 5.16318607e+00,  1.79980099e+00, -6.11105621e-01, ...,\n",
              "            1.56307876e+00,  5.58455849e+00, -8.68566036e-01],\n",
              "          [ 4.54242420e+00,  5.80570102e-01, -2.01713637e-01, ...,\n",
              "            2.11321044e+00,  3.77779627e+00, -7.58266151e-01],\n",
              "          [ 3.69087481e+00,  1.09439015e+00, -7.84381509e-01, ...,\n",
              "            7.97181070e-01,  3.09394765e+00, -3.49519879e-01],\n",
              "          [ 8.75933933e+00,  1.84815145e+00, -6.34889424e-01, ...,\n",
              "            4.05104685e+00,  8.73185825e+00, -1.49113798e+00]],\n",
              " \n",
              "         [[ 5.88740492e+00,  3.68383551e+00, -3.42463672e-01, ...,\n",
              "            4.73345369e-01,  6.34278297e+00, -6.90192759e-01],\n",
              "          [ 4.75229168e+00,  2.03546691e+00, -3.30965102e-01, ...,\n",
              "            2.55074430e+00,  3.89409494e+00, -7.27680624e-01],\n",
              "          [ 4.86382294e+00,  2.33599424e+00, -5.09426534e-01, ...,\n",
              "            8.13177705e-01,  2.03747129e+00, -1.36833087e-01],\n",
              "          [ 1.02138176e+01,  5.77600050e+00, -5.48976541e-01, ...,\n",
              "            2.59737897e+00,  1.11814356e+01, -1.51498163e+00]],\n",
              " \n",
              "         [[ 6.43795872e+00,  2.37539458e+00, -5.38672030e-01, ...,\n",
              "            2.90755701e+00,  6.16408587e+00, -7.41012275e-01],\n",
              "          [ 5.31333351e+00,  1.68739390e+00, -1.21900059e-01, ...,\n",
              "            2.90186095e+00,  4.21197271e+00, -7.83927381e-01],\n",
              "          [ 5.23516369e+00,  1.36441445e+00, -8.09927464e-01, ...,\n",
              "            2.62606192e+00,  3.11626363e+00, -1.77295893e-01],\n",
              "          [ 1.11055708e+01,  4.55625486e+00, -4.94907349e-01, ...,\n",
              "            4.39331436e+00,  1.10306158e+01, -1.60272050e+00]],\n",
              " \n",
              "         [[ 4.98825645e+00,  3.23071599e+00, -5.22023141e-01, ...,\n",
              "           -1.83518246e-01,  6.31115198e+00, -8.47358882e-01],\n",
              "          [ 4.79060030e+00,  1.14046228e+00, -4.10323143e-01, ...,\n",
              "            1.84868336e+00,  3.89620328e+00, -7.94580519e-01],\n",
              "          [ 3.74236083e+00,  2.22013807e+00, -6.01780593e-01, ...,\n",
              "           -1.84498295e-01,  1.66118157e+00, -3.59952748e-01],\n",
              "          [ 8.58193588e+00,  4.76245594e+00, -5.44372857e-01, ...,\n",
              "            1.61319360e-01,  1.04335690e+01, -1.47904682e+00]]],\n",
              " \n",
              " \n",
              "        [[[ 5.62110281e+00,  1.97060323e+00, -6.66085422e-01, ...,\n",
              "            1.69897032e+00,  6.03688097e+00, -9.50948834e-01],\n",
              "          [ 5.01201630e+00,  6.64170146e-01, -2.42308602e-01, ...,\n",
              "            2.24644041e+00,  4.17459679e+00, -8.31385553e-01],\n",
              "          [ 4.31200314e+00,  1.22750735e+00, -8.60810697e-01, ...,\n",
              "            1.03894305e+00,  3.71518135e+00, -4.35353756e-01],\n",
              "          [ 9.45173645e+00,  1.93035913e+00, -6.50473475e-01, ...,\n",
              "            4.43766117e+00,  9.30641651e+00, -1.60706222e+00]],\n",
              " \n",
              "         [[ 6.56982660e+00,  4.05375385e+00, -3.78375262e-01, ...,\n",
              "            5.85642219e-01,  7.07511520e+00, -7.72741735e-01],\n",
              "          [ 5.41675901e+00,  2.18950939e+00, -4.16815668e-01, ...,\n",
              "            2.97959113e+00,  4.29285717e+00, -7.83307433e-01],\n",
              "          [ 6.24404907e+00,  2.69760871e+00, -6.50451660e-01, ...,\n",
              "            1.49421334e+00,  3.23699999e+00, -2.65566826e-01],\n",
              "          [ 1.16722612e+01,  6.20261478e+00, -6.00969672e-01, ...,\n",
              "            3.43076873e+00,  1.24487362e+01, -1.75777912e+00]],\n",
              " \n",
              "         [[ 6.87629843e+00,  2.66900134e+00, -5.59016883e-01, ...,\n",
              "            2.93387103e+00,  6.74111509e+00, -8.13959777e-01],\n",
              "          [ 5.71316051e+00,  1.92950571e+00, -1.59152672e-01, ...,\n",
              "            2.95052338e+00,  4.37802982e+00, -8.02437127e-01],\n",
              "          [ 6.60669041e+00,  2.15868449e+00, -9.24863458e-01, ...,\n",
              "            2.84986997e+00,  4.33503485e+00, -3.21883976e-01],\n",
              "          [ 1.26555481e+01,  5.20992184e+00, -5.49444020e-01, ...,\n",
              "            5.01531506e+00,  1.25766106e+01, -1.87927234e+00]],\n",
              " \n",
              "         [[ 5.20078802e+00,  3.37880158e+00, -5.44219971e-01, ...,\n",
              "           -1.92010120e-01,  6.63174391e+00, -8.84500027e-01],\n",
              "          [ 5.00308228e+00,  1.18004143e+00, -4.41769332e-01, ...,\n",
              "            1.91663849e+00,  3.93084097e+00, -8.08007419e-01],\n",
              "          [ 4.37837315e+00,  2.70288038e+00, -6.37667120e-01, ...,\n",
              "           -2.19958887e-01,  2.27972770e+00, -4.39721107e-01],\n",
              "          [ 9.31653690e+00,  5.06273317e+00, -5.98771691e-01, ...,\n",
              "            4.40319657e-01,  1.11694908e+01, -1.61249244e+00]]]],\n",
              "       dtype=float32))"
            ]
          },
          "metadata": {
            "tags": []
          },
          "execution_count": 43
        }
      ]
    },
    {
      "cell_type": "code",
      "metadata": {
        "id": "-njx8vlrXCV6"
      },
      "source": [
        ""
      ],
      "execution_count": null,
      "outputs": []
    }
  ]
}