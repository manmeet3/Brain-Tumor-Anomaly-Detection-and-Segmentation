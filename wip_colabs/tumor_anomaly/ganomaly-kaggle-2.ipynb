{
  "nbformat": 4,
  "nbformat_minor": 0,
  "metadata": {
    "accelerator": "GPU",
    "colab": {
      "name": "5-ganomaly_tf2.ipynb",
      "provenance": [],
      "collapsed_sections": [],
      "include_colab_link": true
    },
    "kernelspec": {
      "display_name": "Python 3",
      "language": "python",
      "name": "python3"
    },
    "language_info": {
      "codemirror_mode": {
        "name": "ipython",
        "version": 3
      },
      "file_extension": ".py",
      "mimetype": "text/x-python",
      "name": "python",
      "nbconvert_exporter": "python",
      "pygments_lexer": "ipython3",
      "version": "3.7.1"
    },
    "widgets": {
      "application/vnd.jupyter.widget-state+json": {
        "647aabf4beda49e09ce97d797f936577": {
          "model_module": "@jupyter-widgets/controls",
          "model_name": "HBoxModel",
          "state": {
            "_view_name": "HBoxView",
            "_dom_classes": [],
            "_model_name": "HBoxModel",
            "_view_module": "@jupyter-widgets/controls",
            "_model_module_version": "1.5.0",
            "_view_count": null,
            "_view_module_version": "1.5.0",
            "box_style": "",
            "layout": "IPY_MODEL_169abd4948a94a979c38b1f62d3a62df",
            "_model_module": "@jupyter-widgets/controls",
            "children": [
              "IPY_MODEL_77be0a52394d4f81aa09b9b9045bec7c",
              "IPY_MODEL_ca8ee659713f4da8830a2d2c5035a5dc"
            ]
          }
        },
        "169abd4948a94a979c38b1f62d3a62df": {
          "model_module": "@jupyter-widgets/base",
          "model_name": "LayoutModel",
          "state": {
            "_view_name": "LayoutView",
            "grid_template_rows": null,
            "right": null,
            "justify_content": null,
            "_view_module": "@jupyter-widgets/base",
            "overflow": null,
            "_model_module_version": "1.2.0",
            "_view_count": null,
            "flex_flow": null,
            "width": null,
            "min_width": null,
            "border": null,
            "align_items": null,
            "bottom": null,
            "_model_module": "@jupyter-widgets/base",
            "top": null,
            "grid_column": null,
            "overflow_y": null,
            "overflow_x": null,
            "grid_auto_flow": null,
            "grid_area": null,
            "grid_template_columns": null,
            "flex": null,
            "_model_name": "LayoutModel",
            "justify_items": null,
            "grid_row": null,
            "max_height": null,
            "align_content": null,
            "visibility": null,
            "align_self": null,
            "height": null,
            "min_height": null,
            "padding": null,
            "grid_auto_rows": null,
            "grid_gap": null,
            "max_width": null,
            "order": null,
            "_view_module_version": "1.2.0",
            "grid_template_areas": null,
            "object_position": null,
            "object_fit": null,
            "grid_auto_columns": null,
            "margin": null,
            "display": null,
            "left": null
          }
        },
        "77be0a52394d4f81aa09b9b9045bec7c": {
          "model_module": "@jupyter-widgets/controls",
          "model_name": "FloatProgressModel",
          "state": {
            "_view_name": "ProgressView",
            "style": "IPY_MODEL_0633e1932cc74b549925ace142c1cca6",
            "_dom_classes": [],
            "description": "100%",
            "_model_name": "FloatProgressModel",
            "bar_style": "",
            "max": 9,
            "_view_module": "@jupyter-widgets/controls",
            "_model_module_version": "1.5.0",
            "value": 9,
            "_view_count": null,
            "_view_module_version": "1.5.0",
            "orientation": "horizontal",
            "min": 0,
            "description_tooltip": null,
            "_model_module": "@jupyter-widgets/controls",
            "layout": "IPY_MODEL_082fb56ab1f347509d9e1928fa7090e8"
          }
        },
        "ca8ee659713f4da8830a2d2c5035a5dc": {
          "model_module": "@jupyter-widgets/controls",
          "model_name": "HTMLModel",
          "state": {
            "_view_name": "HTMLView",
            "style": "IPY_MODEL_821fad47605a4f1096b1646fec6eea57",
            "_dom_classes": [],
            "description": "",
            "_model_name": "HTMLModel",
            "placeholder": "​",
            "_view_module": "@jupyter-widgets/controls",
            "_model_module_version": "1.5.0",
            "value": " 9/9 [00:08&lt;00:00,  1.56it/s]",
            "_view_count": null,
            "_view_module_version": "1.5.0",
            "description_tooltip": null,
            "_model_module": "@jupyter-widgets/controls",
            "layout": "IPY_MODEL_80cd1d1e1e8e4aaca0326185074a7308"
          }
        },
        "0633e1932cc74b549925ace142c1cca6": {
          "model_module": "@jupyter-widgets/controls",
          "model_name": "ProgressStyleModel",
          "state": {
            "_view_name": "StyleView",
            "_model_name": "ProgressStyleModel",
            "description_width": "initial",
            "_view_module": "@jupyter-widgets/base",
            "_model_module_version": "1.5.0",
            "_view_count": null,
            "_view_module_version": "1.2.0",
            "bar_color": null,
            "_model_module": "@jupyter-widgets/controls"
          }
        },
        "082fb56ab1f347509d9e1928fa7090e8": {
          "model_module": "@jupyter-widgets/base",
          "model_name": "LayoutModel",
          "state": {
            "_view_name": "LayoutView",
            "grid_template_rows": null,
            "right": null,
            "justify_content": null,
            "_view_module": "@jupyter-widgets/base",
            "overflow": null,
            "_model_module_version": "1.2.0",
            "_view_count": null,
            "flex_flow": null,
            "width": null,
            "min_width": null,
            "border": null,
            "align_items": null,
            "bottom": null,
            "_model_module": "@jupyter-widgets/base",
            "top": null,
            "grid_column": null,
            "overflow_y": null,
            "overflow_x": null,
            "grid_auto_flow": null,
            "grid_area": null,
            "grid_template_columns": null,
            "flex": null,
            "_model_name": "LayoutModel",
            "justify_items": null,
            "grid_row": null,
            "max_height": null,
            "align_content": null,
            "visibility": null,
            "align_self": null,
            "height": null,
            "min_height": null,
            "padding": null,
            "grid_auto_rows": null,
            "grid_gap": null,
            "max_width": null,
            "order": null,
            "_view_module_version": "1.2.0",
            "grid_template_areas": null,
            "object_position": null,
            "object_fit": null,
            "grid_auto_columns": null,
            "margin": null,
            "display": null,
            "left": null
          }
        },
        "821fad47605a4f1096b1646fec6eea57": {
          "model_module": "@jupyter-widgets/controls",
          "model_name": "DescriptionStyleModel",
          "state": {
            "_view_name": "StyleView",
            "_model_name": "DescriptionStyleModel",
            "description_width": "",
            "_view_module": "@jupyter-widgets/base",
            "_model_module_version": "1.5.0",
            "_view_count": null,
            "_view_module_version": "1.2.0",
            "_model_module": "@jupyter-widgets/controls"
          }
        },
        "80cd1d1e1e8e4aaca0326185074a7308": {
          "model_module": "@jupyter-widgets/base",
          "model_name": "LayoutModel",
          "state": {
            "_view_name": "LayoutView",
            "grid_template_rows": null,
            "right": null,
            "justify_content": null,
            "_view_module": "@jupyter-widgets/base",
            "overflow": null,
            "_model_module_version": "1.2.0",
            "_view_count": null,
            "flex_flow": null,
            "width": null,
            "min_width": null,
            "border": null,
            "align_items": null,
            "bottom": null,
            "_model_module": "@jupyter-widgets/base",
            "top": null,
            "grid_column": null,
            "overflow_y": null,
            "overflow_x": null,
            "grid_auto_flow": null,
            "grid_area": null,
            "grid_template_columns": null,
            "flex": null,
            "_model_name": "LayoutModel",
            "justify_items": null,
            "grid_row": null,
            "max_height": null,
            "align_content": null,
            "visibility": null,
            "align_self": null,
            "height": null,
            "min_height": null,
            "padding": null,
            "grid_auto_rows": null,
            "grid_gap": null,
            "max_width": null,
            "order": null,
            "_view_module_version": "1.2.0",
            "grid_template_areas": null,
            "object_position": null,
            "object_fit": null,
            "grid_auto_columns": null,
            "margin": null,
            "display": null,
            "left": null
          }
        },
        "2845b2e0ac4f4cdcbbefe3bcfc6148d0": {
          "model_module": "@jupyter-widgets/controls",
          "model_name": "HBoxModel",
          "state": {
            "_view_name": "HBoxView",
            "_dom_classes": [],
            "_model_name": "HBoxModel",
            "_view_module": "@jupyter-widgets/controls",
            "_model_module_version": "1.5.0",
            "_view_count": null,
            "_view_module_version": "1.5.0",
            "box_style": "",
            "layout": "IPY_MODEL_f671978b8a084cb2931a2ea2c141e91a",
            "_model_module": "@jupyter-widgets/controls",
            "children": [
              "IPY_MODEL_03d389b2d1e344caa734736a63707b16",
              "IPY_MODEL_dc6e022fd6f14eefb9d8d1dba213d468"
            ]
          }
        },
        "f671978b8a084cb2931a2ea2c141e91a": {
          "model_module": "@jupyter-widgets/base",
          "model_name": "LayoutModel",
          "state": {
            "_view_name": "LayoutView",
            "grid_template_rows": null,
            "right": null,
            "justify_content": null,
            "_view_module": "@jupyter-widgets/base",
            "overflow": null,
            "_model_module_version": "1.2.0",
            "_view_count": null,
            "flex_flow": null,
            "width": null,
            "min_width": null,
            "border": null,
            "align_items": null,
            "bottom": null,
            "_model_module": "@jupyter-widgets/base",
            "top": null,
            "grid_column": null,
            "overflow_y": null,
            "overflow_x": null,
            "grid_auto_flow": null,
            "grid_area": null,
            "grid_template_columns": null,
            "flex": null,
            "_model_name": "LayoutModel",
            "justify_items": null,
            "grid_row": null,
            "max_height": null,
            "align_content": null,
            "visibility": null,
            "align_self": null,
            "height": null,
            "min_height": null,
            "padding": null,
            "grid_auto_rows": null,
            "grid_gap": null,
            "max_width": null,
            "order": null,
            "_view_module_version": "1.2.0",
            "grid_template_areas": null,
            "object_position": null,
            "object_fit": null,
            "grid_auto_columns": null,
            "margin": null,
            "display": null,
            "left": null
          }
        },
        "03d389b2d1e344caa734736a63707b16": {
          "model_module": "@jupyter-widgets/controls",
          "model_name": "FloatProgressModel",
          "state": {
            "_view_name": "ProgressView",
            "style": "IPY_MODEL_c705597f037848a28c78f371b3079def",
            "_dom_classes": [],
            "description": "100%",
            "_model_name": "FloatProgressModel",
            "bar_style": "",
            "max": 9,
            "_view_module": "@jupyter-widgets/controls",
            "_model_module_version": "1.5.0",
            "value": 9,
            "_view_count": null,
            "_view_module_version": "1.5.0",
            "orientation": "horizontal",
            "min": 0,
            "description_tooltip": null,
            "_model_module": "@jupyter-widgets/controls",
            "layout": "IPY_MODEL_1d830af85a9c453bb20fa29eb16fb839"
          }
        },
        "dc6e022fd6f14eefb9d8d1dba213d468": {
          "model_module": "@jupyter-widgets/controls",
          "model_name": "HTMLModel",
          "state": {
            "_view_name": "HTMLView",
            "style": "IPY_MODEL_d908fd226b724fc48144f932d6b3daae",
            "_dom_classes": [],
            "description": "",
            "_model_name": "HTMLModel",
            "placeholder": "​",
            "_view_module": "@jupyter-widgets/controls",
            "_model_module_version": "1.5.0",
            "value": " 9/9 [00:02&lt;00:00,  3.34it/s]",
            "_view_count": null,
            "_view_module_version": "1.5.0",
            "description_tooltip": null,
            "_model_module": "@jupyter-widgets/controls",
            "layout": "IPY_MODEL_91151d59658143be9e03046ff7ee6f17"
          }
        },
        "c705597f037848a28c78f371b3079def": {
          "model_module": "@jupyter-widgets/controls",
          "model_name": "ProgressStyleModel",
          "state": {
            "_view_name": "StyleView",
            "_model_name": "ProgressStyleModel",
            "description_width": "initial",
            "_view_module": "@jupyter-widgets/base",
            "_model_module_version": "1.5.0",
            "_view_count": null,
            "_view_module_version": "1.2.0",
            "bar_color": null,
            "_model_module": "@jupyter-widgets/controls"
          }
        },
        "1d830af85a9c453bb20fa29eb16fb839": {
          "model_module": "@jupyter-widgets/base",
          "model_name": "LayoutModel",
          "state": {
            "_view_name": "LayoutView",
            "grid_template_rows": null,
            "right": null,
            "justify_content": null,
            "_view_module": "@jupyter-widgets/base",
            "overflow": null,
            "_model_module_version": "1.2.0",
            "_view_count": null,
            "flex_flow": null,
            "width": null,
            "min_width": null,
            "border": null,
            "align_items": null,
            "bottom": null,
            "_model_module": "@jupyter-widgets/base",
            "top": null,
            "grid_column": null,
            "overflow_y": null,
            "overflow_x": null,
            "grid_auto_flow": null,
            "grid_area": null,
            "grid_template_columns": null,
            "flex": null,
            "_model_name": "LayoutModel",
            "justify_items": null,
            "grid_row": null,
            "max_height": null,
            "align_content": null,
            "visibility": null,
            "align_self": null,
            "height": null,
            "min_height": null,
            "padding": null,
            "grid_auto_rows": null,
            "grid_gap": null,
            "max_width": null,
            "order": null,
            "_view_module_version": "1.2.0",
            "grid_template_areas": null,
            "object_position": null,
            "object_fit": null,
            "grid_auto_columns": null,
            "margin": null,
            "display": null,
            "left": null
          }
        },
        "d908fd226b724fc48144f932d6b3daae": {
          "model_module": "@jupyter-widgets/controls",
          "model_name": "DescriptionStyleModel",
          "state": {
            "_view_name": "StyleView",
            "_model_name": "DescriptionStyleModel",
            "description_width": "",
            "_view_module": "@jupyter-widgets/base",
            "_model_module_version": "1.5.0",
            "_view_count": null,
            "_view_module_version": "1.2.0",
            "_model_module": "@jupyter-widgets/controls"
          }
        },
        "91151d59658143be9e03046ff7ee6f17": {
          "model_module": "@jupyter-widgets/base",
          "model_name": "LayoutModel",
          "state": {
            "_view_name": "LayoutView",
            "grid_template_rows": null,
            "right": null,
            "justify_content": null,
            "_view_module": "@jupyter-widgets/base",
            "overflow": null,
            "_model_module_version": "1.2.0",
            "_view_count": null,
            "flex_flow": null,
            "width": null,
            "min_width": null,
            "border": null,
            "align_items": null,
            "bottom": null,
            "_model_module": "@jupyter-widgets/base",
            "top": null,
            "grid_column": null,
            "overflow_y": null,
            "overflow_x": null,
            "grid_auto_flow": null,
            "grid_area": null,
            "grid_template_columns": null,
            "flex": null,
            "_model_name": "LayoutModel",
            "justify_items": null,
            "grid_row": null,
            "max_height": null,
            "align_content": null,
            "visibility": null,
            "align_self": null,
            "height": null,
            "min_height": null,
            "padding": null,
            "grid_auto_rows": null,
            "grid_gap": null,
            "max_width": null,
            "order": null,
            "_view_module_version": "1.2.0",
            "grid_template_areas": null,
            "object_position": null,
            "object_fit": null,
            "grid_auto_columns": null,
            "margin": null,
            "display": null,
            "left": null
          }
        },
        "554dbadb91f043d0bdf987ff10457dc2": {
          "model_module": "@jupyter-widgets/controls",
          "model_name": "HBoxModel",
          "state": {
            "_view_name": "HBoxView",
            "_dom_classes": [],
            "_model_name": "HBoxModel",
            "_view_module": "@jupyter-widgets/controls",
            "_model_module_version": "1.5.0",
            "_view_count": null,
            "_view_module_version": "1.5.0",
            "box_style": "",
            "layout": "IPY_MODEL_49a82422a8134ff59486b944ecc6ab4b",
            "_model_module": "@jupyter-widgets/controls",
            "children": [
              "IPY_MODEL_86a24f10aedd48bfbd4a40ac9eb8180f",
              "IPY_MODEL_90e5533fe3c2493a82bdb58269ac1044"
            ]
          }
        },
        "49a82422a8134ff59486b944ecc6ab4b": {
          "model_module": "@jupyter-widgets/base",
          "model_name": "LayoutModel",
          "state": {
            "_view_name": "LayoutView",
            "grid_template_rows": null,
            "right": null,
            "justify_content": null,
            "_view_module": "@jupyter-widgets/base",
            "overflow": null,
            "_model_module_version": "1.2.0",
            "_view_count": null,
            "flex_flow": null,
            "width": null,
            "min_width": null,
            "border": null,
            "align_items": null,
            "bottom": null,
            "_model_module": "@jupyter-widgets/base",
            "top": null,
            "grid_column": null,
            "overflow_y": null,
            "overflow_x": null,
            "grid_auto_flow": null,
            "grid_area": null,
            "grid_template_columns": null,
            "flex": null,
            "_model_name": "LayoutModel",
            "justify_items": null,
            "grid_row": null,
            "max_height": null,
            "align_content": null,
            "visibility": null,
            "align_self": null,
            "height": null,
            "min_height": null,
            "padding": null,
            "grid_auto_rows": null,
            "grid_gap": null,
            "max_width": null,
            "order": null,
            "_view_module_version": "1.2.0",
            "grid_template_areas": null,
            "object_position": null,
            "object_fit": null,
            "grid_auto_columns": null,
            "margin": null,
            "display": null,
            "left": null
          }
        },
        "86a24f10aedd48bfbd4a40ac9eb8180f": {
          "model_module": "@jupyter-widgets/controls",
          "model_name": "FloatProgressModel",
          "state": {
            "_view_name": "ProgressView",
            "style": "IPY_MODEL_5888bce8574f4f1485074343b538b367",
            "_dom_classes": [],
            "description": "100%",
            "_model_name": "FloatProgressModel",
            "bar_style": "",
            "max": 9,
            "_view_module": "@jupyter-widgets/controls",
            "_model_module_version": "1.5.0",
            "value": 9,
            "_view_count": null,
            "_view_module_version": "1.5.0",
            "orientation": "horizontal",
            "min": 0,
            "description_tooltip": null,
            "_model_module": "@jupyter-widgets/controls",
            "layout": "IPY_MODEL_57040a8761d54e858f7933d028a7b0ee"
          }
        },
        "90e5533fe3c2493a82bdb58269ac1044": {
          "model_module": "@jupyter-widgets/controls",
          "model_name": "HTMLModel",
          "state": {
            "_view_name": "HTMLView",
            "style": "IPY_MODEL_a43a47170cbb4e6e81abd4d3fa8c63ec",
            "_dom_classes": [],
            "description": "",
            "_model_name": "HTMLModel",
            "placeholder": "​",
            "_view_module": "@jupyter-widgets/controls",
            "_model_module_version": "1.5.0",
            "value": " 9/9 [00:02&lt;00:00,  3.43it/s]",
            "_view_count": null,
            "_view_module_version": "1.5.0",
            "description_tooltip": null,
            "_model_module": "@jupyter-widgets/controls",
            "layout": "IPY_MODEL_9ead5b3665b84ac8aaa1acb61fa28ee4"
          }
        },
        "5888bce8574f4f1485074343b538b367": {
          "model_module": "@jupyter-widgets/controls",
          "model_name": "ProgressStyleModel",
          "state": {
            "_view_name": "StyleView",
            "_model_name": "ProgressStyleModel",
            "description_width": "initial",
            "_view_module": "@jupyter-widgets/base",
            "_model_module_version": "1.5.0",
            "_view_count": null,
            "_view_module_version": "1.2.0",
            "bar_color": null,
            "_model_module": "@jupyter-widgets/controls"
          }
        },
        "57040a8761d54e858f7933d028a7b0ee": {
          "model_module": "@jupyter-widgets/base",
          "model_name": "LayoutModel",
          "state": {
            "_view_name": "LayoutView",
            "grid_template_rows": null,
            "right": null,
            "justify_content": null,
            "_view_module": "@jupyter-widgets/base",
            "overflow": null,
            "_model_module_version": "1.2.0",
            "_view_count": null,
            "flex_flow": null,
            "width": null,
            "min_width": null,
            "border": null,
            "align_items": null,
            "bottom": null,
            "_model_module": "@jupyter-widgets/base",
            "top": null,
            "grid_column": null,
            "overflow_y": null,
            "overflow_x": null,
            "grid_auto_flow": null,
            "grid_area": null,
            "grid_template_columns": null,
            "flex": null,
            "_model_name": "LayoutModel",
            "justify_items": null,
            "grid_row": null,
            "max_height": null,
            "align_content": null,
            "visibility": null,
            "align_self": null,
            "height": null,
            "min_height": null,
            "padding": null,
            "grid_auto_rows": null,
            "grid_gap": null,
            "max_width": null,
            "order": null,
            "_view_module_version": "1.2.0",
            "grid_template_areas": null,
            "object_position": null,
            "object_fit": null,
            "grid_auto_columns": null,
            "margin": null,
            "display": null,
            "left": null
          }
        },
        "a43a47170cbb4e6e81abd4d3fa8c63ec": {
          "model_module": "@jupyter-widgets/controls",
          "model_name": "DescriptionStyleModel",
          "state": {
            "_view_name": "StyleView",
            "_model_name": "DescriptionStyleModel",
            "description_width": "",
            "_view_module": "@jupyter-widgets/base",
            "_model_module_version": "1.5.0",
            "_view_count": null,
            "_view_module_version": "1.2.0",
            "_model_module": "@jupyter-widgets/controls"
          }
        },
        "9ead5b3665b84ac8aaa1acb61fa28ee4": {
          "model_module": "@jupyter-widgets/base",
          "model_name": "LayoutModel",
          "state": {
            "_view_name": "LayoutView",
            "grid_template_rows": null,
            "right": null,
            "justify_content": null,
            "_view_module": "@jupyter-widgets/base",
            "overflow": null,
            "_model_module_version": "1.2.0",
            "_view_count": null,
            "flex_flow": null,
            "width": null,
            "min_width": null,
            "border": null,
            "align_items": null,
            "bottom": null,
            "_model_module": "@jupyter-widgets/base",
            "top": null,
            "grid_column": null,
            "overflow_y": null,
            "overflow_x": null,
            "grid_auto_flow": null,
            "grid_area": null,
            "grid_template_columns": null,
            "flex": null,
            "_model_name": "LayoutModel",
            "justify_items": null,
            "grid_row": null,
            "max_height": null,
            "align_content": null,
            "visibility": null,
            "align_self": null,
            "height": null,
            "min_height": null,
            "padding": null,
            "grid_auto_rows": null,
            "grid_gap": null,
            "max_width": null,
            "order": null,
            "_view_module_version": "1.2.0",
            "grid_template_areas": null,
            "object_position": null,
            "object_fit": null,
            "grid_auto_columns": null,
            "margin": null,
            "display": null,
            "left": null
          }
        },
        "2c373b2b720b4c0aa4b6304a576a865b": {
          "model_module": "@jupyter-widgets/controls",
          "model_name": "HBoxModel",
          "state": {
            "_view_name": "HBoxView",
            "_dom_classes": [],
            "_model_name": "HBoxModel",
            "_view_module": "@jupyter-widgets/controls",
            "_model_module_version": "1.5.0",
            "_view_count": null,
            "_view_module_version": "1.5.0",
            "box_style": "",
            "layout": "IPY_MODEL_c703e3e2327a4be1a365349db54779f7",
            "_model_module": "@jupyter-widgets/controls",
            "children": [
              "IPY_MODEL_3bea0aed426f46a897f72ad4cd030d19",
              "IPY_MODEL_90395a232f2f4685a280af6373e2de52"
            ]
          }
        },
        "c703e3e2327a4be1a365349db54779f7": {
          "model_module": "@jupyter-widgets/base",
          "model_name": "LayoutModel",
          "state": {
            "_view_name": "LayoutView",
            "grid_template_rows": null,
            "right": null,
            "justify_content": null,
            "_view_module": "@jupyter-widgets/base",
            "overflow": null,
            "_model_module_version": "1.2.0",
            "_view_count": null,
            "flex_flow": null,
            "width": null,
            "min_width": null,
            "border": null,
            "align_items": null,
            "bottom": null,
            "_model_module": "@jupyter-widgets/base",
            "top": null,
            "grid_column": null,
            "overflow_y": null,
            "overflow_x": null,
            "grid_auto_flow": null,
            "grid_area": null,
            "grid_template_columns": null,
            "flex": null,
            "_model_name": "LayoutModel",
            "justify_items": null,
            "grid_row": null,
            "max_height": null,
            "align_content": null,
            "visibility": null,
            "align_self": null,
            "height": null,
            "min_height": null,
            "padding": null,
            "grid_auto_rows": null,
            "grid_gap": null,
            "max_width": null,
            "order": null,
            "_view_module_version": "1.2.0",
            "grid_template_areas": null,
            "object_position": null,
            "object_fit": null,
            "grid_auto_columns": null,
            "margin": null,
            "display": null,
            "left": null
          }
        },
        "3bea0aed426f46a897f72ad4cd030d19": {
          "model_module": "@jupyter-widgets/controls",
          "model_name": "FloatProgressModel",
          "state": {
            "_view_name": "ProgressView",
            "style": "IPY_MODEL_0885ed61799e4c76a5ceeb07cc2b1151",
            "_dom_classes": [],
            "description": "100%",
            "_model_name": "FloatProgressModel",
            "bar_style": "",
            "max": 9,
            "_view_module": "@jupyter-widgets/controls",
            "_model_module_version": "1.5.0",
            "value": 9,
            "_view_count": null,
            "_view_module_version": "1.5.0",
            "orientation": "horizontal",
            "min": 0,
            "description_tooltip": null,
            "_model_module": "@jupyter-widgets/controls",
            "layout": "IPY_MODEL_a9c21507f077455ebfc0d81c8fa56e98"
          }
        },
        "90395a232f2f4685a280af6373e2de52": {
          "model_module": "@jupyter-widgets/controls",
          "model_name": "HTMLModel",
          "state": {
            "_view_name": "HTMLView",
            "style": "IPY_MODEL_1ad72660d10c430d8f9323536be1a641",
            "_dom_classes": [],
            "description": "",
            "_model_name": "HTMLModel",
            "placeholder": "​",
            "_view_module": "@jupyter-widgets/controls",
            "_model_module_version": "1.5.0",
            "value": " 9/9 [00:02&lt;00:00,  3.36it/s]",
            "_view_count": null,
            "_view_module_version": "1.5.0",
            "description_tooltip": null,
            "_model_module": "@jupyter-widgets/controls",
            "layout": "IPY_MODEL_d1ffdfa0b1314e57bb684f02cea8611a"
          }
        },
        "0885ed61799e4c76a5ceeb07cc2b1151": {
          "model_module": "@jupyter-widgets/controls",
          "model_name": "ProgressStyleModel",
          "state": {
            "_view_name": "StyleView",
            "_model_name": "ProgressStyleModel",
            "description_width": "initial",
            "_view_module": "@jupyter-widgets/base",
            "_model_module_version": "1.5.0",
            "_view_count": null,
            "_view_module_version": "1.2.0",
            "bar_color": null,
            "_model_module": "@jupyter-widgets/controls"
          }
        },
        "a9c21507f077455ebfc0d81c8fa56e98": {
          "model_module": "@jupyter-widgets/base",
          "model_name": "LayoutModel",
          "state": {
            "_view_name": "LayoutView",
            "grid_template_rows": null,
            "right": null,
            "justify_content": null,
            "_view_module": "@jupyter-widgets/base",
            "overflow": null,
            "_model_module_version": "1.2.0",
            "_view_count": null,
            "flex_flow": null,
            "width": null,
            "min_width": null,
            "border": null,
            "align_items": null,
            "bottom": null,
            "_model_module": "@jupyter-widgets/base",
            "top": null,
            "grid_column": null,
            "overflow_y": null,
            "overflow_x": null,
            "grid_auto_flow": null,
            "grid_area": null,
            "grid_template_columns": null,
            "flex": null,
            "_model_name": "LayoutModel",
            "justify_items": null,
            "grid_row": null,
            "max_height": null,
            "align_content": null,
            "visibility": null,
            "align_self": null,
            "height": null,
            "min_height": null,
            "padding": null,
            "grid_auto_rows": null,
            "grid_gap": null,
            "max_width": null,
            "order": null,
            "_view_module_version": "1.2.0",
            "grid_template_areas": null,
            "object_position": null,
            "object_fit": null,
            "grid_auto_columns": null,
            "margin": null,
            "display": null,
            "left": null
          }
        },
        "1ad72660d10c430d8f9323536be1a641": {
          "model_module": "@jupyter-widgets/controls",
          "model_name": "DescriptionStyleModel",
          "state": {
            "_view_name": "StyleView",
            "_model_name": "DescriptionStyleModel",
            "description_width": "",
            "_view_module": "@jupyter-widgets/base",
            "_model_module_version": "1.5.0",
            "_view_count": null,
            "_view_module_version": "1.2.0",
            "_model_module": "@jupyter-widgets/controls"
          }
        },
        "d1ffdfa0b1314e57bb684f02cea8611a": {
          "model_module": "@jupyter-widgets/base",
          "model_name": "LayoutModel",
          "state": {
            "_view_name": "LayoutView",
            "grid_template_rows": null,
            "right": null,
            "justify_content": null,
            "_view_module": "@jupyter-widgets/base",
            "overflow": null,
            "_model_module_version": "1.2.0",
            "_view_count": null,
            "flex_flow": null,
            "width": null,
            "min_width": null,
            "border": null,
            "align_items": null,
            "bottom": null,
            "_model_module": "@jupyter-widgets/base",
            "top": null,
            "grid_column": null,
            "overflow_y": null,
            "overflow_x": null,
            "grid_auto_flow": null,
            "grid_area": null,
            "grid_template_columns": null,
            "flex": null,
            "_model_name": "LayoutModel",
            "justify_items": null,
            "grid_row": null,
            "max_height": null,
            "align_content": null,
            "visibility": null,
            "align_self": null,
            "height": null,
            "min_height": null,
            "padding": null,
            "grid_auto_rows": null,
            "grid_gap": null,
            "max_width": null,
            "order": null,
            "_view_module_version": "1.2.0",
            "grid_template_areas": null,
            "object_position": null,
            "object_fit": null,
            "grid_auto_columns": null,
            "margin": null,
            "display": null,
            "left": null
          }
        },
        "4969373de0f14c11a0c3b032ce8f1da8": {
          "model_module": "@jupyter-widgets/controls",
          "model_name": "HBoxModel",
          "state": {
            "_view_name": "HBoxView",
            "_dom_classes": [],
            "_model_name": "HBoxModel",
            "_view_module": "@jupyter-widgets/controls",
            "_model_module_version": "1.5.0",
            "_view_count": null,
            "_view_module_version": "1.5.0",
            "box_style": "",
            "layout": "IPY_MODEL_7898ef4e36b540558a394d8d5a09ac25",
            "_model_module": "@jupyter-widgets/controls",
            "children": [
              "IPY_MODEL_4cb1142a7aba4ff2b7185e7a688bfcce",
              "IPY_MODEL_5854d1f3efca4a2daf1661c47e9dbf6c"
            ]
          }
        },
        "7898ef4e36b540558a394d8d5a09ac25": {
          "model_module": "@jupyter-widgets/base",
          "model_name": "LayoutModel",
          "state": {
            "_view_name": "LayoutView",
            "grid_template_rows": null,
            "right": null,
            "justify_content": null,
            "_view_module": "@jupyter-widgets/base",
            "overflow": null,
            "_model_module_version": "1.2.0",
            "_view_count": null,
            "flex_flow": null,
            "width": null,
            "min_width": null,
            "border": null,
            "align_items": null,
            "bottom": null,
            "_model_module": "@jupyter-widgets/base",
            "top": null,
            "grid_column": null,
            "overflow_y": null,
            "overflow_x": null,
            "grid_auto_flow": null,
            "grid_area": null,
            "grid_template_columns": null,
            "flex": null,
            "_model_name": "LayoutModel",
            "justify_items": null,
            "grid_row": null,
            "max_height": null,
            "align_content": null,
            "visibility": null,
            "align_self": null,
            "height": null,
            "min_height": null,
            "padding": null,
            "grid_auto_rows": null,
            "grid_gap": null,
            "max_width": null,
            "order": null,
            "_view_module_version": "1.2.0",
            "grid_template_areas": null,
            "object_position": null,
            "object_fit": null,
            "grid_auto_columns": null,
            "margin": null,
            "display": null,
            "left": null
          }
        },
        "4cb1142a7aba4ff2b7185e7a688bfcce": {
          "model_module": "@jupyter-widgets/controls",
          "model_name": "FloatProgressModel",
          "state": {
            "_view_name": "ProgressView",
            "style": "IPY_MODEL_840ed1b4e3ec410099e8bc58821eac5f",
            "_dom_classes": [],
            "description": "100%",
            "_model_name": "FloatProgressModel",
            "bar_style": "",
            "max": 9,
            "_view_module": "@jupyter-widgets/controls",
            "_model_module_version": "1.5.0",
            "value": 9,
            "_view_count": null,
            "_view_module_version": "1.5.0",
            "orientation": "horizontal",
            "min": 0,
            "description_tooltip": null,
            "_model_module": "@jupyter-widgets/controls",
            "layout": "IPY_MODEL_ddfdd87686204f91a8b39f5f844bb16c"
          }
        },
        "5854d1f3efca4a2daf1661c47e9dbf6c": {
          "model_module": "@jupyter-widgets/controls",
          "model_name": "HTMLModel",
          "state": {
            "_view_name": "HTMLView",
            "style": "IPY_MODEL_2461c9c1593e421b97dcfe1b0b04044f",
            "_dom_classes": [],
            "description": "",
            "_model_name": "HTMLModel",
            "placeholder": "​",
            "_view_module": "@jupyter-widgets/controls",
            "_model_module_version": "1.5.0",
            "value": " 9/9 [00:02&lt;00:00,  3.40it/s]",
            "_view_count": null,
            "_view_module_version": "1.5.0",
            "description_tooltip": null,
            "_model_module": "@jupyter-widgets/controls",
            "layout": "IPY_MODEL_753cb36ed1914951ac053860ee4485b5"
          }
        },
        "840ed1b4e3ec410099e8bc58821eac5f": {
          "model_module": "@jupyter-widgets/controls",
          "model_name": "ProgressStyleModel",
          "state": {
            "_view_name": "StyleView",
            "_model_name": "ProgressStyleModel",
            "description_width": "initial",
            "_view_module": "@jupyter-widgets/base",
            "_model_module_version": "1.5.0",
            "_view_count": null,
            "_view_module_version": "1.2.0",
            "bar_color": null,
            "_model_module": "@jupyter-widgets/controls"
          }
        },
        "ddfdd87686204f91a8b39f5f844bb16c": {
          "model_module": "@jupyter-widgets/base",
          "model_name": "LayoutModel",
          "state": {
            "_view_name": "LayoutView",
            "grid_template_rows": null,
            "right": null,
            "justify_content": null,
            "_view_module": "@jupyter-widgets/base",
            "overflow": null,
            "_model_module_version": "1.2.0",
            "_view_count": null,
            "flex_flow": null,
            "width": null,
            "min_width": null,
            "border": null,
            "align_items": null,
            "bottom": null,
            "_model_module": "@jupyter-widgets/base",
            "top": null,
            "grid_column": null,
            "overflow_y": null,
            "overflow_x": null,
            "grid_auto_flow": null,
            "grid_area": null,
            "grid_template_columns": null,
            "flex": null,
            "_model_name": "LayoutModel",
            "justify_items": null,
            "grid_row": null,
            "max_height": null,
            "align_content": null,
            "visibility": null,
            "align_self": null,
            "height": null,
            "min_height": null,
            "padding": null,
            "grid_auto_rows": null,
            "grid_gap": null,
            "max_width": null,
            "order": null,
            "_view_module_version": "1.2.0",
            "grid_template_areas": null,
            "object_position": null,
            "object_fit": null,
            "grid_auto_columns": null,
            "margin": null,
            "display": null,
            "left": null
          }
        },
        "2461c9c1593e421b97dcfe1b0b04044f": {
          "model_module": "@jupyter-widgets/controls",
          "model_name": "DescriptionStyleModel",
          "state": {
            "_view_name": "StyleView",
            "_model_name": "DescriptionStyleModel",
            "description_width": "",
            "_view_module": "@jupyter-widgets/base",
            "_model_module_version": "1.5.0",
            "_view_count": null,
            "_view_module_version": "1.2.0",
            "_model_module": "@jupyter-widgets/controls"
          }
        },
        "753cb36ed1914951ac053860ee4485b5": {
          "model_module": "@jupyter-widgets/base",
          "model_name": "LayoutModel",
          "state": {
            "_view_name": "LayoutView",
            "grid_template_rows": null,
            "right": null,
            "justify_content": null,
            "_view_module": "@jupyter-widgets/base",
            "overflow": null,
            "_model_module_version": "1.2.0",
            "_view_count": null,
            "flex_flow": null,
            "width": null,
            "min_width": null,
            "border": null,
            "align_items": null,
            "bottom": null,
            "_model_module": "@jupyter-widgets/base",
            "top": null,
            "grid_column": null,
            "overflow_y": null,
            "overflow_x": null,
            "grid_auto_flow": null,
            "grid_area": null,
            "grid_template_columns": null,
            "flex": null,
            "_model_name": "LayoutModel",
            "justify_items": null,
            "grid_row": null,
            "max_height": null,
            "align_content": null,
            "visibility": null,
            "align_self": null,
            "height": null,
            "min_height": null,
            "padding": null,
            "grid_auto_rows": null,
            "grid_gap": null,
            "max_width": null,
            "order": null,
            "_view_module_version": "1.2.0",
            "grid_template_areas": null,
            "object_position": null,
            "object_fit": null,
            "grid_auto_columns": null,
            "margin": null,
            "display": null,
            "left": null
          }
        },
        "a213f783c17148068da4d7f70fd45ce1": {
          "model_module": "@jupyter-widgets/controls",
          "model_name": "HBoxModel",
          "state": {
            "_view_name": "HBoxView",
            "_dom_classes": [],
            "_model_name": "HBoxModel",
            "_view_module": "@jupyter-widgets/controls",
            "_model_module_version": "1.5.0",
            "_view_count": null,
            "_view_module_version": "1.5.0",
            "box_style": "",
            "layout": "IPY_MODEL_afca237eed9d44d4bbcd196a99a687df",
            "_model_module": "@jupyter-widgets/controls",
            "children": [
              "IPY_MODEL_1ebe79955eaf46b3abd4900966dc5091",
              "IPY_MODEL_f10f9979df5a4f548b8930d27e2e2eec"
            ]
          }
        },
        "afca237eed9d44d4bbcd196a99a687df": {
          "model_module": "@jupyter-widgets/base",
          "model_name": "LayoutModel",
          "state": {
            "_view_name": "LayoutView",
            "grid_template_rows": null,
            "right": null,
            "justify_content": null,
            "_view_module": "@jupyter-widgets/base",
            "overflow": null,
            "_model_module_version": "1.2.0",
            "_view_count": null,
            "flex_flow": null,
            "width": null,
            "min_width": null,
            "border": null,
            "align_items": null,
            "bottom": null,
            "_model_module": "@jupyter-widgets/base",
            "top": null,
            "grid_column": null,
            "overflow_y": null,
            "overflow_x": null,
            "grid_auto_flow": null,
            "grid_area": null,
            "grid_template_columns": null,
            "flex": null,
            "_model_name": "LayoutModel",
            "justify_items": null,
            "grid_row": null,
            "max_height": null,
            "align_content": null,
            "visibility": null,
            "align_self": null,
            "height": null,
            "min_height": null,
            "padding": null,
            "grid_auto_rows": null,
            "grid_gap": null,
            "max_width": null,
            "order": null,
            "_view_module_version": "1.2.0",
            "grid_template_areas": null,
            "object_position": null,
            "object_fit": null,
            "grid_auto_columns": null,
            "margin": null,
            "display": null,
            "left": null
          }
        },
        "1ebe79955eaf46b3abd4900966dc5091": {
          "model_module": "@jupyter-widgets/controls",
          "model_name": "FloatProgressModel",
          "state": {
            "_view_name": "ProgressView",
            "style": "IPY_MODEL_d6062763482b4d3390f495bff3400dc6",
            "_dom_classes": [],
            "description": "100%",
            "_model_name": "FloatProgressModel",
            "bar_style": "",
            "max": 9,
            "_view_module": "@jupyter-widgets/controls",
            "_model_module_version": "1.5.0",
            "value": 9,
            "_view_count": null,
            "_view_module_version": "1.5.0",
            "orientation": "horizontal",
            "min": 0,
            "description_tooltip": null,
            "_model_module": "@jupyter-widgets/controls",
            "layout": "IPY_MODEL_7217d96db0584d13ac49335ad4bd03ef"
          }
        },
        "f10f9979df5a4f548b8930d27e2e2eec": {
          "model_module": "@jupyter-widgets/controls",
          "model_name": "HTMLModel",
          "state": {
            "_view_name": "HTMLView",
            "style": "IPY_MODEL_454b05d9608a40418a4bce05ec39ea9b",
            "_dom_classes": [],
            "description": "",
            "_model_name": "HTMLModel",
            "placeholder": "​",
            "_view_module": "@jupyter-widgets/controls",
            "_model_module_version": "1.5.0",
            "value": " 9/9 [00:02&lt;00:00,  3.35it/s]",
            "_view_count": null,
            "_view_module_version": "1.5.0",
            "description_tooltip": null,
            "_model_module": "@jupyter-widgets/controls",
            "layout": "IPY_MODEL_0900be0445614714899fc1b4615f69c0"
          }
        },
        "d6062763482b4d3390f495bff3400dc6": {
          "model_module": "@jupyter-widgets/controls",
          "model_name": "ProgressStyleModel",
          "state": {
            "_view_name": "StyleView",
            "_model_name": "ProgressStyleModel",
            "description_width": "initial",
            "_view_module": "@jupyter-widgets/base",
            "_model_module_version": "1.5.0",
            "_view_count": null,
            "_view_module_version": "1.2.0",
            "bar_color": null,
            "_model_module": "@jupyter-widgets/controls"
          }
        },
        "7217d96db0584d13ac49335ad4bd03ef": {
          "model_module": "@jupyter-widgets/base",
          "model_name": "LayoutModel",
          "state": {
            "_view_name": "LayoutView",
            "grid_template_rows": null,
            "right": null,
            "justify_content": null,
            "_view_module": "@jupyter-widgets/base",
            "overflow": null,
            "_model_module_version": "1.2.0",
            "_view_count": null,
            "flex_flow": null,
            "width": null,
            "min_width": null,
            "border": null,
            "align_items": null,
            "bottom": null,
            "_model_module": "@jupyter-widgets/base",
            "top": null,
            "grid_column": null,
            "overflow_y": null,
            "overflow_x": null,
            "grid_auto_flow": null,
            "grid_area": null,
            "grid_template_columns": null,
            "flex": null,
            "_model_name": "LayoutModel",
            "justify_items": null,
            "grid_row": null,
            "max_height": null,
            "align_content": null,
            "visibility": null,
            "align_self": null,
            "height": null,
            "min_height": null,
            "padding": null,
            "grid_auto_rows": null,
            "grid_gap": null,
            "max_width": null,
            "order": null,
            "_view_module_version": "1.2.0",
            "grid_template_areas": null,
            "object_position": null,
            "object_fit": null,
            "grid_auto_columns": null,
            "margin": null,
            "display": null,
            "left": null
          }
        },
        "454b05d9608a40418a4bce05ec39ea9b": {
          "model_module": "@jupyter-widgets/controls",
          "model_name": "DescriptionStyleModel",
          "state": {
            "_view_name": "StyleView",
            "_model_name": "DescriptionStyleModel",
            "description_width": "",
            "_view_module": "@jupyter-widgets/base",
            "_model_module_version": "1.5.0",
            "_view_count": null,
            "_view_module_version": "1.2.0",
            "_model_module": "@jupyter-widgets/controls"
          }
        },
        "0900be0445614714899fc1b4615f69c0": {
          "model_module": "@jupyter-widgets/base",
          "model_name": "LayoutModel",
          "state": {
            "_view_name": "LayoutView",
            "grid_template_rows": null,
            "right": null,
            "justify_content": null,
            "_view_module": "@jupyter-widgets/base",
            "overflow": null,
            "_model_module_version": "1.2.0",
            "_view_count": null,
            "flex_flow": null,
            "width": null,
            "min_width": null,
            "border": null,
            "align_items": null,
            "bottom": null,
            "_model_module": "@jupyter-widgets/base",
            "top": null,
            "grid_column": null,
            "overflow_y": null,
            "overflow_x": null,
            "grid_auto_flow": null,
            "grid_area": null,
            "grid_template_columns": null,
            "flex": null,
            "_model_name": "LayoutModel",
            "justify_items": null,
            "grid_row": null,
            "max_height": null,
            "align_content": null,
            "visibility": null,
            "align_self": null,
            "height": null,
            "min_height": null,
            "padding": null,
            "grid_auto_rows": null,
            "grid_gap": null,
            "max_width": null,
            "order": null,
            "_view_module_version": "1.2.0",
            "grid_template_areas": null,
            "object_position": null,
            "object_fit": null,
            "grid_auto_columns": null,
            "margin": null,
            "display": null,
            "left": null
          }
        },
        "42e218b6909c4d3991c216e35e944d7a": {
          "model_module": "@jupyter-widgets/controls",
          "model_name": "HBoxModel",
          "state": {
            "_view_name": "HBoxView",
            "_dom_classes": [],
            "_model_name": "HBoxModel",
            "_view_module": "@jupyter-widgets/controls",
            "_model_module_version": "1.5.0",
            "_view_count": null,
            "_view_module_version": "1.5.0",
            "box_style": "",
            "layout": "IPY_MODEL_29fec0c357ad4035b8e41faefda77a2b",
            "_model_module": "@jupyter-widgets/controls",
            "children": [
              "IPY_MODEL_3f908b05f490485e9409549f16686cd7",
              "IPY_MODEL_c9dce1a5f57648548159e596b1086127"
            ]
          }
        },
        "29fec0c357ad4035b8e41faefda77a2b": {
          "model_module": "@jupyter-widgets/base",
          "model_name": "LayoutModel",
          "state": {
            "_view_name": "LayoutView",
            "grid_template_rows": null,
            "right": null,
            "justify_content": null,
            "_view_module": "@jupyter-widgets/base",
            "overflow": null,
            "_model_module_version": "1.2.0",
            "_view_count": null,
            "flex_flow": null,
            "width": null,
            "min_width": null,
            "border": null,
            "align_items": null,
            "bottom": null,
            "_model_module": "@jupyter-widgets/base",
            "top": null,
            "grid_column": null,
            "overflow_y": null,
            "overflow_x": null,
            "grid_auto_flow": null,
            "grid_area": null,
            "grid_template_columns": null,
            "flex": null,
            "_model_name": "LayoutModel",
            "justify_items": null,
            "grid_row": null,
            "max_height": null,
            "align_content": null,
            "visibility": null,
            "align_self": null,
            "height": null,
            "min_height": null,
            "padding": null,
            "grid_auto_rows": null,
            "grid_gap": null,
            "max_width": null,
            "order": null,
            "_view_module_version": "1.2.0",
            "grid_template_areas": null,
            "object_position": null,
            "object_fit": null,
            "grid_auto_columns": null,
            "margin": null,
            "display": null,
            "left": null
          }
        },
        "3f908b05f490485e9409549f16686cd7": {
          "model_module": "@jupyter-widgets/controls",
          "model_name": "FloatProgressModel",
          "state": {
            "_view_name": "ProgressView",
            "style": "IPY_MODEL_a1e76d0823a742ab93a6734bd30821d4",
            "_dom_classes": [],
            "description": "100%",
            "_model_name": "FloatProgressModel",
            "bar_style": "",
            "max": 9,
            "_view_module": "@jupyter-widgets/controls",
            "_model_module_version": "1.5.0",
            "value": 9,
            "_view_count": null,
            "_view_module_version": "1.5.0",
            "orientation": "horizontal",
            "min": 0,
            "description_tooltip": null,
            "_model_module": "@jupyter-widgets/controls",
            "layout": "IPY_MODEL_4daf3ecb0bc54b1d87f96a5ba66d4891"
          }
        },
        "c9dce1a5f57648548159e596b1086127": {
          "model_module": "@jupyter-widgets/controls",
          "model_name": "HTMLModel",
          "state": {
            "_view_name": "HTMLView",
            "style": "IPY_MODEL_9765aace6a6740bbae048102de7b7ce2",
            "_dom_classes": [],
            "description": "",
            "_model_name": "HTMLModel",
            "placeholder": "​",
            "_view_module": "@jupyter-widgets/controls",
            "_model_module_version": "1.5.0",
            "value": " 9/9 [00:02&lt;00:00,  3.40it/s]",
            "_view_count": null,
            "_view_module_version": "1.5.0",
            "description_tooltip": null,
            "_model_module": "@jupyter-widgets/controls",
            "layout": "IPY_MODEL_6f6800a92c66407d9ebcbe02084e603e"
          }
        },
        "a1e76d0823a742ab93a6734bd30821d4": {
          "model_module": "@jupyter-widgets/controls",
          "model_name": "ProgressStyleModel",
          "state": {
            "_view_name": "StyleView",
            "_model_name": "ProgressStyleModel",
            "description_width": "initial",
            "_view_module": "@jupyter-widgets/base",
            "_model_module_version": "1.5.0",
            "_view_count": null,
            "_view_module_version": "1.2.0",
            "bar_color": null,
            "_model_module": "@jupyter-widgets/controls"
          }
        },
        "4daf3ecb0bc54b1d87f96a5ba66d4891": {
          "model_module": "@jupyter-widgets/base",
          "model_name": "LayoutModel",
          "state": {
            "_view_name": "LayoutView",
            "grid_template_rows": null,
            "right": null,
            "justify_content": null,
            "_view_module": "@jupyter-widgets/base",
            "overflow": null,
            "_model_module_version": "1.2.0",
            "_view_count": null,
            "flex_flow": null,
            "width": null,
            "min_width": null,
            "border": null,
            "align_items": null,
            "bottom": null,
            "_model_module": "@jupyter-widgets/base",
            "top": null,
            "grid_column": null,
            "overflow_y": null,
            "overflow_x": null,
            "grid_auto_flow": null,
            "grid_area": null,
            "grid_template_columns": null,
            "flex": null,
            "_model_name": "LayoutModel",
            "justify_items": null,
            "grid_row": null,
            "max_height": null,
            "align_content": null,
            "visibility": null,
            "align_self": null,
            "height": null,
            "min_height": null,
            "padding": null,
            "grid_auto_rows": null,
            "grid_gap": null,
            "max_width": null,
            "order": null,
            "_view_module_version": "1.2.0",
            "grid_template_areas": null,
            "object_position": null,
            "object_fit": null,
            "grid_auto_columns": null,
            "margin": null,
            "display": null,
            "left": null
          }
        },
        "9765aace6a6740bbae048102de7b7ce2": {
          "model_module": "@jupyter-widgets/controls",
          "model_name": "DescriptionStyleModel",
          "state": {
            "_view_name": "StyleView",
            "_model_name": "DescriptionStyleModel",
            "description_width": "",
            "_view_module": "@jupyter-widgets/base",
            "_model_module_version": "1.5.0",
            "_view_count": null,
            "_view_module_version": "1.2.0",
            "_model_module": "@jupyter-widgets/controls"
          }
        },
        "6f6800a92c66407d9ebcbe02084e603e": {
          "model_module": "@jupyter-widgets/base",
          "model_name": "LayoutModel",
          "state": {
            "_view_name": "LayoutView",
            "grid_template_rows": null,
            "right": null,
            "justify_content": null,
            "_view_module": "@jupyter-widgets/base",
            "overflow": null,
            "_model_module_version": "1.2.0",
            "_view_count": null,
            "flex_flow": null,
            "width": null,
            "min_width": null,
            "border": null,
            "align_items": null,
            "bottom": null,
            "_model_module": "@jupyter-widgets/base",
            "top": null,
            "grid_column": null,
            "overflow_y": null,
            "overflow_x": null,
            "grid_auto_flow": null,
            "grid_area": null,
            "grid_template_columns": null,
            "flex": null,
            "_model_name": "LayoutModel",
            "justify_items": null,
            "grid_row": null,
            "max_height": null,
            "align_content": null,
            "visibility": null,
            "align_self": null,
            "height": null,
            "min_height": null,
            "padding": null,
            "grid_auto_rows": null,
            "grid_gap": null,
            "max_width": null,
            "order": null,
            "_view_module_version": "1.2.0",
            "grid_template_areas": null,
            "object_position": null,
            "object_fit": null,
            "grid_auto_columns": null,
            "margin": null,
            "display": null,
            "left": null
          }
        },
        "c997738d464548a8919a76fd4d846c62": {
          "model_module": "@jupyter-widgets/controls",
          "model_name": "HBoxModel",
          "state": {
            "_view_name": "HBoxView",
            "_dom_classes": [],
            "_model_name": "HBoxModel",
            "_view_module": "@jupyter-widgets/controls",
            "_model_module_version": "1.5.0",
            "_view_count": null,
            "_view_module_version": "1.5.0",
            "box_style": "",
            "layout": "IPY_MODEL_a9fbed6b81c94dca9df6a9cf12e1c739",
            "_model_module": "@jupyter-widgets/controls",
            "children": [
              "IPY_MODEL_31b14b92167a45ad9121a0297aa06f76",
              "IPY_MODEL_351e9a04295d4c539af18114a526acd1"
            ]
          }
        },
        "a9fbed6b81c94dca9df6a9cf12e1c739": {
          "model_module": "@jupyter-widgets/base",
          "model_name": "LayoutModel",
          "state": {
            "_view_name": "LayoutView",
            "grid_template_rows": null,
            "right": null,
            "justify_content": null,
            "_view_module": "@jupyter-widgets/base",
            "overflow": null,
            "_model_module_version": "1.2.0",
            "_view_count": null,
            "flex_flow": null,
            "width": null,
            "min_width": null,
            "border": null,
            "align_items": null,
            "bottom": null,
            "_model_module": "@jupyter-widgets/base",
            "top": null,
            "grid_column": null,
            "overflow_y": null,
            "overflow_x": null,
            "grid_auto_flow": null,
            "grid_area": null,
            "grid_template_columns": null,
            "flex": null,
            "_model_name": "LayoutModel",
            "justify_items": null,
            "grid_row": null,
            "max_height": null,
            "align_content": null,
            "visibility": null,
            "align_self": null,
            "height": null,
            "min_height": null,
            "padding": null,
            "grid_auto_rows": null,
            "grid_gap": null,
            "max_width": null,
            "order": null,
            "_view_module_version": "1.2.0",
            "grid_template_areas": null,
            "object_position": null,
            "object_fit": null,
            "grid_auto_columns": null,
            "margin": null,
            "display": null,
            "left": null
          }
        },
        "31b14b92167a45ad9121a0297aa06f76": {
          "model_module": "@jupyter-widgets/controls",
          "model_name": "FloatProgressModel",
          "state": {
            "_view_name": "ProgressView",
            "style": "IPY_MODEL_44b8e37a170c4d6fbf5e478d0b6e1bea",
            "_dom_classes": [],
            "description": "100%",
            "_model_name": "FloatProgressModel",
            "bar_style": "",
            "max": 9,
            "_view_module": "@jupyter-widgets/controls",
            "_model_module_version": "1.5.0",
            "value": 9,
            "_view_count": null,
            "_view_module_version": "1.5.0",
            "orientation": "horizontal",
            "min": 0,
            "description_tooltip": null,
            "_model_module": "@jupyter-widgets/controls",
            "layout": "IPY_MODEL_d5f7c93fb53d4c048000be54d8902d1d"
          }
        },
        "351e9a04295d4c539af18114a526acd1": {
          "model_module": "@jupyter-widgets/controls",
          "model_name": "HTMLModel",
          "state": {
            "_view_name": "HTMLView",
            "style": "IPY_MODEL_991b832f9a8c4dd3823911c14eca4e55",
            "_dom_classes": [],
            "description": "",
            "_model_name": "HTMLModel",
            "placeholder": "​",
            "_view_module": "@jupyter-widgets/controls",
            "_model_module_version": "1.5.0",
            "value": " 9/9 [00:02&lt;00:00,  3.42it/s]",
            "_view_count": null,
            "_view_module_version": "1.5.0",
            "description_tooltip": null,
            "_model_module": "@jupyter-widgets/controls",
            "layout": "IPY_MODEL_d5a3e37d52f84bf9a75e6b5393f5e4bc"
          }
        },
        "44b8e37a170c4d6fbf5e478d0b6e1bea": {
          "model_module": "@jupyter-widgets/controls",
          "model_name": "ProgressStyleModel",
          "state": {
            "_view_name": "StyleView",
            "_model_name": "ProgressStyleModel",
            "description_width": "initial",
            "_view_module": "@jupyter-widgets/base",
            "_model_module_version": "1.5.0",
            "_view_count": null,
            "_view_module_version": "1.2.0",
            "bar_color": null,
            "_model_module": "@jupyter-widgets/controls"
          }
        },
        "d5f7c93fb53d4c048000be54d8902d1d": {
          "model_module": "@jupyter-widgets/base",
          "model_name": "LayoutModel",
          "state": {
            "_view_name": "LayoutView",
            "grid_template_rows": null,
            "right": null,
            "justify_content": null,
            "_view_module": "@jupyter-widgets/base",
            "overflow": null,
            "_model_module_version": "1.2.0",
            "_view_count": null,
            "flex_flow": null,
            "width": null,
            "min_width": null,
            "border": null,
            "align_items": null,
            "bottom": null,
            "_model_module": "@jupyter-widgets/base",
            "top": null,
            "grid_column": null,
            "overflow_y": null,
            "overflow_x": null,
            "grid_auto_flow": null,
            "grid_area": null,
            "grid_template_columns": null,
            "flex": null,
            "_model_name": "LayoutModel",
            "justify_items": null,
            "grid_row": null,
            "max_height": null,
            "align_content": null,
            "visibility": null,
            "align_self": null,
            "height": null,
            "min_height": null,
            "padding": null,
            "grid_auto_rows": null,
            "grid_gap": null,
            "max_width": null,
            "order": null,
            "_view_module_version": "1.2.0",
            "grid_template_areas": null,
            "object_position": null,
            "object_fit": null,
            "grid_auto_columns": null,
            "margin": null,
            "display": null,
            "left": null
          }
        },
        "991b832f9a8c4dd3823911c14eca4e55": {
          "model_module": "@jupyter-widgets/controls",
          "model_name": "DescriptionStyleModel",
          "state": {
            "_view_name": "StyleView",
            "_model_name": "DescriptionStyleModel",
            "description_width": "",
            "_view_module": "@jupyter-widgets/base",
            "_model_module_version": "1.5.0",
            "_view_count": null,
            "_view_module_version": "1.2.0",
            "_model_module": "@jupyter-widgets/controls"
          }
        },
        "d5a3e37d52f84bf9a75e6b5393f5e4bc": {
          "model_module": "@jupyter-widgets/base",
          "model_name": "LayoutModel",
          "state": {
            "_view_name": "LayoutView",
            "grid_template_rows": null,
            "right": null,
            "justify_content": null,
            "_view_module": "@jupyter-widgets/base",
            "overflow": null,
            "_model_module_version": "1.2.0",
            "_view_count": null,
            "flex_flow": null,
            "width": null,
            "min_width": null,
            "border": null,
            "align_items": null,
            "bottom": null,
            "_model_module": "@jupyter-widgets/base",
            "top": null,
            "grid_column": null,
            "overflow_y": null,
            "overflow_x": null,
            "grid_auto_flow": null,
            "grid_area": null,
            "grid_template_columns": null,
            "flex": null,
            "_model_name": "LayoutModel",
            "justify_items": null,
            "grid_row": null,
            "max_height": null,
            "align_content": null,
            "visibility": null,
            "align_self": null,
            "height": null,
            "min_height": null,
            "padding": null,
            "grid_auto_rows": null,
            "grid_gap": null,
            "max_width": null,
            "order": null,
            "_view_module_version": "1.2.0",
            "grid_template_areas": null,
            "object_position": null,
            "object_fit": null,
            "grid_auto_columns": null,
            "margin": null,
            "display": null,
            "left": null
          }
        },
        "49eabdfa423f4709880103e9b6429206": {
          "model_module": "@jupyter-widgets/controls",
          "model_name": "HBoxModel",
          "state": {
            "_view_name": "HBoxView",
            "_dom_classes": [],
            "_model_name": "HBoxModel",
            "_view_module": "@jupyter-widgets/controls",
            "_model_module_version": "1.5.0",
            "_view_count": null,
            "_view_module_version": "1.5.0",
            "box_style": "",
            "layout": "IPY_MODEL_3aa2b5907f634c8a8ac5b74093024bb0",
            "_model_module": "@jupyter-widgets/controls",
            "children": [
              "IPY_MODEL_9f133fe3b7574a19b2a5b429a0e3250b",
              "IPY_MODEL_7c2ba011152245b791704e9d0243b828"
            ]
          }
        },
        "3aa2b5907f634c8a8ac5b74093024bb0": {
          "model_module": "@jupyter-widgets/base",
          "model_name": "LayoutModel",
          "state": {
            "_view_name": "LayoutView",
            "grid_template_rows": null,
            "right": null,
            "justify_content": null,
            "_view_module": "@jupyter-widgets/base",
            "overflow": null,
            "_model_module_version": "1.2.0",
            "_view_count": null,
            "flex_flow": null,
            "width": null,
            "min_width": null,
            "border": null,
            "align_items": null,
            "bottom": null,
            "_model_module": "@jupyter-widgets/base",
            "top": null,
            "grid_column": null,
            "overflow_y": null,
            "overflow_x": null,
            "grid_auto_flow": null,
            "grid_area": null,
            "grid_template_columns": null,
            "flex": null,
            "_model_name": "LayoutModel",
            "justify_items": null,
            "grid_row": null,
            "max_height": null,
            "align_content": null,
            "visibility": null,
            "align_self": null,
            "height": null,
            "min_height": null,
            "padding": null,
            "grid_auto_rows": null,
            "grid_gap": null,
            "max_width": null,
            "order": null,
            "_view_module_version": "1.2.0",
            "grid_template_areas": null,
            "object_position": null,
            "object_fit": null,
            "grid_auto_columns": null,
            "margin": null,
            "display": null,
            "left": null
          }
        },
        "9f133fe3b7574a19b2a5b429a0e3250b": {
          "model_module": "@jupyter-widgets/controls",
          "model_name": "FloatProgressModel",
          "state": {
            "_view_name": "ProgressView",
            "style": "IPY_MODEL_8b9a95ba0ce04a089351016bfb1ef172",
            "_dom_classes": [],
            "description": "100%",
            "_model_name": "FloatProgressModel",
            "bar_style": "",
            "max": 9,
            "_view_module": "@jupyter-widgets/controls",
            "_model_module_version": "1.5.0",
            "value": 9,
            "_view_count": null,
            "_view_module_version": "1.5.0",
            "orientation": "horizontal",
            "min": 0,
            "description_tooltip": null,
            "_model_module": "@jupyter-widgets/controls",
            "layout": "IPY_MODEL_eb4e5722b71a442cab8a484b90c8deb8"
          }
        },
        "7c2ba011152245b791704e9d0243b828": {
          "model_module": "@jupyter-widgets/controls",
          "model_name": "HTMLModel",
          "state": {
            "_view_name": "HTMLView",
            "style": "IPY_MODEL_e25c6bcc4309475fa6c85a4b89a09499",
            "_dom_classes": [],
            "description": "",
            "_model_name": "HTMLModel",
            "placeholder": "​",
            "_view_module": "@jupyter-widgets/controls",
            "_model_module_version": "1.5.0",
            "value": " 9/9 [00:02&lt;00:00,  3.47it/s]",
            "_view_count": null,
            "_view_module_version": "1.5.0",
            "description_tooltip": null,
            "_model_module": "@jupyter-widgets/controls",
            "layout": "IPY_MODEL_8898669d8dbb4809acd32209ceaba9f5"
          }
        },
        "8b9a95ba0ce04a089351016bfb1ef172": {
          "model_module": "@jupyter-widgets/controls",
          "model_name": "ProgressStyleModel",
          "state": {
            "_view_name": "StyleView",
            "_model_name": "ProgressStyleModel",
            "description_width": "initial",
            "_view_module": "@jupyter-widgets/base",
            "_model_module_version": "1.5.0",
            "_view_count": null,
            "_view_module_version": "1.2.0",
            "bar_color": null,
            "_model_module": "@jupyter-widgets/controls"
          }
        },
        "eb4e5722b71a442cab8a484b90c8deb8": {
          "model_module": "@jupyter-widgets/base",
          "model_name": "LayoutModel",
          "state": {
            "_view_name": "LayoutView",
            "grid_template_rows": null,
            "right": null,
            "justify_content": null,
            "_view_module": "@jupyter-widgets/base",
            "overflow": null,
            "_model_module_version": "1.2.0",
            "_view_count": null,
            "flex_flow": null,
            "width": null,
            "min_width": null,
            "border": null,
            "align_items": null,
            "bottom": null,
            "_model_module": "@jupyter-widgets/base",
            "top": null,
            "grid_column": null,
            "overflow_y": null,
            "overflow_x": null,
            "grid_auto_flow": null,
            "grid_area": null,
            "grid_template_columns": null,
            "flex": null,
            "_model_name": "LayoutModel",
            "justify_items": null,
            "grid_row": null,
            "max_height": null,
            "align_content": null,
            "visibility": null,
            "align_self": null,
            "height": null,
            "min_height": null,
            "padding": null,
            "grid_auto_rows": null,
            "grid_gap": null,
            "max_width": null,
            "order": null,
            "_view_module_version": "1.2.0",
            "grid_template_areas": null,
            "object_position": null,
            "object_fit": null,
            "grid_auto_columns": null,
            "margin": null,
            "display": null,
            "left": null
          }
        },
        "e25c6bcc4309475fa6c85a4b89a09499": {
          "model_module": "@jupyter-widgets/controls",
          "model_name": "DescriptionStyleModel",
          "state": {
            "_view_name": "StyleView",
            "_model_name": "DescriptionStyleModel",
            "description_width": "",
            "_view_module": "@jupyter-widgets/base",
            "_model_module_version": "1.5.0",
            "_view_count": null,
            "_view_module_version": "1.2.0",
            "_model_module": "@jupyter-widgets/controls"
          }
        },
        "8898669d8dbb4809acd32209ceaba9f5": {
          "model_module": "@jupyter-widgets/base",
          "model_name": "LayoutModel",
          "state": {
            "_view_name": "LayoutView",
            "grid_template_rows": null,
            "right": null,
            "justify_content": null,
            "_view_module": "@jupyter-widgets/base",
            "overflow": null,
            "_model_module_version": "1.2.0",
            "_view_count": null,
            "flex_flow": null,
            "width": null,
            "min_width": null,
            "border": null,
            "align_items": null,
            "bottom": null,
            "_model_module": "@jupyter-widgets/base",
            "top": null,
            "grid_column": null,
            "overflow_y": null,
            "overflow_x": null,
            "grid_auto_flow": null,
            "grid_area": null,
            "grid_template_columns": null,
            "flex": null,
            "_model_name": "LayoutModel",
            "justify_items": null,
            "grid_row": null,
            "max_height": null,
            "align_content": null,
            "visibility": null,
            "align_self": null,
            "height": null,
            "min_height": null,
            "padding": null,
            "grid_auto_rows": null,
            "grid_gap": null,
            "max_width": null,
            "order": null,
            "_view_module_version": "1.2.0",
            "grid_template_areas": null,
            "object_position": null,
            "object_fit": null,
            "grid_auto_columns": null,
            "margin": null,
            "display": null,
            "left": null
          }
        },
        "5ad819705fed435c9168320f50822aee": {
          "model_module": "@jupyter-widgets/controls",
          "model_name": "HBoxModel",
          "state": {
            "_view_name": "HBoxView",
            "_dom_classes": [],
            "_model_name": "HBoxModel",
            "_view_module": "@jupyter-widgets/controls",
            "_model_module_version": "1.5.0",
            "_view_count": null,
            "_view_module_version": "1.5.0",
            "box_style": "",
            "layout": "IPY_MODEL_8cedd95b88c8448086fbb557e3974b5f",
            "_model_module": "@jupyter-widgets/controls",
            "children": [
              "IPY_MODEL_5a39f02473e042689be170451ee97e79",
              "IPY_MODEL_347f47cc69d445989663f45e23227e5a"
            ]
          }
        },
        "8cedd95b88c8448086fbb557e3974b5f": {
          "model_module": "@jupyter-widgets/base",
          "model_name": "LayoutModel",
          "state": {
            "_view_name": "LayoutView",
            "grid_template_rows": null,
            "right": null,
            "justify_content": null,
            "_view_module": "@jupyter-widgets/base",
            "overflow": null,
            "_model_module_version": "1.2.0",
            "_view_count": null,
            "flex_flow": null,
            "width": null,
            "min_width": null,
            "border": null,
            "align_items": null,
            "bottom": null,
            "_model_module": "@jupyter-widgets/base",
            "top": null,
            "grid_column": null,
            "overflow_y": null,
            "overflow_x": null,
            "grid_auto_flow": null,
            "grid_area": null,
            "grid_template_columns": null,
            "flex": null,
            "_model_name": "LayoutModel",
            "justify_items": null,
            "grid_row": null,
            "max_height": null,
            "align_content": null,
            "visibility": null,
            "align_self": null,
            "height": null,
            "min_height": null,
            "padding": null,
            "grid_auto_rows": null,
            "grid_gap": null,
            "max_width": null,
            "order": null,
            "_view_module_version": "1.2.0",
            "grid_template_areas": null,
            "object_position": null,
            "object_fit": null,
            "grid_auto_columns": null,
            "margin": null,
            "display": null,
            "left": null
          }
        },
        "5a39f02473e042689be170451ee97e79": {
          "model_module": "@jupyter-widgets/controls",
          "model_name": "FloatProgressModel",
          "state": {
            "_view_name": "ProgressView",
            "style": "IPY_MODEL_ee173854fb074924822748d608aaeca3",
            "_dom_classes": [],
            "description": "100%",
            "_model_name": "FloatProgressModel",
            "bar_style": "",
            "max": 9,
            "_view_module": "@jupyter-widgets/controls",
            "_model_module_version": "1.5.0",
            "value": 9,
            "_view_count": null,
            "_view_module_version": "1.5.0",
            "orientation": "horizontal",
            "min": 0,
            "description_tooltip": null,
            "_model_module": "@jupyter-widgets/controls",
            "layout": "IPY_MODEL_800e1f547d014dd6bb51b46a3705459d"
          }
        },
        "347f47cc69d445989663f45e23227e5a": {
          "model_module": "@jupyter-widgets/controls",
          "model_name": "HTMLModel",
          "state": {
            "_view_name": "HTMLView",
            "style": "IPY_MODEL_5b188feace6e416ba210dcac027320de",
            "_dom_classes": [],
            "description": "",
            "_model_name": "HTMLModel",
            "placeholder": "​",
            "_view_module": "@jupyter-widgets/controls",
            "_model_module_version": "1.5.0",
            "value": " 9/9 [00:02&lt;00:00,  3.34it/s]",
            "_view_count": null,
            "_view_module_version": "1.5.0",
            "description_tooltip": null,
            "_model_module": "@jupyter-widgets/controls",
            "layout": "IPY_MODEL_fe70250e52df487da206a940446b40c6"
          }
        },
        "ee173854fb074924822748d608aaeca3": {
          "model_module": "@jupyter-widgets/controls",
          "model_name": "ProgressStyleModel",
          "state": {
            "_view_name": "StyleView",
            "_model_name": "ProgressStyleModel",
            "description_width": "initial",
            "_view_module": "@jupyter-widgets/base",
            "_model_module_version": "1.5.0",
            "_view_count": null,
            "_view_module_version": "1.2.0",
            "bar_color": null,
            "_model_module": "@jupyter-widgets/controls"
          }
        },
        "800e1f547d014dd6bb51b46a3705459d": {
          "model_module": "@jupyter-widgets/base",
          "model_name": "LayoutModel",
          "state": {
            "_view_name": "LayoutView",
            "grid_template_rows": null,
            "right": null,
            "justify_content": null,
            "_view_module": "@jupyter-widgets/base",
            "overflow": null,
            "_model_module_version": "1.2.0",
            "_view_count": null,
            "flex_flow": null,
            "width": null,
            "min_width": null,
            "border": null,
            "align_items": null,
            "bottom": null,
            "_model_module": "@jupyter-widgets/base",
            "top": null,
            "grid_column": null,
            "overflow_y": null,
            "overflow_x": null,
            "grid_auto_flow": null,
            "grid_area": null,
            "grid_template_columns": null,
            "flex": null,
            "_model_name": "LayoutModel",
            "justify_items": null,
            "grid_row": null,
            "max_height": null,
            "align_content": null,
            "visibility": null,
            "align_self": null,
            "height": null,
            "min_height": null,
            "padding": null,
            "grid_auto_rows": null,
            "grid_gap": null,
            "max_width": null,
            "order": null,
            "_view_module_version": "1.2.0",
            "grid_template_areas": null,
            "object_position": null,
            "object_fit": null,
            "grid_auto_columns": null,
            "margin": null,
            "display": null,
            "left": null
          }
        },
        "5b188feace6e416ba210dcac027320de": {
          "model_module": "@jupyter-widgets/controls",
          "model_name": "DescriptionStyleModel",
          "state": {
            "_view_name": "StyleView",
            "_model_name": "DescriptionStyleModel",
            "description_width": "",
            "_view_module": "@jupyter-widgets/base",
            "_model_module_version": "1.5.0",
            "_view_count": null,
            "_view_module_version": "1.2.0",
            "_model_module": "@jupyter-widgets/controls"
          }
        },
        "fe70250e52df487da206a940446b40c6": {
          "model_module": "@jupyter-widgets/base",
          "model_name": "LayoutModel",
          "state": {
            "_view_name": "LayoutView",
            "grid_template_rows": null,
            "right": null,
            "justify_content": null,
            "_view_module": "@jupyter-widgets/base",
            "overflow": null,
            "_model_module_version": "1.2.0",
            "_view_count": null,
            "flex_flow": null,
            "width": null,
            "min_width": null,
            "border": null,
            "align_items": null,
            "bottom": null,
            "_model_module": "@jupyter-widgets/base",
            "top": null,
            "grid_column": null,
            "overflow_y": null,
            "overflow_x": null,
            "grid_auto_flow": null,
            "grid_area": null,
            "grid_template_columns": null,
            "flex": null,
            "_model_name": "LayoutModel",
            "justify_items": null,
            "grid_row": null,
            "max_height": null,
            "align_content": null,
            "visibility": null,
            "align_self": null,
            "height": null,
            "min_height": null,
            "padding": null,
            "grid_auto_rows": null,
            "grid_gap": null,
            "max_width": null,
            "order": null,
            "_view_module_version": "1.2.0",
            "grid_template_areas": null,
            "object_position": null,
            "object_fit": null,
            "grid_auto_columns": null,
            "margin": null,
            "display": null,
            "left": null
          }
        },
        "52549c1855d74a7a8a3eaa9c86f2c59c": {
          "model_module": "@jupyter-widgets/controls",
          "model_name": "HBoxModel",
          "state": {
            "_view_name": "HBoxView",
            "_dom_classes": [],
            "_model_name": "HBoxModel",
            "_view_module": "@jupyter-widgets/controls",
            "_model_module_version": "1.5.0",
            "_view_count": null,
            "_view_module_version": "1.5.0",
            "box_style": "",
            "layout": "IPY_MODEL_06f07182ead948fdab7ad2a949ee8c1c",
            "_model_module": "@jupyter-widgets/controls",
            "children": [
              "IPY_MODEL_64c2e771c3c0421bbbe57b9d754fb747",
              "IPY_MODEL_7722676a5bb14907a880a92f09bd8e7d"
            ]
          }
        },
        "06f07182ead948fdab7ad2a949ee8c1c": {
          "model_module": "@jupyter-widgets/base",
          "model_name": "LayoutModel",
          "state": {
            "_view_name": "LayoutView",
            "grid_template_rows": null,
            "right": null,
            "justify_content": null,
            "_view_module": "@jupyter-widgets/base",
            "overflow": null,
            "_model_module_version": "1.2.0",
            "_view_count": null,
            "flex_flow": null,
            "width": null,
            "min_width": null,
            "border": null,
            "align_items": null,
            "bottom": null,
            "_model_module": "@jupyter-widgets/base",
            "top": null,
            "grid_column": null,
            "overflow_y": null,
            "overflow_x": null,
            "grid_auto_flow": null,
            "grid_area": null,
            "grid_template_columns": null,
            "flex": null,
            "_model_name": "LayoutModel",
            "justify_items": null,
            "grid_row": null,
            "max_height": null,
            "align_content": null,
            "visibility": null,
            "align_self": null,
            "height": null,
            "min_height": null,
            "padding": null,
            "grid_auto_rows": null,
            "grid_gap": null,
            "max_width": null,
            "order": null,
            "_view_module_version": "1.2.0",
            "grid_template_areas": null,
            "object_position": null,
            "object_fit": null,
            "grid_auto_columns": null,
            "margin": null,
            "display": null,
            "left": null
          }
        },
        "64c2e771c3c0421bbbe57b9d754fb747": {
          "model_module": "@jupyter-widgets/controls",
          "model_name": "FloatProgressModel",
          "state": {
            "_view_name": "ProgressView",
            "style": "IPY_MODEL_f54f75f546f64af297b39eebeac06fba",
            "_dom_classes": [],
            "description": "100%",
            "_model_name": "FloatProgressModel",
            "bar_style": "",
            "max": 9,
            "_view_module": "@jupyter-widgets/controls",
            "_model_module_version": "1.5.0",
            "value": 9,
            "_view_count": null,
            "_view_module_version": "1.5.0",
            "orientation": "horizontal",
            "min": 0,
            "description_tooltip": null,
            "_model_module": "@jupyter-widgets/controls",
            "layout": "IPY_MODEL_0760693efdaa49668c11327a3c8f6db0"
          }
        },
        "7722676a5bb14907a880a92f09bd8e7d": {
          "model_module": "@jupyter-widgets/controls",
          "model_name": "HTMLModel",
          "state": {
            "_view_name": "HTMLView",
            "style": "IPY_MODEL_5d1f60a44751460aaf500aecf60d8cc8",
            "_dom_classes": [],
            "description": "",
            "_model_name": "HTMLModel",
            "placeholder": "​",
            "_view_module": "@jupyter-widgets/controls",
            "_model_module_version": "1.5.0",
            "value": " 9/9 [00:02&lt;00:00,  3.41it/s]",
            "_view_count": null,
            "_view_module_version": "1.5.0",
            "description_tooltip": null,
            "_model_module": "@jupyter-widgets/controls",
            "layout": "IPY_MODEL_83f75e4d1e8f43d1b04cd2ba439f2dfb"
          }
        },
        "f54f75f546f64af297b39eebeac06fba": {
          "model_module": "@jupyter-widgets/controls",
          "model_name": "ProgressStyleModel",
          "state": {
            "_view_name": "StyleView",
            "_model_name": "ProgressStyleModel",
            "description_width": "initial",
            "_view_module": "@jupyter-widgets/base",
            "_model_module_version": "1.5.0",
            "_view_count": null,
            "_view_module_version": "1.2.0",
            "bar_color": null,
            "_model_module": "@jupyter-widgets/controls"
          }
        },
        "0760693efdaa49668c11327a3c8f6db0": {
          "model_module": "@jupyter-widgets/base",
          "model_name": "LayoutModel",
          "state": {
            "_view_name": "LayoutView",
            "grid_template_rows": null,
            "right": null,
            "justify_content": null,
            "_view_module": "@jupyter-widgets/base",
            "overflow": null,
            "_model_module_version": "1.2.0",
            "_view_count": null,
            "flex_flow": null,
            "width": null,
            "min_width": null,
            "border": null,
            "align_items": null,
            "bottom": null,
            "_model_module": "@jupyter-widgets/base",
            "top": null,
            "grid_column": null,
            "overflow_y": null,
            "overflow_x": null,
            "grid_auto_flow": null,
            "grid_area": null,
            "grid_template_columns": null,
            "flex": null,
            "_model_name": "LayoutModel",
            "justify_items": null,
            "grid_row": null,
            "max_height": null,
            "align_content": null,
            "visibility": null,
            "align_self": null,
            "height": null,
            "min_height": null,
            "padding": null,
            "grid_auto_rows": null,
            "grid_gap": null,
            "max_width": null,
            "order": null,
            "_view_module_version": "1.2.0",
            "grid_template_areas": null,
            "object_position": null,
            "object_fit": null,
            "grid_auto_columns": null,
            "margin": null,
            "display": null,
            "left": null
          }
        },
        "5d1f60a44751460aaf500aecf60d8cc8": {
          "model_module": "@jupyter-widgets/controls",
          "model_name": "DescriptionStyleModel",
          "state": {
            "_view_name": "StyleView",
            "_model_name": "DescriptionStyleModel",
            "description_width": "",
            "_view_module": "@jupyter-widgets/base",
            "_model_module_version": "1.5.0",
            "_view_count": null,
            "_view_module_version": "1.2.0",
            "_model_module": "@jupyter-widgets/controls"
          }
        },
        "83f75e4d1e8f43d1b04cd2ba439f2dfb": {
          "model_module": "@jupyter-widgets/base",
          "model_name": "LayoutModel",
          "state": {
            "_view_name": "LayoutView",
            "grid_template_rows": null,
            "right": null,
            "justify_content": null,
            "_view_module": "@jupyter-widgets/base",
            "overflow": null,
            "_model_module_version": "1.2.0",
            "_view_count": null,
            "flex_flow": null,
            "width": null,
            "min_width": null,
            "border": null,
            "align_items": null,
            "bottom": null,
            "_model_module": "@jupyter-widgets/base",
            "top": null,
            "grid_column": null,
            "overflow_y": null,
            "overflow_x": null,
            "grid_auto_flow": null,
            "grid_area": null,
            "grid_template_columns": null,
            "flex": null,
            "_model_name": "LayoutModel",
            "justify_items": null,
            "grid_row": null,
            "max_height": null,
            "align_content": null,
            "visibility": null,
            "align_self": null,
            "height": null,
            "min_height": null,
            "padding": null,
            "grid_auto_rows": null,
            "grid_gap": null,
            "max_width": null,
            "order": null,
            "_view_module_version": "1.2.0",
            "grid_template_areas": null,
            "object_position": null,
            "object_fit": null,
            "grid_auto_columns": null,
            "margin": null,
            "display": null,
            "left": null
          }
        },
        "1c2e35f9a888485391e791c9bb11de15": {
          "model_module": "@jupyter-widgets/controls",
          "model_name": "HBoxModel",
          "state": {
            "_view_name": "HBoxView",
            "_dom_classes": [],
            "_model_name": "HBoxModel",
            "_view_module": "@jupyter-widgets/controls",
            "_model_module_version": "1.5.0",
            "_view_count": null,
            "_view_module_version": "1.5.0",
            "box_style": "",
            "layout": "IPY_MODEL_663ebff9f0154d958fd1e79974864d4f",
            "_model_module": "@jupyter-widgets/controls",
            "children": [
              "IPY_MODEL_08778c057dd54f209e8e284bde3773fb",
              "IPY_MODEL_09c73e26b56c487ab7a697317c791614"
            ]
          }
        },
        "663ebff9f0154d958fd1e79974864d4f": {
          "model_module": "@jupyter-widgets/base",
          "model_name": "LayoutModel",
          "state": {
            "_view_name": "LayoutView",
            "grid_template_rows": null,
            "right": null,
            "justify_content": null,
            "_view_module": "@jupyter-widgets/base",
            "overflow": null,
            "_model_module_version": "1.2.0",
            "_view_count": null,
            "flex_flow": null,
            "width": null,
            "min_width": null,
            "border": null,
            "align_items": null,
            "bottom": null,
            "_model_module": "@jupyter-widgets/base",
            "top": null,
            "grid_column": null,
            "overflow_y": null,
            "overflow_x": null,
            "grid_auto_flow": null,
            "grid_area": null,
            "grid_template_columns": null,
            "flex": null,
            "_model_name": "LayoutModel",
            "justify_items": null,
            "grid_row": null,
            "max_height": null,
            "align_content": null,
            "visibility": null,
            "align_self": null,
            "height": null,
            "min_height": null,
            "padding": null,
            "grid_auto_rows": null,
            "grid_gap": null,
            "max_width": null,
            "order": null,
            "_view_module_version": "1.2.0",
            "grid_template_areas": null,
            "object_position": null,
            "object_fit": null,
            "grid_auto_columns": null,
            "margin": null,
            "display": null,
            "left": null
          }
        },
        "08778c057dd54f209e8e284bde3773fb": {
          "model_module": "@jupyter-widgets/controls",
          "model_name": "FloatProgressModel",
          "state": {
            "_view_name": "ProgressView",
            "style": "IPY_MODEL_829fcad68f774560a9bf366c609501d1",
            "_dom_classes": [],
            "description": "100%",
            "_model_name": "FloatProgressModel",
            "bar_style": "",
            "max": 9,
            "_view_module": "@jupyter-widgets/controls",
            "_model_module_version": "1.5.0",
            "value": 9,
            "_view_count": null,
            "_view_module_version": "1.5.0",
            "orientation": "horizontal",
            "min": 0,
            "description_tooltip": null,
            "_model_module": "@jupyter-widgets/controls",
            "layout": "IPY_MODEL_eb7e8d074dd348858f7581f73c7d414e"
          }
        },
        "09c73e26b56c487ab7a697317c791614": {
          "model_module": "@jupyter-widgets/controls",
          "model_name": "HTMLModel",
          "state": {
            "_view_name": "HTMLView",
            "style": "IPY_MODEL_d11c477bc20c47c5b03c8f22076a0587",
            "_dom_classes": [],
            "description": "",
            "_model_name": "HTMLModel",
            "placeholder": "​",
            "_view_module": "@jupyter-widgets/controls",
            "_model_module_version": "1.5.0",
            "value": " 9/9 [00:02&lt;00:00,  3.46it/s]",
            "_view_count": null,
            "_view_module_version": "1.5.0",
            "description_tooltip": null,
            "_model_module": "@jupyter-widgets/controls",
            "layout": "IPY_MODEL_49ba6ab0bbd14a99a48ee68913b1630d"
          }
        },
        "829fcad68f774560a9bf366c609501d1": {
          "model_module": "@jupyter-widgets/controls",
          "model_name": "ProgressStyleModel",
          "state": {
            "_view_name": "StyleView",
            "_model_name": "ProgressStyleModel",
            "description_width": "initial",
            "_view_module": "@jupyter-widgets/base",
            "_model_module_version": "1.5.0",
            "_view_count": null,
            "_view_module_version": "1.2.0",
            "bar_color": null,
            "_model_module": "@jupyter-widgets/controls"
          }
        },
        "eb7e8d074dd348858f7581f73c7d414e": {
          "model_module": "@jupyter-widgets/base",
          "model_name": "LayoutModel",
          "state": {
            "_view_name": "LayoutView",
            "grid_template_rows": null,
            "right": null,
            "justify_content": null,
            "_view_module": "@jupyter-widgets/base",
            "overflow": null,
            "_model_module_version": "1.2.0",
            "_view_count": null,
            "flex_flow": null,
            "width": null,
            "min_width": null,
            "border": null,
            "align_items": null,
            "bottom": null,
            "_model_module": "@jupyter-widgets/base",
            "top": null,
            "grid_column": null,
            "overflow_y": null,
            "overflow_x": null,
            "grid_auto_flow": null,
            "grid_area": null,
            "grid_template_columns": null,
            "flex": null,
            "_model_name": "LayoutModel",
            "justify_items": null,
            "grid_row": null,
            "max_height": null,
            "align_content": null,
            "visibility": null,
            "align_self": null,
            "height": null,
            "min_height": null,
            "padding": null,
            "grid_auto_rows": null,
            "grid_gap": null,
            "max_width": null,
            "order": null,
            "_view_module_version": "1.2.0",
            "grid_template_areas": null,
            "object_position": null,
            "object_fit": null,
            "grid_auto_columns": null,
            "margin": null,
            "display": null,
            "left": null
          }
        },
        "d11c477bc20c47c5b03c8f22076a0587": {
          "model_module": "@jupyter-widgets/controls",
          "model_name": "DescriptionStyleModel",
          "state": {
            "_view_name": "StyleView",
            "_model_name": "DescriptionStyleModel",
            "description_width": "",
            "_view_module": "@jupyter-widgets/base",
            "_model_module_version": "1.5.0",
            "_view_count": null,
            "_view_module_version": "1.2.0",
            "_model_module": "@jupyter-widgets/controls"
          }
        },
        "49ba6ab0bbd14a99a48ee68913b1630d": {
          "model_module": "@jupyter-widgets/base",
          "model_name": "LayoutModel",
          "state": {
            "_view_name": "LayoutView",
            "grid_template_rows": null,
            "right": null,
            "justify_content": null,
            "_view_module": "@jupyter-widgets/base",
            "overflow": null,
            "_model_module_version": "1.2.0",
            "_view_count": null,
            "flex_flow": null,
            "width": null,
            "min_width": null,
            "border": null,
            "align_items": null,
            "bottom": null,
            "_model_module": "@jupyter-widgets/base",
            "top": null,
            "grid_column": null,
            "overflow_y": null,
            "overflow_x": null,
            "grid_auto_flow": null,
            "grid_area": null,
            "grid_template_columns": null,
            "flex": null,
            "_model_name": "LayoutModel",
            "justify_items": null,
            "grid_row": null,
            "max_height": null,
            "align_content": null,
            "visibility": null,
            "align_self": null,
            "height": null,
            "min_height": null,
            "padding": null,
            "grid_auto_rows": null,
            "grid_gap": null,
            "max_width": null,
            "order": null,
            "_view_module_version": "1.2.0",
            "grid_template_areas": null,
            "object_position": null,
            "object_fit": null,
            "grid_auto_columns": null,
            "margin": null,
            "display": null,
            "left": null
          }
        },
        "e55294692a2e4bc7970e5e3b3f135e2b": {
          "model_module": "@jupyter-widgets/controls",
          "model_name": "HBoxModel",
          "state": {
            "_view_name": "HBoxView",
            "_dom_classes": [],
            "_model_name": "HBoxModel",
            "_view_module": "@jupyter-widgets/controls",
            "_model_module_version": "1.5.0",
            "_view_count": null,
            "_view_module_version": "1.5.0",
            "box_style": "",
            "layout": "IPY_MODEL_4e2788cdc0844681bf45fe3ea31518ff",
            "_model_module": "@jupyter-widgets/controls",
            "children": [
              "IPY_MODEL_bc4ce70aca304aa5925a4b2172b892a0",
              "IPY_MODEL_9deec26990044366ace53749fdc14ad7"
            ]
          }
        },
        "4e2788cdc0844681bf45fe3ea31518ff": {
          "model_module": "@jupyter-widgets/base",
          "model_name": "LayoutModel",
          "state": {
            "_view_name": "LayoutView",
            "grid_template_rows": null,
            "right": null,
            "justify_content": null,
            "_view_module": "@jupyter-widgets/base",
            "overflow": null,
            "_model_module_version": "1.2.0",
            "_view_count": null,
            "flex_flow": null,
            "width": null,
            "min_width": null,
            "border": null,
            "align_items": null,
            "bottom": null,
            "_model_module": "@jupyter-widgets/base",
            "top": null,
            "grid_column": null,
            "overflow_y": null,
            "overflow_x": null,
            "grid_auto_flow": null,
            "grid_area": null,
            "grid_template_columns": null,
            "flex": null,
            "_model_name": "LayoutModel",
            "justify_items": null,
            "grid_row": null,
            "max_height": null,
            "align_content": null,
            "visibility": null,
            "align_self": null,
            "height": null,
            "min_height": null,
            "padding": null,
            "grid_auto_rows": null,
            "grid_gap": null,
            "max_width": null,
            "order": null,
            "_view_module_version": "1.2.0",
            "grid_template_areas": null,
            "object_position": null,
            "object_fit": null,
            "grid_auto_columns": null,
            "margin": null,
            "display": null,
            "left": null
          }
        },
        "bc4ce70aca304aa5925a4b2172b892a0": {
          "model_module": "@jupyter-widgets/controls",
          "model_name": "FloatProgressModel",
          "state": {
            "_view_name": "ProgressView",
            "style": "IPY_MODEL_860a4dce95ef44be9628021312367209",
            "_dom_classes": [],
            "description": "100%",
            "_model_name": "FloatProgressModel",
            "bar_style": "",
            "max": 9,
            "_view_module": "@jupyter-widgets/controls",
            "_model_module_version": "1.5.0",
            "value": 9,
            "_view_count": null,
            "_view_module_version": "1.5.0",
            "orientation": "horizontal",
            "min": 0,
            "description_tooltip": null,
            "_model_module": "@jupyter-widgets/controls",
            "layout": "IPY_MODEL_9c54f69a7b4b44958121a49b4bf38921"
          }
        },
        "9deec26990044366ace53749fdc14ad7": {
          "model_module": "@jupyter-widgets/controls",
          "model_name": "HTMLModel",
          "state": {
            "_view_name": "HTMLView",
            "style": "IPY_MODEL_4e705958302c4f90951eb40b96dec8e0",
            "_dom_classes": [],
            "description": "",
            "_model_name": "HTMLModel",
            "placeholder": "​",
            "_view_module": "@jupyter-widgets/controls",
            "_model_module_version": "1.5.0",
            "value": " 9/9 [00:02&lt;00:00,  3.46it/s]",
            "_view_count": null,
            "_view_module_version": "1.5.0",
            "description_tooltip": null,
            "_model_module": "@jupyter-widgets/controls",
            "layout": "IPY_MODEL_31e50ffcf98646ad86b70f36d4b6bd2a"
          }
        },
        "860a4dce95ef44be9628021312367209": {
          "model_module": "@jupyter-widgets/controls",
          "model_name": "ProgressStyleModel",
          "state": {
            "_view_name": "StyleView",
            "_model_name": "ProgressStyleModel",
            "description_width": "initial",
            "_view_module": "@jupyter-widgets/base",
            "_model_module_version": "1.5.0",
            "_view_count": null,
            "_view_module_version": "1.2.0",
            "bar_color": null,
            "_model_module": "@jupyter-widgets/controls"
          }
        },
        "9c54f69a7b4b44958121a49b4bf38921": {
          "model_module": "@jupyter-widgets/base",
          "model_name": "LayoutModel",
          "state": {
            "_view_name": "LayoutView",
            "grid_template_rows": null,
            "right": null,
            "justify_content": null,
            "_view_module": "@jupyter-widgets/base",
            "overflow": null,
            "_model_module_version": "1.2.0",
            "_view_count": null,
            "flex_flow": null,
            "width": null,
            "min_width": null,
            "border": null,
            "align_items": null,
            "bottom": null,
            "_model_module": "@jupyter-widgets/base",
            "top": null,
            "grid_column": null,
            "overflow_y": null,
            "overflow_x": null,
            "grid_auto_flow": null,
            "grid_area": null,
            "grid_template_columns": null,
            "flex": null,
            "_model_name": "LayoutModel",
            "justify_items": null,
            "grid_row": null,
            "max_height": null,
            "align_content": null,
            "visibility": null,
            "align_self": null,
            "height": null,
            "min_height": null,
            "padding": null,
            "grid_auto_rows": null,
            "grid_gap": null,
            "max_width": null,
            "order": null,
            "_view_module_version": "1.2.0",
            "grid_template_areas": null,
            "object_position": null,
            "object_fit": null,
            "grid_auto_columns": null,
            "margin": null,
            "display": null,
            "left": null
          }
        },
        "4e705958302c4f90951eb40b96dec8e0": {
          "model_module": "@jupyter-widgets/controls",
          "model_name": "DescriptionStyleModel",
          "state": {
            "_view_name": "StyleView",
            "_model_name": "DescriptionStyleModel",
            "description_width": "",
            "_view_module": "@jupyter-widgets/base",
            "_model_module_version": "1.5.0",
            "_view_count": null,
            "_view_module_version": "1.2.0",
            "_model_module": "@jupyter-widgets/controls"
          }
        },
        "31e50ffcf98646ad86b70f36d4b6bd2a": {
          "model_module": "@jupyter-widgets/base",
          "model_name": "LayoutModel",
          "state": {
            "_view_name": "LayoutView",
            "grid_template_rows": null,
            "right": null,
            "justify_content": null,
            "_view_module": "@jupyter-widgets/base",
            "overflow": null,
            "_model_module_version": "1.2.0",
            "_view_count": null,
            "flex_flow": null,
            "width": null,
            "min_width": null,
            "border": null,
            "align_items": null,
            "bottom": null,
            "_model_module": "@jupyter-widgets/base",
            "top": null,
            "grid_column": null,
            "overflow_y": null,
            "overflow_x": null,
            "grid_auto_flow": null,
            "grid_area": null,
            "grid_template_columns": null,
            "flex": null,
            "_model_name": "LayoutModel",
            "justify_items": null,
            "grid_row": null,
            "max_height": null,
            "align_content": null,
            "visibility": null,
            "align_self": null,
            "height": null,
            "min_height": null,
            "padding": null,
            "grid_auto_rows": null,
            "grid_gap": null,
            "max_width": null,
            "order": null,
            "_view_module_version": "1.2.0",
            "grid_template_areas": null,
            "object_position": null,
            "object_fit": null,
            "grid_auto_columns": null,
            "margin": null,
            "display": null,
            "left": null
          }
        },
        "954872921ea34e819870b463c840401d": {
          "model_module": "@jupyter-widgets/controls",
          "model_name": "HBoxModel",
          "state": {
            "_view_name": "HBoxView",
            "_dom_classes": [],
            "_model_name": "HBoxModel",
            "_view_module": "@jupyter-widgets/controls",
            "_model_module_version": "1.5.0",
            "_view_count": null,
            "_view_module_version": "1.5.0",
            "box_style": "",
            "layout": "IPY_MODEL_e66979d9e79248308a6be682c14b3b99",
            "_model_module": "@jupyter-widgets/controls",
            "children": [
              "IPY_MODEL_24da5b20fc424eb4b3bb274216a6fc71",
              "IPY_MODEL_e5c92b7555334fa3b0ae613e7f19c915"
            ]
          }
        },
        "e66979d9e79248308a6be682c14b3b99": {
          "model_module": "@jupyter-widgets/base",
          "model_name": "LayoutModel",
          "state": {
            "_view_name": "LayoutView",
            "grid_template_rows": null,
            "right": null,
            "justify_content": null,
            "_view_module": "@jupyter-widgets/base",
            "overflow": null,
            "_model_module_version": "1.2.0",
            "_view_count": null,
            "flex_flow": null,
            "width": null,
            "min_width": null,
            "border": null,
            "align_items": null,
            "bottom": null,
            "_model_module": "@jupyter-widgets/base",
            "top": null,
            "grid_column": null,
            "overflow_y": null,
            "overflow_x": null,
            "grid_auto_flow": null,
            "grid_area": null,
            "grid_template_columns": null,
            "flex": null,
            "_model_name": "LayoutModel",
            "justify_items": null,
            "grid_row": null,
            "max_height": null,
            "align_content": null,
            "visibility": null,
            "align_self": null,
            "height": null,
            "min_height": null,
            "padding": null,
            "grid_auto_rows": null,
            "grid_gap": null,
            "max_width": null,
            "order": null,
            "_view_module_version": "1.2.0",
            "grid_template_areas": null,
            "object_position": null,
            "object_fit": null,
            "grid_auto_columns": null,
            "margin": null,
            "display": null,
            "left": null
          }
        },
        "24da5b20fc424eb4b3bb274216a6fc71": {
          "model_module": "@jupyter-widgets/controls",
          "model_name": "FloatProgressModel",
          "state": {
            "_view_name": "ProgressView",
            "style": "IPY_MODEL_e1d35c13a9284b0db785db6073bf0899",
            "_dom_classes": [],
            "description": "100%",
            "_model_name": "FloatProgressModel",
            "bar_style": "",
            "max": 9,
            "_view_module": "@jupyter-widgets/controls",
            "_model_module_version": "1.5.0",
            "value": 9,
            "_view_count": null,
            "_view_module_version": "1.5.0",
            "orientation": "horizontal",
            "min": 0,
            "description_tooltip": null,
            "_model_module": "@jupyter-widgets/controls",
            "layout": "IPY_MODEL_cf8030a1e52b4a179734e0442029a065"
          }
        },
        "e5c92b7555334fa3b0ae613e7f19c915": {
          "model_module": "@jupyter-widgets/controls",
          "model_name": "HTMLModel",
          "state": {
            "_view_name": "HTMLView",
            "style": "IPY_MODEL_d50c34e699544ec5ad4512b2e7826a19",
            "_dom_classes": [],
            "description": "",
            "_model_name": "HTMLModel",
            "placeholder": "​",
            "_view_module": "@jupyter-widgets/controls",
            "_model_module_version": "1.5.0",
            "value": " 9/9 [00:02&lt;00:00,  3.50it/s]",
            "_view_count": null,
            "_view_module_version": "1.5.0",
            "description_tooltip": null,
            "_model_module": "@jupyter-widgets/controls",
            "layout": "IPY_MODEL_2c52fe7a6e294753856082552cf054fb"
          }
        },
        "e1d35c13a9284b0db785db6073bf0899": {
          "model_module": "@jupyter-widgets/controls",
          "model_name": "ProgressStyleModel",
          "state": {
            "_view_name": "StyleView",
            "_model_name": "ProgressStyleModel",
            "description_width": "initial",
            "_view_module": "@jupyter-widgets/base",
            "_model_module_version": "1.5.0",
            "_view_count": null,
            "_view_module_version": "1.2.0",
            "bar_color": null,
            "_model_module": "@jupyter-widgets/controls"
          }
        },
        "cf8030a1e52b4a179734e0442029a065": {
          "model_module": "@jupyter-widgets/base",
          "model_name": "LayoutModel",
          "state": {
            "_view_name": "LayoutView",
            "grid_template_rows": null,
            "right": null,
            "justify_content": null,
            "_view_module": "@jupyter-widgets/base",
            "overflow": null,
            "_model_module_version": "1.2.0",
            "_view_count": null,
            "flex_flow": null,
            "width": null,
            "min_width": null,
            "border": null,
            "align_items": null,
            "bottom": null,
            "_model_module": "@jupyter-widgets/base",
            "top": null,
            "grid_column": null,
            "overflow_y": null,
            "overflow_x": null,
            "grid_auto_flow": null,
            "grid_area": null,
            "grid_template_columns": null,
            "flex": null,
            "_model_name": "LayoutModel",
            "justify_items": null,
            "grid_row": null,
            "max_height": null,
            "align_content": null,
            "visibility": null,
            "align_self": null,
            "height": null,
            "min_height": null,
            "padding": null,
            "grid_auto_rows": null,
            "grid_gap": null,
            "max_width": null,
            "order": null,
            "_view_module_version": "1.2.0",
            "grid_template_areas": null,
            "object_position": null,
            "object_fit": null,
            "grid_auto_columns": null,
            "margin": null,
            "display": null,
            "left": null
          }
        },
        "d50c34e699544ec5ad4512b2e7826a19": {
          "model_module": "@jupyter-widgets/controls",
          "model_name": "DescriptionStyleModel",
          "state": {
            "_view_name": "StyleView",
            "_model_name": "DescriptionStyleModel",
            "description_width": "",
            "_view_module": "@jupyter-widgets/base",
            "_model_module_version": "1.5.0",
            "_view_count": null,
            "_view_module_version": "1.2.0",
            "_model_module": "@jupyter-widgets/controls"
          }
        },
        "2c52fe7a6e294753856082552cf054fb": {
          "model_module": "@jupyter-widgets/base",
          "model_name": "LayoutModel",
          "state": {
            "_view_name": "LayoutView",
            "grid_template_rows": null,
            "right": null,
            "justify_content": null,
            "_view_module": "@jupyter-widgets/base",
            "overflow": null,
            "_model_module_version": "1.2.0",
            "_view_count": null,
            "flex_flow": null,
            "width": null,
            "min_width": null,
            "border": null,
            "align_items": null,
            "bottom": null,
            "_model_module": "@jupyter-widgets/base",
            "top": null,
            "grid_column": null,
            "overflow_y": null,
            "overflow_x": null,
            "grid_auto_flow": null,
            "grid_area": null,
            "grid_template_columns": null,
            "flex": null,
            "_model_name": "LayoutModel",
            "justify_items": null,
            "grid_row": null,
            "max_height": null,
            "align_content": null,
            "visibility": null,
            "align_self": null,
            "height": null,
            "min_height": null,
            "padding": null,
            "grid_auto_rows": null,
            "grid_gap": null,
            "max_width": null,
            "order": null,
            "_view_module_version": "1.2.0",
            "grid_template_areas": null,
            "object_position": null,
            "object_fit": null,
            "grid_auto_columns": null,
            "margin": null,
            "display": null,
            "left": null
          }
        },
        "db21838bfe6a4c9bbdae5214ba92bca4": {
          "model_module": "@jupyter-widgets/controls",
          "model_name": "HBoxModel",
          "state": {
            "_view_name": "HBoxView",
            "_dom_classes": [],
            "_model_name": "HBoxModel",
            "_view_module": "@jupyter-widgets/controls",
            "_model_module_version": "1.5.0",
            "_view_count": null,
            "_view_module_version": "1.5.0",
            "box_style": "",
            "layout": "IPY_MODEL_d56cad2c03c8442181298346129a6182",
            "_model_module": "@jupyter-widgets/controls",
            "children": [
              "IPY_MODEL_9371a1e07f604f4cb1990c4418097267",
              "IPY_MODEL_b8621c4c473a4c39a12f4821c1a72854"
            ]
          }
        },
        "d56cad2c03c8442181298346129a6182": {
          "model_module": "@jupyter-widgets/base",
          "model_name": "LayoutModel",
          "state": {
            "_view_name": "LayoutView",
            "grid_template_rows": null,
            "right": null,
            "justify_content": null,
            "_view_module": "@jupyter-widgets/base",
            "overflow": null,
            "_model_module_version": "1.2.0",
            "_view_count": null,
            "flex_flow": null,
            "width": null,
            "min_width": null,
            "border": null,
            "align_items": null,
            "bottom": null,
            "_model_module": "@jupyter-widgets/base",
            "top": null,
            "grid_column": null,
            "overflow_y": null,
            "overflow_x": null,
            "grid_auto_flow": null,
            "grid_area": null,
            "grid_template_columns": null,
            "flex": null,
            "_model_name": "LayoutModel",
            "justify_items": null,
            "grid_row": null,
            "max_height": null,
            "align_content": null,
            "visibility": null,
            "align_self": null,
            "height": null,
            "min_height": null,
            "padding": null,
            "grid_auto_rows": null,
            "grid_gap": null,
            "max_width": null,
            "order": null,
            "_view_module_version": "1.2.0",
            "grid_template_areas": null,
            "object_position": null,
            "object_fit": null,
            "grid_auto_columns": null,
            "margin": null,
            "display": null,
            "left": null
          }
        },
        "9371a1e07f604f4cb1990c4418097267": {
          "model_module": "@jupyter-widgets/controls",
          "model_name": "FloatProgressModel",
          "state": {
            "_view_name": "ProgressView",
            "style": "IPY_MODEL_af8581eb4eac4fcd9f688b9da0dc5652",
            "_dom_classes": [],
            "description": "100%",
            "_model_name": "FloatProgressModel",
            "bar_style": "",
            "max": 9,
            "_view_module": "@jupyter-widgets/controls",
            "_model_module_version": "1.5.0",
            "value": 9,
            "_view_count": null,
            "_view_module_version": "1.5.0",
            "orientation": "horizontal",
            "min": 0,
            "description_tooltip": null,
            "_model_module": "@jupyter-widgets/controls",
            "layout": "IPY_MODEL_ed3c0c090b574fe9bfe92f68d678eb0f"
          }
        },
        "b8621c4c473a4c39a12f4821c1a72854": {
          "model_module": "@jupyter-widgets/controls",
          "model_name": "HTMLModel",
          "state": {
            "_view_name": "HTMLView",
            "style": "IPY_MODEL_1f7ffc28bc224bd6b870ec4294e28a68",
            "_dom_classes": [],
            "description": "",
            "_model_name": "HTMLModel",
            "placeholder": "​",
            "_view_module": "@jupyter-widgets/controls",
            "_model_module_version": "1.5.0",
            "value": " 9/9 [00:02&lt;00:00,  3.47it/s]",
            "_view_count": null,
            "_view_module_version": "1.5.0",
            "description_tooltip": null,
            "_model_module": "@jupyter-widgets/controls",
            "layout": "IPY_MODEL_0756be53b71b4ae7b300503cbc59125c"
          }
        },
        "af8581eb4eac4fcd9f688b9da0dc5652": {
          "model_module": "@jupyter-widgets/controls",
          "model_name": "ProgressStyleModel",
          "state": {
            "_view_name": "StyleView",
            "_model_name": "ProgressStyleModel",
            "description_width": "initial",
            "_view_module": "@jupyter-widgets/base",
            "_model_module_version": "1.5.0",
            "_view_count": null,
            "_view_module_version": "1.2.0",
            "bar_color": null,
            "_model_module": "@jupyter-widgets/controls"
          }
        },
        "ed3c0c090b574fe9bfe92f68d678eb0f": {
          "model_module": "@jupyter-widgets/base",
          "model_name": "LayoutModel",
          "state": {
            "_view_name": "LayoutView",
            "grid_template_rows": null,
            "right": null,
            "justify_content": null,
            "_view_module": "@jupyter-widgets/base",
            "overflow": null,
            "_model_module_version": "1.2.0",
            "_view_count": null,
            "flex_flow": null,
            "width": null,
            "min_width": null,
            "border": null,
            "align_items": null,
            "bottom": null,
            "_model_module": "@jupyter-widgets/base",
            "top": null,
            "grid_column": null,
            "overflow_y": null,
            "overflow_x": null,
            "grid_auto_flow": null,
            "grid_area": null,
            "grid_template_columns": null,
            "flex": null,
            "_model_name": "LayoutModel",
            "justify_items": null,
            "grid_row": null,
            "max_height": null,
            "align_content": null,
            "visibility": null,
            "align_self": null,
            "height": null,
            "min_height": null,
            "padding": null,
            "grid_auto_rows": null,
            "grid_gap": null,
            "max_width": null,
            "order": null,
            "_view_module_version": "1.2.0",
            "grid_template_areas": null,
            "object_position": null,
            "object_fit": null,
            "grid_auto_columns": null,
            "margin": null,
            "display": null,
            "left": null
          }
        },
        "1f7ffc28bc224bd6b870ec4294e28a68": {
          "model_module": "@jupyter-widgets/controls",
          "model_name": "DescriptionStyleModel",
          "state": {
            "_view_name": "StyleView",
            "_model_name": "DescriptionStyleModel",
            "description_width": "",
            "_view_module": "@jupyter-widgets/base",
            "_model_module_version": "1.5.0",
            "_view_count": null,
            "_view_module_version": "1.2.0",
            "_model_module": "@jupyter-widgets/controls"
          }
        },
        "0756be53b71b4ae7b300503cbc59125c": {
          "model_module": "@jupyter-widgets/base",
          "model_name": "LayoutModel",
          "state": {
            "_view_name": "LayoutView",
            "grid_template_rows": null,
            "right": null,
            "justify_content": null,
            "_view_module": "@jupyter-widgets/base",
            "overflow": null,
            "_model_module_version": "1.2.0",
            "_view_count": null,
            "flex_flow": null,
            "width": null,
            "min_width": null,
            "border": null,
            "align_items": null,
            "bottom": null,
            "_model_module": "@jupyter-widgets/base",
            "top": null,
            "grid_column": null,
            "overflow_y": null,
            "overflow_x": null,
            "grid_auto_flow": null,
            "grid_area": null,
            "grid_template_columns": null,
            "flex": null,
            "_model_name": "LayoutModel",
            "justify_items": null,
            "grid_row": null,
            "max_height": null,
            "align_content": null,
            "visibility": null,
            "align_self": null,
            "height": null,
            "min_height": null,
            "padding": null,
            "grid_auto_rows": null,
            "grid_gap": null,
            "max_width": null,
            "order": null,
            "_view_module_version": "1.2.0",
            "grid_template_areas": null,
            "object_position": null,
            "object_fit": null,
            "grid_auto_columns": null,
            "margin": null,
            "display": null,
            "left": null
          }
        }
      }
    }
  },
  "cells": [
    {
      "cell_type": "markdown",
      "metadata": {
        "id": "view-in-github",
        "colab_type": "text"
      },
      "source": [
        "<a href=\"https://colab.research.google.com/github/manmeet3/Masters_Project/blob/master/wip_colabs/tumor_anomaly/ganomaly-kaggle-2.ipynb\" target=\"_parent\"><img src=\"https://colab.research.google.com/assets/colab-badge.svg\" alt=\"Open In Colab\"/></a>"
      ]
    },
    {
      "cell_type": "code",
      "metadata": {
        "id": "KXkoVEkWronw"
      },
      "source": [
        "# https://www.groundai.com/project/ganomaly-semi-supervised-anomaly-detection-via-adversarial-training/1"
      ],
      "execution_count": 1,
      "outputs": []
    },
    {
      "cell_type": "markdown",
      "metadata": {
        "id": "iGwuLlM7rs7o"
      },
      "source": [
        "https://github.com/chychen/tf2-ganomaly"
      ]
    },
    {
      "cell_type": "code",
      "metadata": {
        "colab": {
          "base_uri": "https://localhost:8080/"
        },
        "id": "P1LytNWdqguQ",
        "outputId": "d596ee54-6e77-47ae-8c88-b88587bac225"
      },
      "source": [
        "from google.colab import drive\n",
        "drive.mount(\"/content/drive\", force_remount=True)"
      ],
      "execution_count": 2,
      "outputs": [
        {
          "output_type": "stream",
          "text": [
            "Mounted at /content/drive\n"
          ],
          "name": "stdout"
        }
      ]
    },
    {
      "cell_type": "code",
      "metadata": {
        "colab": {
          "base_uri": "https://localhost:8080/"
        },
        "id": "E4odjevGqhkd",
        "outputId": "bfab1939-427a-4a58-fe8f-616c944991bd"
      },
      "source": [
        "%cd /content/drive/MyDrive/Masters_Project/Datasets/new1/kaggle_tumor_detection/"
      ],
      "execution_count": 3,
      "outputs": [
        {
          "output_type": "stream",
          "text": [
            "/content/drive/MyDrive/Masters_Project/Datasets/new1/kaggle_tumor_detection\n"
          ],
          "name": "stdout"
        }
      ]
    },
    {
      "cell_type": "code",
      "metadata": {
        "id": "A0RzAOO_r2bt",
        "outputId": "2cdd44ea-1a10-4f68-9b7e-13461eb664a8",
        "colab": {
          "base_uri": "https://localhost:8080/"
        }
      },
      "source": [
        "!ls"
      ],
      "execution_count": 4,
      "outputs": [
        {
          "output_type": "stream",
          "text": [
            " archive.zip\t       No17.jpg     orig_resized_yes\t    resized_yes\n",
            " brain_tumor_dataset   no_18.jpg    output\t\t    roc_auc.png\n",
            " ckpt\t\t      'no 96.jpg'   pre_rec_curve.png\t    source.txt\n",
            " ganomaly_tf2\t      'no 98.jpg'   resized_no\n",
            " No15.jpg\t       no.jpg\t    resized_no_OASIS-only\n"
          ],
          "name": "stdout"
        }
      ]
    },
    {
      "cell_type": "code",
      "metadata": {
        "id": "pFf-uzo_q7iL"
      },
      "source": [
        "# !mkdir ganomaly_tf2\n",
        "# %cd ganomaly_tf2\n",
        "# !wget https://raw.githubusercontent.com/chychen/tf2-ganomaly/master/metrics.py\n",
        "# !wget https://raw.githubusercontent.com/chychen/tf2-ganomaly/master/model.py\n",
        "# !wget https://raw.githubusercontent.com/chychen/tf2-ganomaly/master/train.py"
      ],
      "execution_count": 5,
      "outputs": []
    },
    {
      "cell_type": "code",
      "metadata": {
        "colab": {
          "base_uri": "https://localhost:8080/"
        },
        "id": "AATRtv9srdvp",
        "outputId": "7a16448b-c591-4c9f-e018-30c76e0551de"
      },
      "source": [
        "%matplotlib inline\n",
        "import tensorflow as tf\n",
        "from tensorflow.keras import layers\n",
        "print(tf.__version__)\n",
        "import os\n",
        "import time\n",
        "import numpy as np\n",
        "import cv2\n",
        "import glob\n",
        "import matplotlib.pyplot as plt\n",
        "from IPython.display import clear_output\n",
        "from ganomaly_tf2.model import GANomaly\n",
        "from absl import logging\n",
        "logging.set_verbosity(logging.INFO)\n",
        "logging.set_stderrthreshold(logging.INFO)\n",
        "\n",
        "from typing import Any, Callable, Optional, Tuple\n",
        "from PIL import Image\n",
        "from sklearn.model_selection import train_test_split"
      ],
      "execution_count": 6,
      "outputs": [
        {
          "output_type": "stream",
          "text": [
            "2.4.1\n"
          ],
          "name": "stdout"
        }
      ]
    },
    {
      "cell_type": "code",
      "metadata": {
        "id": "ueHQqtypr8kH"
      },
      "source": [
        "def batch_resize(imgs, size: tuple):\n",
        "    img_out = np.empty((imgs.shape[0],) + size)\n",
        "    for i in range(imgs.shape[0]):\n",
        "        img_out[i] = cv2.resize(imgs[i], size, interpolation=cv2.INTER_CUBIC)\n",
        "    return img_out"
      ],
      "execution_count": 7,
      "outputs": []
    },
    {
      "cell_type": "code",
      "metadata": {
        "id": "gjZwaE0KsCyO"
      },
      "source": [
        "class Option:\n",
        "    def __init__(self):\n",
        "        self.anomaly = 1 # the anomaly digit\n",
        "        self.shuffle_buffer_size = 10000\n",
        "        self.batch_size = 8\n",
        "        self.isize = 256 # input size\n",
        "        self.ckpt_dir = \"ckpt\"\n",
        "        self.nz = 100 # latent dims\n",
        "        self.nc = 1 # input channels\n",
        "        self.ndf = 64 # number of discriminator's filters\n",
        "        self.ngf = 64 # number of generator's filters\n",
        "        self.extralayers = 0\n",
        "        self.niter = 15 # number of training epochs\n",
        "        self.lr = 2e-4 \n",
        "        self.w_adv = 1. # Adversarial loss weight\n",
        "        self.w_con = 50. # Reconstruction loss weight\n",
        "        self.w_enc = 1. # Encoder loss weight.\n",
        "        self.beta1 = 0.5\n",
        "        self.encdims = None\n",
        "        self.log_dir = \"logs\"\n",
        "        self.dataset = \"kaggle_tumor\"\n",
        "            \n",
        "opt = Option()"
      ],
      "execution_count": 8,
      "outputs": []
    },
    {
      "cell_type": "code",
      "metadata": {
        "id": "qNr_ZeSb2R4S"
      },
      "source": [
        "if opt.log_dir:\n",
        "    if not os.path.exists(opt.log_dir):\n",
        "        os.makedirs(opt.log_dir)\n",
        "    logging.get_absl_handler().use_absl_log_file(opt.dataset, log_dir=opt.log_dir)"
      ],
      "execution_count": 11,
      "outputs": []
    },
    {
      "cell_type": "code",
      "metadata": {
        "id": "WkAMiBZKytN2"
      },
      "source": [
        "data_train, data_test = tf.keras.datasets.mnist.load_data()\n",
        "# (x_train, y_train), (x_test, y_test) = tf.keras.datasets.mnist.load_data()"
      ],
      "execution_count": 12,
      "outputs": []
    },
    {
      "cell_type": "code",
      "metadata": {
        "id": "otGVmqKZ72_o"
      },
      "source": [
        "def read_data(path, normal=True):\n",
        "    data: Any = []\n",
        "    labels = []\n",
        "    \n",
        "    for file_path in glob.glob(path):\n",
        "        with open (file_path, 'rb') as f:\n",
        "            # image needs to be a PIL image\n",
        "            img = Image.open(f).convert('L')\n",
        "            # image size\n",
        "            # width, height = img.size\n",
        "            # mode = img.mode\n",
        "            # print(f\"w: {width} h: {height} mode: {mode}\")\n",
        "            # Resize all images 176, 256, 3 -> 256, 256, 0\n",
        "            dsize = (256, 256)\n",
        "            resized = img.resize(dsize)\n",
        "            # After resize\n",
        "            # width, height = resized.size\n",
        "            # mode = resized.mode\n",
        "            # print(f\"RESIZED: w: {width} h: {height} mode: {mode}\")\n",
        "            data.append(resized)\n",
        "            labels.append(0 if normal else 1) \n",
        "            \n",
        "    data = np.vstack(data).reshape(-1, 256, 256)\n",
        "    data = data.transpose((0, 1, 2))  # convert to HWC\n",
        "    return (data, labels)"
      ],
      "execution_count": 13,
      "outputs": []
    },
    {
      "cell_type": "code",
      "metadata": {
        "colab": {
          "base_uri": "https://localhost:8080/"
        },
        "id": "gwounWgO1nR9",
        "outputId": "e7558086-aa25-41d0-f2f2-2bf6cd9835bd"
      },
      "source": [
        "train_image_number = 140 # Image slice from MRI scans to use for training data\n",
        "#root_dir = '/content/drive/MyDrive/Masters_Project/Datasets/OASIS3/'\n",
        "root = '/content/drive/MyDrive/Masters_Project/Datasets/new1/kaggle_tumor_detection/'\n",
        "normal_folder = 'resized_no/'\n",
        "tumor_folder = 'resized_yes/'\n",
        "\n",
        "normal_jpg_folder = os.path.join(root, normal_folder)\n",
        "tumor_jpg_folder = os.path.join(root, tumor_folder)\n",
        "    \n",
        "print(\"=\"*5 + \" Loading Data \" + \"=\"*5)\n",
        "print(f\"tumor_jpg_folder: {tumor_jpg_folder}\")\n",
        "print(f\"normal_jpg_folder: {normal_jpg_folder}\")\n",
        "\n",
        "non_ad_data: Any = []\n",
        "non_ad_targets = []\n",
        "\n",
        "ad_data: Any = []\n",
        "ad_targets = []\n",
        "\n",
        "# Read data and label into a numpy array\n",
        "non_ad_data, non_ad_targets = read_data(normal_jpg_folder+'**.jpg', normal=True)\n",
        "ad_data, ad_targets = read_data(tumor_jpg_folder+'**.jpg', normal=False)\n",
        "\n",
        "# shuffle the datasets and bucket them as test and train\n",
        "# (non_ad_data, non_ad_targets) = shuffle_associated_arrays(non_ad_data, non_ad_targets)\n",
        "# (ad_data, ad_targets) = shuffle_associated_arrays(ad_data, ad_targets)\n",
        "\n",
        "all_data = np.concatenate((non_ad_data, ad_data), axis=0)\n",
        "all_targets = non_ad_targets + ad_targets\n",
        "\n",
        "x_train, x_test, y_train, y_test =\\\n",
        "  train_test_split(all_data, all_targets, test_size=0.1, random_state=42)"
      ],
      "execution_count": 14,
      "outputs": [
        {
          "output_type": "stream",
          "text": [
            "===== Loading Data =====\n",
            "tumor_jpg_folder: /content/drive/MyDrive/Masters_Project/Datasets/new1/kaggle_tumor_detection/resized_yes/\n",
            "normal_jpg_folder: /content/drive/MyDrive/Masters_Project/Datasets/new1/kaggle_tumor_detection/resized_no/\n"
          ],
          "name": "stdout"
        }
      ]
    },
    {
      "cell_type": "code",
      "metadata": {
        "id": "p-x5XcnOW7t_"
      },
      "source": [
        "x_train = x_train.astype(np.float32)\n",
        "x_test = x_test.astype(np.float32)\n",
        "\n",
        "y_train = np.array(y_train, dtype=np.intc)\n",
        "y_test = np.array(y_test, dtype=np.intc)"
      ],
      "execution_count": 15,
      "outputs": []
    },
    {
      "cell_type": "code",
      "metadata": {
        "colab": {
          "base_uri": "https://localhost:8080/"
        },
        "id": "jilyDAnIDad0",
        "outputId": "a22a1938-0761-4b71-eea7-4fc093de06e8"
      },
      "source": [
        "print(x_train.shape)\n",
        "print(x_test.shape)"
      ],
      "execution_count": 16,
      "outputs": [
        {
          "output_type": "stream",
          "text": [
            "(645, 256, 256)\n",
            "(72, 256, 256)\n"
          ],
          "name": "stdout"
        }
      ]
    },
    {
      "cell_type": "code",
      "metadata": {
        "colab": {
          "base_uri": "https://localhost:8080/"
        },
        "id": "YnuODPLIXho3",
        "outputId": "afbb7ac9-e5b3-43b4-affe-dc1a80219bfa"
      },
      "source": [
        "x_train = batch_resize(x_train, (256, 256))[..., None]\n",
        "x_test = batch_resize(x_test, (256, 256))[..., None]\n",
        "# normalization\n",
        "mean = x_train.mean()\n",
        "stddev = x_train.std()\n",
        "x_train = (x_train-mean)/stddev\n",
        "x_test = (x_test-mean)/stddev\n",
        "print(x_train.shape, x_train.shape)\n",
        "# define abnoraml data and normal\n",
        "# training data only contains normal\n",
        "x_train = x_train[y_train!=opt.anomaly]\n",
        "y_train = y_train[y_train!=opt.anomaly]\n",
        "y_test = (y_test==opt.anomaly).astype(np.float32)\n",
        "# tf.data.Dataset\n",
        "train_dataset = tf.data.Dataset.from_tensor_slices((x_train, y_train))\n",
        "test_dataset = tf.data.Dataset.from_tensor_slices((x_test, y_test))\n",
        "train_dataset = train_dataset.shuffle(opt.shuffle_buffer_size).batch(opt.batch_size, drop_remainder=True)\n",
        "test_dataset = test_dataset.batch(opt.batch_size, drop_remainder=False)"
      ],
      "execution_count": 17,
      "outputs": [
        {
          "output_type": "stream",
          "text": [
            "(645, 256, 256, 1) (645, 256, 256, 1)\n"
          ],
          "name": "stdout"
        }
      ]
    },
    {
      "cell_type": "code",
      "metadata": {
        "colab": {
          "base_uri": "https://localhost:8080/"
        },
        "id": "ZW7nfXrVYKE2",
        "outputId": "87fc4cd4-309c-4157-d99d-bed9ca5e2dda"
      },
      "source": [
        "train_dataset"
      ],
      "execution_count": 18,
      "outputs": [
        {
          "output_type": "execute_result",
          "data": {
            "text/plain": [
              "<BatchDataset shapes: ((8, 256, 256, 1), (8,)), types: (tf.float64, tf.int32)>"
            ]
          },
          "metadata": {
            "tags": []
          },
          "execution_count": 18
        }
      ]
    },
    {
      "cell_type": "code",
      "metadata": {
        "colab": {
          "base_uri": "https://localhost:8080/"
        },
        "id": "6Y5E8hGtYzr9",
        "outputId": "dfdad7c3-fa57-4bbf-8db4-d65e6e4bccc4"
      },
      "source": [
        "test_dataset"
      ],
      "execution_count": 19,
      "outputs": [
        {
          "output_type": "execute_result",
          "data": {
            "text/plain": [
              "<BatchDataset shapes: ((None, 256, 256, 1), (None,)), types: (tf.float64, tf.float32)>"
            ]
          },
          "metadata": {
            "tags": []
          },
          "execution_count": 19
        }
      ]
    },
    {
      "cell_type": "code",
      "metadata": {
        "id": "fW1GpM5-Y3St"
      },
      "source": [
        "ganomaly = GANomaly(opt, train_dataset, valid_dataset=None, test_dataset=test_dataset)"
      ],
      "execution_count": 20,
      "outputs": []
    },
    {
      "cell_type": "code",
      "metadata": {
        "colab": {
          "base_uri": "https://localhost:8080/",
          "height": 1000,
          "referenced_widgets": [
            "647aabf4beda49e09ce97d797f936577",
            "169abd4948a94a979c38b1f62d3a62df",
            "77be0a52394d4f81aa09b9b9045bec7c",
            "ca8ee659713f4da8830a2d2c5035a5dc",
            "0633e1932cc74b549925ace142c1cca6",
            "082fb56ab1f347509d9e1928fa7090e8",
            "821fad47605a4f1096b1646fec6eea57",
            "80cd1d1e1e8e4aaca0326185074a7308",
            "2845b2e0ac4f4cdcbbefe3bcfc6148d0",
            "f671978b8a084cb2931a2ea2c141e91a",
            "03d389b2d1e344caa734736a63707b16",
            "dc6e022fd6f14eefb9d8d1dba213d468",
            "c705597f037848a28c78f371b3079def",
            "1d830af85a9c453bb20fa29eb16fb839",
            "d908fd226b724fc48144f932d6b3daae",
            "91151d59658143be9e03046ff7ee6f17",
            "554dbadb91f043d0bdf987ff10457dc2",
            "49a82422a8134ff59486b944ecc6ab4b",
            "86a24f10aedd48bfbd4a40ac9eb8180f",
            "90e5533fe3c2493a82bdb58269ac1044",
            "5888bce8574f4f1485074343b538b367",
            "57040a8761d54e858f7933d028a7b0ee",
            "a43a47170cbb4e6e81abd4d3fa8c63ec",
            "9ead5b3665b84ac8aaa1acb61fa28ee4",
            "2c373b2b720b4c0aa4b6304a576a865b",
            "c703e3e2327a4be1a365349db54779f7",
            "3bea0aed426f46a897f72ad4cd030d19",
            "90395a232f2f4685a280af6373e2de52",
            "0885ed61799e4c76a5ceeb07cc2b1151",
            "a9c21507f077455ebfc0d81c8fa56e98",
            "1ad72660d10c430d8f9323536be1a641",
            "d1ffdfa0b1314e57bb684f02cea8611a",
            "4969373de0f14c11a0c3b032ce8f1da8",
            "7898ef4e36b540558a394d8d5a09ac25",
            "4cb1142a7aba4ff2b7185e7a688bfcce",
            "5854d1f3efca4a2daf1661c47e9dbf6c",
            "840ed1b4e3ec410099e8bc58821eac5f",
            "ddfdd87686204f91a8b39f5f844bb16c",
            "2461c9c1593e421b97dcfe1b0b04044f",
            "753cb36ed1914951ac053860ee4485b5",
            "a213f783c17148068da4d7f70fd45ce1",
            "afca237eed9d44d4bbcd196a99a687df",
            "1ebe79955eaf46b3abd4900966dc5091",
            "f10f9979df5a4f548b8930d27e2e2eec",
            "d6062763482b4d3390f495bff3400dc6",
            "7217d96db0584d13ac49335ad4bd03ef",
            "454b05d9608a40418a4bce05ec39ea9b",
            "0900be0445614714899fc1b4615f69c0",
            "42e218b6909c4d3991c216e35e944d7a",
            "29fec0c357ad4035b8e41faefda77a2b",
            "3f908b05f490485e9409549f16686cd7",
            "c9dce1a5f57648548159e596b1086127",
            "a1e76d0823a742ab93a6734bd30821d4",
            "4daf3ecb0bc54b1d87f96a5ba66d4891",
            "9765aace6a6740bbae048102de7b7ce2",
            "6f6800a92c66407d9ebcbe02084e603e",
            "c997738d464548a8919a76fd4d846c62",
            "a9fbed6b81c94dca9df6a9cf12e1c739",
            "31b14b92167a45ad9121a0297aa06f76",
            "351e9a04295d4c539af18114a526acd1",
            "44b8e37a170c4d6fbf5e478d0b6e1bea",
            "d5f7c93fb53d4c048000be54d8902d1d",
            "991b832f9a8c4dd3823911c14eca4e55",
            "d5a3e37d52f84bf9a75e6b5393f5e4bc",
            "49eabdfa423f4709880103e9b6429206",
            "3aa2b5907f634c8a8ac5b74093024bb0",
            "9f133fe3b7574a19b2a5b429a0e3250b",
            "7c2ba011152245b791704e9d0243b828",
            "8b9a95ba0ce04a089351016bfb1ef172",
            "eb4e5722b71a442cab8a484b90c8deb8",
            "e25c6bcc4309475fa6c85a4b89a09499",
            "8898669d8dbb4809acd32209ceaba9f5",
            "5ad819705fed435c9168320f50822aee",
            "8cedd95b88c8448086fbb557e3974b5f",
            "5a39f02473e042689be170451ee97e79",
            "347f47cc69d445989663f45e23227e5a",
            "ee173854fb074924822748d608aaeca3",
            "800e1f547d014dd6bb51b46a3705459d",
            "5b188feace6e416ba210dcac027320de",
            "fe70250e52df487da206a940446b40c6",
            "52549c1855d74a7a8a3eaa9c86f2c59c",
            "06f07182ead948fdab7ad2a949ee8c1c",
            "64c2e771c3c0421bbbe57b9d754fb747",
            "7722676a5bb14907a880a92f09bd8e7d",
            "f54f75f546f64af297b39eebeac06fba",
            "0760693efdaa49668c11327a3c8f6db0",
            "5d1f60a44751460aaf500aecf60d8cc8",
            "83f75e4d1e8f43d1b04cd2ba439f2dfb",
            "1c2e35f9a888485391e791c9bb11de15",
            "663ebff9f0154d958fd1e79974864d4f",
            "08778c057dd54f209e8e284bde3773fb",
            "09c73e26b56c487ab7a697317c791614",
            "829fcad68f774560a9bf366c609501d1",
            "eb7e8d074dd348858f7581f73c7d414e",
            "d11c477bc20c47c5b03c8f22076a0587",
            "49ba6ab0bbd14a99a48ee68913b1630d",
            "e55294692a2e4bc7970e5e3b3f135e2b",
            "4e2788cdc0844681bf45fe3ea31518ff",
            "bc4ce70aca304aa5925a4b2172b892a0",
            "9deec26990044366ace53749fdc14ad7",
            "860a4dce95ef44be9628021312367209",
            "9c54f69a7b4b44958121a49b4bf38921",
            "4e705958302c4f90951eb40b96dec8e0",
            "31e50ffcf98646ad86b70f36d4b6bd2a",
            "954872921ea34e819870b463c840401d",
            "e66979d9e79248308a6be682c14b3b99",
            "24da5b20fc424eb4b3bb274216a6fc71",
            "e5c92b7555334fa3b0ae613e7f19c915",
            "e1d35c13a9284b0db785db6073bf0899",
            "cf8030a1e52b4a179734e0442029a065",
            "d50c34e699544ec5ad4512b2e7826a19",
            "2c52fe7a6e294753856082552cf054fb",
            "db21838bfe6a4c9bbdae5214ba92bca4",
            "d56cad2c03c8442181298346129a6182",
            "9371a1e07f604f4cb1990c4418097267",
            "b8621c4c473a4c39a12f4821c1a72854",
            "af8581eb4eac4fcd9f688b9da0dc5652",
            "ed3c0c090b574fe9bfe92f68d678eb0f",
            "1f7ffc28bc224bd6b870ec4294e28a68",
            "0756be53b71b4ae7b300503cbc59125c"
          ]
        },
        "id": "fbKwFAYCY9Zc",
        "outputId": "731eb447-14ec-4fab-c9d3-1b42dda698bd"
      },
      "source": [
        "ganomaly.fit(opt.niter)"
      ],
      "execution_count": 21,
      "outputs": [
        {
          "output_type": "display_data",
          "data": {
            "application/vnd.jupyter.widget-view+json": {
              "model_id": "647aabf4beda49e09ce97d797f936577",
              "version_minor": 0,
              "version_major": 2
            },
            "text/plain": [
              "HBox(children=(FloatProgress(value=0.0, max=9.0), HTML(value='')))"
            ]
          },
          "metadata": {
            "tags": []
          }
        },
        {
          "output_type": "stream",
          "text": [
            "INFO:absl:epoch: 0, G_losses: 44.0436, D_losses: 3.5896, samples/sec: 7.2666\n"
          ],
          "name": "stderr"
        },
        {
          "output_type": "stream",
          "text": [
            "\r"
          ],
          "name": "stdout"
        },
        {
          "output_type": "stream",
          "text": [
            "WARNING:absl:Found untraced functions such as conv_bn__act_layer_call_fn, conv_bn__act_layer_call_and_return_conditional_losses, conv2d_6_layer_call_fn, conv2d_6_layer_call_and_return_conditional_losses, conv_bn__act_6_layer_call_fn while saving (showing 5 of 260). These functions will not be directly callable after loading.\n",
            "WARNING:absl:Found untraced functions such as conv_bn__act_layer_call_fn, conv_bn__act_layer_call_and_return_conditional_losses, conv2d_6_layer_call_fn, conv2d_6_layer_call_and_return_conditional_losses, conv_bn__act_6_layer_call_fn while saving (showing 5 of 260). These functions will not be directly callable after loading.\n"
          ],
          "name": "stderr"
        },
        {
          "output_type": "stream",
          "text": [
            "INFO:tensorflow:Assets written to: ckpt/gen/assets\n"
          ],
          "name": "stdout"
        },
        {
          "output_type": "stream",
          "text": [
            "INFO:tensorflow:Assets written to: ckpt/gen/assets\n",
            "WARNING:absl:Found untraced functions such as conv_bn__act_19_layer_call_fn, conv_bn__act_19_layer_call_and_return_conditional_losses, conv2d_20_layer_call_fn, conv2d_20_layer_call_and_return_conditional_losses, conv2d_14_layer_call_fn while saving (showing 5 of 95). These functions will not be directly callable after loading.\n",
            "WARNING:absl:Found untraced functions such as conv_bn__act_19_layer_call_fn, conv_bn__act_19_layer_call_and_return_conditional_losses, conv2d_20_layer_call_fn, conv2d_20_layer_call_and_return_conditional_losses, conv2d_14_layer_call_fn while saving (showing 5 of 95). These functions will not be directly callable after loading.\n"
          ],
          "name": "stderr"
        },
        {
          "output_type": "stream",
          "text": [
            "INFO:tensorflow:Assets written to: ckpt/disc/assets\n"
          ],
          "name": "stdout"
        },
        {
          "output_type": "stream",
          "text": [
            "INFO:tensorflow:Assets written to: ckpt/disc/assets\n",
            "INFO:absl:*** \t Testing:   roc_auc: 0.4516   average_precision: 0.8388 ***\n"
          ],
          "name": "stderr"
        },
        {
          "output_type": "display_data",
          "data": {
            "application/vnd.jupyter.widget-view+json": {
              "model_id": "2845b2e0ac4f4cdcbbefe3bcfc6148d0",
              "version_minor": 0,
              "version_major": 2
            },
            "text/plain": [
              "HBox(children=(FloatProgress(value=0.0, max=9.0), HTML(value='')))"
            ]
          },
          "metadata": {
            "tags": []
          }
        },
        {
          "output_type": "stream",
          "text": [
            "INFO:absl:re-init D, cost: 0.1604 secs\n",
            "INFO:absl:epoch: 1, G_losses: 43.9997, D_losses: 4.5587, samples/sec: 22.2326\n"
          ],
          "name": "stderr"
        },
        {
          "output_type": "stream",
          "text": [
            "\r"
          ],
          "name": "stdout"
        },
        {
          "output_type": "stream",
          "text": [
            "INFO:absl:\t Testing:   roc_auc: 0.4274   average_precision: 0.8543\n"
          ],
          "name": "stderr"
        },
        {
          "output_type": "display_data",
          "data": {
            "application/vnd.jupyter.widget-view+json": {
              "model_id": "554dbadb91f043d0bdf987ff10457dc2",
              "version_minor": 0,
              "version_major": 2
            },
            "text/plain": [
              "HBox(children=(FloatProgress(value=0.0, max=9.0), HTML(value='')))"
            ]
          },
          "metadata": {
            "tags": []
          }
        },
        {
          "output_type": "stream",
          "text": [
            "INFO:absl:epoch: 2, G_losses: 45.9068, D_losses: 2.9970, samples/sec: 23.6769\n"
          ],
          "name": "stderr"
        },
        {
          "output_type": "stream",
          "text": [
            "\r"
          ],
          "name": "stdout"
        },
        {
          "output_type": "stream",
          "text": [
            "INFO:absl:\t Testing:   roc_auc: 0.4065   average_precision: 0.8237\n"
          ],
          "name": "stderr"
        },
        {
          "output_type": "display_data",
          "data": {
            "application/vnd.jupyter.widget-view+json": {
              "model_id": "2c373b2b720b4c0aa4b6304a576a865b",
              "version_minor": 0,
              "version_major": 2
            },
            "text/plain": [
              "HBox(children=(FloatProgress(value=0.0, max=9.0), HTML(value='')))"
            ]
          },
          "metadata": {
            "tags": []
          }
        },
        {
          "output_type": "stream",
          "text": [
            "INFO:absl:epoch: 3, G_losses: 49.0568, D_losses: 2.2239, samples/sec: 22.7806\n"
          ],
          "name": "stderr"
        },
        {
          "output_type": "stream",
          "text": [
            "\r"
          ],
          "name": "stdout"
        },
        {
          "output_type": "stream",
          "text": [
            "WARNING:absl:Found untraced functions such as conv_bn__act_layer_call_fn, conv_bn__act_layer_call_and_return_conditional_losses, conv2d_6_layer_call_fn, conv2d_6_layer_call_and_return_conditional_losses, conv_bn__act_6_layer_call_fn while saving (showing 5 of 260). These functions will not be directly callable after loading.\n",
            "WARNING:absl:Found untraced functions such as conv_bn__act_layer_call_fn, conv_bn__act_layer_call_and_return_conditional_losses, conv2d_6_layer_call_fn, conv2d_6_layer_call_and_return_conditional_losses, conv_bn__act_6_layer_call_fn while saving (showing 5 of 260). These functions will not be directly callable after loading.\n"
          ],
          "name": "stderr"
        },
        {
          "output_type": "stream",
          "text": [
            "INFO:tensorflow:Assets written to: ckpt/gen/assets\n"
          ],
          "name": "stdout"
        },
        {
          "output_type": "stream",
          "text": [
            "INFO:tensorflow:Assets written to: ckpt/gen/assets\n",
            "WARNING:absl:Found untraced functions such as conv_bn__act_19_layer_call_fn, conv_bn__act_19_layer_call_and_return_conditional_losses, conv2d_20_layer_call_fn, conv2d_20_layer_call_and_return_conditional_losses, conv2d_14_layer_call_fn while saving (showing 5 of 95). These functions will not be directly callable after loading.\n",
            "WARNING:absl:Found untraced functions such as conv_bn__act_19_layer_call_fn, conv_bn__act_19_layer_call_and_return_conditional_losses, conv2d_20_layer_call_fn, conv2d_20_layer_call_and_return_conditional_losses, conv2d_14_layer_call_fn while saving (showing 5 of 95). These functions will not be directly callable after loading.\n"
          ],
          "name": "stderr"
        },
        {
          "output_type": "stream",
          "text": [
            "INFO:tensorflow:Assets written to: ckpt/disc/assets\n"
          ],
          "name": "stdout"
        },
        {
          "output_type": "stream",
          "text": [
            "INFO:tensorflow:Assets written to: ckpt/disc/assets\n",
            "INFO:absl:*** \t Testing:   roc_auc: 0.6419   average_precision: 0.9220 ***\n"
          ],
          "name": "stderr"
        },
        {
          "output_type": "display_data",
          "data": {
            "application/vnd.jupyter.widget-view+json": {
              "model_id": "4969373de0f14c11a0c3b032ce8f1da8",
              "version_minor": 0,
              "version_major": 2
            },
            "text/plain": [
              "HBox(children=(FloatProgress(value=0.0, max=9.0), HTML(value='')))"
            ]
          },
          "metadata": {
            "tags": []
          }
        },
        {
          "output_type": "stream",
          "text": [
            "INFO:absl:epoch: 4, G_losses: 62.3372, D_losses: 4.2614, samples/sec: 23.3595\n"
          ],
          "name": "stderr"
        },
        {
          "output_type": "stream",
          "text": [
            "\r"
          ],
          "name": "stdout"
        },
        {
          "output_type": "stream",
          "text": [
            "WARNING:absl:Found untraced functions such as conv_bn__act_layer_call_fn, conv_bn__act_layer_call_and_return_conditional_losses, conv2d_6_layer_call_fn, conv2d_6_layer_call_and_return_conditional_losses, conv_bn__act_6_layer_call_fn while saving (showing 5 of 260). These functions will not be directly callable after loading.\n",
            "WARNING:absl:Found untraced functions such as conv_bn__act_layer_call_fn, conv_bn__act_layer_call_and_return_conditional_losses, conv2d_6_layer_call_fn, conv2d_6_layer_call_and_return_conditional_losses, conv_bn__act_6_layer_call_fn while saving (showing 5 of 260). These functions will not be directly callable after loading.\n"
          ],
          "name": "stderr"
        },
        {
          "output_type": "stream",
          "text": [
            "INFO:tensorflow:Assets written to: ckpt/gen/assets\n"
          ],
          "name": "stdout"
        },
        {
          "output_type": "stream",
          "text": [
            "INFO:tensorflow:Assets written to: ckpt/gen/assets\n",
            "WARNING:absl:Found untraced functions such as conv_bn__act_19_layer_call_fn, conv_bn__act_19_layer_call_and_return_conditional_losses, conv2d_20_layer_call_fn, conv2d_20_layer_call_and_return_conditional_losses, conv2d_14_layer_call_fn while saving (showing 5 of 95). These functions will not be directly callable after loading.\n",
            "WARNING:absl:Found untraced functions such as conv_bn__act_19_layer_call_fn, conv_bn__act_19_layer_call_and_return_conditional_losses, conv2d_20_layer_call_fn, conv2d_20_layer_call_and_return_conditional_losses, conv2d_14_layer_call_fn while saving (showing 5 of 95). These functions will not be directly callable after loading.\n"
          ],
          "name": "stderr"
        },
        {
          "output_type": "stream",
          "text": [
            "INFO:tensorflow:Assets written to: ckpt/disc/assets\n"
          ],
          "name": "stdout"
        },
        {
          "output_type": "stream",
          "text": [
            "INFO:tensorflow:Assets written to: ckpt/disc/assets\n",
            "INFO:absl:*** \t Testing:   roc_auc: 0.7855   average_precision: 0.9618 ***\n"
          ],
          "name": "stderr"
        },
        {
          "output_type": "display_data",
          "data": {
            "application/vnd.jupyter.widget-view+json": {
              "model_id": "a213f783c17148068da4d7f70fd45ce1",
              "version_minor": 0,
              "version_major": 2
            },
            "text/plain": [
              "HBox(children=(FloatProgress(value=0.0, max=9.0), HTML(value='')))"
            ]
          },
          "metadata": {
            "tags": []
          }
        },
        {
          "output_type": "stream",
          "text": [
            "INFO:absl:epoch: 5, G_losses: 431.0058, D_losses: 7.4944, samples/sec: 23.1881\n"
          ],
          "name": "stderr"
        },
        {
          "output_type": "stream",
          "text": [
            "\r"
          ],
          "name": "stdout"
        },
        {
          "output_type": "stream",
          "text": [
            "INFO:absl:\t Testing:   roc_auc: 0.5806   average_precision: 0.8915\n"
          ],
          "name": "stderr"
        },
        {
          "output_type": "display_data",
          "data": {
            "application/vnd.jupyter.widget-view+json": {
              "model_id": "42e218b6909c4d3991c216e35e944d7a",
              "version_minor": 0,
              "version_major": 2
            },
            "text/plain": [
              "HBox(children=(FloatProgress(value=0.0, max=9.0), HTML(value='')))"
            ]
          },
          "metadata": {
            "tags": []
          }
        },
        {
          "output_type": "stream",
          "text": [
            "INFO:absl:epoch: 6, G_losses: 91.6417, D_losses: 7.4919, samples/sec: 23.2683\n"
          ],
          "name": "stderr"
        },
        {
          "output_type": "stream",
          "text": [
            "\r"
          ],
          "name": "stdout"
        },
        {
          "output_type": "stream",
          "text": [
            "WARNING:absl:Found untraced functions such as conv_bn__act_layer_call_fn, conv_bn__act_layer_call_and_return_conditional_losses, conv2d_6_layer_call_fn, conv2d_6_layer_call_and_return_conditional_losses, conv_bn__act_6_layer_call_fn while saving (showing 5 of 260). These functions will not be directly callable after loading.\n",
            "WARNING:absl:Found untraced functions such as conv_bn__act_layer_call_fn, conv_bn__act_layer_call_and_return_conditional_losses, conv2d_6_layer_call_fn, conv2d_6_layer_call_and_return_conditional_losses, conv_bn__act_6_layer_call_fn while saving (showing 5 of 260). These functions will not be directly callable after loading.\n"
          ],
          "name": "stderr"
        },
        {
          "output_type": "stream",
          "text": [
            "INFO:tensorflow:Assets written to: ckpt/gen/assets\n"
          ],
          "name": "stdout"
        },
        {
          "output_type": "stream",
          "text": [
            "INFO:tensorflow:Assets written to: ckpt/gen/assets\n",
            "WARNING:absl:Found untraced functions such as conv_bn__act_19_layer_call_fn, conv_bn__act_19_layer_call_and_return_conditional_losses, conv2d_20_layer_call_fn, conv2d_20_layer_call_and_return_conditional_losses, conv2d_14_layer_call_fn while saving (showing 5 of 95). These functions will not be directly callable after loading.\n",
            "WARNING:absl:Found untraced functions such as conv_bn__act_19_layer_call_fn, conv_bn__act_19_layer_call_and_return_conditional_losses, conv2d_20_layer_call_fn, conv2d_20_layer_call_and_return_conditional_losses, conv2d_14_layer_call_fn while saving (showing 5 of 95). These functions will not be directly callable after loading.\n"
          ],
          "name": "stderr"
        },
        {
          "output_type": "stream",
          "text": [
            "INFO:tensorflow:Assets written to: ckpt/disc/assets\n"
          ],
          "name": "stdout"
        },
        {
          "output_type": "stream",
          "text": [
            "INFO:tensorflow:Assets written to: ckpt/disc/assets\n",
            "INFO:absl:*** \t Testing:   roc_auc: 0.7984   average_precision: 0.9643 ***\n"
          ],
          "name": "stderr"
        },
        {
          "output_type": "display_data",
          "data": {
            "application/vnd.jupyter.widget-view+json": {
              "model_id": "c997738d464548a8919a76fd4d846c62",
              "version_minor": 0,
              "version_major": 2
            },
            "text/plain": [
              "HBox(children=(FloatProgress(value=0.0, max=9.0), HTML(value='')))"
            ]
          },
          "metadata": {
            "tags": []
          }
        },
        {
          "output_type": "stream",
          "text": [
            "INFO:absl:epoch: 7, G_losses: 53.4888, D_losses: 7.3934, samples/sec: 23.2663\n"
          ],
          "name": "stderr"
        },
        {
          "output_type": "stream",
          "text": [
            "\r"
          ],
          "name": "stdout"
        },
        {
          "output_type": "stream",
          "text": [
            "INFO:absl:\t Testing:   roc_auc: 0.6919   average_precision: 0.9454\n"
          ],
          "name": "stderr"
        },
        {
          "output_type": "display_data",
          "data": {
            "application/vnd.jupyter.widget-view+json": {
              "model_id": "49eabdfa423f4709880103e9b6429206",
              "version_minor": 0,
              "version_major": 2
            },
            "text/plain": [
              "HBox(children=(FloatProgress(value=0.0, max=9.0), HTML(value='')))"
            ]
          },
          "metadata": {
            "tags": []
          }
        },
        {
          "output_type": "stream",
          "text": [
            "INFO:absl:epoch: 8, G_losses: 41.7483, D_losses: 7.7125, samples/sec: 23.9974\n"
          ],
          "name": "stderr"
        },
        {
          "output_type": "stream",
          "text": [
            "\r"
          ],
          "name": "stdout"
        },
        {
          "output_type": "stream",
          "text": [
            "INFO:absl:\t Testing:   roc_auc: 0.6113   average_precision: 0.9297\n"
          ],
          "name": "stderr"
        },
        {
          "output_type": "display_data",
          "data": {
            "application/vnd.jupyter.widget-view+json": {
              "model_id": "5ad819705fed435c9168320f50822aee",
              "version_minor": 0,
              "version_major": 2
            },
            "text/plain": [
              "HBox(children=(FloatProgress(value=0.0, max=9.0), HTML(value='')))"
            ]
          },
          "metadata": {
            "tags": []
          }
        },
        {
          "output_type": "stream",
          "text": [
            "INFO:absl:epoch: 9, G_losses: 40.3276, D_losses: 7.7125, samples/sec: 23.3792\n"
          ],
          "name": "stderr"
        },
        {
          "output_type": "stream",
          "text": [
            "\r"
          ],
          "name": "stdout"
        },
        {
          "output_type": "stream",
          "text": [
            "INFO:absl:\t Testing:   roc_auc: 0.6065   average_precision: 0.9283\n"
          ],
          "name": "stderr"
        },
        {
          "output_type": "display_data",
          "data": {
            "application/vnd.jupyter.widget-view+json": {
              "model_id": "52549c1855d74a7a8a3eaa9c86f2c59c",
              "version_minor": 0,
              "version_major": 2
            },
            "text/plain": [
              "HBox(children=(FloatProgress(value=0.0, max=9.0), HTML(value='')))"
            ]
          },
          "metadata": {
            "tags": []
          }
        },
        {
          "output_type": "stream",
          "text": [
            "INFO:absl:epoch: 10, G_losses: 40.3073, D_losses: 7.7125, samples/sec: 23.3947\n"
          ],
          "name": "stderr"
        },
        {
          "output_type": "stream",
          "text": [
            "\r"
          ],
          "name": "stdout"
        },
        {
          "output_type": "stream",
          "text": [
            "INFO:absl:\t Testing:   roc_auc: 0.4532   average_precision: 0.8817\n"
          ],
          "name": "stderr"
        },
        {
          "output_type": "display_data",
          "data": {
            "application/vnd.jupyter.widget-view+json": {
              "model_id": "1c2e35f9a888485391e791c9bb11de15",
              "version_minor": 0,
              "version_major": 2
            },
            "text/plain": [
              "HBox(children=(FloatProgress(value=0.0, max=9.0), HTML(value='')))"
            ]
          },
          "metadata": {
            "tags": []
          }
        },
        {
          "output_type": "stream",
          "text": [
            "INFO:absl:epoch: 11, G_losses: 39.2420, D_losses: 7.7125, samples/sec: 23.8608\n"
          ],
          "name": "stderr"
        },
        {
          "output_type": "stream",
          "text": [
            "\r"
          ],
          "name": "stdout"
        },
        {
          "output_type": "stream",
          "text": [
            "INFO:absl:\t Testing:   roc_auc: 0.6290   average_precision: 0.9333\n"
          ],
          "name": "stderr"
        },
        {
          "output_type": "display_data",
          "data": {
            "application/vnd.jupyter.widget-view+json": {
              "model_id": "e55294692a2e4bc7970e5e3b3f135e2b",
              "version_minor": 0,
              "version_major": 2
            },
            "text/plain": [
              "HBox(children=(FloatProgress(value=0.0, max=9.0), HTML(value='')))"
            ]
          },
          "metadata": {
            "tags": []
          }
        },
        {
          "output_type": "stream",
          "text": [
            "INFO:absl:epoch: 12, G_losses: 38.8654, D_losses: 7.7125, samples/sec: 24.2006\n"
          ],
          "name": "stderr"
        },
        {
          "output_type": "stream",
          "text": [
            "\r"
          ],
          "name": "stdout"
        },
        {
          "output_type": "stream",
          "text": [
            "INFO:absl:\t Testing:   roc_auc: 0.6726   average_precision: 0.9450\n"
          ],
          "name": "stderr"
        },
        {
          "output_type": "display_data",
          "data": {
            "application/vnd.jupyter.widget-view+json": {
              "model_id": "954872921ea34e819870b463c840401d",
              "version_minor": 0,
              "version_major": 2
            },
            "text/plain": [
              "HBox(children=(FloatProgress(value=0.0, max=9.0), HTML(value='')))"
            ]
          },
          "metadata": {
            "tags": []
          }
        },
        {
          "output_type": "stream",
          "text": [
            "INFO:absl:epoch: 13, G_losses: 38.0311, D_losses: 7.7125, samples/sec: 24.3700\n"
          ],
          "name": "stderr"
        },
        {
          "output_type": "stream",
          "text": [
            "\r"
          ],
          "name": "stdout"
        },
        {
          "output_type": "stream",
          "text": [
            "INFO:absl:\t Testing:   roc_auc: 0.4645   average_precision: 0.8842\n"
          ],
          "name": "stderr"
        },
        {
          "output_type": "display_data",
          "data": {
            "application/vnd.jupyter.widget-view+json": {
              "model_id": "db21838bfe6a4c9bbdae5214ba92bca4",
              "version_minor": 0,
              "version_major": 2
            },
            "text/plain": [
              "HBox(children=(FloatProgress(value=0.0, max=9.0), HTML(value='')))"
            ]
          },
          "metadata": {
            "tags": []
          }
        },
        {
          "output_type": "stream",
          "text": [
            "INFO:absl:epoch: 14, G_losses: 35.8743, D_losses: 7.7125, samples/sec: 24.1145\n"
          ],
          "name": "stderr"
        },
        {
          "output_type": "stream",
          "text": [
            "\r"
          ],
          "name": "stdout"
        },
        {
          "output_type": "stream",
          "text": [
            "INFO:absl:\t Testing:   roc_auc: 0.7048   average_precision: 0.9500\n"
          ],
          "name": "stderr"
        }
      ]
    },
    {
      "cell_type": "code",
      "metadata": {
        "colab": {
          "base_uri": "https://localhost:8080/",
          "height": 573
        },
        "id": "z4XxkWJ_aY76",
        "outputId": "41abcd8d-12f6-4c02-b9da-290daf97b5ee"
      },
      "source": [
        "ganomaly.evaluate_best(test_dataset)"
      ],
      "execution_count": 22,
      "outputs": [
        {
          "output_type": "display_data",
          "data": {
            "image/png": "[encoded data removed]",
            "text/plain": [
              "<Figure size 432x288 with 1 Axes>"
            ]
          },
          "metadata": {
            "tags": [],
            "needs_background": "light"
          }
        },
        {
          "output_type": "display_data",
          "data": {
            "image/png": "[encoded data removed]",
            "text/plain": [
              "<Figure size 432x288 with 1 Axes>"
            ]
          },
          "metadata": {
            "tags": [],
            "needs_background": "light"
          }
        }
      ]
    },
    {
      "cell_type": "markdown",
      "metadata": {
        "id": "1Ro69IoL8WZ1"
      },
      "source": [
        "# Test"
      ]
    },
    {
      "cell_type": "code",
      "metadata": {
        "id": "YxMvpRiJ68g4"
      },
      "source": [
        "from PIL import Image as im"
      ],
      "execution_count": 39,
      "outputs": []
    },
    {
      "cell_type": "code",
      "metadata": {
        "colab": {
          "base_uri": "https://localhost:8080/"
        },
        "id": "C1SWmsELTj_1",
        "outputId": "6070e794-afb5-4281-c331-3fedf01d1198"
      },
      "source": [
        "# Load the last saved model\n",
        "D = tf.keras.models.load_model('ckpt/disc')"
      ],
      "execution_count": 26,
      "outputs": [
        {
          "output_type": "stream",
          "text": [
            "WARNING:tensorflow:No training configuration found in save file, so the model was *not* compiled. Compile it manually.\n"
          ],
          "name": "stdout"
        },
        {
          "output_type": "stream",
          "text": [
            "WARNING:tensorflow:No training configuration found in save file, so the model was *not* compiled. Compile it manually.\n"
          ],
          "name": "stderr"
        }
      ]
    },
    {
      "cell_type": "code",
      "metadata": {
        "id": "eyIpm02o47tA"
      },
      "source": [
        "test_x = np.concatenate([x for x, y in test_dataset], axis=0)\n",
        "test_y = np.concatenate([y for x, y in test_dataset], axis=0)"
      ],
      "execution_count": 42,
      "outputs": []
    },
    {
      "cell_type": "code",
      "metadata": {
        "id": "juXeS5L_5QDb",
        "outputId": "ed73084e-b6ce-4abe-9123-6b440381209d",
        "colab": {
          "base_uri": "https://localhost:8080/",
          "height": 286
        }
      },
      "source": [
        "%pylab inline\n",
        "import matplotlib.pyplot as plt\n",
        "import matplotlib.image as mpimg\n",
        "img = np.reshape(test_x[19],(256,256)) # 3, 12, 18\n",
        "plt.imshow(img)\n",
        "plt.show()"
      ],
      "execution_count": 60,
      "outputs": [
        {
          "output_type": "stream",
          "text": [
            "Populating the interactive namespace from numpy and matplotlib\n"
          ],
          "name": "stdout"
        },
        {
          "output_type": "display_data",
          "data": {
            "image/png": "[encoded data removed]",
            "text/plain": [
              "<Figure size 432x288 with 1 Axes>"
            ]
          },
          "metadata": {
            "tags": [],
            "needs_background": "light"
          }
        }
      ]
    },
    {
      "cell_type": "code",
      "metadata": {
        "id": "4ozyPT5T4-PF",
        "outputId": "3608e338-d614-43a3-95af-a84ba70b8524",
        "colab": {
          "base_uri": "https://localhost:8080/"
        }
      },
      "source": [
        "test_y"
      ],
      "execution_count": 44,
      "outputs": [
        {
          "output_type": "execute_result",
          "data": {
            "text/plain": [
              "array([1., 1., 1., 0., 1., 1., 1., 1., 1., 0., 1., 1., 0., 1., 1., 1., 1.,\n",
              "       1., 0., 1., 1., 1., 0., 1., 1., 1., 1., 1., 1., 1., 1., 1., 1., 1.,\n",
              "       1., 1., 1., 1., 1., 1., 1., 1., 1., 1., 1., 1., 1., 1., 1., 1., 1.,\n",
              "       1., 1., 1., 0., 1., 1., 1., 0., 1., 1., 1., 1., 0., 1., 1., 1., 1.,\n",
              "       1., 0., 1., 0.], dtype=float32)"
            ]
          },
          "metadata": {
            "tags": []
          },
          "execution_count": 44
        }
      ]
    },
    {
      "cell_type": "code",
      "metadata": {
        "colab": {
          "base_uri": "https://localhost:8080/"
        },
        "id": "12K_QS3QW0z0",
        "outputId": "eeaa7b39-6474-4196-e4b1-d478d07efed7"
      },
      "source": [
        "D.predict(test_dataset)"
      ],
      "execution_count": 29,
      "outputs": [
        {
          "output_type": "execute_result",
          "data": {
            "text/plain": [
              "(array([[[[1.]]],\n",
              " \n",
              " \n",
              "        [[[1.]]],\n",
              " \n",
              " \n",
              "        [[[1.]]],\n",
              " \n",
              " \n",
              "        [[[1.]]],\n",
              " \n",
              " \n",
              "        [[[1.]]],\n",
              " \n",
              " \n",
              "        [[[1.]]],\n",
              " \n",
              " \n",
              "        [[[1.]]],\n",
              " \n",
              " \n",
              "        [[[1.]]],\n",
              " \n",
              " \n",
              "        [[[1.]]],\n",
              " \n",
              " \n",
              "        [[[1.]]],\n",
              " \n",
              " \n",
              "        [[[1.]]],\n",
              " \n",
              " \n",
              "        [[[1.]]],\n",
              " \n",
              " \n",
              "        [[[1.]]],\n",
              " \n",
              " \n",
              "        [[[1.]]],\n",
              " \n",
              " \n",
              "        [[[1.]]],\n",
              " \n",
              " \n",
              "        [[[1.]]],\n",
              " \n",
              " \n",
              "        [[[1.]]],\n",
              " \n",
              " \n",
              "        [[[1.]]],\n",
              " \n",
              " \n",
              "        [[[1.]]],\n",
              " \n",
              " \n",
              "        [[[1.]]],\n",
              " \n",
              " \n",
              "        [[[1.]]],\n",
              " \n",
              " \n",
              "        [[[1.]]],\n",
              " \n",
              " \n",
              "        [[[1.]]],\n",
              " \n",
              " \n",
              "        [[[1.]]],\n",
              " \n",
              " \n",
              "        [[[1.]]],\n",
              " \n",
              " \n",
              "        [[[1.]]],\n",
              " \n",
              " \n",
              "        [[[1.]]],\n",
              " \n",
              " \n",
              "        [[[1.]]],\n",
              " \n",
              " \n",
              "        [[[1.]]],\n",
              " \n",
              " \n",
              "        [[[1.]]],\n",
              " \n",
              " \n",
              "        [[[1.]]],\n",
              " \n",
              " \n",
              "        [[[1.]]],\n",
              " \n",
              " \n",
              "        [[[1.]]],\n",
              " \n",
              " \n",
              "        [[[1.]]],\n",
              " \n",
              " \n",
              "        [[[1.]]],\n",
              " \n",
              " \n",
              "        [[[1.]]],\n",
              " \n",
              " \n",
              "        [[[1.]]],\n",
              " \n",
              " \n",
              "        [[[1.]]],\n",
              " \n",
              " \n",
              "        [[[1.]]],\n",
              " \n",
              " \n",
              "        [[[1.]]],\n",
              " \n",
              " \n",
              "        [[[1.]]],\n",
              " \n",
              " \n",
              "        [[[1.]]],\n",
              " \n",
              " \n",
              "        [[[1.]]],\n",
              " \n",
              " \n",
              "        [[[1.]]],\n",
              " \n",
              " \n",
              "        [[[1.]]],\n",
              " \n",
              " \n",
              "        [[[1.]]],\n",
              " \n",
              " \n",
              "        [[[1.]]],\n",
              " \n",
              " \n",
              "        [[[1.]]],\n",
              " \n",
              " \n",
              "        [[[1.]]],\n",
              " \n",
              " \n",
              "        [[[1.]]],\n",
              " \n",
              " \n",
              "        [[[1.]]],\n",
              " \n",
              " \n",
              "        [[[1.]]],\n",
              " \n",
              " \n",
              "        [[[1.]]],\n",
              " \n",
              " \n",
              "        [[[1.]]],\n",
              " \n",
              " \n",
              "        [[[1.]]],\n",
              " \n",
              " \n",
              "        [[[1.]]],\n",
              " \n",
              " \n",
              "        [[[1.]]],\n",
              " \n",
              " \n",
              "        [[[1.]]],\n",
              " \n",
              " \n",
              "        [[[1.]]],\n",
              " \n",
              " \n",
              "        [[[1.]]],\n",
              " \n",
              " \n",
              "        [[[1.]]],\n",
              " \n",
              " \n",
              "        [[[1.]]],\n",
              " \n",
              " \n",
              "        [[[1.]]],\n",
              " \n",
              " \n",
              "        [[[1.]]],\n",
              " \n",
              " \n",
              "        [[[1.]]],\n",
              " \n",
              " \n",
              "        [[[1.]]],\n",
              " \n",
              " \n",
              "        [[[1.]]],\n",
              " \n",
              " \n",
              "        [[[1.]]],\n",
              " \n",
              " \n",
              "        [[[1.]]],\n",
              " \n",
              " \n",
              "        [[[1.]]],\n",
              " \n",
              " \n",
              "        [[[1.]]],\n",
              " \n",
              " \n",
              "        [[[1.]]]], dtype=float32),\n",
              " array([[[[ 12.365113  ,  -6.133941  ,   1.6681195 , ...,  -4.960068  ,\n",
              "            28.880085  ,  -3.3376663 ],\n",
              "          [ 14.427412  ,  -5.2890162 ,  10.409549  , ...,  -4.910389  ,\n",
              "            14.3048935 ,  -4.088596  ],\n",
              "          [ 14.0741825 ,  -5.468845  ,   4.5947375 , ...,  -4.7461276 ,\n",
              "            18.341572  ,  -3.3570664 ],\n",
              "          [ 10.29192   ,  -4.7374425 ,   6.8819118 , ...,  -4.062408  ,\n",
              "            19.020565  ,  -3.410612  ]],\n",
              " \n",
              "         [[ 15.1566515 ,  -5.039951  ,  -1.1518248 , ...,  -4.8375235 ,\n",
              "            22.75176   ,  -3.3044994 ],\n",
              "          [ 19.759037  ,  -6.8431754 ,   5.2631335 , ...,  -6.8530397 ,\n",
              "            20.55943   ,  -5.395023  ],\n",
              "          [ 18.887821  ,  -6.499288  ,   4.0309925 , ...,  -6.555595  ,\n",
              "            19.322495  ,  -5.4641433 ],\n",
              "          [ 15.234974  ,  -3.8588161 ,  -0.16526382, ...,  -4.102448  ,\n",
              "            16.540104  ,  -3.2352116 ]],\n",
              " \n",
              "         [[  7.378995  ,  -3.4956262 ,  -0.2958095 , ...,  -3.1400933 ,\n",
              "            15.241742  ,  -2.193438  ],\n",
              "          [ 18.672375  ,  -6.3771896 ,  -0.22810224, ...,  -5.7685623 ,\n",
              "            21.498287  ,  -4.3890634 ],\n",
              "          [ 18.107222  ,  -5.1599917 ,   7.520283  , ...,  -5.888791  ,\n",
              "            15.820648  ,  -4.9391026 ],\n",
              "          [  7.7182035 ,  -3.3508298 ,   3.096627  , ...,  -3.150805  ,\n",
              "            11.54798   ,  -2.7362947 ]],\n",
              " \n",
              "         [[  9.594046  ,  -3.0551639 ,  -0.41092584, ...,  -2.6975508 ,\n",
              "            15.619841  ,  -1.8026026 ],\n",
              "          [ 12.713776  ,  -3.3877816 ,   0.6023435 , ...,  -3.3423574 ,\n",
              "             9.693298  ,  -2.6236305 ],\n",
              "          [ 15.079471  ,  -3.9071805 ,  -0.09975945, ...,  -3.9047093 ,\n",
              "            14.727128  ,  -2.76786   ],\n",
              "          [ 12.21541   ,  -3.3542116 ,   2.0148523 , ...,  -3.2379692 ,\n",
              "            13.905693  ,  -2.604868  ]]],\n",
              " \n",
              " \n",
              "        [[[ 13.100259  ,  -7.25515   ,   2.5785246 , ...,  -5.833831  ,\n",
              "            34.158302  ,  -4.050893  ],\n",
              "          [ 15.253736  ,  -4.7428155 ,  11.666938  , ...,  -4.633267  ,\n",
              "            11.1452675 ,  -4.0880733 ],\n",
              "          [ 14.383503  ,  -5.5480394 ,   3.3930428 , ...,  -4.720377  ,\n",
              "            19.265526  ,  -3.146079  ],\n",
              "          [ 11.502992  ,  -5.7859583 ,   8.307974  , ...,  -4.8867574 ,\n",
              "            23.736864  ,  -4.1095405 ]],\n",
              " \n",
              "         [[ 18.452845  ,  -6.1576414 ,  -1.3548082 , ...,  -5.901124  ,\n",
              "            30.147768  ,  -4.0930514 ],\n",
              "          [ 16.566212  ,  -3.3101337 ,   6.950151  , ...,  -4.4033856 ,\n",
              "             6.3688273 ,  -4.140922  ],\n",
              "          [ 13.762975  ,  -4.6102443 ,  -0.35992202, ...,  -4.5330324 ,\n",
              "            13.866217  ,  -3.46588   ],\n",
              "          [ 17.780054  ,  -5.032335  ,  -0.4536572 , ...,  -5.037689  ,\n",
              "            22.556524  ,  -3.8663845 ]],\n",
              " \n",
              "         [[  9.403504  ,  -6.098255  ,   0.7798943 , ...,  -5.3900766 ,\n",
              "            26.324512  ,  -3.8825653 ],\n",
              "          [ 10.827268  ,  -3.8967998 ,   7.5760818 , ...,  -3.9767644 ,\n",
              "             8.5274    ,  -3.683028  ],\n",
              "          [  9.107894  ,  -4.7115884 ,   2.9201314 , ...,  -4.251783  ,\n",
              "            13.259751  ,  -3.1651976 ],\n",
              "          [  9.965846  ,  -5.331863  ,   2.3957803 , ...,  -4.6032653 ,\n",
              "            21.212025  ,  -3.764433  ]],\n",
              " \n",
              "         [[ 21.795124  ,  -6.623802  ,  -1.0423878 , ...,  -5.74145   ,\n",
              "            33.795933  ,  -3.6528325 ],\n",
              "          [ 18.876469  ,  -4.5900187 ,   9.040721  , ...,  -5.0330443 ,\n",
              "            11.267155  ,  -4.3962274 ],\n",
              "          [ 18.628662  ,  -5.6974397 ,  -0.2579236 , ...,  -5.013372  ,\n",
              "            20.156744  ,  -3.483239  ],\n",
              "          [ 19.217104  ,  -5.1747785 ,   2.361348  , ...,  -5.0708704 ,\n",
              "            21.980598  ,  -3.9793484 ]]],\n",
              " \n",
              " \n",
              "        [[[ 18.082376  ,  -9.87516   ,   2.545112  , ...,  -7.828412  ,\n",
              "            44.76551   ,  -5.276527  ],\n",
              "          [ 25.513336  ,  -8.019256  ,  14.36136   , ...,  -7.491119  ,\n",
              "            23.927977  ,  -6.2124915 ],\n",
              "          [ 22.882263  ,  -8.396159  ,   7.562006  , ...,  -7.311555  ,\n",
              "            28.595774  ,  -5.1060486 ],\n",
              "          [ 15.022289  ,  -7.3092647 ,  12.353623  , ...,  -6.3799033 ,\n",
              "            27.869265  ,  -5.4807854 ]],\n",
              " \n",
              "         [[ 24.911535  ,  -8.574722  ,  -1.8659945 , ...,  -8.01038   ,\n",
              "            40.264393  ,  -5.619049  ],\n",
              "          [ 25.534733  ,  -5.5908523 ,   8.541743  , ...,  -7.1143837 ,\n",
              "            11.829323  ,  -6.399284  ],\n",
              "          [ 21.980013  ,  -6.5650682 ,  -0.6632466 , ...,  -6.767795  ,\n",
              "            20.463303  ,  -5.2637634 ],\n",
              "          [ 23.266499  ,  -6.058091  ,  -0.34104657, ...,  -6.4126368 ,\n",
              "            27.730387  ,  -4.957343  ]],\n",
              " \n",
              "         [[ 11.43731   ,  -5.40698   ,  -0.4178432 , ...,  -5.032438  ,\n",
              "            26.199453  ,  -3.5959508 ],\n",
              "          [ 13.491224  ,  -3.4970078 ,   5.58988   , ...,  -3.8058758 ,\n",
              "             7.79654   ,  -3.5029314 ],\n",
              "          [ 10.271763  ,  -3.9704742 ,   2.9626539 , ...,  -3.9963071 ,\n",
              "            10.975921  ,  -3.0767646 ],\n",
              "          [ 10.056843  ,  -5.1033254 ,   0.10946093, ...,  -4.370704  ,\n",
              "            21.494158  ,  -3.4342334 ]],\n",
              " \n",
              "         [[ 15.900129  ,  -4.6181865 ,  -0.6561809 , ...,  -4.202879  ,\n",
              "            25.664503  ,  -2.7328315 ],\n",
              "          [ 11.301416  ,  -2.5114315 ,   6.5619516 , ...,  -2.9317677 ,\n",
              "             3.1482058 ,  -2.7620006 ],\n",
              "          [ 12.60123   ,  -3.818272  ,  -0.4751919 , ...,  -3.355358  ,\n",
              "            14.075386  ,  -2.1666217 ],\n",
              "          [ 16.07557   ,  -4.683279  ,  -0.09741361, ...,  -4.250373  ,\n",
              "            21.38023   ,  -3.1678395 ]]],\n",
              " \n",
              " \n",
              "        ...,\n",
              " \n",
              " \n",
              "        [[[  9.856695  ,  -4.71745   ,   1.7113757 , ...,  -3.8835628 ,\n",
              "            23.931019  ,  -2.704128  ],\n",
              "          [ 10.189824  ,  -2.7405937 ,   7.4753203 , ...,  -2.7465289 ,\n",
              "             5.7103853 ,  -2.4623082 ],\n",
              "          [ 14.945208  ,  -5.3483152 ,   1.0636903 , ...,  -4.4395843 ,\n",
              "            19.987505  ,  -2.6823516 ],\n",
              "          [ 12.782615  ,  -6.1528354 ,   9.026878  , ...,  -5.2497034 ,\n",
              "            25.73729   ,  -4.3737082 ]],\n",
              " \n",
              "         [[ 10.737649  ,  -2.8847609 ,  -0.99214995, ...,  -3.0075235 ,\n",
              "            15.504417  ,  -2.0394151 ],\n",
              "          [  7.3687215 ,  -1.112756  ,   3.3061922 , ...,  -1.8661221 ,\n",
              "             0.858082  ,  -1.8867372 ],\n",
              "          [ 10.034931  ,  -3.3288784 ,  -0.91744226, ...,  -3.204324  ,\n",
              "             9.781844  ,  -2.4149356 ],\n",
              "          [ 17.619715  ,  -4.1245613 ,  -0.99070805, ...,  -4.386922  ,\n",
              "            20.081758  ,  -3.1871023 ]],\n",
              " \n",
              "         [[  2.6552362 ,  -3.481345  ,   1.8608966 , ...,  -3.0024848 ,\n",
              "            14.395333  ,  -2.2626734 ],\n",
              "          [  4.536523  ,  -1.9076847 ,   4.4859295 , ...,  -1.8575572 ,\n",
              "             3.7828374 ,  -1.794553  ],\n",
              "          [  3.0544927 ,  -2.3845236 ,   2.2067406 , ...,  -2.1181333 ,\n",
              "             5.642081  ,  -1.6097339 ],\n",
              "          [  4.424576  ,  -3.2848136 ,   0.5681848 , ...,  -2.6974766 ,\n",
              "            13.349568  ,  -2.1451583 ]],\n",
              " \n",
              "         [[ 15.640182  ,  -4.9435134 ,  -0.48158064, ...,  -4.2409096 ,\n",
              "            26.362576  ,  -2.7224715 ],\n",
              "          [ 12.591722  ,  -3.1208553 ,   7.2322726 , ...,  -3.3269804 ,\n",
              "             6.2215576 ,  -2.9469597 ],\n",
              "          [ 12.062065  ,  -3.7921243 ,  -0.09700906, ...,  -3.2359974 ,\n",
              "            13.823423  ,  -2.1194465 ],\n",
              "          [ 13.105252  ,  -3.9831548 ,   1.7302425 , ...,  -3.5816746 ,\n",
              "            17.418371  ,  -2.77605   ]]],\n",
              " \n",
              " \n",
              "        [[[ 22.119968  , -13.836573  ,   5.1273947 , ..., -10.940939  ,\n",
              "            57.15371   ,  -7.3095    ],\n",
              "          [ 36.297962  , -13.37016   ,  19.420773  , ..., -12.136862  ,\n",
              "            41.55328   ,  -9.722671  ],\n",
              "          [ 33.031002  , -15.777904  ,  15.540525  , ..., -13.349568  ,\n",
              "            52.743423  ,  -9.585392  ],\n",
              "          [ 24.318707  , -11.654537  ,  21.72923   , ..., -10.436278  ,\n",
              "            38.557335  ,  -9.350808  ]],\n",
              " \n",
              "         [[ 41.19837   , -18.043636  ,  -1.9270302 , ..., -15.518908  ,\n",
              "            75.53154   , -10.814204  ],\n",
              "          [ 52.539417  , -13.278533  ,  17.1776    , ..., -15.194275  ,\n",
              "            34.62739   , -13.289469  ],\n",
              "          [ 53.209785  , -19.187956  ,  -0.8314172 , ..., -17.714655  ,\n",
              "            65.04124   , -12.766026  ],\n",
              "          [ 48.922504  , -14.7007475 ,  16.687944  , ..., -15.704984  ,\n",
              "            54.835766  , -13.50654   ]],\n",
              " \n",
              "         [[ 36.52361   , -16.651777  ,  -1.3596122 , ..., -14.354723  ,\n",
              "            70.781395  ,  -9.986299  ],\n",
              "          [ 40.72304   , -10.79066   ,  22.058466  , ..., -12.472014  ,\n",
              "            24.075926  , -11.392349  ],\n",
              "          [ 41.09827   , -17.684305  ,  -0.6038048 , ..., -15.47013   ,\n",
              "            58.191048  , -10.956424  ],\n",
              "          [ 45.969273  , -14.50398   ,  13.439144  , ..., -15.005088  ,\n",
              "            56.571255  , -12.670582  ]],\n",
              " \n",
              "         [[ 38.57411   , -11.415141  ,  -2.775069  , ..., -10.091443  ,\n",
              "            54.63662   ,  -6.5252914 ],\n",
              "          [ 36.31159   ,  -7.7224307 ,  15.058575  , ...,  -9.481006  ,\n",
              "            19.620834  ,  -8.3175955 ],\n",
              "          [ 40.70215   , -12.926227  ,  -1.8639367 , ..., -11.318234  ,\n",
              "            47.607975  ,  -7.9876223 ],\n",
              "          [ 42.968266  ,  -9.21465   ,   7.3545976 , ..., -10.748897  ,\n",
              "            36.557953  ,  -8.8168955 ]]],\n",
              " \n",
              " \n",
              "        [[[  8.947314  ,  -4.2687516 ,   1.4196154 , ...,  -3.4830596 ,\n",
              "            20.978577  ,  -2.3911908 ],\n",
              "          [  9.181596  ,  -2.7027571 ,   7.0548816 , ...,  -2.664618  ,\n",
              "             6.1901383 ,  -2.3731706 ],\n",
              "          [  6.058062  ,  -2.1730943 ,   2.3229475 , ...,  -1.9424595 ,\n",
              "             6.9998736 ,  -1.3620476 ],\n",
              "          [  4.22837   ,  -2.1987488 ,   2.7818902 , ...,  -1.8201786 ,\n",
              "             9.110204  ,  -1.5134144 ]],\n",
              " \n",
              "         [[  9.889172  ,  -2.7897725 ,  -0.9305734 , ...,  -2.7987976 ,\n",
              "            14.100863  ,  -1.8898814 ],\n",
              "          [  8.015205  ,  -1.3934005 ,   2.9421246 , ...,  -2.074611  ,\n",
              "             2.5694025 ,  -1.9650801 ],\n",
              "          [  5.6812434 ,  -1.8296973 ,  -0.09877802, ...,  -1.8948101 ,\n",
              "             5.280616  ,  -1.4537463 ],\n",
              "          [  6.6769767 ,  -2.1720665 ,  -0.1887718 , ...,  -2.1215436 ,\n",
              "             9.641929  ,  -1.6087267 ]],\n",
              " \n",
              "         [[  2.6796222 ,  -2.4129634 ,   0.48430943, ...,  -2.100344  ,\n",
              "            10.078787  ,  -1.5669068 ],\n",
              "          [  4.2115746 ,  -1.5856322 ,   3.0374181 , ...,  -1.6105918 ,\n",
              "             3.3610787 ,  -1.4599569 ],\n",
              "          [  4.504129  ,  -2.8884268 ,   1.9167063 , ...,  -2.5354922 ,\n",
              "             8.006126  ,  -1.8195772 ],\n",
              "          [  5.092674  ,  -3.5937912 ,   2.4311874 , ...,  -2.9842198 ,\n",
              "            14.490388  ,  -2.4636738 ]],\n",
              " \n",
              "         [[  9.890785  ,  -3.165753  ,  -0.3091095 , ...,  -2.7317228 ,\n",
              "            16.866516  ,  -1.7601557 ],\n",
              "          [  9.113007  ,  -2.33371   ,   3.9645379 , ...,  -2.3947566 ,\n",
              "             5.3076086 ,  -2.0317376 ],\n",
              "          [ 12.537724  ,  -3.9919338 ,  -0.3573039 , ...,  -3.407763  ,\n",
              "            14.933982  ,  -2.2446985 ],\n",
              "          [ 14.579689  ,  -4.1007123 ,   1.2686174 , ...,  -3.8735535 ,\n",
              "            17.805246  ,  -3.013209  ]]]], dtype=float32))"
            ]
          },
          "metadata": {
            "tags": []
          },
          "execution_count": 29
        }
      ]
    }
  ]
}