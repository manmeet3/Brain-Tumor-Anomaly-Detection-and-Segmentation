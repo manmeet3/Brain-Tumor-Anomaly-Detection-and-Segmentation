{
  "nbformat": 4,
  "nbformat_minor": 0,
  "metadata": {
    "accelerator": "GPU",
    "colab": {
      "name": "5-ganomaly_tf2.ipynb",
      "provenance": [],
      "collapsed_sections": [],
      "include_colab_link": true
    },
    "kernelspec": {
      "display_name": "Python 3",
      "language": "python",
      "name": "python3"
    },
    "language_info": {
      "codemirror_mode": {
        "name": "ipython",
        "version": 3
      },
      "file_extension": ".py",
      "mimetype": "text/x-python",
      "name": "python",
      "nbconvert_exporter": "python",
      "pygments_lexer": "ipython3",
      "version": "3.7.1"
    },
    "widgets": {
      "application/vnd.jupyter.widget-state+json": {
        "c20a17b9875640dbb3a42769535b9636": {
          "model_module": "@jupyter-widgets/controls",
          "model_name": "HBoxModel",
          "state": {
            "_view_name": "HBoxView",
            "_dom_classes": [],
            "_model_name": "HBoxModel",
            "_view_module": "@jupyter-widgets/controls",
            "_model_module_version": "1.5.0",
            "_view_count": null,
            "_view_module_version": "1.5.0",
            "box_style": "",
            "layout": "IPY_MODEL_a00e8e480aa0456d9ac7ea0fadaa3423",
            "_model_module": "@jupyter-widgets/controls",
            "children": [
              "IPY_MODEL_01b388fbf78b46b2a75ed28f9ba2c68e",
              "IPY_MODEL_680ad62b9df447b582c8cb57b85e4049"
            ]
          }
        },
        "a00e8e480aa0456d9ac7ea0fadaa3423": {
          "model_module": "@jupyter-widgets/base",
          "model_name": "LayoutModel",
          "state": {
            "_view_name": "LayoutView",
            "grid_template_rows": null,
            "right": null,
            "justify_content": null,
            "_view_module": "@jupyter-widgets/base",
            "overflow": null,
            "_model_module_version": "1.2.0",
            "_view_count": null,
            "flex_flow": null,
            "width": null,
            "min_width": null,
            "border": null,
            "align_items": null,
            "bottom": null,
            "_model_module": "@jupyter-widgets/base",
            "top": null,
            "grid_column": null,
            "overflow_y": null,
            "overflow_x": null,
            "grid_auto_flow": null,
            "grid_area": null,
            "grid_template_columns": null,
            "flex": null,
            "_model_name": "LayoutModel",
            "justify_items": null,
            "grid_row": null,
            "max_height": null,
            "align_content": null,
            "visibility": null,
            "align_self": null,
            "height": null,
            "min_height": null,
            "padding": null,
            "grid_auto_rows": null,
            "grid_gap": null,
            "max_width": null,
            "order": null,
            "_view_module_version": "1.2.0",
            "grid_template_areas": null,
            "object_position": null,
            "object_fit": null,
            "grid_auto_columns": null,
            "margin": null,
            "display": null,
            "left": null
          }
        },
        "01b388fbf78b46b2a75ed28f9ba2c68e": {
          "model_module": "@jupyter-widgets/controls",
          "model_name": "FloatProgressModel",
          "state": {
            "_view_name": "ProgressView",
            "style": "IPY_MODEL_0b72d32adbd14ccda53ba898e5bae0ab",
            "_dom_classes": [],
            "description": "100%",
            "_model_name": "FloatProgressModel",
            "bar_style": "",
            "max": 857,
            "_view_module": "@jupyter-widgets/controls",
            "_model_module_version": "1.5.0",
            "value": 857,
            "_view_count": null,
            "_view_module_version": "1.5.0",
            "orientation": "horizontal",
            "min": 0,
            "description_tooltip": null,
            "_model_module": "@jupyter-widgets/controls",
            "layout": "IPY_MODEL_d6d0d8dfcd564791be287cfcff23f4e2"
          }
        },
        "680ad62b9df447b582c8cb57b85e4049": {
          "model_module": "@jupyter-widgets/controls",
          "model_name": "HTMLModel",
          "state": {
            "_view_name": "HTMLView",
            "style": "IPY_MODEL_950b2e8e348842efbb82f17682f00443",
            "_dom_classes": [],
            "description": "",
            "_model_name": "HTMLModel",
            "placeholder": "​",
            "_view_module": "@jupyter-widgets/controls",
            "_model_module_version": "1.5.0",
            "value": " 857/857 [04:09&lt;00:00,  3.41it/s]",
            "_view_count": null,
            "_view_module_version": "1.5.0",
            "description_tooltip": null,
            "_model_module": "@jupyter-widgets/controls",
            "layout": "IPY_MODEL_dfd5c88f9810427c9b8c5077b65e0f47"
          }
        },
        "0b72d32adbd14ccda53ba898e5bae0ab": {
          "model_module": "@jupyter-widgets/controls",
          "model_name": "ProgressStyleModel",
          "state": {
            "_view_name": "StyleView",
            "_model_name": "ProgressStyleModel",
            "description_width": "initial",
            "_view_module": "@jupyter-widgets/base",
            "_model_module_version": "1.5.0",
            "_view_count": null,
            "_view_module_version": "1.2.0",
            "bar_color": null,
            "_model_module": "@jupyter-widgets/controls"
          }
        },
        "d6d0d8dfcd564791be287cfcff23f4e2": {
          "model_module": "@jupyter-widgets/base",
          "model_name": "LayoutModel",
          "state": {
            "_view_name": "LayoutView",
            "grid_template_rows": null,
            "right": null,
            "justify_content": null,
            "_view_module": "@jupyter-widgets/base",
            "overflow": null,
            "_model_module_version": "1.2.0",
            "_view_count": null,
            "flex_flow": null,
            "width": null,
            "min_width": null,
            "border": null,
            "align_items": null,
            "bottom": null,
            "_model_module": "@jupyter-widgets/base",
            "top": null,
            "grid_column": null,
            "overflow_y": null,
            "overflow_x": null,
            "grid_auto_flow": null,
            "grid_area": null,
            "grid_template_columns": null,
            "flex": null,
            "_model_name": "LayoutModel",
            "justify_items": null,
            "grid_row": null,
            "max_height": null,
            "align_content": null,
            "visibility": null,
            "align_self": null,
            "height": null,
            "min_height": null,
            "padding": null,
            "grid_auto_rows": null,
            "grid_gap": null,
            "max_width": null,
            "order": null,
            "_view_module_version": "1.2.0",
            "grid_template_areas": null,
            "object_position": null,
            "object_fit": null,
            "grid_auto_columns": null,
            "margin": null,
            "display": null,
            "left": null
          }
        },
        "950b2e8e348842efbb82f17682f00443": {
          "model_module": "@jupyter-widgets/controls",
          "model_name": "DescriptionStyleModel",
          "state": {
            "_view_name": "StyleView",
            "_model_name": "DescriptionStyleModel",
            "description_width": "",
            "_view_module": "@jupyter-widgets/base",
            "_model_module_version": "1.5.0",
            "_view_count": null,
            "_view_module_version": "1.2.0",
            "_model_module": "@jupyter-widgets/controls"
          }
        },
        "dfd5c88f9810427c9b8c5077b65e0f47": {
          "model_module": "@jupyter-widgets/base",
          "model_name": "LayoutModel",
          "state": {
            "_view_name": "LayoutView",
            "grid_template_rows": null,
            "right": null,
            "justify_content": null,
            "_view_module": "@jupyter-widgets/base",
            "overflow": null,
            "_model_module_version": "1.2.0",
            "_view_count": null,
            "flex_flow": null,
            "width": null,
            "min_width": null,
            "border": null,
            "align_items": null,
            "bottom": null,
            "_model_module": "@jupyter-widgets/base",
            "top": null,
            "grid_column": null,
            "overflow_y": null,
            "overflow_x": null,
            "grid_auto_flow": null,
            "grid_area": null,
            "grid_template_columns": null,
            "flex": null,
            "_model_name": "LayoutModel",
            "justify_items": null,
            "grid_row": null,
            "max_height": null,
            "align_content": null,
            "visibility": null,
            "align_self": null,
            "height": null,
            "min_height": null,
            "padding": null,
            "grid_auto_rows": null,
            "grid_gap": null,
            "max_width": null,
            "order": null,
            "_view_module_version": "1.2.0",
            "grid_template_areas": null,
            "object_position": null,
            "object_fit": null,
            "grid_auto_columns": null,
            "margin": null,
            "display": null,
            "left": null
          }
        },
        "49b89c072ef541d791eb5c312ad8cacc": {
          "model_module": "@jupyter-widgets/controls",
          "model_name": "HBoxModel",
          "state": {
            "_view_name": "HBoxView",
            "_dom_classes": [],
            "_model_name": "HBoxModel",
            "_view_module": "@jupyter-widgets/controls",
            "_model_module_version": "1.5.0",
            "_view_count": null,
            "_view_module_version": "1.5.0",
            "box_style": "",
            "layout": "IPY_MODEL_deeb7fab292e40d4b36c217b342ae103",
            "_model_module": "@jupyter-widgets/controls",
            "children": [
              "IPY_MODEL_fb17ff00946b463b917dbcab01baa147",
              "IPY_MODEL_d1939b80cbef460cbde49a6e011182a0"
            ]
          }
        },
        "deeb7fab292e40d4b36c217b342ae103": {
          "model_module": "@jupyter-widgets/base",
          "model_name": "LayoutModel",
          "state": {
            "_view_name": "LayoutView",
            "grid_template_rows": null,
            "right": null,
            "justify_content": null,
            "_view_module": "@jupyter-widgets/base",
            "overflow": null,
            "_model_module_version": "1.2.0",
            "_view_count": null,
            "flex_flow": null,
            "width": null,
            "min_width": null,
            "border": null,
            "align_items": null,
            "bottom": null,
            "_model_module": "@jupyter-widgets/base",
            "top": null,
            "grid_column": null,
            "overflow_y": null,
            "overflow_x": null,
            "grid_auto_flow": null,
            "grid_area": null,
            "grid_template_columns": null,
            "flex": null,
            "_model_name": "LayoutModel",
            "justify_items": null,
            "grid_row": null,
            "max_height": null,
            "align_content": null,
            "visibility": null,
            "align_self": null,
            "height": null,
            "min_height": null,
            "padding": null,
            "grid_auto_rows": null,
            "grid_gap": null,
            "max_width": null,
            "order": null,
            "_view_module_version": "1.2.0",
            "grid_template_areas": null,
            "object_position": null,
            "object_fit": null,
            "grid_auto_columns": null,
            "margin": null,
            "display": null,
            "left": null
          }
        },
        "fb17ff00946b463b917dbcab01baa147": {
          "model_module": "@jupyter-widgets/controls",
          "model_name": "FloatProgressModel",
          "state": {
            "_view_name": "ProgressView",
            "style": "IPY_MODEL_6e808567482f4c2d8b13e07e9fb3fa25",
            "_dom_classes": [],
            "description": "100%",
            "_model_name": "FloatProgressModel",
            "bar_style": "",
            "max": 857,
            "_view_module": "@jupyter-widgets/controls",
            "_model_module_version": "1.5.0",
            "value": 857,
            "_view_count": null,
            "_view_module_version": "1.5.0",
            "orientation": "horizontal",
            "min": 0,
            "description_tooltip": null,
            "_model_module": "@jupyter-widgets/controls",
            "layout": "IPY_MODEL_14bf71beb0cf4bab866d78fbed0ca3d4"
          }
        },
        "d1939b80cbef460cbde49a6e011182a0": {
          "model_module": "@jupyter-widgets/controls",
          "model_name": "HTMLModel",
          "state": {
            "_view_name": "HTMLView",
            "style": "IPY_MODEL_80f626af96af4142be1ecd76b236a8c1",
            "_dom_classes": [],
            "description": "",
            "_model_name": "HTMLModel",
            "placeholder": "​",
            "_view_module": "@jupyter-widgets/controls",
            "_model_module_version": "1.5.0",
            "value": " 857/857 [04:10&lt;00:00,  3.30it/s]",
            "_view_count": null,
            "_view_module_version": "1.5.0",
            "description_tooltip": null,
            "_model_module": "@jupyter-widgets/controls",
            "layout": "IPY_MODEL_b7f6f037d8e043839de71f59c64e70ed"
          }
        },
        "6e808567482f4c2d8b13e07e9fb3fa25": {
          "model_module": "@jupyter-widgets/controls",
          "model_name": "ProgressStyleModel",
          "state": {
            "_view_name": "StyleView",
            "_model_name": "ProgressStyleModel",
            "description_width": "initial",
            "_view_module": "@jupyter-widgets/base",
            "_model_module_version": "1.5.0",
            "_view_count": null,
            "_view_module_version": "1.2.0",
            "bar_color": null,
            "_model_module": "@jupyter-widgets/controls"
          }
        },
        "14bf71beb0cf4bab866d78fbed0ca3d4": {
          "model_module": "@jupyter-widgets/base",
          "model_name": "LayoutModel",
          "state": {
            "_view_name": "LayoutView",
            "grid_template_rows": null,
            "right": null,
            "justify_content": null,
            "_view_module": "@jupyter-widgets/base",
            "overflow": null,
            "_model_module_version": "1.2.0",
            "_view_count": null,
            "flex_flow": null,
            "width": null,
            "min_width": null,
            "border": null,
            "align_items": null,
            "bottom": null,
            "_model_module": "@jupyter-widgets/base",
            "top": null,
            "grid_column": null,
            "overflow_y": null,
            "overflow_x": null,
            "grid_auto_flow": null,
            "grid_area": null,
            "grid_template_columns": null,
            "flex": null,
            "_model_name": "LayoutModel",
            "justify_items": null,
            "grid_row": null,
            "max_height": null,
            "align_content": null,
            "visibility": null,
            "align_self": null,
            "height": null,
            "min_height": null,
            "padding": null,
            "grid_auto_rows": null,
            "grid_gap": null,
            "max_width": null,
            "order": null,
            "_view_module_version": "1.2.0",
            "grid_template_areas": null,
            "object_position": null,
            "object_fit": null,
            "grid_auto_columns": null,
            "margin": null,
            "display": null,
            "left": null
          }
        },
        "80f626af96af4142be1ecd76b236a8c1": {
          "model_module": "@jupyter-widgets/controls",
          "model_name": "DescriptionStyleModel",
          "state": {
            "_view_name": "StyleView",
            "_model_name": "DescriptionStyleModel",
            "description_width": "",
            "_view_module": "@jupyter-widgets/base",
            "_model_module_version": "1.5.0",
            "_view_count": null,
            "_view_module_version": "1.2.0",
            "_model_module": "@jupyter-widgets/controls"
          }
        },
        "b7f6f037d8e043839de71f59c64e70ed": {
          "model_module": "@jupyter-widgets/base",
          "model_name": "LayoutModel",
          "state": {
            "_view_name": "LayoutView",
            "grid_template_rows": null,
            "right": null,
            "justify_content": null,
            "_view_module": "@jupyter-widgets/base",
            "overflow": null,
            "_model_module_version": "1.2.0",
            "_view_count": null,
            "flex_flow": null,
            "width": null,
            "min_width": null,
            "border": null,
            "align_items": null,
            "bottom": null,
            "_model_module": "@jupyter-widgets/base",
            "top": null,
            "grid_column": null,
            "overflow_y": null,
            "overflow_x": null,
            "grid_auto_flow": null,
            "grid_area": null,
            "grid_template_columns": null,
            "flex": null,
            "_model_name": "LayoutModel",
            "justify_items": null,
            "grid_row": null,
            "max_height": null,
            "align_content": null,
            "visibility": null,
            "align_self": null,
            "height": null,
            "min_height": null,
            "padding": null,
            "grid_auto_rows": null,
            "grid_gap": null,
            "max_width": null,
            "order": null,
            "_view_module_version": "1.2.0",
            "grid_template_areas": null,
            "object_position": null,
            "object_fit": null,
            "grid_auto_columns": null,
            "margin": null,
            "display": null,
            "left": null
          }
        },
        "f162e483d79d41d19d00f2e84d3f22c2": {
          "model_module": "@jupyter-widgets/controls",
          "model_name": "HBoxModel",
          "state": {
            "_view_name": "HBoxView",
            "_dom_classes": [],
            "_model_name": "HBoxModel",
            "_view_module": "@jupyter-widgets/controls",
            "_model_module_version": "1.5.0",
            "_view_count": null,
            "_view_module_version": "1.5.0",
            "box_style": "",
            "layout": "IPY_MODEL_713455faac9245ea903cadbced676a02",
            "_model_module": "@jupyter-widgets/controls",
            "children": [
              "IPY_MODEL_3b0efe23b138416aab85a888053cb939",
              "IPY_MODEL_b3b00577cf7346b586fbabc3237f76d2"
            ]
          }
        },
        "713455faac9245ea903cadbced676a02": {
          "model_module": "@jupyter-widgets/base",
          "model_name": "LayoutModel",
          "state": {
            "_view_name": "LayoutView",
            "grid_template_rows": null,
            "right": null,
            "justify_content": null,
            "_view_module": "@jupyter-widgets/base",
            "overflow": null,
            "_model_module_version": "1.2.0",
            "_view_count": null,
            "flex_flow": null,
            "width": null,
            "min_width": null,
            "border": null,
            "align_items": null,
            "bottom": null,
            "_model_module": "@jupyter-widgets/base",
            "top": null,
            "grid_column": null,
            "overflow_y": null,
            "overflow_x": null,
            "grid_auto_flow": null,
            "grid_area": null,
            "grid_template_columns": null,
            "flex": null,
            "_model_name": "LayoutModel",
            "justify_items": null,
            "grid_row": null,
            "max_height": null,
            "align_content": null,
            "visibility": null,
            "align_self": null,
            "height": null,
            "min_height": null,
            "padding": null,
            "grid_auto_rows": null,
            "grid_gap": null,
            "max_width": null,
            "order": null,
            "_view_module_version": "1.2.0",
            "grid_template_areas": null,
            "object_position": null,
            "object_fit": null,
            "grid_auto_columns": null,
            "margin": null,
            "display": null,
            "left": null
          }
        },
        "3b0efe23b138416aab85a888053cb939": {
          "model_module": "@jupyter-widgets/controls",
          "model_name": "FloatProgressModel",
          "state": {
            "_view_name": "ProgressView",
            "style": "IPY_MODEL_1f4c8d39ab8748e79c2bc43d996c9880",
            "_dom_classes": [],
            "description": "100%",
            "_model_name": "FloatProgressModel",
            "bar_style": "",
            "max": 857,
            "_view_module": "@jupyter-widgets/controls",
            "_model_module_version": "1.5.0",
            "value": 857,
            "_view_count": null,
            "_view_module_version": "1.5.0",
            "orientation": "horizontal",
            "min": 0,
            "description_tooltip": null,
            "_model_module": "@jupyter-widgets/controls",
            "layout": "IPY_MODEL_1eedd790d36e4dfba6d956bb35f38c3e"
          }
        },
        "b3b00577cf7346b586fbabc3237f76d2": {
          "model_module": "@jupyter-widgets/controls",
          "model_name": "HTMLModel",
          "state": {
            "_view_name": "HTMLView",
            "style": "IPY_MODEL_0db4e0893df34405b7d76f4185e0b8c1",
            "_dom_classes": [],
            "description": "",
            "_model_name": "HTMLModel",
            "placeholder": "​",
            "_view_module": "@jupyter-widgets/controls",
            "_model_module_version": "1.5.0",
            "value": " 857/857 [04:09&lt;00:00,  3.33it/s]",
            "_view_count": null,
            "_view_module_version": "1.5.0",
            "description_tooltip": null,
            "_model_module": "@jupyter-widgets/controls",
            "layout": "IPY_MODEL_01673d6c3aff48a889f843ab108a018b"
          }
        },
        "1f4c8d39ab8748e79c2bc43d996c9880": {
          "model_module": "@jupyter-widgets/controls",
          "model_name": "ProgressStyleModel",
          "state": {
            "_view_name": "StyleView",
            "_model_name": "ProgressStyleModel",
            "description_width": "initial",
            "_view_module": "@jupyter-widgets/base",
            "_model_module_version": "1.5.0",
            "_view_count": null,
            "_view_module_version": "1.2.0",
            "bar_color": null,
            "_model_module": "@jupyter-widgets/controls"
          }
        },
        "1eedd790d36e4dfba6d956bb35f38c3e": {
          "model_module": "@jupyter-widgets/base",
          "model_name": "LayoutModel",
          "state": {
            "_view_name": "LayoutView",
            "grid_template_rows": null,
            "right": null,
            "justify_content": null,
            "_view_module": "@jupyter-widgets/base",
            "overflow": null,
            "_model_module_version": "1.2.0",
            "_view_count": null,
            "flex_flow": null,
            "width": null,
            "min_width": null,
            "border": null,
            "align_items": null,
            "bottom": null,
            "_model_module": "@jupyter-widgets/base",
            "top": null,
            "grid_column": null,
            "overflow_y": null,
            "overflow_x": null,
            "grid_auto_flow": null,
            "grid_area": null,
            "grid_template_columns": null,
            "flex": null,
            "_model_name": "LayoutModel",
            "justify_items": null,
            "grid_row": null,
            "max_height": null,
            "align_content": null,
            "visibility": null,
            "align_self": null,
            "height": null,
            "min_height": null,
            "padding": null,
            "grid_auto_rows": null,
            "grid_gap": null,
            "max_width": null,
            "order": null,
            "_view_module_version": "1.2.0",
            "grid_template_areas": null,
            "object_position": null,
            "object_fit": null,
            "grid_auto_columns": null,
            "margin": null,
            "display": null,
            "left": null
          }
        },
        "0db4e0893df34405b7d76f4185e0b8c1": {
          "model_module": "@jupyter-widgets/controls",
          "model_name": "DescriptionStyleModel",
          "state": {
            "_view_name": "StyleView",
            "_model_name": "DescriptionStyleModel",
            "description_width": "",
            "_view_module": "@jupyter-widgets/base",
            "_model_module_version": "1.5.0",
            "_view_count": null,
            "_view_module_version": "1.2.0",
            "_model_module": "@jupyter-widgets/controls"
          }
        },
        "01673d6c3aff48a889f843ab108a018b": {
          "model_module": "@jupyter-widgets/base",
          "model_name": "LayoutModel",
          "state": {
            "_view_name": "LayoutView",
            "grid_template_rows": null,
            "right": null,
            "justify_content": null,
            "_view_module": "@jupyter-widgets/base",
            "overflow": null,
            "_model_module_version": "1.2.0",
            "_view_count": null,
            "flex_flow": null,
            "width": null,
            "min_width": null,
            "border": null,
            "align_items": null,
            "bottom": null,
            "_model_module": "@jupyter-widgets/base",
            "top": null,
            "grid_column": null,
            "overflow_y": null,
            "overflow_x": null,
            "grid_auto_flow": null,
            "grid_area": null,
            "grid_template_columns": null,
            "flex": null,
            "_model_name": "LayoutModel",
            "justify_items": null,
            "grid_row": null,
            "max_height": null,
            "align_content": null,
            "visibility": null,
            "align_self": null,
            "height": null,
            "min_height": null,
            "padding": null,
            "grid_auto_rows": null,
            "grid_gap": null,
            "max_width": null,
            "order": null,
            "_view_module_version": "1.2.0",
            "grid_template_areas": null,
            "object_position": null,
            "object_fit": null,
            "grid_auto_columns": null,
            "margin": null,
            "display": null,
            "left": null
          }
        },
        "11f58153854f467a8153a5e5df05e20a": {
          "model_module": "@jupyter-widgets/controls",
          "model_name": "HBoxModel",
          "state": {
            "_view_name": "HBoxView",
            "_dom_classes": [],
            "_model_name": "HBoxModel",
            "_view_module": "@jupyter-widgets/controls",
            "_model_module_version": "1.5.0",
            "_view_count": null,
            "_view_module_version": "1.5.0",
            "box_style": "",
            "layout": "IPY_MODEL_9268f6f0f31546f2b889f8cdf0351bf4",
            "_model_module": "@jupyter-widgets/controls",
            "children": [
              "IPY_MODEL_b59008209c814f1e96d59d5be6deeceb",
              "IPY_MODEL_7109c39e719f42ef8ba7a8bb5db47adc"
            ]
          }
        },
        "9268f6f0f31546f2b889f8cdf0351bf4": {
          "model_module": "@jupyter-widgets/base",
          "model_name": "LayoutModel",
          "state": {
            "_view_name": "LayoutView",
            "grid_template_rows": null,
            "right": null,
            "justify_content": null,
            "_view_module": "@jupyter-widgets/base",
            "overflow": null,
            "_model_module_version": "1.2.0",
            "_view_count": null,
            "flex_flow": null,
            "width": null,
            "min_width": null,
            "border": null,
            "align_items": null,
            "bottom": null,
            "_model_module": "@jupyter-widgets/base",
            "top": null,
            "grid_column": null,
            "overflow_y": null,
            "overflow_x": null,
            "grid_auto_flow": null,
            "grid_area": null,
            "grid_template_columns": null,
            "flex": null,
            "_model_name": "LayoutModel",
            "justify_items": null,
            "grid_row": null,
            "max_height": null,
            "align_content": null,
            "visibility": null,
            "align_self": null,
            "height": null,
            "min_height": null,
            "padding": null,
            "grid_auto_rows": null,
            "grid_gap": null,
            "max_width": null,
            "order": null,
            "_view_module_version": "1.2.0",
            "grid_template_areas": null,
            "object_position": null,
            "object_fit": null,
            "grid_auto_columns": null,
            "margin": null,
            "display": null,
            "left": null
          }
        },
        "b59008209c814f1e96d59d5be6deeceb": {
          "model_module": "@jupyter-widgets/controls",
          "model_name": "FloatProgressModel",
          "state": {
            "_view_name": "ProgressView",
            "style": "IPY_MODEL_6eba294e6bcc4a50bd20eb005f0f6bba",
            "_dom_classes": [],
            "description": "100%",
            "_model_name": "FloatProgressModel",
            "bar_style": "",
            "max": 857,
            "_view_module": "@jupyter-widgets/controls",
            "_model_module_version": "1.5.0",
            "value": 857,
            "_view_count": null,
            "_view_module_version": "1.5.0",
            "orientation": "horizontal",
            "min": 0,
            "description_tooltip": null,
            "_model_module": "@jupyter-widgets/controls",
            "layout": "IPY_MODEL_f1b189d749274221b68dbc1c2aa59b06"
          }
        },
        "7109c39e719f42ef8ba7a8bb5db47adc": {
          "model_module": "@jupyter-widgets/controls",
          "model_name": "HTMLModel",
          "state": {
            "_view_name": "HTMLView",
            "style": "IPY_MODEL_19ee78e5e64e444d96bacc1f311834bf",
            "_dom_classes": [],
            "description": "",
            "_model_name": "HTMLModel",
            "placeholder": "​",
            "_view_module": "@jupyter-widgets/controls",
            "_model_module_version": "1.5.0",
            "value": " 857/857 [04:09&lt;00:00,  3.36it/s]",
            "_view_count": null,
            "_view_module_version": "1.5.0",
            "description_tooltip": null,
            "_model_module": "@jupyter-widgets/controls",
            "layout": "IPY_MODEL_ed324332ff104c2cbe17aee44d9de2a3"
          }
        },
        "6eba294e6bcc4a50bd20eb005f0f6bba": {
          "model_module": "@jupyter-widgets/controls",
          "model_name": "ProgressStyleModel",
          "state": {
            "_view_name": "StyleView",
            "_model_name": "ProgressStyleModel",
            "description_width": "initial",
            "_view_module": "@jupyter-widgets/base",
            "_model_module_version": "1.5.0",
            "_view_count": null,
            "_view_module_version": "1.2.0",
            "bar_color": null,
            "_model_module": "@jupyter-widgets/controls"
          }
        },
        "f1b189d749274221b68dbc1c2aa59b06": {
          "model_module": "@jupyter-widgets/base",
          "model_name": "LayoutModel",
          "state": {
            "_view_name": "LayoutView",
            "grid_template_rows": null,
            "right": null,
            "justify_content": null,
            "_view_module": "@jupyter-widgets/base",
            "overflow": null,
            "_model_module_version": "1.2.0",
            "_view_count": null,
            "flex_flow": null,
            "width": null,
            "min_width": null,
            "border": null,
            "align_items": null,
            "bottom": null,
            "_model_module": "@jupyter-widgets/base",
            "top": null,
            "grid_column": null,
            "overflow_y": null,
            "overflow_x": null,
            "grid_auto_flow": null,
            "grid_area": null,
            "grid_template_columns": null,
            "flex": null,
            "_model_name": "LayoutModel",
            "justify_items": null,
            "grid_row": null,
            "max_height": null,
            "align_content": null,
            "visibility": null,
            "align_self": null,
            "height": null,
            "min_height": null,
            "padding": null,
            "grid_auto_rows": null,
            "grid_gap": null,
            "max_width": null,
            "order": null,
            "_view_module_version": "1.2.0",
            "grid_template_areas": null,
            "object_position": null,
            "object_fit": null,
            "grid_auto_columns": null,
            "margin": null,
            "display": null,
            "left": null
          }
        },
        "19ee78e5e64e444d96bacc1f311834bf": {
          "model_module": "@jupyter-widgets/controls",
          "model_name": "DescriptionStyleModel",
          "state": {
            "_view_name": "StyleView",
            "_model_name": "DescriptionStyleModel",
            "description_width": "",
            "_view_module": "@jupyter-widgets/base",
            "_model_module_version": "1.5.0",
            "_view_count": null,
            "_view_module_version": "1.2.0",
            "_model_module": "@jupyter-widgets/controls"
          }
        },
        "ed324332ff104c2cbe17aee44d9de2a3": {
          "model_module": "@jupyter-widgets/base",
          "model_name": "LayoutModel",
          "state": {
            "_view_name": "LayoutView",
            "grid_template_rows": null,
            "right": null,
            "justify_content": null,
            "_view_module": "@jupyter-widgets/base",
            "overflow": null,
            "_model_module_version": "1.2.0",
            "_view_count": null,
            "flex_flow": null,
            "width": null,
            "min_width": null,
            "border": null,
            "align_items": null,
            "bottom": null,
            "_model_module": "@jupyter-widgets/base",
            "top": null,
            "grid_column": null,
            "overflow_y": null,
            "overflow_x": null,
            "grid_auto_flow": null,
            "grid_area": null,
            "grid_template_columns": null,
            "flex": null,
            "_model_name": "LayoutModel",
            "justify_items": null,
            "grid_row": null,
            "max_height": null,
            "align_content": null,
            "visibility": null,
            "align_self": null,
            "height": null,
            "min_height": null,
            "padding": null,
            "grid_auto_rows": null,
            "grid_gap": null,
            "max_width": null,
            "order": null,
            "_view_module_version": "1.2.0",
            "grid_template_areas": null,
            "object_position": null,
            "object_fit": null,
            "grid_auto_columns": null,
            "margin": null,
            "display": null,
            "left": null
          }
        }
      }
    }
  },
  "cells": [
    {
      "cell_type": "markdown",
      "metadata": {
        "id": "view-in-github",
        "colab_type": "text"
      },
      "source": [
        "<a href=\"https://colab.research.google.com/github/manmeet3/Masters_Project/blob/master/wip_colabs/tumor_anomaly/ganomaly-kaggle-2.ipynb\" target=\"_parent\"><img src=\"https://colab.research.google.com/assets/colab-badge.svg\" alt=\"Open In Colab\"/></a>"
      ]
    },
    {
      "cell_type": "code",
      "metadata": {
        "id": "KXkoVEkWronw"
      },
      "source": [
        "# https://www.groundai.com/project/ganomaly-semi-supervised-anomaly-detection-via-adversarial-training/1"
      ],
      "execution_count": null,
      "outputs": []
    },
    {
      "cell_type": "markdown",
      "metadata": {
        "id": "iGwuLlM7rs7o"
      },
      "source": [
        "https://github.com/chychen/tf2-ganomaly"
      ]
    },
    {
      "cell_type": "code",
      "metadata": {
        "colab": {
          "base_uri": "https://localhost:8080/"
        },
        "id": "P1LytNWdqguQ",
        "outputId": "70f6f79a-d6fa-4d38-ce0f-afa0089d23e5"
      },
      "source": [
        "from google.colab import drive\n",
        "drive.mount(\"/content/drive\", force_remount=True)"
      ],
      "execution_count": null,
      "outputs": [
        {
          "output_type": "stream",
          "text": [
            "Mounted at /content/drive\n"
          ],
          "name": "stdout"
        }
      ]
    },
    {
      "cell_type": "code",
      "metadata": {
        "colab": {
          "base_uri": "https://localhost:8080/"
        },
        "id": "E4odjevGqhkd",
        "outputId": "63fda94b-299e-4046-c28f-2ba8c78274fe"
      },
      "source": [
        "%cd /content/drive/MyDrive/Masters_Project/Datasets/new1/kaggle_tumor_detection/"
      ],
      "execution_count": null,
      "outputs": [
        {
          "output_type": "stream",
          "text": [
            "/content/drive/MyDrive/Masters_Project/Datasets/new1/kaggle_tumor_detection\n"
          ],
          "name": "stdout"
        }
      ]
    },
    {
      "cell_type": "code",
      "metadata": {
        "id": "pFf-uzo_q7iL"
      },
      "source": [
        "# %cd ganomaly_tf2\n",
        "# !wget https://raw.githubusercontent.com/chychen/tf2-ganomaly/master/metrics.py\n",
        "# !wget https://raw.githubusercontent.com/chychen/tf2-ganomaly/master/model.py\n",
        "# !wget https://raw.githubusercontent.com/chychen/tf2-ganomaly/master/train.py"
      ],
      "execution_count": null,
      "outputs": []
    },
    {
      "cell_type": "code",
      "metadata": {
        "colab": {
          "base_uri": "https://localhost:8080/"
        },
        "id": "AATRtv9srdvp",
        "outputId": "8b90bf29-9154-4557-abef-a47eaf99742f"
      },
      "source": [
        "%matplotlib inline\n",
        "import tensorflow as tf\n",
        "from tensorflow.keras import layers\n",
        "print(tf.__version__)\n",
        "import os\n",
        "import time\n",
        "import numpy as np\n",
        "import cv2\n",
        "import glob\n",
        "import matplotlib.pyplot as plt\n",
        "from IPython.display import clear_output\n",
        "from ganomaly_tf2.model import GANomaly\n",
        "from absl import logging\n",
        "logging.set_verbosity(logging.INFO)\n",
        "logging.set_stderrthreshold(logging.INFO)\n",
        "\n",
        "from typing import Any, Callable, Optional, Tuple\n",
        "from PIL import Image\n",
        "from sklearn.model_selection import train_test_split"
      ],
      "execution_count": null,
      "outputs": [
        {
          "output_type": "stream",
          "text": [
            "2.4.1\n"
          ],
          "name": "stdout"
        }
      ]
    },
    {
      "cell_type": "code",
      "metadata": {
        "id": "ueHQqtypr8kH"
      },
      "source": [
        "def batch_resize(imgs, size: tuple):\n",
        "    img_out = np.empty((imgs.shape[0],) + size)\n",
        "    for i in range(imgs.shape[0]):\n",
        "        img_out[i] = cv2.resize(imgs[i], size, interpolation=cv2.INTER_CUBIC)\n",
        "    return img_out"
      ],
      "execution_count": null,
      "outputs": []
    },
    {
      "cell_type": "code",
      "metadata": {
        "id": "gjZwaE0KsCyO"
      },
      "source": [
        "class Option:\n",
        "    def __init__(self):\n",
        "        self.anomaly = 1 # the anomaly digit\n",
        "        self.shuffle_buffer_size = 10000\n",
        "        self.batch_size = 8\n",
        "        self.isize = 256 # input size\n",
        "        self.ckpt_dir = \"ckpt\"\n",
        "        self.nz = 100 # latent dims\n",
        "        self.nc = 1 # input channels\n",
        "        self.ndf = 64 # number of discriminator's filters\n",
        "        self.ngf = 64 # number of generator's filters\n",
        "        self.extralayers = 0\n",
        "        self.niter = 15 # number of training epochs\n",
        "        self.lr = 2e-4 \n",
        "        self.w_adv = 1. # Adversarial loss weight\n",
        "        self.w_con = 50. # Reconstruction loss weight\n",
        "        self.w_enc = 1. # Encoder loss weight.\n",
        "        self.beta1 = 0.5\n",
        "        self.encdims = None\n",
        "            \n",
        "opt = Option()"
      ],
      "execution_count": null,
      "outputs": []
    },
    {
      "cell_type": "code",
      "metadata": {
        "colab": {
          "base_uri": "https://localhost:8080/"
        },
        "id": "WkAMiBZKytN2",
        "outputId": "911596f2-21f8-4053-e7fa-c63061f16a6e"
      },
      "source": [
        "data_train, data_test = tf.keras.datasets.mnist.load_data()\n",
        "# (x_train, y_train), (x_test, y_test) = tf.keras.datasets.mnist.load_data()"
      ],
      "execution_count": null,
      "outputs": [
        {
          "output_type": "stream",
          "text": [
            "Downloading data from https://storage.googleapis.com/tensorflow/tf-keras-datasets/mnist.npz\n",
            "11493376/11490434 [==============================] - 0s 0us/step\n"
          ],
          "name": "stdout"
        }
      ]
    },
    {
      "cell_type": "code",
      "metadata": {
        "id": "otGVmqKZ72_o"
      },
      "source": [
        "def read_data(path, normal=True):\n",
        "    data: Any = []\n",
        "    labels = []\n",
        "    \n",
        "    for file_path in glob.glob(path):\n",
        "        with open (file_path, 'rb') as f:\n",
        "            # image needs to be a PIL image\n",
        "            img = Image.open(f).convert('L')\n",
        "            # image size\n",
        "            # width, height = img.size\n",
        "            # mode = img.mode\n",
        "            # print(f\"w: {width} h: {height} mode: {mode}\")\n",
        "            # Resize all images 176, 256, 3 -> 256, 256, 0\n",
        "            dsize = (256, 256)\n",
        "            resized = img.resize(dsize)\n",
        "            # After resize\n",
        "            # width, height = resized.size\n",
        "            # mode = resized.mode\n",
        "            # print(f\"RESIZED: w: {width} h: {height} mode: {mode}\")\n",
        "            data.append(resized)\n",
        "            labels.append(1 if normal else 0) \n",
        "            \n",
        "    data = np.vstack(data).reshape(-1, 256, 256)\n",
        "    data = data.transpose((0, 1, 2))  # convert to HWC\n",
        "    return (data, labels)"
      ],
      "execution_count": null,
      "outputs": []
    },
    {
      "cell_type": "code",
      "metadata": {
        "colab": {
          "base_uri": "https://localhost:8080/"
        },
        "id": "gwounWgO1nR9",
        "outputId": "e2d058be-e998-4ec8-ceb2-0bc685505625"
      },
      "source": [
        "train_image_number = 140 # Image slice from MRI scans to use for training data\n",
        "#root_dir = '/content/drive/MyDrive/Masters_Project/Datasets/OASIS3/'\n",
        "root = '/content/drive/MyDrive/Masters_Project/Datasets/new1/kaggle_tumor_detection/'\n",
        "normal_folder = 'no/'\n",
        "tumor_folder = 'yes/'\n",
        "\n",
        "normal_jpg_folder = os.path.join(root, normal_folder)\n",
        "tumor_jpg_folder = os.path.join(root, tumor_folder)\n",
        "    \n",
        "print(\"=\"*5 + \" Loading Data \" + \"=\"*5)\n",
        "print(f\"tumor_jpg_folder: {tumor_jpg_folder}\")\n",
        "print(f\"normal_jpg_folder: {normal_jpg_folder}\")\n",
        "\n",
        "non_ad_data: Any = []\n",
        "non_ad_targets = []\n",
        "\n",
        "ad_data: Any = []\n",
        "ad_targets = []\n",
        "\n",
        "# Read data and label into a numpy array\n",
        "non_ad_data, non_ad_targets = read_data(normal_jpg_folder+'**.jpg', normal=True)\n",
        "ad_data, ad_targets = read_data(tumor_jpg_folder+'**.jpg', normal=False)\n",
        "\n",
        "# shuffle the datasets and bucket them as test and train\n",
        "# (non_ad_data, non_ad_targets) = shuffle_associated_arrays(non_ad_data, non_ad_targets)\n",
        "# (ad_data, ad_targets) = shuffle_associated_arrays(ad_data, ad_targets)\n",
        "\n",
        "all_data = np.concatenate((non_ad_data, ad_data), axis=0)\n",
        "all_targets = non_ad_targets + ad_targets\n",
        "\n",
        "x_train, x_test, y_train, y_test =\\\n",
        "  train_test_split(all_data, all_targets, test_size=0.1, random_state=42)"
      ],
      "execution_count": null,
      "outputs": [
        {
          "output_type": "stream",
          "text": [
            "===== Loading Data =====\n",
            "tumor_jpg_folder: /content/drive/MyDrive/Masters_Project/Datasets/new1/kaggle_tumor_detection/yes/\n",
            "normal_jpg_folder: /content/drive/MyDrive/Masters_Project/Datasets/new1/kaggle_tumor_detection/no/\n"
          ],
          "name": "stdout"
        }
      ]
    },
    {
      "cell_type": "code",
      "metadata": {
        "id": "p-x5XcnOW7t_"
      },
      "source": [
        "x_train = x_train.astype(np.float32)\n",
        "x_test = x_test.astype(np.float32)\n",
        "\n",
        "y_train = np.array(y_train, dtype=np.intc)\n",
        "y_test = np.array(y_test, dtype=np.intc)"
      ],
      "execution_count": null,
      "outputs": []
    },
    {
      "cell_type": "code",
      "metadata": {
        "colab": {
          "base_uri": "https://localhost:8080/"
        },
        "id": "jilyDAnIDad0",
        "outputId": "d880b5fc-fdce-40a7-b278-a78195d24b4b"
      },
      "source": [
        "print(x_train.shape)\n",
        "print(x_test.shape)"
      ],
      "execution_count": null,
      "outputs": [
        {
          "output_type": "stream",
          "text": [
            "(153, 256, 256)\n",
            "(18, 256, 256)\n"
          ],
          "name": "stdout"
        }
      ]
    },
    {
      "cell_type": "code",
      "metadata": {
        "colab": {
          "base_uri": "https://localhost:8080/"
        },
        "id": "YnuODPLIXho3",
        "outputId": "f09df441-8caf-48c4-e87f-a71e76c6df7a"
      },
      "source": [
        "x_train = batch_resize(x_train, (256, 256))[..., None]\n",
        "x_test = batch_resize(x_test, (256, 256))[..., None]\n",
        "# normalization\n",
        "mean = x_train.mean()\n",
        "stddev = x_train.std()\n",
        "x_train = (x_train-mean)/stddev\n",
        "x_test = (x_test-mean)/stddev\n",
        "print(x_train.shape, x_train.shape)\n",
        "# define abnoraml data and normal\n",
        "# training data only contains normal\n",
        "x_train = x_train[y_train!=opt.anomaly]\n",
        "y_train = y_train[y_train!=opt.anomaly]\n",
        "y_test = (y_test==opt.anomaly).astype(np.float32)\n",
        "# tf.data.Dataset\n",
        "train_dataset = tf.data.Dataset.from_tensor_slices((x_train, y_train))\n",
        "test_dataset = tf.data.Dataset.from_tensor_slices((x_test, y_test))\n",
        "train_dataset = train_dataset.shuffle(opt.shuffle_buffer_size).batch(opt.batch_size, drop_remainder=True)\n",
        "test_dataset = test_dataset.batch(opt.batch_size, drop_remainder=False)"
      ],
      "execution_count": null,
      "outputs": [
        {
          "output_type": "stream",
          "text": [
            "(153, 256, 256, 1) (153, 256, 256, 1)\n"
          ],
          "name": "stdout"
        }
      ]
    },
    {
      "cell_type": "code",
      "metadata": {
        "colab": {
          "base_uri": "https://localhost:8080/"
        },
        "id": "ZW7nfXrVYKE2",
        "outputId": "e7ed3d24-2e13-4973-d223-6269396d8a29"
      },
      "source": [
        "train_dataset"
      ],
      "execution_count": null,
      "outputs": [
        {
          "output_type": "execute_result",
          "data": {
            "text/plain": [
              "<BatchDataset shapes: ((8, 256, 256, 1), (8,)), types: (tf.float64, tf.int32)>"
            ]
          },
          "metadata": {
            "tags": []
          },
          "execution_count": 23
        }
      ]
    },
    {
      "cell_type": "code",
      "metadata": {
        "colab": {
          "base_uri": "https://localhost:8080/"
        },
        "id": "6Y5E8hGtYzr9",
        "outputId": "3ab9e6df-6e40-4068-92ae-967a33d242a3"
      },
      "source": [
        "test_dataset"
      ],
      "execution_count": null,
      "outputs": [
        {
          "output_type": "execute_result",
          "data": {
            "text/plain": [
              "<BatchDataset shapes: ((None, 256, 256, 1), (None,)), types: (tf.float64, tf.float32)>"
            ]
          },
          "metadata": {
            "tags": []
          },
          "execution_count": 24
        }
      ]
    },
    {
      "cell_type": "code",
      "metadata": {
        "id": "fW1GpM5-Y3St"
      },
      "source": [
        "ganomaly = GANomaly(opt, train_dataset, valid_dataset=None, test_dataset=test_dataset)"
      ],
      "execution_count": null,
      "outputs": []
    },
    {
      "cell_type": "code",
      "metadata": {
        "colab": {
          "base_uri": "https://localhost:8080/",
          "height": 1000,
          "referenced_widgets": [
            "bf24d09b6e574051baea7b775adfba00",
            "cf26bfcad3da4836a969af3a04de7024",
            "c41d3d587ab248de86b8000383290053",
            "a1cfe868b7a24ca19235a2cfb29dc8a8",
            "e7473defa7ff418aa1de1eeb1614041b",
            "bf40c7f7877a4a7a9baa8906aa79dcda",
            "c3f8c88486074bcda8d20ba349d85796",
            "a9eabab898ed4c35a696dbf66fd1d105",
            "9b39ca936cf7437abd60f63e4cb67637",
            "207df6e012ae417cb1d6e175e10fe31c",
            "866c3b5fa6f745509a4e8d79554ab90d",
            "4cf1a0800a7f415c9e34efac09f879c8",
            "d52db05d5cbd41e4b9f28cf7a89a61cc",
            "c2a80ce6528c41f58803ab8431f7b8b4",
            "af3a8f1fdad449128ca59e11d472267f",
            "1cddff4b277d4d5084171e262b23f7f3",
            "4bb53fd630964fb1b9fe2a443c2d93f6",
            "ab23c7ed42f847dfa43120a9efcdbc1e",
            "ef09bdea5dc94f8485a22048518ab2f3",
            "cd889a4f7acd4fb890ec98af4d53e6ee",
            "34c3d2fbfb8b403a8a9b6c93c2f5b6d8",
            "c5b86b83340145038c0a0475d8837c8c",
            "52c09dc4da2643418c79fc32ddb77a2f",
            "edc04273ab01434fb16440bd74089537",
            "09532575f395436f8b735e14c3856e47",
            "12cf729af138498293e307c44d050521",
            "7b055b7aa18d4a939c381ea7f17993be",
            "779ada0d8fab43a3b9131b36674ad7e4",
            "c600383545534284a025badb326368fd",
            "d218fae74700431cb5c6041e0065b156",
            "7fdb0788ef134dfca379ae8b65cb7fe1",
            "e0a8226fc6264437a0052e70d6c372b8",
            "f8e97a418da9467cb1ce70e78fa45567",
            "00598cf7873e45c4a9ceff44f5e95dcd",
            "47c899a390e1436cab475cc32c5b501b",
            "bbc06d12951a43d7879f6b0a4a8984b1",
            "7980161fa31a46f9b2ccb696a3ea5f4b",
            "ddc48be209e7450cadade80d53913ed3",
            "72b3c36c5b64432cae8bb643513e5712",
            "ef3e9403ada44ed1b1b8c3f93fff2a62",
            "2f4e222595f54d64b85c9109f734d7c9",
            "1fad2e4a0c8e46649e8e6101d9657596",
            "44a1fe0d783a464cb69eeab788d1c0cf",
            "fad6f5214f78409e9a06211eff2a3832",
            "bf5c3a2c60654b9084f29c7491c32dbf",
            "2b686f35bd3144f49dfde9877ec17532",
            "c20a17b9875640dbb3a42769535b9636",
            "a00e8e480aa0456d9ac7ea0fadaa3423",
            "01b388fbf78b46b2a75ed28f9ba2c68e",
            "680ad62b9df447b582c8cb57b85e4049",
            "0b72d32adbd14ccda53ba898e5bae0ab",
            "d6d0d8dfcd564791be287cfcff23f4e2",
            "950b2e8e348842efbb82f17682f00443",
            "dfd5c88f9810427c9b8c5077b65e0f47",
            "49b89c072ef541d791eb5c312ad8cacc",
            "deeb7fab292e40d4b36c217b342ae103",
            "fb17ff00946b463b917dbcab01baa147",
            "d1939b80cbef460cbde49a6e011182a0",
            "6e808567482f4c2d8b13e07e9fb3fa25",
            "14bf71beb0cf4bab866d78fbed0ca3d4",
            "80f626af96af4142be1ecd76b236a8c1",
            "b7f6f037d8e043839de71f59c64e70ed",
            "f162e483d79d41d19d00f2e84d3f22c2",
            "713455faac9245ea903cadbced676a02",
            "3b0efe23b138416aab85a888053cb939",
            "b3b00577cf7346b586fbabc3237f76d2",
            "1f4c8d39ab8748e79c2bc43d996c9880",
            "1eedd790d36e4dfba6d956bb35f38c3e",
            "0db4e0893df34405b7d76f4185e0b8c1",
            "01673d6c3aff48a889f843ab108a018b",
            "11f58153854f467a8153a5e5df05e20a",
            "9268f6f0f31546f2b889f8cdf0351bf4",
            "b59008209c814f1e96d59d5be6deeceb",
            "7109c39e719f42ef8ba7a8bb5db47adc",
            "6eba294e6bcc4a50bd20eb005f0f6bba",
            "f1b189d749274221b68dbc1c2aa59b06",
            "19ee78e5e64e444d96bacc1f311834bf",
            "ed324332ff104c2cbe17aee44d9de2a3"
          ]
        },
        "id": "fbKwFAYCY9Zc",
        "outputId": "8270d27d-1955-46e4-a786-b2c4ecbc843f"
      },
      "source": [
        "ganomaly.fit(opt.niter)"
      ],
      "execution_count": 19,
      "outputs": [
        {
          "output_type": "display_data",
          "data": {
            "application/vnd.jupyter.widget-view+json": {
              "model_id": "bf24d09b6e574051baea7b775adfba00",
              "version_major": 2,
              "version_minor": 0
            },
            "text/plain": [
              "HBox(children=(FloatProgress(value=0.0, max=857.0), HTML(value='')))"
            ]
          },
          "metadata": {
            "tags": []
          }
        },
        {
          "output_type": "stream",
          "text": [
            "re-init D, cost: 2.5040 secs\n",
            "re-init D, cost: 0.1315 secs\n",
            "epoch: 0, G_losses: 21.5230, D_losses: 7.4331, samples/sec: 25.7035\n",
            "Best_state: 0.6542866492146597\n",
            "Saving best state\n"
          ],
          "name": "stdout"
        },
        {
          "output_type": "stream",
          "text": [
            "WARNING:absl:Found untraced functions such as conv_bn__act_layer_call_and_return_conditional_losses, conv_bn__act_layer_call_fn, conv2d_6_layer_call_and_return_conditional_losses, conv2d_6_layer_call_fn, conv_bn__act_6_layer_call_and_return_conditional_losses while saving (showing 5 of 260). These functions will not be directly callable after loading.\n",
            "WARNING:absl:Found untraced functions such as conv_bn__act_layer_call_and_return_conditional_losses, conv_bn__act_layer_call_fn, conv2d_6_layer_call_and_return_conditional_losses, conv2d_6_layer_call_fn, conv_bn__act_6_layer_call_and_return_conditional_losses while saving (showing 5 of 260). These functions will not be directly callable after loading.\n"
          ],
          "name": "stderr"
        },
        {
          "output_type": "stream",
          "text": [
            "INFO:tensorflow:Assets written to: ckpt/_best_gen/assets\n"
          ],
          "name": "stdout"
        },
        {
          "output_type": "stream",
          "text": [
            "INFO:tensorflow:Assets written to: ckpt/_best_gen/assets\n",
            "WARNING:absl:Found untraced functions such as conv_bn__act_19_layer_call_and_return_conditional_losses, conv_bn__act_19_layer_call_fn, conv2d_20_layer_call_and_return_conditional_losses, conv2d_20_layer_call_fn, conv2d_14_layer_call_and_return_conditional_losses while saving (showing 5 of 95). These functions will not be directly callable after loading.\n",
            "WARNING:absl:Found untraced functions such as conv_bn__act_19_layer_call_and_return_conditional_losses, conv_bn__act_19_layer_call_fn, conv2d_20_layer_call_and_return_conditional_losses, conv2d_20_layer_call_fn, conv2d_14_layer_call_and_return_conditional_losses while saving (showing 5 of 95). These functions will not be directly callable after loading.\n"
          ],
          "name": "stderr"
        },
        {
          "output_type": "stream",
          "text": [
            "INFO:tensorflow:Assets written to: ckpt/_best_disc/assets\n"
          ],
          "name": "stdout"
        },
        {
          "output_type": "stream",
          "text": [
            "INFO:tensorflow:Assets written to: ckpt/_best_disc/assets\n"
          ],
          "name": "stderr"
        },
        {
          "output_type": "stream",
          "text": [
            "*** \t Testing:   roc_auc: 0.6543   average_precision: 0.0315 ***\n"
          ],
          "name": "stdout"
        },
        {
          "output_type": "display_data",
          "data": {
            "application/vnd.jupyter.widget-view+json": {
              "model_id": "cf26bfcad3da4836a969af3a04de7024",
              "version_major": 2,
              "version_minor": 0
            },
            "text/plain": [
              "HBox(children=(FloatProgress(value=0.0, max=857.0), HTML(value='')))"
            ]
          },
          "metadata": {
            "tags": []
          }
        },
        {
          "output_type": "stream",
          "text": [
            "epoch: 1, G_losses: 16.5924, D_losses: 7.6246, samples/sec: 28.0207\n",
            "\rBest_state: 0.7508180628272251\n",
            "Saving best state\n"
          ],
          "name": "stdout"
        },
        {
          "output_type": "stream",
          "text": [
            "WARNING:absl:Found untraced functions such as conv_bn__act_layer_call_and_return_conditional_losses, conv_bn__act_layer_call_fn, conv2d_6_layer_call_and_return_conditional_losses, conv2d_6_layer_call_fn, conv_bn__act_6_layer_call_and_return_conditional_losses while saving (showing 5 of 260). These functions will not be directly callable after loading.\n",
            "WARNING:absl:Found untraced functions such as conv_bn__act_layer_call_and_return_conditional_losses, conv_bn__act_layer_call_fn, conv2d_6_layer_call_and_return_conditional_losses, conv2d_6_layer_call_fn, conv_bn__act_6_layer_call_and_return_conditional_losses while saving (showing 5 of 260). These functions will not be directly callable after loading.\n"
          ],
          "name": "stderr"
        },
        {
          "output_type": "stream",
          "text": [
            "INFO:tensorflow:Assets written to: ckpt/_best_gen/assets\n"
          ],
          "name": "stdout"
        },
        {
          "output_type": "stream",
          "text": [
            "INFO:tensorflow:Assets written to: ckpt/_best_gen/assets\n",
            "WARNING:absl:Found untraced functions such as conv_bn__act_19_layer_call_and_return_conditional_losses, conv_bn__act_19_layer_call_fn, conv2d_20_layer_call_and_return_conditional_losses, conv2d_20_layer_call_fn, conv2d_14_layer_call_and_return_conditional_losses while saving (showing 5 of 95). These functions will not be directly callable after loading.\n",
            "WARNING:absl:Found untraced functions such as conv_bn__act_19_layer_call_and_return_conditional_losses, conv_bn__act_19_layer_call_fn, conv2d_20_layer_call_and_return_conditional_losses, conv2d_20_layer_call_fn, conv2d_14_layer_call_and_return_conditional_losses while saving (showing 5 of 95). These functions will not be directly callable after loading.\n"
          ],
          "name": "stderr"
        },
        {
          "output_type": "stream",
          "text": [
            "INFO:tensorflow:Assets written to: ckpt/_best_disc/assets\n"
          ],
          "name": "stdout"
        },
        {
          "output_type": "stream",
          "text": [
            "INFO:tensorflow:Assets written to: ckpt/_best_disc/assets\n"
          ],
          "name": "stderr"
        },
        {
          "output_type": "stream",
          "text": [
            "*** \t Testing:   roc_auc: 0.7508   average_precision: 0.0236 ***\n"
          ],
          "name": "stdout"
        },
        {
          "output_type": "display_data",
          "data": {
            "application/vnd.jupyter.widget-view+json": {
              "model_id": "c41d3d587ab248de86b8000383290053",
              "version_major": 2,
              "version_minor": 0
            },
            "text/plain": [
              "HBox(children=(FloatProgress(value=0.0, max=857.0), HTML(value='')))"
            ]
          },
          "metadata": {
            "tags": []
          }
        },
        {
          "output_type": "stream",
          "text": [
            "epoch: 2, G_losses: 15.4764, D_losses: 7.6246, samples/sec: 28.0070\n",
            "\rBest_state: 0.7508180628272251\n",
            "\t Testing:   roc_auc: 0.6883   average_precision: 0.0225\n"
          ],
          "name": "stdout"
        },
        {
          "output_type": "display_data",
          "data": {
            "application/vnd.jupyter.widget-view+json": {
              "model_id": "a1cfe868b7a24ca19235a2cfb29dc8a8",
              "version_major": 2,
              "version_minor": 0
            },
            "text/plain": [
              "HBox(children=(FloatProgress(value=0.0, max=857.0), HTML(value='')))"
            ]
          },
          "metadata": {
            "tags": []
          }
        },
        {
          "output_type": "stream",
          "text": [
            "epoch: 3, G_losses: 15.0281, D_losses: 7.6246, samples/sec: 27.8686\n",
            "\rBest_state: 0.9641688481675392\n",
            "Saving best state\n"
          ],
          "name": "stdout"
        },
        {
          "output_type": "stream",
          "text": [
            "WARNING:absl:Found untraced functions such as conv_bn__act_layer_call_and_return_conditional_losses, conv_bn__act_layer_call_fn, conv2d_6_layer_call_and_return_conditional_losses, conv2d_6_layer_call_fn, conv_bn__act_6_layer_call_and_return_conditional_losses while saving (showing 5 of 260). These functions will not be directly callable after loading.\n",
            "WARNING:absl:Found untraced functions such as conv_bn__act_layer_call_and_return_conditional_losses, conv_bn__act_layer_call_fn, conv2d_6_layer_call_and_return_conditional_losses, conv2d_6_layer_call_fn, conv_bn__act_6_layer_call_and_return_conditional_losses while saving (showing 5 of 260). These functions will not be directly callable after loading.\n"
          ],
          "name": "stderr"
        },
        {
          "output_type": "stream",
          "text": [
            "INFO:tensorflow:Assets written to: ckpt/_best_gen/assets\n"
          ],
          "name": "stdout"
        },
        {
          "output_type": "stream",
          "text": [
            "INFO:tensorflow:Assets written to: ckpt/_best_gen/assets\n",
            "WARNING:absl:Found untraced functions such as conv_bn__act_19_layer_call_and_return_conditional_losses, conv_bn__act_19_layer_call_fn, conv2d_20_layer_call_and_return_conditional_losses, conv2d_20_layer_call_fn, conv2d_14_layer_call_and_return_conditional_losses while saving (showing 5 of 95). These functions will not be directly callable after loading.\n",
            "WARNING:absl:Found untraced functions such as conv_bn__act_19_layer_call_and_return_conditional_losses, conv_bn__act_19_layer_call_fn, conv2d_20_layer_call_and_return_conditional_losses, conv2d_20_layer_call_fn, conv2d_14_layer_call_and_return_conditional_losses while saving (showing 5 of 95). These functions will not be directly callable after loading.\n"
          ],
          "name": "stderr"
        },
        {
          "output_type": "stream",
          "text": [
            "INFO:tensorflow:Assets written to: ckpt/_best_disc/assets\n"
          ],
          "name": "stdout"
        },
        {
          "output_type": "stream",
          "text": [
            "INFO:tensorflow:Assets written to: ckpt/_best_disc/assets\n"
          ],
          "name": "stderr"
        },
        {
          "output_type": "stream",
          "text": [
            "*** \t Testing:   roc_auc: 0.9642   average_precision: 0.2823 ***\n"
          ],
          "name": "stdout"
        },
        {
          "output_type": "display_data",
          "data": {
            "application/vnd.jupyter.widget-view+json": {
              "model_id": "e7473defa7ff418aa1de1eeb1614041b",
              "version_major": 2,
              "version_minor": 0
            },
            "text/plain": [
              "HBox(children=(FloatProgress(value=0.0, max=857.0), HTML(value='')))"
            ]
          },
          "metadata": {
            "tags": []
          }
        },
        {
          "output_type": "stream",
          "text": [
            "epoch: 4, G_losses: 14.7033, D_losses: 7.6246, samples/sec: 27.9500\n",
            "\rBest_state: 0.9641688481675392\n",
            "\t Testing:   roc_auc: 0.7745   average_precision: 0.0389\n"
          ],
          "name": "stdout"
        },
        {
          "output_type": "display_data",
          "data": {
            "application/vnd.jupyter.widget-view+json": {
              "model_id": "bf40c7f7877a4a7a9baa8906aa79dcda",
              "version_major": 2,
              "version_minor": 0
            },
            "text/plain": [
              "HBox(children=(FloatProgress(value=0.0, max=857.0), HTML(value='')))"
            ]
          },
          "metadata": {
            "tags": []
          }
        },
        {
          "output_type": "stream",
          "text": [
            "epoch: 5, G_losses: 14.4275, D_losses: 7.6246, samples/sec: 27.7940\n",
            "\rBest_state: 0.9641688481675392\n",
            "\t Testing:   roc_auc: 0.7870   average_precision: 0.0826\n"
          ],
          "name": "stdout"
        },
        {
          "output_type": "display_data",
          "data": {
            "application/vnd.jupyter.widget-view+json": {
              "model_id": "c3f8c88486074bcda8d20ba349d85796",
              "version_major": 2,
              "version_minor": 0
            },
            "text/plain": [
              "HBox(children=(FloatProgress(value=0.0, max=857.0), HTML(value='')))"
            ]
          },
          "metadata": {
            "tags": []
          }
        },
        {
          "output_type": "stream",
          "text": [
            "epoch: 6, G_losses: 14.1367, D_losses: 7.6246, samples/sec: 27.6965\n",
            "\rBest_state: 0.9641688481675392\n",
            "\t Testing:   roc_auc: 0.4121   average_precision: 0.0097\n"
          ],
          "name": "stdout"
        },
        {
          "output_type": "display_data",
          "data": {
            "application/vnd.jupyter.widget-view+json": {
              "model_id": "a9eabab898ed4c35a696dbf66fd1d105",
              "version_major": 2,
              "version_minor": 0
            },
            "text/plain": [
              "HBox(children=(FloatProgress(value=0.0, max=857.0), HTML(value='')))"
            ]
          },
          "metadata": {
            "tags": []
          }
        },
        {
          "output_type": "stream",
          "text": [
            "epoch: 7, G_losses: 100929512.0000, D_losses: 7.6246, samples/sec: 27.8009\n",
            "\rBest_state: 0.9641688481675392\n",
            "\t Testing:   roc_auc: 0.0242   average_precision: 0.0059\n"
          ],
          "name": "stdout"
        },
        {
          "output_type": "display_data",
          "data": {
            "application/vnd.jupyter.widget-view+json": {
              "model_id": "9b39ca936cf7437abd60f63e4cb67637",
              "version_major": 2,
              "version_minor": 0
            },
            "text/plain": [
              "HBox(children=(FloatProgress(value=0.0, max=857.0), HTML(value='')))"
            ]
          },
          "metadata": {
            "tags": []
          }
        },
        {
          "output_type": "stream",
          "text": [
            "epoch: 8, G_losses: 6315.4858, D_losses: 7.6246, samples/sec: 27.7965\n",
            "\rBest_state: 0.9641688481675392\n",
            "\t Testing:   roc_auc: 0.0584   average_precision: 0.0060\n"
          ],
          "name": "stdout"
        },
        {
          "output_type": "display_data",
          "data": {
            "application/vnd.jupyter.widget-view+json": {
              "model_id": "207df6e012ae417cb1d6e175e10fe31c",
              "version_major": 2,
              "version_minor": 0
            },
            "text/plain": [
              "HBox(children=(FloatProgress(value=0.0, max=857.0), HTML(value='')))"
            ]
          },
          "metadata": {
            "tags": []
          }
        },
        {
          "output_type": "stream",
          "text": [
            "epoch: 9, G_losses: 1179.6598, D_losses: 7.6246, samples/sec: 27.6906\n",
            "\rBest_state: 0.9641688481675392\n",
            "\t Testing:   roc_auc: 0.5579   average_precision: 0.0132\n"
          ],
          "name": "stdout"
        },
        {
          "output_type": "display_data",
          "data": {
            "application/vnd.jupyter.widget-view+json": {
              "model_id": "866c3b5fa6f745509a4e8d79554ab90d",
              "version_major": 2,
              "version_minor": 0
            },
            "text/plain": [
              "HBox(children=(FloatProgress(value=0.0, max=857.0), HTML(value='')))"
            ]
          },
          "metadata": {
            "tags": []
          }
        },
        {
          "output_type": "stream",
          "text": [
            "epoch: 10, G_losses: 416.9918, D_losses: 7.6246, samples/sec: 27.6606\n",
            "\rBest_state: 0.9641688481675392\n",
            "\t Testing:   roc_auc: 0.7523   average_precision: 0.0232\n"
          ],
          "name": "stdout"
        },
        {
          "output_type": "display_data",
          "data": {
            "application/vnd.jupyter.widget-view+json": {
              "model_id": "4cf1a0800a7f415c9e34efac09f879c8",
              "version_major": 2,
              "version_minor": 0
            },
            "text/plain": [
              "HBox(children=(FloatProgress(value=0.0, max=857.0), HTML(value='')))"
            ]
          },
          "metadata": {
            "tags": []
          }
        },
        {
          "output_type": "stream",
          "text": [
            "epoch: 11, G_losses: 300.1630, D_losses: 7.6246, samples/sec: 27.6470\n",
            "\rBest_state: 0.9641688481675392\n",
            "\t Testing:   roc_auc: 0.8058   average_precision: 0.0303\n"
          ],
          "name": "stdout"
        },
        {
          "output_type": "display_data",
          "data": {
            "application/vnd.jupyter.widget-view+json": {
              "model_id": "d52db05d5cbd41e4b9f28cf7a89a61cc",
              "version_major": 2,
              "version_minor": 0
            },
            "text/plain": [
              "HBox(children=(FloatProgress(value=0.0, max=857.0), HTML(value='')))"
            ]
          },
          "metadata": {
            "tags": []
          }
        },
        {
          "output_type": "stream",
          "text": [
            "epoch: 12, G_losses: 251.8324, D_losses: 7.6246, samples/sec: 27.7031\n",
            "\rBest_state: 0.9641688481675392\n",
            "\t Testing:   roc_auc: 0.8740   average_precision: 0.0435\n"
          ],
          "name": "stdout"
        },
        {
          "output_type": "display_data",
          "data": {
            "application/vnd.jupyter.widget-view+json": {
              "model_id": "c2a80ce6528c41f58803ab8431f7b8b4",
              "version_major": 2,
              "version_minor": 0
            },
            "text/plain": [
              "HBox(children=(FloatProgress(value=0.0, max=857.0), HTML(value='')))"
            ]
          },
          "metadata": {
            "tags": []
          }
        },
        {
          "output_type": "stream",
          "text": [
            "epoch: 13, G_losses: 214.6618, D_losses: 7.6246, samples/sec: 27.5888\n",
            "\rBest_state: 0.9641688481675392\n",
            "\t Testing:   roc_auc: 0.9010   average_precision: 0.0536\n"
          ],
          "name": "stdout"
        },
        {
          "output_type": "display_data",
          "data": {
            "application/vnd.jupyter.widget-view+json": {
              "model_id": "af3a8f1fdad449128ca59e11d472267f",
              "version_major": 2,
              "version_minor": 0
            },
            "text/plain": [
              "HBox(children=(FloatProgress(value=0.0, max=857.0), HTML(value='')))"
            ]
          },
          "metadata": {
            "tags": []
          }
        },
        {
          "output_type": "stream",
          "text": [
            "epoch: 14, G_losses: 183.7640, D_losses: 7.6246, samples/sec: 27.5882\n",
            "\rBest_state: 0.9641688481675392\n",
            "\t Testing:   roc_auc: 0.9308   average_precision: 0.0731\n"
          ],
          "name": "stdout"
        },
        {
          "output_type": "display_data",
          "data": {
            "application/vnd.jupyter.widget-view+json": {
              "model_id": "1cddff4b277d4d5084171e262b23f7f3",
              "version_major": 2,
              "version_minor": 0
            },
            "text/plain": [
              "HBox(children=(FloatProgress(value=0.0, max=857.0), HTML(value='')))"
            ]
          },
          "metadata": {
            "tags": []
          }
        },
        {
          "output_type": "stream",
          "text": [
            "epoch: 15, G_losses: 159.0113, D_losses: 7.6246, samples/sec: 27.4805\n",
            "\rBest_state: 0.9641688481675392\n",
            "\t Testing:   roc_auc: 0.9259   average_precision: 0.0707\n"
          ],
          "name": "stdout"
        },
        {
          "output_type": "display_data",
          "data": {
            "application/vnd.jupyter.widget-view+json": {
              "model_id": "4bb53fd630964fb1b9fe2a443c2d93f6",
              "version_major": 2,
              "version_minor": 0
            },
            "text/plain": [
              "HBox(children=(FloatProgress(value=0.0, max=857.0), HTML(value='')))"
            ]
          },
          "metadata": {
            "tags": []
          }
        },
        {
          "output_type": "stream",
          "text": [
            "epoch: 16, G_losses: 139.1785, D_losses: 7.6246, samples/sec: 27.4911\n",
            "\rBest_state: 0.9641688481675392\n",
            "\t Testing:   roc_auc: 0.9422   average_precision: 0.0881\n"
          ],
          "name": "stdout"
        },
        {
          "output_type": "display_data",
          "data": {
            "application/vnd.jupyter.widget-view+json": {
              "model_id": "ab23c7ed42f847dfa43120a9efcdbc1e",
              "version_major": 2,
              "version_minor": 0
            },
            "text/plain": [
              "HBox(children=(FloatProgress(value=0.0, max=857.0), HTML(value='')))"
            ]
          },
          "metadata": {
            "tags": []
          }
        },
        {
          "output_type": "stream",
          "text": [
            "epoch: 17, G_losses: 123.2948, D_losses: 7.6246, samples/sec: 27.5409\n",
            "\rBest_state: 0.9641688481675392\n",
            "\t Testing:   roc_auc: 0.9506   average_precision: 0.1013\n"
          ],
          "name": "stdout"
        },
        {
          "output_type": "display_data",
          "data": {
            "application/vnd.jupyter.widget-view+json": {
              "model_id": "ef09bdea5dc94f8485a22048518ab2f3",
              "version_major": 2,
              "version_minor": 0
            },
            "text/plain": [
              "HBox(children=(FloatProgress(value=0.0, max=857.0), HTML(value='')))"
            ]
          },
          "metadata": {
            "tags": []
          }
        },
        {
          "output_type": "stream",
          "text": [
            "epoch: 18, G_losses: 110.8896, D_losses: 7.6246, samples/sec: 27.4525\n",
            "\rBest_state: 0.9641688481675392\n",
            "\t Testing:   roc_auc: 0.9586   average_precision: 0.1206\n"
          ],
          "name": "stdout"
        },
        {
          "output_type": "display_data",
          "data": {
            "application/vnd.jupyter.widget-view+json": {
              "model_id": "cd889a4f7acd4fb890ec98af4d53e6ee",
              "version_major": 2,
              "version_minor": 0
            },
            "text/plain": [
              "HBox(children=(FloatProgress(value=0.0, max=857.0), HTML(value='')))"
            ]
          },
          "metadata": {
            "tags": []
          }
        },
        {
          "output_type": "stream",
          "text": [
            "epoch: 19, G_losses: 100.5648, D_losses: 7.6246, samples/sec: 27.5216\n",
            "\rBest_state: 0.9641688481675392\n",
            "\t Testing:   roc_auc: 0.9514   average_precision: 0.1095\n"
          ],
          "name": "stdout"
        },
        {
          "output_type": "display_data",
          "data": {
            "application/vnd.jupyter.widget-view+json": {
              "model_id": "34c3d2fbfb8b403a8a9b6c93c2f5b6d8",
              "version_major": 2,
              "version_minor": 0
            },
            "text/plain": [
              "HBox(children=(FloatProgress(value=0.0, max=857.0), HTML(value='')))"
            ]
          },
          "metadata": {
            "tags": []
          }
        },
        {
          "output_type": "stream",
          "text": [
            "epoch: 20, G_losses: 92.6299, D_losses: 7.6246, samples/sec: 27.5753\n",
            "\rBest_state: 0.9664594240837696\n",
            "Saving best state\n"
          ],
          "name": "stdout"
        },
        {
          "output_type": "stream",
          "text": [
            "WARNING:absl:Found untraced functions such as conv_bn__act_layer_call_and_return_conditional_losses, conv_bn__act_layer_call_fn, conv2d_6_layer_call_and_return_conditional_losses, conv2d_6_layer_call_fn, conv_bn__act_6_layer_call_and_return_conditional_losses while saving (showing 5 of 260). These functions will not be directly callable after loading.\n",
            "WARNING:absl:Found untraced functions such as conv_bn__act_layer_call_and_return_conditional_losses, conv_bn__act_layer_call_fn, conv2d_6_layer_call_and_return_conditional_losses, conv2d_6_layer_call_fn, conv_bn__act_6_layer_call_and_return_conditional_losses while saving (showing 5 of 260). These functions will not be directly callable after loading.\n"
          ],
          "name": "stderr"
        },
        {
          "output_type": "stream",
          "text": [
            "INFO:tensorflow:Assets written to: ckpt/_best_gen/assets\n"
          ],
          "name": "stdout"
        },
        {
          "output_type": "stream",
          "text": [
            "INFO:tensorflow:Assets written to: ckpt/_best_gen/assets\n",
            "WARNING:absl:Found untraced functions such as conv_bn__act_19_layer_call_and_return_conditional_losses, conv_bn__act_19_layer_call_fn, conv2d_20_layer_call_and_return_conditional_losses, conv2d_20_layer_call_fn, conv2d_14_layer_call_and_return_conditional_losses while saving (showing 5 of 95). These functions will not be directly callable after loading.\n",
            "WARNING:absl:Found untraced functions such as conv_bn__act_19_layer_call_and_return_conditional_losses, conv_bn__act_19_layer_call_fn, conv2d_20_layer_call_and_return_conditional_losses, conv2d_20_layer_call_fn, conv2d_14_layer_call_and_return_conditional_losses while saving (showing 5 of 95). These functions will not be directly callable after loading.\n"
          ],
          "name": "stderr"
        },
        {
          "output_type": "stream",
          "text": [
            "INFO:tensorflow:Assets written to: ckpt/_best_disc/assets\n"
          ],
          "name": "stdout"
        },
        {
          "output_type": "stream",
          "text": [
            "INFO:tensorflow:Assets written to: ckpt/_best_disc/assets\n"
          ],
          "name": "stderr"
        },
        {
          "output_type": "stream",
          "text": [
            "*** \t Testing:   roc_auc: 0.9665   average_precision: 0.1518 ***\n"
          ],
          "name": "stdout"
        },
        {
          "output_type": "display_data",
          "data": {
            "application/vnd.jupyter.widget-view+json": {
              "model_id": "c5b86b83340145038c0a0475d8837c8c",
              "version_major": 2,
              "version_minor": 0
            },
            "text/plain": [
              "HBox(children=(FloatProgress(value=0.0, max=857.0), HTML(value='')))"
            ]
          },
          "metadata": {
            "tags": []
          }
        },
        {
          "output_type": "stream",
          "text": [
            "epoch: 21, G_losses: 85.5923, D_losses: 7.6246, samples/sec: 27.8527\n",
            "\rBest_state: 0.9698952879581152\n",
            "Saving best state\n"
          ],
          "name": "stdout"
        },
        {
          "output_type": "stream",
          "text": [
            "WARNING:absl:Found untraced functions such as conv_bn__act_layer_call_and_return_conditional_losses, conv_bn__act_layer_call_fn, conv2d_6_layer_call_and_return_conditional_losses, conv2d_6_layer_call_fn, conv_bn__act_6_layer_call_and_return_conditional_losses while saving (showing 5 of 260). These functions will not be directly callable after loading.\n",
            "WARNING:absl:Found untraced functions such as conv_bn__act_layer_call_and_return_conditional_losses, conv_bn__act_layer_call_fn, conv2d_6_layer_call_and_return_conditional_losses, conv2d_6_layer_call_fn, conv_bn__act_6_layer_call_and_return_conditional_losses while saving (showing 5 of 260). These functions will not be directly callable after loading.\n"
          ],
          "name": "stderr"
        },
        {
          "output_type": "stream",
          "text": [
            "INFO:tensorflow:Assets written to: ckpt/_best_gen/assets\n"
          ],
          "name": "stdout"
        },
        {
          "output_type": "stream",
          "text": [
            "INFO:tensorflow:Assets written to: ckpt/_best_gen/assets\n",
            "WARNING:absl:Found untraced functions such as conv_bn__act_19_layer_call_and_return_conditional_losses, conv_bn__act_19_layer_call_fn, conv2d_20_layer_call_and_return_conditional_losses, conv2d_20_layer_call_fn, conv2d_14_layer_call_and_return_conditional_losses while saving (showing 5 of 95). These functions will not be directly callable after loading.\n",
            "WARNING:absl:Found untraced functions such as conv_bn__act_19_layer_call_and_return_conditional_losses, conv_bn__act_19_layer_call_fn, conv2d_20_layer_call_and_return_conditional_losses, conv2d_20_layer_call_fn, conv2d_14_layer_call_and_return_conditional_losses while saving (showing 5 of 95). These functions will not be directly callable after loading.\n"
          ],
          "name": "stderr"
        },
        {
          "output_type": "stream",
          "text": [
            "INFO:tensorflow:Assets written to: ckpt/_best_disc/assets\n"
          ],
          "name": "stdout"
        },
        {
          "output_type": "stream",
          "text": [
            "INFO:tensorflow:Assets written to: ckpt/_best_disc/assets\n"
          ],
          "name": "stderr"
        },
        {
          "output_type": "stream",
          "text": [
            "*** \t Testing:   roc_auc: 0.9699   average_precision: 0.1635 ***\n"
          ],
          "name": "stdout"
        },
        {
          "output_type": "display_data",
          "data": {
            "application/vnd.jupyter.widget-view+json": {
              "model_id": "52c09dc4da2643418c79fc32ddb77a2f",
              "version_major": 2,
              "version_minor": 0
            },
            "text/plain": [
              "HBox(children=(FloatProgress(value=0.0, max=857.0), HTML(value='')))"
            ]
          },
          "metadata": {
            "tags": []
          }
        },
        {
          "output_type": "stream",
          "text": [
            "epoch: 22, G_losses: 87.4227, D_losses: 7.6246, samples/sec: 27.8473\n",
            "\rBest_state: 0.9698952879581152\n",
            "\t Testing:   roc_auc: 0.9660   average_precision: 0.1492\n"
          ],
          "name": "stdout"
        },
        {
          "output_type": "display_data",
          "data": {
            "application/vnd.jupyter.widget-view+json": {
              "model_id": "edc04273ab01434fb16440bd74089537",
              "version_major": 2,
              "version_minor": 0
            },
            "text/plain": [
              "HBox(children=(FloatProgress(value=0.0, max=857.0), HTML(value='')))"
            ]
          },
          "metadata": {
            "tags": []
          }
        },
        {
          "output_type": "stream",
          "text": [
            "epoch: 23, G_losses: 73.6976, D_losses: 7.6246, samples/sec: 27.6644\n",
            "\rBest_state: 0.9703861256544503\n",
            "Saving best state\n"
          ],
          "name": "stdout"
        },
        {
          "output_type": "stream",
          "text": [
            "WARNING:absl:Found untraced functions such as conv_bn__act_layer_call_and_return_conditional_losses, conv_bn__act_layer_call_fn, conv2d_6_layer_call_and_return_conditional_losses, conv2d_6_layer_call_fn, conv_bn__act_6_layer_call_and_return_conditional_losses while saving (showing 5 of 260). These functions will not be directly callable after loading.\n",
            "WARNING:absl:Found untraced functions such as conv_bn__act_layer_call_and_return_conditional_losses, conv_bn__act_layer_call_fn, conv2d_6_layer_call_and_return_conditional_losses, conv2d_6_layer_call_fn, conv_bn__act_6_layer_call_and_return_conditional_losses while saving (showing 5 of 260). These functions will not be directly callable after loading.\n"
          ],
          "name": "stderr"
        },
        {
          "output_type": "stream",
          "text": [
            "INFO:tensorflow:Assets written to: ckpt/_best_gen/assets\n"
          ],
          "name": "stdout"
        },
        {
          "output_type": "stream",
          "text": [
            "INFO:tensorflow:Assets written to: ckpt/_best_gen/assets\n",
            "WARNING:absl:Found untraced functions such as conv_bn__act_19_layer_call_and_return_conditional_losses, conv_bn__act_19_layer_call_fn, conv2d_20_layer_call_and_return_conditional_losses, conv2d_20_layer_call_fn, conv2d_14_layer_call_and_return_conditional_losses while saving (showing 5 of 95). These functions will not be directly callable after loading.\n",
            "WARNING:absl:Found untraced functions such as conv_bn__act_19_layer_call_and_return_conditional_losses, conv_bn__act_19_layer_call_fn, conv2d_20_layer_call_and_return_conditional_losses, conv2d_20_layer_call_fn, conv2d_14_layer_call_and_return_conditional_losses while saving (showing 5 of 95). These functions will not be directly callable after loading.\n"
          ],
          "name": "stderr"
        },
        {
          "output_type": "stream",
          "text": [
            "INFO:tensorflow:Assets written to: ckpt/_best_disc/assets\n"
          ],
          "name": "stdout"
        },
        {
          "output_type": "stream",
          "text": [
            "INFO:tensorflow:Assets written to: ckpt/_best_disc/assets\n"
          ],
          "name": "stderr"
        },
        {
          "output_type": "stream",
          "text": [
            "*** \t Testing:   roc_auc: 0.9704   average_precision: 0.2003 ***\n"
          ],
          "name": "stdout"
        },
        {
          "output_type": "display_data",
          "data": {
            "application/vnd.jupyter.widget-view+json": {
              "model_id": "09532575f395436f8b735e14c3856e47",
              "version_major": 2,
              "version_minor": 0
            },
            "text/plain": [
              "HBox(children=(FloatProgress(value=0.0, max=857.0), HTML(value='')))"
            ]
          },
          "metadata": {
            "tags": []
          }
        },
        {
          "output_type": "stream",
          "text": [
            "epoch: 24, G_losses: 76.4590, D_losses: 7.6246, samples/sec: 27.7434\n",
            "\rBest_state: 0.9733311518324608\n",
            "Saving best state\n"
          ],
          "name": "stdout"
        },
        {
          "output_type": "stream",
          "text": [
            "WARNING:absl:Found untraced functions such as conv_bn__act_layer_call_and_return_conditional_losses, conv_bn__act_layer_call_fn, conv2d_6_layer_call_and_return_conditional_losses, conv2d_6_layer_call_fn, conv_bn__act_6_layer_call_and_return_conditional_losses while saving (showing 5 of 260). These functions will not be directly callable after loading.\n",
            "WARNING:absl:Found untraced functions such as conv_bn__act_layer_call_and_return_conditional_losses, conv_bn__act_layer_call_fn, conv2d_6_layer_call_and_return_conditional_losses, conv2d_6_layer_call_fn, conv_bn__act_6_layer_call_and_return_conditional_losses while saving (showing 5 of 260). These functions will not be directly callable after loading.\n"
          ],
          "name": "stderr"
        },
        {
          "output_type": "stream",
          "text": [
            "INFO:tensorflow:Assets written to: ckpt/_best_gen/assets\n"
          ],
          "name": "stdout"
        },
        {
          "output_type": "stream",
          "text": [
            "INFO:tensorflow:Assets written to: ckpt/_best_gen/assets\n",
            "WARNING:absl:Found untraced functions such as conv_bn__act_19_layer_call_and_return_conditional_losses, conv_bn__act_19_layer_call_fn, conv2d_20_layer_call_and_return_conditional_losses, conv2d_20_layer_call_fn, conv2d_14_layer_call_and_return_conditional_losses while saving (showing 5 of 95). These functions will not be directly callable after loading.\n",
            "WARNING:absl:Found untraced functions such as conv_bn__act_19_layer_call_and_return_conditional_losses, conv_bn__act_19_layer_call_fn, conv2d_20_layer_call_and_return_conditional_losses, conv2d_20_layer_call_fn, conv2d_14_layer_call_and_return_conditional_losses while saving (showing 5 of 95). These functions will not be directly callable after loading.\n"
          ],
          "name": "stderr"
        },
        {
          "output_type": "stream",
          "text": [
            "INFO:tensorflow:Assets written to: ckpt/_best_disc/assets\n"
          ],
          "name": "stdout"
        },
        {
          "output_type": "stream",
          "text": [
            "INFO:tensorflow:Assets written to: ckpt/_best_disc/assets\n"
          ],
          "name": "stderr"
        },
        {
          "output_type": "stream",
          "text": [
            "*** \t Testing:   roc_auc: 0.9733   average_precision: 0.1978 ***\n"
          ],
          "name": "stdout"
        },
        {
          "output_type": "display_data",
          "data": {
            "application/vnd.jupyter.widget-view+json": {
              "model_id": "12cf729af138498293e307c44d050521",
              "version_major": 2,
              "version_minor": 0
            },
            "text/plain": [
              "HBox(children=(FloatProgress(value=0.0, max=857.0), HTML(value='')))"
            ]
          },
          "metadata": {
            "tags": []
          }
        },
        {
          "output_type": "stream",
          "text": [
            "epoch: 25, G_losses: 63.0835, D_losses: 7.6246, samples/sec: 27.6794\n",
            "\rBest_state: 0.9766034031413613\n",
            "Saving best state\n"
          ],
          "name": "stdout"
        },
        {
          "output_type": "stream",
          "text": [
            "WARNING:absl:Found untraced functions such as conv_bn__act_layer_call_and_return_conditional_losses, conv_bn__act_layer_call_fn, conv2d_6_layer_call_and_return_conditional_losses, conv2d_6_layer_call_fn, conv_bn__act_6_layer_call_and_return_conditional_losses while saving (showing 5 of 260). These functions will not be directly callable after loading.\n",
            "WARNING:absl:Found untraced functions such as conv_bn__act_layer_call_and_return_conditional_losses, conv_bn__act_layer_call_fn, conv2d_6_layer_call_and_return_conditional_losses, conv2d_6_layer_call_fn, conv_bn__act_6_layer_call_and_return_conditional_losses while saving (showing 5 of 260). These functions will not be directly callable after loading.\n"
          ],
          "name": "stderr"
        },
        {
          "output_type": "stream",
          "text": [
            "INFO:tensorflow:Assets written to: ckpt/_best_gen/assets\n"
          ],
          "name": "stdout"
        },
        {
          "output_type": "stream",
          "text": [
            "INFO:tensorflow:Assets written to: ckpt/_best_gen/assets\n",
            "WARNING:absl:Found untraced functions such as conv_bn__act_19_layer_call_and_return_conditional_losses, conv_bn__act_19_layer_call_fn, conv2d_20_layer_call_and_return_conditional_losses, conv2d_20_layer_call_fn, conv2d_14_layer_call_and_return_conditional_losses while saving (showing 5 of 95). These functions will not be directly callable after loading.\n",
            "WARNING:absl:Found untraced functions such as conv_bn__act_19_layer_call_and_return_conditional_losses, conv_bn__act_19_layer_call_fn, conv2d_20_layer_call_and_return_conditional_losses, conv2d_20_layer_call_fn, conv2d_14_layer_call_and_return_conditional_losses while saving (showing 5 of 95). These functions will not be directly callable after loading.\n"
          ],
          "name": "stderr"
        },
        {
          "output_type": "stream",
          "text": [
            "INFO:tensorflow:Assets written to: ckpt/_best_disc/assets\n"
          ],
          "name": "stdout"
        },
        {
          "output_type": "stream",
          "text": [
            "INFO:tensorflow:Assets written to: ckpt/_best_disc/assets\n"
          ],
          "name": "stderr"
        },
        {
          "output_type": "stream",
          "text": [
            "*** \t Testing:   roc_auc: 0.9766   average_precision: 0.2053 ***\n"
          ],
          "name": "stdout"
        },
        {
          "output_type": "display_data",
          "data": {
            "application/vnd.jupyter.widget-view+json": {
              "model_id": "7b055b7aa18d4a939c381ea7f17993be",
              "version_major": 2,
              "version_minor": 0
            },
            "text/plain": [
              "HBox(children=(FloatProgress(value=0.0, max=857.0), HTML(value='')))"
            ]
          },
          "metadata": {
            "tags": []
          }
        },
        {
          "output_type": "stream",
          "text": [
            "epoch: 26, G_losses: 3551159.0000, D_losses: 7.6246, samples/sec: 27.6561\n",
            "\rBest_state: 0.9766034031413613\n",
            "\t Testing:   roc_auc: 0.9673   average_precision: 0.1979\n"
          ],
          "name": "stdout"
        },
        {
          "output_type": "display_data",
          "data": {
            "application/vnd.jupyter.widget-view+json": {
              "model_id": "779ada0d8fab43a3b9131b36674ad7e4",
              "version_major": 2,
              "version_minor": 0
            },
            "text/plain": [
              "HBox(children=(FloatProgress(value=0.0, max=857.0), HTML(value='')))"
            ]
          },
          "metadata": {
            "tags": []
          }
        },
        {
          "output_type": "stream",
          "text": [
            "epoch: 27, G_losses: 1075.8729, D_losses: 7.6246, samples/sec: 27.5767\n",
            "\rBest_state: 0.9766034031413613\n",
            "\t Testing:   roc_auc: 0.9692   average_precision: 0.2116\n"
          ],
          "name": "stdout"
        },
        {
          "output_type": "display_data",
          "data": {
            "application/vnd.jupyter.widget-view+json": {
              "model_id": "c600383545534284a025badb326368fd",
              "version_major": 2,
              "version_minor": 0
            },
            "text/plain": [
              "HBox(children=(FloatProgress(value=0.0, max=857.0), HTML(value='')))"
            ]
          },
          "metadata": {
            "tags": []
          }
        },
        {
          "output_type": "stream",
          "text": [
            "epoch: 28, G_losses: 486.3383, D_losses: 7.6246, samples/sec: 27.4125\n",
            "\rBest_state: 0.9766034031413613\n",
            "\t Testing:   roc_auc: 0.9719   average_precision: 0.2035\n"
          ],
          "name": "stdout"
        },
        {
          "output_type": "display_data",
          "data": {
            "application/vnd.jupyter.widget-view+json": {
              "model_id": "d218fae74700431cb5c6041e0065b156",
              "version_major": 2,
              "version_minor": 0
            },
            "text/plain": [
              "HBox(children=(FloatProgress(value=0.0, max=857.0), HTML(value='')))"
            ]
          },
          "metadata": {
            "tags": []
          }
        },
        {
          "output_type": "stream",
          "text": [
            "epoch: 29, G_losses: 300.5236, D_losses: 7.6246, samples/sec: 27.4427\n",
            "\rBest_state: 0.9766034031413613\n",
            "\t Testing:   roc_auc: 0.9741   average_precision: 0.2064\n"
          ],
          "name": "stdout"
        },
        {
          "output_type": "display_data",
          "data": {
            "application/vnd.jupyter.widget-view+json": {
              "model_id": "7fdb0788ef134dfca379ae8b65cb7fe1",
              "version_major": 2,
              "version_minor": 0
            },
            "text/plain": [
              "HBox(children=(FloatProgress(value=0.0, max=857.0), HTML(value='')))"
            ]
          },
          "metadata": {
            "tags": []
          }
        },
        {
          "output_type": "stream",
          "text": [
            "epoch: 30, G_losses: 200.7590, D_losses: 7.6246, samples/sec: 27.4501\n",
            "\rBest_state: 0.9770942408376964\n",
            "Saving best state\n"
          ],
          "name": "stdout"
        },
        {
          "output_type": "stream",
          "text": [
            "WARNING:absl:Found untraced functions such as conv_bn__act_layer_call_and_return_conditional_losses, conv_bn__act_layer_call_fn, conv2d_6_layer_call_and_return_conditional_losses, conv2d_6_layer_call_fn, conv_bn__act_6_layer_call_and_return_conditional_losses while saving (showing 5 of 260). These functions will not be directly callable after loading.\n",
            "WARNING:absl:Found untraced functions such as conv_bn__act_layer_call_and_return_conditional_losses, conv_bn__act_layer_call_fn, conv2d_6_layer_call_and_return_conditional_losses, conv2d_6_layer_call_fn, conv_bn__act_6_layer_call_and_return_conditional_losses while saving (showing 5 of 260). These functions will not be directly callable after loading.\n"
          ],
          "name": "stderr"
        },
        {
          "output_type": "stream",
          "text": [
            "INFO:tensorflow:Assets written to: ckpt/_best_gen/assets\n"
          ],
          "name": "stdout"
        },
        {
          "output_type": "stream",
          "text": [
            "INFO:tensorflow:Assets written to: ckpt/_best_gen/assets\n",
            "WARNING:absl:Found untraced functions such as conv_bn__act_19_layer_call_and_return_conditional_losses, conv_bn__act_19_layer_call_fn, conv2d_20_layer_call_and_return_conditional_losses, conv2d_20_layer_call_fn, conv2d_14_layer_call_and_return_conditional_losses while saving (showing 5 of 95). These functions will not be directly callable after loading.\n",
            "WARNING:absl:Found untraced functions such as conv_bn__act_19_layer_call_and_return_conditional_losses, conv_bn__act_19_layer_call_fn, conv2d_20_layer_call_and_return_conditional_losses, conv2d_20_layer_call_fn, conv2d_14_layer_call_and_return_conditional_losses while saving (showing 5 of 95). These functions will not be directly callable after loading.\n"
          ],
          "name": "stderr"
        },
        {
          "output_type": "stream",
          "text": [
            "INFO:tensorflow:Assets written to: ckpt/_best_disc/assets\n"
          ],
          "name": "stdout"
        },
        {
          "output_type": "stream",
          "text": [
            "INFO:tensorflow:Assets written to: ckpt/_best_disc/assets\n"
          ],
          "name": "stderr"
        },
        {
          "output_type": "stream",
          "text": [
            "*** \t Testing:   roc_auc: 0.9771   average_precision: 0.2054 ***\n"
          ],
          "name": "stdout"
        },
        {
          "output_type": "display_data",
          "data": {
            "application/vnd.jupyter.widget-view+json": {
              "model_id": "e0a8226fc6264437a0052e70d6c372b8",
              "version_major": 2,
              "version_minor": 0
            },
            "text/plain": [
              "HBox(children=(FloatProgress(value=0.0, max=857.0), HTML(value='')))"
            ]
          },
          "metadata": {
            "tags": []
          }
        },
        {
          "output_type": "stream",
          "text": [
            "epoch: 31, G_losses: 144.2662, D_losses: 7.6246, samples/sec: 27.6858\n",
            "\rBest_state: 0.9770942408376964\n",
            "\t Testing:   roc_auc: 0.9751   average_precision: 0.1878\n"
          ],
          "name": "stdout"
        },
        {
          "output_type": "display_data",
          "data": {
            "application/vnd.jupyter.widget-view+json": {
              "model_id": "f8e97a418da9467cb1ce70e78fa45567",
              "version_major": 2,
              "version_minor": 0
            },
            "text/plain": [
              "HBox(children=(FloatProgress(value=0.0, max=857.0), HTML(value='')))"
            ]
          },
          "metadata": {
            "tags": []
          }
        },
        {
          "output_type": "stream",
          "text": [
            "epoch: 32, G_losses: 115.1969, D_losses: 7.6246, samples/sec: 27.5483\n",
            "\rBest_state: 0.9770942408376964\n",
            "\t Testing:   roc_auc: 0.9576   average_precision: 0.1286\n"
          ],
          "name": "stdout"
        },
        {
          "output_type": "display_data",
          "data": {
            "application/vnd.jupyter.widget-view+json": {
              "model_id": "00598cf7873e45c4a9ceff44f5e95dcd",
              "version_major": 2,
              "version_minor": 0
            },
            "text/plain": [
              "HBox(children=(FloatProgress(value=0.0, max=857.0), HTML(value='')))"
            ]
          },
          "metadata": {
            "tags": []
          }
        },
        {
          "output_type": "stream",
          "text": [
            "epoch: 33, G_losses: 105.4764, D_losses: 7.6246, samples/sec: 27.6841\n",
            "\rBest_state: 0.9770942408376964\n",
            "\t Testing:   roc_auc: 0.9314   average_precision: 0.1052\n"
          ],
          "name": "stdout"
        },
        {
          "output_type": "display_data",
          "data": {
            "application/vnd.jupyter.widget-view+json": {
              "model_id": "47c899a390e1436cab475cc32c5b501b",
              "version_major": 2,
              "version_minor": 0
            },
            "text/plain": [
              "HBox(children=(FloatProgress(value=0.0, max=857.0), HTML(value='')))"
            ]
          },
          "metadata": {
            "tags": []
          }
        },
        {
          "output_type": "stream",
          "text": [
            "epoch: 34, G_losses: 79545.0000, D_losses: 7.6246, samples/sec: 27.5310\n",
            "\rBest_state: 0.9770942408376964\n",
            "\t Testing:   roc_auc: 0.8523   average_precision: 0.0432\n"
          ],
          "name": "stdout"
        },
        {
          "output_type": "display_data",
          "data": {
            "application/vnd.jupyter.widget-view+json": {
              "model_id": "bbc06d12951a43d7879f6b0a4a8984b1",
              "version_major": 2,
              "version_minor": 0
            },
            "text/plain": [
              "HBox(children=(FloatProgress(value=0.0, max=857.0), HTML(value='')))"
            ]
          },
          "metadata": {
            "tags": []
          }
        },
        {
          "output_type": "stream",
          "text": [
            "epoch: 35, G_losses: 151.7235, D_losses: 7.6246, samples/sec: 27.5093\n",
            "\rBest_state: 0.9770942408376964\n",
            "\t Testing:   roc_auc: 0.8747   average_precision: 0.0646\n"
          ],
          "name": "stdout"
        },
        {
          "output_type": "display_data",
          "data": {
            "application/vnd.jupyter.widget-view+json": {
              "model_id": "7980161fa31a46f9b2ccb696a3ea5f4b",
              "version_major": 2,
              "version_minor": 0
            },
            "text/plain": [
              "HBox(children=(FloatProgress(value=0.0, max=857.0), HTML(value='')))"
            ]
          },
          "metadata": {
            "tags": []
          }
        },
        {
          "output_type": "stream",
          "text": [
            "epoch: 36, G_losses: 100.3114, D_losses: 7.6246, samples/sec: 27.6120\n",
            "\rBest_state: 0.9770942408376964\n",
            "\t Testing:   roc_auc: 0.8441   average_precision: 0.0366\n"
          ],
          "name": "stdout"
        },
        {
          "output_type": "display_data",
          "data": {
            "application/vnd.jupyter.widget-view+json": {
              "model_id": "ddc48be209e7450cadade80d53913ed3",
              "version_major": 2,
              "version_minor": 0
            },
            "text/plain": [
              "HBox(children=(FloatProgress(value=0.0, max=857.0), HTML(value='')))"
            ]
          },
          "metadata": {
            "tags": []
          }
        },
        {
          "output_type": "stream",
          "text": [
            "epoch: 37, G_losses: 84.1791, D_losses: 7.6246, samples/sec: 27.4352\n",
            "\rBest_state: 0.9770942408376964\n",
            "\t Testing:   roc_auc: 0.8645   average_precision: 0.0440\n"
          ],
          "name": "stdout"
        },
        {
          "output_type": "display_data",
          "data": {
            "application/vnd.jupyter.widget-view+json": {
              "model_id": "72b3c36c5b64432cae8bb643513e5712",
              "version_major": 2,
              "version_minor": 0
            },
            "text/plain": [
              "HBox(children=(FloatProgress(value=0.0, max=857.0), HTML(value='')))"
            ]
          },
          "metadata": {
            "tags": []
          }
        },
        {
          "output_type": "stream",
          "text": [
            "epoch: 38, G_losses: 78.1460, D_losses: 7.6246, samples/sec: 27.3698\n",
            "\rBest_state: 0.9770942408376964\n",
            "\t Testing:   roc_auc: 0.8830   average_precision: 0.0494\n"
          ],
          "name": "stdout"
        },
        {
          "output_type": "display_data",
          "data": {
            "application/vnd.jupyter.widget-view+json": {
              "model_id": "ef3e9403ada44ed1b1b8c3f93fff2a62",
              "version_major": 2,
              "version_minor": 0
            },
            "text/plain": [
              "HBox(children=(FloatProgress(value=0.0, max=857.0), HTML(value='')))"
            ]
          },
          "metadata": {
            "tags": []
          }
        },
        {
          "output_type": "stream",
          "text": [
            "epoch: 39, G_losses: 75.5333, D_losses: 7.6246, samples/sec: 27.6595\n",
            "\rBest_state: 0.9770942408376964\n",
            "\t Testing:   roc_auc: 0.9094   average_precision: 0.0831\n"
          ],
          "name": "stdout"
        },
        {
          "output_type": "display_data",
          "data": {
            "application/vnd.jupyter.widget-view+json": {
              "model_id": "2f4e222595f54d64b85c9109f734d7c9",
              "version_major": 2,
              "version_minor": 0
            },
            "text/plain": [
              "HBox(children=(FloatProgress(value=0.0, max=857.0), HTML(value='')))"
            ]
          },
          "metadata": {
            "tags": []
          }
        },
        {
          "output_type": "stream",
          "text": [
            "epoch: 40, G_losses: 74.2543, D_losses: 7.6246, samples/sec: 27.6236\n",
            "\rBest_state: 0.9770942408376964\n",
            "\t Testing:   roc_auc: 0.8110   average_precision: 0.0357\n"
          ],
          "name": "stdout"
        },
        {
          "output_type": "display_data",
          "data": {
            "application/vnd.jupyter.widget-view+json": {
              "model_id": "1fad2e4a0c8e46649e8e6101d9657596",
              "version_major": 2,
              "version_minor": 0
            },
            "text/plain": [
              "HBox(children=(FloatProgress(value=0.0, max=857.0), HTML(value='')))"
            ]
          },
          "metadata": {
            "tags": []
          }
        },
        {
          "output_type": "stream",
          "text": [
            "epoch: 41, G_losses: 76.1634, D_losses: 7.6246, samples/sec: 27.4246\n",
            "\rBest_state: 0.9770942408376964\n",
            "\t Testing:   roc_auc: 0.4997   average_precision: 0.0110\n"
          ],
          "name": "stdout"
        },
        {
          "output_type": "display_data",
          "data": {
            "application/vnd.jupyter.widget-view+json": {
              "model_id": "44a1fe0d783a464cb69eeab788d1c0cf",
              "version_major": 2,
              "version_minor": 0
            },
            "text/plain": [
              "HBox(children=(FloatProgress(value=0.0, max=857.0), HTML(value='')))"
            ]
          },
          "metadata": {
            "tags": []
          }
        },
        {
          "output_type": "stream",
          "text": [
            "epoch: 42, G_losses: 80.5546, D_losses: 7.6246, samples/sec: 27.5300\n",
            "\rBest_state: 0.9770942408376964\n",
            "\t Testing:   roc_auc: 0.9743   average_precision: 0.2099\n"
          ],
          "name": "stdout"
        },
        {
          "output_type": "display_data",
          "data": {
            "application/vnd.jupyter.widget-view+json": {
              "model_id": "fad6f5214f78409e9a06211eff2a3832",
              "version_major": 2,
              "version_minor": 0
            },
            "text/plain": [
              "HBox(children=(FloatProgress(value=0.0, max=857.0), HTML(value='')))"
            ]
          },
          "metadata": {
            "tags": []
          }
        },
        {
          "output_type": "stream",
          "text": [
            "epoch: 43, G_losses: 79.0764, D_losses: 7.6246, samples/sec: 27.4826\n",
            "\rBest_state: 0.9770942408376964\n",
            "\t Testing:   roc_auc: 0.7811   average_precision: 0.0558\n"
          ],
          "name": "stdout"
        },
        {
          "output_type": "display_data",
          "data": {
            "application/vnd.jupyter.widget-view+json": {
              "model_id": "bf5c3a2c60654b9084f29c7491c32dbf",
              "version_major": 2,
              "version_minor": 0
            },
            "text/plain": [
              "HBox(children=(FloatProgress(value=0.0, max=857.0), HTML(value='')))"
            ]
          },
          "metadata": {
            "tags": []
          }
        },
        {
          "output_type": "stream",
          "text": [
            "epoch: 44, G_losses: 76.9991, D_losses: 7.6246, samples/sec: 27.4295\n",
            "\rBest_state: 0.9770942408376964\n",
            "\t Testing:   roc_auc: 0.7269   average_precision: 0.0246\n"
          ],
          "name": "stdout"
        },
        {
          "output_type": "display_data",
          "data": {
            "application/vnd.jupyter.widget-view+json": {
              "model_id": "2b686f35bd3144f49dfde9877ec17532",
              "version_major": 2,
              "version_minor": 0
            },
            "text/plain": [
              "HBox(children=(FloatProgress(value=0.0, max=857.0), HTML(value='')))"
            ]
          },
          "metadata": {
            "tags": []
          }
        },
        {
          "output_type": "stream",
          "text": [
            "epoch: 45, G_losses: 74.2099, D_losses: 7.6246, samples/sec: 27.4453\n",
            "\rBest_state: 0.9770942408376964\n",
            "\t Testing:   roc_auc: 0.9570   average_precision: 0.1694\n"
          ],
          "name": "stdout"
        },
        {
          "output_type": "display_data",
          "data": {
            "application/vnd.jupyter.widget-view+json": {
              "model_id": "c20a17b9875640dbb3a42769535b9636",
              "version_minor": 0,
              "version_major": 2
            },
            "text/plain": [
              "HBox(children=(FloatProgress(value=0.0, max=857.0), HTML(value='')))"
            ]
          },
          "metadata": {
            "tags": []
          }
        },
        {
          "output_type": "stream",
          "text": [
            "epoch: 46, G_losses: 62.8406, D_losses: 7.6246, samples/sec: 27.4983\n",
            "\rBest_state: 0.9770942408376964\n",
            "\t Testing:   roc_auc: 0.6741   average_precision: 0.0320\n"
          ],
          "name": "stdout"
        },
        {
          "output_type": "display_data",
          "data": {
            "application/vnd.jupyter.widget-view+json": {
              "model_id": "49b89c072ef541d791eb5c312ad8cacc",
              "version_minor": 0,
              "version_major": 2
            },
            "text/plain": [
              "HBox(children=(FloatProgress(value=0.0, max=857.0), HTML(value='')))"
            ]
          },
          "metadata": {
            "tags": []
          }
        },
        {
          "output_type": "stream",
          "text": [
            "epoch: 47, G_losses: 2616876.5000, D_losses: 7.6246, samples/sec: 27.3512\n",
            "\rBest_state: 0.9770942408376964\n",
            "\t Testing:   roc_auc: 0.9368   average_precision: 0.1243\n"
          ],
          "name": "stdout"
        },
        {
          "output_type": "display_data",
          "data": {
            "application/vnd.jupyter.widget-view+json": {
              "model_id": "f162e483d79d41d19d00f2e84d3f22c2",
              "version_minor": 0,
              "version_major": 2
            },
            "text/plain": [
              "HBox(children=(FloatProgress(value=0.0, max=857.0), HTML(value='')))"
            ]
          },
          "metadata": {
            "tags": []
          }
        },
        {
          "output_type": "stream",
          "text": [
            "epoch: 48, G_losses: 279.6823, D_losses: 7.6246, samples/sec: 27.4067\n",
            "\rBest_state: 0.9770942408376964\n",
            "\t Testing:   roc_auc: 0.9401   average_precision: 0.0909\n"
          ],
          "name": "stdout"
        },
        {
          "output_type": "display_data",
          "data": {
            "application/vnd.jupyter.widget-view+json": {
              "model_id": "11f58153854f467a8153a5e5df05e20a",
              "version_minor": 0,
              "version_major": 2
            },
            "text/plain": [
              "HBox(children=(FloatProgress(value=0.0, max=857.0), HTML(value='')))"
            ]
          },
          "metadata": {
            "tags": []
          }
        },
        {
          "output_type": "stream",
          "text": [
            "epoch: 49, G_losses: 173.1062, D_losses: 7.6246, samples/sec: 27.4887\n",
            "\rBest_state: 0.9770942408376964\n",
            "\t Testing:   roc_auc: 0.9468   average_precision: 0.1129\n"
          ],
          "name": "stdout"
        }
      ]
    },
    {
      "cell_type": "code",
      "metadata": {
        "colab": {
          "base_uri": "https://localhost:8080/",
          "height": 573
        },
        "id": "z4XxkWJ_aY76",
        "outputId": "7b7a1fcc-d58f-4897-cbe2-95c0fc617693"
      },
      "source": [
        "ganomaly.evaluate_best(test_dataset)"
      ],
      "execution_count": 20,
      "outputs": [
        {
          "output_type": "display_data",
          "data": {
            "image/png": "[encoded data removed]",
            "text/plain": [
              "<Figure size 432x288 with 1 Axes>"
            ]
          },
          "metadata": {
            "tags": [],
            "needs_background": "light"
          }
        },
        {
          "output_type": "display_data",
          "data": {
            "image/png": "[encoded data removed]",
            "text/plain": [
              "<Figure size 432x288 with 1 Axes>"
            ]
          },
          "metadata": {
            "tags": [],
            "needs_background": "light"
          }
        }
      ]
    },
    {
      "cell_type": "markdown",
      "metadata": {
        "id": "HRM9pg1jEjJu"
      },
      "source": [
        "# Test"
      ]
    },
    {
      "cell_type": "code",
      "metadata": {
        "id": "WzQ-0GQQcCil"
      },
      "source": [
        "from PIL import Image as im"
      ],
      "execution_count": null,
      "outputs": []
    },
    {
      "cell_type": "code",
      "metadata": {
        "id": "oQcGLoOocFy6"
      },
      "source": [
        "# Load the last saved model\n",
        "D = tf.keras.models.load_model('ckpt/_best_disc')"
      ],
      "execution_count": null,
      "outputs": []
    },
    {
      "cell_type": "code",
      "metadata": {
        "colab": {
          "base_uri": "https://localhost:8080/"
        },
        "id": "03C0hLxUb47j",
        "outputId": "4065f7df-3c7d-4543-85ec-d913dc4fa54a"
      },
      "source": [
        "test_x = np.concatenate([x for x, y in test_dataset], axis=0)\n",
        "test_y = np.concatenate([y for x, y in test_dataset], axis=0)"
      ],
      "execution_count": null,
      "outputs": [
        {
          "output_type": "stream",
          "text": [
            "Saving to: ./output/\n"
          ],
          "name": "stdout"
        },
        {
          "output_type": "stream",
          "text": [
            "WARNING:absl:Found untraced functions such as conv_bn__act_layer_call_fn, conv_bn__act_layer_call_and_return_conditional_losses, conv2d_6_layer_call_fn, conv2d_6_layer_call_and_return_conditional_losses, conv_bn__act_6_layer_call_fn while saving (showing 5 of 260). These functions will not be directly callable after loading.\n",
            "WARNING:absl:Found untraced functions such as conv_bn__act_layer_call_fn, conv_bn__act_layer_call_and_return_conditional_losses, conv2d_6_layer_call_fn, conv2d_6_layer_call_and_return_conditional_losses, conv_bn__act_6_layer_call_fn while saving (showing 5 of 260). These functions will not be directly callable after loading.\n"
          ],
          "name": "stderr"
        },
        {
          "output_type": "stream",
          "text": [
            "INFO:tensorflow:Assets written to: ./output/gen/assets\n"
          ],
          "name": "stdout"
        },
        {
          "output_type": "stream",
          "text": [
            "INFO:tensorflow:Assets written to: ./output/gen/assets\n",
            "WARNING:absl:Found untraced functions such as conv_bn__act_19_layer_call_fn, conv_bn__act_19_layer_call_and_return_conditional_losses, conv2d_20_layer_call_fn, conv2d_20_layer_call_and_return_conditional_losses, conv2d_14_layer_call_fn while saving (showing 5 of 95). These functions will not be directly callable after loading.\n",
            "WARNING:absl:Found untraced functions such as conv_bn__act_19_layer_call_fn, conv_bn__act_19_layer_call_and_return_conditional_losses, conv2d_20_layer_call_fn, conv2d_20_layer_call_and_return_conditional_losses, conv2d_14_layer_call_fn while saving (showing 5 of 95). These functions will not be directly callable after loading.\n"
          ],
          "name": "stderr"
        },
        {
          "output_type": "stream",
          "text": [
            "INFO:tensorflow:Assets written to: ./output/disc/assets\n"
          ],
          "name": "stdout"
        },
        {
          "output_type": "stream",
          "text": [
            "INFO:tensorflow:Assets written to: ./output/disc/assets\n"
          ],
          "name": "stderr"
        }
      ]
    },
    {
      "cell_type": "code",
      "metadata": {
        "colab": {
          "base_uri": "https://localhost:8080/"
        },
        "id": "C1SWmsELTj_1",
        "outputId": "19d9486a-5b86-4fa6-e577-4f1bc172adc5"
      },
      "source": [
        "%pylab inline\n",
        "import matplotlib.pyplot as plt\n",
        "import matplotlib.image as mpimg\n",
        "img = np.reshape(test_x[19],(256,256)) # 3, 12, 18\n",
        "plt.imshow(img)\n",
        "plt.show()"
      ],
      "execution_count": 22,
      "outputs": [
        {
          "output_type": "stream",
          "text": [
            "WARNING:tensorflow:No training configuration found in save file, so the model was *not* compiled. Compile it manually.\n"
          ],
          "name": "stdout"
        },
        {
          "output_type": "stream",
          "text": [
            "WARNING:tensorflow:No training configuration found in save file, so the model was *not* compiled. Compile it manually.\n"
          ],
          "name": "stderr"
        }
      ]
    },
    {
      "cell_type": "code",
      "metadata": {
        "colab": {
          "base_uri": "https://localhost:8080/"
        },
        "id": "cm7ZLwI6WFBg",
        "outputId": "2fe6b665-5551-4870-c337-fe835039b77a"
      },
      "source": [
        "test_y"
      ],
      "execution_count": null,
      "outputs": [
        {
          "output_type": "execute_result",
          "data": {
            "text/plain": [
              "(256, 256, 1)"
            ]
          },
          "metadata": {
            "tags": []
          },
          "execution_count": 35
        }
      ]
    },
    {
      "cell_type": "code",
      "metadata": {
        "id": "12K_QS3QW0z0"
      },
      "source": [
        "D.predict(test_dataset)"
      ],
      "execution_count": null,
      "outputs": []
    }
  ]
}