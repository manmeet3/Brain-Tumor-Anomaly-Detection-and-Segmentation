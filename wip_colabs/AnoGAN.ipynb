{
  "nbformat": 4,
  "nbformat_minor": 0,
  "metadata": {
    "colab": {
      "name": "AnoGAN.ipynb",
      "provenance": [],
      "collapsed_sections": [],
      "authorship_tag": "ABX9TyMNmh1Az0GXmVBKA35r56xL",
      "include_colab_link": true
    },
    "kernelspec": {
      "name": "python3",
      "display_name": "Python 3"
    },
    "language_info": {
      "name": "python"
    },
    "accelerator": "GPU"
  },
  "cells": [
    {
      "cell_type": "markdown",
      "metadata": {
        "id": "view-in-github",
        "colab_type": "text"
      },
      "source": [
        "<a href=\"https://colab.research.google.com/github/manmeet3/Masters_Project/blob/master/wip_colabs/AnoGAN.ipynb\" target=\"_parent\"><img src=\"https://colab.research.google.com/assets/colab-badge.svg\" alt=\"Open In Colab\"/></a>"
      ]
    },
    {
      "cell_type": "code",
      "metadata": {
        "colab": {
          "base_uri": "https://localhost:8080/"
        },
        "id": "cKTDMPqGFIID",
        "outputId": "4de135f5-c6ff-4fd3-afd0-7d9e457b3f2b"
      },
      "source": [
        "from google.colab import drive\n",
        "drive.mount('/content/drive')"
      ],
      "execution_count": 2,
      "outputs": [
        {
          "output_type": "stream",
          "text": [
            "Mounted at /content/drive\n"
          ],
          "name": "stdout"
        }
      ]
    },
    {
      "cell_type": "code",
      "metadata": {
        "colab": {
          "base_uri": "https://localhost:8080/"
        },
        "id": "_fJqk_5XlAvJ",
        "outputId": "64208042-9ea2-48a2-d835-cdf9afeeb1ff"
      },
      "source": [
        "%cd '/content/drive/My Drive/Masters_Project/Datasets/new1'"
      ],
      "execution_count": null,
      "outputs": [
        {
          "output_type": "stream",
          "text": [
            "/content/drive/My Drive/Masters_Project/Datasets/new1\n"
          ],
          "name": "stdout"
        }
      ]
    },
    {
      "cell_type": "code",
      "metadata": {
        "colab": {
          "base_uri": "https://localhost:8080/"
        },
        "id": "n_i0l8ZxoPV1",
        "outputId": "56e228dd-62e3-40d2-c601-c9d55769b833"
      },
      "source": [
        "#!git clone https://github.com/tSchlegl/f-AnoGAN.git"
      ],
      "execution_count": null,
      "outputs": [
        {
          "output_type": "stream",
          "text": [
            "Cloning into 'f-AnoGAN'...\n",
            "remote: Enumerating objects: 59, done.\u001b[K\n",
            "remote: Total 59 (delta 0), reused 0 (delta 0), pack-reused 59\u001b[K\n",
            "Unpacking objects: 100% (59/59), done.\n"
          ],
          "name": "stdout"
        }
      ]
    },
    {
      "cell_type": "markdown",
      "metadata": {
        "id": "6fl713bRIYAK"
      },
      "source": [
        "pip install split_folders\n",
        "\n",
        "import split-folders\n",
        "\n",
        "input_folder = \"input_path\"\n",
        "\n",
        "output = \"output_path\" #where you want the split datasets saved. one will be created if none is set\n",
        "\n",
        "split_folders.ratio('input_folder', output=\"output\", seed=42, ratio=(.8, .1, .1)) "
      ]
    },
    {
      "cell_type": "markdown",
      "metadata": {
        "id": "xEbbkE_5KTjw"
      },
      "source": [
        "Convert jpg to png using PIL\n",
        "\n",
        "Remove jpg images from all dirs\n",
        "\n",
        "TODO: Chunk the MRI images into 64*64 images"
      ]
    },
    {
      "cell_type": "markdown",
      "metadata": {
        "id": "Ng2AgZE7fQxz"
      },
      "source": [
        "# f-anoGan-TF\n",
        "Input: MNIST 28 * 28 * 1 images from https://github.com/YeongHyeon/f-AnoGAN-TF/blob/master/source/datamanager.py\n",
        "\n",
        "https://github.com/Xiaohui9607/f_anogan_pytorch"
      ]
    },
    {
      "cell_type": "code",
      "metadata": {
        "id": "Sno3VyHJowrY"
      },
      "source": [
        "!ls"
      ],
      "execution_count": null,
      "outputs": []
    },
    {
      "cell_type": "code",
      "metadata": {
        "id": "e8l-RO6Ayr-Q"
      },
      "source": [
        ""
      ],
      "execution_count": null,
      "outputs": []
    }
  ]
}