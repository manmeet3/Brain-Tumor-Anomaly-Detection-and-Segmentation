{
  "nbformat": 4,
  "nbformat_minor": 0,
  "metadata": {
    "colab": {
      "name": "AnoGAN.ipynb",
      "provenance": [],
      "collapsed_sections": [],
      "authorship_tag": "ABX9TyNwArjKhcpQeSBxVyaFhzph",
      "include_colab_link": true
    },
    "kernelspec": {
      "name": "python3",
      "display_name": "Python 3"
    },
    "language_info": {
      "name": "python"
    },
    "accelerator": "GPU"
  },
  "cells": [
    {
      "cell_type": "markdown",
      "metadata": {
        "id": "view-in-github",
        "colab_type": "text"
      },
      "source": [
        "<a href=\"https://colab.research.google.com/github/manmeet3/Masters_Project/blob/master/wip_colabs/AnoGAN.ipynb\" target=\"_parent\"><img src=\"https://colab.research.google.com/assets/colab-badge.svg\" alt=\"Open In Colab\"/></a>"
      ]
    },
    {
      "cell_type": "code",
      "metadata": {
        "colab": {
          "base_uri": "https://localhost:8080/"
        },
        "id": "cKTDMPqGFIID",
        "outputId": "063073b3-f635-4a9f-b006-72b2f07760b2"
      },
      "source": [
        "from google.colab import drive\n",
        "drive.mount('/content/drive')"
      ],
      "execution_count": 1,
      "outputs": [
        {
          "output_type": "stream",
          "text": [
            "Mounted at /content/drive\n"
          ],
          "name": "stdout"
        }
      ]
    },
    {
      "cell_type": "code",
      "metadata": {
        "colab": {
          "base_uri": "https://localhost:8080/"
        },
        "id": "_fJqk_5XlAvJ",
        "outputId": "fdaf21fd-b3b8-4139-a0eb-acc7b80dcac1"
      },
      "source": [
        "%cd '/content/drive/My Drive/Masters_Project/Datasets/new1'"
      ],
      "execution_count": 2,
      "outputs": [
        {
          "output_type": "stream",
          "text": [
            "/content/drive/My Drive/Masters_Project/Datasets/new1\n"
          ],
          "name": "stdout"
        }
      ]
    },
    {
      "cell_type": "code",
      "metadata": {
        "colab": {
          "base_uri": "https://localhost:8080/"
        },
        "id": "n_i0l8ZxoPV1",
        "outputId": "56e228dd-62e3-40d2-c601-c9d55769b833"
      },
      "source": [
        "#!git clone https://github.com/tSchlegl/f-AnoGAN.git"
      ],
      "execution_count": null,
      "outputs": [
        {
          "output_type": "stream",
          "text": [
            "Cloning into 'f-AnoGAN'...\n",
            "remote: Enumerating objects: 59, done.\u001b[K\n",
            "remote: Total 59 (delta 0), reused 0 (delta 0), pack-reused 59\u001b[K\n",
            "Unpacking objects: 100% (59/59), done.\n"
          ],
          "name": "stdout"
        }
      ]
    },
    {
      "cell_type": "markdown",
      "metadata": {
        "id": "6fl713bRIYAK"
      },
      "source": [
        "pip install split_folders\n",
        "\n",
        "import split-folders\n",
        "\n",
        "input_folder = \"input_path\"\n",
        "\n",
        "output = \"output_path\" #where you want the split datasets saved. one will be created if none is set\n",
        "\n",
        "split_folders.ratio('input_folder', output=\"output\", seed=42, ratio=(.8, .1, .1)) "
      ]
    },
    {
      "cell_type": "markdown",
      "metadata": {
        "id": "xEbbkE_5KTjw"
      },
      "source": [
        "Convert jpg to png using PIL\n",
        "\n",
        "Remove jpg images from all dirs\n",
        "\n",
        "TODO: Chunk the MRI images into 64*64 images"
      ]
    },
    {
      "cell_type": "markdown",
      "metadata": {
        "id": "Ng2AgZE7fQxz"
      },
      "source": [
        "# f-anoGan-TF\n",
        "Input: MNIST 28 * 28 * 1 images from https://github.com/YeongHyeon/f-AnoGAN-TF/blob/master/source/datamanager.py\n",
        "\n",
        "https://github.com/Xiaohui9607/f_anogan_pytorch"
      ]
    },
    {
      "cell_type": "code",
      "metadata": {
        "id": "Sno3VyHJowrY"
      },
      "source": [
        "!ls"
      ],
      "execution_count": null,
      "outputs": []
    },
    {
      "cell_type": "code",
      "metadata": {
        "id": "e8l-RO6Ayr-Q"
      },
      "source": [
        "# pip install --user gast==0.2.2"
      ],
      "execution_count": null,
      "outputs": []
    },
    {
      "cell_type": "code",
      "metadata": {
        "id": "wMv_1WnvqBJK",
        "colab": {
          "base_uri": "https://localhost:8080/"
        },
        "outputId": "af5502d4-4b58-4a59-eebe-5444087fab45"
      },
      "source": [
        "import tensorflow as tf"
      ],
      "execution_count": null,
      "outputs": [
        {
          "output_type": "stream",
          "text": [
            "/usr/local/lib/python3.7/dist-packages/tensorflow/python/framework/dtypes.py:516: FutureWarning: Passing (type, 1) or '1type' as a synonym of type is deprecated; in a future version of numpy, it will be understood as (type, (1,)) / '(1,)type'.\n",
            "  _np_qint8 = np.dtype([(\"qint8\", np.int8, 1)])\n",
            "/usr/local/lib/python3.7/dist-packages/tensorflow/python/framework/dtypes.py:517: FutureWarning: Passing (type, 1) or '1type' as a synonym of type is deprecated; in a future version of numpy, it will be understood as (type, (1,)) / '(1,)type'.\n",
            "  _np_quint8 = np.dtype([(\"quint8\", np.uint8, 1)])\n",
            "/usr/local/lib/python3.7/dist-packages/tensorflow/python/framework/dtypes.py:518: FutureWarning: Passing (type, 1) or '1type' as a synonym of type is deprecated; in a future version of numpy, it will be understood as (type, (1,)) / '(1,)type'.\n",
            "  _np_qint16 = np.dtype([(\"qint16\", np.int16, 1)])\n",
            "/usr/local/lib/python3.7/dist-packages/tensorflow/python/framework/dtypes.py:519: FutureWarning: Passing (type, 1) or '1type' as a synonym of type is deprecated; in a future version of numpy, it will be understood as (type, (1,)) / '(1,)type'.\n",
            "  _np_quint16 = np.dtype([(\"quint16\", np.uint16, 1)])\n",
            "/usr/local/lib/python3.7/dist-packages/tensorflow/python/framework/dtypes.py:520: FutureWarning: Passing (type, 1) or '1type' as a synonym of type is deprecated; in a future version of numpy, it will be understood as (type, (1,)) / '(1,)type'.\n",
            "  _np_qint32 = np.dtype([(\"qint32\", np.int32, 1)])\n",
            "/usr/local/lib/python3.7/dist-packages/tensorflow/python/framework/dtypes.py:525: FutureWarning: Passing (type, 1) or '1type' as a synonym of type is deprecated; in a future version of numpy, it will be understood as (type, (1,)) / '(1,)type'.\n",
            "  np_resource = np.dtype([(\"resource\", np.ubyte, 1)])\n",
            "/usr/local/lib/python3.7/dist-packages/tensorboard/compat/tensorflow_stub/dtypes.py:541: FutureWarning: Passing (type, 1) or '1type' as a synonym of type is deprecated; in a future version of numpy, it will be understood as (type, (1,)) / '(1,)type'.\n",
            "  _np_qint8 = np.dtype([(\"qint8\", np.int8, 1)])\n",
            "/usr/local/lib/python3.7/dist-packages/tensorboard/compat/tensorflow_stub/dtypes.py:542: FutureWarning: Passing (type, 1) or '1type' as a synonym of type is deprecated; in a future version of numpy, it will be understood as (type, (1,)) / '(1,)type'.\n",
            "  _np_quint8 = np.dtype([(\"quint8\", np.uint8, 1)])\n",
            "/usr/local/lib/python3.7/dist-packages/tensorboard/compat/tensorflow_stub/dtypes.py:543: FutureWarning: Passing (type, 1) or '1type' as a synonym of type is deprecated; in a future version of numpy, it will be understood as (type, (1,)) / '(1,)type'.\n",
            "  _np_qint16 = np.dtype([(\"qint16\", np.int16, 1)])\n",
            "/usr/local/lib/python3.7/dist-packages/tensorboard/compat/tensorflow_stub/dtypes.py:544: FutureWarning: Passing (type, 1) or '1type' as a synonym of type is deprecated; in a future version of numpy, it will be understood as (type, (1,)) / '(1,)type'.\n",
            "  _np_quint16 = np.dtype([(\"quint16\", np.uint16, 1)])\n",
            "/usr/local/lib/python3.7/dist-packages/tensorboard/compat/tensorflow_stub/dtypes.py:545: FutureWarning: Passing (type, 1) or '1type' as a synonym of type is deprecated; in a future version of numpy, it will be understood as (type, (1,)) / '(1,)type'.\n",
            "  _np_qint32 = np.dtype([(\"qint32\", np.int32, 1)])\n",
            "/usr/local/lib/python3.7/dist-packages/tensorboard/compat/tensorflow_stub/dtypes.py:550: FutureWarning: Passing (type, 1) or '1type' as a synonym of type is deprecated; in a future version of numpy, it will be understood as (type, (1,)) / '(1,)type'.\n",
            "  np_resource = np.dtype([(\"resource\", np.ubyte, 1)])\n"
          ],
          "name": "stderr"
        }
      ]
    },
    {
      "cell_type": "code",
      "metadata": {
        "id": "ldqd-nQzqWYo"
      },
      "source": [
        "(x_tr, y_tr), (x_te, y_te) = tf.keras.datasets.mnist.load_data()"
      ],
      "execution_count": null,
      "outputs": []
    },
    {
      "cell_type": "code",
      "metadata": {
        "id": "O8MdHEARqao4",
        "colab": {
          "base_uri": "https://localhost:8080/"
        },
        "outputId": "0ce0f32c-ff85-4dcd-ce95-e7a019a8f622"
      },
      "source": [
        "x_tr.shape"
      ],
      "execution_count": null,
      "outputs": [
        {
          "output_type": "execute_result",
          "data": {
            "text/plain": [
              "(60000, 28, 28)"
            ]
          },
          "metadata": {
            "tags": []
          },
          "execution_count": 7
        }
      ]
    },
    {
      "cell_type": "code",
      "metadata": {
        "id": "Mk2GTW3gqcNA",
        "colab": {
          "base_uri": "https://localhost:8080/"
        },
        "outputId": "1327cac2-3d71-4939-ea93-14a5410c1ea9"
      },
      "source": [
        "y_tr.shape"
      ],
      "execution_count": null,
      "outputs": [
        {
          "output_type": "execute_result",
          "data": {
            "text/plain": [
              "(60000,)"
            ]
          },
          "metadata": {
            "tags": []
          },
          "execution_count": 8
        }
      ]
    },
    {
      "cell_type": "markdown",
      "metadata": {
        "id": "JwehJPZTqhiM"
      },
      "source": [
        "# Reshape all images in the kaggle tumor dataset folder to be same dimensions\n",
        "Use fastai augmentations and output images to respective folders\n",
        "\n",
        "512 * 512"
      ]
    },
    {
      "cell_type": "markdown",
      "metadata": {
        "id": "fRhjHO2kk9yI"
      },
      "source": [
        ""
      ]
    },
    {
      "cell_type": "code",
      "metadata": {
        "id": "Q-yX57lFkRBj"
      },
      "source": [
        "import glob\n",
        "yes_files = glob.glob('./kaggle_tumor_detection/brain_tumor_dataset/yes/*')\n",
        "no_files = glob.glob('./kaggle_tumor_detection/brain_tumor_dataset/no/*')"
      ],
      "execution_count": 23,
      "outputs": []
    },
    {
      "cell_type": "code",
      "metadata": {
        "id": "r_mpYD9nqfMp"
      },
      "source": [
        "# https://stackoverflow.com/questions/273946/how-do-i-resize-an-image-using-pil-and-maintain-its-aspect-ratio\n",
        "# https://docs.fast.ai/vision.augment.html\n",
        "import os, sys\n",
        "from PIL import Image\n",
        "\n",
        "size = 512, 512\n",
        "\n",
        "def save_resized_images(file_paths_list, output_relative_path):\n",
        "  for infile in file_paths_list:\n",
        "    #outfile = os.path.splitext(infile)[0] + \".jpeg\"\n",
        "    filename = os.path.basename(infile)\n",
        "    outfile = output_relative_path + filename\n",
        "    print(outfile)\n",
        "    if infile != outfile:\n",
        "        try:\n",
        "            im = Image.open(infile)\n",
        "            im.thumbnail(size, Image.ANTIALIAS)\n",
        "            im.save(outfile, \"JPEG\")\n",
        "        except IOError:\n",
        "            print (\"cannot create thumbnail for '%s'\" % infile)"
      ],
      "execution_count": 31,
      "outputs": []
    },
    {
      "cell_type": "code",
      "metadata": {
        "colab": {
          "base_uri": "https://localhost:8080/"
        },
        "id": "kuScoIQYpueo",
        "outputId": "47b408a3-93aa-4367-f442-717d9590ee42"
      },
      "source": [
        "save_resized_images(yes_files, \"./kaggle_tumor_detection/resized_yes/\")"
      ],
      "execution_count": 32,
      "outputs": [
        {
          "output_type": "stream",
          "text": [
            "./kaggle_tumor_detection/resized_yes/Y46.jpg\n",
            "./kaggle_tumor_detection/resized_yes/Y81.jpg\n",
            "./kaggle_tumor_detection/resized_yes/Y71.JPG\n",
            "./kaggle_tumor_detection/resized_yes/Y252.jpg\n",
            "./kaggle_tumor_detection/resized_yes/Y4.jpg\n",
            "./kaggle_tumor_detection/resized_yes/Y155.JPG\n",
            "./kaggle_tumor_detection/resized_yes/Y188.jpg\n",
            "./kaggle_tumor_detection/resized_yes/Y258.JPG\n",
            "./kaggle_tumor_detection/resized_yes/Y47.JPG\n",
            "./kaggle_tumor_detection/resized_yes/Y28.jpg\n",
            "./kaggle_tumor_detection/resized_yes/Y34.jpg\n",
            "./kaggle_tumor_detection/resized_yes/Y156.JPG\n",
            "./kaggle_tumor_detection/resized_yes/Y256.JPG\n",
            "./kaggle_tumor_detection/resized_yes/Y20.jpg\n",
            "./kaggle_tumor_detection/resized_yes/Y91.jpg\n",
            "./kaggle_tumor_detection/resized_yes/Y259.JPG\n",
            "./kaggle_tumor_detection/resized_yes/Y2.jpg\n",
            "./kaggle_tumor_detection/resized_yes/Y113.JPG\n",
            "./kaggle_tumor_detection/resized_yes/Y148.JPG\n",
            "./kaggle_tumor_detection/resized_yes/Y62.jpg\n",
            "./kaggle_tumor_detection/resized_yes/Y6.jpg\n",
            "./kaggle_tumor_detection/resized_yes/Y61.jpg\n",
            "./kaggle_tumor_detection/resized_yes/Y186.jpg\n",
            "./kaggle_tumor_detection/resized_yes/Y19.JPG\n",
            "./kaggle_tumor_detection/resized_yes/Y69.jpg\n",
            "./kaggle_tumor_detection/resized_yes/Y70.jpg\n",
            "./kaggle_tumor_detection/resized_yes/Y86.JPG\n",
            "./kaggle_tumor_detection/resized_yes/Y55.jpg\n",
            "./kaggle_tumor_detection/resized_yes/Y247.JPG\n",
            "./kaggle_tumor_detection/resized_yes/Y98.JPG\n",
            "./kaggle_tumor_detection/resized_yes/Y249.JPG\n",
            "./kaggle_tumor_detection/resized_yes/Y195.JPG\n",
            "./kaggle_tumor_detection/resized_yes/Y184.JPG\n",
            "./kaggle_tumor_detection/resized_yes/Y45.JPG\n",
            "./kaggle_tumor_detection/resized_yes/Y23.JPG\n",
            "./kaggle_tumor_detection/resized_yes/Y106.jpg\n",
            "./kaggle_tumor_detection/resized_yes/Y14.jpg\n",
            "./kaggle_tumor_detection/resized_yes/Y29.jpg\n",
            "./kaggle_tumor_detection/resized_yes/Y59.JPG\n",
            "./kaggle_tumor_detection/resized_yes/Y193.JPG\n",
            "./kaggle_tumor_detection/resized_yes/Y164.JPG\n",
            "./kaggle_tumor_detection/resized_yes/Y18.JPG\n",
            "./kaggle_tumor_detection/resized_yes/Y77.jpg\n",
            "./kaggle_tumor_detection/resized_yes/Y9.jpg\n",
            "./kaggle_tumor_detection/resized_yes/Y1.jpg\n",
            "./kaggle_tumor_detection/resized_yes/Y245.jpg\n",
            "./kaggle_tumor_detection/resized_yes/Y66.JPG\n",
            "./kaggle_tumor_detection/resized_yes/Y79.jpg\n",
            "./kaggle_tumor_detection/resized_yes/Y50.JPG\n",
            "./kaggle_tumor_detection/resized_yes/Y12.jpg\n",
            "./kaggle_tumor_detection/resized_yes/Y157.JPG\n",
            "./kaggle_tumor_detection/resized_yes/Y254.jpg\n",
            "./kaggle_tumor_detection/resized_yes/Y58.JPG\n",
            "./kaggle_tumor_detection/resized_yes/Y183.jpg\n",
            "./kaggle_tumor_detection/resized_yes/Y21.jpg\n",
            "./kaggle_tumor_detection/resized_yes/Y120.JPG\n",
            "./kaggle_tumor_detection/resized_yes/Y36.JPG\n",
            "./kaggle_tumor_detection/resized_yes/Y192.JPG\n",
            "./kaggle_tumor_detection/resized_yes/Y146.JPG\n",
            "./kaggle_tumor_detection/resized_yes/Y37.jpg\n",
            "./kaggle_tumor_detection/resized_yes/Y160.JPG\n",
            "./kaggle_tumor_detection/resized_yes/Y115.JPG\n",
            "./kaggle_tumor_detection/resized_yes/Y53.jpg\n",
            "./kaggle_tumor_detection/resized_yes/Y147.JPG\n",
            "./kaggle_tumor_detection/resized_yes/Y8.jpg\n",
            "./kaggle_tumor_detection/resized_yes/Y27.jpg\n",
            "./kaggle_tumor_detection/resized_yes/Y90.jpg\n",
            "./kaggle_tumor_detection/resized_yes/Y67.JPG\n",
            "./kaggle_tumor_detection/resized_yes/Y49.JPG\n",
            "./kaggle_tumor_detection/resized_yes/Y13.jpg\n",
            "./kaggle_tumor_detection/resized_yes/Y101.jpg\n",
            "./kaggle_tumor_detection/resized_yes/Y107.jpg\n",
            "./kaggle_tumor_detection/resized_yes/Y182.JPG\n",
            "./kaggle_tumor_detection/resized_yes/Y38.jpg\n",
            "./kaggle_tumor_detection/resized_yes/Y169.jpg\n",
            "./kaggle_tumor_detection/resized_yes/Y246.JPG\n",
            "./kaggle_tumor_detection/resized_yes/Y42.jpg\n",
            "./kaggle_tumor_detection/resized_yes/Y95.jpg\n",
            "./kaggle_tumor_detection/resized_yes/Y257.jpg\n",
            "./kaggle_tumor_detection/resized_yes/Y22.jpg\n",
            "./kaggle_tumor_detection/resized_yes/Y85.JPG\n",
            "./kaggle_tumor_detection/resized_yes/Y15.jpg\n",
            "./kaggle_tumor_detection/resized_yes/Y73.jpg\n",
            "./kaggle_tumor_detection/resized_yes/Y248.JPG\n",
            "./kaggle_tumor_detection/resized_yes/Y82.jpg\n",
            "./kaggle_tumor_detection/resized_yes/Y181.jpg\n",
            "./kaggle_tumor_detection/resized_yes/Y111.JPG\n",
            "./kaggle_tumor_detection/resized_yes/Y100.JPG\n",
            "./kaggle_tumor_detection/resized_yes/Y162.jpg\n",
            "./kaggle_tumor_detection/resized_yes/Y117.JPG\n",
            "./kaggle_tumor_detection/resized_yes/Y161.JPG\n",
            "./kaggle_tumor_detection/resized_yes/Y11.jpg\n",
            "./kaggle_tumor_detection/resized_yes/Y108.jpg\n",
            "./kaggle_tumor_detection/resized_yes/Y167.JPG\n",
            "./kaggle_tumor_detection/resized_yes/Y244.JPG\n",
            "./kaggle_tumor_detection/resized_yes/Y170.JPG\n",
            "./kaggle_tumor_detection/resized_yes/Y103.jpg\n",
            "./kaggle_tumor_detection/resized_yes/Y33.jpg\n",
            "./kaggle_tumor_detection/resized_yes/Y163.JPG\n",
            "./kaggle_tumor_detection/resized_yes/Y180.jpg\n",
            "./kaggle_tumor_detection/resized_yes/Y25.jpg\n",
            "./kaggle_tumor_detection/resized_yes/Y109.JPG\n",
            "./kaggle_tumor_detection/resized_yes/Y99.JPG\n",
            "./kaggle_tumor_detection/resized_yes/Y97.JPG\n",
            "./kaggle_tumor_detection/resized_yes/Y3.jpg\n",
            "./kaggle_tumor_detection/resized_yes/Y26.jpg\n",
            "./kaggle_tumor_detection/resized_yes/Y168.jpg\n",
            "./kaggle_tumor_detection/resized_yes/Y24.jpg\n",
            "./kaggle_tumor_detection/resized_yes/Y30.jpg\n",
            "./kaggle_tumor_detection/resized_yes/Y165.JPG\n",
            "./kaggle_tumor_detection/resized_yes/Y153.jpg\n",
            "./kaggle_tumor_detection/resized_yes/Y7.jpg\n",
            "./kaggle_tumor_detection/resized_yes/Y194.jpg\n",
            "./kaggle_tumor_detection/resized_yes/Y52.jpg\n",
            "./kaggle_tumor_detection/resized_yes/Y96.jpg\n",
            "./kaggle_tumor_detection/resized_yes/Y114.JPG\n",
            "./kaggle_tumor_detection/resized_yes/Y44.JPG\n",
            "./kaggle_tumor_detection/resized_yes/Y242.JPG\n",
            "./kaggle_tumor_detection/resized_yes/Y40.JPG\n",
            "./kaggle_tumor_detection/resized_yes/Y17.jpg\n",
            "./kaggle_tumor_detection/resized_yes/Y32.jpg\n",
            "./kaggle_tumor_detection/resized_yes/Y35.jpg\n",
            "./kaggle_tumor_detection/resized_yes/Y54.jpg\n",
            "./kaggle_tumor_detection/resized_yes/Y255.JPG\n",
            "./kaggle_tumor_detection/resized_yes/Y154.jpg\n",
            "./kaggle_tumor_detection/resized_yes/Y89.JPG\n",
            "./kaggle_tumor_detection/resized_yes/Y243.JPG\n",
            "./kaggle_tumor_detection/resized_yes/Y104.jpg\n",
            "./kaggle_tumor_detection/resized_yes/Y112.JPG\n",
            "./kaggle_tumor_detection/resized_yes/Y65.JPG\n",
            "./kaggle_tumor_detection/resized_yes/Y253.JPG\n",
            "./kaggle_tumor_detection/resized_yes/Y250.jpg\n",
            "./kaggle_tumor_detection/resized_yes/Y10.jpg\n",
            "./kaggle_tumor_detection/resized_yes/Y41.jpg\n",
            "./kaggle_tumor_detection/resized_yes/Y74.jpg\n",
            "./kaggle_tumor_detection/resized_yes/Y60.jpg\n",
            "./kaggle_tumor_detection/resized_yes/Y92.png\n",
            "./kaggle_tumor_detection/resized_yes/Y102.jpg\n",
            "./kaggle_tumor_detection/resized_yes/Y31.jpg\n",
            "./kaggle_tumor_detection/resized_yes/Y159.JPG\n",
            "./kaggle_tumor_detection/resized_yes/Y78.jpg\n",
            "./kaggle_tumor_detection/resized_yes/Y105.jpg\n",
            "./kaggle_tumor_detection/resized_yes/Y158.JPG\n",
            "./kaggle_tumor_detection/resized_yes/Y187.jpg\n",
            "./kaggle_tumor_detection/resized_yes/Y39.jpg\n",
            "./kaggle_tumor_detection/resized_yes/Y166.JPG\n",
            "./kaggle_tumor_detection/resized_yes/Y56.jpg\n",
            "./kaggle_tumor_detection/resized_yes/Y76.jpg\n",
            "./kaggle_tumor_detection/resized_yes/Y92.jpg\n",
            "./kaggle_tumor_detection/resized_yes/Y51.jpg\n",
            "./kaggle_tumor_detection/resized_yes/Y185.jpg\n",
            "./kaggle_tumor_detection/resized_yes/Y116.JPG\n",
            "./kaggle_tumor_detection/resized_yes/Y251.JPG\n",
            "./kaggle_tumor_detection/resized_yes/Y16.JPG\n",
            "./kaggle_tumor_detection/resized_yes/Y75.JPG\n"
          ],
          "name": "stdout"
        }
      ]
    },
    {
      "cell_type": "code",
      "metadata": {
        "colab": {
          "base_uri": "https://localhost:8080/"
        },
        "id": "2yYDxpCls-OL",
        "outputId": "1a7fb814-3956-4412-b9bd-c2025354531c"
      },
      "source": [
        "!ls \"./kaggle_tumor_detection/resized_yes/\""
      ],
      "execution_count": 33,
      "outputs": [
        {
          "output_type": "stream",
          "text": [
            "Y100.JPG  Y12.jpg   Y166.JPG  Y195.JPG\tY254.jpg  Y38.jpg  Y59.JPG  Y82.jpg\n",
            "Y101.jpg  Y13.jpg   Y167.JPG  Y19.JPG\tY255.JPG  Y39.jpg  Y60.jpg  Y85.JPG\n",
            "Y102.jpg  Y146.JPG  Y168.jpg  Y1.jpg\tY256.JPG  Y3.jpg   Y61.jpg  Y86.JPG\n",
            "Y103.jpg  Y147.JPG  Y169.jpg  Y20.jpg\tY257.jpg  Y40.JPG  Y62.jpg  Y89.JPG\n",
            "Y104.jpg  Y148.JPG  Y16.JPG   Y21.jpg\tY258.JPG  Y41.jpg  Y65.JPG  Y8.jpg\n",
            "Y105.jpg  Y14.jpg   Y170.JPG  Y22.jpg\tY259.JPG  Y42.jpg  Y66.JPG  Y90.jpg\n",
            "Y106.jpg  Y153.jpg  Y17.jpg   Y23.JPG\tY25.jpg   Y44.JPG  Y67.JPG  Y91.jpg\n",
            "Y107.jpg  Y154.jpg  Y180.jpg  Y242.JPG\tY26.jpg   Y45.JPG  Y69.jpg  Y92.jpg\n",
            "Y108.jpg  Y155.JPG  Y181.jpg  Y243.JPG\tY27.jpg   Y46.jpg  Y6.jpg   Y92.png\n",
            "Y109.JPG  Y156.JPG  Y182.JPG  Y244.JPG\tY28.jpg   Y47.JPG  Y70.jpg  Y95.jpg\n",
            "Y10.jpg   Y157.JPG  Y183.jpg  Y245.jpg\tY29.jpg   Y49.JPG  Y71.JPG  Y96.jpg\n",
            "Y111.JPG  Y158.JPG  Y184.JPG  Y246.JPG\tY2.jpg\t  Y4.jpg   Y73.jpg  Y97.JPG\n",
            "Y112.JPG  Y159.JPG  Y185.jpg  Y247.JPG\tY30.jpg   Y50.JPG  Y74.jpg  Y98.JPG\n",
            "Y113.JPG  Y15.jpg   Y186.jpg  Y248.JPG\tY31.jpg   Y51.jpg  Y75.JPG  Y99.JPG\n",
            "Y114.JPG  Y160.JPG  Y187.jpg  Y249.JPG\tY32.jpg   Y52.jpg  Y76.jpg  Y9.jpg\n",
            "Y115.JPG  Y161.JPG  Y188.jpg  Y24.jpg\tY33.jpg   Y53.jpg  Y77.jpg\n",
            "Y116.JPG  Y162.jpg  Y18.JPG   Y250.jpg\tY34.jpg   Y54.jpg  Y78.jpg\n",
            "Y117.JPG  Y163.JPG  Y192.JPG  Y251.JPG\tY35.jpg   Y55.jpg  Y79.jpg\n",
            "Y11.jpg   Y164.JPG  Y193.JPG  Y252.jpg\tY36.JPG   Y56.jpg  Y7.jpg\n",
            "Y120.JPG  Y165.JPG  Y194.jpg  Y253.JPG\tY37.jpg   Y58.JPG  Y81.jpg\n"
          ],
          "name": "stdout"
        }
      ]
    },
    {
      "cell_type": "code",
      "metadata": {
        "colab": {
          "base_uri": "https://localhost:8080/"
        },
        "id": "p4f_i8rLtBIj",
        "outputId": "535d8cf7-9c47-45f6-d098-8a5e15225693"
      },
      "source": [
        "save_resized_images(no_files, \"./kaggle_tumor_detection/resized_no/\")"
      ],
      "execution_count": 34,
      "outputs": [
        {
          "output_type": "stream",
          "text": [
            "./kaggle_tumor_detection/resized_no/10 no.jpg\n",
            "./kaggle_tumor_detection/resized_no/1 no.jpeg\n",
            "./kaggle_tumor_detection/resized_no/11 no.jpg\n",
            "./kaggle_tumor_detection/resized_no/7 no.jpg\n",
            "./kaggle_tumor_detection/resized_no/37 no.jpg\n",
            "./kaggle_tumor_detection/resized_no/44no.jpg\n",
            "./kaggle_tumor_detection/resized_no/45 no.jpg\n",
            "./kaggle_tumor_detection/resized_no/N16.jpg\n",
            "./kaggle_tumor_detection/resized_no/N22.JPG\n",
            "./kaggle_tumor_detection/resized_no/2 no.jpeg\n",
            "./kaggle_tumor_detection/resized_no/48 no.jpeg\n",
            "./kaggle_tumor_detection/resized_no/33 no.jpg\n",
            "./kaggle_tumor_detection/resized_no/3 no.jpg\n",
            "./kaggle_tumor_detection/resized_no/41 no.jpg\n",
            "./kaggle_tumor_detection/resized_no/35 no.jpg\n",
            "./kaggle_tumor_detection/resized_no/43 no.jpg\n",
            "./kaggle_tumor_detection/resized_no/42 no.jpg\n",
            "./kaggle_tumor_detection/resized_no/22 no.jpg\n",
            "./kaggle_tumor_detection/resized_no/28 no.jpg\n",
            "./kaggle_tumor_detection/resized_no/23 no.jpg\n",
            "./kaggle_tumor_detection/resized_no/15 no.jpg\n",
            "./kaggle_tumor_detection/resized_no/24 no.jpg\n",
            "./kaggle_tumor_detection/resized_no/36 no.jpg\n",
            "./kaggle_tumor_detection/resized_no/14 no.jpg\n",
            "./kaggle_tumor_detection/resized_no/N17.jpg\n",
            "./kaggle_tumor_detection/resized_no/12 no.jpg\n",
            "./kaggle_tumor_detection/resized_no/18 no.jpg\n",
            "./kaggle_tumor_detection/resized_no/N2.JPG\n",
            "./kaggle_tumor_detection/resized_no/46 no.jpg\n",
            "./kaggle_tumor_detection/resized_no/30 no.jpg\n",
            "./kaggle_tumor_detection/resized_no/13 no.jpg\n",
            "./kaggle_tumor_detection/resized_no/50 no.jpg\n",
            "./kaggle_tumor_detection/resized_no/38 no.jpg\n",
            "./kaggle_tumor_detection/resized_no/N15.jpg\n",
            "./kaggle_tumor_detection/resized_no/9 no.jpg\n",
            "./kaggle_tumor_detection/resized_no/N21.jpg\n",
            "./kaggle_tumor_detection/resized_no/N19.JPG\n",
            "./kaggle_tumor_detection/resized_no/40 no.jpg\n",
            "./kaggle_tumor_detection/resized_no/39 no.jpg\n",
            "./kaggle_tumor_detection/resized_no/N1.JPG\n",
            "./kaggle_tumor_detection/resized_no/32 no.jpg\n",
            "./kaggle_tumor_detection/resized_no/34 no.jpg\n",
            "./kaggle_tumor_detection/resized_no/5 no.jpg\n",
            "./kaggle_tumor_detection/resized_no/47 no.jpg\n",
            "./kaggle_tumor_detection/resized_no/26 no.jpg\n",
            "./kaggle_tumor_detection/resized_no/17 no.jpg\n",
            "./kaggle_tumor_detection/resized_no/27 no.jpg\n",
            "./kaggle_tumor_detection/resized_no/4 no.jpg\n",
            "./kaggle_tumor_detection/resized_no/19 no.jpg\n",
            "./kaggle_tumor_detection/resized_no/8 no.jpg\n",
            "./kaggle_tumor_detection/resized_no/N11.jpg\n",
            "./kaggle_tumor_detection/resized_no/49 no.jpg\n",
            "./kaggle_tumor_detection/resized_no/21 no.jpg\n",
            "./kaggle_tumor_detection/resized_no/N20.JPG\n",
            "./kaggle_tumor_detection/resized_no/20 no.jpg\n",
            "./kaggle_tumor_detection/resized_no/29 no.jpg\n",
            "./kaggle_tumor_detection/resized_no/6 no.jpg\n",
            "./kaggle_tumor_detection/resized_no/31 no.jpg\n",
            "./kaggle_tumor_detection/resized_no/25 no.jpg\n",
            "./kaggle_tumor_detection/resized_no/no 8.jpg\n",
            "./kaggle_tumor_detection/resized_no/No14.jpg\n",
            "./kaggle_tumor_detection/resized_no/N5.jpg\n",
            "./kaggle_tumor_detection/resized_no/no 1.jpg\n",
            "./kaggle_tumor_detection/resized_no/No12.jpg\n",
            "./kaggle_tumor_detection/resized_no/No18.jpg\n",
            "cannot create thumbnail for './kaggle_tumor_detection/brain_tumor_dataset/no/No18.jpg'\n",
            "./kaggle_tumor_detection/resized_no/N26.JPG\n",
            "./kaggle_tumor_detection/resized_no/no 95.jpg\n",
            "./kaggle_tumor_detection/resized_no/no 100.jpg\n",
            "./kaggle_tumor_detection/resized_no/N3.jpg\n",
            "./kaggle_tumor_detection/resized_no/No22.jpg\n",
            "./kaggle_tumor_detection/resized_no/no 96.jpg\n",
            "cannot create thumbnail for './kaggle_tumor_detection/brain_tumor_dataset/no/no 96.jpg'\n",
            "./kaggle_tumor_detection/resized_no/no 10.jpg\n",
            "./kaggle_tumor_detection/resized_no/no 91.jpeg\n",
            "./kaggle_tumor_detection/resized_no/no 6.jpg\n",
            "./kaggle_tumor_detection/resized_no/no 5.jpeg\n",
            "./kaggle_tumor_detection/resized_no/no 9.png\n",
            "./kaggle_tumor_detection/resized_no/no 4.jpg\n",
            "./kaggle_tumor_detection/resized_no/No21.jpg\n",
            "./kaggle_tumor_detection/resized_no/no 98.jpg\n",
            "cannot create thumbnail for './kaggle_tumor_detection/brain_tumor_dataset/no/no 98.jpg'\n",
            "./kaggle_tumor_detection/resized_no/no 923.jpg\n",
            "./kaggle_tumor_detection/resized_no/No15.jpg\n",
            "cannot create thumbnail for './kaggle_tumor_detection/brain_tumor_dataset/no/No15.jpg'\n",
            "./kaggle_tumor_detection/resized_no/no 7.jpeg\n",
            "./kaggle_tumor_detection/resized_no/No11.jpg\n",
            "./kaggle_tumor_detection/resized_no/No19.jpg\n",
            "./kaggle_tumor_detection/resized_no/no 90.jpg\n",
            "./kaggle_tumor_detection/resized_no/N6.jpg\n",
            "./kaggle_tumor_detection/resized_no/No13.jpg\n",
            "./kaggle_tumor_detection/resized_no/no 99.jpg\n",
            "./kaggle_tumor_detection/resized_no/No17.jpg\n",
            "cannot create thumbnail for './kaggle_tumor_detection/brain_tumor_dataset/no/No17.jpg'\n",
            "./kaggle_tumor_detection/resized_no/no 92.jpg\n",
            "./kaggle_tumor_detection/resized_no/no 89.jpg\n",
            "./kaggle_tumor_detection/resized_no/no 2.jpg\n",
            "./kaggle_tumor_detection/resized_no/No20.jpg\n",
            "./kaggle_tumor_detection/resized_no/no 3.jpg\n",
            "./kaggle_tumor_detection/resized_no/no 94.jpg\n",
            "./kaggle_tumor_detection/resized_no/no 97.jpg\n",
            "./kaggle_tumor_detection/resized_no/No16.jpg\n",
            "./kaggle_tumor_detection/resized_no/no.jpg\n",
            "cannot create thumbnail for './kaggle_tumor_detection/brain_tumor_dataset/no/no.jpg'\n"
          ],
          "name": "stdout"
        }
      ]
    },
    {
      "cell_type": "code",
      "metadata": {
        "colab": {
          "base_uri": "https://localhost:8080/"
        },
        "id": "7fyQC4ZUtPQS",
        "outputId": "c944829a-fe71-4d0c-b5c0-41a2e7230920"
      },
      "source": [
        "!ls \"./kaggle_tumor_detection/resized_no/\""
      ],
      "execution_count": 35,
      "outputs": [
        {
          "output_type": "stream",
          "text": [
            "'10 no.jpg'  '27 no.jpg'  '42 no.jpg'\t N16.jpg       No14.jpg    'no 8.jpg'\n",
            "'11 no.jpg'  '28 no.jpg'  '43 no.jpg'\t N17.jpg       No15.jpg    'no 90.jpg'\n",
            "'12 no.jpg'  '29 no.jpg'   44no.jpg\t N19.JPG       No16.jpg    'no 91.jpeg'\n",
            "'13 no.jpg'  '2 no.jpeg'  '45 no.jpg'\t N1.JPG        No17.jpg    'no 923.jpg'\n",
            "'14 no.jpg'  '30 no.jpg'  '46 no.jpg'\t N20.JPG       No18.jpg    'no 92.jpg'\n",
            "'15 no.jpg'  '31 no.jpg'  '47 no.jpg'\t N21.jpg       No19.jpg    'no 94.jpg'\n",
            "'17 no.jpg'  '32 no.jpg'  '48 no.jpeg'\t N22.JPG      'no 1.jpg'   'no 95.jpg'\n",
            "'18 no.jpg'  '33 no.jpg'  '49 no.jpg'\t N26.JPG       No20.jpg    'no 96.jpg'\n",
            "'19 no.jpg'  '34 no.jpg'  '4 no.jpg'\t N2.JPG        No21.jpg    'no 97.jpg'\n",
            "'1 no.jpeg'  '35 no.jpg'  '50 no.jpg'\t N3.jpg        No22.jpg    'no 98.jpg'\n",
            "'20 no.jpg'  '36 no.jpg'  '5 no.jpg'\t N5.jpg       'no 2.jpg'   'no 99.jpg'\n",
            "'21 no.jpg'  '37 no.jpg'  '6 no.jpg'\t N6.jpg       'no 3.jpg'   'no 9.png'\n",
            "'22 no.jpg'  '38 no.jpg'  '7 no.jpg'\t'no 100.jpg'  'no 4.jpg'    no.jpg\n",
            "'23 no.jpg'  '39 no.jpg'  '8 no.jpg'\t'no 10.jpg'   'no 5.jpeg'\n",
            "'24 no.jpg'  '3 no.jpg'   '9 no.jpg'\t No11.jpg     'no 6.jpg'\n",
            "'25 no.jpg'  '40 no.jpg'   N11.jpg\t No12.jpg     'no 7.jpeg'\n",
            "'26 no.jpg'  '41 no.jpg'   N15.jpg\t No13.jpg     'no 89.jpg'\n"
          ],
          "name": "stdout"
        }
      ]
    },
    {
      "cell_type": "code",
      "metadata": {
        "id": "IbmHlB4LtR9z"
      },
      "source": [
        "# !mkdir \"./kaggle_tumor_detection/augmented_no/\"\n",
        "# !mkdir \"./kaggle_tumor_detection/augmented_yes/\""
      ],
      "execution_count": 36,
      "outputs": []
    },
    {
      "cell_type": "code",
      "metadata": {
        "colab": {
          "base_uri": "https://localhost:8080/"
        },
        "id": "6OdNieDNtrnR",
        "outputId": "ede53f84-9239-43e1-a3dc-b3afa3228b55"
      },
      "source": [
        "!ls ./kaggle_tumor_detection/"
      ],
      "execution_count": 38,
      "outputs": [
        {
          "output_type": "stream",
          "text": [
            "archive.zip   augmented_yes\t   output      resized_yes\n",
            "augmented_no  brain_tumor_dataset  resized_no  source.txt\n"
          ],
          "name": "stdout"
        }
      ]
    },
    {
      "cell_type": "code",
      "metadata": {
        "id": "HhRQ-yOwttGB"
      },
      "source": [
        "resized_yes_files = glob.glob('./kaggle_tumor_detection/resized_yes/*')\n",
        "resized_no_files = glob.glob('./kaggle_tumor_detection/resized_no/*')"
      ],
      "execution_count": 39,
      "outputs": []
    },
    {
      "cell_type": "code",
      "metadata": {
        "id": "TJSR7sELt8Ao"
      },
      "source": [
        "#https://www.kaggle.com/anisayari/simple-data-augmentation-fastai"
      ],
      "execution_count": null,
      "outputs": []
    },
    {
      "cell_type": "code",
      "metadata": {
        "id": "kX0q5sGtAsHv"
      },
      "source": [
        ""
      ],
      "execution_count": null,
      "outputs": []
    }
  ]
}