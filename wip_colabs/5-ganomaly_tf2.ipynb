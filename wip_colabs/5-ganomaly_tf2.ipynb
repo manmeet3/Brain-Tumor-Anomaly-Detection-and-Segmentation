{
  "nbformat": 4,
  "nbformat_minor": 0,
  "metadata": {
    "colab": {
      "name": "Welcome To Colaboratory",
      "provenance": [],
      "collapsed_sections": [],
      "toc_visible": true,
      "include_colab_link": true
    },
    "kernelspec": {
      "display_name": "Python 3",
      "name": "python3"
    }
  },
  "cells": [
    {
      "cell_type": "markdown",
      "metadata": {
        "id": "view-in-github",
        "colab_type": "text"
      },
      "source": [
        "<a href=\"https://colab.research.google.com/github/manmeet3/Masters_Project/blob/master/wip_colabs/5-ganomaly_tf2.ipynb\" target=\"_parent\"><img src=\"https://colab.research.google.com/assets/colab-badge.svg\" alt=\"Open In Colab\"/></a>"
      ]
    },
    {
      "cell_type": "code",
      "metadata": {
        "id": "KXkoVEkWronw"
      },
      "source": [
        "# https://www.groundai.com/project/ganomaly-semi-supervised-anomaly-detection-via-adversarial-training/1"
      ],
      "execution_count": null,
      "outputs": []
    },
    {
      "cell_type": "markdown",
      "metadata": {
        "id": "iGwuLlM7rs7o"
      },
      "source": [
        "https://github.com/chychen/tf2-ganomaly"
      ]
    },
    {
      "cell_type": "code",
      "metadata": {
        "id": "P1LytNWdqguQ",
        "outputId": "952d30ac-3e32-4411-9a34-ef38dd079941",
        "colab": {
          "base_uri": "https://localhost:8080/"
        }
      },
      "source": [
        "from google.colab import drive\r\n",
        "drive.mount(\"/content/drive\", force_remount=True)"
      ],
      "execution_count": 1,
      "outputs": [
        {
          "output_type": "stream",
          "text": [
            "Mounted at /content/drive\n"
          ],
          "name": "stdout"
        }
      ]
    },
    {
      "cell_type": "code",
      "metadata": {
        "id": "E4odjevGqhkd",
        "outputId": "0d5ae5b6-1a39-45ad-eb48-e0084fe4aaaa",
        "colab": {
          "base_uri": "https://localhost:8080/"
        }
      },
      "source": [
        "%cd /content/drive/MyDrive/Masters_Project/Datasets/OASIS3/"
      ],
      "execution_count": 12,
      "outputs": [
        {
          "output_type": "stream",
          "text": [
            "/content/drive/.shortcut-targets-by-id/1bqqm9-0FMOqiqyH_NIQBh-lJ36pWa7aX/Masters_Project/Datasets/OASIS3\n"
          ],
          "name": "stdout"
        }
      ]
    },
    {
      "cell_type": "code",
      "metadata": {
        "id": "pFf-uzo_q7iL",
        "outputId": "24493432-e48c-4b1f-c50e-6fa7548c5d7e",
        "colab": {
          "base_uri": "https://localhost:8080/"
        }
      },
      "source": [
        "# %cd ganomaly_tf2\r\n",
        "# !wget https://raw.githubusercontent.com/chychen/tf2-ganomaly/master/metrics.py\r\n",
        "# !wget https://raw.githubusercontent.com/chychen/tf2-ganomaly/master/model.py\r\n",
        "# !wget https://raw.githubusercontent.com/chychen/tf2-ganomaly/master/train.py"
      ],
      "execution_count": 9,
      "outputs": [
        {
          "output_type": "stream",
          "text": [
            "--2021-03-03 20:00:26--  https://raw.githubusercontent.com/chychen/tf2-ganomaly/master/metrics.py\n",
            "Resolving raw.githubusercontent.com (raw.githubusercontent.com)... 185.199.108.133, 185.199.109.133, 185.199.110.133, ...\n",
            "Connecting to raw.githubusercontent.com (raw.githubusercontent.com)|185.199.108.133|:443... connected.\n",
            "HTTP request sent, awaiting response... 200 OK\n",
            "Length: 2263 (2.2K) [text/plain]\n",
            "Saving to: ‘metrics.py.1’\n",
            "\n",
            "\rmetrics.py.1          0%[                    ]       0  --.-KB/s               \rmetrics.py.1        100%[===================>]   2.21K  --.-KB/s    in 0.001s  \n",
            "\n",
            "2021-03-03 20:00:26 (4.04 MB/s) - ‘metrics.py.1’ saved [2263/2263]\n",
            "\n",
            "--2021-03-03 20:00:26--  https://raw.githubusercontent.com/chychen/tf2-ganomaly/master/model.py\n",
            "Resolving raw.githubusercontent.com (raw.githubusercontent.com)... 185.199.110.133, 185.199.109.133, 185.199.108.133, ...\n",
            "Connecting to raw.githubusercontent.com (raw.githubusercontent.com)|185.199.110.133|:443... connected.\n",
            "HTTP request sent, awaiting response... 200 OK\n",
            "Length: 19689 (19K) [text/plain]\n",
            "Saving to: ‘model.py.1’\n",
            "\n",
            "model.py.1          100%[===================>]  19.23K  --.-KB/s    in 0.001s  \n",
            "\n",
            "2021-03-03 20:00:26 (13.2 MB/s) - ‘model.py.1’ saved [19689/19689]\n",
            "\n",
            "--2021-03-03 20:00:26--  https://raw.githubusercontent.com/chychen/tf2-ganomaly/master/train.py\n",
            "Resolving raw.githubusercontent.com (raw.githubusercontent.com)... 185.199.108.133, 185.199.109.133, 185.199.111.133, ...\n",
            "Connecting to raw.githubusercontent.com (raw.githubusercontent.com)|185.199.108.133|:443... connected.\n",
            "HTTP request sent, awaiting response... 200 OK\n",
            "Length: 4104 (4.0K) [text/plain]\n",
            "Saving to: ‘train.py’\n",
            "\n",
            "train.py            100%[===================>]   4.01K  --.-KB/s    in 0.001s  \n",
            "\n",
            "2021-03-03 20:00:26 (4.35 MB/s) - ‘train.py’ saved [4104/4104]\n",
            "\n"
          ],
          "name": "stdout"
        }
      ]
    },
    {
      "cell_type": "code",
      "metadata": {
        "id": "AATRtv9srdvp",
        "outputId": "afcccba4-0c54-4749-bbb9-7455061a7d32",
        "colab": {
          "base_uri": "https://localhost:8080/"
        }
      },
      "source": [
        "%matplotlib inline\r\n",
        "import tensorflow as tf\r\n",
        "from tensorflow.keras import layers\r\n",
        "print(tf.__version__)\r\n",
        "import os\r\n",
        "import time\r\n",
        "import numpy as np\r\n",
        "import cv2\r\n",
        "import matplotlib.pyplot as plt\r\n",
        "from IPython.display import clear_output\r\n",
        "from ganomaly_tf2.model import GANomaly\r\n",
        "from absl import logging\r\n",
        "logging.set_verbosity(logging.INFO)\r\n",
        "logging.set_stderrthreshold(logging.INFO)"
      ],
      "execution_count": 13,
      "outputs": [
        {
          "output_type": "stream",
          "text": [
            "2.4.1\n"
          ],
          "name": "stdout"
        }
      ]
    },
    {
      "cell_type": "code",
      "metadata": {
        "id": "ueHQqtypr8kH"
      },
      "source": [
        "def batch_resize(imgs, size: tuple):\r\n",
        "    img_out = np.empty((imgs.shape[0],) + size)\r\n",
        "    for i in range(imgs.shape[0]):\r\n",
        "        img_out[i] = cv2.resize(imgs[i], size, interpolation=cv2.INTER_CUBIC)\r\n",
        "    return img_out"
      ],
      "execution_count": 11,
      "outputs": []
    },
    {
      "cell_type": "code",
      "metadata": {
        "id": "gjZwaE0KsCyO"
      },
      "source": [
        "class Option:\r\n",
        "    def __init__(self):\r\n",
        "        self.anomaly = 2 # the anomaly digit\r\n",
        "        self.shuffle_buffer_size = 10000\r\n",
        "        self.batch_size = 300\r\n",
        "        self.isize = 256 # input size\r\n",
        "        self.ckpt_dir = \"ckpt\"\r\n",
        "        self.nz = 100 # latent dims\r\n",
        "        self.nc = 1 # input channels\r\n",
        "        self.ndf = 64 # number of discriminator's filters\r\n",
        "        self.ngf = 64 # number of generator's filters\r\n",
        "        self.extralayers = 0\r\n",
        "        self.niter = 15 # number of training epochs\r\n",
        "        self.lr = 2e-4 \r\n",
        "        self.w_adv = 1. # Adversarial loss weight\r\n",
        "        self.w_con = 50. # Reconstruction loss weight\r\n",
        "        self.w_enc = 1. # Encoder loss weight.\r\n",
        "        self.beta1 = 0.5\r\n",
        "            \r\n",
        "opt = Option()"
      ],
      "execution_count": 14,
      "outputs": []
    },
    {
      "cell_type": "code",
      "metadata": {
        "id": "WkAMiBZKytN2"
      },
      "source": [
        "data_train, data_test = tf.keras.datasets.mnist.load_data()\r\n",
        "# (x_train, y_train), (x_test, y_test) = tf.keras.datasets.mnist.load_data()"
      ],
      "execution_count": 41,
      "outputs": []
    }
  ]
}